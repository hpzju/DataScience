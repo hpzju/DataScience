{
 "cells": [
  {
   "cell_type": "markdown",
   "metadata": {},
   "source": [
    "# Domains"
   ]
  },
  {
   "cell_type": "markdown",
   "metadata": {},
   "source": [
    "## Business\n",
    "\n",
    "### Business Model"
   ]
  },
  {
   "cell_type": "markdown",
   "metadata": {},
   "source": [
    "## SGM: Strategy, Governance, Management\n",
    "\n",
    "### GM-COBIT\n",
    "### EA-TOGAF\n",
    "### ITSM-ITIL\n",
    "### PM-PMBOK"
   ]
  },
  {
   "cell_type": "markdown",
   "metadata": {},
   "source": [
    "### Strategy"
   ]
  },
  {
   "cell_type": "markdown",
   "metadata": {},
   "source": [
    "### Governance"
   ]
  },
  {
   "cell_type": "markdown",
   "metadata": {},
   "source": [
    "- Governance Stack\n",
    "    - Law/Regulation\n",
    "    - Industry Standards\n",
    "    - Industry Framework\n",
    "    - Organizational Governance Stack\n",
    "        - Policy\n",
    "        - Guideline\n",
    "        - Best Practice\n",
    "        - Artifacts"
   ]
  },
  {
   "cell_type": "markdown",
   "metadata": {},
   "source": [
    "### Management"
   ]
  },
  {
   "cell_type": "markdown",
   "metadata": {},
   "source": [
    "# Models"
   ]
  },
  {
   "cell_type": "markdown",
   "metadata": {},
   "source": [
    "## Bloom's Taxonomy"
   ]
  },
  {
   "cell_type": "markdown",
   "metadata": {},
   "source": [
    "### Cognitive Development"
   ]
  },
  {
   "cell_type": "markdown",
   "metadata": {},
   "source": [
    "- Remember\n",
    "  - Recognizing\n",
    "  - Recalling\n",
    "- Understand\n",
    "  - Interpreting\n",
    "  - Exemplifying\n",
    "  - Classifying\n",
    "  - Summarizing\n",
    "  - Inferring\n",
    "  - Comparing\n",
    "  - Explaining\n",
    "- Apply\n",
    "  - Executing\n",
    "  - Implementing\n",
    "- Analyze\n",
    "  - Differentiating\n",
    "  - Organizing\n",
    "  - Attributing\n",
    "- Evaluate\n",
    "  - Checking\n",
    "  - Critiquing\n",
    "- Create\n",
    "  - Generating\n",
    "  - Planning\n",
    "  - Producing"
   ]
  },
  {
   "cell_type": "markdown",
   "metadata": {},
   "source": [
    "- <img src=\"BoomTaxonomy.png\" alt=\"drawing\" width=\"600\" height=\"800\" />"
   ]
  },
  {
   "cell_type": "markdown",
   "metadata": {},
   "source": [
    "## Pyramid Principles"
   ]
  },
  {
   "cell_type": "markdown",
   "metadata": {},
   "source": [
    "- 7 Short Concepts Principle\n",
    "    - 5-9 items in short memeory\n",
    "- Abstract: Categorize\n",
    "- Structure: \n",
    "    - Horizontal\n",
    "    - Vertical\n",
    "- MECE principle\n",
    "    - mutually exclusive and collectively exhaustive\n",
    "- Deductive Structure\n",
    "    - Top-down: Deductive reasoning\n",
    "        - First premise\n",
    "        - Second premise\n",
    "        - Conclusion\n",
    "- Inductive Structure\n",
    "    - Bottom-up: Inductive reasoning\n",
    "- Continuum Structure: Time, Space, Degree\n",
    "- SCQA Structure:\n",
    "    - Situation\n",
    "    - Complication\n",
    "    - Question\n",
    "    - Anwser\n"
   ]
  },
  {
   "cell_type": "markdown",
   "metadata": {},
   "source": [
    "## DIKW Pyramid"
   ]
  },
  {
   "cell_type": "markdown",
   "metadata": {},
   "source": [
    "- Data\n",
    "- Information\n",
    "- Knowledge\n",
    "- Wisdom"
   ]
  },
  {
   "cell_type": "markdown",
   "metadata": {},
   "source": [
    "## Strategy Models"
   ]
  },
  {
   "cell_type": "markdown",
   "metadata": {},
   "source": [
    "### 7S Model "
   ]
  },
  {
   "cell_type": "markdown",
   "metadata": {},
   "source": [
    "- Strategy\n",
    "- Structure\n",
    "- System\n",
    "- Style\n",
    "- Skill\n",
    "- Staff\n",
    "- Super-ordinary Goal"
   ]
  },
  {
   "cell_type": "markdown",
   "metadata": {},
   "source": [
    "### SOSTAC Model"
   ]
  },
  {
   "cell_type": "markdown",
   "metadata": {},
   "source": [
    "- Situation\n",
    "  - where you are\n",
    "- Objective\n",
    "  - what you want\n",
    "- Strategy\n",
    "  - how to get there\n",
    "- Tactic\n",
    "  - tools to hepl you get there\n",
    "- Action\n",
    "  - details on how to get there\n",
    "- Control\n",
    "  - how to measure performance"
   ]
  },
  {
   "cell_type": "markdown",
   "metadata": {},
   "source": [
    "## Vison to Measurements Model"
   ]
  },
  {
   "cell_type": "markdown",
   "metadata": {},
   "source": [
    "- Vision\n",
    "- Mission\n",
    "- Goals\n",
    "- Objectives\n",
    "- Critical Success Factors\n",
    "- KPIs\n",
    "- Metrics\n",
    "- Measurements"
   ]
  },
  {
   "cell_type": "markdown",
   "metadata": {},
   "source": [
    "## SMART Objectives criteria"
   ]
  },
  {
   "cell_type": "markdown",
   "metadata": {},
   "source": [
    "- Specific\n",
    "- Measurable\n",
    "- Attainable\n",
    "- Relevant\n",
    "- Time-bound"
   ]
  },
  {
   "cell_type": "markdown",
   "metadata": {},
   "source": [
    "## Deming Cycle/PDCA Cycle/PDSA Cycle"
   ]
  },
  {
   "cell_type": "markdown",
   "metadata": {},
   "source": [
    "- PDCA: Plan / Do / Check / Action\n",
    "- PDSA: Plan / Do / Study / Action"
   ]
  },
  {
   "cell_type": "markdown",
   "metadata": {},
   "source": [
    "## RACI Model/Authority Matrix"
   ]
  },
  {
   "cell_type": "markdown",
   "metadata": {},
   "source": [
    "- RACI: Responsible / Accountable / Consulted / Informed\n",
    "- Matrix:\n",
    "  - Rows: Activities\n",
    "  - Columns: Roles"
   ]
  },
  {
   "cell_type": "markdown",
   "metadata": {},
   "source": [
    "## SWOT analysis"
   ]
  },
  {
   "cell_type": "markdown",
   "metadata": {},
   "source": [
    "- Strengths: \n",
    "  - characteristics of the business or project that give it an advantage over others.\n",
    "- Weaknesses: \n",
    "  - characteristics of the business that place the business or project at a disadvantage relative to others.\n",
    "- Opportunities: \n",
    "  - elements in the environment that the business or project could exploit to its advantage.\n",
    "- Threats: \n",
    "  - elements in the environment that could cause trouble for the business or project\n",
    "  \n",
    "- SWOT Diagram\n",
    "  - <img src=\"SWOT.png\" alt=\"drawing\" width=\"400\" height=\"400\" />"
   ]
  },
  {
   "cell_type": "markdown",
   "metadata": {},
   "source": [
    "## PESTLE Model "
   ]
  },
  {
   "cell_type": "markdown",
   "metadata": {},
   "source": [
    "<img src=\"PESTLEAnalysis.png\" alt=\"drawing\" width=\"800\" height=\"600\" />"
   ]
  },
  {
   "cell_type": "markdown",
   "metadata": {},
   "source": [
    "## Porter's Five Forces Model for Competitiveness\n",
    "\n"
   ]
  },
  {
   "cell_type": "markdown",
   "metadata": {},
   "source": [
    "<img src=\"PorterFiveForcesModel.png\" alt=\"drawing\" width=\"600\" height=\"600\" />\n"
   ]
  },
  {
   "cell_type": "markdown",
   "metadata": {},
   "source": [
    "## Norton Kaplan Strategy Map"
   ]
  },
  {
   "cell_type": "markdown",
   "metadata": {},
   "source": [
    "<img src=\"NortonKaplanStrategyMap.png\" alt=\"drawing\" width=\"700\" height=\"600\" />\n"
   ]
  },
  {
   "cell_type": "markdown",
   "metadata": {},
   "source": [
    "<img src=\"NortonKaplanStrategyMap-8Steps.png\" alt=\"drawing\" width=\"700\" height=\"600\" />\n"
   ]
  },
  {
   "cell_type": "markdown",
   "metadata": {},
   "source": [
    "# END"
   ]
  }
 ],
 "metadata": {
  "kernelspec": {
   "display_name": "Python 3",
   "language": "python",
   "name": "python3"
  },
  "language_info": {
   "codemirror_mode": {
    "name": "ipython",
    "version": 3
   },
   "file_extension": ".py",
   "mimetype": "text/x-python",
   "name": "python",
   "nbconvert_exporter": "python",
   "pygments_lexer": "ipython3",
   "version": "3.7.7"
  },
  "toc": {
   "base_numbering": 1,
   "nav_menu": {},
   "number_sections": true,
   "sideBar": true,
   "skip_h1_title": false,
   "title_cell": "Table of Contents",
   "title_sidebar": "Contents",
   "toc_cell": false,
   "toc_position": {
    "height": "calc(100% - 180px)",
    "left": "10px",
    "top": "150px",
    "width": "235.63px"
   },
   "toc_section_display": true,
   "toc_window_display": true
  }
 },
 "nbformat": 4,
 "nbformat_minor": 2
}
