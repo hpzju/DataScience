{
 "cells": [
  {
   "cell_type": "markdown",
   "metadata": {},
   "source": [
    "# Domains"
   ]
  },
  {
   "cell_type": "markdown",
   "metadata": {},
   "source": [
    "## Business\n",
    "\n",
    "### Business Model\n",
    "\n",
    "## SGM\n",
    "\n",
    "### GM-COBIT\n",
    "### EA-TOGAF\n",
    "### ITSM-ITIL\n",
    "### PM-PMBOK"
   ]
  },
  {
   "cell_type": "markdown",
   "metadata": {},
   "source": [
    "# Models"
   ]
  },
  {
   "cell_type": "markdown",
   "metadata": {
    "heading_collapsed": true
   },
   "source": [
    "## Bloom's Taxonomy"
   ]
  },
  {
   "cell_type": "markdown",
   "metadata": {
    "hidden": true
   },
   "source": [
    "### Cognitive Development"
   ]
  },
  {
   "cell_type": "markdown",
   "metadata": {
    "hidden": true
   },
   "source": [
    "- Remember\n",
    "  - Recognizing\n",
    "  - Recalling\n",
    "- Understand\n",
    "  - Interpreting\n",
    "  - Exemplifying\n",
    "  - Classifying\n",
    "  - Summarizing\n",
    "  - Inferring\n",
    "  - Comparing\n",
    "  - Explaining\n",
    "- Apply\n",
    "  - Executing\n",
    "  - Implementing\n",
    "- Analyze\n",
    "  - Differentiating\n",
    "  - Organizing\n",
    "  - Attributing\n",
    "- Evaluate\n",
    "  - Checking\n",
    "  - Critiquing\n",
    "- Create\n",
    "  - Generating\n",
    "  - Planning\n",
    "  - Producing"
   ]
  },
  {
   "cell_type": "markdown",
   "metadata": {
    "heading_collapsed": true
   },
   "source": [
    "## DIKW Pyramid"
   ]
  },
  {
   "cell_type": "markdown",
   "metadata": {
    "hidden": true
   },
   "source": [
    "- Data\n",
    "- Information\n",
    "- Knowledge\n",
    "- Wisdom"
   ]
  },
  {
   "cell_type": "code",
   "execution_count": null,
   "metadata": {
    "hidden": true
   },
   "outputs": [],
   "source": []
  }
 ],
 "metadata": {
  "kernelspec": {
   "display_name": "Python 3",
   "language": "python",
   "name": "python3"
  },
  "language_info": {
   "codemirror_mode": {
    "name": "ipython",
    "version": 3
   },
   "file_extension": ".py",
   "mimetype": "text/x-python",
   "name": "python",
   "nbconvert_exporter": "python",
   "pygments_lexer": "ipython3",
   "version": "3.7.5"
  },
  "toc": {
   "base_numbering": 1,
   "nav_menu": {},
   "number_sections": true,
   "sideBar": true,
   "skip_h1_title": false,
   "title_cell": "Table of Contents",
   "title_sidebar": "Contents",
   "toc_cell": false,
   "toc_position": {},
   "toc_section_display": true,
   "toc_window_display": true
  }
 },
 "nbformat": 4,
 "nbformat_minor": 2
}
