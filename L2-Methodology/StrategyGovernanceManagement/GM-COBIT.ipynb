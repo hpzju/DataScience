{
 "cells": [
  {
   "cell_type": "markdown",
   "metadata": {},
   "source": [
    "# IT Governance"
   ]
  },
  {
   "cell_type": "markdown",
   "metadata": {},
   "source": [
    "## Intro"
   ]
  },
  {
   "cell_type": "markdown",
   "metadata": {},
   "source": [
    "- Enterprise Governance\n",
    "  - Performance with conformance\n",
    "    - Governance is about meeting strategic objectives (performance) while meeting legal and regulatory, contractual and other obligatory requirements often supported by policies (conformance)\n",
    "  - Governance is the process of decision making and the process by which decisions are implemented, directed and controlled\n",
    "  - a set of organizational regulations, standards, and policies that exercised by managagement to provide stategic direction and ensure that objectives are achived, risks are managed appropriately, and resources are used responsibly.\n",
    "\n",
    "- Purpose\n",
    "  - Creates continuity of expectations\n",
    "  - Creates consistency of management\n",
    "  - Codifies decision making rights & responsibilities\n",
    "  - Strengthens compliance by reducing various institutional risks\n"
   ]
  },
  {
   "cell_type": "markdown",
   "metadata": {},
   "source": [
    "- Enterprise IT Governance\n",
    "  - the policies and guidelines about strategic objectives linking business goals to IT goals and processes\n",
    "    - Enterprise Strategy\n",
    "    - Businss Goals for IT\n",
    "    - IT Goals\n",
    "    - Enterprise Architecture for IT\n",
    "    - Performance Measurement\n",
    "  - Benifits: \n",
    "    - IT aligns with Businsess\n",
    "    - reduced risk\n",
    "    - better service quality\n",
    "    - lower financial cost\n",
    "    - increase value\n",
    "  - Domain of Interest\n",
    "    - Strategic Alignment\n",
    "    - Value Delivery\n",
    "    - Resource Management\n",
    "    - Risk Management\n",
    "    - Performance Measurement"
   ]
  },
  {
   "cell_type": "markdown",
   "metadata": {},
   "source": [
    "## Governance to Action"
   ]
  },
  {
   "cell_type": "markdown",
   "metadata": {},
   "source": [
    "### Determine Expected Business Value of IT "
   ]
  },
  {
   "cell_type": "markdown",
   "metadata": {},
   "source": [
    "- Determine Expected Business Value of IT \n",
    "  - Expand market share \n",
    "  - Increase revenue \n",
    "  - Return on investment \n",
    "  - Optimise asset utilisation \n",
    "  - Manage business risks \n",
    "  - Improve customer orientation and service \n",
    "  - Offer competitive products and services \n",
    "  - Service availability \n",
    "  - Agility in responding to changing business requirements \n",
    "  - Cost optimisation of service delivery\n",
    "  - Automate and integrate the enterprise value chain\n",
    "  - Improve and maintain business process functionality \n",
    "  - Lower process costs \n",
    "  - Compliance with external laws and regulations \n",
    "  - Transparency \n",
    "  - Compliance with internal policies \n",
    "  - Improve and maintain operational and staff productivity \n",
    "  - Product/business innovation \n",
    "  - Obtain reliable and useful information for strategic decision making \n",
    "  - Acquire and maintain skilled and motivated personnel"
   ]
  },
  {
   "cell_type": "markdown",
   "metadata": {},
   "source": [
    "### Set the Appropriate IT Goals in Business "
   ]
  },
  {
   "cell_type": "markdown",
   "metadata": {},
   "source": [
    "- IT Goals\n",
    "  - Respond to business requirements in alignment with the business strategy \n",
    "  - Respond to governance requirements in line with board direction 3. \n",
    "  - Ensure satisfaction of end users with service offerings and service levels \n",
    "  - Optimise the use of information 5\n",
    "  - Create IT agility \n",
    "  - Define how business functional and control requirements are translated in effective and efficient automated solutions \n",
    "  - Acquire and maintain integrated and standardised application systems  \n",
    "  - Acquire and maintain an integrated and standardised IT infrastructure \n",
    "  - Acquire and maintain IT skills that respond to the IT strategy \n",
    "  - Ensure mutual satisfaction of third-party relationships \n",
    "  - Seamlessly integrate applications and technology solutions into business processes \n",
    "  - Ensure transparency and understanding of IT cost, benefits, strategy, policies and service levels \n",
    "  - Ensure proper use and performance of the applications and technology solutions\n",
    "  - Account for and protect all IT assets\n",
    "  - Optimise the IT infrastructure, resources and capabilities \n",
    "  - Reduce solution and service delivery defects and rework \n",
    "  - Protect the achievement of IT objectives \n",
    "  - Establish clarity of business impact of risks to IT objectives and resources \n",
    "  - Ensure critical and confidential information is withheld from those who should not have access to it \n",
    "  - Ensure automated business transactions and information exchanges can be trusted \n",
    "  - Ensure IT services and infrastructure can properly resist and recover from failures due to error, delivery attack or disaster\n",
    "  - Ensure minimum business impact in the event of an IT service disruption or change \n",
    "  - Make sure that IT services are available as required \n",
    "  - Improve IT’s cost-efficiency and its contribution to business profitability \n",
    "  - Deliver projects on time and on budget meeting quality standards \n",
    "  - Maintain the integrity of information and processing infrastructure \n",
    "  - Ensure IT compliance with laws and regulations \n",
    "  - Ensure that IT demonstrates cost-efficient service quality, continuous improvement and readiness for future change"
   ]
  },
  {
   "cell_type": "markdown",
   "metadata": {},
   "source": [
    "### Define Related IT Process to be Focused "
   ]
  },
  {
   "cell_type": "markdown",
   "metadata": {},
   "source": []
  },
  {
   "cell_type": "markdown",
   "metadata": {},
   "source": [
    "### Understand the Control Objectives and Other Process Characters"
   ]
  },
  {
   "cell_type": "markdown",
   "metadata": {},
   "source": []
  },
  {
   "cell_type": "markdown",
   "metadata": {},
   "source": [
    "### Audit the Process for Increasing Maturity Level"
   ]
  },
  {
   "cell_type": "markdown",
   "metadata": {},
   "source": []
  },
  {
   "cell_type": "markdown",
   "metadata": {},
   "source": [
    "# COBIT 5"
   ]
  },
  {
   "cell_type": "markdown",
   "metadata": {},
   "source": [
    "## COBIT 5 Framework"
   ]
  },
  {
   "cell_type": "markdown",
   "metadata": {},
   "source": [
    "- COBIT: Control Objectives for Information and related Technology\n",
    "  - Developed by ISACA(Information Systems Audit and Control Association)\n",
    "  - Business framework for the governance and management of enterprise IT"
   ]
  },
  {
   "cell_type": "markdown",
   "metadata": {},
   "source": [
    "- Governance and Mangement of IT\n",
    "  - EDM: Governance ensures the enterprise objectives are achived by Evaluating stakeholder's needs, conditions and options; setting Direction through prioritisation and decision making; Mornitoring performance, compliance and progress against agreed-on direction and objective\n",
    "  - PBRM: Management plans, builds, runs and monitors activities in alignment with the direction set by governance body to achieve enterprise objective"
   ]
  },
  {
   "cell_type": "markdown",
   "metadata": {},
   "source": [
    "![COBIT5-GovernanceModel](COBIT5-GovernanceModel.png)"
   ]
  },
  {
   "cell_type": "markdown",
   "metadata": {},
   "source": [
    "### 5 Principles"
   ]
  },
  {
   "cell_type": "markdown",
   "metadata": {},
   "source": [
    "- Meetring Stakehold needs\n",
    "  - Governance Objectives: Value Creation\n",
    "    - Benifits Realisation\n",
    "    - Risk Optimization\n",
    "    - Resources Optimization\n",
    "  - Goals Cascading\n",
    "    - Stakeholders Drivers\n",
    "    - Stakeholders Needs\n",
    "    - Enterprise Goals\n",
    "    - IT Goals\n",
    "    - Enablers Goals\n",
    "- Covering the enterprise E2E\n",
    "  - Governance Model\n",
    "    - Governance Objectives\n",
    "    - Governance Enablers/Scope\n",
    "    - Roles/Activities/Relationships\n",
    "- Applying the single integration framework\n",
    "  - Framework Integration\n",
    "- Enabling a holistic approach\n",
    "  - Involve 7 Enablers\n",
    "    - Enabler Dimentions\n",
    "    - Enabler Performance\n",
    "- Seperating governance from management\n",
    "  - Governance\n",
    "    - Evaluate, Direct, Monitor\n",
    "  - Management\n",
    "    - Plan(APO)\n",
    "      - Align, Plan, Organize\n",
    "    - Build(BAI)\n",
    "      - Build, Acquire, Implement\n",
    "    - Run(DSS)\n",
    "      - Deliver, Service, Support\n",
    "    - Monitor(MEA)\n",
    "      - Monitor, Evaluate, Assess"
   ]
  },
  {
   "cell_type": "markdown",
   "metadata": {},
   "source": [
    "### 7 Enterprise Enablers"
   ]
  },
  {
   "cell_type": "markdown",
   "metadata": {},
   "source": [
    "- Principles, Policies, Frameworks\n",
    "- Process\n",
    "- Organizational Structure\n",
    "- Culture, Ethics, Behaviour\n",
    "- Information\n",
    "- Service, Infrastructure, Applications\n",
    "- People, Skills, Competencies"
   ]
  },
  {
   "cell_type": "markdown",
   "metadata": {},
   "source": [
    "### Process Model"
   ]
  },
  {
   "cell_type": "markdown",
   "metadata": {},
   "source": [
    "- Governance Domain(EDA)\n",
    "  - EDA(Evaluate, Direct, Monitor)\n",
    "- Management Domain(PBRM)\n",
    "  - Plan: APO(Align, Plan, Organize)\n",
    "  - Build: BAI(Build, Acquire, Implement)\n",
    "  - Run: DSS(Deliver, Service, Support)\n",
    "  - Monitor: MEA(Monitor, Evaluate, Assess)"
   ]
  },
  {
   "cell_type": "markdown",
   "metadata": {},
   "source": [
    "## COBIT 5 Implementation"
   ]
  },
  {
   "cell_type": "code",
   "execution_count": null,
   "metadata": {},
   "outputs": [],
   "source": []
  },
  {
   "cell_type": "markdown",
   "metadata": {},
   "source": [
    "## COBIT 5 Assessment"
   ]
  },
  {
   "cell_type": "markdown",
   "metadata": {},
   "source": [
    "- CMM for Process\n",
    "  - Initial\n",
    "  - Repeatable\n",
    "  - Defined\n",
    "  - Managed\n",
    "  - Optimized"
   ]
  },
  {
   "cell_type": "code",
   "execution_count": null,
   "metadata": {},
   "outputs": [],
   "source": []
  },
  {
   "cell_type": "code",
   "execution_count": null,
   "metadata": {},
   "outputs": [],
   "source": []
  },
  {
   "cell_type": "markdown",
   "metadata": {},
   "source": [
    "# COBIT 2019"
   ]
  },
  {
   "cell_type": "markdown",
   "metadata": {},
   "source": [
    "## Introduction and Methodology"
   ]
  },
  {
   "cell_type": "markdown",
   "metadata": {},
   "source": [
    "- System Principle:\n",
    "  - Providing Stakeholder Value by satisfying needs 2. Holistic approach through the governance enablers 3. Dynamic Governance System 4. Separate Governance from Management 5. Tailored to the Enterprise Needs 6. End-to-End Governance System System Principles \n",
    "\n",
    "- Framework Principle\n",
    "  - Based on Conceptual descriptive and prescriptive model 2. Based on Open and Flexible Standards 3. Aligned to Major Standards Framework Principle"
   ]
  },
  {
   "cell_type": "markdown",
   "metadata": {},
   "source": [
    "## Governance and Management Objectives"
   ]
  },
  {
   "cell_type": "code",
   "execution_count": null,
   "metadata": {},
   "outputs": [],
   "source": []
  },
  {
   "cell_type": "markdown",
   "metadata": {},
   "source": [
    "## Design Guide"
   ]
  },
  {
   "cell_type": "code",
   "execution_count": null,
   "metadata": {},
   "outputs": [],
   "source": []
  },
  {
   "cell_type": "markdown",
   "metadata": {},
   "source": [
    "## Implementation Guide"
   ]
  },
  {
   "cell_type": "code",
   "execution_count": null,
   "metadata": {},
   "outputs": [],
   "source": []
  },
  {
   "cell_type": "code",
   "execution_count": null,
   "metadata": {},
   "outputs": [],
   "source": []
  }
 ],
 "metadata": {
  "kernelspec": {
   "display_name": "Python 3",
   "language": "python",
   "name": "python3"
  },
  "language_info": {
   "codemirror_mode": {
    "name": "ipython",
    "version": 3
   },
   "file_extension": ".py",
   "mimetype": "text/x-python",
   "name": "python",
   "nbconvert_exporter": "python",
   "pygments_lexer": "ipython3",
   "version": "3.7.5"
  },
  "toc": {
   "base_numbering": 1,
   "nav_menu": {},
   "number_sections": true,
   "sideBar": true,
   "skip_h1_title": false,
   "title_cell": "Table of Contents",
   "title_sidebar": "Contents",
   "toc_cell": false,
   "toc_position": {},
   "toc_section_display": true,
   "toc_window_display": true
  }
 },
 "nbformat": 4,
 "nbformat_minor": 2
}
