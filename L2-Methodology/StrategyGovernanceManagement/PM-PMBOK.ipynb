{
 "cells": [
  {
   "cell_type": "markdown",
   "metadata": {},
   "source": [
    "# PMBOK Overview"
   ]
  },
  {
   "cell_type": "markdown",
   "metadata": {},
   "source": [
    "## PMP Framework"
   ]
  },
  {
   "cell_type": "markdown",
   "metadata": {},
   "source": [
    "- Hierarchy\n",
    "  - Project\n",
    "  - Program \n",
    "  - Portfolio"
   ]
  },
  {
   "cell_type": "markdown",
   "metadata": {},
   "source": []
  },
  {
   "cell_type": "markdown",
   "metadata": {},
   "source": [
    "## Project Engagement Model"
   ]
  },
  {
   "cell_type": "markdown",
   "metadata": {},
   "source": [
    "- PEM\n",
    "  - ![Project Engagement Model](PM-ProjectEngagementModel.png)"
   ]
  },
  {
   "cell_type": "code",
   "execution_count": null,
   "metadata": {},
   "outputs": [],
   "source": []
  },
  {
   "cell_type": "markdown",
   "metadata": {},
   "source": [
    "# Project Life Cycle"
   ]
  },
  {
   "cell_type": "markdown",
   "metadata": {},
   "source": [
    "## Project Conception and Initiation"
   ]
  },
  {
   "cell_type": "markdown",
   "metadata": {},
   "source": [
    "○ KAs & Processes\n",
    "    § KAs\n",
    "        □ Project Integration\n",
    "        □ Stakeholder\n",
    "    § Processes\n",
    "        □ Develop Project Charter\n",
    "            ® Business Need\n",
    "            ® Cost/Benefit Statement\n",
    "            ® Assumptions and Constrains\n",
    "            ® High Level Schedule\n",
    "            ® Risks\n",
    "            ® Success Criteria\n",
    "        □ Identify Stakeholders\n",
    "            ® Project Sponsor\n",
    "            ® Project Acceptor\n",
    "            ® Steering Committee\n",
    "            ® Interested Parties\n",
    "            ® Hold-back Forces\n",
    "        □ Project Assessment\n",
    "            ® \n",
    "        □ Identifying Key Deliverables\n",
    "            ®  Project Methodology\n",
    "                ◊ Analysis\n",
    "                    } Current Situation\n",
    "                    } Market Survey\n",
    "                    } Requirement\n",
    "                ◊ Design\n",
    "                    } Xx\n",
    "                    } Xxx\n",
    "                ◊ Develop\n",
    "                    } Xxx\n",
    "                    } Xxxx\n",
    "                ◊ QA\n",
    "                    } Ss\n",
    "                ◊ Implement\n",
    "        □ Stakeholders Analysis\n",
    "            ® Project Sponsor/Acceptor\n",
    "            ® Project Steering Committee\n",
    "            ® R&R: Role and Responsibility\n",
    "            ® Organization Structure\n",
    "        □ Risks, Assumptions, and Constrains\n",
    "        □ Project Charter\n",
    "            ® Project Purpose\n",
    "            ® Measurable Objects\n",
    "            ® High Level Requirements\n",
    "            ® Assumptions and Constrains\n",
    "            ® Description and Boundaries\n",
    "            ® High Level Risks\n",
    "            ® Milestone Schedule\n",
    "            ® Summary Budget\n",
    "            ® Stakeholder List\n",
    "            ® Project Acceptance Criteria\n",
    "        □ Securing Approval to Proceed\n",
    "        □ Benefits Analysis\n",
    "        □ Stakeholder Communication\n",
    "○ Knowledge & Skills\n",
    "    § Analytical Skills\n",
    "    § Cost/Benefit Analysis\n",
    "    § Estimation\n",
    "    § Writing"
   ]
  },
  {
   "cell_type": "markdown",
   "metadata": {},
   "source": [
    "## Project Definition and Planning"
   ]
  },
  {
   "cell_type": "markdown",
   "metadata": {},
   "source": [
    "○ KAs & Processes\n",
    "    § KAs\n",
    "        □ Integration\n",
    "        □ Scope\n",
    "        □ Time\n",
    "        □ Cost\n",
    "        □ Quality\n",
    "        □ HR\n",
    "        □ Communication\n",
    "        □ Risk\n",
    "        □ Procurement\n",
    "        □ Stakeholder\n",
    "    § Project Management Plan\n",
    "        □ Scope Baseline\n",
    "        □ Schedule Baseline\n",
    "        □ Cost Baseline\n",
    "        □ Change Management\n",
    "        □ Management Plan\n",
    "        □ Project Organization\n",
    "        □ Risk & Issue\n",
    "        □ Assumptions and Constrains\n",
    "        □ Stakeholder Engagement\n",
    "        □ Delivery Methodology\n",
    "        □ Tailoring\n",
    "    § Requirement Management\n",
    "        □ Requirement Analysis\n",
    "        □ Requirement Documenting\n",
    "        □ Requirement Management\n",
    "            ® RTM Requirement Traceability Matrix\n",
    "    § Inputs and Considerations\n",
    "        □ Project Charter\n",
    "        □ Organization History\n",
    "        □ Assumption and Constrains\n",
    "        □ Stakeholder Interview\n",
    "    § Deliverables \n",
    "        □ Industry Best Practice\n",
    "        □ Delivery Methodology\n",
    "    § Scope Management Plan\n",
    "        □ Scope Definition\n",
    "        □ Scope Validation\n",
    "        □ Scope Control\n",
    "    § Cost Management Plan\n",
    "    § Schedule Development\n",
    "        □ WBS\n",
    "        □ Estimation\n",
    "        □ Resources\n",
    "            ® RACI Chart\n",
    "                ◊ Responsible\n",
    "                ◊ Accountable\n",
    "                ◊ Consulted\n",
    "                ◊ Informed\n",
    "        □ Dependency\n",
    "    § Communication Plan\n",
    "        □ Communication Channel\n",
    "        □ Communication Method\n",
    "        □ Communication Model\n",
    "    § Procurement Management Plan\n",
    "    § Quality Plan\n",
    "        □ Grade VS Quality\n",
    "        □ Quality Measures\n",
    "            ® Customer Satisfaction\n",
    "            ® Prevention over Inspection\n",
    "            ® Continues Improvement\n",
    "            ® Management Responsibility\n",
    "            ® Cost of Quality\n",
    "        □ Quality Tools\n",
    "            ®  Cause and Effect\n",
    "            ® Flow Chart\n",
    "            ® Check Sheet\n",
    "            ® Pareto Diagram\n",
    "            ® Histogram\n",
    "            ® Control Chart\n",
    "            ® Scatter Diagram\n",
    "            ® Benchmark\n",
    "            ® Design of Experiment\n",
    "            ® Statistical Sampling\n",
    "            ® Brainstorming\n",
    "            ® Force Field Analysis\n",
    "            ® Nominal Group Theory\n",
    "    § Change Management Plan\n",
    "        □ Change Management\n",
    "            ® Understand change\n",
    "            ® Document Change\n",
    "            ® Understand Schedule Impact\n",
    "            ® Approval Change\n",
    "            ® Integrate Change\n",
    "        □ Change Log\n",
    "        □ Change Control Board\n",
    "    § Risk Management Plan\n",
    "        □ Risk Profile\n",
    "        □ Risk Identification\n",
    "        □ Qualitative Risk Analysis\n",
    "        □ Quantitative Risk Analysis\n",
    "        □ Risk Response\n",
    "        □ Integrated Risk\n",
    "    § Project Plan Approval\n",
    "    § Project Kickoff\n",
    "    § Stakeholders Engagement\n",
    "○ Knowledge & Skills"
   ]
  },
  {
   "cell_type": "markdown",
   "metadata": {},
   "source": [
    " ## Project Launch and Executing"
   ]
  },
  {
   "cell_type": "markdown",
   "metadata": {},
   "source": [
    "○ KAs & Process\n",
    "    § KAs\n",
    "        □ Project Integration\n",
    "        □ Quality Assurance\n",
    "        □ Human Resource\n",
    "        □ Communication\n",
    "        □ Procurement\n",
    "        □ Stakeholder\n",
    "    § Processes\n",
    "        □ Manage Project Team\n",
    "            ® Acquire Team\n",
    "            ® Training\n",
    "            ® Resource Calendar\n",
    "            ® Team Building\n",
    "            ® Team Norm\n",
    "            ® Support\n",
    "        □ Manage Task Execution\n",
    "            ® Follow the Schedule\n",
    "            ® Review Project Deliverable\n",
    "            ® Collect Performance Data\n",
    "            ® Maintain PMIS, Project Management Information System\n",
    "        □ Quality Assurance\n",
    "            ® Doing the right thing\n",
    "            ® Process Improvement\n",
    "            ® Quality Audit\n",
    "            ® QA Tools\n",
    "        □ Implement Approved Change\n",
    "            ® Fully Integrate Change\n",
    "            ® Quality\n",
    "            ® Risk\n",
    "            ® Configuration Item\n",
    "            ® Previously Approved Deliverables\n",
    "        □ Risk Response Implementation\n",
    "            ® Execute Risk Response\n",
    "            ® Consume Risk Contingency\n",
    "            ® Re-allocate Risk Contingency\n",
    "            ® Project Contingency\n",
    "        □ Manage Information Flow\n",
    "            ® Create\n",
    "            ® Collect\n",
    "            ® Distribution\n",
    "            ® Store\n",
    "            ® Retrieve\n",
    "            ® Destroy\n",
    "        □ Maintain Stakeholder Relationship\n",
    "○ Knowledge & Skills\n",
    "    § Continuous Improvement\n",
    "    § Contrack Management\n",
    "    § Work Authorization\n",
    "    § Quality Management\n",
    "    § Vendor Management"
   ]
  },
  {
   "cell_type": "markdown",
   "metadata": {},
   "source": [
    "## Project Performance and Control"
   ]
  },
  {
   "cell_type": "markdown",
   "metadata": {},
   "source": [
    "Domain IV: Monitoring and Controlling- 25%；25 Qs\n",
    "\t\t○ KAs & Process\n",
    "\t\t\t§ KAs\n",
    "\t\t\t\t□ Project Integration\n",
    "\t\t\t\t□ Scope\n",
    "\t\t\t\t□ Time\n",
    "\t\t\t\t□ Cost\n",
    "\t\t\t\t□ Quality\n",
    "\t\t\t\t□ Communication\n",
    "\t\t\t\t□ Risk\n",
    "\t\t\t\t□ Procurement\n",
    "\t\t\t\t□ Stakeholder\n",
    "\t\t\t§ Processes\n",
    "\t\t\t\t□ Project Performance Management\n",
    "\t\t\t\t□ Earned Value Management\n",
    "\t\t\t\t\t® PV: Planned Value\n",
    "\t\t\t\t\t® AC: Actual Cost\n",
    "\t\t\t\t\t® EV: Earned Value\n",
    "\t\t\t\t□ Managing Change\n",
    "\t\t\t\t\t® Change Control\n",
    "\t\t\t\t\t\t◊ Reason for change\n",
    "\t\t\t\t\t\t◊ Change analysis\n",
    "\t\t\t\t\t\t◊ Impact of Change\n",
    "\t\t\t\t\t\t◊ Approval\n",
    "\t\t\t\t\t® Update Project Baseline\n",
    "\t\t\t\t□ Quality Control\n",
    "\t\t\t\t□ Control Risk\n",
    "\t\t\t\t□ Issues and Lessons Learned\n",
    "\t\t\t\t□ Contract Management\n",
    "\t\t○ Knowledge & Skills\n",
    "\t\t\t§ Performance Management\n",
    "\t\t\t§ Schedule Management\n",
    "\t\t\t§ Fiscal Management\n",
    "\t\t\t§ Quality Management\n",
    "\t\t\t§ Risk Management\n",
    "\t\t\t§ Contract Management"
   ]
  },
  {
   "cell_type": "markdown",
   "metadata": {},
   "source": [
    "##  Project Close"
   ]
  },
  {
   "cell_type": "markdown",
   "metadata": {},
   "source": [
    "○ KAs & Process\n",
    "    § KAs:\n",
    "        □ Project Integration\n",
    "        □ Procurement\n",
    "    § Process:\n",
    "        □ Project Closure\n",
    "○ Knowledge & Skills\n",
    "    § Archival Techniques\n",
    "    § Contract Closing\n",
    "    § Project Review\n",
    "    § Formal Acceptance\n",
    "    § Transition\n",
    "\n"
   ]
  },
  {
   "cell_type": "markdown",
   "metadata": {},
   "source": []
  },
  {
   "cell_type": "markdown",
   "metadata": {},
   "source": []
  }
 ],
 "metadata": {
  "kernelspec": {
   "display_name": "Python 3",
   "language": "python",
   "name": "python3"
  },
  "language_info": {
   "codemirror_mode": {
    "name": "ipython",
    "version": 3
   },
   "file_extension": ".py",
   "mimetype": "text/x-python",
   "name": "python",
   "nbconvert_exporter": "python",
   "pygments_lexer": "ipython3",
   "version": "3.7.5"
  },
  "toc": {
   "base_numbering": 1,
   "nav_menu": {},
   "number_sections": true,
   "sideBar": true,
   "skip_h1_title": false,
   "title_cell": "Table of Contents",
   "title_sidebar": "Contents",
   "toc_cell": false,
   "toc_position": {
    "height": "calc(100% - 180px)",
    "left": "10px",
    "top": "150px",
    "width": "235.636px"
   },
   "toc_section_display": true,
   "toc_window_display": true
  }
 },
 "nbformat": 4,
 "nbformat_minor": 2
}
