{
 "cells": [
  {
   "cell_type": "markdown",
   "metadata": {},
   "source": [
    "# ITSM"
   ]
  },
  {
   "cell_type": "markdown",
   "metadata": {},
   "source": [
    "## Terms"
   ]
  },
  {
   "cell_type": "markdown",
   "metadata": {},
   "source": [
    "- IT Service\n",
    "  - IT services refers to the application of business and technical expertise to enable organizations in the creation, management and optimization of or access to information and business processes. There are also different categories of service: business process services, application services and infrastructure services.\n",
    "- ITIL Maturity models:\n",
    "  - Initial\n",
    "  - Repeatable\n",
    "  - Defined\n",
    "  - Managed\n",
    "  - Optimized."
   ]
  },
  {
   "cell_type": "markdown",
   "metadata": {},
   "source": [
    "## Intro"
   ]
  },
  {
   "cell_type": "markdown",
   "metadata": {},
   "source": [
    "- Definition\n",
    "  - IT Service Management focuses on how an organization deliver and maintain IT services to customer.\n",
    "- Benifits\n",
    "  - Provides guidence to address services management challenges\n",
    "  - Improve customer satisfactions by delivering efficient services\n",
    "  - Better management of business risks and service disruption\n",
    "  - Enhance IT services\n",
    "  - Reduce IT costs\n",
    "  - Improve productivities."
   ]
  },
  {
   "cell_type": "markdown",
   "metadata": {},
   "source": [
    "# ITIL V3"
   ]
  },
  {
   "cell_type": "markdown",
   "metadata": {},
   "source": [
    "## General"
   ]
  },
  {
   "cell_type": "markdown",
   "metadata": {},
   "source": [
    "- Definition\n",
    "  - a set of frameworks for ITSM helps in aligning IT services with business goals with Best Practice guidance for identifying, planning, delivering, and supporting IT services to the business\n",
    "- Benefits\n",
    "  - Systematic approach to high quality IT service delivery\n",
    "  - Documented best practice for IT Service Management\n",
    "  - Provides common language with well-defined terms\n",
    "- Domain-of-Interest\n",
    "  - Service Lifecycle"
   ]
  },
  {
   "cell_type": "markdown",
   "metadata": {},
   "source": [
    "### 7 ITIL Fundation Concepts"
   ]
  },
  {
   "cell_type": "markdown",
   "metadata": {},
   "source": [
    "- Service and Service Management\n",
    "- Service Lifecycle\n",
    "- Terminology, key Principles and Models\n",
    "- Processes\n",
    "- Functions\n",
    "- Roles\n",
    "- Technology"
   ]
  },
  {
   "cell_type": "markdown",
   "metadata": {},
   "source": [
    "### 7 Ways Applying ITIL Concetps"
   ]
  },
  {
   "cell_type": "markdown",
   "metadata": {},
   "source": [
    "- Enact and enable outcomes\n",
    "- Enlight and empower people\n",
    "- Lower barriers and increase enablers\n",
    "- Improve moments of truth\n",
    "- Root out dependency and variation\n",
    "- Lower transaction cost\n",
    "- Reflect and act at indivisual, team, organization level"
   ]
  },
  {
   "cell_type": "markdown",
   "metadata": {},
   "source": [
    "## Princples of ITIL"
   ]
  },
  {
   "cell_type": "markdown",
   "metadata": {},
   "source": [
    "### 7 Key Principles for Service Management"
   ]
  },
  {
   "cell_type": "markdown",
   "metadata": {},
   "source": [
    "- Value creation through services\n",
    "- 4P's of implementing service: People, Process, Product, Partner\n",
    "- 5 aspects of service design: \n",
    "  - services\n",
    "  - management information system and tools\n",
    "  - technologies and management architectures\n",
    "  - processes\n",
    "  - mesurements and metrics\n",
    "- CSI Approch:\n",
    "- CSFs and KPIs\n",
    "- Baselines\n",
    "- Technology, Process, and service metrics"
   ]
  },
  {
   "cell_type": "markdown",
   "metadata": {},
   "source": [
    "- Resources:  things such as people, information, process, application, financial capital\n",
    "– Capabilities: the ability to use resources to create value\n",
    "\n",
    "- Service\n",
    "  - Features/Quality/Components\n",
    "  - Value creating\n",
    "  - Service Delivery Type/Service Provider Type\n",
    "      - In-sourcing\n",
    "      - Out-sourcing\n",
    "      - Co-sourcing\n",
    "      - Knowledge Process Outsourcing\n",
    "      - Application Outsourcing\n",
    "      - Business Process Outsourcing\n",
    "      - Partnership/Multi-outsourcing\n",
    "\n",
    "- Service Management \n",
    "  - Organizations use Capabilities and Resources to create value in the form of goods and services for Customers"
   ]
  },
  {
   "cell_type": "markdown",
   "metadata": {},
   "source": [
    "### Role/Process/Functions/Service/Asset"
   ]
  },
  {
   "cell_type": "markdown",
   "metadata": {},
   "source": [
    "- Role \n",
    "  - a set of responsibilities, activities and authorities granted to a person or team"
   ]
  },
  {
   "cell_type": "markdown",
   "metadata": {},
   "source": [
    "- Process\n",
    "  - Structured set of activities designed to accomplish a defined objective\n",
    "  - Inputs & Outputs\n",
    "  - Measurable\n",
    "  - Maturity Level of Process\n",
    "    - Initial\n",
    "    - Repeatable\n",
    "    - Defined\n",
    "    - Managed\n",
    "    - Optimized\n",
    "  - Own practices and knowledge body\n",
    "- Process Category\n",
    "  - Governance Process\n",
    "    - SS\n",
    "    - SD\n",
    "  - Operational Process\n",
    "    - ST\n",
    "    - SO\n",
    "    - CSI"
   ]
  },
  {
   "cell_type": "markdown",
   "metadata": {},
   "source": [
    "- Function\n",
    "  - Team or group of people and tools they use to carry out one or more processes or activities\n",
    "- Service Support Functions: \n",
    "  - Service Desk \n",
    "  - Incident Management \n",
    "  - Problem Management \n",
    "  - Change Management \n",
    "  - Configuration Management \n",
    "  - Release Management\n",
    "- Service Delivery Functions: \n",
    "  - Availability Management \n",
    "  - IT Services Continuity Management \n",
    "  - Capacity Management \n",
    "  - Financial Management \n",
    "  - Service Level Management"
   ]
  },
  {
   "cell_type": "markdown",
   "metadata": {},
   "source": [
    "- Assets\n",
    "  - Includes: Capital, Infrastructure, Application, Infomation, People\n",
    "  - Types: \n",
    "    - Resources: Direct inputs for production\n",
    "    - Capabilities: Ability to coordinate, control, and deploy"
   ]
  },
  {
   "cell_type": "markdown",
   "metadata": {},
   "source": [
    "## Service Lifecycle Modules"
   ]
  },
  {
   "cell_type": "markdown",
   "metadata": {},
   "source": [
    "### Service Strategy"
   ]
  },
  {
   "cell_type": "markdown",
   "metadata": {},
   "source": [
    "#### Key Princples"
   ]
  },
  {
   "cell_type": "markdown",
   "metadata": {},
   "source": [
    "- SS Goals\n",
    "  - Clarifies relationships between services, systems, or processes and the business models, strategies, or objectives they support\n",
    "- Questionares\n",
    "  - What are we going to provide?\n",
    "  - Can we afford it?\n",
    "  - Can we provide enough of it?\n",
    "  - How do we gain competitive advantage?\n",
    "- Terms\n",
    "  - Value Creation\n",
    "  - Utility and Warranty\n",
    "  - Service Portfolio\n",
    "  - Risk Management \n",
    "- 4Ps of Strategy\n",
    "    - Perspective: Vision, mission and strategic goals\n",
    "    - Position\n",
    "    - Plan\n",
    "    - Pattern"
   ]
  },
  {
   "cell_type": "markdown",
   "metadata": {},
   "source": [
    "#### SS Processes(5) and Functions"
   ]
  },
  {
   "cell_type": "markdown",
   "metadata": {},
   "source": [
    "- Business Relationship Management\n",
    "- Demand Management\n",
    "- Financial Management for IT services\n",
    "- Strategy Management for IT services\n",
    "    - 4Ps of Strategy\n",
    "    - Strategic Assessment\n",
    "      - RTB: Run the business\n",
    "      - GTB: Grow the business\n",
    "      - TTB: Transform the business\n",
    "    - Strategy Generation\n",
    "      - Utility - fit for purpose\n",
    "      - Warranty- fit for use\n",
    "      - Utility and Warranty Create Value\n",
    "- Service Portfolio Management\n",
    "    - SKMS: Service Knowledge Management System\n",
    "      - Service Lifecycle: SC/SS/SD/SO\n",
    "      - Service Portfolio: Service Pipeline/Service Catalogue"
   ]
  },
  {
   "cell_type": "markdown",
   "metadata": {},
   "source": [
    "#### Key Documents"
   ]
  },
  {
   "cell_type": "markdown",
   "metadata": {},
   "source": [
    "### Service Design"
   ]
  },
  {
   "cell_type": "markdown",
   "metadata": {},
   "source": [
    "#### Key Princples"
   ]
  },
  {
   "cell_type": "markdown",
   "metadata": {},
   "source": [
    "- Goals:\n",
    "  - Design efficient and effective processes for the design, transition, operation, and improvement of high‐quality processes\n",
    "- 4Ps\n",
    "  - People: skills, training, communication \n",
    "  - Process: actions, activities, changes, goals, improving paths \n",
    "  - Product: tools, monitors, measures, documents \n",
    "  - Partner: specialist suppliers\n",
    "- Questionares\n",
    "  - How are we going to provide it?\n",
    "  - How are we going to build it?\n",
    "  - How are we going to test it?\n",
    "  - How are we going to deploy it?\n",
    "- SDP: Service Design Package\n",
    "  - Contents\n",
    "    - Business requirements\n",
    "    - Service applicability\n",
    "    - Service contacts\n",
    "    - Service functional requirements\n",
    "    - Service level requirements\n",
    "    - Service and operational management requirements\n",
    "    - Service design and topology\n",
    "    - Organizational readiness assessment\n",
    "    - Service program\n",
    "    - Service transition plan\n",
    "    - Service operational acceptance plan\n",
    "    - Service acceptance criteria"
   ]
  },
  {
   "cell_type": "markdown",
   "metadata": {},
   "source": [
    "####  SD Processes(8) and Functions"
   ]
  },
  {
   "cell_type": "markdown",
   "metadata": {},
   "source": [
    "- Design Coordination\n",
    "- Service catalogue management\n",
    "  - Business Services catalogue\n",
    "  - Technical Services catalogue    \n",
    "- Service Level Management\n",
    "  - SLR/SLA\n",
    "  - Underpinning Contract (UC): Outsourced SLA\n",
    "  - OLA: Operational Level Agreement \n",
    "  - SQP: Service Quality Plan\n",
    "- Capacity management\n",
    "  - Capacity Database: CIMS\n",
    "      - CP: Capacity Plan\n",
    "      - CPD: Capacity Performance Data\n",
    "      - Business Forcasts\n",
    "  - Business Capacity Management\n",
    "  - Service Capacity Management\n",
    "  - Components Capacity Management\n",
    "- Availability management\n",
    "  - MTBF: Availability\n",
    "  - MTTR: Maintainability\n",
    "  - MTBSI: Reliability\n",
    "  - AMIS: Availability Management Information System\n",
    "- Information security management (ISO 27K & 20K)\n",
    "  - ISMS: Information Security Management System\n",
    "  - Confidentiality\n",
    "  - Integrity\n",
    "  - Availability\n",
    "  - Authenticity\n",
    "  - Non-Repudiate\n",
    "- Service continuity management\n",
    "  - BIA\n",
    "  - Backup\n",
    "    - Cold/Warm/Hot\n",
    "  - DR\n",
    "    - RPO/RTO\n",
    "- Supplier Management\n",
    "  - SSIP: Supplier service improvement plans (SSIP)\n",
    "  - Supplier survey reports\n",
    "  - Supplier & Contract performance report\n",
    "  - Supplier and Contract Database: SCD"
   ]
  },
  {
   "cell_type": "markdown",
   "metadata": {},
   "source": [
    "#### Key Documents"
   ]
  },
  {
   "cell_type": "markdown",
   "metadata": {},
   "source": [
    "### Service Transition"
   ]
  },
  {
   "cell_type": "markdown",
   "metadata": {},
   "source": [
    "#### Key Princples"
   ]
  },
  {
   "cell_type": "markdown",
   "metadata": {},
   "source": [
    "- Questionares"
   ]
  },
  {
   "cell_type": "markdown",
   "metadata": {},
   "source": [
    "#### ST  Processes(7) and Functions"
   ]
  },
  {
   "cell_type": "markdown",
   "metadata": {},
   "source": [
    "  - Service Asset and Configuration Management\n",
    "    - CMS/CMDB/CI\n",
    "    - DML: Definitive Media Library\n",
    "  - Transition Planning and Support\n",
    "  - Evaluation Management\n",
    "  - Release and Deployment Management\n",
    "  - Service Validation and Testing Management\n",
    "    - V‐Service Model\n",
    "  - Change Management\n",
    "    - Change : The addition, modification or removal of CIs\n",
    "      - Change Categories\n",
    "      - Change Priority\n",
    "      - Change Types\n",
    "    - 7Rs\n",
    "      - who Rasied\n",
    "      - what Reason\n",
    "      - what Return\n",
    "      - what Risks\n",
    "      - what Resources\n",
    "      - who Responsible\n",
    "      - what Relationship\n",
    "    - RFC: Request for Change\n",
    "    - CAB: Change Advisory Board\n",
    "    - ECAB: CAB Emergency Committee\n",
    "    - FSC: Forward Schedule of Changes\n",
    "    - PSA: Projected Service Availability\n",
    "    - Activities:\n",
    "      - Registration and classification\n",
    "      - Approval\n",
    "      - Authorization and Implementation\n",
    "      - Verify\n",
    "  - Knowledge Management \n",
    "    - SKMS: Service Knowledge Management System"
   ]
  },
  {
   "cell_type": "markdown",
   "metadata": {},
   "source": [
    "#### Key Documents"
   ]
  },
  {
   "cell_type": "markdown",
   "metadata": {},
   "source": [
    "### Service Operation"
   ]
  },
  {
   "cell_type": "markdown",
   "metadata": {},
   "source": [
    "#### Key Princples"
   ]
  },
  {
   "cell_type": "markdown",
   "metadata": {},
   "source": [
    "- Goals\n",
    "  - Coordinate and carry‐out day‐to‐day activities and processes to deliver and manage services at agreed upon levels\n",
    "- Questionares"
   ]
  },
  {
   "cell_type": "markdown",
   "metadata": {},
   "source": [
    "#### SO  Processes(5) and Functions(4)"
   ]
  },
  {
   "cell_type": "markdown",
   "metadata": {},
   "source": [
    "  - Request fulfilment (Standard Changes)\n",
    "  - Event Management\n",
    "    - Event: any detectable or discernable occurrence that has significance for the management of the IT infrastructure\n",
    "      - Types: Informational/Warning/Exception\n",
    "    - Fault Tree Technics\n",
    "      - Events Node\n",
    "      - Logic Gate Node\n",
    "  - Access Management\n",
    "  - Problem management\n",
    "    - Problem: The unknown underlying cause of one or more Incident\n",
    "    - Workaround/Known Error/KEDB\n",
    "    - Cause Effectiveness Analysis\n",
    "    - CFIA: Component Failure Impact Analysis\n",
    "      - SPOF\n",
    "      - Active-Active\n",
    "      - Hot Standby\n",
    "      - Warm Standby\n",
    "      - Cold Standby\n",
    "  - Incident management\n",
    "    - Incident: an unplanned interruption to an IT service or reduction in the quality of an IT service\n",
    "    - Categorization: Application, Hardware, Service Request, Security\n",
    "    - Prioritization: Impact/Urgency/Priority"
   ]
  },
  {
   "cell_type": "markdown",
   "metadata": {},
   "source": [
    "- Service desk\n",
    "- IT Operations Management\n",
    "  - IT Operations Control\n",
    "  - Facilities Management\n",
    "- Technical Management\n",
    "  - Technical Maturity Model\n",
    "    - Technology Diven\n",
    "    - Technology Control\n",
    "    - Technology Integration\n",
    "    - Service Provision\n",
    "    - Strategic Contribution\n",
    "- Application management"
   ]
  },
  {
   "cell_type": "markdown",
   "metadata": {},
   "source": [
    "#### Key Documents"
   ]
  },
  {
   "cell_type": "markdown",
   "metadata": {},
   "source": [
    "### Continual Service Improvement"
   ]
  },
  {
   "cell_type": "markdown",
   "metadata": {},
   "source": [
    "#### Key Princples"
   ]
  },
  {
   "cell_type": "markdown",
   "metadata": {},
   "source": [
    "- CSI Model\n",
    "  - What is the vision?\n",
    "    - Business vision, mission, goals, objectives\n",
    "  - Where are we now?\n",
    "    - Baseline assessments\n",
    "  - Where do we want to be?\n",
    "    - Measureable targets\n",
    "  - How do we get there?\n",
    "    - Service & Process Improvement\n",
    "  - How did we get there?\n",
    "    - Measurement and metrics\n",
    "  - How do we keep the momentum going?\n",
    "    - Revisit the vision (see 1. above and continue)\n",
    "- Service Gap Model\n",
    "  - Customer Side\n",
    "    - What do we want\n",
    "    - What do we need\n",
    "    - What will we get\n",
    "    - What did we get\n",
    "  - Provider Side \n",
    "    - SD/ST/SO/SS\n",
    "- Deming Cycle\n",
    "  - PDCA\n",
    "- Measure and Metric\n",
    "  - You cannot manage what you cannot control\n",
    "  - You cannot control what you cannot measure\n",
    "  - You cannot measure what you cannot define\n",
    "- RACI Matrix:\n",
    "  - R: Responsibility\n",
    "  - A: Accountability\n",
    "  - C: Consulted\n",
    "  - I: Informed\n",
    "- Vision to Measurements Model\n",
    "  - Vision\n",
    "  - Mission\n",
    "  - Goals\n",
    "  - Objectives\n",
    "  - Critical Success Factors\n",
    "  - KPIs\n",
    "  - Metrics\n",
    "  - Measurements"
   ]
  },
  {
   "cell_type": "markdown",
   "metadata": {},
   "source": [
    "#### CSI  Processes(1) and Functions"
   ]
  },
  {
   "cell_type": "markdown",
   "metadata": {},
   "source": [
    "- 7-Step Improvement Process\n",
    "    - Define what you should measure\n",
    "    - Define what you can measure\n",
    "    - Gather data\n",
    "    - Process data\n",
    "    - Analyze data\n",
    "    - Present and use information\n",
    "    - Implement corrective action"
   ]
  },
  {
   "cell_type": "markdown",
   "metadata": {},
   "source": [
    "- Service Measurement\n",
    "    - Baseline\n",
    "    - Critical Success Factors\n",
    "    - Metric\n",
    "    - KPIs\n",
    "- Service Reporting"
   ]
  },
  {
   "cell_type": "markdown",
   "metadata": {},
   "source": [
    "#### Key Documents"
   ]
  },
  {
   "cell_type": "markdown",
   "metadata": {},
   "source": [
    "## Service Capability Modules"
   ]
  },
  {
   "cell_type": "markdown",
   "metadata": {},
   "source": [
    "- Operational Support and Analysis\n",
    "\n",
    "- Planning Protection and Optimization\n",
    "\n",
    "- Release Control and Validation\n",
    "\n",
    "- Service Offering and Agreement"
   ]
  },
  {
   "cell_type": "markdown",
   "metadata": {
    "heading_collapsed": true
   },
   "source": [
    "# ITIL V4"
   ]
  },
  {
   "cell_type": "markdown",
   "metadata": {
    "hidden": true
   },
   "source": [
    "## Key Concepts"
   ]
  },
  {
   "cell_type": "markdown",
   "metadata": {
    "hidden": true
   },
   "source": [
    "### Value and Value Co-creation"
   ]
  },
  {
   "cell_type": "markdown",
   "metadata": {
    "hidden": true
   },
   "source": [
    "- Value\n",
    "  - Definition: Value is the perceived benefits, usefulness, and importance of something\n",
    "- Value Co-creation\n",
    "  - Roles: Service Provider/Service Consummer"
   ]
  },
  {
   "cell_type": "markdown",
   "metadata": {
    "hidden": true
   },
   "source": [
    "### Goods, Products, Services"
   ]
  },
  {
   "cell_type": "markdown",
   "metadata": {
    "hidden": true
   },
   "source": [
    "- Product \n",
    "  - Product is a configuration of an organization’s resources, designed to offer value for a consumer\n",
    "- Service\n",
    "  - Definition: Service is the application of resources (including competences, skills, and knowledge) to create values\n",
    "  - Views: Business View/IT View/Finance View\n",
    "  - Service Value: \n",
    "    - Perception: Usefulness\n",
    "    - Preference: Importance\n",
    "    - Outcome: Benefits\n",
    "      - Utility: fit for purpose, what service does\n",
    "      - Warranty: fit for use, how service performs\n",
    "- Service Systems\n",
    "  - Service Systems or organization is a dynamic configuration of resources such as people, process, technology and information\n",
    "  - Operant resources/Operand resources\n",
    "  - Dynamic: composing, recomposing, and decomposing over time\n",
    "- Service offering\n",
    "  - is formal a description of one or more services, designed to address the needs of a target consumer group. \n",
    "  - A service offering may include goods, access to resources, and service actions\n",
    "- Service management\n",
    "  - a set of specialised organizational capabilities for enabling value for customers in the form of services"
   ]
  },
  {
   "cell_type": "markdown",
   "metadata": {
    "hidden": true
   },
   "source": [
    "### Organizations, SP, SC, and Stakeholders"
   ]
  },
  {
   "cell_type": "markdown",
   "metadata": {
    "hidden": true
   },
   "source": [
    "- Stakeholders: \n",
    "  - Organizations, Service Provider, Service Consumer, Customer, User, Sponser"
   ]
  },
  {
   "cell_type": "markdown",
   "metadata": {
    "hidden": true
   },
   "source": [
    "### Value and Service Relationships"
   ]
  },
  {
   "cell_type": "markdown",
   "metadata": {
    "hidden": true
   },
   "source": [
    "- Service Relationships\n",
    "  - consists of joint activities performed by a service provider and a service consumer to ensure continual value co-creation based on agreed and available service offerings\n",
    "\n",
    "\n"
   ]
  },
  {
   "cell_type": "markdown",
   "metadata": {
    "hidden": true
   },
   "source": [
    "- Outcomes\n",
    "- Cost\n",
    "- Risk\n",
    "- Utility\n",
    "- Warranty"
   ]
  },
  {
   "cell_type": "markdown",
   "metadata": {
    "hidden": true
   },
   "source": [
    "![ServiceView](ITIL4-ServiceView.png)"
   ]
  },
  {
   "cell_type": "markdown",
   "metadata": {
    "hidden": true
   },
   "source": [
    "## Four Dimensions"
   ]
  },
  {
   "cell_type": "markdown",
   "metadata": {
    "hidden": true
   },
   "source": [
    "- Key Elements of ITIL V4:\n",
    "  - Core Circle\n",
    "    - Values\n",
    "    - Products and Services\n",
    "  - Four Dimensions(Resources)\n",
    "    - Organizations and People\n",
    "      - Formal Organizational Structrue\n",
    "      - Culture\n",
    "      - Required staffing and competencies\n",
    "      - Roles and responsibilities\n",
    "    - Information and Technology\n",
    "      - Information and knowledge\n",
    "      - Technologies\n",
    "        - Workflow Management\n",
    "        - Knowledge Management\n",
    "        - Inventory System\n",
    "        - Communication System\n",
    "        - Analytical Tools\n",
    "      - Relationships between SVS components\n",
    "    - Values Streams and Processes\n",
    "      - Activities undertaken\n",
    "      - Organization of activities\n",
    "      - Value creation enabled\n",
    "    - Partners and Suppliers\n",
    "      - Provider/Consumer relationships\n",
    "      - Partner/Supplier strategy\n",
    "      - Service integration and management\n",
    "      - Factors influencing supplier strategies\n",
    "  - Six External Factors:PESTLE\n",
    "    - Political\n",
    "    - Economical\n",
    "    - Social\n",
    "    - Technological\n",
    "    - Legal\n",
    "    - Environmental"
   ]
  },
  {
   "cell_type": "markdown",
   "metadata": {
    "hidden": true
   },
   "source": [
    "![4Dimensions](ITIL4-4D-PESTLE.png)"
   ]
  },
  {
   "cell_type": "markdown",
   "metadata": {
    "hidden": true
   },
   "source": [
    "## Service Value System(SVS)"
   ]
  },
  {
   "cell_type": "markdown",
   "metadata": {
    "hidden": true
   },
   "source": [
    "- Input\n",
    "  - Opportunities/Demands\n",
    "- SVS\n",
    "  - Guiding principles\n",
    "    - Focus on value\n",
    "      - CX/UX centric\n",
    "    - Agile\n",
    "    - Lean\n",
    "    - DevOps\n",
    "    - Start where you are\n",
    "    - Progress iteratively with feedback\n",
    "    - Collaborate and promote visibility\n",
    "    - Think and work holistically\n",
    "    - Keep it simple and practical\n",
    "    - Optimize and Automate\n",
    "  - Governance\n",
    "  - Service-Value Chain\n",
    "    - Plan\n",
    "    - Engage\n",
    "    - Design/Transition\n",
    "    - Obtain/Build\n",
    "    - Deliver/Operation/Support\n",
    "    - Improve\n",
    "  - Practices\n",
    "  - Continual Improvment\n",
    "    - Cynefin framework\n",
    "- Output\n",
    "  - Values"
   ]
  },
  {
   "cell_type": "markdown",
   "metadata": {
    "hidden": true
   },
   "source": [
    "![ITIL4 SVS](ITIL4-SVS.png)"
   ]
  },
  {
   "cell_type": "markdown",
   "metadata": {
    "hidden": true
   },
   "source": [
    "![ITIL4 SVC](ITIL4-SVC.png)"
   ]
  },
  {
   "cell_type": "markdown",
   "metadata": {
    "hidden": true
   },
   "source": [
    "## Guding Principles"
   ]
  },
  {
   "cell_type": "markdown",
   "metadata": {
    "hidden": true
   },
   "source": [
    "  - 7 Guiding principles\n",
    "    - Focus on value\n",
    "      - CX/UX centric\n",
    "    - Start where you are\n",
    "    - Progress iteratively with feedback\n",
    "    - Collaborate and promote visibility\n",
    "    - Think and work holistically\n",
    "    - Keep it simple and practical\n",
    "    - Optimize and Automate"
   ]
  },
  {
   "cell_type": "markdown",
   "metadata": {
    "hidden": true
   },
   "source": [
    "## Processes to Practices"
   ]
  },
  {
   "cell_type": "markdown",
   "metadata": {
    "hidden": true
   },
   "source": [
    "- Process:\n",
    "  - 4 key Characteristics:\n",
    "    - Mesurable\n",
    "    - Consumer/User\n",
    "    - Respond to specific trigger\n",
    "    - Deliver specific results\n",
    "  - 3 Process Components:\n",
    "    - Process Control: Owner, Documentation, Policy, Objective, Feedback\n",
    "      - Design, Management and Change Control\n",
    "    - Process: Activities, Metrics, Roles, Improvements, Procedures, Instructions\n",
    "      - Collection of activates and roles required to move inputs to outputs\n",
    "    - Process Enablers: Resources, Capabilities\n",
    "      - Appropriate Resource's and Capabilities to perform the process activities\n",
    "  - 3E Quality Control\n",
    "    - Effectiveness\n",
    "    - Efficiency\n",
    "    - Economy\n",
    "- Practice\n",
    "  -  practice is a set of organizational resources designed for performing work or accomplishing an objective\n",
    "- Tools:\n",
    "  - Heat map of practices with value chain activities"
   ]
  },
  {
   "cell_type": "markdown",
   "metadata": {
    "hidden": true
   },
   "source": [
    "- General Management Practices(17)\n",
    "  - Architecture Management\n",
    "  - Continual Improvement\n",
    "    - CIR: continual improvement register\n",
    "  - Information Security Management\n",
    "  - Knowledge Management\n",
    "  - Measurement and Reporting\n",
    "  - Portfolio Management\n",
    "  - Organizational Change Management\n",
    "  - Project Management\n",
    "  - Relationship Management\n",
    "  - Risk Management\n",
    "  - Service Financial Management\n",
    "  - Strategy Management\n",
    "  - Supplier Management\n",
    "  - Workforce and Talent Management \n",
    "- Service Management Practices(17) \n",
    "  - Availability Management\n",
    "  - Business Analysis\n",
    "  - Capacity and Performance Management\n",
    "  - Change Control\n",
    "  - Incident Management\n",
    "  - IT Asset Management\n",
    "  - Monitoring and Event Management\n",
    "  - Problem Management\n",
    "  - Release Management\n",
    "  - Service Catalog Management\n",
    "  - Service Configuration Management\n",
    "  - Service Continuity Management\n",
    "  - Service Design\n",
    "  - Service Desk\n",
    "  - Service Level Management\n",
    "  - Service Request Management\n",
    "  - Service Validation and Testing \n",
    "- Technical Management Practices(3)\n",
    "  - Deployment Management\n",
    "  - Infrastructure and Platform Management\n",
    "  - Software Development and Management"
   ]
  },
  {
   "cell_type": "markdown",
   "metadata": {
    "hidden": true
   },
   "source": [
    "![ITIL4 Process](ITIL4-ProcessDiagram.png)"
   ]
  },
  {
   "cell_type": "markdown",
   "metadata": {
    "hidden": true
   },
   "source": [
    "## Integration"
   ]
  },
  {
   "cell_type": "code",
   "execution_count": null,
   "metadata": {
    "hidden": true
   },
   "outputs": [],
   "source": []
  },
  {
   "cell_type": "code",
   "execution_count": null,
   "metadata": {
    "hidden": true
   },
   "outputs": [],
   "source": []
  }
 ],
 "metadata": {
  "kernelspec": {
   "display_name": "Python 3",
   "language": "python",
   "name": "python3"
  },
  "language_info": {
   "codemirror_mode": {
    "name": "ipython",
    "version": 3
   },
   "file_extension": ".py",
   "mimetype": "text/x-python",
   "name": "python",
   "nbconvert_exporter": "python",
   "pygments_lexer": "ipython3",
   "version": "3.7.5"
  },
  "toc": {
   "base_numbering": 1,
   "nav_menu": {},
   "number_sections": true,
   "sideBar": true,
   "skip_h1_title": false,
   "title_cell": "Table of Contents",
   "title_sidebar": "Contents",
   "toc_cell": false,
   "toc_position": {
    "height": "calc(100% - 180px)",
    "left": "10px",
    "top": "150px",
    "width": "235.636px"
   },
   "toc_section_display": true,
   "toc_window_display": true
  }
 },
 "nbformat": 4,
 "nbformat_minor": 2
}
