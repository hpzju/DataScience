{
 "cells": [
  {
   "cell_type": "markdown",
   "metadata": {},
   "source": [
    "# ITSM"
   ]
  },
  {
   "cell_type": "markdown",
   "metadata": {},
   "source": [
    "## Terms"
   ]
  },
  {
   "cell_type": "markdown",
   "metadata": {},
   "source": [
    "- IT Service\n",
    "  - IT services refers to the application of business and technical expertise to enable organizations in the creation, management and optimization of or access to information and business processes. There are also different categories of service: business process services, application services and infrastructure services.\n",
    "- ITIL Maturity models:\n",
    "  - Initial\n",
    "  - Repeatable\n",
    "  - Defined\n",
    "  - Managed\n",
    "  - Optimized."
   ]
  },
  {
   "cell_type": "markdown",
   "metadata": {},
   "source": [
    "## Intro"
   ]
  },
  {
   "cell_type": "markdown",
   "metadata": {},
   "source": [
    "- Definition\n",
    "  - IT Service Management focuses on how an organization deliver and maintain IT services to customer.\n",
    "- Challenges:\n",
    "  - Planning IT and business strategy\n",
    "  - Integrating and aligning IT and business goals\n",
    "  - Implementing continual improvement\n",
    "  - Measuring the IT organization’s effectiveness and efficiency\n",
    "  - Optimizing costs and the total cost of ownership\n",
    "  - Achieving and demonstrating return on investment\n",
    "  - Demonstrating the business value of IT\n",
    "  - Developing partnerships and relationships between business and IT\n",
    "  - Improving project delivery success\n",
    "  - Outsourcing, insourcing and smart sourcing\n",
    "  - Using IT to gain competitive advantage\n",
    "  - Delivering the business-justified IT services (i.e. what is required, when required and at an agreed cost)\n",
    "  - Managing constant business and IT change\n",
    "  - Demonstrating appropriate IT governanc\n",
    "- Benifits\n",
    "  - Provides guidence to address services management challenges\n",
    "  - Improve customer satisfactions by delivering efficient services\n",
    "  - Better management of business risks and service disruption\n",
    "  - Enhance IT services\n",
    "  - Reduce IT costs\n",
    "  - Improve productivities."
   ]
  },
  {
   "cell_type": "markdown",
   "metadata": {},
   "source": [
    "# ITIL V3"
   ]
  },
  {
   "cell_type": "markdown",
   "metadata": {},
   "source": [
    "## General"
   ]
  },
  {
   "cell_type": "markdown",
   "metadata": {},
   "source": [
    "- Definition\n",
    "  - a set of frameworks for ITSM helps in aligning IT services with business goals with Best Practice guidance for identifying, planning, delivering, and supporting IT services to the business\n",
    "- Benefits\n",
    "  - Systematic approach to high quality IT service delivery\n",
    "  - Documented best practice for IT Service Management\n",
    "  - Provides common language with well-defined terms\n",
    "- Domain-of-Interest\n",
    "  - Service Lifecycle"
   ]
  },
  {
   "cell_type": "markdown",
   "metadata": {},
   "source": [
    "### 7 ITIL Fundation Concepts"
   ]
  },
  {
   "cell_type": "markdown",
   "metadata": {},
   "source": [
    "- Service and Service Management\n",
    "- Service Lifecycle\n",
    "- Terminology, key Principles and Models\n",
    "- Processes\n",
    "- Functions\n",
    "- Roles\n",
    "- Technology"
   ]
  },
  {
   "cell_type": "markdown",
   "metadata": {},
   "source": [
    "### 7 Ways Applying ITIL Concetps"
   ]
  },
  {
   "cell_type": "markdown",
   "metadata": {},
   "source": [
    "- Enact and enable outcomes\n",
    "- Enlight and empower people\n",
    "- Lower barriers and increase enablers\n",
    "- Improve moments of truth\n",
    "- Root out dependency and variation\n",
    "- Lower transaction cost\n",
    "- Reflect and act at indivisual, team, organization level"
   ]
  },
  {
   "cell_type": "markdown",
   "metadata": {},
   "source": [
    "## Princples of ITIL"
   ]
  },
  {
   "cell_type": "markdown",
   "metadata": {},
   "source": [
    "### 7 Key Principles for Service Management"
   ]
  },
  {
   "cell_type": "markdown",
   "metadata": {},
   "source": [
    "- Value creation through services\n",
    "- 4P's of implementing service: People, Process, Product, Partner\n",
    "- 5 aspects of service design: \n",
    "  - services\n",
    "  - management information system and tools\n",
    "  - technologies and management architectures\n",
    "  - processes\n",
    "  - mesurements and metrics\n",
    "- CSI Approch:\n",
    "- CSFs and KPIs\n",
    "- Baselines\n",
    "- Technology, Process, and service metrics"
   ]
  },
  {
   "cell_type": "markdown",
   "metadata": {},
   "source": [
    "- Service\n",
    "  - Features/Quality/Components\n",
    "  - Outcomes\n",
    "  - Value creating\n",
    "    - Utility: fit for purpose / what customer get\n",
    "    - Warranty: fit for use / how its delivered\n",
    "  - Service Types\n",
    "    - Internal Service / External Service\n",
    "    - Core Service / Enabling Service / Enhancing Service\n",
    "  - Service Delivery Type/Service Provider Type\n",
    "      - In-sourcing\n",
    "      - Out-sourcing\n",
    "      - Co-sourcing\n",
    "      - Knowledge Process Outsourcing\n",
    "      - Application Outsourcing\n",
    "      - Business Process Outsourcing\n",
    "      - Partnership/Multi-outsourcing\n",
    "\n",
    "- Service Management \n",
    "  - Resources:  things such as people, information, application, financial capital\n",
    "  - Capabilities: the ability to use resources to create value\n",
    "    - Management\n",
    "    - Organization\n",
    "    - Process\n",
    "    - Knoledge\n",
    "  - Organizations use Capabilities and Resources to create value in the form of goods and services for Customers"
   ]
  },
  {
   "cell_type": "markdown",
   "metadata": {},
   "source": [
    "### Role/Asset/Process/Function/Service"
   ]
  },
  {
   "cell_type": "markdown",
   "metadata": {},
   "source": [
    "- Role \n",
    "  - a set of responsibilities, activities and authorities granted to a person or team\n",
    "- Role Types\n",
    "  - Service Provider: internal / shared / external\n",
    "  - Customer: internal / external\n",
    "  - User\n",
    "  - Supplier\n",
    "  - Stakeholder\n",
    "  - Process Owner / Process Manager / Process Partitioner"
   ]
  },
  {
   "cell_type": "markdown",
   "metadata": {},
   "source": [
    "- Process\n",
    "  - Structured set of activities designed to accomplish a defined objective\n",
    "  - Inputs & Outputs\n",
    "  - Measurable / Result-Oriented / Triggable\n",
    "  - Maturity Level of Process\n",
    "    - Initial\n",
    "    - Repeatable\n",
    "    - Defined\n",
    "    - Managed\n",
    "    - Optimized\n",
    "  - Own practices and knowledge body\n",
    "- Process Category\n",
    "  - Governance Process\n",
    "    - SS\n",
    "    - SD\n",
    "  - Operational Process\n",
    "    - ST\n",
    "    - SO\n",
    "    - CSI"
   ]
  },
  {
   "cell_type": "markdown",
   "metadata": {},
   "source": [
    "- Function\n",
    "  - Team or group of people and tools they use to carry out one or more processes or activities\n",
    "- Service Support Functions: \n",
    "  - Service Desk \n",
    "  - Incident Management \n",
    "  - Problem Management \n",
    "  - Change Management \n",
    "  - Configuration Management \n",
    "  - Release Management\n",
    "- Service Delivery Functions: \n",
    "  - Availability Management \n",
    "  - IT Services Continuity Management \n",
    "  - Capacity Management \n",
    "  - Financial Management \n",
    "  - Service Level Management"
   ]
  },
  {
   "cell_type": "markdown",
   "metadata": {},
   "source": [
    "- Assets\n",
    "  - Includes: Capital, Infrastructure, Application, Infomation, People\n",
    "  - Types: \n",
    "    - Resources: Direct inputs for production\n",
    "    - Capabilities: Ability to coordinate, control, and deploy"
   ]
  },
  {
   "cell_type": "markdown",
   "metadata": {},
   "source": [
    "- Business Case\n",
    "  - Introduction – business objectives addressed\n",
    "  - Methods and assumptions- boundaries of the business case\n",
    "  - Business Impacts – Financial and non financial\n",
    "  - Risks and Contingencies\n",
    "  - Recommendations "
   ]
  },
  {
   "cell_type": "markdown",
   "metadata": {},
   "source": [
    "## Service Lifecycle Modules"
   ]
  },
  {
   "cell_type": "markdown",
   "metadata": {},
   "source": [
    "### Service Strategy"
   ]
  },
  {
   "cell_type": "markdown",
   "metadata": {},
   "source": [
    "#### Key Princples"
   ]
  },
  {
   "cell_type": "markdown",
   "metadata": {},
   "source": [
    "- SS Goals\n",
    "  - Clarifies relationships between services, systems, or processes and the business models, strategies, or objectives they support\n",
    "- Questionares\n",
    "  - What are we going to provide?\n",
    "  - Can we afford it?\n",
    "  - Can we provide enough of it?\n",
    "  - How do we gain competitive advantage?\n",
    "- Terms\n",
    "  - Value Creation\n",
    "  - Utility and Warranty\n",
    "  - Service Portfolio\n",
    "  - Risk Management \n",
    "- 4Ps of Strategy\n",
    "    - Perspective: Vision, mission and strategic goals\n",
    "    - Position\n",
    "    - Plan\n",
    "    - Pattern\n",
    "- Service Category\n",
    "  - Core Service/Enabling Service/Enhancing Service\n",
    "  - Business Service/Technical Service"
   ]
  },
  {
   "cell_type": "markdown",
   "metadata": {},
   "source": [
    "#### SS Roles"
   ]
  },
  {
   "cell_type": "markdown",
   "metadata": {},
   "source": [
    "- SS Phase Roles\n",
    "  - IT strategy manager \n",
    "  - IT steering group\n",
    "  - IT director/service management director\n",
    "  - Service portfolio manager \n",
    "  - Business relationship manager \n",
    "  - Customer/user\n",
    "  - Financial manager\n",
    "  - Demand manager\n",
    "  - Chief sourcing officer"
   ]
  },
  {
   "cell_type": "markdown",
   "metadata": {},
   "source": [
    "#### SS Processes(5) and Functions"
   ]
  },
  {
   "cell_type": "markdown",
   "metadata": {},
   "source": [
    "- Strategy Management for IT services\n",
    "  - Terms:     \n",
    "      - 4Ps of Strategy\n",
    "        - Strategic Assessment\n",
    "          - RTB: Run the business\n",
    "          - GTB: Grow the business\n",
    "          - TTB: Transform the business\n",
    "        - Strategy Generation\n",
    "          - Utility - fit for purpose\n",
    "          - Warranty- fit for use\n",
    "          - Utility and Warranty Create Value\n",
    "  - Objectives: \n",
    "  - Scope: \n",
    "  - Input\n",
    "  - Activities:\n",
    "  - Output  \n",
    "\n",
    "- Demand Management\n",
    "  - Terms: \n",
    "      - PBA: Pattern of Business Activity\n",
    "      - UP: User Profile\n",
    "  - Objectives: \n",
    "    - assist the IT Service Provider in understanding and influencing Customer demand for services and the provision of Capacity to meet these demands\n",
    "  - Scope: \n",
    "  - Input\n",
    "  - Activities:\n",
    "  - Output \n",
    "\n",
    "- Service Portfolio Management\n",
    "  - Terms: \n",
    "    -  Service Portfolio\n",
    "      - Service pipeline\n",
    "      - Service catalog\n",
    "      - Retired service\n",
    "    - SKMS: Service Knowledge Management System\n",
    "      - Service Lifecycle: SC/SS/SD/SO\n",
    "      - Service Portfolio: Service Pipeline/Service Catalogue  \n",
    "  - Objectives: \n",
    "    - Align services with business requirements\n",
    "  - Scope: \n",
    "  - Input\n",
    "  - Activities:\n",
    "    - Define\n",
    "    - Analyse\n",
    "    - Approve\n",
    "    - Charter\n",
    "  - Output  \n",
    "\n",
    "- Financial Management for IT services\n",
    "  - Terms: \n",
    "    - financial Planning Cycle: Annual/Monthly\n",
    "  - Objectives: \n",
    "    - balance demand/supply paradigm\n",
    "    - differentiates cost/quality paradigm\n",
    "  - Scope: \n",
    "  - Input\n",
    "  - Activities:\n",
    "    - Budget/Accounting/Charging\n",
    "  - Output\n",
    "\n",
    "- Business Relationship Management\n",
    "  - Terms: \n",
    "  - Objectives: \n",
    "    - Create and maintain communication between customer and provider\n",
    "    - Strategic align business value with services offering\n",
    "  - Scope: \n",
    "  - Input\n",
    "  - Activities:\n",
    "  - Output  "
   ]
  },
  {
   "cell_type": "markdown",
   "metadata": {},
   "source": [
    "#### Key Documents"
   ]
  },
  {
   "cell_type": "markdown",
   "metadata": {},
   "source": [
    "### Service Design"
   ]
  },
  {
   "cell_type": "markdown",
   "metadata": {},
   "source": [
    "#### Key Princples"
   ]
  },
  {
   "cell_type": "markdown",
   "metadata": {},
   "source": [
    "- Goals:\n",
    "  - Design efficient and effective processes for the design, transition, operation, and improvement of high‐quality processes\n",
    "  \n",
    "- 5 aspects of service design: \n",
    "  - service solution\n",
    "  - management information system and tools\n",
    "  - technologies and management architectures\n",
    "  - processes\n",
    "  - mesurements and metrics\n",
    "  \n",
    "- 4Ps\n",
    "  - People: skills, training, communication \n",
    "  - Process: actions, activities, changes, goals, improving paths \n",
    "  - Product: tools, monitors, measures, documents \n",
    "  - Partner: specialist suppliers\n",
    "- Questionares\n",
    "  - How are we going to provide it?\n",
    "  - How are we going to build it?\n",
    "  - How are we going to test it?\n",
    "  - How are we going to deploy it?\n",
    "  - VBF: Virtual Business Function\n",
    "- SDP: Service Design Package\n",
    "  - Contents\n",
    "    - Business requirements\n",
    "    - Service applicability\n",
    "    - Service contacts\n",
    "    - Service functional requirements\n",
    "    - Service level requirements\n",
    "    - Service and operational management requirements\n",
    "    - Service design and topology\n",
    "    - Organizational readiness assessment\n",
    "    - Service program\n",
    "    - Service transition plan\n",
    "    - Service operational acceptance plan\n",
    "    - Service acceptance criteria"
   ]
  },
  {
   "cell_type": "markdown",
   "metadata": {},
   "source": [
    "#### SD Roles"
   ]
  },
  {
   "cell_type": "markdown",
   "metadata": {},
   "source": [
    "- SD Phase Roles\n",
    "  - design coordination process manager\n",
    "  - SCM process manager\n",
    "  - SLM process manager\n",
    "  - Availability management process manager\n",
    "  - Capacity management process manager \n",
    "  - ITSCM process manager\n",
    "  - Security management process manager\n",
    "  - Supplier management process manager\n",
    "  - IT planner\n",
    "  - IT designer/architect"
   ]
  },
  {
   "cell_type": "markdown",
   "metadata": {},
   "source": [
    "####  SD Processes(8) and Functions"
   ]
  },
  {
   "cell_type": "markdown",
   "metadata": {},
   "source": [
    "- Design Coordination\n",
    "  - Terms: \n",
    "  - Objectives: \n",
    "    - coordinate resources/activities of SD phase\n",
    "  - Scope: \n",
    "  - Input\n",
    "  - Activities:\n",
    "  - Output  \n",
    "  \n",
    "- Service Catalogue Management\n",
    "  - Terms: \n",
    "    - a subset of service portfolio\n",
    "    - available to authorized roles\n",
    "    - 2-views: \n",
    "      - Business/Customer Service Catalogue\n",
    "      - Technical/Support Service Catalogue\n",
    "    - 3-veiws:\n",
    "      - wholesale customer service catalogue\n",
    "      - retail customer service catalogue\n",
    "      - support service catalogue\n",
    "  - Objectives: \n",
    "    - provides single source of consistant information about all live and transitional services\n",
    "  - Scope: \n",
    "  - Input\n",
    "  - Activities:\n",
    "  - Output   \n",
    "  \n",
    "- Service Level Management\n",
    "  - Terms: \n",
    "    - BRM-SLM relationship\n",
    "    - SLR(Requirements)/SLA(Agreement)\n",
    "      - SLA Framework\n",
    "        - Corporate Level SLA: service based\n",
    "        - Customer Level SLA: customer based\n",
    "        - Multi-level SLA: copr. / customer / service level SLA\n",
    "    - Underpinning Contract (UC): Outsourced SLA\n",
    "    - OLA: Operational Level Agreement \n",
    "    - UC: Underpin Contract\n",
    "    - SQP: Service Quality Plan\n",
    "    - SIP: Service Improvement Plan\n",
    "  - Objectives: \n",
    "    - ensure customer experience and import customer satisfaction\n",
    "  - Scope: \n",
    "  - Input\n",
    "  - Activities:\n",
    "    - define, negotiate, document, agree, monitor, measure, report, review, imporve service level    \n",
    "  - Output   \n",
    "\n",
    "- Capacity Management\n",
    "  - Terms: \n",
    "      - Business Capacity/Service Capacity/Component Capacity\n",
    "      - PBA: Pattern of Business Activity\n",
    "        - what, when, where, who, how, how many\n",
    "      - Capacity Database: CIMS\n",
    "          - CP: Capacity Plan\n",
    "          - CPD: Capacity Performance Data\n",
    "          - Business Forcasts\n",
    "  - Objectives: \n",
    "  - Scope: \n",
    "  - Input\n",
    "  - Activities:\n",
    "  - Output   \n",
    " \n",
    "- Availability Management\n",
    "  - Terms: \n",
    "      - Proactive / Reactive Activities\n",
    "      - AMIS: Availability Management Information System\n",
    "      - ARRMSS:\n",
    "        - Availability/Reliability/Resilience/Maintainability/Servicebility/Security\n",
    "        - MTBF: Availability\n",
    "        - MTRS: Maintainability\n",
    "        - MTBSI: Reliability\n",
    "          - MTBSI = MTBF + MTRS\n",
    "      - VBFs: Vital Business Function\n",
    "        - HA: high availability\n",
    "        - FT: fault tolerance\n",
    "        - Continuous Operation\n",
    "        - Continuous Availability\n",
    "  - Objectives: \n",
    "  - Scope: \n",
    "  - Input\n",
    "  - Activities:\n",
    "  - Output  \n",
    "\n",
    "- Service Continuity Management\n",
    "  - Terms: \n",
    "      - MoR: Management of Risk\n",
    "      - BIA: Business Impact Analysis \n",
    "      - RPO / RTO \n",
    "      - Cold Standby / Warm Standby / Hot Standby / Active-Active\n",
    "  - Objectives: \n",
    "  - Scope: \n",
    "  - Input\n",
    "  - Activities:    \n",
    "  - Output  \n",
    "\n",
    "- Information Security Management (ISO 27K & 20K)\n",
    "  - Terms: \n",
    "      - ISMS: Information Security Management System\n",
    "      - ITSP: IT Information Security Policy\n",
    "      - CIAAN:\n",
    "        - Confidentiality/Integrity/Availability/Authenticity/Non-Repudiate  \n",
    "  - Objectives: \n",
    "  - Scope: \n",
    "  - Input\n",
    "  - Activities:\n",
    "  - Output \n",
    "\n",
    "- Supplier Management\n",
    "  - Terms: \n",
    "    - Supplier Types: Stategic / Tactical / Operational / Commodity\n",
    "      - Supplier Category Magic square\n",
    "        - x-axis: Risk/Impact \n",
    "        - y-axis: Value/Importance\n",
    "    - SSIP: Supplier service improvement plans (SSIP)\n",
    "    - Supplier survey reports\n",
    "    - Supplier & Contract performance report\n",
    "    - SCIMS:\n",
    "      - Supplier and Contract Database: SCD\n",
    "  - Objectives: \n",
    "  - Scope: \n",
    "  - Input\n",
    "  - Activities:\n",
    "  - Output  \n"
   ]
  },
  {
   "cell_type": "markdown",
   "metadata": {},
   "source": [
    "#### Key Documents"
   ]
  },
  {
   "cell_type": "markdown",
   "metadata": {},
   "source": [
    "### Service Transition"
   ]
  },
  {
   "cell_type": "markdown",
   "metadata": {
    "heading_collapsed": true
   },
   "source": [
    "#### Key Princples"
   ]
  },
  {
   "cell_type": "markdown",
   "metadata": {
    "hidden": true
   },
   "source": [
    "- Questionares"
   ]
  },
  {
   "cell_type": "markdown",
   "metadata": {},
   "source": [
    "#### ST Roles"
   ]
  },
  {
   "cell_type": "markdown",
   "metadata": {},
   "source": [
    "- ST Phase Roles\n",
    "  - Transition planning and support process manager\n",
    "  - Change management process manager\n",
    "  - Change authority\n",
    "  - SACM process manager \n",
    "  - Release and deployment management process manager\n",
    "  - Service validation and testing process manager\n",
    "  - Change evaluation process manager\n",
    "  - Knowledge management process manager"
   ]
  },
  {
   "cell_type": "markdown",
   "metadata": {},
   "source": [
    "#### ST  Processes(7) and Functions"
   ]
  },
  {
   "cell_type": "markdown",
   "metadata": {},
   "source": [
    "- Transition Planning and Support\n",
    "  - Terms: \n",
    "  - Objectives: \n",
    "    - provide overall planning for service transitions and to coordinate the resources that they require\n",
    "  - Scope: \n",
    "  - Input\n",
    "  - Activities:\n",
    "    - Release and Deployment Planning\n",
    "    - Release Build and Test\n",
    "    - Deployment\n",
    "    - Review and Close\n",
    "  - Output \n",
    "  \n",
    "- Service Asset and Configuration Management\n",
    "  - Terms: \n",
    "    - CMS / CMDB / RP(Release Package) / RU(Release Unit) / CI(Configuration)\n",
    "      - CMS Stack:\n",
    "        - Data sources and tools, \n",
    "        - information integration, \n",
    "        - knowledge processing (scorecards, dashboards etc.), \n",
    "        - presentation\n",
    "    - DML: Definitive Media Library  \n",
    "      - The only source for build and distribution\n",
    "      - Master copies of all software assets\n",
    "  - Objectives: \n",
    "    - Manages the logical Model of the infrastructure\n",
    "    - Shows how Assets and Components interrelate \n",
    "  - Scope: \n",
    "  - Input\n",
    "  - Activities:\n",
    "    - Identify, Control, Record, Report, Audit, Verify CIs/Assets\n",
    "      - attributes/versions/licenses/relationships\n",
    "  - Output  \n",
    " \n",
    "- Change Management\n",
    "  - Terms: \n",
    "    - Change : The addition, modification or removal of CIs\n",
    "    - RFC: Request for Change\n",
    "      - Change record\n",
    "    - Change Proposals\n",
    "      - Remediation planning\n",
    "    - Change Types: \n",
    "      - Standard Change: preproved\n",
    "      - Normal Change\n",
    "      - Emergency Change\n",
    "      - Major Change\n",
    "    - Change Model\n",
    "      - Steps:\n",
    "          - who Rasied\n",
    "          - what Reason\n",
    "          - what Return\n",
    "          - what Risks\n",
    "          - what Resources\n",
    "          - who Responsible\n",
    "          - what Relationship\n",
    "       - Triggers\n",
    "       - Responsibility\n",
    "       - Escalate Procedure\n",
    "    - CAB / ECAB: Change Advisory Board / Emergency Change Advisory Board \n",
    "    - FSC: Forward Schedule of Changes\n",
    "    - SC: Schedule of Changes    \n",
    "    - PSA / PSO: Projected Service Availability / Projected Service Outage \n",
    "    - PIR: Post Implementation Review\n",
    "  - Objectives: \n",
    "  - Scope: \n",
    "  - Input\n",
    "  - Activities:\n",
    "      - Registration and classification\n",
    "      - Approval\n",
    "      - Authorization and Implementation\n",
    "      - Verify\n",
    "  - Output \n",
    "\n",
    "- Evaluation Management\n",
    "  - Terms: \n",
    "  - Objectives: \n",
    "  - Scope: \n",
    "  - Input\n",
    "  - Activities:\n",
    "  - Output  \n",
    " \n",
    "- Release and Deployment Management\n",
    "  - Terms: \n",
    "    - Release Policy\n",
    "    - Release Unit\n",
    "    - Release Package\n",
    "    - Release Types\n",
    "      - Major.Minor.Patch\n",
    "      - Emergency Release\n",
    "  - Objectives: \n",
    "    - Plan, schedule and control the build, test and deployment of releases and to deliver new functionality required by the business while protecting the integrity of existing services\n",
    "  - Scope: \n",
    "  - Input\n",
    "  - Activities:\n",
    "  - Output \n",
    "  \n",
    "- Service Validation and Testing Management\n",
    "  - Terms: \n",
    "    - V‐Service Model\n",
    "  - Objectives: \n",
    "  - Scope: \n",
    "  - Input\n",
    "  - Activities:\n",
    "  - Output \n",
    "\n",
    "- Knowledge Management \n",
    "  - Terms: \n",
    "      - SKMS: Service Knowledge Management System\n",
    "        - SKMS Stack:\n",
    "          - Presentation Layer\n",
    "          - Knowledge Processing Layer\n",
    "          - Information Integration Layer\n",
    "          - Data Gathering Layer\n",
    "      - DIKW Model: Data / Information / Knowledge / Wisdom\n",
    "  - Objectives: \n",
    "    - Gather, analyze, store, share, use and maintain knowledge, information and data throughout the organization\n",
    "  - Scope: \n",
    "  - Input\n",
    "  - Activities:\n",
    "  - Output   \n"
   ]
  },
  {
   "cell_type": "markdown",
   "metadata": {},
   "source": [
    "#### Key Documents"
   ]
  },
  {
   "cell_type": "markdown",
   "metadata": {},
   "source": [
    "### Service Operation"
   ]
  },
  {
   "cell_type": "markdown",
   "metadata": {},
   "source": [
    "#### Key Princples"
   ]
  },
  {
   "cell_type": "markdown",
   "metadata": {},
   "source": [
    "- Goals\n",
    "  - Coordinate and carry‐out day‐to‐day activities and processes to deliver and manage services at agreed upon levels\n",
    "- Questionares"
   ]
  },
  {
   "cell_type": "markdown",
   "metadata": {},
   "source": [
    "#### SO Roles"
   ]
  },
  {
   "cell_type": "markdown",
   "metadata": {},
   "source": [
    "- SO Phase Roles\n",
    "  - Incident management process manager \n",
    "  - Problem management process manager\n",
    "  - Request fulfilment process manager\n",
    "  - Event management process manager\n",
    "  - Access management process manager "
   ]
  },
  {
   "cell_type": "markdown",
   "metadata": {},
   "source": [
    "#### SO  Processes(5) and Functions(4)"
   ]
  },
  {
   "cell_type": "markdown",
   "metadata": {},
   "source": [
    "- Request Fulfilment (Standard Changes)\n",
    "  - Terms: \n",
    "  - Objectives: \n",
    "    - Mange the lifecycle of all service requests from the users to maintain user and customer satisfaction.\n",
    "  - Scope: \n",
    "  - Input\n",
    "  - Activities:\n",
    "  - Output  \n",
    "\n",
    "- Access Management\n",
    "  - Terms: \n",
    "    - RBAC: Role based access control\n",
    "      - S = Subject = A person or automated agent\n",
    "      - R = Role = Job function or title which defines an authority level\n",
    "      - P = Permissions = An approval of a mode of access to a resource\n",
    "      - SE = Session = A mapping involving S, R and/or P\n",
    "      - SA = Subject Assignment\n",
    "      - PA = Permission Assignment\n",
    "      - RH = Partially ordered Role Hierarchy.\n",
    "    - Identity\n",
    "      - User/Role/Group\n",
    "    - Privileges\n",
    "      - levels of access include read, write, execute, change, delete\n",
    "    - Service\n",
    "      - Service/Service Group\n",
    "  - Objectives: \n",
    "  - Scope:\n",
    "    - Verification of Legitimacy of Requests\n",
    "    - Monitoring of Identity Status\n",
    "    - Logging and tracking Access\n",
    "    - Granting/Removing/Restricting Access\n",
    "  - Input\n",
    "  - Activities:\n",
    "  - Output  \n",
    "\n",
    "- Event Management\n",
    "  - Terms: \n",
    "    - Event: any detectable or discernable occurrence that has significance for the management of the IT infrastructure\n",
    "    - Event Types: Informational/Warning/Exception\n",
    "    - Fault Tree Technics\n",
    "      - Events Node\n",
    "      - Logic Gate Node  \n",
    "    - Event Types: Informational / Warnning / Exception\n",
    "  - Objectives: \n",
    "    - Management of events through their lifecycle to detect events and determine appropriate action\n",
    "  - Scope: \n",
    "  - Input\n",
    "  - Activities:\n",
    "    - Occur\n",
    "    - Detect, Log, Filter, Notificate\n",
    "    - Analyse\n",
    "    - Response\n",
    "    - Review\n",
    "    - Close\n",
    "  - Output  \n",
    "  \n",
    "- Problem management\n",
    "  - Terms: \n",
    "    - Problem: The unknown underlying cause of one or more Incident\n",
    "    - RCA: Root Cause Analysis\n",
    "      - Fault tree analysis\n",
    "    - Reactive / Proactive activity\n",
    "    - Workaround/Known Error/KEDB\n",
    "    - Cause Effectiveness Analysis\n",
    "    - CFIA: Component Failure Impact Analysis \n",
    "  - Objectives: \n",
    "    - Manage the lifecycle of problems, proactively prevent recurrence of incidents Minimize impact to business due to errors in the IT infrastructure\n",
    "  - Scope: \n",
    "  - Input\n",
    "  - Activities:\n",
    "    - Detect\n",
    "    - Logging\n",
    "    - Categorize\n",
    "    - Prioritize\n",
    "    - Investigate/Diagonosis\n",
    "    - Workaround/Create KER\n",
    "    - Resolution\n",
    "    - Close \n",
    "  - Output  \n",
    "\n",
    "- Incident management\n",
    "  - Terms: \n",
    "    - Incident: an unplanned interruption to an IT service or reduction in the quality of an IT service\n",
    "    - Categorization: Application, Hardware, Service Request, Security\n",
    "    - Prioritization: Impact/Urgency/Priority  \n",
    "  - Objectives: \n",
    "    - Restore Service as Soon as Possible to minimize business impact\n",
    "  - Scope: \n",
    "  - Input\n",
    "  - Activities:\n",
    "    - Identify\n",
    "    - Logging\n",
    "    - Categorize\n",
    "    - Prioritize\n",
    "    - Initial Diagonosis\n",
    "    - Escalate\n",
    "    - Investigate/Diagonosis\n",
    "    - Resolution/Recovery\n",
    "    - Close    \n",
    "  - Output  \n",
    "  \n"
   ]
  },
  {
   "cell_type": "markdown",
   "metadata": {},
   "source": [
    "- Service Desk\n",
    "  - Terms: \n",
    "    - Deploy Mode: \n",
    "      - Local Service Desk\n",
    "      - Centralized Service Desk\n",
    "      - Virtual Service Desk \n",
    "      - Follow-The-Sun\n",
    "      - Specialized\n",
    "  - Objectives: \n",
    "    - Maintain single Point of Contact for the User Community\n",
    "  - Functionality: \n",
    "    - Manages Incidents and Service Requests\n",
    "  - Feature: \n",
    "\n",
    "- IT Operations Management\n",
    "  - Terms: \n",
    "      - IT Operations Control\n",
    "      - Facilities Management  \n",
    "  - Objectives: \n",
    "  - Functionality: \n",
    "  - Feature: \n",
    "\n",
    "- Technical Management\n",
    "  - Terms: \n",
    "      - Technical Maturity Model\n",
    "        - Technology Diven\n",
    "        - Technology Control\n",
    "        - Technology Integration\n",
    "        - Service Provision\n",
    "        - Strategic Contribution  \n",
    "  - Objectives: \n",
    "    - To plan, implement and maintain a stable technical infrastructure to support the business processes\n",
    "  - Functionality: \n",
    "  - Feature: \n",
    "      \n",
    "- Application Management\n",
    "  - Terms: \n",
    "  - Objectives: \n",
    "  - Functionality: \n",
    "  - Feature: "
   ]
  },
  {
   "cell_type": "markdown",
   "metadata": {},
   "source": [
    "#### Key Documents"
   ]
  },
  {
   "cell_type": "markdown",
   "metadata": {},
   "source": [
    "### Continual Service Improvement"
   ]
  },
  {
   "cell_type": "markdown",
   "metadata": {},
   "source": [
    "#### Key Princples"
   ]
  },
  {
   "cell_type": "markdown",
   "metadata": {},
   "source": [
    "- CSI Model\n",
    "  - What is the vision?\n",
    "    - Business vision, mission, goals, objectives\n",
    "  - Where are we now?\n",
    "    - Baseline assessments\n",
    "  - Where do we want to be?\n",
    "    - Measureable targets\n",
    "  - How do we get there?\n",
    "    - Service & Process Improvement\n",
    "  - How did we get there?\n",
    "    - Measurement and metrics\n",
    "  - How do we keep the momentum going?\n",
    "    - Revisit the vision (see 1. above and continue)\n",
    "- Service Gap Model\n",
    "  - Customer Side\n",
    "    - What do we want\n",
    "    - What do we need\n",
    "    - What will we get\n",
    "    - What did we get\n",
    "  - Provider Side \n",
    "    - SD/ST/SO/SS\n",
    "- Deming Cycle\n",
    "  - PDCA\n",
    "- Measure and Metric\n",
    "  - You cannot manage what you cannot control\n",
    "  - You cannot control what you cannot measure\n",
    "  - You cannot measure what you cannot define\n",
    "- RACI Matrix:\n",
    "  - R: Responsibility\n",
    "  - A: Accountability\n",
    "  - C: Consulted\n",
    "  - I: Informed\n",
    "- Vision to Measurements Model\n",
    "  - Vision\n",
    "  - Mission\n",
    "  - Goals\n",
    "  - Objectives\n",
    "  - Critical Success Factors\n",
    "  - KPIs\n",
    "  - Metrics\n",
    "  - Measurements"
   ]
  },
  {
   "cell_type": "markdown",
   "metadata": {},
   "source": [
    "#### CSI  Processes(1) and Functions"
   ]
  },
  {
   "cell_type": "markdown",
   "metadata": {},
   "source": [
    "- 7-Step Improvement Process\n",
    "  - Terms: \n",
    "    - Baseline\n",
    "    - Gap Analysis\n",
    "    - SWOT Analysis\n",
    "  - Objectives: \n",
    "    - Measure, analyze, review and recommend on improvement opportunities across service lifecycle\n",
    "  - Scope: \n",
    "  - Input\n",
    "  - Activities:\n",
    "    - Define what you should measure(Identify)\n",
    "    - Define what you can measure(Define)\n",
    "    - Gather data\n",
    "    - Process data\n",
    "    - Analyze data\n",
    "    - Present and use information\n",
    "    - Implement corrective action  \n",
    "  - Output  \n",
    "  \n"
   ]
  },
  {
   "cell_type": "markdown",
   "metadata": {},
   "source": [
    "- Service Measurement\n",
    "    - Baseline\n",
    "    - Critical Success Factors\n",
    "    - Metric\n",
    "    - KPIs\n",
    "- Service Reporting"
   ]
  },
  {
   "cell_type": "markdown",
   "metadata": {},
   "source": [
    "#### Key Documents"
   ]
  },
  {
   "cell_type": "markdown",
   "metadata": {
    "heading_collapsed": true
   },
   "source": [
    "## Service Capability Modules"
   ]
  },
  {
   "cell_type": "markdown",
   "metadata": {
    "hidden": true
   },
   "source": [
    "- Operational Support and Analysis\n",
    "\n",
    "- Planning Protection and Optimization\n",
    "\n",
    "- Release Control and Validation\n",
    "\n",
    "- Service Offering and Agreement"
   ]
  },
  {
   "cell_type": "markdown",
   "metadata": {},
   "source": [
    "# ITIL 4"
   ]
  },
  {
   "cell_type": "markdown",
   "metadata": {},
   "source": [
    "## Key Concepts"
   ]
  },
  {
   "cell_type": "markdown",
   "metadata": {},
   "source": [
    "### Value and Value Co-creation"
   ]
  },
  {
   "cell_type": "markdown",
   "metadata": {},
   "source": [
    "- Value\n",
    "  - Definition: Value is the perceived benefits, usefulness, and importance of something\n",
    "  - Attribute:\n",
    "    - Subjective by recipient\n",
    "- Value Co-creation\n",
    "  - Roles: \n",
    "    - Service Provider/Service Consummer "
   ]
  },
  {
   "cell_type": "markdown",
   "metadata": {},
   "source": [
    "### Goods, Products, Services"
   ]
  },
  {
   "cell_type": "markdown",
   "metadata": {},
   "source": [
    "- Product \n",
    "  - Definitioin: \n",
    "    - Product is a configuration of an organization’s resources, designed to offer value for a consumer\n",
    "  - Product combines and simplifies various of services\n",
    "\n",
    "- Service\n",
    "  - Definition: \n",
    "    - Service is a means of enabling value co-creation by facilitating the outcomes customers want to achieve, without the customer having to manage specific costs and risks.\n",
    "  - Views: Business View/IT View/Finance View\n",
    "  - Service Value: \n",
    "    - Perception: Usefulness\n",
    "    - Preference: Importance\n",
    "    - Outcome: Benefits\n",
    "      - Utility: fit for purpose, what service does\n",
    "      - Warranty: fit for use, how service performs\n",
    "\n",
    "- Service Systems\n",
    "  - Definition:\n",
    "    - Service Systems or organization is a dynamic configuration of resources such as people, process, technology and information\n",
    "  - Operant resources/Operand resources\n",
    "  - Dynamic: composing, recomposing, and decomposing over time\n",
    "\n",
    "- Service offering\n",
    "  - Definition:\n",
    "    - SO is a formal description of one or more services, designed to address the needs of a target consumer group. \n",
    "  - A service offering may include goods, access to resources, and service actions\n",
    "\n",
    "- Service management\n",
    "  - Definition:\n",
    "    - a set of specialised organizational capabilities for enabling value for customers in the form of services\n",
    "\n",
    "- View\n",
    "  - ![ServiceView](ITIL4-ServiceView.png)\n",
    "  - ![ITIL4-ServiceValueModel](ITIL4-ServiceValueModel.png)"
   ]
  },
  {
   "cell_type": "markdown",
   "metadata": {},
   "source": [
    "### Organizations, SP, SC, and Stakeholders"
   ]
  },
  {
   "cell_type": "markdown",
   "metadata": {},
   "source": [
    "- Stakeholders: \n",
    "  - Organizations, Service Provider, Service Consumer, Customer, User, Sponser"
   ]
  },
  {
   "cell_type": "markdown",
   "metadata": {},
   "source": [
    "### Value and Service Relationships"
   ]
  },
  {
   "cell_type": "markdown",
   "metadata": {},
   "source": [
    "- Service Relationships\n",
    "  - consists of joint activities performed by a service provider and a service consumer to ensure continual value co-creation based on agreed and available service offerings\n",
    "  - includes service provisioning, service consumption, service relationship management\n"
   ]
  },
  {
   "cell_type": "markdown",
   "metadata": {},
   "source": [
    "### Misc"
   ]
  },
  {
   "cell_type": "markdown",
   "metadata": {},
   "source": [
    "- Outcome\n",
    "  - a result for a stakeholder enabled by one or more outputs\n",
    "- Output\n",
    "  - a tangible/intangible deliverable of an activity.\n",
    "- Cost\n",
    "  - Financial: amount of money spent on a specific activity or resource\n",
    "  - HR Capital: man-hours / Full Time Equivalent(FTEs)\n",
    "- Risk\n",
    "  - a possible event that could cause lost, harm or make it more difficult to achieve objectives\n",
    "- Utility\n",
    "  - fit for purpose\n",
    "  - what to deliver\n",
    "- Warranty\n",
    "  - fit for use\n",
    "  - how to deliver"
   ]
  },
  {
   "cell_type": "markdown",
   "metadata": {},
   "source": [
    "## Four Dimensions"
   ]
  },
  {
   "cell_type": "markdown",
   "metadata": {},
   "source": [
    "- Key Elements of ITIL V4:\n",
    "  - Core Circle\n",
    "    - Values\n",
    "    - Products and Services\n",
    "  - Four Dimensions(Resources)\n",
    "    - Organizations and People\n",
    "      - Formal Organizational Structrue\n",
    "        - Organization Hierarchy\n",
    "      - Required staffing and competencies\n",
    "      - Roles and responsibilities\n",
    "      - Culture\n",
    "    - Information and Technology\n",
    "      - Information and knowledge\n",
    "      - Technologies\n",
    "        - Workflow Management\n",
    "        - Knowledge Management\n",
    "        - Inventory System\n",
    "        - Communication System\n",
    "        - Analytical Tools\n",
    "      - Relationships between SVS components\n",
    "    - Values Streams and Processes\n",
    "      - Activities undertaken\n",
    "      - Organization of activities\n",
    "      - Value creation enabled\n",
    "    - Partners and Suppliers\n",
    "      - Provider/Consumer relationships\n",
    "      - Partner/Supplier strategy\n",
    "      - Service integration and management\n",
    "      - Factors influencing supplier strategies\n",
    "  - Six External Factors:PESTLE\n",
    "    - Political\n",
    "    - Economical\n",
    "    - Social\n",
    "    - Technological\n",
    "    - Legal\n",
    "    - Environmental"
   ]
  },
  {
   "cell_type": "markdown",
   "metadata": {},
   "source": [
    "- 4D View\n",
    "  - ![4Dimensions](ITIL4-4D-PESTLE.png)"
   ]
  },
  {
   "cell_type": "markdown",
   "metadata": {},
   "source": [
    "## Service Value System(SVS)"
   ]
  },
  {
   "cell_type": "markdown",
   "metadata": {},
   "source": [
    "### SVS"
   ]
  },
  {
   "cell_type": "markdown",
   "metadata": {},
   "source": [
    "- SVS Definition\n",
    "  - Describle how all the components and activities of the organization work together as a system to enable value co-cocreation\n",
    "- SVS View\n",
    "  - ![ITIL4 SVS](ITIL4-SVS.png)"
   ]
  },
  {
   "cell_type": "markdown",
   "metadata": {},
   "source": [
    "- Input\n",
    "  - Opportunities/Demands\n",
    "- SVS\n",
    "  - Guiding principles\n",
    "    - Define: \n",
    "      - Recommandations that guide an organization in all circumstances\n",
    "    - 7 Principles:\n",
    "      - Focus on value\n",
    "        - CX/UX centric\n",
    "      - Start where you are\n",
    "      - Progress iteratively with feedback\n",
    "        - Lean/Agile/DevOps\n",
    "      - Collaborate and promote visibility\n",
    "      - Think and work holistically\n",
    "      - Keep it simple and practical\n",
    "        - Lean/Agile/DevOps\n",
    "      - Optimize and Automate\n",
    "        - Lean/Agile/DevOps\n",
    "  - Governance\n",
    "    - means by which an organization is directed and controlled\n",
    "  - Service Value Chain\n",
    "    - Plan\n",
    "    - Engage\n",
    "    - Design/Transition\n",
    "    - Obtain/Build\n",
    "    - Deliver/Operation/Support\n",
    "    - Improve\n",
    "  - Practices\n",
    "  - Continual Improvment\n",
    "    - Cynefin framework\n",
    "- Output\n",
    "  - Values"
   ]
  },
  {
   "cell_type": "markdown",
   "metadata": {},
   "source": [
    "### SVC"
   ]
  },
  {
   "cell_type": "markdown",
   "metadata": {},
   "source": [
    "- Service Value Chain Activities\n",
    "  - Plan\n",
    "    - Stategic/Tactical/Operational\n",
    "    - Roadmap\n",
    "  - Engage\n",
    "    - Requirement/Service/Product/Portfolio\n",
    "  - Design/Transition\n",
    "    - Architecture/Policy\n",
    "  - Obtain/Build\n",
    "  - Deliver/Operation/Support\n",
    "  - Improve\n",
    "    - Performance Information\n",
    "    - Knowledge\n",
    "    - Improvement Opportunity\n",
    "  \n",
    "- SVC View\n",
    "  - ![ITIL4 SVC](ITIL4-SVC.png)"
   ]
  },
  {
   "cell_type": "markdown",
   "metadata": {},
   "source": [
    "## Guding Principles"
   ]
  },
  {
   "cell_type": "markdown",
   "metadata": {},
   "source": [
    "  - 7 Guiding principles\n",
    "    - Focus on value\n",
    "      - CX/UX centric\n",
    "    - Start where you are\n",
    "    - Progress iteratively with feedback\n",
    "    - Collaborate and promote visibility\n",
    "    - Think and work holistically\n",
    "    - Keep it simple and practical\n",
    "    - Optimize and Automate"
   ]
  },
  {
   "cell_type": "markdown",
   "metadata": {},
   "source": [
    "## Processes to Practices"
   ]
  },
  {
   "cell_type": "markdown",
   "metadata": {},
   "source": [
    "- Process:\n",
    "  - 4 key Characteristics:\n",
    "    - Mesurable\n",
    "    - Consumer/User\n",
    "    - Respond to specific trigger\n",
    "    - Deliver specific results\n",
    "  - 3 Process Components:\n",
    "    - Process Control: Owner, Documentation, Policy, Objective, Feedback\n",
    "      - Design, Management and Change Control\n",
    "    - Process: Activities, Metrics, Roles, Improvements, Procedures, Instructions\n",
    "      - Collection of activates and roles required to move inputs to outputs\n",
    "    - Process Enablers: Resources, Capabilities\n",
    "      - Appropriate Resource's and Capabilities to perform the process activities\n",
    "  - 3E Quality Control\n",
    "    - Effectiveness\n",
    "    - Efficiency\n",
    "    - Economy\n",
    "- Practice\n",
    "  -  practice is a set of organizational resources designed for performing work or accomplishing an objective\n",
    "- Tools:\n",
    "  - Heat map of practices with value chain activities"
   ]
  },
  {
   "cell_type": "markdown",
   "metadata": {},
   "source": [
    "- General Management Practices(17)\n",
    "  - Architecture Management\n",
    "  - Continual Improvement\n",
    "    - CIR: continual improvement register\n",
    "  - Information Security Management\n",
    "  - Knowledge Management\n",
    "  - Measurement and Reporting\n",
    "  - Portfolio Management\n",
    "  - Organizational Change Management\n",
    "  - Project Management\n",
    "  - Relationship Management\n",
    "  - Risk Management\n",
    "  - Service Financial Management\n",
    "  - Strategy Management\n",
    "  - Supplier Management\n",
    "  - Workforce and Talent Management \n",
    "- Service Management Practices(17) \n",
    "  - Availability Management\n",
    "  - Business Analysis\n",
    "  - Capacity and Performance Management\n",
    "  - Change Control\n",
    "  - Incident Management\n",
    "  - IT Asset Management\n",
    "  - Monitoring and Event Management\n",
    "  - Problem Management\n",
    "  - Release Management\n",
    "  - Service Catalog Management\n",
    "  - Service Configuration Management\n",
    "  - Service Continuity Management\n",
    "  - Service Design\n",
    "  - Service Desk\n",
    "    - Local Service Desk\n",
    "    - Centralized Service Desk\n",
    "    - Virtual Service Desk\n",
    "    - Follow-the-sun Service Desk\n",
    "  - Service Level Management\n",
    "  - Service Request Management\n",
    "  - Service Validation and Testing \n",
    "- Technical Management Practices(3)\n",
    "  - Deployment Management\n",
    "  - Infrastructure and Platform Management\n",
    "  - Software Development and Management"
   ]
  },
  {
   "cell_type": "markdown",
   "metadata": {},
   "source": [
    "![ITIL4 Process](ITIL4-4D-Process.png)"
   ]
  },
  {
   "cell_type": "markdown",
   "metadata": {},
   "source": [
    "## Integration"
   ]
  },
  {
   "cell_type": "code",
   "execution_count": null,
   "metadata": {},
   "outputs": [],
   "source": []
  },
  {
   "cell_type": "code",
   "execution_count": null,
   "metadata": {},
   "outputs": [],
   "source": []
  }
 ],
 "metadata": {
  "kernelspec": {
   "display_name": "Python 3",
   "language": "python",
   "name": "python3"
  },
  "language_info": {
   "codemirror_mode": {
    "name": "ipython",
    "version": 3
   },
   "file_extension": ".py",
   "mimetype": "text/x-python",
   "name": "python",
   "nbconvert_exporter": "python",
   "pygments_lexer": "ipython3",
   "version": "3.7.7"
  },
  "toc": {
   "base_numbering": 1,
   "nav_menu": {},
   "number_sections": true,
   "sideBar": true,
   "skip_h1_title": false,
   "title_cell": "Table of Contents",
   "title_sidebar": "Contents",
   "toc_cell": false,
   "toc_position": {
    "height": "calc(100% - 180px)",
    "left": "10px",
    "top": "150px",
    "width": "235.631px"
   },
   "toc_section_display": true,
   "toc_window_display": true
  }
 },
 "nbformat": 4,
 "nbformat_minor": 2
}
