{
 "cells": [
  {
   "cell_type": "markdown",
   "metadata": {},
   "source": [
    "# ITSM"
   ]
  },
  {
   "cell_type": "markdown",
   "metadata": {},
   "source": [
    "## Intro"
   ]
  },
  {
   "cell_type": "markdown",
   "metadata": {},
   "source": [
    "- Definition\n",
    "  - IT Service Management focuses on how an organization deliver and maintain IT services to customer.\n",
    "- Benifits\n",
    "  - Provides guidence to address services management challenges\n",
    "  - Improve customer satisfactions by delivering efficient services\n",
    "  - Better management of business risks and service disruption\n",
    "  - Enhance IT services\n",
    "  - Reduce IT costs\n",
    "  - Improve productivities."
   ]
  },
  {
   "cell_type": "code",
   "execution_count": null,
   "metadata": {},
   "outputs": [],
   "source": []
  },
  {
   "cell_type": "markdown",
   "metadata": {},
   "source": [
    "# ITIL V3"
   ]
  },
  {
   "cell_type": "markdown",
   "metadata": {},
   "source": [
    "## General"
   ]
  },
  {
   "cell_type": "markdown",
   "metadata": {},
   "source": [
    "- Definition\n",
    "  - a set of frameworks for ITSM helps in aligning IT services with business goals, delivering IT services using efficient methods.\n",
    "- Domain-of-Interest\n",
    "  - Service Lifecycle"
   ]
  },
  {
   "cell_type": "markdown",
   "metadata": {},
   "source": [
    "### Princples of ITSM"
   ]
  },
  {
   "cell_type": "code",
   "execution_count": null,
   "metadata": {},
   "outputs": [],
   "source": []
  },
  {
   "cell_type": "markdown",
   "metadata": {},
   "source": [
    "## Service Lifecycle Modules"
   ]
  },
  {
   "cell_type": "markdown",
   "metadata": {},
   "source": [
    "- Service Strategy\n",
    "  - \n",
    "- Service Design\n",
    "- Service Transition\n",
    "- Service Operation\n",
    "- Continual Service Improvement"
   ]
  },
  {
   "cell_type": "markdown",
   "metadata": {},
   "source": [
    "## Service Capability Modules"
   ]
  },
  {
   "cell_type": "markdown",
   "metadata": {},
   "source": [
    "- Operational Support and Analysis\n",
    "\n",
    "- Planning Protection and Optimization\n",
    "\n",
    "- Release Control and Validation\n",
    "\n",
    "- Service Offering and Agreement"
   ]
  },
  {
   "cell_type": "markdown",
   "metadata": {},
   "source": [
    "## Functions"
   ]
  },
  {
   "cell_type": "code",
   "execution_count": null,
   "metadata": {},
   "outputs": [],
   "source": []
  },
  {
   "cell_type": "markdown",
   "metadata": {},
   "source": [
    "# ITIL V4"
   ]
  },
  {
   "cell_type": "markdown",
   "metadata": {},
   "source": [
    "## Intro"
   ]
  },
  {
   "cell_type": "markdown",
   "metadata": {},
   "source": [
    "- Definition\n",
    "  - a set of frameworks for ITSM helps in aligning IT services with business goals, delivering IT services using efficient methods.\n",
    "- Domain-of-Interest\n",
    "  - Value\n",
    "  - Co-creating of value\n",
    "  - Outcome\n",
    "  - Manageing Specific Costs and Risks\n"
   ]
  },
  {
   "cell_type": "markdown",
   "metadata": {},
   "source": [
    "## Four Dimentions"
   ]
  },
  {
   "cell_type": "markdown",
   "metadata": {},
   "source": [
    "- Key Elements of ITIL V4:\n",
    "  - Core Circle\n",
    "    - Values\n",
    "    - Products and Services\n",
    "  - Four Dimentions\n",
    "    - Organizations and People\n",
    "    - Information and Technology\n",
    "    - Values streams and Processes\n",
    "    - Partners and Suppliers\n",
    "  - Six External Factors:PESTLE\n",
    "    - Political\n",
    "    - Economical\n",
    "    - Social\n",
    "    - Technological\n",
    "    - Legal\n",
    "    - Environmental"
   ]
  },
  {
   "cell_type": "markdown",
   "metadata": {},
   "source": [
    "## ITSM Value System"
   ]
  },
  {
   "cell_type": "markdown",
   "metadata": {},
   "source": [
    "- Front-End\n",
    "  - Opportunities/Demands\n",
    "- Midle-end\n",
    "  - Strategic principles\n",
    "  - Governance\n",
    "  - Service-Value Chain\n",
    "  - Practices\n",
    "  - Continual Improvment\n",
    "- Back-End\n",
    "  - Values"
   ]
  },
  {
   "cell_type": "markdown",
   "metadata": {},
   "source": [
    "## Guding Principles"
   ]
  },
  {
   "cell_type": "code",
   "execution_count": null,
   "metadata": {},
   "outputs": [],
   "source": []
  },
  {
   "cell_type": "markdown",
   "metadata": {},
   "source": [
    "## Processes to Practices"
   ]
  },
  {
   "cell_type": "markdown",
   "metadata": {},
   "source": [
    "- General Management Practices\n",
    "  - Architecture Management\n",
    "  - Continual Improvement\n",
    "  - Information Security Management\n",
    "  - Knowledge Management\n",
    "  - Measurement and Reporting\n",
    "  - Portfolio Management\n",
    "  - Organizational Change Management\n",
    "  - Project Management\n",
    "  - Relationship Management\n",
    "  - Risk Management\n",
    "  - Service Financial Management\n",
    "  - Strategy Management\n",
    "  - Supplier Management\n",
    "  - Workforce and Talent Management \n",
    "- Service Management Practices \n",
    "  - Availability Management\n",
    "  - Business Analysis\n",
    "  - Capacity and Performance Management\n",
    "  - Change Control\n",
    "  - Incident Management\n",
    "  - IT Asset Management\n",
    "  - Monitoring and Event Management\n",
    "  - Problem Management\n",
    "  - Release Management\n",
    "  - Service Catalog Management\n",
    "  - Service Configuration Management\n",
    "  - Service Continuity Management\n",
    "  - Service Design\n",
    "  - Service Desk\n",
    "  - Service Level Management\n",
    "  - Service Request Management\n",
    "  - Service Validation and Testing \n",
    "- Technical Management Practices\n",
    "  - Deployment Management\n",
    "  - Infrastructure and Platform Management\n",
    "  - Software Development and Management \n"
   ]
  },
  {
   "cell_type": "markdown",
   "metadata": {},
   "source": [
    "## Integration"
   ]
  },
  {
   "cell_type": "code",
   "execution_count": null,
   "metadata": {},
   "outputs": [],
   "source": []
  },
  {
   "cell_type": "code",
   "execution_count": null,
   "metadata": {},
   "outputs": [],
   "source": []
  }
 ],
 "metadata": {
  "kernelspec": {
   "display_name": "Python 3",
   "language": "python",
   "name": "python3"
  },
  "language_info": {
   "codemirror_mode": {
    "name": "ipython",
    "version": 3
   },
   "file_extension": ".py",
   "mimetype": "text/x-python",
   "name": "python",
   "nbconvert_exporter": "python",
   "pygments_lexer": "ipython3",
   "version": "3.7.5"
  },
  "toc": {
   "base_numbering": 1,
   "nav_menu": {},
   "number_sections": true,
   "sideBar": true,
   "skip_h1_title": false,
   "title_cell": "Table of Contents",
   "title_sidebar": "Contents",
   "toc_cell": false,
   "toc_position": {},
   "toc_section_display": true,
   "toc_window_display": true
  }
 },
 "nbformat": 4,
 "nbformat_minor": 2
}
