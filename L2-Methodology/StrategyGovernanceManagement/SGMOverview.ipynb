{
 "cells": [
  {
   "cell_type": "markdown",
   "metadata": {},
   "source": [
    "# Corporate Strategy"
   ]
  },
  {
   "cell_type": "markdown",
   "metadata": {},
   "source": [
    "## Strategy Introduction:"
   ]
  },
  {
   "cell_type": "markdown",
   "metadata": {},
   "source": [
    "- Strategy Definition:\n",
    "  - Is related to activities which move organization from its current position to desired future state \n",
    "  - Is concerned with the resources necessary for implementation of a plan Thus Strategy is:\n",
    "    - a game plan to oust the competition \n",
    "    - to scan external & internal environment \n",
    "    - to make a decision for markets segmentation\n",
    "    - to make a decision for business development\n",
    "  - a consciously and purposefully developed PLAN;\n",
    "  - a PLOY to outmaneuver a competitor;\n",
    "  - a PATTERN in a stream of actions, whether intended or not;\n",
    "  - a POSITION defined either with respect to a competitor, in the context of a number of competitors, or with respect to markets; and as\n",
    "  - a PERSPECTIVE, i.e. a certain mindset of how to perceive the world\n",
    " \n",
    "- Strategy Dimensions\n",
    "  - Strategy Context\n",
    "  - Strategy Content\n",
    "  - Strategy Process\n",
    "\n",
    "- Strategy Goals:\n",
    "  - Oust Competition\n",
    "  - Scan Internal and External Environment\n",
    "  - Make Business Decision for Market segmentation and development\n",
    "  - Set Business Goals for mid-to-long terms\n",
    "  - Mobalize Resources"
   ]
  },
  {
   "cell_type": "markdown",
   "metadata": {},
   "source": [
    "## Corporate Strategy"
   ]
  },
  {
   "cell_type": "markdown",
   "metadata": {},
   "source": [
    "- Corporate Strategy Definition:    \n",
    "  - Corporate strategy is the pattern of decisions in a company that determines and reveals its objectives, purposes, or goals, produces the principal policies and plans for achieving those goals, and defines the range of business the company is to pursue, the kind of economic and human organization it is or intends to be, and the nature of the economic and non-economic contribution it intends to make to its shareholders, employees, customers, and communities  \n",
    "  - the direction and scope of an organization over the long term, which achieves advantage for the organization through its configuration of resources within a dynamic environment and to fullfill stakeholders expectation\n",
    "  \n",
    "- Components of Corporate Strategy\n",
    "  - Scope\n",
    "  - Goals and Objectives\n",
    "  - Resources\n",
    "  - Competitive\n",
    "  - Synergy\n",
    "  \n",
    "- Purpose of Corporate Strategy \n",
    "  - To exploit & create new & different opportunities for tomorrow \n",
    "  - To integrate knowledge gained in various other functional areas \n",
    "  - To adopt a clear approach towards problem solving \n",
    "  - To understand complexities among Internal & External environment\n",
    "- Objectives of Corporate Strategy \n",
    "  - In terms of knowledge: \n",
    "    - Gain experience to find unique solution Gain information to determine Mission & Strategy \n",
    "  - In terms of Skills: \n",
    "    - To sharpen the skills of middle level -To develop analytical ability thro’ cases \n",
    "  - In terms of Attitude: \n",
    "    - To do away Dogmatism approach\n",
    "- Corporate Strategy Level\n",
    "    - Coporate Strategy\n",
    "    - Business Strategy\n",
    "    - Department/Functional Strategy\n",
    "- Corporate Strategy Categroies\n",
    "    - Business Strategy\n",
    "    - Finance Strategy\n",
    "    - IT Strategy\n",
    "    - HR Strategy\n",
    "    - Operation Strategy\n",
    "    - Technology Strategy\n",
    "    - Marketing Strategy\n",
    "\n",
    "- Nature of Business Strategy\n",
    "  - A diagnosis\n",
    "    - Study of functions & responsibilities of senior management \n",
    "  - A shared, guiding vision or policy\n",
    "    - Determining future course of action \n",
    "    - To define what needs to be done to improve identity of the organization \n",
    "  - Coherent actions\n",
    "    - Mobilization of resources\n",
    "- Benefits of Business Strategy \n",
    "  - For understanding the Organization \n",
    "  - Understanding business environment\n",
    "  - For personal development \n",
    "  - To integrate knowledge & experience\n",
    "- Scope of Business Strategy \n",
    "  - To integrate Intuition & Analysis \n",
    "  - Adaptation to changes in external & internal environment, by answering following questions: \n",
    "    - What kind of business should we become \n",
    "    - Are we in the right field \n",
    "    - Should we reshape our business \n",
    "    - In what area new competitors are entering"
   ]
  },
  {
   "cell_type": "markdown",
   "metadata": {},
   "source": [
    "## Corporate Strategy Management"
   ]
  },
  {
   "cell_type": "markdown",
   "metadata": {},
   "source": [
    "- Strategic Management/Strategic Planning\n",
    "  - Refers to analysis, design , implementation of a specific Strategy\n",
    "  - Design Process\n",
    "    - Establish Hierarchy of Strategic Intent\n",
    "      - Vision\n",
    "        - who we are\n",
    "        - where we are now\n",
    "        - where we will be\n",
    "      - Mision\n",
    "        - the statement of purpose, beliefs, reasons for existance of the organization\n",
    "        - Cover customer/product/market/philosophy(beliefs, values, ethisc)/employees\n",
    "      - Goals/Objectives\n",
    "    - Formulation of Strategies \n",
    "      - Internal/External Environment Scan\n",
    "        - Poter Five Forces Model\n",
    "        - PESTLE Model\n",
    "        - SWOT Model\n",
    "    - Implementation of Strategies \n",
    "    - Strategic Evaluation \n",
    "    - Strategic Control\n",
    "  \n",
    "- Strategy Design\n",
    "  - Strategy Map\n",
    "  - Strategist/Strategy Roles\n",
    "    - BoD: Board of Directors\n",
    "    - CEO/COO\n",
    "    - Senior Management\n",
    "    - SBU Level Executives\n",
    "    - Consultant\n",
    "  - Strategy Components\n",
    "    - Vision\n",
    "    - Strategy\n",
    "    - Mision\n",
    "    - Goals/Objective\n",
    "    - Organization\n",
    "    - Functions/Capabilites\n",
    "    - Process\n",
    "    - Resourcs\n",
    "      - Tangible Resource\n",
    "      - Intangible Resource\n"
   ]
  },
  {
   "cell_type": "markdown",
   "metadata": {},
   "source": [
    "## Marketing Strategy Management"
   ]
  },
  {
   "cell_type": "markdown",
   "metadata": {},
   "source": [
    "- Terms\n",
    "  - Marking 4Ps\n",
    "    - Product\n",
    "    - Promotion\n",
    "    - Price\n",
    "    - Place\n",
    "    \n",
    "- Stack of Marketing Strategy\n",
    "  - Strategic Marketing Plan\n",
    "  - Tactical Marketing Plan\n",
    "  - Operational Marketing Plan\n",
    "  \n",
    "- Scope of Marketing Strategy  \n",
    "  - Product Marketing Plan\n",
    "  - Marketing Communication Plan\n",
    "\n",
    "- Process\n",
    "  - Segmenting\n",
    "    - Geographic\n",
    "    - Demographic\n",
    "    - Psychographic\n",
    "    - Behavioral\n",
    "  - Targeting\n",
    "  - Positioning\n",
    "  \n",
    "- Activity\n",
    "  - MI: Marketing Insight\n",
    "  - MOA: Marketing Oportunity Analysis"
   ]
  },
  {
   "cell_type": "markdown",
   "metadata": {},
   "source": [
    "# Business Model"
   ]
  },
  {
   "cell_type": "markdown",
   "metadata": {},
   "source": [
    "- Definition\n",
    "  - A way to describe the rational of how an organization creates, delivers, captures value."
   ]
  },
  {
   "cell_type": "markdown",
   "metadata": {},
   "source": [
    "## Business Model Canvas"
   ]
  },
  {
   "cell_type": "markdown",
   "metadata": {},
   "source": [
    "<img style=\"-webkit-user-select: none;margin: auto;cursor: zoom-in;\" src=\"BM-BusinessModelCanvas.png\" width=\"1000\" height=\"600\">"
   ]
  },
  {
   "cell_type": "code",
   "execution_count": null,
   "metadata": {},
   "outputs": [],
   "source": []
  },
  {
   "cell_type": "code",
   "execution_count": null,
   "metadata": {},
   "outputs": [],
   "source": []
  },
  {
   "cell_type": "markdown",
   "metadata": {},
   "source": [
    "# EA: Enterprise Architecture"
   ]
  },
  {
   "cell_type": "markdown",
   "metadata": {},
   "source": [
    "## Intro"
   ]
  },
  {
   "cell_type": "markdown",
   "metadata": {},
   "source": [
    "### BAIT+S Model(TOGAF)"
   ]
  },
  {
   "cell_type": "markdown",
   "metadata": {},
   "source": [
    "- The Open Group:\n",
    "  - Buisness Architecture\n",
    "      - Strategy View\n",
    "      - Capability View\n",
    "      - Value Stream View\n",
    "      - Business Knowledge View\n",
    "      - Organization View\n",
    "  - Application Architecture\n",
    "  - Information/Data Architecture\n",
    "  - Technology/Infrastructure Architecture\n",
    "  - Security Architecture\n",
    "- Domains Architecture\n",
    "  - Product/Service Architecture\n",
    "  - Process Architecture\n",
    "  - Information Architecture\n",
    "  - Application Architecture\n",
    "  - Data Architecture\n",
    "  - Technology Architecture\n",
    "- Strategic vs Tactical\n",
    "    - <img style=\"-webkit-user-select: none;margin: auto;cursor: zoom-in;\" src=\"EA-StrategicTactical.png\" width=\"500\" height=\"500\">"
   ]
  },
  {
   "cell_type": "markdown",
   "metadata": {},
   "source": [
    "### 5W1H Model(Zachman)"
   ]
  },
  {
   "cell_type": "markdown",
   "metadata": {},
   "source": [
    "<img style=\"-webkit-user-select: none;margin: auto;cursor: zoom-in;\" src=\"EA-Zachman-5W1H.png\" width=\"700\" height=\"600\">"
   ]
  },
  {
   "cell_type": "markdown",
   "metadata": {},
   "source": [
    "## Roles of Architecture"
   ]
  },
  {
   "cell_type": "markdown",
   "metadata": {},
   "source": [
    "<img style=\"-webkit-user-select: none;margin: auto;cursor: zoom-in;\" src=\"EA-ArchitectureRoles.png\" width=\"700\" height=\"600\">"
   ]
  },
  {
   "cell_type": "markdown",
   "metadata": {},
   "source": [
    "## Skill Sets of EA"
   ]
  },
  {
   "cell_type": "markdown",
   "metadata": {},
   "source": [
    "  - TOGAF\n",
    "    - ADM cycle\n",
    "  - Organizational Design\n",
    "  - Project Management\n",
    "  - DevOps\n",
    "  - ITIL\n",
    "  - Agile\n",
    "  - Lean Six Sigma\n"
   ]
  },
  {
   "cell_type": "markdown",
   "metadata": {},
   "source": [
    "- Ref\n",
    "  - The\tGuide to Careers in\tEnterprise Architecture\n",
    "  - https://nickols.us/strategy_definition.htm"
   ]
  },
  {
   "cell_type": "markdown",
   "metadata": {},
   "source": [
    "# TOGAF 9.2"
   ]
  },
  {
   "cell_type": "markdown",
   "metadata": {},
   "source": [
    "## Introduction"
   ]
  },
  {
   "cell_type": "markdown",
   "metadata": {},
   "source": [
    "### Overview"
   ]
  },
  {
   "cell_type": "markdown",
   "metadata": {},
   "source": [
    "- Components\n",
    "    - <img style=\"-webkit-user-select: none;margin: auto;cursor: zoom-in;\" src=\"EA-TOGAF-Overview.png\" width=\"600\" height=\"700\">\n"
   ]
  },
  {
   "cell_type": "markdown",
   "metadata": {},
   "source": [
    "- [Online Documentation](https://pubs.opengroup.org/architecture/togaf9-doc/arch/)"
   ]
  },
  {
   "cell_type": "markdown",
   "metadata": {},
   "source": [
    "### Terminology"
   ]
  },
  {
   "cell_type": "markdown",
   "metadata": {},
   "source": [
    "- Enterprise: a Complex Adaptive System\n",
    "    - Automitic View to Holistic View is a Continuum\n",
    "    - Comprises the partners, suppliers, and customers, as well as internal business units\n",
    "- EA: \n",
    "    - can be applied to either an entire enterprise\n",
    "    - encompassing all of its business activities and capabilities, information, and technology that make up the entire infrastructure and governance of the enterprise, or to one or more specific areas of interest within the enterprise."
   ]
  },
  {
   "cell_type": "markdown",
   "metadata": {},
   "source": [
    "## ADM: Architecture Development Method"
   ]
  },
  {
   "cell_type": "markdown",
   "metadata": {},
   "source": [
    "### ADM Phases"
   ]
  },
  {
   "cell_type": "markdown",
   "metadata": {},
   "source": [
    "<img style=\"-webkit-user-select: none;margin: auto;cursor: zoom-in;\" src=\"EA-TOGAF-ADM.png\" width=\"600\" height=\"400\">"
   ]
  },
  {
   "cell_type": "markdown",
   "metadata": {},
   "source": [
    "## ADM Guidelines and Techniques"
   ]
  },
  {
   "cell_type": "markdown",
   "metadata": {},
   "source": [
    "### Guidelines for adapting ADM Process"
   ]
  },
  {
   "cell_type": "markdown",
   "metadata": {},
   "source": [
    "### Techniques for Architecture Development"
   ]
  },
  {
   "cell_type": "markdown",
   "metadata": {},
   "source": [
    "## ACF: Architecture Content Framework"
   ]
  },
  {
   "cell_type": "markdown",
   "metadata": {},
   "source": [
    "### Building Blocks"
   ]
  },
  {
   "cell_type": "markdown",
   "metadata": {},
   "source": [
    "### Architecture Content Metamodel"
   ]
  },
  {
   "cell_type": "markdown",
   "metadata": {},
   "source": [
    "<img style=\"-webkit-user-select: none;margin: auto;cursor: zoom-in;\" src=\"EA-TOGAF-ACMM.png\" width=\"700\" height=\"600\">"
   ]
  },
  {
   "cell_type": "markdown",
   "metadata": {},
   "source": [
    "- Business Architecuture\n",
    "    - Business Arthitecture Map\n",
    "        - Capability Map\n",
    "        - Value Map\n",
    "        - Information Map\n",
    "        - Organization Map\n",
    "        - Initiative Map\n",
    "        - Stakeholder Map\n",
    "        - Strategy Map\n",
    "    - Value System\n",
    "        - Value Chain\n",
    "        - Value Stream\n",
    "        - Value Network\n",
    "---\n",
    "- Application Architecture\n",
    "    - API Centric\n",
    "    - Cloud Native\n",
    "    - Microservices Oritened\n",
    "    - CI/CD Pipelined\n",
    "---\n",
    "- Data Architecture\n",
    "    - BigData\n",
    "        - 4V: Volumn, Variety, Velocity, Veracity\n",
    "    - Data Governance Maturity Model\n",
    "        - 0-6: Unaware, Aware, Reactive, Proactive, Managed, Effective, Optimized\n",
    "    - Data Domain\n",
    "        - Analytical Data\n",
    "        - Operational Data\n",
    "        - Master Data/Business Data\n",
    "            - Policy/Regulation/Governance\n",
    "            - Audit\n",
    "            - Control\n",
    "            - Process\n",
    "        - Metadata\n",
    "    - Data Types\n",
    "        - Structured Data\n",
    "        - Unstructrued Data\n",
    "        - Semistructured Data\n",
    "    - Enterprise Information Integration\n",
    "        - ETL: Etraction, Transformation, Load\n",
    "        - EAI: Enterprise Application Integration\n",
    "        - ESB: Enterprise Service Bus\n",
    "    - Information Security and Privacy\n",
    "        - RBAC\n",
    "        - PBAC\n",
    "        - CIA: Confidentiality, Integrity, Availability\n",
    "---\n",
    "- Technology Architecture\n",
    "    - DC Facility\n",
    "    - Networking\n",
    "    - Computing\n",
    "    - Storage\n",
    "    - Virtualization\n",
    "    - OS\n",
    "    - Midleware\n",
    "    - Runtime\n",
    "    - Data\n",
    "    - Application"
   ]
  },
  {
   "cell_type": "markdown",
   "metadata": {},
   "source": [
    "### Architecture Artifacts"
   ]
  },
  {
   "cell_type": "markdown",
   "metadata": {},
   "source": [
    "### Architecture Deliverables"
   ]
  },
  {
   "cell_type": "markdown",
   "metadata": {},
   "source": [
    "## Enterprise Continuum and Tools"
   ]
  },
  {
   "cell_type": "markdown",
   "metadata": {},
   "source": [
    "### Enterprise Continuum"
   ]
  },
  {
   "cell_type": "markdown",
   "metadata": {},
   "source": [
    "<img style=\"-webkit-user-select: none;margin: auto;cursor: zoom-in;\" src=\"EA-TOGAF-EC.png\" width=\"700\" height=\"600\">"
   ]
  },
  {
   "cell_type": "markdown",
   "metadata": {},
   "source": [
    "### Architecture Partitioning"
   ]
  },
  {
   "cell_type": "markdown",
   "metadata": {},
   "source": [
    "### Architecture Repository"
   ]
  },
  {
   "cell_type": "markdown",
   "metadata": {},
   "source": [
    "<img style=\"-webkit-user-select: none;margin: auto;cursor: zoom-in;\" src=\"EA-TOGAF-AR.png\" width=\"600\" height=\"400\">"
   ]
  },
  {
   "cell_type": "markdown",
   "metadata": {},
   "source": [
    "### Tools for Architecture Development"
   ]
  },
  {
   "cell_type": "markdown",
   "metadata": {},
   "source": [
    "## Architecture Capability Framework"
   ]
  },
  {
   "cell_type": "markdown",
   "metadata": {},
   "source": [
    "<img style=\"-webkit-user-select: none;margin: auto;cursor: zoom-in;\" src=\"EA-TOGAF-ACF.png\" width=\"700\" height=\"600\">"
   ]
  },
  {
   "cell_type": "markdown",
   "metadata": {},
   "source": [
    "### Architecture Board"
   ]
  },
  {
   "cell_type": "markdown",
   "metadata": {},
   "source": [
    "### Architecture Compliance"
   ]
  },
  {
   "cell_type": "markdown",
   "metadata": {},
   "source": [
    "### Architecture Contract"
   ]
  },
  {
   "cell_type": "markdown",
   "metadata": {},
   "source": [
    "### Architecture Governance"
   ]
  },
  {
   "cell_type": "markdown",
   "metadata": {},
   "source": [
    "### Architecture Maturity Model"
   ]
  },
  {
   "cell_type": "markdown",
   "metadata": {},
   "source": [
    "### Architecture Skill Framework"
   ]
  },
  {
   "cell_type": "code",
   "execution_count": null,
   "metadata": {},
   "outputs": [],
   "source": []
  },
  {
   "cell_type": "markdown",
   "metadata": {
    "heading_collapsed": true
   },
   "source": [
    "# Organizational Design"
   ]
  },
  {
   "cell_type": "markdown",
   "metadata": {
    "hidden": true
   },
   "source": [
    "- Definition\n",
    "  - a methodology which identifies dysfunctional aspects of workflow, procedures, structures, systems.\n",
    "  - realigns them to fit current business goals\n",
    "  - develops plans to implement new changes\n",
    "- as-is challenges/Problems\n",
    "  - inefficient workflow\n",
    "  - redundant interfaces\n",
    "  - lack of ownership\n",
    "  - delays in decision-making\n",
    "  - fragmented work\n",
    "  - lack of knowledge\n",
    "  - silo mentality\n",
    "  - hard to get things done\n",
    "- Results of poor organizational design\n",
    "  - lower performance\n",
    "  - losses of values/benefits\n",
    "  - resources become hard to acquire\n",
    "  - talents left\n",
    "  - decline of the organization\n",
    "- Successfull Organization\n",
    "  - a well-structured entity with clear processes and talented contributors who work effectively together\n",
    "  \n",
    "- Organization Building Blocks\n",
    "  - TPP view\n",
    "    - <img src=\"EA-Oraganization-TPPModel.png\" alt=\"drawing\" width=\"400\" height=\"400\" />\n",
    "  - SGP veiw\n",
    "    - Structure\n",
    "    - Governance\n",
    "    - Process\n",
    "    \n",
    "- Organization Structure\n",
    "  - CHQ: Corporate Headquarter\n",
    "  - Structure Types\n",
    "    - Traditional\n",
    "      - simple structure\n",
    "        - SMEs\n",
    "        - wide span of control, centralized authority, less formalization\n",
    "      - functional structure\n",
    "        - grouping similar occupational specialties\n",
    "      - divisional structure\n",
    "        - divided by semi-autonomous divisions\n",
    "    - Contemporary\n",
    "      - team structure\n",
    "      - matrix structure\n",
    "      - project structure\n",
    "      - bondaryless organization\n",
    "      - learning organization\n",
    "        - learn, adapt, change\n",
    "        \n",
    "- Agile Organization Paradigm\n",
    "  - Stable\n",
    "    - resilient\n",
    "    - reliable\n",
    "    - efficient\n",
    "  - Dynamic\n",
    "    - fast\n",
    "    - mobile\n",
    "    - adaptive"
   ]
  },
  {
   "cell_type": "markdown",
   "metadata": {
    "hidden": true
   },
   "source": [
    "- Organizational Desgin Methodology\n",
    "  - Strategy Design\n",
    "    - 6 key strategies\n",
    "      - work specialization\n",
    "        - work breakdown: process/activity/task \n",
    "      - departmentalization\n",
    "        - resource grouping: functional/product/geographical/process/customer departmentalization\n",
    "      - chain of command\n",
    "        - authority\n",
    "        - responsibility\n",
    "        - unity of command(single root)\n",
    "      - span of control\n",
    "        - authority\n",
    "        - responsibility\n",
    "        - unity of command(single root)\n",
    "      - centralization and decentralization\n",
    "      - formalization\n",
    "  - Charter Design\n",
    "    - as-is assessment\n",
    "    - align value-creation with stackholders\n",
    "  - Organization Design\n",
    "  - Transition Design\n",
    "  - Change Management\n",
    "  - Business Continuity Management/Contingency Plan"
   ]
  },
  {
   "cell_type": "markdown",
   "metadata": {
    "hidden": true
   },
   "source": [
    "- Organizational Development Methodology\n",
    "  - maturity model\n",
    "    - Chaotic\n",
    "    - Stable\n",
    "    - Sustainable\n",
    "  - Leadership Management"
   ]
  },
  {
   "cell_type": "markdown",
   "metadata": {
    "hidden": true
   },
   "source": [
    "- Ref\n",
    "  - McKinsey on Organization Agility and Organization Design"
   ]
  },
  {
   "cell_type": "markdown",
   "metadata": {
    "heading_collapsed": true
   },
   "source": [
    "# DevOps"
   ]
  },
  {
   "cell_type": "markdown",
   "metadata": {
    "hidden": true
   },
   "source": [
    "## SDLC Overview"
   ]
  },
  {
   "cell_type": "markdown",
   "metadata": {
    "hidden": true
   },
   "source": [
    "- SDLC: Softeare Development Life Cycle\n",
    "- SDLC Model\n",
    "  - Waterfall\n",
    "    - Analyse\n",
    "    - Design\n",
    "    - Develop\n",
    "    - Test\n",
    "    - Deploy\n",
    "    - Operation and Maintainence\n",
    "  - Agile\n",
    "    - Define Requirements\n",
    "    - UI Design\n",
    "    - Development\n",
    "    - QA\n",
    "    - UAT\n",
    "    - Client Feedback\n",
    "    - Release\n",
    "  - DevOps\n",
    "    - Dev\n",
    "      - Version Control\n",
    "      - CI/CD\n",
    "    - Ops\n",
    "      - Release Management\n",
    "      - Operation Mangement\n",
    "        - Mornitoring\n",
    "        - Availability\n",
    "        - Continuity\n",
    "        - Security"
   ]
  },
  {
   "cell_type": "markdown",
   "metadata": {
    "hidden": true
   },
   "source": [
    "## DevOps Framework"
   ]
  },
  {
   "cell_type": "markdown",
   "metadata": {
    "hidden": true
   },
   "source": [
    "- CALMS Framework:\n",
    "  - Culture\n",
    "  - Automation\n",
    "  - Lean\n",
    "  - Measurement\n",
    "  - Sharing\n",
    "- DevOps Life Cycle Loop\n",
    "  - <img src=\"EA-DevOps-Loop.png\" alt=\"drawing\" width=\"400\" height=\"400\" />\n",
    " "
   ]
  },
  {
   "cell_type": "markdown",
   "metadata": {
    "hidden": true
   },
   "source": [
    "- DevOps Features\n",
    "  - CI/CD\n",
    "  - Infrastructure as a Code\n",
    "  - Microservice\n",
    "  - Automation\n",
    "\n",
    "- Best Practices\n",
    "  - Active Stakeholder participation\n",
    "  - Automated Testing\n",
    "  - Integrated Change Management\n",
    "  - CI\n",
    "  - Integrated Deployment Planning\n",
    "  - CD\n",
    "  - Application Monitoring\n",
    "  - Automated Dashboards\n",
    "\n",
    "- Process\n",
    "  - Source\n",
    "  - Build\n",
    "  - Staging\n",
    "  - Production\n",
    "  "
   ]
  },
  {
   "cell_type": "markdown",
   "metadata": {
    "hidden": true
   },
   "source": [
    "- Tools\n",
    "  - Communication\n",
    "  - Collaboration\n",
    "  - Plan\n",
    "  - Build\n",
    "    - Git Version Control\n",
    "  - CI\n",
    "    - Jenkins\n",
    "  - CD\n",
    "    - Chef\n",
    "    - Puppet\n",
    "  - Operate\n",
    "    - Cloud Consoles\n",
    "    - Docker\n",
    "  - CF"
   ]
  },
  {
   "cell_type": "markdown",
   "metadata": {
    "heading_collapsed": true
   },
   "source": [
    "# ITIL 4"
   ]
  },
  {
   "cell_type": "markdown",
   "metadata": {
    "heading_collapsed": true
   },
   "source": [
    "# Agile"
   ]
  },
  {
   "cell_type": "markdown",
   "metadata": {
    "hidden": true
   },
   "source": [
    "## Overview"
   ]
  },
  {
   "cell_type": "markdown",
   "metadata": {
    "hidden": true
   },
   "source": [
    "- Agile Manifesto\n",
    "  - Individuals and interactions over processes and tools\n",
    "  - Working software over comprehensive documentation\n",
    "  - Customer collaboration over contract negotiation\n",
    "  - Responding to change over following a plan\n",
    "- Tools\n",
    "  - MS Office Suites\n",
    "  - Atlassian JIRA\n",
    "  - VersionOne\n",
    "- Agile Project Management Framework\n",
    "  - Scrum\n",
    "- Agile Stages\n",
    "  - Envision\n",
    "    - Project Charter\n",
    "      - Goals/Resources/Metrics\n",
    "  - Speculate\n",
    "  - Explore\n",
    "  - Adapt"
   ]
  },
  {
   "cell_type": "markdown",
   "metadata": {
    "hidden": true
   },
   "source": [
    "- Ref\n",
    "  - https://www.agilealliance.org/agile-essentials/"
   ]
  },
  {
   "cell_type": "markdown",
   "metadata": {
    "hidden": true
   },
   "source": [
    "##  Agile Scrum Framework"
   ]
  },
  {
   "cell_type": "markdown",
   "metadata": {
    "hidden": true
   },
   "source": [
    "- Framework\n",
    "  - ![ScrumFramework](EA-Agile-Scrum.png)\n",
    "  \n",
    "- Flow\n",
    "  - ![ScrumFlow](EA-Agile-Scrumflow.png)\n",
    "  \n",
    "- Roles\n",
    "  - Stakeholders\n",
    "  - Product Owner\n",
    "  - Scrum Master\n",
    "  - Scrum Team\n",
    "\n",
    "- Artifacts\n",
    "  - Product backlog\n",
    "  - Burndown chart\n",
    "  - Sprint backlog\n",
    "  \n",
    "- Build Blocks\n",
    "  - Sprint\n",
    "  - Sprint Planning\n",
    "  - Sprint Backlog\n",
    "  - Sprint Retrospective\n",
    "  - Daily Scrums\n",
    "  - Task\n",
    "  - Story\n",
    "  - Epic\n",
    "  - Deliverable\n",
    "  - Product Backlog"
   ]
  },
  {
   "cell_type": "markdown",
   "metadata": {
    "heading_collapsed": true
   },
   "source": [
    "# Lean Six Sigma"
   ]
  },
  {
   "cell_type": "markdown",
   "metadata": {
    "heading_collapsed": true,
    "hidden": true
   },
   "source": [
    "## Overview"
   ]
  },
  {
   "cell_type": "markdown",
   "metadata": {
    "hidden": true
   },
   "source": [
    "- Six Sigma Body of Knowledge\n",
    "  - Define\n",
    "  - Measure\n",
    "  - Analye\n",
    "  - Improve\n",
    "  - Control"
   ]
  },
  {
   "cell_type": "markdown",
   "metadata": {
    "hidden": true
   },
   "source": [
    "- Ref\n",
    "  - [IASSC Lean Six Sigma Body of Knowledge](https://www.iassc.org/body-of-knowledge/)"
   ]
  },
  {
   "cell_type": "markdown",
   "metadata": {
    "hidden": true
   },
   "source": [
    "## Lean Six Sigma Body of Knowledge for Black Belts"
   ]
  },
  {
   "cell_type": "markdown",
   "metadata": {
    "hidden": true
   },
   "source": [
    "- Define Phase\n",
    "  - The Basics of Six Sigma\n",
    "      - Meanings of Six Sigma\n",
    "      - General History of Six Sigma & Continuous Improvement\n",
    "      - Deliverables of a Lean Six Sigma Project\n",
    "      - The Problem Solving Strategy Y = f(x)\n",
    "      - Voice of the Customer, Business and Employee\n",
    "      - Six Sigma Roles & Responsibilities\n",
    "  - The Fundamentals of Six Sigma\n",
    "      - Defining a Process\n",
    "      - Critical to Quality Characteristics (CTQ’s)\n",
    "      - Cost of Poor Quality (COPQ)\n",
    "      - Pareto Analysis (80:20 rule)\n",
    "      - Basic Six Sigma Metrics\n",
    "        - including DPU, DPMO, FTY, RTY Cycle Time; deriving these metrics\n",
    "  - Selecting Lean Six Sigma Projects\n",
    "      - Building a Business Case & Project Charter\n",
    "      - Developing Project Metrics\n",
    "      - Financial Evaluation & Benefits Capture\n",
    "  - The Lean Enterprise\n",
    "      - Understanding Lean\n",
    "      - The History of Lean\n",
    "      - Lean & Six Sigma\n",
    "      - The Seven Elements of Waste\n",
    "          - Overproduction, Correction, Inventory, Motion, Overprocessing, Conveyance, Waiting.\n",
    "      - 5S\n",
    "          - Straighten, Shine, Standardize, Self-Discipline, Sort"
   ]
  },
  {
   "cell_type": "markdown",
   "metadata": {
    "hidden": true
   },
   "source": [
    "- Measure Phase\n",
    "  - Process Definition\n",
    "      - Cause & Effect / Fishbone Diagrams\n",
    "      - Process Mapping, SIPOC, Value Stream Map\n",
    "      - X-Y Diagram\n",
    "      - Failure Modes & Effects Analysis (FMEA)\n",
    "  - Six Sigma Statistics\n",
    "      - Basic Statistics\n",
    "      - Descriptive Statistics\n",
    "      - Normal Distributions & Normality\n",
    "      - Graphical Analysis\n",
    "  - Measurement System Analysis\n",
    "      - Precision & Accuracy\n",
    "      - Bias, Linearity & Stability\n",
    "      - Gage Repeatability & Reproducibility\n",
    "      - Variable & Attribute MSA\n",
    "  - Process Capability\n",
    "      - Capability Analysis\n",
    "      - Concept of Stability\n",
    "      - Attribute & Discrete Capability\n",
    "      - Monitoring Techniques"
   ]
  },
  {
   "cell_type": "markdown",
   "metadata": {
    "hidden": true
   },
   "source": [
    "- Analyze Phase\n",
    "  - Patterns of Variation\n",
    "      - Multi-Vari Analysis\n",
    "      - Classes of Distributions\n",
    "  - Inferential Statistics\n",
    "      - Understanding Inference\n",
    "      - Sampling Techniques & Uses\n",
    "      - Central Limit Theorem\n",
    "  - Hypothesis Testing\n",
    "      - General Concepts & Goals of Hypothesis Testing\n",
    "      - Significance; Practical vs. Statistical\n",
    "      - Risk; Alpha & Beta\n",
    "      - Types of Hypothesis Test\n",
    "  - Hypothesis Testing with Normal Data\n",
    "      - 1 & 2 sample t-tests\n",
    "      - 1 sample variance\n",
    "      - One Way ANOVA\n",
    "          - Including Tests of Equal Variance, Normality Testing and Sample Size calculation, performing tests and interpreting results.\n",
    "  - Hypothesis Testing with Non-Normal Data\n",
    "      - Mann-Whitney\n",
    "      - Kruskal-Wallis\n",
    "      - Mood’s Median\n",
    "      - Friedman\n",
    "      - 1 Sample Sign\n",
    "      - 1 Sample Wilcoxon\n",
    "      - One and Two Sample Proportion\n",
    "      - Chi-Squared (Contingency Tables)\n",
    "          - Including Tests of Equal Variance, Normality Testing and Sample Size calculation, performing tests and interpreting results."
   ]
  },
  {
   "cell_type": "markdown",
   "metadata": {
    "hidden": true
   },
   "source": [
    "- Improve Phase\n",
    "  - Simple Linear Regression\n",
    "      - Correlation\n",
    "      - Regression Equations\n",
    "      - Residuals Analysis\n",
    "  - Multiple Regression Analysis\n",
    "      - Non- Linear Regression\n",
    "      - Multiple Linear Regression\n",
    "      - Confidence & Prediction Intervals\n",
    "      - Residuals Analysis\n",
    "      - Data Transformation, Box Cox\n",
    "  - Designed Experiments\n",
    "      - Experiment Objectives\n",
    "      - Experimental Methods\n",
    "      - Experiment Design Considerations\n",
    "  - Full Factorial Experiments\n",
    "      - 2k Full Factorial Designs\n",
    "      - Linear & Quadratic Mathematical Models\n",
    "      - Balanced & Orthogonal Designs\n",
    "      - Fit, Diagnose Model and Center Points\n",
    "  - Fractional Factorial Experiments\n",
    "      - Designs\n",
    "      - Confounding Effects\n",
    "      - Experimental Resolution"
   ]
  },
  {
   "cell_type": "markdown",
   "metadata": {
    "hidden": true
   },
   "source": [
    "- Control Phase\n",
    "  - Lean Controls\n",
    "      - Control Methods for 5S\n",
    "      - Kanban\n",
    "      - Poka-Yoke (Mistake Proofing)\n",
    "  - Statistical Process Control (SPC)\n",
    "      - Data Collection for SPC\n",
    "      - I-MR Chart\n",
    "      - Xbar-R Chart\n",
    "      - U Chart\n",
    "      - P Chart\n",
    "      - NP Chart\n",
    "      - Xbar-S Chart\n",
    "      - CuSum Chart\n",
    "      - EWMA Chart\n",
    "      - Control Methods\n",
    "      - Control Chart Anatomy\n",
    "      - Subgroups, Impact of Variation, Frequency of Sampling\n",
    "      - Center Line & Control Limit Calculations\n",
    "  - Six Sigma Control Plans\n",
    "      - Cost Benefit Analysis\n",
    "      - Elements of the Control Plan\n",
    "      - Elements of the Response Plan"
   ]
  },
  {
   "cell_type": "markdown",
   "metadata": {
    "hidden": true
   },
   "source": [
    "## Lean Six Sigma Body of Knowledge for Green Belts"
   ]
  },
  {
   "cell_type": "markdown",
   "metadata": {
    "hidden": true
   },
   "source": [
    "- Define Phase\n",
    "  - The Basics of Six Sigma\n",
    "      - Meanings of Six Sigma\n",
    "      - General History of Six Sigma & Continuous Improvement\n",
    "      - Deliverables of a Lean Six Sigma Project\n",
    "      - The Problem Solving Strategy Y = f(x)\n",
    "      - Voice of the Customer, Business and Employee\n",
    "      - Six Sigma Roles & Responsibilities\n",
    "  - The Fundamentals of Six Sigma\n",
    "      - Defining a Process\n",
    "      - Critical to Quality Characteristics (CTQ’s)\n",
    "      - Cost of Poor Quality (COPQ)\n",
    "      - Pareto Analysis (80:20 rule)\n",
    "      - Basic Six Sigma Metrics\n",
    "          - including DPU, DPMO, FTY, RTY Cycle Time, deriving these metrics and these metrics\n",
    "  - Selecting Lean Six Sigma Projects\n",
    "      - Building a Business Case & Project Charter\n",
    "      - Developing Project Metrics\n",
    "      - Financial Evaluation & Benefits Capture\n",
    "  - The Lean Enterprise\n",
    "      - Understanding Lean\n",
    "      - The History of Lean\n",
    "      - Lean & Six Sigma\n",
    "      - The Seven Elements of Waste\n",
    "          - Overproduction, Correction, Inventory, Motion, Overprocessing, Conveyance, Waiting.\n",
    "      - 5S\n",
    "          - Straighten, Shine, Standardize, Self-Discipline, Sort\n",
    "\n",
    "- Measure Phase\n",
    "  - Process Definition\n",
    "      - Cause & Effect / Fishbone Diagrams\n",
    "      - Process Mapping, SIPOC, Value Stream Map\n",
    "      - X-Y Diagram\n",
    "      - Failure Modes & Effects Analysis (FMEA)\n",
    "  - Six Sigma Statistics\n",
    "      - Basic Statistics\n",
    "      - Descriptive Statistics\n",
    "      - Normal Distributions & Normality\n",
    "      - Graphical Analysis\n",
    "  - Measurement System Analysis\n",
    "      - Precision & Accuracy\n",
    "      - Bias, Linearity & Stability\n",
    "      - Gage Repeatability & Reproducibility\n",
    "      - Variable & Attribute MSA\n",
    "  - Process Capability\n",
    "      - Capability Analysis\n",
    "      - Concept of Stability\n",
    "      - Attribute & Discrete Capability\n",
    "      - Monitoring Techniques\n",
    "\n",
    "- Analyze Phase\n",
    "  - Patterns of Variation\n",
    "      - Multi-Vari Analysis\n",
    "      - Classes of Distributions\n",
    "  - Inferential Statistics\n",
    "      - Understanding Inference\n",
    "      - Sampling Techniques & Uses\n",
    "      - Central Limit Theorem\n",
    "  - Hypothesis Testing\n",
    "      - General Concepts & Goals of Hypothesis Testing\n",
    "      - Significance; Practical vs. Statistical\n",
    "      - Risk; Alpha & Beta\n",
    "      - Types of Hypothesis Test\n",
    "  - Hypothesis Testing with Normal Data\n",
    "      - 1 & 2 sample t-tests\n",
    "      - 1 sample variance\n",
    "      - One Way ANOVA\n",
    "          - Including Tests of Equal Variance, Normality Testing and Sample Size calculation, performing tests and interpreting results.\n",
    "  - Hypothesis Testing with Non-Normal Data\n",
    "      - Mann-Whitney\n",
    "      - Kruskal-Wallis\n",
    "      - Mood’s Median\n",
    "      - Friedman\n",
    "      - 1 Sample Sign\n",
    "      - 1 Sample Wilcoxon\n",
    "      - One and Two Sample Proportion\n",
    "      - Chi-Squared (Contingency Tables)\n",
    "          - Including Tests of Equal Variance, Normality Testing and Sample Size calculation, performing tests and interpreting results.\n",
    "\n",
    "- Improve Phase\n",
    "  - Simple Linear Regression\n",
    "      - Correlation\n",
    "      - Regression Equations\n",
    "      - Residuals Analysis\n",
    "  - Multiple Regression Analysis\n",
    "      - Non- Linear Regression\n",
    "      - Multiple Linear Regression\n",
    "      - Confidence & Prediction Intervals\n",
    "      - Residuals Analysis\n",
    "      - Data Transformation, Box Cox\n",
    "\n",
    "- Control Phase\n",
    "  - Lean Controls\n",
    "      - Control Methods for 5S\n",
    "      - Kanban\n",
    "      - Poka-Yoke (Mistake Proofing)\n",
    "  - Statistical Process Control (SPC)\n",
    "      - Data Collection for SPC\n",
    "      - I-MR Chart\n",
    "      - Xbar-R Chart\n",
    "      - U Chart\n",
    "      - P Chart\n",
    "      - NP Chart\n",
    "      - Xbar-S Chart\n",
    "      - CuSum Chart\n",
    "      - EWMA Chart\n",
    "      - Control Chart Anatomy\n",
    "  - Six Sigma Control Plans\n",
    "      - Cost Benefit Analysis\n",
    "      - Elements of the Control Plan\n",
    "      - Elements of the Response Plan"
   ]
  },
  {
   "cell_type": "markdown",
   "metadata": {
    "hidden": true
   },
   "source": [
    "## Lean Six Sigma Body of Knowledge for Yellow Belts"
   ]
  },
  {
   "cell_type": "markdown",
   "metadata": {
    "hidden": true
   },
   "source": [
    "- Define Phase\n",
    "  - The Basics of Six Sigma\n",
    "      - Meanings of Six Sigma\n",
    "      - General History of Six Sigma & Continuous Improvement\n",
    "      - Deliverables of a Lean Six Sigma Project\n",
    "      - The Problem Solving Strategy Y = f(x)\n",
    "      - Voice of the Customer, Business and Employee\n",
    "      - Six Sigma Roles & Responsibilities\n",
    "  - The Fundamentals of Six Sigma\n",
    "      - Defining a Process\n",
    "      - Critical to Quality Characteristics (CTQ’s)\n",
    "      - Cost of Poor Quality (COPQ)\n",
    "      - Pareto Analysis (80:20 rule)\n",
    "      - Basic Six Sigma Metrics\n",
    "          - including DPU, DPMO, FTY, RTY Cycle Time\n",
    "  - Selecting Lean Six Sigma Projects\n",
    "      - Building a Business Case & Project Charter\n",
    "      - Developing Project Metrics\n",
    "      - Financial Evaluation & Benefits Capture\n",
    "  - The Lean Enterprise\n",
    "      - Understanding Lean\n",
    "      - The History of Lean\n",
    "      - Lean & Six Sigma\n",
    "      - The Seven Elements of Waste\n",
    "          - Overproduction, Correction, Inventory, Motion, Overprocessing, Conveyance, Waiting.\n",
    "      - 5S\n",
    "          - Straighten, Shine, Standardize, Self-Discipline, Sort\n",
    "\n",
    "- Measure Phase\n",
    "  - Process Definition\n",
    "      - Cause & Effect / Fishbone Diagrams\n",
    "      - Process Mapping, SIPOC, Value Stream Map\n",
    "      - X-Y Diagram\n",
    "      - Failure Modes & Effects Analysis (FMEA)\n",
    "  - Six Sigma Statistics\n",
    "      - Basic Statistics\n",
    "      - Descriptive Statistics\n",
    "      - Normal Distributions & Normality\n",
    "      - Graphical Analysis\n",
    "  - Measurement System Analysis\n",
    "      - Precision & Accuracy\n",
    "      - Bias, Linearity & Stability\n",
    "      - Gage Repeatability & Reproducibility\n",
    "      - Variable & Attribute MSA\n",
    "  - Process Capability\n",
    "      - Capability Analysis\n",
    "      - Concept of Stability\n",
    "      - Attribute & Discrete Capability\n",
    "      - Monitoring Techniques\n",
    "\n",
    "- Control Phase\n",
    "  - Lean Controls\n",
    "      - Control Methods for 5S\n",
    "      - Kanban\n",
    "      - Poka-Yoke (Mistake Proofing)\n",
    "  - Six Sigma Control Plans\n",
    "      - Cost Benefit Analysis\n",
    "      - Elements of the Control Plan\n",
    "      - Elements of the Response Plan"
   ]
  },
  {
   "cell_type": "markdown",
   "metadata": {
    "heading_collapsed": true
   },
   "source": [
    "# Security Architecture"
   ]
  },
  {
   "cell_type": "code",
   "execution_count": null,
   "metadata": {
    "hidden": true
   },
   "outputs": [],
   "source": []
  },
  {
   "cell_type": "code",
   "execution_count": null,
   "metadata": {
    "hidden": true
   },
   "outputs": [],
   "source": []
  },
  {
   "cell_type": "markdown",
   "metadata": {
    "heading_collapsed": true
   },
   "source": [
    "# Vertical Industries"
   ]
  },
  {
   "cell_type": "markdown",
   "metadata": {
    "hidden": true
   },
   "source": [
    "## Finance"
   ]
  },
  {
   "cell_type": "markdown",
   "metadata": {
    "hidden": true
   },
   "source": [
    "- BIAN: Banking Industry Architecture Network"
   ]
  },
  {
   "cell_type": "code",
   "execution_count": null,
   "metadata": {
    "hidden": true
   },
   "outputs": [],
   "source": []
  },
  {
   "cell_type": "markdown",
   "metadata": {},
   "source": [
    "# Refs"
   ]
  },
  {
   "cell_type": "markdown",
   "metadata": {},
   "source": [
    "- Integrating the TOGAF® Standard with the BIAN Service Landscape"
   ]
  },
  {
   "cell_type": "code",
   "execution_count": null,
   "metadata": {},
   "outputs": [],
   "source": []
  }
 ],
 "metadata": {
  "kernelspec": {
   "display_name": "Python 3",
   "language": "python",
   "name": "python3"
  },
  "language_info": {
   "codemirror_mode": {
    "name": "ipython",
    "version": 3
   },
   "file_extension": ".py",
   "mimetype": "text/x-python",
   "name": "python",
   "nbconvert_exporter": "python",
   "pygments_lexer": "ipython3",
   "version": "3.7.7"
  },
  "toc": {
   "base_numbering": 1,
   "nav_menu": {},
   "number_sections": true,
   "sideBar": true,
   "skip_h1_title": false,
   "title_cell": "Table of Contents",
   "title_sidebar": "Contents",
   "toc_cell": false,
   "toc_position": {
    "height": "calc(100% - 180px)",
    "left": "10px",
    "top": "150px",
    "width": "235.63px"
   },
   "toc_section_display": true,
   "toc_window_display": true
  }
 },
 "nbformat": 4,
 "nbformat_minor": 2
}
