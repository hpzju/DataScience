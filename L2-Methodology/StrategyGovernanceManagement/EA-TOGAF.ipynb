{
 "cells": [
  {
   "cell_type": "markdown",
   "metadata": {},
   "source": [
    "# EA: Enterprise Architecture"
   ]
  },
  {
   "cell_type": "markdown",
   "metadata": {},
   "source": [
    "## Intro"
   ]
  },
  {
   "cell_type": "markdown",
   "metadata": {},
   "source": [
    "### BAIT+S Model"
   ]
  },
  {
   "cell_type": "markdown",
   "metadata": {},
   "source": [
    "- The Open Group:\n",
    "  - Buisness\n",
    "  - Application\n",
    "  - Information\n",
    "  - Technology\n",
    "  - Security\n",
    "- Domains Architecture\n",
    "  - Product/Service Architecture\n",
    "  - Process Architecture\n",
    "  - Information Architecture\n",
    "  - Application Architecture\n",
    "  - Technology Architecture\n",
    "- Strategic vs Tactical\n",
    "  - ![EA-EA-StrategicTactical](EA-StrategicTactical.png)"
   ]
  },
  {
   "cell_type": "markdown",
   "metadata": {},
   "source": [
    "- Strategy:\n",
    "  - Corporate strategy is the pattern of decisions in a company that determines and reveals its objectives, purposes, or goals, produces the principal policies and plans for achieving those goals, and defines the range of business the company is to pursue, the kind of economic and human organization it is or intends to be, and the nature of the economic and non-economic contribution it intends to make to its shareholders, employees, customers, and communities\n",
    "- Governance:\n",
    "  - Research\n",
    "  - Modeling\n",
    "  - Evaluate\n",
    "  - Update\n",
    "- Management:\n",
    "  - Plan\n",
    "  - Build\n",
    "  - Run\n",
    "  - Operate\n",
    "  - Monitor\n",
    "  - Optimize"
   ]
  },
  {
   "cell_type": "markdown",
   "metadata": {},
   "source": [
    "- Skill Sets of EA\n",
    "  - TOGAF\n",
    "    - ADM cycle\n",
    "  - Organizational Design\n",
    "  - Project Management\n",
    "  - DevOps\n",
    "  - ITIL\n",
    "  - Agile\n",
    "  - Lean Six Sigma\n"
   ]
  },
  {
   "cell_type": "markdown",
   "metadata": {},
   "source": [
    "- Ref\n",
    "  - The\tGuide to Careers in\tEnterprise Architecture\n",
    "  - https://nickols.us/strategy_definition.htm"
   ]
  },
  {
   "cell_type": "markdown",
   "metadata": {
    "heading_collapsed": true
   },
   "source": [
    "# TOGAF 9.2"
   ]
  },
  {
   "cell_type": "markdown",
   "metadata": {
    "hidden": true
   },
   "source": [
    "## Introduction"
   ]
  },
  {
   "cell_type": "markdown",
   "metadata": {
    "hidden": true
   },
   "source": [
    "### Overview"
   ]
  },
  {
   "cell_type": "markdown",
   "metadata": {
    "hidden": true
   },
   "source": [
    "### Terminology"
   ]
  },
  {
   "cell_type": "markdown",
   "metadata": {
    "hidden": true
   },
   "source": [
    "## ADM: Architecture Development Method"
   ]
  },
  {
   "cell_type": "markdown",
   "metadata": {
    "hidden": true
   },
   "source": [
    "### ADM Phases"
   ]
  },
  {
   "cell_type": "markdown",
   "metadata": {
    "hidden": true
   },
   "source": [
    "## ADM Guidelines and Techniques"
   ]
  },
  {
   "cell_type": "markdown",
   "metadata": {
    "hidden": true
   },
   "source": [
    "### Guidelines for adapting ADM Process"
   ]
  },
  {
   "cell_type": "markdown",
   "metadata": {
    "hidden": true
   },
   "source": [
    "### Techniques for Architecture Development"
   ]
  },
  {
   "cell_type": "markdown",
   "metadata": {
    "hidden": true
   },
   "source": [
    "## ACF: Architecture Content Framework"
   ]
  },
  {
   "cell_type": "markdown",
   "metadata": {
    "hidden": true
   },
   "source": [
    "### Building Blocks"
   ]
  },
  {
   "cell_type": "markdown",
   "metadata": {
    "hidden": true
   },
   "source": [
    "### Architecture Content Metamodel"
   ]
  },
  {
   "cell_type": "markdown",
   "metadata": {
    "hidden": true
   },
   "source": [
    "### Architecture Artifacts"
   ]
  },
  {
   "cell_type": "markdown",
   "metadata": {
    "hidden": true
   },
   "source": [
    "### Architecture Deliverables"
   ]
  },
  {
   "cell_type": "markdown",
   "metadata": {
    "hidden": true
   },
   "source": [
    "## Enterprise Continuum and Tools"
   ]
  },
  {
   "cell_type": "markdown",
   "metadata": {
    "hidden": true
   },
   "source": [
    "### Enterprise Continuum"
   ]
  },
  {
   "cell_type": "markdown",
   "metadata": {
    "hidden": true
   },
   "source": [
    "### Architecture Partitioning"
   ]
  },
  {
   "cell_type": "markdown",
   "metadata": {
    "hidden": true
   },
   "source": [
    "### Architecture Repository"
   ]
  },
  {
   "cell_type": "markdown",
   "metadata": {
    "hidden": true
   },
   "source": [
    "### Tools for Architecture Development"
   ]
  },
  {
   "cell_type": "markdown",
   "metadata": {
    "hidden": true
   },
   "source": [
    "## TOGAF Reference Models"
   ]
  },
  {
   "cell_type": "markdown",
   "metadata": {
    "hidden": true
   },
   "source": [
    "### Fundation Architecture: Technical Reference Model"
   ]
  },
  {
   "cell_type": "markdown",
   "metadata": {
    "hidden": true
   },
   "source": [
    "### Integration Information Infrastructure Reference Model"
   ]
  },
  {
   "cell_type": "markdown",
   "metadata": {
    "hidden": true
   },
   "source": [
    "## Architecture Capability Framework"
   ]
  },
  {
   "cell_type": "markdown",
   "metadata": {
    "hidden": true
   },
   "source": [
    "### Architecture Board"
   ]
  },
  {
   "cell_type": "markdown",
   "metadata": {
    "hidden": true
   },
   "source": [
    "### Architecture Compliance"
   ]
  },
  {
   "cell_type": "markdown",
   "metadata": {
    "hidden": true
   },
   "source": [
    "### Architecture Contract"
   ]
  },
  {
   "cell_type": "markdown",
   "metadata": {
    "hidden": true
   },
   "source": [
    "### Architecture Governance"
   ]
  },
  {
   "cell_type": "markdown",
   "metadata": {
    "hidden": true
   },
   "source": [
    "### Architecture Maturity Model"
   ]
  },
  {
   "cell_type": "markdown",
   "metadata": {
    "hidden": true
   },
   "source": [
    "### Architecture Skill Framework"
   ]
  },
  {
   "cell_type": "code",
   "execution_count": null,
   "metadata": {
    "hidden": true
   },
   "outputs": [],
   "source": []
  },
  {
   "cell_type": "markdown",
   "metadata": {},
   "source": [
    "# Organizational Design"
   ]
  },
  {
   "cell_type": "markdown",
   "metadata": {},
   "source": [
    "- Definition\n",
    "  - a methodology which identifies dysfunctional aspects of workflow, procedures, structures, systems.\n",
    "  - realigns them to fit current business goals\n",
    "  - develops plans to implement new changes\n",
    "- as-is challenges/Problems\n",
    "  - inefficient workflow\n",
    "  - redundant interfaces\n",
    "  - lack of ownership\n",
    "  - delays in decision-making\n",
    "  - fragmented work\n",
    "  - lack of knowledge\n",
    "  - silo mentality\n",
    "  - hard to get things done\n",
    "- Results of poor organizational design\n",
    "  - lower performance\n",
    "  - losses of values/benefits\n",
    "  - resources become hard to acquire\n",
    "  - talents left\n",
    "  - decline of the organization\n",
    "- Successfull Organization\n",
    "  - a well-structured entity with clear processes and talented contributors who work effectively together\n",
    "  \n",
    "- Organization Building Blocks\n",
    "  - TPP view\n",
    "    - <img src=\"EA-Oraganization-TPPModel.png\" alt=\"drawing\" width=\"400\" height=\"400\" />\n",
    "  - SGP veiw\n",
    "    - Structure\n",
    "    - Governance\n",
    "    - Process\n",
    "    \n",
    "- Organization Structure\n",
    "  - CHQ: Corporate Headquarter\n",
    "  - Structure Types\n",
    "    - Traditional\n",
    "      - simple structure\n",
    "        - SMEs\n",
    "        - wide span of control, centralized authority, less formalization\n",
    "      - functional structure\n",
    "        - grouping similar occupational specialties\n",
    "      - divisional structure\n",
    "        - divided by semi-autonomous divisions\n",
    "    - Contemporary\n",
    "      - team structure\n",
    "      - matrix structure\n",
    "      - project structure\n",
    "      - bondaryless organization\n",
    "      - learning organization\n",
    "        - learn, adapt, change\n",
    "        \n",
    "- Agile Organization Paradigm\n",
    "  - Stable\n",
    "    - resilient\n",
    "    - reliable\n",
    "    - efficient\n",
    "  - Dynamic\n",
    "    - fast\n",
    "    - mobile\n",
    "    - adaptive"
   ]
  },
  {
   "cell_type": "markdown",
   "metadata": {},
   "source": [
    "- Organizational Desgin Methodology\n",
    "  - Strategy Design\n",
    "    - 6 key strategies\n",
    "      - work specialization\n",
    "        - work breakdown: process/activity/task \n",
    "      - departmentalization\n",
    "        - resource grouping: functional/product/geographical/process/customer departmentalization\n",
    "      - chain of command\n",
    "        - authority\n",
    "        - responsibility\n",
    "        - unity of command(single root)\n",
    "      - span of control\n",
    "        - authority\n",
    "        - responsibility\n",
    "        - unity of command(single root)\n",
    "      - centralization and decentralization\n",
    "      - formalization\n",
    "  - Charter Design\n",
    "    - as-is assessment\n",
    "    - align value-creation with stackholders\n",
    "  - Organization Design\n",
    "  - Transition Design\n",
    "  - Change Management\n",
    "  - Business Continuity Management/Contingency Plan"
   ]
  },
  {
   "cell_type": "markdown",
   "metadata": {},
   "source": [
    "- Organizational Development Methodology\n",
    "  - maturity model\n",
    "    - Chaotic\n",
    "    - Stable\n",
    "    - Sustainable\n",
    "  - Leadership Management"
   ]
  },
  {
   "cell_type": "markdown",
   "metadata": {},
   "source": [
    "- Ref\n",
    "  - McKinsey on Organization Agility and Organization Design"
   ]
  },
  {
   "cell_type": "markdown",
   "metadata": {},
   "source": [
    "# DevOps"
   ]
  },
  {
   "cell_type": "markdown",
   "metadata": {},
   "source": [
    "## SDLC Overview"
   ]
  },
  {
   "cell_type": "markdown",
   "metadata": {},
   "source": [
    "- SDLC: Softeare Development Life Cycle\n",
    "- SDLC Model\n",
    "  - Waterfall\n",
    "    - Analyse\n",
    "    - Design\n",
    "    - Develop\n",
    "    - Test\n",
    "    - Deploy\n",
    "    - Operation and Maintainence\n",
    "  - Agile\n",
    "    - Define Requirements\n",
    "    - UI Design\n",
    "    - Development\n",
    "    - QA\n",
    "    - UAT\n",
    "    - Client Feedback\n",
    "    - Release\n",
    "  - DevOps\n",
    "    - Dev\n",
    "      - Version Control\n",
    "      - CI/CD\n",
    "    - Ops\n",
    "      - Release Management\n",
    "      - Operation Mangement\n",
    "        - Mornitoring\n",
    "        - Availability\n",
    "        - Continuity\n",
    "        - Security"
   ]
  },
  {
   "cell_type": "markdown",
   "metadata": {},
   "source": [
    "## DevOps Framework"
   ]
  },
  {
   "cell_type": "markdown",
   "metadata": {},
   "source": [
    "- CALMS Framework:\n",
    "  - Culture\n",
    "  - Automation\n",
    "  - Lean\n",
    "  - Measurement\n",
    "  - Sharing\n",
    "- DevOps Life Cycle Loop\n",
    "  - <img src=\"EA-DevOps-Loop.png\" alt=\"drawing\" width=\"400\" height=\"400\" />\n",
    " "
   ]
  },
  {
   "cell_type": "markdown",
   "metadata": {},
   "source": [
    "- DevOps Features\n",
    "  - CI/CD\n",
    "  - Infrastructure as a Code\n",
    "  - Microservice\n",
    "  - Automation\n",
    "\n",
    "- Best Practices\n",
    "  - Active Stakeholder participation\n",
    "  - Automated Testing\n",
    "  - Integrated Change Management\n",
    "  - CI\n",
    "  - Integrated Deployment Planning\n",
    "  - CD\n",
    "  - Application Monitoring\n",
    "  - Automated Dashboards\n",
    "\n",
    "- Process\n",
    "  - Source\n",
    "  - Build\n",
    "  - Staging\n",
    "  - Production\n",
    "  "
   ]
  },
  {
   "cell_type": "markdown",
   "metadata": {},
   "source": [
    "- Tools\n",
    "  - Communication\n",
    "  - Collaboration\n",
    "  - Plan\n",
    "  - Build\n",
    "    - Git Version Control\n",
    "  - CI\n",
    "    - Jenkins\n",
    "  - CD\n",
    "    - Chef\n",
    "    - Puppet\n",
    "  - Operate\n",
    "    - Cloud Consoles\n",
    "    - Docker\n",
    "  - CF"
   ]
  },
  {
   "cell_type": "markdown",
   "metadata": {},
   "source": [
    "# ITIL 4"
   ]
  },
  {
   "cell_type": "markdown",
   "metadata": {},
   "source": [
    "# Agile"
   ]
  },
  {
   "cell_type": "markdown",
   "metadata": {},
   "source": [
    "## Overview"
   ]
  },
  {
   "cell_type": "markdown",
   "metadata": {},
   "source": [
    "- Agile Manifesto\n",
    "  - Individuals and interactions over processes and tools\n",
    "  - Working software over comprehensive documentation\n",
    "  - Customer collaboration over contract negotiation\n",
    "  - Responding to change over following a plan\n",
    "- Tools\n",
    "  - MS Office Suites\n",
    "  - Atlassian JIRA\n",
    "  - VersionOne\n",
    "- Agile Project Management Framework\n",
    "  - Scrum\n",
    "- Agile Stages\n",
    "  - Envision\n",
    "    - Project Charter\n",
    "      - Goals/Resources/Metrics\n",
    "  - Speculate\n",
    "  - Explore\n",
    "  - Adapt"
   ]
  },
  {
   "cell_type": "markdown",
   "metadata": {},
   "source": [
    "- Ref\n",
    "  - https://www.agilealliance.org/agile-essentials/"
   ]
  },
  {
   "cell_type": "markdown",
   "metadata": {},
   "source": [
    "##  Agile Scrum Framework"
   ]
  },
  {
   "cell_type": "markdown",
   "metadata": {},
   "source": [
    "- Framework\n",
    "  - ![ScrumFramework](EA-Agile-Scrum.png)\n",
    "  \n",
    "- Flow\n",
    "  - ![ScrumFlow](EA-Agile-Scrumflow.png)\n",
    "  \n",
    "- Roles\n",
    "  - Stakeholders\n",
    "  - Product Owner\n",
    "  - Scrum Master\n",
    "  - Scrum Team\n",
    "\n",
    "- Artifacts\n",
    "  - Product backlog\n",
    "  - Burndown chart\n",
    "  - Sprint backlog\n",
    "  \n",
    "- Build Blocks\n",
    "  - Sprint\n",
    "  - Sprint Planning\n",
    "  - Sprint Backlog\n",
    "  - Sprint Retrospective\n",
    "  - Daily Scrums\n",
    "  - Task\n",
    "  - Story\n",
    "  - Epic\n",
    "  - Deliverable\n",
    "  - Product Backlog"
   ]
  },
  {
   "cell_type": "markdown",
   "metadata": {
    "heading_collapsed": true
   },
   "source": [
    "# Lean Six Sigma"
   ]
  },
  {
   "cell_type": "code",
   "execution_count": null,
   "metadata": {
    "hidden": true
   },
   "outputs": [],
   "source": []
  },
  {
   "cell_type": "markdown",
   "metadata": {
    "heading_collapsed": true
   },
   "source": [
    "# Security Architecture"
   ]
  },
  {
   "cell_type": "code",
   "execution_count": null,
   "metadata": {
    "hidden": true
   },
   "outputs": [],
   "source": []
  },
  {
   "cell_type": "code",
   "execution_count": null,
   "metadata": {
    "hidden": true
   },
   "outputs": [],
   "source": []
  },
  {
   "cell_type": "markdown",
   "metadata": {
    "heading_collapsed": true
   },
   "source": [
    "# Vertical Industries"
   ]
  },
  {
   "cell_type": "markdown",
   "metadata": {
    "hidden": true
   },
   "source": [
    "## Finance"
   ]
  },
  {
   "cell_type": "markdown",
   "metadata": {
    "hidden": true
   },
   "source": [
    "- BIAN: Banking Industry Architecture Network"
   ]
  },
  {
   "cell_type": "code",
   "execution_count": null,
   "metadata": {
    "hidden": true
   },
   "outputs": [],
   "source": []
  },
  {
   "cell_type": "markdown",
   "metadata": {},
   "source": [
    "# Refs"
   ]
  },
  {
   "cell_type": "markdown",
   "metadata": {},
   "source": [
    "- Integrating the TOGAF® Standard with the BIAN Service Landscape"
   ]
  },
  {
   "cell_type": "code",
   "execution_count": null,
   "metadata": {},
   "outputs": [],
   "source": []
  }
 ],
 "metadata": {
  "kernelspec": {
   "display_name": "Python 3",
   "language": "python",
   "name": "python3"
  },
  "language_info": {
   "codemirror_mode": {
    "name": "ipython",
    "version": 3
   },
   "file_extension": ".py",
   "mimetype": "text/x-python",
   "name": "python",
   "nbconvert_exporter": "python",
   "pygments_lexer": "ipython3",
   "version": "3.7.5"
  },
  "toc": {
   "base_numbering": 1,
   "nav_menu": {},
   "number_sections": true,
   "sideBar": true,
   "skip_h1_title": false,
   "title_cell": "Table of Contents",
   "title_sidebar": "Contents",
   "toc_cell": false,
   "toc_position": {},
   "toc_section_display": true,
   "toc_window_display": true
  }
 },
 "nbformat": 4,
 "nbformat_minor": 2
}
