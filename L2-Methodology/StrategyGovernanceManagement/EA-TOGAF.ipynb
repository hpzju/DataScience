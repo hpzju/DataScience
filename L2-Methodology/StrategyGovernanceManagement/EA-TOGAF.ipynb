{
 "cells": [
  {
   "cell_type": "markdown",
   "metadata": {
    "heading_collapsed": true
   },
   "source": [
    "# EA: Enterprise Architecture"
   ]
  },
  {
   "cell_type": "markdown",
   "metadata": {
    "hidden": true
   },
   "source": [
    "## Intro"
   ]
  },
  {
   "cell_type": "markdown",
   "metadata": {
    "hidden": true
   },
   "source": [
    "### BAIT+S Model"
   ]
  },
  {
   "cell_type": "markdown",
   "metadata": {
    "hidden": true
   },
   "source": [
    "- The Open Group:\n",
    "  - Buisness\n",
    "  - Application\n",
    "  - Information\n",
    "  - Technology\n",
    "  - Security\n",
    "- Domains Architecture\n",
    "  - Product/Service Architecture\n",
    "  - Process Architecture\n",
    "  - Information Architecture\n",
    "  - Application Architecture\n",
    "  - Technology Architecture\n",
    "- Strategic vs Tactical\n",
    "  - ![EA-EA-StrategicTactical](EA-StrategicTactical.png)"
   ]
  },
  {
   "cell_type": "markdown",
   "metadata": {
    "hidden": true
   },
   "source": [
    "- Strategy:\n",
    "  - Corporate strategy is the pattern of decisions in a company that determines and reveals its objectives, purposes, or goals, produces the principal policies and plans for achieving those goals, and defines the range of business the company is to pursue, the kind of economic and human organization it is or intends to be, and the nature of the economic and non-economic contribution it intends to make to its shareholders, employees, customers, and communities\n",
    "- Governance:\n",
    "  - Research\n",
    "  - Modeling\n",
    "  - Evaluate\n",
    "  - Update\n",
    "- Management:\n",
    "  - Plan\n",
    "  - Build\n",
    "  - Run\n",
    "  - Operate\n",
    "  - Monitor\n",
    "  - Optimize"
   ]
  },
  {
   "cell_type": "markdown",
   "metadata": {
    "hidden": true
   },
   "source": [
    "- Skill Sets of EA\n",
    "  - TOGAF\n",
    "    - ADM cycle\n",
    "  - Organizational Design\n",
    "  - Project Management\n",
    "  - DevOps\n",
    "  - ITIL\n",
    "  - Agile\n",
    "  - Lean Six Sigma\n"
   ]
  },
  {
   "cell_type": "markdown",
   "metadata": {
    "hidden": true
   },
   "source": [
    "- Ref\n",
    "  - The\tGuide to Careers in\tEnterprise Architecture\n",
    "  - https://nickols.us/strategy_definition.htm"
   ]
  },
  {
   "cell_type": "markdown",
   "metadata": {
    "heading_collapsed": true
   },
   "source": [
    "# TOGAF 9.2"
   ]
  },
  {
   "cell_type": "markdown",
   "metadata": {
    "hidden": true
   },
   "source": [
    "## Introduction"
   ]
  },
  {
   "cell_type": "markdown",
   "metadata": {
    "hidden": true
   },
   "source": [
    "### Overview"
   ]
  },
  {
   "cell_type": "markdown",
   "metadata": {
    "hidden": true
   },
   "source": [
    "### Terminology"
   ]
  },
  {
   "cell_type": "markdown",
   "metadata": {
    "hidden": true
   },
   "source": [
    "## ADM: Architecture Development Method"
   ]
  },
  {
   "cell_type": "markdown",
   "metadata": {
    "hidden": true
   },
   "source": [
    "### ADM Phases"
   ]
  },
  {
   "cell_type": "markdown",
   "metadata": {
    "hidden": true
   },
   "source": [
    "## ADM Guidelines and Techniques"
   ]
  },
  {
   "cell_type": "markdown",
   "metadata": {
    "hidden": true
   },
   "source": [
    "### Guidelines for adapting ADM Process"
   ]
  },
  {
   "cell_type": "markdown",
   "metadata": {
    "hidden": true
   },
   "source": [
    "### Techniques for Architecture Development"
   ]
  },
  {
   "cell_type": "markdown",
   "metadata": {
    "hidden": true
   },
   "source": [
    "## ACF: Architecture Content Framework"
   ]
  },
  {
   "cell_type": "markdown",
   "metadata": {
    "hidden": true
   },
   "source": [
    "### Building Blocks"
   ]
  },
  {
   "cell_type": "markdown",
   "metadata": {
    "hidden": true
   },
   "source": [
    "### Architecture Content Metamodel"
   ]
  },
  {
   "cell_type": "markdown",
   "metadata": {
    "hidden": true
   },
   "source": [
    "### Architecture Artifacts"
   ]
  },
  {
   "cell_type": "markdown",
   "metadata": {
    "hidden": true
   },
   "source": [
    "### Architecture Deliverables"
   ]
  },
  {
   "cell_type": "markdown",
   "metadata": {
    "hidden": true
   },
   "source": [
    "## Enterprise Continuum and Tools"
   ]
  },
  {
   "cell_type": "markdown",
   "metadata": {
    "hidden": true
   },
   "source": [
    "### Enterprise Continuum"
   ]
  },
  {
   "cell_type": "markdown",
   "metadata": {
    "hidden": true
   },
   "source": [
    "### Architecture Partitioning"
   ]
  },
  {
   "cell_type": "markdown",
   "metadata": {
    "hidden": true
   },
   "source": [
    "### Architecture Repository"
   ]
  },
  {
   "cell_type": "markdown",
   "metadata": {
    "hidden": true
   },
   "source": [
    "### Tools for Architecture Development"
   ]
  },
  {
   "cell_type": "markdown",
   "metadata": {
    "hidden": true
   },
   "source": [
    "## TOGAF Reference Models"
   ]
  },
  {
   "cell_type": "markdown",
   "metadata": {
    "hidden": true
   },
   "source": [
    "### Fundation Architecture: Technical Reference Model"
   ]
  },
  {
   "cell_type": "markdown",
   "metadata": {
    "hidden": true
   },
   "source": [
    "### Integration Information Infrastructure Reference Model"
   ]
  },
  {
   "cell_type": "markdown",
   "metadata": {
    "hidden": true
   },
   "source": [
    "## Architecture Capability Framework"
   ]
  },
  {
   "cell_type": "markdown",
   "metadata": {
    "hidden": true
   },
   "source": [
    "### Architecture Board"
   ]
  },
  {
   "cell_type": "markdown",
   "metadata": {
    "hidden": true
   },
   "source": [
    "### Architecture Compliance"
   ]
  },
  {
   "cell_type": "markdown",
   "metadata": {
    "hidden": true
   },
   "source": [
    "### Architecture Contract"
   ]
  },
  {
   "cell_type": "markdown",
   "metadata": {
    "hidden": true
   },
   "source": [
    "### Architecture Governance"
   ]
  },
  {
   "cell_type": "markdown",
   "metadata": {
    "hidden": true
   },
   "source": [
    "### Architecture Maturity Model"
   ]
  },
  {
   "cell_type": "markdown",
   "metadata": {
    "hidden": true
   },
   "source": [
    "### Architecture Skill Framework"
   ]
  },
  {
   "cell_type": "code",
   "execution_count": null,
   "metadata": {
    "hidden": true
   },
   "outputs": [],
   "source": []
  },
  {
   "cell_type": "markdown",
   "metadata": {
    "heading_collapsed": true
   },
   "source": [
    "# Organizational Design"
   ]
  },
  {
   "cell_type": "markdown",
   "metadata": {
    "hidden": true
   },
   "source": [
    "- Definition\n",
    "  - a methodology which identifies dysfunctional aspects of workflow, procedures, structures, systems.\n",
    "  - realigns them to fit current business goals\n",
    "  - develops plans to implement new changes\n",
    "- as-is challenges/Problems\n",
    "  - inefficient workflow\n",
    "  - redundant interfaces\n",
    "  - lack of ownership\n",
    "  - delays in decision-making\n",
    "  - fragmented work\n",
    "  - lack of knowledge\n",
    "  - silo mentality\n",
    "  - hard to get things done\n",
    "- Results of poor organizational design\n",
    "  - lower performance\n",
    "  - losses of values/benefits\n",
    "  - resources become hard to acquire\n",
    "  - talents left\n",
    "  - decline of the organization\n",
    "- Successfull Organization\n",
    "  - a well-structured entity with clear processes and talented contributors who work effectively together\n",
    "  \n",
    "- Organization Building Blocks\n",
    "  - TPP view\n",
    "    - <img src=\"EA-Oraganization-TPPModel.png\" alt=\"drawing\" width=\"400\" height=\"400\" />\n",
    "  - SGP veiw\n",
    "    - Structure\n",
    "    - Governance\n",
    "    - Process\n",
    "    \n",
    "- Organization Structure\n",
    "  - CHQ: Corporate Headquarter\n",
    "  - Structure Types\n",
    "    - Traditional\n",
    "      - simple structure\n",
    "        - SMEs\n",
    "        - wide span of control, centralized authority, less formalization\n",
    "      - functional structure\n",
    "        - grouping similar occupational specialties\n",
    "      - divisional structure\n",
    "        - divided by semi-autonomous divisions\n",
    "    - Contemporary\n",
    "      - team structure\n",
    "      - matrix structure\n",
    "      - project structure\n",
    "      - bondaryless organization\n",
    "      - learning organization\n",
    "        - learn, adapt, change\n",
    "        \n",
    "- Agile Organization Paradigm\n",
    "  - Stable\n",
    "    - resilient\n",
    "    - reliable\n",
    "    - efficient\n",
    "  - Dynamic\n",
    "    - fast\n",
    "    - mobile\n",
    "    - adaptive"
   ]
  },
  {
   "cell_type": "markdown",
   "metadata": {
    "hidden": true
   },
   "source": [
    "- Organizational Desgin Methodology\n",
    "  - Strategy Design\n",
    "    - 6 key strategies\n",
    "      - work specialization\n",
    "        - work breakdown: process/activity/task \n",
    "      - departmentalization\n",
    "        - resource grouping: functional/product/geographical/process/customer departmentalization\n",
    "      - chain of command\n",
    "        - authority\n",
    "        - responsibility\n",
    "        - unity of command(single root)\n",
    "      - span of control\n",
    "        - authority\n",
    "        - responsibility\n",
    "        - unity of command(single root)\n",
    "      - centralization and decentralization\n",
    "      - formalization\n",
    "  - Charter Design\n",
    "    - as-is assessment\n",
    "    - align value-creation with stackholders\n",
    "  - Organization Design\n",
    "  - Transition Design\n",
    "  - Change Management\n",
    "  - Business Continuity Management/Contingency Plan"
   ]
  },
  {
   "cell_type": "markdown",
   "metadata": {
    "hidden": true
   },
   "source": [
    "- Organizational Development Methodology\n",
    "  - maturity model\n",
    "    - Chaotic\n",
    "    - Stable\n",
    "    - Sustainable\n",
    "  - Leadership Management"
   ]
  },
  {
   "cell_type": "markdown",
   "metadata": {
    "hidden": true
   },
   "source": [
    "- Ref\n",
    "  - McKinsey on Organization Agility and Organization Design"
   ]
  },
  {
   "cell_type": "markdown",
   "metadata": {
    "heading_collapsed": true
   },
   "source": [
    "# DevOps"
   ]
  },
  {
   "cell_type": "markdown",
   "metadata": {
    "hidden": true
   },
   "source": [
    "## SDLC Overview"
   ]
  },
  {
   "cell_type": "markdown",
   "metadata": {
    "hidden": true
   },
   "source": [
    "- SDLC: Softeare Development Life Cycle\n",
    "- SDLC Model\n",
    "  - Waterfall\n",
    "    - Analyse\n",
    "    - Design\n",
    "    - Develop\n",
    "    - Test\n",
    "    - Deploy\n",
    "    - Operation and Maintainence\n",
    "  - Agile\n",
    "    - Define Requirements\n",
    "    - UI Design\n",
    "    - Development\n",
    "    - QA\n",
    "    - UAT\n",
    "    - Client Feedback\n",
    "    - Release\n",
    "  - DevOps\n",
    "    - Dev\n",
    "      - Version Control\n",
    "      - CI/CD\n",
    "    - Ops\n",
    "      - Release Management\n",
    "      - Operation Mangement\n",
    "        - Mornitoring\n",
    "        - Availability\n",
    "        - Continuity\n",
    "        - Security"
   ]
  },
  {
   "cell_type": "markdown",
   "metadata": {
    "hidden": true
   },
   "source": [
    "## DevOps Framework"
   ]
  },
  {
   "cell_type": "markdown",
   "metadata": {
    "hidden": true
   },
   "source": [
    "- CALMS Framework:\n",
    "  - Culture\n",
    "  - Automation\n",
    "  - Lean\n",
    "  - Measurement\n",
    "  - Sharing\n",
    "- DevOps Life Cycle Loop\n",
    "  - <img src=\"EA-DevOps-Loop.png\" alt=\"drawing\" width=\"400\" height=\"400\" />\n",
    " "
   ]
  },
  {
   "cell_type": "markdown",
   "metadata": {
    "hidden": true
   },
   "source": [
    "- DevOps Features\n",
    "  - CI/CD\n",
    "  - Infrastructure as a Code\n",
    "  - Microservice\n",
    "  - Automation\n",
    "\n",
    "- Best Practices\n",
    "  - Active Stakeholder participation\n",
    "  - Automated Testing\n",
    "  - Integrated Change Management\n",
    "  - CI\n",
    "  - Integrated Deployment Planning\n",
    "  - CD\n",
    "  - Application Monitoring\n",
    "  - Automated Dashboards\n",
    "\n",
    "- Process\n",
    "  - Source\n",
    "  - Build\n",
    "  - Staging\n",
    "  - Production\n",
    "  "
   ]
  },
  {
   "cell_type": "markdown",
   "metadata": {
    "hidden": true
   },
   "source": [
    "- Tools\n",
    "  - Communication\n",
    "  - Collaboration\n",
    "  - Plan\n",
    "  - Build\n",
    "    - Git Version Control\n",
    "  - CI\n",
    "    - Jenkins\n",
    "  - CD\n",
    "    - Chef\n",
    "    - Puppet\n",
    "  - Operate\n",
    "    - Cloud Consoles\n",
    "    - Docker\n",
    "  - CF"
   ]
  },
  {
   "cell_type": "markdown",
   "metadata": {
    "heading_collapsed": true
   },
   "source": [
    "# ITIL 4"
   ]
  },
  {
   "cell_type": "markdown",
   "metadata": {
    "heading_collapsed": true
   },
   "source": [
    "# Agile"
   ]
  },
  {
   "cell_type": "markdown",
   "metadata": {
    "hidden": true
   },
   "source": [
    "## Overview"
   ]
  },
  {
   "cell_type": "markdown",
   "metadata": {
    "hidden": true
   },
   "source": [
    "- Agile Manifesto\n",
    "  - Individuals and interactions over processes and tools\n",
    "  - Working software over comprehensive documentation\n",
    "  - Customer collaboration over contract negotiation\n",
    "  - Responding to change over following a plan\n",
    "- Tools\n",
    "  - MS Office Suites\n",
    "  - Atlassian JIRA\n",
    "  - VersionOne\n",
    "- Agile Project Management Framework\n",
    "  - Scrum\n",
    "- Agile Stages\n",
    "  - Envision\n",
    "    - Project Charter\n",
    "      - Goals/Resources/Metrics\n",
    "  - Speculate\n",
    "  - Explore\n",
    "  - Adapt"
   ]
  },
  {
   "cell_type": "markdown",
   "metadata": {
    "hidden": true
   },
   "source": [
    "- Ref\n",
    "  - https://www.agilealliance.org/agile-essentials/"
   ]
  },
  {
   "cell_type": "markdown",
   "metadata": {
    "hidden": true
   },
   "source": [
    "##  Agile Scrum Framework"
   ]
  },
  {
   "cell_type": "markdown",
   "metadata": {
    "hidden": true
   },
   "source": [
    "- Framework\n",
    "  - ![ScrumFramework](EA-Agile-Scrum.png)\n",
    "  \n",
    "- Flow\n",
    "  - ![ScrumFlow](EA-Agile-Scrumflow.png)\n",
    "  \n",
    "- Roles\n",
    "  - Stakeholders\n",
    "  - Product Owner\n",
    "  - Scrum Master\n",
    "  - Scrum Team\n",
    "\n",
    "- Artifacts\n",
    "  - Product backlog\n",
    "  - Burndown chart\n",
    "  - Sprint backlog\n",
    "  \n",
    "- Build Blocks\n",
    "  - Sprint\n",
    "  - Sprint Planning\n",
    "  - Sprint Backlog\n",
    "  - Sprint Retrospective\n",
    "  - Daily Scrums\n",
    "  - Task\n",
    "  - Story\n",
    "  - Epic\n",
    "  - Deliverable\n",
    "  - Product Backlog"
   ]
  },
  {
   "cell_type": "markdown",
   "metadata": {},
   "source": [
    "# Lean Six Sigma"
   ]
  },
  {
   "cell_type": "markdown",
   "metadata": {},
   "source": [
    "## Overview"
   ]
  },
  {
   "cell_type": "markdown",
   "metadata": {},
   "source": [
    "- Six Sigma Body of Knowledge\n",
    "  - Define\n",
    "  - Measure\n",
    "  - Analye\n",
    "  - Improve\n",
    "  - Control"
   ]
  },
  {
   "cell_type": "markdown",
   "metadata": {},
   "source": [
    "- Ref\n",
    "  - [IASSC Lean Six Sigma Body of Knowledge](https://www.iassc.org/body-of-knowledge/)"
   ]
  },
  {
   "cell_type": "markdown",
   "metadata": {},
   "source": [
    "## Lean Six Sigma Body of Knowledge for Black Belts"
   ]
  },
  {
   "cell_type": "markdown",
   "metadata": {},
   "source": [
    "- Define Phase\n",
    "  - The Basics of Six Sigma\n",
    "      - Meanings of Six Sigma\n",
    "      - General History of Six Sigma & Continuous Improvement\n",
    "      - Deliverables of a Lean Six Sigma Project\n",
    "      - The Problem Solving Strategy Y = f(x)\n",
    "      - Voice of the Customer, Business and Employee\n",
    "      - Six Sigma Roles & Responsibilities\n",
    "  - The Fundamentals of Six Sigma\n",
    "      - Defining a Process\n",
    "      - Critical to Quality Characteristics (CTQ’s)\n",
    "      - Cost of Poor Quality (COPQ)\n",
    "      - Pareto Analysis (80:20 rule)\n",
    "      - Basic Six Sigma Metrics\n",
    "        - including DPU, DPMO, FTY, RTY Cycle Time; deriving these metrics\n",
    "  - Selecting Lean Six Sigma Projects\n",
    "      - Building a Business Case & Project Charter\n",
    "      - Developing Project Metrics\n",
    "      - Financial Evaluation & Benefits Capture\n",
    "  - The Lean Enterprise\n",
    "      - Understanding Lean\n",
    "      - The History of Lean\n",
    "      - Lean & Six Sigma\n",
    "      - The Seven Elements of Waste\n",
    "          - Overproduction, Correction, Inventory, Motion, Overprocessing, Conveyance, Waiting.\n",
    "      - 5S\n",
    "          - Straighten, Shine, Standardize, Self-Discipline, Sort"
   ]
  },
  {
   "cell_type": "markdown",
   "metadata": {},
   "source": [
    "- Measure Phase\n",
    "  - Process Definition\n",
    "      - Cause & Effect / Fishbone Diagrams\n",
    "      - Process Mapping, SIPOC, Value Stream Map\n",
    "      - X-Y Diagram\n",
    "      - Failure Modes & Effects Analysis (FMEA)\n",
    "  - Six Sigma Statistics\n",
    "      - Basic Statistics\n",
    "      - Descriptive Statistics\n",
    "      - Normal Distributions & Normality\n",
    "      - Graphical Analysis\n",
    "  - Measurement System Analysis\n",
    "      - Precision & Accuracy\n",
    "      - Bias, Linearity & Stability\n",
    "      - Gage Repeatability & Reproducibility\n",
    "      - Variable & Attribute MSA\n",
    "  - Process Capability\n",
    "      - Capability Analysis\n",
    "      - Concept of Stability\n",
    "      - Attribute & Discrete Capability\n",
    "      - Monitoring Techniques"
   ]
  },
  {
   "cell_type": "markdown",
   "metadata": {},
   "source": [
    "- Analyze Phase\n",
    "  - Patterns of Variation\n",
    "      - Multi-Vari Analysis\n",
    "      - Classes of Distributions\n",
    "  - Inferential Statistics\n",
    "      - Understanding Inference\n",
    "      - Sampling Techniques & Uses\n",
    "      - Central Limit Theorem\n",
    "  - Hypothesis Testing\n",
    "      - General Concepts & Goals of Hypothesis Testing\n",
    "      - Significance; Practical vs. Statistical\n",
    "      - Risk; Alpha & Beta\n",
    "      - Types of Hypothesis Test\n",
    "  - Hypothesis Testing with Normal Data\n",
    "      - 1 & 2 sample t-tests\n",
    "      - 1 sample variance\n",
    "      - One Way ANOVA\n",
    "          - Including Tests of Equal Variance, Normality Testing and Sample Size calculation, performing tests and interpreting results.\n",
    "  - Hypothesis Testing with Non-Normal Data\n",
    "      - Mann-Whitney\n",
    "      - Kruskal-Wallis\n",
    "      - Mood’s Median\n",
    "      - Friedman\n",
    "      - 1 Sample Sign\n",
    "      - 1 Sample Wilcoxon\n",
    "      - One and Two Sample Proportion\n",
    "      - Chi-Squared (Contingency Tables)\n",
    "          - Including Tests of Equal Variance, Normality Testing and Sample Size calculation, performing tests and interpreting results."
   ]
  },
  {
   "cell_type": "markdown",
   "metadata": {},
   "source": [
    "- Improve Phase\n",
    "  - Simple Linear Regression\n",
    "      - Correlation\n",
    "      - Regression Equations\n",
    "      - Residuals Analysis\n",
    "  - Multiple Regression Analysis\n",
    "      - Non- Linear Regression\n",
    "      - Multiple Linear Regression\n",
    "      - Confidence & Prediction Intervals\n",
    "      - Residuals Analysis\n",
    "      - Data Transformation, Box Cox\n",
    "  - Designed Experiments\n",
    "      - Experiment Objectives\n",
    "      - Experimental Methods\n",
    "      - Experiment Design Considerations\n",
    "  - Full Factorial Experiments\n",
    "      - 2k Full Factorial Designs\n",
    "      - Linear & Quadratic Mathematical Models\n",
    "      - Balanced & Orthogonal Designs\n",
    "      - Fit, Diagnose Model and Center Points\n",
    "  - Fractional Factorial Experiments\n",
    "      - Designs\n",
    "      - Confounding Effects\n",
    "      - Experimental Resolution"
   ]
  },
  {
   "cell_type": "markdown",
   "metadata": {},
   "source": [
    "- Control Phase\n",
    "  - Lean Controls\n",
    "      - Control Methods for 5S\n",
    "      - Kanban\n",
    "      - Poka-Yoke (Mistake Proofing)\n",
    "  - Statistical Process Control (SPC)\n",
    "      - Data Collection for SPC\n",
    "      - I-MR Chart\n",
    "      - Xbar-R Chart\n",
    "      - U Chart\n",
    "      - P Chart\n",
    "      - NP Chart\n",
    "      - Xbar-S Chart\n",
    "      - CuSum Chart\n",
    "      - EWMA Chart\n",
    "      - Control Methods\n",
    "      - Control Chart Anatomy\n",
    "      - Subgroups, Impact of Variation, Frequency of Sampling\n",
    "      - Center Line & Control Limit Calculations\n",
    "  - Six Sigma Control Plans\n",
    "      - Cost Benefit Analysis\n",
    "      - Elements of the Control Plan\n",
    "      - Elements of the Response Plan"
   ]
  },
  {
   "cell_type": "markdown",
   "metadata": {},
   "source": [
    "## Lean Six Sigma Body of Knowledge for Green Belts"
   ]
  },
  {
   "cell_type": "markdown",
   "metadata": {},
   "source": [
    "- Define Phase\n",
    "  - The Basics of Six Sigma\n",
    "      - Meanings of Six Sigma\n",
    "      - General History of Six Sigma & Continuous Improvement\n",
    "      - Deliverables of a Lean Six Sigma Project\n",
    "      - The Problem Solving Strategy Y = f(x)\n",
    "      - Voice of the Customer, Business and Employee\n",
    "      - Six Sigma Roles & Responsibilities\n",
    "  - The Fundamentals of Six Sigma\n",
    "      - Defining a Process\n",
    "      - Critical to Quality Characteristics (CTQ’s)\n",
    "      - Cost of Poor Quality (COPQ)\n",
    "      - Pareto Analysis (80:20 rule)\n",
    "      - Basic Six Sigma Metrics\n",
    "          - including DPU, DPMO, FTY, RTY Cycle Time, deriving these metrics and these metrics\n",
    "  - Selecting Lean Six Sigma Projects\n",
    "      - Building a Business Case & Project Charter\n",
    "      - Developing Project Metrics\n",
    "      - Financial Evaluation & Benefits Capture\n",
    "  - The Lean Enterprise\n",
    "      - Understanding Lean\n",
    "      - The History of Lean\n",
    "      - Lean & Six Sigma\n",
    "      - The Seven Elements of Waste\n",
    "          - Overproduction, Correction, Inventory, Motion, Overprocessing, Conveyance, Waiting.\n",
    "      - 5S\n",
    "          - Straighten, Shine, Standardize, Self-Discipline, Sort\n",
    "\n",
    "- Measure Phase\n",
    "  - Process Definition\n",
    "      - Cause & Effect / Fishbone Diagrams\n",
    "      - Process Mapping, SIPOC, Value Stream Map\n",
    "      - X-Y Diagram\n",
    "      - Failure Modes & Effects Analysis (FMEA)\n",
    "  - Six Sigma Statistics\n",
    "      - Basic Statistics\n",
    "      - Descriptive Statistics\n",
    "      - Normal Distributions & Normality\n",
    "      - Graphical Analysis\n",
    "  - Measurement System Analysis\n",
    "      - Precision & Accuracy\n",
    "      - Bias, Linearity & Stability\n",
    "      - Gage Repeatability & Reproducibility\n",
    "      - Variable & Attribute MSA\n",
    "  - Process Capability\n",
    "      - Capability Analysis\n",
    "      - Concept of Stability\n",
    "      - Attribute & Discrete Capability\n",
    "      - Monitoring Techniques\n",
    "\n",
    "- Analyze Phase\n",
    "  - Patterns of Variation\n",
    "      - Multi-Vari Analysis\n",
    "      - Classes of Distributions\n",
    "  - Inferential Statistics\n",
    "      - Understanding Inference\n",
    "      - Sampling Techniques & Uses\n",
    "      - Central Limit Theorem\n",
    "  - Hypothesis Testing\n",
    "      - General Concepts & Goals of Hypothesis Testing\n",
    "      - Significance; Practical vs. Statistical\n",
    "      - Risk; Alpha & Beta\n",
    "      - Types of Hypothesis Test\n",
    "  - Hypothesis Testing with Normal Data\n",
    "      - 1 & 2 sample t-tests\n",
    "      - 1 sample variance\n",
    "      - One Way ANOVA\n",
    "          - Including Tests of Equal Variance, Normality Testing and Sample Size calculation, performing tests and interpreting results.\n",
    "  - Hypothesis Testing with Non-Normal Data\n",
    "      - Mann-Whitney\n",
    "      - Kruskal-Wallis\n",
    "      - Mood’s Median\n",
    "      - Friedman\n",
    "      - 1 Sample Sign\n",
    "      - 1 Sample Wilcoxon\n",
    "      - One and Two Sample Proportion\n",
    "      - Chi-Squared (Contingency Tables)\n",
    "          - Including Tests of Equal Variance, Normality Testing and Sample Size calculation, performing tests and interpreting results.\n",
    "\n",
    "- Improve Phase\n",
    "  - Simple Linear Regression\n",
    "      - Correlation\n",
    "      - Regression Equations\n",
    "      - Residuals Analysis\n",
    "  - Multiple Regression Analysis\n",
    "      - Non- Linear Regression\n",
    "      - Multiple Linear Regression\n",
    "      - Confidence & Prediction Intervals\n",
    "      - Residuals Analysis\n",
    "      - Data Transformation, Box Cox\n",
    "\n",
    "- Control Phase\n",
    "  - Lean Controls\n",
    "      - Control Methods for 5S\n",
    "      - Kanban\n",
    "      - Poka-Yoke (Mistake Proofing)\n",
    "  - Statistical Process Control (SPC)\n",
    "      - Data Collection for SPC\n",
    "      - I-MR Chart\n",
    "      - Xbar-R Chart\n",
    "      - U Chart\n",
    "      - P Chart\n",
    "      - NP Chart\n",
    "      - Xbar-S Chart\n",
    "      - CuSum Chart\n",
    "      - EWMA Chart\n",
    "      - Control Chart Anatomy\n",
    "  - Six Sigma Control Plans\n",
    "      - Cost Benefit Analysis\n",
    "      - Elements of the Control Plan\n",
    "      - Elements of the Response Plan"
   ]
  },
  {
   "cell_type": "markdown",
   "metadata": {},
   "source": [
    "## Lean Six Sigma Body of Knowledge for Yellow Belts"
   ]
  },
  {
   "cell_type": "markdown",
   "metadata": {},
   "source": [
    "- Define Phase\n",
    "  - The Basics of Six Sigma\n",
    "      - Meanings of Six Sigma\n",
    "      - General History of Six Sigma & Continuous Improvement\n",
    "      - Deliverables of a Lean Six Sigma Project\n",
    "      - The Problem Solving Strategy Y = f(x)\n",
    "      - Voice of the Customer, Business and Employee\n",
    "      - Six Sigma Roles & Responsibilities\n",
    "  - The Fundamentals of Six Sigma\n",
    "      - Defining a Process\n",
    "      - Critical to Quality Characteristics (CTQ’s)\n",
    "      - Cost of Poor Quality (COPQ)\n",
    "      - Pareto Analysis (80:20 rule)\n",
    "      - Basic Six Sigma Metrics\n",
    "          - including DPU, DPMO, FTY, RTY Cycle Time\n",
    "  - Selecting Lean Six Sigma Projects\n",
    "      - Building a Business Case & Project Charter\n",
    "      - Developing Project Metrics\n",
    "      - Financial Evaluation & Benefits Capture\n",
    "  - The Lean Enterprise\n",
    "      - Understanding Lean\n",
    "      - The History of Lean\n",
    "      - Lean & Six Sigma\n",
    "      - The Seven Elements of Waste\n",
    "          - Overproduction, Correction, Inventory, Motion, Overprocessing, Conveyance, Waiting.\n",
    "      - 5S\n",
    "          - Straighten, Shine, Standardize, Self-Discipline, Sort\n",
    "\n",
    "- Measure Phase\n",
    "  - Process Definition\n",
    "      - Cause & Effect / Fishbone Diagrams\n",
    "      - Process Mapping, SIPOC, Value Stream Map\n",
    "      - X-Y Diagram\n",
    "      - Failure Modes & Effects Analysis (FMEA)\n",
    "  - Six Sigma Statistics\n",
    "      - Basic Statistics\n",
    "      - Descriptive Statistics\n",
    "      - Normal Distributions & Normality\n",
    "      - Graphical Analysis\n",
    "  - Measurement System Analysis\n",
    "      - Precision & Accuracy\n",
    "      - Bias, Linearity & Stability\n",
    "      - Gage Repeatability & Reproducibility\n",
    "      - Variable & Attribute MSA\n",
    "  - Process Capability\n",
    "      - Capability Analysis\n",
    "      - Concept of Stability\n",
    "      - Attribute & Discrete Capability\n",
    "      - Monitoring Techniques\n",
    "\n",
    "- Control Phase\n",
    "  - Lean Controls\n",
    "      - Control Methods for 5S\n",
    "      - Kanban\n",
    "      - Poka-Yoke (Mistake Proofing)\n",
    "  - Six Sigma Control Plans\n",
    "      - Cost Benefit Analysis\n",
    "      - Elements of the Control Plan\n",
    "      - Elements of the Response Plan"
   ]
  },
  {
   "cell_type": "markdown",
   "metadata": {
    "heading_collapsed": true
   },
   "source": [
    "# Security Architecture"
   ]
  },
  {
   "cell_type": "code",
   "execution_count": null,
   "metadata": {
    "hidden": true
   },
   "outputs": [],
   "source": []
  },
  {
   "cell_type": "code",
   "execution_count": null,
   "metadata": {
    "hidden": true
   },
   "outputs": [],
   "source": []
  },
  {
   "cell_type": "markdown",
   "metadata": {
    "heading_collapsed": true
   },
   "source": [
    "# Vertical Industries"
   ]
  },
  {
   "cell_type": "markdown",
   "metadata": {
    "hidden": true
   },
   "source": [
    "## Finance"
   ]
  },
  {
   "cell_type": "markdown",
   "metadata": {
    "hidden": true
   },
   "source": [
    "- BIAN: Banking Industry Architecture Network"
   ]
  },
  {
   "cell_type": "code",
   "execution_count": null,
   "metadata": {
    "hidden": true
   },
   "outputs": [],
   "source": []
  },
  {
   "cell_type": "markdown",
   "metadata": {},
   "source": [
    "# Refs"
   ]
  },
  {
   "cell_type": "markdown",
   "metadata": {},
   "source": [
    "- Integrating the TOGAF® Standard with the BIAN Service Landscape"
   ]
  },
  {
   "cell_type": "code",
   "execution_count": null,
   "metadata": {},
   "outputs": [],
   "source": []
  }
 ],
 "metadata": {
  "kernelspec": {
   "display_name": "Python 3",
   "language": "python",
   "name": "python3"
  },
  "language_info": {
   "codemirror_mode": {
    "name": "ipython",
    "version": 3
   },
   "file_extension": ".py",
   "mimetype": "text/x-python",
   "name": "python",
   "nbconvert_exporter": "python",
   "pygments_lexer": "ipython3",
   "version": "3.7.5"
  },
  "toc": {
   "base_numbering": 1,
   "nav_menu": {},
   "number_sections": true,
   "sideBar": true,
   "skip_h1_title": false,
   "title_cell": "Table of Contents",
   "title_sidebar": "Contents",
   "toc_cell": false,
   "toc_position": {},
   "toc_section_display": true,
   "toc_window_display": true
  }
 },
 "nbformat": 4,
 "nbformat_minor": 2
}
