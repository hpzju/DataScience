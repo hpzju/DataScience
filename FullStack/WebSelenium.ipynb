{
 "cells": [
  {
   "cell_type": "code",
   "execution_count": 7,
   "metadata": {},
   "outputs": [
    {
     "name": "stdout",
     "output_type": "stream",
     "text": [
      "Quotes to Scrape\n"
     ]
    }
   ],
   "source": [
    "from selenium import webdriver \n",
    "import datetime\n",
    "\n",
    "url = 'http://quotes.toscrape.com/'\n",
    "\n",
    "chromedriver ='C:\\\\Users\\\\hpzju\\\\Desktop\\\\Scraping\\\\chromedriver.exe'  \n",
    "\n",
    "browser = webdriver.Chrome(chromedriver)\n",
    "browser.get(url)\n",
    "\n",
    "selector = 'h1'\n",
    "elems = browser.find_elements_by_css_selector(selector)\n",
    "for e in elems:\n",
    "    print(e.text)\n",
    "\n",
    "browser.close()"
   ]
  },
  {
   "cell_type": "code",
   "execution_count": 28,
   "metadata": {},
   "outputs": [
    {
     "name": "stdout",
     "output_type": "stream",
     "text": [
      "Martin Luther King Jr.\n",
      "hope\n",
      "“Only in the darkness can you see the stars.”\n"
     ]
    }
   ],
   "source": [
    "from selenium import webdriver \n",
    "from selenium.webdriver.support.ui import Select\n",
    "from random import randint\n",
    "\n",
    "url = 'http://quotes.toscrape.com/search.aspx'\n",
    "\n",
    "chromedriver ='C:\\\\Users\\\\hpzju\\\\Desktop\\\\Scraping\\\\chromedriver.exe'  \n",
    "\n",
    "browser = webdriver.Chrome(chromedriver)\n",
    "browser.get(url)\n",
    "\n",
    "selector_authordropdown = 'select#author'\n",
    "selector_author = '#author option'\n",
    "\n",
    "selector_tagdropdown = 'select#tag'\n",
    "selector_tag = '#tag option'\n",
    "\n",
    "selector_search = 'input.btn.btn-default'\n",
    "selector_quote = 'div.quote span.content'\n",
    "\n",
    "# select author\n",
    "elems = browser.find_elements_by_css_selector(selector_author)\n",
    "authorlist = [e.get_attribute('value') for e in elems]\n",
    "# print(authorlist)\n",
    "index = randint(1, len(authorlist)-1)\n",
    "print(authorlist[index])\n",
    "\n",
    "authorsdropdown = Select(browser.find_element_by_css_selector(selector_select))\n",
    "authorsdropdown.select_by_visible_text(authorlist[index])\n",
    "\n",
    "# select tag    \n",
    "elems = browser.find_elements_by_css_selector(selector_tag)\n",
    "taglist = [e.get_attribute('value') for e in elems]\n",
    "# print(taglist)\n",
    "index = randint(1, len(taglist)-1)\n",
    "print(taglist[index])\n",
    "\n",
    "tagdropdown = Select(browser.find_element_by_css_selector(selector_tagdropdown))\n",
    "tagdropdown.select_by_visible_text(taglist[index])\n",
    "\n",
    "# submit button\n",
    "search_btn = browser.find_element_by_css_selector(selector_search)\n",
    "search_btn.click()\n",
    "\n",
    "# get quote\n",
    "\n",
    "quote = browser.find_element_by_css_selector(selector_quote).text\n",
    "\n",
    "print(quote)\n",
    "\n",
    "\n",
    "browser.close()"
   ]
  },
  {
   "cell_type": "code",
   "execution_count": null,
   "metadata": {},
   "outputs": [],
   "source": []
  }
 ],
 "metadata": {
  "kernelspec": {
   "display_name": "Python 3",
   "language": "python",
   "name": "python3"
  },
  "language_info": {
   "codemirror_mode": {
    "name": "ipython",
    "version": 3
   },
   "file_extension": ".py",
   "mimetype": "text/x-python",
   "name": "python",
   "nbconvert_exporter": "python",
   "pygments_lexer": "ipython3",
   "version": "3.6.8"
  }
 },
 "nbformat": 4,
 "nbformat_minor": 2
}
