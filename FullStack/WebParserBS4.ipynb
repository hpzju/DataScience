{
 "cells": [
  {
   "cell_type": "code",
   "execution_count": null,
   "metadata": {},
   "outputs": [],
   "source": [
    "import requests\n",
    "\n",
    "page = requests.get(\"https://getbootstrap.com/docs/4.3/getting-started/introduction/\")\n",
    "html = page.content"
   ]
  },
  {
   "cell_type": "code",
   "execution_count": 42,
   "metadata": {},
   "outputs": [
    {
     "name": "stdout",
     "output_type": "stream",
     "text": [
      "Introduction\n",
      "<class 'bs4.element.Tag'>\n",
      ": <a class=\"nav-link\" href=\"/\" onclick=\"ga('send', 'event', 'Navbar', 'Community links', 'Bootstrap');\">Home</a>\n",
      " /\n",
      "000: <class 'bs4.element.Tag'>:\n",
      " Home\n",
      " /\n",
      "\n",
      "001: <class 'bs4.element.Tag'>:\n",
      " Documentation\n",
      " /docs/4.3/getting-started/introduction/\n",
      "\n",
      "002: <class 'bs4.element.Tag'>:\n",
      " Examples\n",
      " /docs/4.3/examples/\n",
      "\n",
      "003: <class 'bs4.element.Tag'>:\n",
      " Themes\n",
      " https://themes.getbootstrap.com/\n",
      "\n",
      "004: <class 'bs4.element.Tag'>:\n",
      " Expo\n",
      " https://expo.getbootstrap.com/\n",
      "\n",
      "005: <class 'bs4.element.Tag'>:\n",
      " Blog\n",
      " https://blog.getbootstrap.com/\n",
      "\n"
     ]
    }
   ],
   "source": [
    "from bs4 import BeautifulSoup\n",
    "\n",
    "soup = BeautifulSoup(html, 'html.parser')\n",
    "\n",
    "h1_tag = soup.find('h1')\n",
    "print(h1_tag.string)\n",
    "\n",
    "# ul_tags = soup.find_all('ul')\n",
    "# for ul in ul_tags:\n",
    "#     print(f\"{type(ul)}: {ul}\")\n",
    "\n",
    "# ul_tags = soup.find_all('li', {\"class\":\"nav-item\"} )\n",
    "# for index, ul in enumerate(ul_tags):\n",
    "#     print(f\"{index:0>3}: {type(ul)}\\n: {ul}\\n\")\n",
    "\n",
    "selector = 'li.nav-item a'\n",
    "item = soup.select_one(selector)\n",
    "link = item.attrs['href']\n",
    "print(f\"{type(item)}\\n: {item}\\n {link}\")\n",
    "\n",
    "selector = 'ul.navbar-nav.bd-navbar-nav .nav-item a'\n",
    "items = soup.select(selector)\n",
    "for index, item in enumerate(items):\n",
    "    print(f\"{index:0>3}: {type(item)}:\\n {item.text}\\n {item.attrs['href']}\\n\")\n"
   ]
  },
  {
   "cell_type": "code",
   "execution_count": null,
   "metadata": {},
   "outputs": [],
   "source": []
  },
  {
   "cell_type": "code",
   "execution_count": null,
   "metadata": {},
   "outputs": [],
   "source": [
    "import requests\n",
    "from bs4 import BeautifulSoup as BS\n",
    "import bs4\n",
    "\n",
    "url = 'https://httpstatuses.com/'\n",
    "\n",
    "response = requests.get(url)\n",
    "\n",
    "soup = BS(response.content, 'html.parser')\n",
    "\n",
    "# print(soup.title)\n",
    "\n",
    "categories = soup.select(\"ul h2\")\n",
    "\n",
    "for item in categories:\n",
    "    # print(f\"h2: {type(item)}: {item.text}\")\n",
    "    print(f\"{item.text}\")\n",
    "    for index, subcat in enumerate(item.parent.next_siblings):\n",
    "         print(f\"{index}: {type(subcat)}: {subcat}\")\n",
    "        #if isinstance(subcat, bs4.element.Tag):\n",
    "            #print(f\"    {subcat.a.text}\")\n",
    "        \n",
    "print(\"*\"*80)\n",
    "\n",
    "# print(soup.prettify())\n",
    "\n",
    "info = f\"\"\"{{\n",
    "url:  {response.url},\\n\\n\n",
    "code:  {response.status_code},\\n\\n\n",
    "headers: {response.headers},\\n\\n\n",
    "encoding: {response.encoding},\\n\\n\n",
    "cookies: {response.cookies},\\n\\n\n",
    "elapsed: {response.elapsed},\\n\\n\n",
    "}}\"\"\"\n",
    "\n",
    "print(info)\n",
    "\n"
   ]
  },
  {
   "cell_type": "code",
   "execution_count": 39,
   "metadata": {},
   "outputs": [],
   "source": []
  }
 ],
 "metadata": {
  "kernelspec": {
   "display_name": "Python 3",
   "language": "python",
   "name": "python3"
  },
  "language_info": {
   "codemirror_mode": {
    "name": "ipython",
    "version": 3
   },
   "file_extension": ".py",
   "mimetype": "text/x-python",
   "name": "python",
   "nbconvert_exporter": "python",
   "pygments_lexer": "ipython3",
   "version": "3.7.4"
  },
  "toc": {
   "base_numbering": 1,
   "nav_menu": {},
   "number_sections": true,
   "sideBar": true,
   "skip_h1_title": false,
   "title_cell": "Table of Contents",
   "title_sidebar": "Contents",
   "toc_cell": false,
   "toc_position": {},
   "toc_section_display": true,
   "toc_window_display": true
  }
 },
 "nbformat": 4,
 "nbformat_minor": 2
}
