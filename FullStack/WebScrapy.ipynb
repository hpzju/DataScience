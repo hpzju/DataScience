{
 "cells": [
  {
   "cell_type": "code",
   "execution_count": null,
   "metadata": {},
   "outputs": [],
   "source": [
    "import scrapy\n",
    "from bs4 import BeautifulSoup\n",
    "\n",
    "pageElem = \"div\", pageClass = \"page-box fr\", pageLabel = '\"totalPage\":'\n",
    "\n",
    "class SXLJSpider(scrapy.Spider):\n",
    "    name = sxljSpider\n",
    "    start_urls=[\"https://sx.lianjia.com/ershoufang/keqiaoqu/\"]\n",
    "    \n",
    "    def parse(self, response):\n",
    "        for s in response.css(\"div.page-box fr:nth-child(1)\"):\n",
    "            print(\"totalpages \", s[\"page-data\"])\n",
    "        "
   ]
  }
 ],
 "metadata": {
  "kernelspec": {
   "display_name": "Python 3",
   "language": "python",
   "name": "python3"
  },
  "language_info": {
   "codemirror_mode": {
    "name": "ipython",
    "version": 3
   },
   "file_extension": ".py",
   "mimetype": "text/x-python",
   "name": "python",
   "nbconvert_exporter": "python",
   "pygments_lexer": "ipython3",
   "version": "3.6.8"
  }
 },
 "nbformat": 4,
 "nbformat_minor": 2
}
