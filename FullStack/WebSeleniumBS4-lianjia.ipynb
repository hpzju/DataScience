{
 "cells": [
  {
   "cell_type": "markdown",
   "metadata": {},
   "source": [
    "# Housing Shaoxing"
   ]
  },
  {
   "cell_type": "markdown",
   "metadata": {},
   "source": [
    "## Keqiao"
   ]
  },
  {
   "cell_type": "code",
   "execution_count": 120,
   "metadata": {},
   "outputs": [
    {
     "name": "stdout",
     "output_type": "stream",
     "text": [
      "https://sx.lianjia.com/ershoufang/keqiaoqu/lc2lc3sf1sf3l3l4l5a4a5a6p3p4p5p6/\n"
     ]
    }
   ],
   "source": [
    "\"\"\"\n",
    "page: pg{n}\n",
    "face: f{n} 1,2,3,4\n",
    "floor: lc{n} 1,2,3\n",
    "type: sf{n} 1,3,4,5 \n",
    "room: l{n}, 1-6\n",
    "area: a{n} 1-8\n",
    "price: p{n} 1-6\n",
    "\"\"\"\n",
    "baseURL = r\"https://sx.lianjia.com/ershoufang/keqiaoqu/\"\n",
    "getPage = lambda n: f\"pg{n}\" if n>1 else \"\"\n",
    "defaultFilter = {\"page\":\"\", \"face\":\"\", \"floor\":\"lc2lc3\", \"type\":\"sf1sf3\", \"room\":\"l3l4l5\",\"area\":\"a4a5a6\", \"price\": \"p3p4p5p6\", \"slash\":\"/\"}\n",
    "order = [\"page\", \"face\", \"floor\", \"type\", \"room\", \"area\", \"price\",\"slash\"]\n",
    "\n",
    "def getURL(page = 1, query = defaultFilter, base = baseURL):\n",
    "    query[\"page\"] = getPage(page)\n",
    "    strlist = [query[key] for key in order]\n",
    "    return base+\"\".join(strlist)\n",
    "\n",
    "print(getURL())"
   ]
  },
  {
   "cell_type": "code",
   "execution_count": 122,
   "metadata": {},
   "outputs": [
    {
     "name": "stdout",
     "output_type": "stream",
     "text": [
      "2019-07-04 18:49:40.427115: 0.18830108642578125 MB data\n",
      "31\n"
     ]
    }
   ],
   "source": [
    "from selenium import webdriver \n",
    "import datetime\n",
    "\n",
    "chromedriver ='C:\\\\Users\\\\hpzju\\\\Desktop\\\\Scraping\\\\chromedriver.exe'  \n",
    "initURL = getURL()\n",
    "\n",
    "timestamps = iter(datetime.datetime.now, None)\n",
    "\n",
    "def getHTMLData(pageURL, cdPath = chromedriver ):\n",
    "    browser = webdriver.Chrome(executable_path = cdPath) \n",
    "    browser.get(pageURL) \n",
    "    htmlPage = browser.page_source\n",
    "    browser.close()\n",
    "    print(f\"{next(timestamps)}: {len(htmlPage)/1024/1024} MB data\")\n",
    "    return  htmlPage\n",
    "\n",
    "from bs4 import BeautifulSoup\n",
    "import re\n",
    "\n",
    "def getPageCounter(homeURL, pageElem = \"div\", pageClass = \"page-box fr\", pageLabel = '\"totalPage\":'):\n",
    "    htmlPage = getHTMLData(homeURL)\n",
    "    soup = BeautifulSoup(htmlPage, 'html.parser')\n",
    "    pagedata = str(soup.find_all(pageElem,pageClass))\n",
    "    pattern = '(?<='+pageLabel+')'+'([\\d]+)'\n",
    "    result = re.findall(pattern, pagedata)\n",
    "    return int(result[0])\n",
    "\n",
    "pages = getPageCounter(initURL)\n",
    "print(pages)"
   ]
  },
  {
   "cell_type": "code",
   "execution_count": 124,
   "metadata": {
    "scrolled": true
   },
   "outputs": [
    {
     "name": "stdout",
     "output_type": "stream",
     "text": [
      "accessing: https://sx.lianjia.com/ershoufang/keqiaoqu/pg2lc2lc3sf1sf3l3l4l5a4a5a6p3p4p5p6/\n",
      "2019-07-04 18:50:47.507035: 0.1842784881591797 MB data\n",
      "writting: ./data/lianjia/sx-ershoufang-keqiaoqu-pg2lc2lc3sf1sf3l3l4l5a4a5a6p3p4p5p6.html\n",
      "accessing: https://sx.lianjia.com/ershoufang/keqiaoqu/pg3lc2lc3sf1sf3l3l4l5a4a5a6p3p4p5p6/\n",
      "2019-07-04 18:51:01.232571: 0.18832683563232422 MB data\n",
      "writting: ./data/lianjia/sx-ershoufang-keqiaoqu-pg3lc2lc3sf1sf3l3l4l5a4a5a6p3p4p5p6.html\n",
      "accessing: https://sx.lianjia.com/ershoufang/keqiaoqu/pg4lc2lc3sf1sf3l3l4l5a4a5a6p3p4p5p6/\n",
      "2019-07-04 18:51:18.820600: 0.18808746337890625 MB data\n",
      "writting: ./data/lianjia/sx-ershoufang-keqiaoqu-pg4lc2lc3sf1sf3l3l4l5a4a5a6p3p4p5p6.html\n",
      "accessing: https://sx.lianjia.com/ershoufang/keqiaoqu/pg5lc2lc3sf1sf3l3l4l5a4a5a6p3p4p5p6/\n",
      "2019-07-04 18:51:32.589262: 0.18382740020751953 MB data\n",
      "writting: ./data/lianjia/sx-ershoufang-keqiaoqu-pg5lc2lc3sf1sf3l3l4l5a4a5a6p3p4p5p6.html\n",
      "accessing: https://sx.lianjia.com/ershoufang/keqiaoqu/pg6lc2lc3sf1sf3l3l4l5a4a5a6p3p4p5p6/\n",
      "2019-07-04 18:51:42.129406: 0.18363189697265625 MB data\n",
      "writting: ./data/lianjia/sx-ershoufang-keqiaoqu-pg6lc2lc3sf1sf3l3l4l5a4a5a6p3p4p5p6.html\n",
      "accessing: https://sx.lianjia.com/ershoufang/keqiaoqu/pg7lc2lc3sf1sf3l3l4l5a4a5a6p3p4p5p6/\n",
      "2019-07-04 18:51:56.033771: 0.1835317611694336 MB data\n",
      "writting: ./data/lianjia/sx-ershoufang-keqiaoqu-pg7lc2lc3sf1sf3l3l4l5a4a5a6p3p4p5p6.html\n",
      "accessing: https://sx.lianjia.com/ershoufang/keqiaoqu/pg8lc2lc3sf1sf3l3l4l5a4a5a6p3p4p5p6/\n",
      "2019-07-04 18:52:09.790533: 0.18515777587890625 MB data\n",
      "writting: ./data/lianjia/sx-ershoufang-keqiaoqu-pg8lc2lc3sf1sf3l3l4l5a4a5a6p3p4p5p6.html\n",
      "accessing: https://sx.lianjia.com/ershoufang/keqiaoqu/pg9lc2lc3sf1sf3l3l4l5a4a5a6p3p4p5p6/\n",
      "2019-07-04 18:52:23.511152: 0.18381309509277344 MB data\n",
      "writting: ./data/lianjia/sx-ershoufang-keqiaoqu-pg9lc2lc3sf1sf3l3l4l5a4a5a6p3p4p5p6.html\n",
      "accessing: https://sx.lianjia.com/ershoufang/keqiaoqu/pg10lc2lc3sf1sf3l3l4l5a4a5a6p3p4p5p6/\n",
      "2019-07-04 18:52:36.711070: 0.18365955352783203 MB data\n",
      "writting: ./data/lianjia/sx-ershoufang-keqiaoqu-pg10lc2lc3sf1sf3l3l4l5a4a5a6p3p4p5p6.html\n",
      "accessing: https://sx.lianjia.com/ershoufang/keqiaoqu/pg11lc2lc3sf1sf3l3l4l5a4a5a6p3p4p5p6/\n",
      "2019-07-04 18:52:50.535655: 0.18366050720214844 MB data\n",
      "writting: ./data/lianjia/sx-ershoufang-keqiaoqu-pg11lc2lc3sf1sf3l3l4l5a4a5a6p3p4p5p6.html\n",
      "accessing: https://sx.lianjia.com/ershoufang/keqiaoqu/pg12lc2lc3sf1sf3l3l4l5a4a5a6p3p4p5p6/\n",
      "2019-07-04 18:53:04.457130: 0.1837787628173828 MB data\n",
      "writting: ./data/lianjia/sx-ershoufang-keqiaoqu-pg12lc2lc3sf1sf3l3l4l5a4a5a6p3p4p5p6.html\n",
      "accessing: https://sx.lianjia.com/ershoufang/keqiaoqu/pg13lc2lc3sf1sf3l3l4l5a4a5a6p3p4p5p6/\n",
      "2019-07-04 18:53:18.139297: 0.18379878997802734 MB data\n",
      "writting: ./data/lianjia/sx-ershoufang-keqiaoqu-pg13lc2lc3sf1sf3l3l4l5a4a5a6p3p4p5p6.html\n",
      "accessing: https://sx.lianjia.com/ershoufang/keqiaoqu/pg14lc2lc3sf1sf3l3l4l5a4a5a6p3p4p5p6/\n",
      "2019-07-04 18:53:31.761851: 0.18375205993652344 MB data\n",
      "writting: ./data/lianjia/sx-ershoufang-keqiaoqu-pg14lc2lc3sf1sf3l3l4l5a4a5a6p3p4p5p6.html\n",
      "accessing: https://sx.lianjia.com/ershoufang/keqiaoqu/pg15lc2lc3sf1sf3l3l4l5a4a5a6p3p4p5p6/\n",
      "2019-07-04 18:53:45.474024: 0.18359947204589844 MB data\n",
      "writting: ./data/lianjia/sx-ershoufang-keqiaoqu-pg15lc2lc3sf1sf3l3l4l5a4a5a6p3p4p5p6.html\n",
      "accessing: https://sx.lianjia.com/ershoufang/keqiaoqu/pg16lc2lc3sf1sf3l3l4l5a4a5a6p3p4p5p6/\n",
      "2019-07-04 18:53:54.862996: 0.18351364135742188 MB data\n",
      "writting: ./data/lianjia/sx-ershoufang-keqiaoqu-pg16lc2lc3sf1sf3l3l4l5a4a5a6p3p4p5p6.html\n",
      "accessing: https://sx.lianjia.com/ershoufang/keqiaoqu/pg17lc2lc3sf1sf3l3l4l5a4a5a6p3p4p5p6/\n",
      "2019-07-04 18:54:04.614125: 0.18368244171142578 MB data\n",
      "writting: ./data/lianjia/sx-ershoufang-keqiaoqu-pg17lc2lc3sf1sf3l3l4l5a4a5a6p3p4p5p6.html\n",
      "accessing: https://sx.lianjia.com/ershoufang/keqiaoqu/pg18lc2lc3sf1sf3l3l4l5a4a5a6p3p4p5p6/\n",
      "2019-07-04 18:54:18.491930: 0.18366432189941406 MB data\n",
      "writting: ./data/lianjia/sx-ershoufang-keqiaoqu-pg18lc2lc3sf1sf3l3l4l5a4a5a6p3p4p5p6.html\n",
      "accessing: https://sx.lianjia.com/ershoufang/keqiaoqu/pg19lc2lc3sf1sf3l3l4l5a4a5a6p3p4p5p6/\n",
      "2019-07-04 18:54:31.996454: 0.18349933624267578 MB data\n",
      "writting: ./data/lianjia/sx-ershoufang-keqiaoqu-pg19lc2lc3sf1sf3l3l4l5a4a5a6p3p4p5p6.html\n",
      "accessing: https://sx.lianjia.com/ershoufang/keqiaoqu/pg20lc2lc3sf1sf3l3l4l5a4a5a6p3p4p5p6/\n",
      "2019-07-04 18:54:45.548166: 0.18287277221679688 MB data\n",
      "writting: ./data/lianjia/sx-ershoufang-keqiaoqu-pg20lc2lc3sf1sf3l3l4l5a4a5a6p3p4p5p6.html\n",
      "accessing: https://sx.lianjia.com/ershoufang/keqiaoqu/pg21lc2lc3sf1sf3l3l4l5a4a5a6p3p4p5p6/\n",
      "2019-07-04 18:54:54.811048: 0.17900562286376953 MB data\n",
      "writting: ./data/lianjia/sx-ershoufang-keqiaoqu-pg21lc2lc3sf1sf3l3l4l5a4a5a6p3p4p5p6.html\n",
      "accessing: https://sx.lianjia.com/ershoufang/keqiaoqu/pg22lc2lc3sf1sf3l3l4l5a4a5a6p3p4p5p6/\n",
      "2019-07-04 18:55:08.267089: 0.17935752868652344 MB data\n",
      "writting: ./data/lianjia/sx-ershoufang-keqiaoqu-pg22lc2lc3sf1sf3l3l4l5a4a5a6p3p4p5p6.html\n",
      "accessing: https://sx.lianjia.com/ershoufang/keqiaoqu/pg23lc2lc3sf1sf3l3l4l5a4a5a6p3p4p5p6/\n",
      "2019-07-04 18:55:22.370595: 0.1776418685913086 MB data\n",
      "writting: ./data/lianjia/sx-ershoufang-keqiaoqu-pg23lc2lc3sf1sf3l3l4l5a4a5a6p3p4p5p6.html\n",
      "accessing: https://sx.lianjia.com/ershoufang/keqiaoqu/pg24lc2lc3sf1sf3l3l4l5a4a5a6p3p4p5p6/\n",
      "2019-07-04 18:55:37.128462: 0.17785358428955078 MB data\n",
      "writting: ./data/lianjia/sx-ershoufang-keqiaoqu-pg24lc2lc3sf1sf3l3l4l5a4a5a6p3p4p5p6.html\n",
      "accessing: https://sx.lianjia.com/ershoufang/keqiaoqu/pg25lc2lc3sf1sf3l3l4l5a4a5a6p3p4p5p6/\n",
      "2019-07-04 18:55:51.267964: 0.17790603637695312 MB data\n",
      "writting: ./data/lianjia/sx-ershoufang-keqiaoqu-pg25lc2lc3sf1sf3l3l4l5a4a5a6p3p4p5p6.html\n",
      "accessing: https://sx.lianjia.com/ershoufang/keqiaoqu/pg26lc2lc3sf1sf3l3l4l5a4a5a6p3p4p5p6/\n",
      "2019-07-04 18:56:05.357079: 0.17798137664794922 MB data\n",
      "writting: ./data/lianjia/sx-ershoufang-keqiaoqu-pg26lc2lc3sf1sf3l3l4l5a4a5a6p3p4p5p6.html\n",
      "accessing: https://sx.lianjia.com/ershoufang/keqiaoqu/pg27lc2lc3sf1sf3l3l4l5a4a5a6p3p4p5p6/\n",
      "2019-07-04 18:56:19.438370: 0.1777782440185547 MB data\n",
      "writting: ./data/lianjia/sx-ershoufang-keqiaoqu-pg27lc2lc3sf1sf3l3l4l5a4a5a6p3p4p5p6.html\n",
      "accessing: https://sx.lianjia.com/ershoufang/keqiaoqu/pg28lc2lc3sf1sf3l3l4l5a4a5a6p3p4p5p6/\n",
      "2019-07-04 18:56:34.555825: 0.1777667999267578 MB data\n",
      "writting: ./data/lianjia/sx-ershoufang-keqiaoqu-pg28lc2lc3sf1sf3l3l4l5a4a5a6p3p4p5p6.html\n",
      "accessing: https://sx.lianjia.com/ershoufang/keqiaoqu/pg29lc2lc3sf1sf3l3l4l5a4a5a6p3p4p5p6/\n",
      "2019-07-04 18:56:49.484021: 0.17761898040771484 MB data\n",
      "writting: ./data/lianjia/sx-ershoufang-keqiaoqu-pg29lc2lc3sf1sf3l3l4l5a4a5a6p3p4p5p6.html\n",
      "accessing: https://sx.lianjia.com/ershoufang/keqiaoqu/pg30lc2lc3sf1sf3l3l4l5a4a5a6p3p4p5p6/\n",
      "2019-07-04 18:57:00.934585: 0.17838096618652344 MB data\n",
      "writting: ./data/lianjia/sx-ershoufang-keqiaoqu-pg30lc2lc3sf1sf3l3l4l5a4a5a6p3p4p5p6.html\n",
      "accessing: https://sx.lianjia.com/ershoufang/keqiaoqu/pg31lc2lc3sf1sf3l3l4l5a4a5a6p3p4p5p6/\n",
      "2019-07-04 18:57:12.888334: 0.16244983673095703 MB data\n",
      "writting: ./data/lianjia/sx-ershoufang-keqiaoqu-pg31lc2lc3sf1sf3l3l4l5a4a5a6p3p4p5p6.html\n"
     ]
    }
   ],
   "source": [
    "import os\n",
    "from bs4 import BeautifulSoup\n",
    "\n",
    "def url2Filename(url, head = \"sx\", striped = \"https://sx.lianjia.com/\", nameSep = \"-\", extend = \".html\" ):\n",
    "    s = url.replace(striped, \"\").strip(\"/\").split(\"/\")    \n",
    "    filename = head+nameSep+nameSep.join(s)+extend\n",
    "    return filename\n",
    "\n",
    "urlGenerator = (getURL(p) for p in range(2, pages+1))\n",
    "\n",
    "dataDir = \"data/lianjia/\"\n",
    "\n",
    "if not os.access(dataDir, os.R_OK):\n",
    "    os.makedirs(dataDir)\n",
    "\n",
    "for url in urlGenerator:\n",
    "    file = url2Filename(url)\n",
    "    filename = os.path.join(dataDir, file)\n",
    "    print(f\"accessing: {url}\")\n",
    "    htmlData = getHTMLData(url)\n",
    "    soup = BeautifulSoup(htmlData, 'html.parser')\n",
    "    formattedHTML = soup.prettify(\"utf-8\")\n",
    "    print(f\"writting: ./{filename}\")\n",
    "    with open(filename, \"wb\") as file:\n",
    "        file.write(formattedHTML)\n",
    "    "
   ]
  },
  {
   "cell_type": "markdown",
   "metadata": {},
   "source": [
    "## Yuecheng"
   ]
  },
  {
   "cell_type": "code",
   "execution_count": null,
   "metadata": {},
   "outputs": [],
   "source": [
    "base = r\"https://sx.lianjia.com/ershoufang/yuechengqu/a4a5a6/\""
   ]
  }
 ],
 "metadata": {
  "kernelspec": {
   "display_name": "Python 3",
   "language": "python",
   "name": "python3"
  },
  "language_info": {
   "codemirror_mode": {
    "name": "ipython",
    "version": 3
   },
   "file_extension": ".py",
   "mimetype": "text/x-python",
   "name": "python",
   "nbconvert_exporter": "python",
   "pygments_lexer": "ipython3",
   "version": "3.6.8"
  }
 },
 "nbformat": 4,
 "nbformat_minor": 2
}
