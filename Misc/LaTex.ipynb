{
 "cells": [
  {
   "cell_type": "markdown",
   "metadata": {},
   "source": [
    "# Latex Introduction"
   ]
  },
  {
   "cell_type": "markdown",
   "metadata": {},
   "source": [
    "document preparation system in which the source file contains both text and markup commands"
   ]
  },
  {
   "cell_type": "markdown",
   "metadata": {},
   "source": [
    "## Overview"
   ]
  },
  {
   "cell_type": "markdown",
   "metadata": {},
   "source": [
    "###  Features"
   ]
  },
  {
   "cell_type": "markdown",
   "metadata": {},
   "source": [
    "- pros\n",
    "    - a document preparation system\n",
    "    - a powerful editing tool\n",
    "    - widely used in academia\n",
    "    - highly extendible for different needs\n",
    "    - good at math equation\n",
    "    - open source\n"
   ]
  },
  {
   "cell_type": "markdown",
   "metadata": {},
   "source": [
    "- cons\n",
    "    - high learning curve\n"
   ]
  },
  {
   "cell_type": "markdown",
   "metadata": {},
   "source": [
    "- software\n",
    "  - windows: MikTex\n",
    "  - Linux: TexLive"
   ]
  },
  {
   "cell_type": "markdown",
   "metadata": {},
   "source": [
    "- basic mindsets\n",
    "  - command\n",
    "      - `\\COMMAND`\n",
    "      - `\\COMMAND[OPT-ARGs]{MAD-ARGs}`\n",
    "  - customize command:\n",
    "\n",
    "    ```latex\n",
    "    % pattern\n",
    "    \\newcommand{\\name}[no_of_parameters]{defn_of_command}\n",
    "    \\newcommand{\\name}[no_of_parameters][default_1st_variable]{defn_of_command}\n",
    "    \n",
    "    %without argument    \n",
    "    \\newcommand{\\R}{\\mathbb{R}}\n",
    "    \n",
    "    % 1 argument\n",
    "    \\newcommand{\\bb}[1]{\\mathbb{#1}}\n",
    "    \n",
    "    % optional and more arguments\n",
    "    \\newcommand{\\plusbinomial}[3][2]{(#2 + #3)^#1}\n",
    "    \\plusbinomial[4]{x}{y}\n",
    "    \n",
    "    %override with renewcommand\n",
    "    \\renewcommand{\\S}{\\mathbb{S}}\n",
    "    ```\n",
    "\n",
    "  - envrionment\n",
    "    - `\\begin{ENV}[optional argument]{argument} ... \\end{ENV}`    \n",
    "  - customize envrionment\n",
    "  \n",
    "    ```latex\n",
    "    \\newenvironment{boxed}[1]\n",
    "    {\\begin{center}\n",
    "    #1\\\\[1ex]\n",
    "    \\begin{tabular}{|p{0.9\\textwidth}|}\n",
    "    \\hline\\\\\n",
    "    }\n",
    "    { \n",
    "    \\\\\\\\\\hline\n",
    "    \\end{tabular} \n",
    "    \\end{center}\n",
    "    }\n",
    "    \n",
    "    \\begin{boxed}{Title of the Box}\n",
    "        This is the text formatted by the boxed environment\n",
    "    \\end{boxed}   \n",
    "    ```"
   ]
  },
  {
   "cell_type": "markdown",
   "metadata": {},
   "source": [
    "## Building Blocks"
   ]
  },
  {
   "cell_type": "markdown",
   "metadata": {
    "toc-hr-collapsed": false
   },
   "source": [
    "### Document"
   ]
  },
  {
   "cell_type": "markdown",
   "metadata": {},
   "source": [
    "#### structure"
   ]
  },
  {
   "cell_type": "markdown",
   "metadata": {},
   "source": [
    "##### overall struct"
   ]
  },
  {
   "cell_type": "markdown",
   "metadata": {},
   "source": [
    "- document class\n",
    "    - class type\n",
    "        - article, report, book, letter, slides\n",
    "        - thesis...3ed party classes\n",
    "        - self-customized classes\n",
    "    - font size; page size; page formate;\n",
    "    - fleqn; leqno; titlepage; notitlepage; \n",
    "    - onecolumn; twocolumn; oneside; twoside; \n",
    "- preamble\n",
    "    - packages\n",
    "        - \\usepackage[options]{PKGNAME}\n",
    "    - page style\n",
    "        - \\pagestyle{style}\n",
    "          - plain; headings; empty\n",
    "        - \\thispagestyle{style}\n",
    "        - header(lhead, chead, rhead)\n",
    "        - footer(lfoot, cfoot, rfoot)\n",
    "        - pagenumbering\n",
    "        - setcounter\n",
    "    - format length\n",
    "        - \\setlength{\\textwidth}{15cm}\n",
    "        - \\setlength{\\parskip}{1ex}\n",
    "        - \\setlength{\\parindent}{0mm}\n",
    "    - content import indexing\n",
    "        - \\includeonly{filename,filename,…}\n",
    "- document\n",
    "    - \\include{filename}\n",
    "    - title\n",
    "        - title; author, date; maketitle\n",
    "    - tableofcontents\n",
    "    - listoffigures\n",
    "    - listoftables\n",
    "    - abstract\n",
    "    - chapter\n",
    "        - section\n",
    "            - subsection\n",
    "                -subsubsection\n",
    "                    - paragraph, \n",
    "                        - subparagraph\n",
    "    - appendix, footnote\n",
    "    - auto numbering with `1, 1.1, 1.1.1, 1.1.1.1`"
   ]
  },
  {
   "cell_type": "markdown",
   "metadata": {},
   "source": [
    "##### page layout"
   ]
  },
  {
   "cell_type": "markdown",
   "metadata": {},
   "source": [
    "```latex\n",
    "\\usepackage[a4paper, inner=1.5cm, outer=3cm, top=2cm, bottom=3cm, bindingoffset=1cm]{geometry}\n",
    "```"
   ]
  },
  {
   "cell_type": "markdown",
   "metadata": {},
   "source": [
    "\\begin{figure}[h]\n",
    "    \\centering\n",
    "    \\includegraphics[scale=0.6]{./latex/latex-layoutsystem.png}\n",
    "    \\caption{latex page layout sys}\n",
    "    \\label{fig:latex-layoutsystem}\n",
    "\\end{figure}"
   ]
  },
  {
   "cell_type": "markdown",
   "metadata": {},
   "source": [
    "##### template"
   ]
  },
  {
   "cell_type": "markdown",
   "metadata": {},
   "source": [
    "```latex\n",
    "\\documentclass[options]{class_name}\n",
    "% documentclass determines overall structure\n",
    "\n",
    "preamble – global commands which affect whole document\n",
    "% amssymb.sty file can be found in Latex search path\n",
    "\\usepackage{amssymb}\n",
    "\n",
    "\\begin{document}\n",
    "\\frontmatter\n",
    "\n",
    "\\title{My First Document}\n",
    "\\author{My Name}\n",
    "\\date{\\today}\n",
    "\\date{November 2013}\n",
    "\\maketitle\n",
    "\n",
    "\\tableofcontents\n",
    "\\listoffigures\n",
    "\\listoftables\n",
    "\n",
    "\\begin{abstract}\n",
    "The abstract abstract.\n",
    "\\end{abstract}\n",
    "\n",
    "\\input{chap1}\n",
    "\n",
    "\\mainmatter\n",
    "\\chapter{The model}\n",
    "    \\section{Dark matter halos}\n",
    "        \\subsection{Density profiles}\n",
    "            \\subsubsection{Some irritating details}\n",
    "                \\paragraph{paragraph}\n",
    "                    \\subparagraph{subparagraph}\n",
    "                    \n",
    " \\par{partition text without numbering}\n",
    "            \n",
    "\\input{chap2}\n",
    "\n",
    "\\begin{itemize}\n",
    "    \\item apples\n",
    "    \\item oranges\n",
    "    \\item bananas\n",
    "\\end{itemize}\n",
    "\n",
    "\\appendix\n",
    "\\chapter{Appendix}\n",
    "\n",
    "\\backmatter\n",
    "\\end{document}\n",
    "```"
   ]
  },
  {
   "cell_type": "markdown",
   "metadata": {},
   "source": [
    "#### text manipulate"
   ]
  },
  {
   "cell_type": "markdown",
   "metadata": {},
   "source": [
    "##### font: size"
   ]
  },
  {
   "cell_type": "markdown",
   "metadata": {},
   "source": [
    "```latex\n",
    "% \\documentclass[12pt]{article}\n",
    "\n",
    "\\tiny size 5pt\n",
    "\\scriptsize size 7pt\n",
    "\\footnotesize size 8pt\n",
    "\\small size 9pt\n",
    "\\normalsize size 10pt\n",
    "\\large size 12pt\n",
    "\\Large size 14.4pt\n",
    "\\LARGE size 17.28pt\n",
    "\\huge size 20.74pt\n",
    "\\Huge size 24.88pt\n",
    "\n",
    "\\begin{huge}\n",
    "huge text here\n",
    "\\end{huge}\n",
    "```"
   ]
  },
  {
   "cell_type": "markdown",
   "metadata": {},
   "source": [
    "##### font: type"
   ]
  },
  {
   "cell_type": "markdown",
   "metadata": {},
   "source": [
    "```latex\n",
    "\\usepackage{fontspec}\n",
    "\\setmainfont{CMU Serif}\n",
    "\\setsansfont{CMU Sans Serif}\n",
    "\\setmonofont{CMU Typewriter Text}\n",
    "\n",
    "\\fontencoding {hencodingi}\n",
    "\\fontfamily {hfamilyi}\n",
    "\\fontseries {hseriesi}\n",
    "\\fontshape {hshapei}\n",
    "\\fontsize {hsizei} {hbaselineskipi}\n",
    "\\linespread {hfactori}\n",
    "\\fontfamily{ptm}\\fontseries{b}\\selectfont Some text.\n",
    "\\usefont {encoding} {family} {series} {shape} Some text.\n",
    "\n",
    "\\textrm \\rmfamily Roman font family\n",
    "\\texttt \\ttfamily Typewriter font family\n",
    "\\textsf \\sffamily Sans serif font family\n",
    "\\textup \\upshape Normal, upright font shape\n",
    "\\textnormal \n",
    "\n",
    "```"
   ]
  },
  {
   "cell_type": "markdown",
   "metadata": {},
   "source": [
    "##### font: style"
   ]
  },
  {
   "cell_type": "markdown",
   "metadata": {},
   "source": [
    "```latex\n",
    "\\emph \\em emphasised\n",
    "\\textit \\itshape Italic font shape\n",
    "\\textsl \\slshape Slanted font shape\n",
    "\\textsc \\scshape SMALL CAPS FONT SHAPE\n",
    "\\textbf \\bfseries Boldface font weight\n",
    "\\textmd \\mdseries normal (medium) font weight\n",
    "\n",
    "Some text {\\em some text in italics} more text \n",
    "Some text {\\it some text in italics} more text \n",
    "Some text {\\bf text in bold}\n",
    "The $\\alpha$-elements greek char\n",
    "\n",
    "\\underline{text}\n",
    "\\emph{text}\n",
    "\n",
    "\\emph{See how \\emph{emphasizing} looks when nested.}\n",
    "Besides being \\textit{italic} words could be \\textbf{bold},\n",
    "\\textsl{slanted} or typeset in \\textsc{Small Caps},\n",
    "\\textmd{normal (medium) font weight.}\n",
    "```"
   ]
  },
  {
   "cell_type": "markdown",
   "metadata": {},
   "source": [
    "##### punctuation"
   ]
  },
  {
   "cell_type": "markdown",
   "metadata": {},
   "source": [
    "```latex\n",
    "% begins a comment\n",
    "\\slash\n",
    "\\textbackslash; \\backslash\n",
    "\\textasciitilde; \\textasciicircum\n",
    "\\lq; \\rq `'\n",
    "\\lq\\lq; \\rq\\rq ``''\n",
    "\\$; \\%; \\&; \\#; \\_;  \\{; \\}; \n",
    "- hyphen; -- en-dash; --- em-dash;\n",
    "\\ldots; \\cdots; \\circ\n",
    " \\~{tilde}; \n",
    "\n",
    "% \\usepackage{textcomp}\n",
    "$-30\\,^{\\circ}\\mathrm{C}$\n",
    "30 \\textcelsius{}\n",
    "\\texteuro\n",
    "\n",
    "% Accents and Special Characters.\n",
    "\\today\n",
    "\\TeX; \\LaTeX; \\LaTeXe\n",
    "```"
   ]
  },
  {
   "cell_type": "markdown",
   "metadata": {},
   "source": [
    "##### spacing"
   ]
  },
  {
   "cell_type": "markdown",
   "metadata": {},
   "source": [
    "```latex\n",
    "~    ties two words together (the line won’t break here)\n",
    "\\    (\\blank) insert space after a command\n",
    "\\/   a tiny bit of space for ligature space\n",
    "\\hspace{3cm}; \n",
    "\\hspace*{1cm}\n",
    "\\\\   double slash breaks line\n",
    "\\\\*  new line without starting a new paragraph\n",
    "\\\\[5pt]   more extra vertical space\n",
    "\\\\*[5pt]  more extra vertical space, but no page break\n",
    "\\newline\n",
    "\\linebreak[n] \n",
    "\\nolinebreak[n]\n",
    "\\vspace{1cm}      one cm of vertical space\n",
    "\\vspace*{-1cm}    squeeze up by 1cm vertically (for telescope proposals!)\n",
    "\\smallskip; \\medskip; \\bigskip\n",
    "\\pagebreak[n]\n",
    "\\nopagebreak[n]\n",
    "\\newpage\n",
    "cm; mm; in; pt, em; ex    measurements\n",
    "\n",
    "% math environment spacing\n",
    "        no space\n",
    "\\,      \\thinspace \n",
    "\\:      \\medspace \n",
    "\\;      \\thickspace\n",
    "\\quad\n",
    "\\qquad\n",
    "```"
   ]
  },
  {
   "cell_type": "markdown",
   "metadata": {},
   "source": [
    "##### alignment"
   ]
  },
  {
   "cell_type": "markdown",
   "metadata": {},
   "source": [
    "```latex\n",
    "\\mbox{text}    invisible box boarder\n",
    "\\fbox{text}    visible box boarder\n",
    "\\parbox[alignment b|t][height][inner alignment b|t|s|c]{width}{text}\n",
    "\\mbox{0116 291 2319}\n",
    "\n",
    "\\noindent; \\indent;  paragraph indentation\n",
    "\\nonumber\n",
    "\n",
    "\\enlargethispage{\\baselineskip}\n",
    "\n",
    "\\footnote[number]{footnote text}\n",
    "\\footnotetext[number]{text}\n",
    "\n",
    "\\begin{minipage}\n",
    "\\end{minipage}\n",
    "\n",
    "\\begin{comment} \n",
    "\\end{comment}\n",
    "\n",
    "\\begin{quote} \n",
    "\\end{quote}\n",
    "\n",
    "\\begin{verse} \n",
    "\\end{verse}\n",
    "\n",
    "\\verb+text+   inline version\n",
    "\\begin{verbatim} \n",
    "\\end{verbatim}\n",
    "\n",
    "\\begin{flushleft}\n",
    "\\end{flushleft}\n",
    "\n",
    "\\begin{flushright}\n",
    "\\end{flushright}\n",
    "\n",
    "\\begin{center}\n",
    "\\end{center}\n",
    "```"
   ]
  },
  {
   "cell_type": "markdown",
   "metadata": {},
   "source": [
    "##### listing"
   ]
  },
  {
   "cell_type": "markdown",
   "metadata": {},
   "source": [
    "```latex\n",
    "% \\usepackage{enumitem}\n",
    "% \\usepackage{pifont}\n",
    "\n",
    "\\renewcommand{\\labelitemi}{\\ding{42}}\n",
    "\\renewcommand{\\labelitemii}{\\ding{43}}\n",
    "\\renewcommand{\\labelitemiii}{\\ding{44}}\n",
    "\\renewcommand{\\labelitemiv}{\\ding{45}}\n",
    "\n",
    "\\begin{itemize}\n",
    "\\item The first item in the first level\n",
    "\\item the second item in the first level\n",
    "    \\begin{itemize}\n",
    "    \\item The first item in the second level\n",
    "    \\item the second item in the second level\n",
    "        \\begin{itemize}\n",
    "        \\item The first item in the third level\n",
    "        \\item the second item in the third level\n",
    "            \\begin{itemize}\n",
    "            \\item The first item in the fourth level\n",
    "            \\item the second item in the fourth level\n",
    "            \\end{itemize}\n",
    "        \\end{itemize}\n",
    "    \\end{itemize}\n",
    "\\end{itemize}\n",
    "\n",
    "\\begin{enumerate}\n",
    "  \\item One entry in the list\n",
    "  \\item Another entry in the list\n",
    "\\end{enumerate}\n",
    "\n",
    "The three basic steps in producing a printed document\n",
    "using \\LaTeX\\ are as follows:\n",
    "\\begin{enumerate}[\\hspace{0.5cm}Step 1.]\n",
    "    \\item Prepare a source file with the extension \"tex\"\n",
    "    \\item Compile it with \\LaTeX\\ to produce a \"dvi\" file\n",
    "        \\begin{enumerate}[i.]\n",
    "            \\item Use a previewer (such as \"xdvi\" on \\textsf{X Window System}) to view the output\n",
    "            \\item Edit the source if needed\n",
    "            \\item Recompile\n",
    "        \\end{enumerate}\n",
    "    \\item Print the document using a \"dvi\" driver (such as \"dvips\")\n",
    "\\end{enumerate}\n",
    "\n",
    "\\begin{description}\n",
    "    \\item[\\TeX] A typesetting program\n",
    "    \\item[Emacs] A text editor and also\n",
    "        \\begin{description}\n",
    "            \\item a programming environment\n",
    "            \\item a mailer\n",
    "            \\item and a lot else besides\n",
    "        \\end{description}\n",
    "    \\item[AbiWord] A word processor\n",
    "\\end{description}\n",
    "\n",
    "% \\usepackage{listings}\n",
    "\n",
    "\\begin{lstlisting}[language=Python]\n",
    "import numpy as np\n",
    "\n",
    "def func(a, b):\n",
    "   print('hello world')\n",
    "\\end{lstlisting}\n",
    "```"
   ]
  },
  {
   "cell_type": "markdown",
   "metadata": {},
   "source": [
    "#### date"
   ]
  },
  {
   "cell_type": "markdown",
   "metadata": {},
   "source": [
    "```latex\n",
    "% \\usepackage{babel}\n",
    "\\today\n",
    "\\date{November 2013}\n",
    "```"
   ]
  },
  {
   "cell_type": "markdown",
   "metadata": {},
   "source": [
    "#### linkage"
   ]
  },
  {
   "cell_type": "markdown",
   "metadata": {},
   "source": [
    "```latex\n",
    "\\usepackage{varioref}\n",
    "\\usepackage{cleveref}\n",
    "```"
   ]
  },
  {
   "cell_type": "markdown",
   "metadata": {},
   "source": [
    "```latex\n",
    "\\begin{thebibliography}{widest-label}\n",
    "\\bibitem{key1}\n",
    "\\bibitem{key2}\n",
    "\\end{thebibliography}\n",
    "\n",
    "\\cite{key1} \\cite{key1,key2}\n",
    "\\cite[page˜25]{key1}\n",
    "```\n",
    "\n",
    "```latex\n",
    "\\label{marker}\n",
    "\\ref{marker}\n",
    "\\pageref{marker}\n",
    "\n",
    "figure~\\ref{fig:test} on page~\\pageref{fig:test}\n",
    "ch:\t    chapter\n",
    "sec:\tsection\n",
    "subsec:\tsubsection\n",
    "fig:\tfigure\n",
    "tab:\ttable\n",
    "eq:\t    equation\n",
    "lst:\tcode listing\n",
    "itm:\tenumerated list item\n",
    "alg:\talgorithm\n",
    "app:\tappendix subsection\n",
    "```"
   ]
  },
  {
   "cell_type": "markdown",
   "metadata": {},
   "source": [
    "### Math"
   ]
  },
  {
   "cell_type": "markdown",
   "metadata": {},
   "source": [
    "- Package\n",
    "  - `\\ usepackage{amsmath}`"
   ]
  },
  {
   "cell_type": "markdown",
   "metadata": {},
   "source": [
    "#### Math mode"
   ]
  },
  {
   "cell_type": "markdown",
   "metadata": {},
   "source": [
    "- inline: \n",
    "\n",
    "    ```latex\n",
    "    paragraph text \\begin{math} y=x^2 \\end{math} paragraph text\n",
    "    paragraph text \\(y=x^2\\) paragraph text\n",
    "    paragraph text $y=x^2$ paragraph text\n",
    "    ```\n",
    "\n",
    "- block:\n",
    "\n",
    "    ```latex\n",
    "    paragraph text \n",
    "    \\begin{displaymath} \n",
    "    y=x^2 \n",
    "    \\end{displaymath} \n",
    "    paragraph text\n",
    "\n",
    "    paragraph text \n",
    "    \\[\n",
    "    y=x^2 \n",
    "    \\]\n",
    "\n",
    "    paragraph text \n",
    "    $$ \n",
    "    y=x^2 \n",
    "    $$\n",
    "    paragraph text\n",
    "    ```"
   ]
  },
  {
   "cell_type": "markdown",
   "metadata": {},
   "source": [
    "#### Math fonts"
   ]
  },
  {
   "cell_type": "markdown",
   "metadata": {},
   "source": [
    "```latex\n",
    "\\mathrm{R}\n",
    "\\mathsf{R}\n",
    "\\mathcal{R}\n",
    "\\mathit{math}\n",
    "\\mathbb{R}\n",
    "\\mathfrak{R}\n",
    "\\mathnormal{math}\n",
    "\n",
    "\\mathbf{math}\n",
    "\\mathtt{math}\n",
    "```"
   ]
  },
  {
   "cell_type": "markdown",
   "metadata": {},
   "source": [
    "#### Math symbols"
   ]
  },
  {
   "cell_type": "markdown",
   "metadata": {},
   "source": [
    "```latex\n",
    "\\mathbb{Z}\n",
    "\\mathbb{N}\n",
    "\\mathbb{Q}\n",
    "\\mathbb{R}; \\Re; \\mathcal{R}; \\mathfrak{R}; \\mathrm{R}\n",
    "\\left \\bigl \\Bigl \\biggl \\Biggl\n",
    "\\right \\bigr \\Bigr \\biggr \\Biggr\n",
    "\\big( \\Big( \\bigg( \\Bigg( \n",
    "\\big\\} \\Big\\} \\bigg\\} \\Bigg\\}\n",
    "\\big\\| \\Big\\| \\bigg\\| \\Bigg\\|\n",
    "\\big\\Downarrow \\Big\\Downarrow \\bigg\\Downarrow \\Bigg\\Downarrow\n",
    "\\in\n",
    "\\infty\n",
    "\n",
    "\\ldots\n",
    "\\cdots; \\cdot; \n",
    "\\vdots; \\ddots\n",
    "\\dotsc; dots with comma\n",
    "\\dotsb; dots with binary ops\n",
    "\\dotsm; multiplication dots\n",
    "\\dotsi; dots with integrals\n",
    "\\dotso; dots for others\n",
    "\\overline; \\underline\n",
    "\\overbrace; \\underbrace\n",
    "\\overleftarrow; \\underleftarrow\n",
    "\\overrightarrow; \\underrightarrow\n",
    "\\overleftrightarrow; \\underleftrightarrow\n",
    "```"
   ]
  },
  {
   "cell_type": "markdown",
   "metadata": {},
   "source": [
    "\\begin{figure}[h]\n",
    "    \\centering\n",
    "    \\includegraphics[width=0.5\\textwidth]{./latex/latex-math-arrows.png}\n",
    "    \\caption{latex math arrows}\n",
    "    \\label{fig:latex-math-arrows}\n",
    "\\end{figure}"
   ]
  },
  {
   "cell_type": "markdown",
   "metadata": {},
   "source": [
    "```latex\n",
    "a^ \\hat{a} \n",
    "aˇ \\check{a} \n",
    "a~ \\tilde{a}\n",
    "a` \\grave{a} \n",
    "a_ \\dot{a} \n",
    "a¨ \\ddot{a}\n",
    "a¯ \\bar{a}\n",
    "a \\vec{a} \n",
    "AAA \\widehat{AAA}\n",
    "a´ \\acute{a} \n",
    "a˘ \\breve{a} \n",
    "AAA \\widetilde{AAA}\n",
    "˚a \\mathring{a}\n",
    "```"
   ]
  },
  {
   "cell_type": "markdown",
   "metadata": {},
   "source": [
    "```latex\n",
    "\\alpha    A\n",
    "\\beta     B\n",
    "\\gamma    \\Gama\n",
    "\\delta    \\Delta\n",
    "\\epsilon  \\varepsilon   E\n",
    "\\zeta     Z\n",
    "\\eta      H\n",
    "\\theta    \\vartheta     \\Theta\n",
    "\\iota     I\n",
    "\\kappa    K\n",
    "\\lambda   \\Lambda\n",
    "\\mu       M\n",
    "\\nu       N\n",
    "\\xi       \\Xi\n",
    "o,\\omicron  O\n",
    "\\pi       \\Pi\n",
    "\\rho;     \\varrho      P\n",
    "\\sigma    \\Sigma\n",
    "\\tau      T\n",
    "\\upsilon  \\Upsilon\n",
    "\\phi      \\varphi      \\Phi\n",
    "\\chi      X\n",
    "\\psi      \\Psi\n",
    "\\omega    \\Omega\n",
    "```"
   ]
  },
  {
   "cell_type": "markdown",
   "metadata": {},
   "source": [
    "\\begin{figure}[h]\n",
    "    \\centering\n",
    "    \\includegraphics[width=0.5\\textwidth]{./latex/latex-math-symbols.png}\n",
    "    \\caption{latex math symbols}\n",
    "    \\label{fig:latex-math-symbols}\n",
    "\\end{figure}"
   ]
  },
  {
   "cell_type": "markdown",
   "metadata": {},
   "source": [
    "```latex\n",
    "\\circ; \n",
    "\\Box;\n",
    "\\neq; \\geq; \\leq; \\pm\n",
    "```"
   ]
  },
  {
   "cell_type": "markdown",
   "metadata": {},
   "source": [
    "\\begin{figure}[h]\n",
    "    \\centering\n",
    "    \\includegraphics[width=0.5\\textwidth]{./latex/latex-math-operators.png}\n",
    "    \\caption{latex math operators}\n",
    "    \\label{fig:latex-math-operators}\n",
    "\\end{figure}"
   ]
  },
  {
   "cell_type": "markdown",
   "metadata": {},
   "source": [
    "```latex\n",
    "\\stackrel{#1}{#2}\n",
    "\\substack{0<i<n \\\\\n",
    "j\\subseteq i}\n",
    "\\hat{XY}; \\widehat{XY}; \\bar{x_0}\n",
    "\\vec{a}; \\vec{AB}\n",
    "a\\bmod b; x\\equiv a \\pmod{b}\n",
    "x_i\n",
    "x^i\n",
    "\\overset{*}{X}\n",
    "\\underset{*}{X}\n",
    "\\sum_{i=1}^n\n",
    "\\prod_\\epsilon\n",
    "\\frac{1}{x}\n",
    "\\binom{n}{k}\n",
    "f(x)\n",
    "(f \\circ g)(x)\n",
    "\\sqrt{x}\n",
    "\\sqrt[n]{x}\n",
    "\\sin(x)\n",
    "\\cos(x)\n",
    "\\tan(x)\n",
    "\\ctan(x)\n",
    "\\exp(x)\n",
    "\\log_a(x)\n",
    "\\ln(x)\n",
    "\\lim_{x \\rightarrow \\infty}\n",
    "\\sum_{i = 0}^{n}\n",
    "\\int_{-3}{\\infty}\n",
    "\\iint, \\iiint, \\iiiint, \\idotsint\n",
    "```"
   ]
  },
  {
   "cell_type": "markdown",
   "metadata": {},
   "source": [
    "```latex\n",
    "\\arccos arccos \\deg deg \\lg lg \\projlim proj lim\n",
    "\\arcsin arcsin \\det det \\lim lim \\sec sec\n",
    "\\arctan arctan \\dim dim \\liminf lim inf \\sin sin\n",
    "\\arg arg \\exp exp \\limsup lim sup \\sinh sinh\n",
    "\\cos cos \\gcd gcd \\ln ln \\sup sup\n",
    "\\cosh cosh \\hom hom \\log log \\tan tan\n",
    "\\cot cot \\inf inf \\max max \\tanh tanh\n",
    "\\coth coth \\injlim inj lim \\min min\n",
    "\\csc csc \\ker ker \\Pr Pr\n",
    "\\varinjlim \\varliminf \\varprojlim \\varlimsup\n",
    "```"
   ]
  },
  {
   "cell_type": "markdown",
   "metadata": {},
   "source": [
    "#### Math spacing"
   ]
  },
  {
   "cell_type": "markdown",
   "metadata": {},
   "source": [
    "```latex\n",
    "        no space\n",
    "\\,      \\thinspace \n",
    "\\:      \\medspace \n",
    "\\;      \\thickspace\n",
    "\\quad\n",
    "\\qquad\n",
    "\\phantom{1}\n",
    "```"
   ]
  },
  {
   "cell_type": "markdown",
   "metadata": {},
   "source": [
    "#### Math expression"
   ]
  },
  {
   "cell_type": "markdown",
   "metadata": {},
   "source": [
    "```latex\n",
    "inline math: $MATH_EXPR$\n",
    "block math: $$MATH_EXPR$$\n",
    "upper: x^{uppperexpr}\n",
    "sub: x_{subexpr}\n",
    "fraction: \\frac{numerator}{denominator}\n",
    "brackets: \\{ \\}\n",
    "full bracing with: \\left    \\right; \n",
    "    \\left(    \\right)\n",
    "    \\left\\{    \\right\\}\n",
    "\\text{for $x= x_0 + I x_1$.}\n",
    "\\substack{0\\le i\\le m\\\\\n",
    "0<j<n}\n",
    "\\sideset{_1^2}{_3^4}\\prod    \n",
    "```"
   ]
  },
  {
   "cell_type": "markdown",
   "metadata": {},
   "source": [
    "```latex\n",
    "% customize\n",
    "\\newcommand{\\vect}{(x_1,x_2,\\dots,x_n)}\n",
    "\n",
    "$\\vect$\n",
    "```\n"
   ]
  },
  {
   "cell_type": "markdown",
   "metadata": {},
   "source": [
    "#### Math equation"
   ]
  },
  {
   "cell_type": "markdown",
   "metadata": {},
   "source": [
    "```latex\n",
    "\\ref{eq:mark}\n",
    "\\eqref{mark}\n",
    "```"
   ]
  },
  {
   "cell_type": "markdown",
   "metadata": {},
   "source": [
    "- multiple line env\n",
    "```latexa\n",
    "multline:\n",
    "    First line is left-aligned, last line is right-aligned, all others are centered.\n",
    "gather:\n",
    "    Each line is centered.\n",
    "align:\n",
    "    Use & to mark a symbol where the formulas shall be aligned. \n",
    "    Use another & to end a column, if you need several aligned columns.\n",
    "flalign:\n",
    "    Similar to align with more than one column, \n",
    "    but the columns are flushed to the left and the right margin, respectively.\n",
    "alignat:\n",
    "    Alignment at several places, each has to be marked by &.\n",
    "split:\n",
    "    Similar to align, but within another math environment, thus unnumbered.\n",
    "    \n",
    "aligned,\n",
    "gathered,\n",
    "alignedat: \n",
    "    Used for an aligned block within a math environment. \n",
    "    This can be displayed math or in-line math.\n",
    "    \n",
    "```"
   ]
  },
  {
   "cell_type": "markdown",
   "metadata": {},
   "source": [
    "```latex\n",
    "% auto-numbering\n",
    "\\begin{equation}\n",
    "    y = x^2 \\tag{dumb}\n",
    "    \\label{eq:p_a}\n",
    "\\end{equation}\n",
    "\n",
    "% multiple line single equation\n",
    "\\begin{multline}\n",
    "    a + b + c + d + e + f\n",
    "    + g + h + i\n",
    "    \\\\\n",
    "    = j + k + l + m + n\n",
    "\\end{multline}\n",
    "\n",
    "% multiple line multiple equations\n",
    "\\begin{align}\n",
    "a & = b + c \\\\\n",
    "& = d + e\n",
    "\\end{align}\n",
    "\n",
    "% multiple line multiple equations\n",
    "\\begin{eqnarray}\n",
    "a & = & b + c \\\\\n",
    "& = & d + e + f + g + h + i\n",
    "+ j + k + l \\nonumber \\\\\n",
    "&& +\\: m + n + o \\\\\n",
    "& = & p + q + r + s\n",
    "\\end{eqnarray}\n",
    "\n",
    "\\begin{eqnarray}\n",
    "\\lefteqn{a + b + c + d\n",
    "+ e + f + g + h}\\nonumber\\\\\n",
    "& = & i + j + k + l + m\n",
    "\\\\\n",
    "& = & n + o + p + q + r + s\n",
    "\\end{eqnarray}\n",
    "\n",
    "\n",
    "\\begin{equation}\n",
    "    \\begin{aligned}\n",
    "    \\end{aligned}\n",
    "\\end{equation}\n",
    "\n",
    "\\begin{equation}\n",
    "    \\begin{gathered}\n",
    "    \\end{gathered}\n",
    "\\end{equation}\n",
    "\n",
    "\\begin{equation}\n",
    "    \\begin{alignedat}\n",
    "    \\end{alignedat}\n",
    "\\end{equation}\n",
    "\n",
    "\\begin{subequations}\n",
    "...\n",
    "\\end{subequations}\n",
    "\n",
    "% no-numbering\n",
    "\\begin{equation*}\n",
    "    y = x^2\n",
    "    \\label{eq:p_a}\n",
    "\\end{equation*}\n",
    "\n",
    "% multiple-line alignment\n",
    "\\begin{align}\n",
    "f(x) &= \\frac{x^3-2x^2-11x+12}{x^2-5x+4} \\\\\n",
    "&= \\frac{(x-1)(x^2-x-12)}{(x-1)(x-4)} \\\\\n",
    "&= \\frac{(x-1)(x+3)(x-4)}{(x-1)(x-4)} \\\\\n",
    "&= x+3\n",
    "\\end{align}\n",
    "\n",
    "\\begin{flalign}\n",
    "\\end{flalign}\n",
    "\n",
    "\\begin{alignat}{COL}\n",
    "\\end{alignat}\n",
    "\n",
    "\\begin{eqnarray}\n",
    "f(x) &= \\frac{x^3-2x^2-11x+12}{x^2-5x+4} \\\\\n",
    "&= \\frac{(x-1)(x^2-x-12)}{(x-1)(x-4)} \\\\\n",
    "&= \\frac{(x-1)(x+3)(x-4)}{(x-1)(x-4)} \\\\\n",
    "&= x+3\n",
    "\\end{eqnarray} \n",
    "\n",
    "% Piecewise function:\n",
    "\\begin{equation}\n",
    "  f(t) = \n",
    "  \\left\\{\n",
    "    \\begin{array}{cl}\n",
    "      f_1(t) & x < 10\\\\\n",
    "      x^4-x +2 & x \\geq 10\\\\\n",
    "      \\frac{5}{t} & {\\rm otherwise}\n",
    "    \\end{array}\n",
    "  \\right.\n",
    "  \\end{equation}\n",
    "  \n",
    "% Piecewise function:\n",
    "\\begin{equation}\n",
    "  P_{r-j}=\\begin{cases}\n",
    "    0& \\text{if $r-j$ is odd},\\\\\n",
    "    r!\\,(-1)^{(r-j)/2}& \\text{if $r-j$ is even}.\n",
    "    \\end{cases} \n",
    "  \\end{equation}\n",
    "```"
   ]
  },
  {
   "cell_type": "markdown",
   "metadata": {},
   "source": []
  },
  {
   "cell_type": "markdown",
   "metadata": {},
   "source": [
    "### Graphics"
   ]
  },
  {
   "cell_type": "markdown",
   "metadata": {},
   "source": [
    "- Package\n",
    "  - `\\ usepackage[pdftex]{graphicx}`"
   ]
  },
  {
   "cell_type": "markdown",
   "metadata": {},
   "source": [
    "- block graph\n",
    "  - `\\ includegraphics[key=value,...]{file_name}`\n",
    "  \n",
    "```latex\n",
    "\n",
    "\\includegraphics[width=0.7\\linewidth]{filename}\n",
    "\\includegraphics[width=1.00\\textwidth]{filename}\n",
    "\\includegraphics[width=8cm,bb=0 0 2304 1728]{holiday.jpg}\n",
    "\n",
    "h:here; t:top; b: bottom; p: seperate dedicate page\n",
    "scale=number; width=length; height=length; angle=number\n",
    "bb=llx lly urx ury\n",
    "0.9\\textwidth\n",
    "\n",
    "\\ begin{figure}[htbp]\n",
    "    \\centering\n",
    "    \\includegraphics[scale=0.6]{lumfun}\n",
    "    \\caption[function]{The luminosity function}\n",
    "    \\label{fig:lumfun}\n",
    "\\ end{figure}\n",
    "```\n",
    "  - `fig ref: \\ ref{fig:lumfun}`"
   ]
  },
  {
   "cell_type": "markdown",
   "metadata": {},
   "source": [
    "- floating graph\n",
    "\n",
    "```latex\n",
    "\\includegraphics[width=0.45\\linewidth]{pic1}\n",
    "\\hfill\n",
    "\\includegraphics[width=0.45\\linewidth]{pic2}\n",
    "\n",
    "l:left; r: right; i: inside; o: outside\n",
    "overhang: 0pt\n",
    "\n",
    "\\ begin{figure}[ht]\n",
    "    \\caption{a response surface.}\n",
    "    \\label{fig:surface}\n",
    "    \\begin{wrapfigure}{placement}[overhang]{width}\n",
    "        \\includegraphics[width=0.45\\linewidth]{pic1}\n",
    "        \\hfill\n",
    "        \\includegraphics[width=0.45\\linewidth]{pic2}\n",
    "    \\end{wrapfigure}\n",
    "\\ end{figure}\n",
    "\n",
    "\\parbox[t]{0.45\\textwidth}{\n",
    "    \\includegraphics[width=\\linewidth]{pic1}\n",
    "    \\captionof{figure}{the first figure}\n",
    "} \n",
    "\\hfill\n",
    "\\parbox[t]{0.45\\textwidth}{\n",
    "    \\includegraphics[width=\\linewidth]{pic2}\n",
    "    \\captionof{figure}{the second figure}\n",
    "}\n",
    "\n",
    "\\ begin{figure}[ht]\n",
    "    \\begin{center}\n",
    "        \\subfloat[First figure]{\n",
    "            \\includegraphics[width=0.45\\textwidth]{pic1}\n",
    "        } \n",
    "        \\subfloat[Second figure]{\n",
    "            \\includegraphics[width=0.45\\textwidth]{pic2}\n",
    "        } \n",
    "        \\caption{Two figures}\n",
    "    \\end{center}\n",
    "\\ end{figure}\n",
    "```"
   ]
  },
  {
   "cell_type": "markdown",
   "metadata": {},
   "source": [
    "### Tables"
   ]
  },
  {
   "cell_type": "code",
   "execution_count": null,
   "metadata": {},
   "outputs": [],
   "source": []
  },
  {
   "cell_type": "markdown",
   "metadata": {},
   "source": [
    "- tabular\n",
    "```latex\n",
    "l: left; r: right; c: center; |, ||:column line seperator; p{WIDTH}: paragraph box width\n",
    "\\cline{colm-coln}; \\hline; \\vline; \\multicolumn{n}{col}{text}\n",
    "\\begin{table}\n",
    "    \\caption{Galaxy magnitudes and redshifts} \t\n",
    "    \\begin{tabular}{lcc}\n",
    "        galaxy & magnitude & redshift \\\\\n",
    "        NGC 891 & 15.5 & 0.02 \\\\\n",
    "        M87 & 14.8 & 0.01\t\t\t\n",
    "    \\end{tabular}\n",
    "\\end{table}\n",
    "\n",
    "% \\usepackage{multirow}\n",
    "\\multirow{number of rows}{width}{entry text}\n",
    "\n",
    "% \\usepackage[table]{xcolor}\n",
    "```\n",
    "- floating tabular\n",
    "```latex\n",
    "\\begin{table}\t\n",
    "\n",
    "    \\begin{tabular}{rlcc}\t\n",
    "        galaxy & magnitude & redshift \\\\\n",
    "        NGC 891 & 15.5 & 0.02 \\\\\n",
    "        M87 & 14.8 & 0.01\t\t\t\t\t\t\t\n",
    "    \\end{tabular}\t\t\t\t\t\t\t\n",
    "\\end{table}\n",
    "```\n"
   ]
  },
  {
   "cell_type": "markdown",
   "metadata": {
    "heading_collapsed": true
   },
   "source": [
    "### Styles"
   ]
  },
  {
   "cell_type": "markdown",
   "metadata": {
    "hidden": true
   },
   "source": [
    "```latex\n",
    "\\usepackage[colorlinks=true, urlcolor=blue, pdfborder={0 0 0}]{hyperref}\n",
    "\n",
    "```"
   ]
  },
  {
   "cell_type": "code",
   "execution_count": null,
   "metadata": {
    "hidden": true
   },
   "outputs": [],
   "source": []
  },
  {
   "cell_type": "markdown",
   "metadata": {},
   "source": [
    "# Latex in Jupyter"
   ]
  },
  {
   "cell_type": "markdown",
   "metadata": {
    "heading_collapsed": true
   },
   "source": [
    "## IFrame embeded Latex"
   ]
  },
  {
   "cell_type": "code",
   "execution_count": 26,
   "metadata": {
    "hidden": true
   },
   "outputs": [],
   "source": [
    "from IPython.display import Latex"
   ]
  },
  {
   "cell_type": "code",
   "execution_count": 27,
   "metadata": {
    "hidden": true
   },
   "outputs": [],
   "source": [
    "tex1 = Latex(r\"\"\"\\documentclass{article}\n",
    "\\begin{document}\n",
    "This is\n",
    "one paragraph.\n",
    "This is another.\n",
    "\\end{document}\n",
    "\"\"\")\n",
    "filename = './Latex/hellolatex.tex'"
   ]
  },
  {
   "cell_type": "code",
   "execution_count": 28,
   "metadata": {
    "hidden": true
   },
   "outputs": [],
   "source": [
    "with open(filename, 'w') as fo:\n",
    "    fo.write(tex1.data)"
   ]
  },
  {
   "cell_type": "code",
   "execution_count": 30,
   "metadata": {
    "hidden": true
   },
   "outputs": [
    {
     "name": "stdout",
     "output_type": "stream",
     "text": [
      "/mnt/c/Codes/DataScience/DS/Latex\n",
      "This is pdfTeX, Version 3.14159265-2.6-1.40.18 (TeX Live 2017/Debian) (preloaded format=pdflatex)\n",
      " restricted \\write18 enabled.\n",
      "entering extended mode\n",
      "(./hellolatex.tex\n",
      "LaTeX2e <2017-04-15>\n",
      "Babel <3.18> and hyphenation patterns for 3 language(s) loaded.\n",
      "(/usr/share/texlive/texmf-dist/tex/latex/base/article.cls\n",
      "Document Class: article 2014/09/29 v1.4h Standard LaTeX document class\n",
      "(/usr/share/texlive/texmf-dist/tex/latex/base/size10.clo))\n",
      "No file hellolatex.aux.\n",
      "[1{/var/lib/texmf/fonts/map/pdftex/updmap/pdftex.map}] (./hellolatex.aux) )</us\n",
      "r/share/texlive/texmf-dist/fonts/type1/public/amsfonts/cm/cmr10.pfb>\n",
      "Output written on hellolatex.pdf (1 page, 12976 bytes).\n",
      "Transcript written on hellolatex.log.\n"
     ]
    }
   ],
   "source": [
    "%%bash\n",
    "cd '/mnt/c/Codes/DataScience/DS/Latex/'\n",
    "pwd\n",
    "pdflatex 'hellolatex.tex'"
   ]
  },
  {
   "cell_type": "code",
   "execution_count": 31,
   "metadata": {
    "collapsed": true,
    "hidden": true,
    "jupyter": {
     "outputs_hidden": true
    }
   },
   "outputs": [
    {
     "data": {
      "text/html": [
       "\n",
       "        <iframe\n",
       "            width=\"100%\"\n",
       "            height=\"350\"\n",
       "            src=\"./LaTex/hellolatex.pdf\"\n",
       "            frameborder=\"0\"\n",
       "            allowfullscreen\n",
       "        ></iframe>\n",
       "        "
      ],
      "text/plain": [
       "<IPython.lib.display.IFrame at 0x1a97bfcbc18>"
      ]
     },
     "execution_count": 31,
     "metadata": {},
     "output_type": "execute_result"
    }
   ],
   "source": [
    "from IPython.display import IFrame\n",
    "IFrame('./LaTex/hellolatex.pdf', width='100%', height=350)"
   ]
  },
  {
   "cell_type": "code",
   "execution_count": 32,
   "metadata": {
    "collapsed": true,
    "hidden": true,
    "jupyter": {
     "outputs_hidden": true
    }
   },
   "outputs": [
    {
     "data": {
      "text/html": [
       "\n",
       "        <iframe\n",
       "            width=\"100%\"\n",
       "            height=\"350\"\n",
       "            src=\"http://fperez.org/papers/ipython07_pe-gr_cise.pdf\"\n",
       "            frameborder=\"0\"\n",
       "            allowfullscreen\n",
       "        ></iframe>\n",
       "        "
      ],
      "text/plain": [
       "<IPython.lib.display.IFrame at 0x1a97bfc2240>"
      ]
     },
     "execution_count": 32,
     "metadata": {},
     "output_type": "execute_result"
    }
   ],
   "source": [
    "from IPython.display import IFrame\n",
    "IFrame('http://fperez.org/papers/ipython07_pe-gr_cise.pdf', width='100%', height=350)"
   ]
  },
  {
   "cell_type": "markdown",
   "metadata": {
    "heading_collapsed": true
   },
   "source": [
    "## Latex lib and Latex command"
   ]
  },
  {
   "cell_type": "code",
   "execution_count": 5,
   "metadata": {
    "hidden": true
   },
   "outputs": [
    {
     "data": {
      "text/latex": [
       "\\begin{eqnarray}\n",
       "\\nabla \\times \\vec{\\mathbf{B}} -\\, \\frac1c\\, \\frac{\\partial\\vec{\\mathbf{E}}}{\\partial t} & = \\frac{4\\pi}{c}\\vec{\\mathbf{j}} \\\\\n",
       "\\nabla \\cdot \\vec{\\mathbf{E}} & = 4 \\pi \\rho \\\\\n",
       "\\nabla \\times \\vec{\\mathbf{E}}\\, +\\, \\frac1c\\, \\frac{\\partial\\vec{\\mathbf{B}}}{\\partial t} & = \\vec{\\mathbf{0}} \\\\\n",
       "\\nabla \\cdot \\vec{\\mathbf{B}} & = 0 \n",
       "\\end{eqnarray}"
      ],
      "text/plain": [
       "<IPython.core.display.Latex object>"
      ]
     },
     "execution_count": 5,
     "metadata": {},
     "output_type": "execute_result"
    }
   ],
   "source": [
    "from IPython.display import Latex\n",
    "Latex(r\"\"\"\\begin{eqnarray}\n",
    "\\nabla \\times \\vec{\\mathbf{B}} -\\, \\frac1c\\, \\frac{\\partial\\vec{\\mathbf{E}}}{\\partial t} & = \\frac{4\\pi}{c}\\vec{\\mathbf{j}} \\\\\n",
    "\\nabla \\cdot \\vec{\\mathbf{E}} & = 4 \\pi \\rho \\\\\n",
    "\\nabla \\times \\vec{\\mathbf{E}}\\, +\\, \\frac1c\\, \\frac{\\partial\\vec{\\mathbf{B}}}{\\partial t} & = \\vec{\\mathbf{0}} \\\\\n",
    "\\nabla \\cdot \\vec{\\mathbf{B}} & = 0 \n",
    "\\end{eqnarray}\"\"\")"
   ]
  },
  {
   "cell_type": "markdown",
   "metadata": {
    "heading_collapsed": true
   },
   "source": [
    "## %%latex magic cell command"
   ]
  },
  {
   "cell_type": "code",
   "execution_count": 4,
   "metadata": {
    "collapsed": true,
    "hidden": true,
    "jupyter": {
     "outputs_hidden": true
    }
   },
   "outputs": [
    {
     "data": {
      "text/latex": [
       "\\begin{align}\n",
       "\\nabla \\times \\vec{\\mathbf{B}} -\\, \\frac1c\\, \\frac{\\partial\\vec{\\mathbf{E}}}{\\partial t} & = \\frac{4\\pi}{c}\\vec{\\mathbf{j}} \\\\\n",
       "\\nabla \\cdot \\vec{\\mathbf{E}} & = 4 \\pi \\rho \\\\\n",
       "\\nabla \\times \\vec{\\mathbf{E}}\\, +\\, \\frac1c\\, \\frac{\\partial\\vec{\\mathbf{B}}}{\\partial t} & = \\vec{\\mathbf{0}} \\\\\n",
       "\\nabla \\cdot \\vec{\\mathbf{B}} & = 0\n",
       "\\end{align}\n"
      ],
      "text/plain": [
       "<IPython.core.display.Latex object>"
      ]
     },
     "metadata": {},
     "output_type": "display_data"
    }
   ],
   "source": [
    "%%latex\n",
    "\\begin{align}\n",
    "\\nabla \\times \\vec{\\mathbf{B}} -\\, \\frac1c\\, \\frac{\\partial\\vec{\\mathbf{E}}}{\\partial t} & = \\frac{4\\pi}{c}\\vec{\\mathbf{j}} \\\\\n",
    "\\nabla \\cdot \\vec{\\mathbf{E}} & = 4 \\pi \\rho \\\\\n",
    "\\nabla \\times \\vec{\\mathbf{E}}\\, +\\, \\frac1c\\, \\frac{\\partial\\vec{\\mathbf{B}}}{\\partial t} & = \\vec{\\mathbf{0}} \\\\\n",
    "\\nabla \\cdot \\vec{\\mathbf{B}} & = 0\n",
    "\\end{align}"
   ]
  },
  {
   "cell_type": "markdown",
   "metadata": {
    "heading_collapsed": true
   },
   "source": [
    "## Markdown Cell Embeded"
   ]
  },
  {
   "cell_type": "markdown",
   "metadata": {
    "hidden": true
   },
   "source": [
    "### Inline"
   ]
  },
  {
   "cell_type": "markdown",
   "metadata": {
    "hidden": true
   },
   "source": [
    "line text begin: $c = \\sqrt{a^2 + b^2}$ line text end"
   ]
  },
  {
   "cell_type": "markdown",
   "metadata": {
    "hidden": true
   },
   "source": [
    "### Block"
   ]
  },
  {
   "cell_type": "markdown",
   "metadata": {
    "hidden": true
   },
   "source": [
    "paragraph text begin --------------------------\n",
    "$$\n",
    "F(k) = \\int_{-\\infty}^{\\infty} f(x) e^{2\\pi i k} dx\n",
    "$$\n",
    "paragraph text --------------------------------------"
   ]
  },
  {
   "cell_type": "markdown",
   "metadata": {
    "hidden": true
   },
   "source": [
    "paragraph text begin --------------------------\n",
    "\n",
    "\\begin{align}\n",
    "\\nabla \\times \\vec{\\mathbf{B}} -\\, \\frac1c\\, \\frac{\\partial\\vec{\\mathbf{E}}}{\\partial t} & = \\frac{4\\pi}{c}\\vec{\\mathbf{j}} \\\\\n",
    "\\nabla \\cdot \\vec{\\mathbf{E}} & = 4 \\pi \\rho \\\\\n",
    "\\nabla \\times \\vec{\\mathbf{E}}\\, +\\, \\frac1c\\, \\frac{\\partial\\vec{\\mathbf{B}}}{\\partial t} & = \\vec{\\mathbf{0}} \\\\\n",
    "\\nabla \\cdot \\vec{\\mathbf{B}} & = 0\n",
    "\\end{align}\n",
    "\n",
    "paragraph text --------------------------------------"
   ]
  },
  {
   "cell_type": "markdown",
   "metadata": {},
   "source": [
    "# END"
   ]
  },
  {
   "cell_type": "code",
   "execution_count": null,
   "metadata": {},
   "outputs": [],
   "source": []
  }
 ],
 "metadata": {
  "author": "Title text",
  "hide_input": false,
  "kernelspec": {
   "display_name": "Python 3",
   "language": "python",
   "name": "python3"
  },
  "language_info": {
   "codemirror_mode": {
    "name": "ipython",
    "version": 3
   },
   "file_extension": ".py",
   "mimetype": "text/x-python",
   "name": "python",
   "nbconvert_exporter": "python",
   "pygments_lexer": "ipython3",
   "version": "3.7.3"
  },
  "latex_envs": {
   "LaTeX_envs_menu_present": true,
   "autoclose": false,
   "autocomplete": true,
   "bibliofile": "biblio.bib",
   "cite_by": "apalike",
   "current_citInitial": 1,
   "eqLabelWithNumbers": true,
   "eqNumInitial": 1,
   "hotkeys": {
    "equation": "Ctrl-E",
    "itemize": "Ctrl-I"
   },
   "labels_anchors": false,
   "latex_user_defs": false,
   "report_style_numbering": false,
   "user_envs_cfg": false
  },
  "toc": {
   "base_numbering": 1,
   "nav_menu": {},
   "number_sections": false,
   "sideBar": true,
   "skip_h1_title": false,
   "title_cell": "Table of Contents",
   "title_sidebar": "Contents",
   "toc_cell": false,
   "toc_position": {
    "height": "calc(100% - 180px)",
    "left": "10px",
    "top": "150px",
    "width": "259.2px"
   },
   "toc_section_display": true,
   "toc_window_display": true
  },
  "widgets": {
   "state": {},
   "version": "1.1.2"
  }
 },
 "nbformat": 4,
 "nbformat_minor": 4
}
