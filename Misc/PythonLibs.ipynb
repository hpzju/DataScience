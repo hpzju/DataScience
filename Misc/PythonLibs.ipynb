{
 "cells": [
  {
   "cell_type": "code",
   "execution_count": 14,
   "metadata": {},
   "outputs": [],
   "source": [
    "from IPython.display import JSON"
   ]
  },
  {
   "cell_type": "markdown",
   "metadata": {},
   "source": [
    "# SysDevOps"
   ]
  },
  {
   "cell_type": "markdown",
   "metadata": {},
   "source": [
    "## sys"
   ]
  },
  {
   "cell_type": "code",
   "execution_count": 26,
   "metadata": {},
   "outputs": [],
   "source": [
    "import sys"
   ]
  },
  {
   "cell_type": "code",
   "execution_count": 29,
   "metadata": {},
   "outputs": [
    {
     "data": {
      "text/plain": [
       "('win32',\n",
       " '3.7.3 | packaged by conda-forge | (default, Jul  1 2019, 22:01:29) [MSC v.1900 64 bit (AMD64)]',\n",
       " 1013,\n",
       " '3.7',\n",
       " 'C:\\\\Users\\\\hpzju\\\\Anaconda3\\\\envs\\\\ds')"
      ]
     },
     "execution_count": 29,
     "metadata": {},
     "output_type": "execute_result"
    }
   ],
   "source": [
    "sys.platform, sys.version, sys.api_version, sys.winver, sys.prefix"
   ]
  },
  {
   "cell_type": "code",
   "execution_count": 30,
   "metadata": {},
   "outputs": [
    {
     "data": {
      "text/plain": [
       "['C:\\\\Codes\\\\DataScience\\\\DS',\n",
       " 'C:\\\\Users\\\\hpzju\\\\Anaconda3\\\\envs\\\\ds\\\\python37.zip',\n",
       " 'C:\\\\Users\\\\hpzju\\\\Anaconda3\\\\envs\\\\ds\\\\DLLs',\n",
       " 'C:\\\\Users\\\\hpzju\\\\Anaconda3\\\\envs\\\\ds\\\\lib',\n",
       " 'C:\\\\Users\\\\hpzju\\\\Anaconda3\\\\envs\\\\ds',\n",
       " '',\n",
       " 'C:\\\\Users\\\\hpzju\\\\AppData\\\\Roaming\\\\Python\\\\Python37\\\\site-packages',\n",
       " 'C:\\\\Users\\\\hpzju\\\\Anaconda3\\\\envs\\\\ds\\\\lib\\\\site-packages',\n",
       " 'C:\\\\Users\\\\hpzju\\\\Anaconda3\\\\envs\\\\ds\\\\lib\\\\site-packages\\\\IPython\\\\extensions',\n",
       " 'C:\\\\Users\\\\hpzju\\\\.ipython']"
      ]
     },
     "execution_count": 30,
     "metadata": {},
     "output_type": "execute_result"
    }
   ],
   "source": [
    "sys.path"
   ]
  },
  {
   "cell_type": "code",
   "execution_count": null,
   "metadata": {},
   "outputs": [],
   "source": []
  },
  {
   "cell_type": "markdown",
   "metadata": {},
   "source": [
    "## os"
   ]
  },
  {
   "cell_type": "code",
   "execution_count": 4,
   "metadata": {},
   "outputs": [],
   "source": [
    "import os"
   ]
  },
  {
   "cell_type": "code",
   "execution_count": 6,
   "metadata": {},
   "outputs": [
    {
     "data": {
      "text/plain": [
       "('C:\\\\Codes\\\\DataScience\\\\DS', '.')"
      ]
     },
     "execution_count": 6,
     "metadata": {},
     "output_type": "execute_result"
    }
   ],
   "source": [
    "os.getcwd(), os.curdir"
   ]
  },
  {
   "cell_type": "code",
   "execution_count": 7,
   "metadata": {
    "collapsed": true,
    "jupyter": {
     "outputs_hidden": true
    }
   },
   "outputs": [
    {
     "name": "stdout",
     "output_type": "stream",
     "text": [
      ".\n",
      "++++++++++++++++++++++++++++++++++++++++++++++++++\n",
      "['LaTex.ipynb', 'MongoDB.ipynb', 'MySQL.ipynb', 'OpenCV.ipynb', 'PythonLibs.ipynb', 'Statistics.ipynb', 'TextProcessing.ipynb', 'working.ipynb']\n",
      "--------------------------------------------------\n",
      "['.ipynb_checkpoints', 'data', 'LaTex', 'MySQL']\n",
      ".\\.ipynb_checkpoints\n",
      "++++++++++++++++++++++++++++++++++++++++++++++++++\n",
      "['LaTex-checkpoint.ipynb', 'MongoDB-checkpoint.ipynb', 'MySQL-checkpoint.ipynb', 'OpenCV-checkpoint.ipynb', 'PandasBasics-checkpoint.ipynb', 'PythonLibs-checkpoint.ipynb', 'Statistics-checkpoint.ipynb', 'TextProcessing-checkpoint.ipynb', 'working-checkpoint.ipynb']\n",
      "--------------------------------------------------\n",
      "[]\n",
      ".\\data\n",
      "++++++++++++++++++++++++++++++++++++++++++++++++++\n",
      "['2003-Text Processing in Python.pdf', '2003-Text Processing in Python.txt', 'dictionary.json', 'etl_dictionary.json', 'example.db', 'mobydick.txt', 'sincos.png', 'words.txt', 'world_geomap.json']\n",
      "--------------------------------------------------\n",
      "[]\n",
      ".\\LaTex\n",
      "++++++++++++++++++++++++++++++++++++++++++++++++++\n",
      "['.gitignore', 'hellolatex.pdf', 'hellolatex.synctex.gz', 'hellolatex.tex', 'latex-layoutsystem.png', 'latex-math-arrows.png', 'latex-math-operators.png', 'latex-math-symbols.png', 'latex4bg.pdf', 'latex4bg.synctex.gz', 'latex4bg.tex', 'snowwhite.jpg', 'snowwhite.pdf', 'snowwhite.synctex.gz', 'snowwhite.tex', 'test.png', 'woking.aux', 'woking.fdb_latexmk', 'woking.fls', 'woking.lof', 'woking.log', 'woking.lot', 'woking.pdf', 'woking.synctex.gz', 'woking.tex', 'woking.toc']\n",
      "--------------------------------------------------\n",
      "['turorials']\n",
      ".\\LaTex\\turorials\n",
      "++++++++++++++++++++++++++++++++++++++++++++++++++\n",
      "['2012-intro2x3uur1.pdf', '2012-intro2x3uur2.pdf', '2014-LATEX for Beginners.pdf', '2018-The Not So Short Introduction to LATEX 2.pdf']\n",
      "--------------------------------------------------\n",
      "['lshort-6.2']\n",
      ".\\LaTex\\turorials\\lshort-6.2\n",
      "++++++++++++++++++++++++++++++++++++++++++++++++++\n",
      "['00README', 'CHANGES', 'fixdate.pl', 'Makefile', 'MANIFEST', 'README', 'TODO', 'TRANSLATIONS']\n",
      "--------------------------------------------------\n",
      "['src']\n",
      ".\\LaTex\\turorials\\lshort-6.2\\src\n",
      "++++++++++++++++++++++++++++++++++++++++++++++++++\n",
      "['appendix.tex', 'biblio.tex', 'contrib.tex', 'custom.tex', 'graphic.tex', 'lshort-a5.tex', 'lshort-base.tex', 'lshort-body.tex', 'lshort-title.tex', 'lshort.ist', 'lshort.sty', 'lshort.tex', 'lssym.tex', 'math.tex', 'mylayout.sty', 'overview.tex', 'preamble.tex', 'spec.tex', 'things.tex', 'title.tex', 'typeset.tex']\n",
      "--------------------------------------------------\n",
      "[]\n",
      ".\\MySQL\n",
      "++++++++++++++++++++++++++++++++++++++++++++++++++\n",
      "['MySQL-Arch-01.png', 'MySQL-Arch-02.png']\n",
      "--------------------------------------------------\n",
      "[]\n"
     ]
    }
   ],
   "source": [
    "for dirpath, dirnames, filenames in os.walk(os.curdir):\n",
    "    print(dirpath)\n",
    "    print('+++++'*10)\n",
    "    print(filenames)\n",
    "    print('-----'*10)\n",
    "    print(dirnames)"
   ]
  },
  {
   "cell_type": "code",
   "execution_count": 22,
   "metadata": {},
   "outputs": [
    {
     "data": {
      "application/json": {
       "ALLUSERSPROFILE": "C:\\ProgramData",
       "APPDATA": "C:\\Users\\hpzju\\AppData\\Roaming",
       "CHOCOLATEYINSTALL": "C:\\ProgramData\\chocolatey",
       "CHOCOLATEYLASTPATHUPDATE": "132118980610315298",
       "CHOCOLATEYTOOLSLOCATION": "C:\\tools",
       "CLICOLOR": "1",
       "CMDER_ROOT": "C:\\ProgramData\\cmder",
       "COMMONPROGRAMFILES": "C:\\Program Files\\Common Files",
       "COMMONPROGRAMFILES(X86)": "C:\\Program Files (x86)\\Common Files",
       "COMMONPROGRAMW6432": "C:\\Program Files\\Common Files",
       "COMPUTERNAME": "HUBERT-SURFB2",
       "COMSPEC": "C:\\WINDOWS\\system32\\cmd.exe",
       "CONDA_BAT": "C:\\Users\\hpzju\\Anaconda3\\condabin\\conda.bat",
       "CONDA_DEFAULT_ENV": "ds",
       "CONDA_EXE": "C:\\Users\\hpzju\\Anaconda3\\Scripts\\conda.exe",
       "CONDA_PREFIX": "C:\\Users\\hpzju\\Anaconda3\\envs\\ds",
       "CONDA_PROMPT_MODIFIER": "(ds) ",
       "CONDA_PYTHON_EXE": "C:\\Users\\hpzju\\Anaconda3\\python.exe",
       "CONDA_ROOT": "C:\\Users\\hpzju\\Anaconda3",
       "CONDA_SHLVL": "1",
       "CWRSYNC_HOME": "C:\\ProgramData\\chocolatey\\lib\\rsync\\cwrsync_5.5.0_x86_free",
       "DRIVERDATA": "C:\\Windows\\System32\\Drivers\\DriverData",
       "GIT_PAGER": "cat",
       "HOMEDRIVE": "C:",
       "HOMEPATH": "\\Users\\hpzju",
       "IPY_INTERRUPT_EVENT": "3832",
       "JPY_INTERRUPT_EVENT": "3832",
       "JPY_PARENT_PID": "3852",
       "KERNEL_LAUNCH_TIMEOUT": "40",
       "KUBECONFIG": "C:\\Users\\hpzju\\.kube\\config",
       "LOCALAPPDATA": "C:\\Users\\hpzju\\AppData\\Local",
       "LOGONSERVER": "\\\\HUBERT-SURFB2",
       "MOZ_PLUGIN_PATH": "C:\\Program Files (x86)\\Foxit Software\\Foxit Reader\\plugins\\",
       "MPLBACKEND": "module://ipykernel.pylab.backend_inline",
       "NUMBER_OF_PROCESSORS": "8",
       "ONEDRIVE": "C:\\Users\\hpzju\\OneDrive",
       "ONEDRIVECONSUMER": "C:\\Users\\hpzju\\OneDrive",
       "OS": "Windows_NT",
       "PAGER": "cat",
       "PATH": "C:\\Users\\hpzju\\Anaconda3\\envs\\ds;C:\\Users\\hpzju\\Anaconda3\\envs\\ds\\Library\\mingw-w64\\bin;C:\\Users\\hpzju\\Anaconda3\\envs\\ds\\Library\\usr\\bin;C:\\Users\\hpzju\\Anaconda3\\envs\\ds\\Library\\bin;C:\\Users\\hpzju\\Anaconda3\\envs\\ds\\Scripts;C:\\Users\\hpzju\\Anaconda3\\envs\\ds\\bin;C:\\Users\\hpzju\\Anaconda3\\condabin;C:\\Users\\hpzju\\Anaconda3;C:\\Users\\hpzju\\Anaconda3\\Library\\mingw-w64\\bin;C:\\Users\\hpzju\\Anaconda3\\Library\\usr\\bin;C:\\Users\\hpzju\\Anaconda3\\Library\\bin;C:\\Users\\hpzju\\Anaconda3\\Scripts;C:\\Program Files\\MiKTeX 2.9\\miktex\\bin\\x64;C:\\Program Files (x86)\\NetSarang\\Xshell 6;C:\\Program Files\\Python37;C:\\Program Files\\Python37\\Scripts;C:\\Program Files (x86)\\Common Files\\Oracle\\Java\\javapath;C:\\ProgramData\\texlive\\2019\\bin\\win32;C:\\WINDOWS\\system32;C:\\WINDOWS;C:\\WINDOWS\\System32\\Wbem;C:\\WINDOWS\\System32\\WindowsPowerShell\\v1.0;C:\\WINDOWS\\System32\\OpenSSH;C:\\Program Files\\Microsoft VS Code\\bin;C:\\Program Files\\MySQL\\MySQL Utilities 1.6;C:\\Program Files (x86)\\Wolfram Research\\WolframScript;C:\\Program Files (x86)\\Microsoft Visual Studio\\2017\\BuildTools\\MSBuild\\15.0\\Bin;C:\\Program Files (x86)\\Microsoft Visual Studio 14.0\\VC\\bin;C:\\ProgramData\\chocolatey\\bin;C:\\Program Files\\Git\\cmd;C:\\Program Files\\Git\\mingw64\\bin;C:\\Program Files\\Git\\usr\\bin;C:\\Users\\hpzju\\Anaconda3;C:\\Users\\hpzju\\Anaconda3\\Library\\mingw-w64\\bin;C:\\Users\\hpzju\\Anaconda3\\Library\\usr\\bin;C:\\Users\\hpzju\\Anaconda3\\Library\\bin;C:\\Users\\hpzju\\Anaconda3\\Scripts;C:\\Users\\hpzju\\.windows-build-tools\\python27;C:\\Users\\hpzju\\.windows-build-tools\\python27;C:\\Users\\hpzju\\.windows-build-tools\\python27;C:\\Users\\hpzju\\.windows-build-tools\\python27;C:\\Users\\hpzju\\AppData\\Local\\Microsoft\\WindowsApps;C:\\Users\\hpzju\\AppData\\Local\\GitHubDesktop\\bin;C:\\Users\\hpzju\\AppData\\Local\\Microsoft\\WindowsApps;C:\\tools\\Cmder;C:\\Program Files\\JetBrains\\WebStorm 2018.3\\bin;C:\\Program Files\\JetBrains\\PyCharm Professional Edition with Anaconda plugin 2019.1.2\\bin;C:\\Program Files\\JetBrains\\PyCharm\\bin",
       "PATHEXT": ".COM;.EXE;.BAT;.CMD;.VBS;.VBE;.JS;.JSE;.WSF;.WSH;.MSC",
       "PROCESSOR_ARCHITECTURE": "AMD64",
       "PROCESSOR_IDENTIFIER": "Intel64 Family 6 Model 142 Stepping 10, GenuineIntel",
       "PROCESSOR_LEVEL": "6",
       "PROCESSOR_REVISION": "8e0a",
       "PROGRAMDATA": "C:\\ProgramData",
       "PROGRAMFILES": "C:\\Program Files",
       "PROGRAMFILES(X86)": "C:\\Program Files (x86)",
       "PROGRAMW6432": "C:\\Program Files",
       "PROMPT": "(ds) $P$G",
       "PSMODULEPATH": "C:\\Program Files\\WindowsPowerShell\\Modules;C:\\WINDOWS\\system32\\WindowsPowerShell\\v1.0\\Modules",
       "PUBLIC": "C:\\Users\\Public",
       "PYCHARM": "C:\\Program Files\\JetBrains\\PyCharm\\bin;",
       "PYCHARM PROFESSIONAL EDITION WITH ANACONDA PLUGIN": "C:\\Program Files\\JetBrains\\PyCharm Professional Edition with Anaconda plugin 2019.1.2\\bin;",
       "SESSIONNAME": "Console",
       "SYSTEMDRIVE": "C:",
       "SYSTEMROOT": "C:\\WINDOWS",
       "TEMP": "C:\\Users\\hpzju\\AppData\\Local\\Temp",
       "TERM": "xterm-color",
       "TMP": "C:\\Users\\hpzju\\AppData\\Local\\Temp",
       "USERDOMAIN": "HUBERT-SURFB2",
       "USERDOMAIN_ROAMINGPROFILE": "HUBERT-SURFB2",
       "USERNAME": "hpzju",
       "USERPROFILE": "C:\\Users\\hpzju",
       "VS140COMNTOOLS": "C:\\Program Files (x86)\\Microsoft Visual Studio 14.0\\Common7\\Tools\\",
       "WEBSTORM": "C:\\Program Files\\JetBrains\\WebStorm 2018.3\\bin;",
       "WINDIR": "C:\\WINDOWS"
      },
      "text/plain": [
       "<IPython.core.display.JSON object>"
      ]
     },
     "execution_count": 22,
     "metadata": {
      "application/json": {
       "expanded": false,
       "root": "root"
      }
     },
     "output_type": "execute_result"
    }
   ],
   "source": [
    "JSON(dict(os.environ.items()))"
   ]
  },
  {
   "cell_type": "code",
   "execution_count": null,
   "metadata": {},
   "outputs": [],
   "source": []
  },
  {
   "cell_type": "code",
   "execution_count": null,
   "metadata": {},
   "outputs": [],
   "source": []
  },
  {
   "cell_type": "markdown",
   "metadata": {},
   "source": [
    "## sh"
   ]
  },
  {
   "cell_type": "markdown",
   "metadata": {},
   "source": [
    "- for Linux\n",
    "- pip install sh"
   ]
  },
  {
   "cell_type": "code",
   "execution_count": 3,
   "metadata": {},
   "outputs": [
    {
     "ename": "ImportError",
     "evalue": "sh 1.12.14 is currently only supported on linux and osx. please install pbs 0.110 (http://pypi.python.org/pypi/pbs) for windows support.",
     "output_type": "error",
     "traceback": [
      "\u001b[1;31m---------------------------------------------------------------------------\u001b[0m",
      "\u001b[1;31mImportError\u001b[0m                               Traceback (most recent call last)",
      "\u001b[1;32m<ipython-input-3-a21dab79db90>\u001b[0m in \u001b[0;36m<module>\u001b[1;34m\u001b[0m\n\u001b[1;32m----> 1\u001b[1;33m \u001b[1;32mimport\u001b[0m \u001b[0msh\u001b[0m\u001b[1;33m\u001b[0m\u001b[1;33m\u001b[0m\u001b[0m\n\u001b[0m",
      "\u001b[1;32m~\\Anaconda3\\envs\\ds\\lib\\site-packages\\sh.py\u001b[0m in \u001b[0;36m<module>\u001b[1;34m\u001b[0m\n\u001b[0;32m     34\u001b[0m     raise ImportError(\"sh %s is currently only supported on linux and osx. \\\n\u001b[0;32m     35\u001b[0m \u001b[0mplease\u001b[0m \u001b[0minstall\u001b[0m \u001b[0mpbs\u001b[0m \u001b[1;36m0.110\u001b[0m \u001b[1;33m(\u001b[0m\u001b[0mhttp\u001b[0m\u001b[1;33m:\u001b[0m\u001b[1;33m//\u001b[0m\u001b[0mpypi\u001b[0m\u001b[1;33m.\u001b[0m\u001b[0mpython\u001b[0m\u001b[1;33m.\u001b[0m\u001b[0morg\u001b[0m\u001b[1;33m/\u001b[0m\u001b[0mpypi\u001b[0m\u001b[1;33m/\u001b[0m\u001b[0mpbs\u001b[0m\u001b[1;33m)\u001b[0m \u001b[1;32mfor\u001b[0m \u001b[0mwindows\u001b[0m\u001b[0;31m \u001b[0m\u001b[0;31m\\\u001b[0m\u001b[1;33m\u001b[0m\u001b[1;33m\u001b[0m\u001b[0m\n\u001b[1;32m---> 36\u001b[1;33m support.\" % __version__)\n\u001b[0m\u001b[0;32m     37\u001b[0m \u001b[1;33m\u001b[0m\u001b[0m\n\u001b[0;32m     38\u001b[0m \u001b[1;33m\u001b[0m\u001b[0m\n",
      "\u001b[1;31mImportError\u001b[0m: sh 1.12.14 is currently only supported on linux and osx. please install pbs 0.110 (http://pypi.python.org/pypi/pbs) for windows support."
     ]
    }
   ],
   "source": [
    "import sh"
   ]
  },
  {
   "cell_type": "markdown",
   "metadata": {},
   "source": [
    "## File System"
   ]
  },
  {
   "cell_type": "markdown",
   "metadata": {},
   "source": [
    "### shutil, glob, pathlib, os"
   ]
  },
  {
   "cell_type": "code",
   "execution_count": 25,
   "metadata": {},
   "outputs": [
    {
     "ename": "ModuleNotFoundError",
     "evalue": "No module named 'Pathlib'",
     "output_type": "error",
     "traceback": [
      "\u001b[1;31m---------------------------------------------------------------------------\u001b[0m",
      "\u001b[1;31mModuleNotFoundError\u001b[0m                       Traceback (most recent call last)",
      "\u001b[1;32m<ipython-input-25-76c5e59b08eb>\u001b[0m in \u001b[0;36m<module>\u001b[1;34m\u001b[0m\n\u001b[1;32m----> 1\u001b[1;33m \u001b[1;32mimport\u001b[0m \u001b[0mPathlib\u001b[0m\u001b[1;33m\u001b[0m\u001b[1;33m\u001b[0m\u001b[0m\n\u001b[0m",
      "\u001b[1;31mModuleNotFoundError\u001b[0m: No module named 'Pathlib'"
     ]
    }
   ],
   "source": [
    "import Pathlib"
   ]
  },
  {
   "cell_type": "code",
   "execution_count": null,
   "metadata": {},
   "outputs": [],
   "source": []
  }
 ],
 "metadata": {
  "kernelspec": {
   "display_name": "Python 3",
   "language": "python",
   "name": "python3"
  },
  "language_info": {
   "codemirror_mode": {
    "name": "ipython",
    "version": 3
   },
   "file_extension": ".py",
   "mimetype": "text/x-python",
   "name": "python",
   "nbconvert_exporter": "python",
   "pygments_lexer": "ipython3",
   "version": "3.7.3"
  }
 },
 "nbformat": 4,
 "nbformat_minor": 4
}
