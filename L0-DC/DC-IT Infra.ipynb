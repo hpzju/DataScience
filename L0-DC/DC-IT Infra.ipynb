{
 "cells": [
  {
   "cell_type": "markdown",
   "metadata": {},
   "source": [
    "# Computing"
   ]
  },
  {
   "cell_type": "markdown",
   "metadata": {},
   "source": [
    "# Storage"
   ]
  },
  {
   "cell_type": "markdown",
   "metadata": {},
   "source": [
    "# Networking"
   ]
  },
  {
   "cell_type": "markdown",
   "metadata": {},
   "source": [
    "# Security"
   ]
  },
  {
   "cell_type": "markdown",
   "metadata": {},
   "source": [
    "## Overveiw"
   ]
  },
  {
   "cell_type": "markdown",
   "metadata": {},
   "source": [
    "- CompTIA Security+ SY0-501"
   ]
  },
  {
   "cell_type": "markdown",
   "metadata": {},
   "source": [
    "### Terminology"
   ]
  },
  {
   "cell_type": "markdown",
   "metadata": {},
   "source": [
    "- CIA Triad of Security\n",
    "    - Confidentiality\n",
    "    - Integrity\n",
    "    - Availability\n",
    "- Triad Lines of Securities\n",
    "    - Auditing and Accountability\n",
    "    - Non-Repudication"
   ]
  },
  {
   "cell_type": "markdown",
   "metadata": {},
   "source": [
    "## Security Governance"
   ]
  },
  {
   "cell_type": "markdown",
   "metadata": {},
   "source": [
    "- Laws/Regualtions\n",
    "- Standards\n",
    "- Governance Framework\n",
    "- Best Practices\n",
    "- Artifacts\n",
    "    - Guidelines\n",
    "    - Policies\n",
    "    - Organizational Standards\n",
    "    - Procedure"
   ]
  },
  {
   "cell_type": "markdown",
   "metadata": {},
   "source": [
    "### Security Control"
   ]
  },
  {
   "cell_type": "markdown",
   "metadata": {},
   "source": [
    "- Types\n",
    "    - Administrative/Management Control\n",
    "        - Law/Regulation\n",
    "        - Policy\n",
    "        - Guideline\n",
    "        - Best Practice\n",
    "    - Technical Control\n",
    "        - Firewall\n",
    "        - OS level\n",
    "        - Password\n",
    "        - Authentication\n",
    "        - Encryption\n",
    "    - Physical Control\n",
    "        - Gates\n",
    "        - Guards\n",
    "        - Keys\n",
    "        - Man traps   \n",
    "- Functions\n",
    "    - Deterrant\n",
    "    - Preventative\n",
    "    - Detective\n",
    "    - Corrective\n",
    "    - Compensating\n",
    "- Measures\n",
    "    - Layered Measures\n",
    "        - Diversity\n",
    "            - Vendor diversity\n",
    "        - Redundancy\n",
    "            - Network Stacks redundancy\n",
    "    - General Measures\n",
    "        - Mandatory Vacation\n",
    "        - Job Rotation\n",
    "        - Multi-person Control\n",
    "        - Seperation of Duties\n",
    "        - Principle of least privilege\n"
   ]
  },
  {
   "cell_type": "markdown",
   "metadata": {},
   "source": [
    "### Security Policy"
   ]
  },
  {
   "cell_type": "markdown",
   "metadata": {},
   "source": [
    "- Data Security Policy\n",
    "- Access Control Policy\n",
    "- Password Policy"
   ]
  },
  {
   "cell_type": "markdown",
   "metadata": {},
   "source": [
    "### Incident Response Management"
   ]
  },
  {
   "cell_type": "markdown",
   "metadata": {},
   "source": [
    "- Plan\n",
    "    - Document\n",
    "        - Incidents Documentation\n",
    "    - Team\n",
    "        - Role and Responsibility\n",
    "    - Resources\n",
    "        - Response Process\n",
    "        - Supporting Resources\n",
    "- Process\n",
    "    - Preparation\n",
    "    - Reporting\n",
    "    - Identification\n",
    "    - Containment\n",
    "    - Eradication\n",
    "    - Recovery\n",
    "    - Documentation"
   ]
  },
  {
   "cell_type": "markdown",
   "metadata": {},
   "source": [
    "## Architecture and Design"
   ]
  },
  {
   "cell_type": "markdown",
   "metadata": {},
   "source": [
    "## Technologies and Tools"
   ]
  },
  {
   "cell_type": "markdown",
   "metadata": {},
   "source": [
    "### Threats, Attacks and Vulnerabilities"
   ]
  },
  {
   "cell_type": "markdown",
   "metadata": {},
   "source": [
    "- Host Threats\n",
    "    - SPAM email\n",
    "    - Fishing\n",
    "        - Spear Fishing\n",
    "    - SPIM\n",
    "    - Vishing\n",
    "        - Voice Fishing\n",
    "    - Clickjacking\n",
    "    - Typo Squatting\n",
    "    - Domain Hijacking\n",
    "    - URL Hijacking\n",
    "    - Privilege Escalatioin\n",
    "    - Man-in-the-Middle\n",
    "    - Downgrade Attack\n",
    "    - Session Hijacking\n",
    "- Physical Hardening\n",
    "    - DEP: Data Excution Prevention\n",
    "    - Disable Ports\n",
    "- Host Hardening\n",
    "    - Disable Unnecessary Services \n",
    "    - Disable Unnecessary Users\n",
    "    - Disable Default Password\n",
    "    - Patch Management\n",
    "    - Antivirus\n",
    "    - Host Firewall\n",
    "- Data Security\n",
    "    - RAID\n",
    "    - Clustering"
   ]
  },
  {
   "cell_type": "markdown",
   "metadata": {},
   "source": [
    "- Attack: Kill Chain\n",
    "    - Reconnaissance\n",
    "    - Weaponization\n",
    "    - Delivery\n",
    "    - Exploitation\n",
    "    - Installation\n",
    "    - Command & Control\n",
    "    - Action on Objectives"
   ]
  },
  {
   "cell_type": "markdown",
   "metadata": {},
   "source": [
    "- Cryptography Attack\n",
    "    - Hash Attack\n",
    "    - Dictionary Attack    \n",
    "- DoS Attack\n",
    "    - Volume Attack\n",
    "        - ping flood\n",
    "        - UDP flood\n",
    "    - Protocol Attack\n",
    "        - TCP SYN flood\n",
    "    - Application Attack\n",
    "        - Slow Loris Attack\n",
    "    - Amplification Attack\n",
    "        - Smurf Attack\n",
    "    - DDoS\n",
    "- Malware Attack\n",
    "    - Virus\n",
    "    - Trojan Horse\n",
    "    - Ransomware\n",
    "    - Logic Bomb\n",
    "    - Rootkit\n",
    "    - Backdoor\n",
    "    - Polymophic malware\n",
    "    - Armored malware\n",
    "    - Keylogger\n",
    "- Social Engineering Attack\n",
    "    - "
   ]
  },
  {
   "cell_type": "markdown",
   "metadata": {},
   "source": [
    "### Identity and Access Management"
   ]
  },
  {
   "cell_type": "markdown",
   "metadata": {},
   "source": [
    "- Terms\n",
    "    - RADIUS Service\n",
    "        - Remote Authentication Dial-In User Service\n",
    "    - TACACS+\n",
    "        - Terminal Access Controller Access-Control System Plus\n",
    "    - SSO\n",
    "        - Single Sign On\n",
    "    - PAP\n",
    "        - Password Authentication Protocol\n",
    "    - CHAP\n",
    "        - Challenge-Handshake Authentication Protocol\n",
    "    - NTLM\n",
    "        - NT LAN Manager\n",
    "    - Kerberos\n",
    "        - MS AD System\n",
    "        - Domain Controller\n",
    "            - KDC: Key Distribution Center\n",
    "            - Authentication Service\n",
    "            - Ticket Granting Service\n",
    "                - TGT: Ticket Granting Ticket, aka SID\n",
    "    - SAML\n",
    "        - Security Assertion Markup Language\n",
    "        - Web Servcie\n",
    "    - LDAP\n",
    "        - Lightweight Directory Access Protocol"
   ]
  },
  {
   "cell_type": "markdown",
   "metadata": {},
   "source": [
    "#### Identity"
   ]
  },
  {
   "cell_type": "markdown",
   "metadata": {},
   "source": [
    "- User Account Management\n",
    "- Group Management"
   ]
  },
  {
   "cell_type": "markdown",
   "metadata": {},
   "source": [
    "#### Authentication Model"
   ]
  },
  {
   "cell_type": "markdown",
   "metadata": {},
   "source": [
    "- MFA: Multi Factor Authenticatioin"
   ]
  },
  {
   "cell_type": "markdown",
   "metadata": {},
   "source": [
    "- 5 Factors of Authentication\n",
    "    - Factor 1: Something you know\n",
    "      - Password\n",
    "      - Pin\n",
    "      - CAPTCHA\n",
    "      - Security Questions\n",
    "    - Factor 2: Something you have\n",
    "      - Smart Card\n",
    "      - RSA SecurID Key\n",
    "    - Factor 3: Something you are\n",
    "      - Biometrics: fingerprint or thumbprint, palm, handprint, retina, iris, voice and face\n",
    "    - Factor 4: Somewhere you are\n",
    "      - Geolocation security checks via IP\n",
    "    - Factor 5: Something you do\n",
    "      - Gesture or touch to unlock"
   ]
  },
  {
   "cell_type": "markdown",
   "metadata": {},
   "source": [
    "#### Authorization"
   ]
  },
  {
   "cell_type": "markdown",
   "metadata": {},
   "source": [
    "- Permision\n",
    "    - resources\n",
    "- Privilege\n",
    "    - user/group\n",
    "- Policy\n",
    "- Access Control\n",
    "    - Coarse-grained\n",
    "    - Fine-grained\n",
    "    - RBAC: Role Based Access Control\n",
    "    - ABAC: Attribute Based Access Control\n",
    "    - RAdAC: Risk Adaptive-Based Access Control\n",
    "    - PBAC: Policy Based Access Control"
   ]
  },
  {
   "cell_type": "markdown",
   "metadata": {},
   "source": [
    "#### Accounting/Auditing"
   ]
  },
  {
   "cell_type": "code",
   "execution_count": null,
   "metadata": {},
   "outputs": [],
   "source": []
  },
  {
   "cell_type": "markdown",
   "metadata": {},
   "source": [
    "### Cryptography"
   ]
  },
  {
   "cell_type": "markdown",
   "metadata": {},
   "source": [
    "- Overview\n",
    "    - Obfuscation\n",
    "        - Diffusion\n",
    "        - Confusion\n",
    "    - Encryption/Decryption\n",
    "        - Key\n",
    "        - Algorithm\n",
    "- Category\n",
    "    - Key view\n",
    "        - Symetric Encryption\n",
    "        - Asymetric Encryption\n",
    "            - key pair\n",
    "    - Algoirthm View\n",
    "        - Block Cipher\n",
    "            - CBC: Cipher Block Chaining\n",
    "            - CFB: Cipher Feedback\n",
    "            - Output Feedback\n",
    "        - Stream Cipher\n",
    "    - Algorithm Types\n",
    "        - DES: Data Encryption Standard\n",
    "            - Overveiw\n",
    "                - Symetric Algorith\n",
    "                - Block Cipher: 64 bits\n",
    "                - Key Size: 56 bits \n",
    "            - DES Improvements\n",
    "                - Blowfish\n",
    "                    - Key size: varible 32-448 bits\n",
    "                - 3DES\n",
    "                    - Key size: 56*3 bits\n",
    "        - AES: Advance Encryption Standard\n",
    "            - Overview\n",
    "                - Symetric\n",
    "                - Block Cipher: 128 bits\n",
    "                - Key Size: 128, 192, 256 bits\n",
    "                - Round: 10, 12, 14\n",
    "        - RC4:\n",
    "            - Overview\n",
    "                - Symetric\n",
    "                - Steaming Cipher: 1 bit 1 round\n",
    "                - Key Size: 40-2048 bits \n",
    "        - RSA: \n",
    "            - Overveiw\n",
    "                - Asymetric\n",
    "        - ECC: Elliptic Curve Cryptography\n",
    "            - Overveiw\n",
    "                - Asymetric\n",
    "        - Diffie-Hellman\n",
    "            - Overview\n",
    "                - Asymetric\n",
    "                - Key Exchange Protocol\n",
    "                - Used for same session key generation for two parties\n",
    "        - PGP/GPG\n",
    "            - PGP: Pretty Good Privacy\n",
    "                - Random generated encryption key \n",
    "                - Send: Encrypted Data + Public key encrypted key\n",
    "            - GPG: GNU Privacy Guard \n",
    "        - Hash\n",
    "            - Overview\n",
    "                - used for integrity\n",
    "            - MD5: Message Digest 5\n",
    "                - 128 bits hash\n",
    "                - With Collision\n",
    "            - SHA-1\n",
    "                - 160 bits\n",
    "                - With Collision\n",
    "            - SHA-2\n",
    "                - SHA-256, SHA-512\n",
    "            - RIPEMD: RACE Integrity Primitives Evaluation Message Digest\n",
    "        - HMAC\n",
    "            - HMAC: hash-based message authentication code\n",
    "- Cyptography Method\n",
    "    - Keys\n",
    "        - Types\n",
    "            - session key\n",
    "            - ephemeral key\n",
    "        - Key Sharing\n",
    "            - In-band\n",
    "                - key send with data via encrypted\n",
    "            - Out-of-band\n",
    "                - key send by other route\n",
    "    - Encryption Data\n",
    "        - Data at rest\n",
    "        - Data in transit\n",
    "        - Data at process"
   ]
  },
  {
   "cell_type": "markdown",
   "metadata": {},
   "source": [
    "### PKI: Public Key Infrastructure"
   ]
  },
  {
   "cell_type": "markdown",
   "metadata": {},
   "source": [
    "- Trust Tree\n",
    "    - CA: Root Certificate Authority\n",
    "    - Intermediate Certificate Authority\n",
    "- Certificate\n",
    "    - X.509\n",
    "    - Digital Signature"
   ]
  },
  {
   "cell_type": "markdown",
   "metadata": {},
   "source": [
    "### Tools"
   ]
  },
  {
   "cell_type": "markdown",
   "metadata": {},
   "source": [
    "- OS Utility\n",
    "    - ping\n",
    "    - netstat\n",
    "    - tracert\n",
    "    - arp\n",
    "    - ipconfig\n",
    "    - nslookup\n",
    "    - dig\n",
    "    - netcat\n",
    "- Network tools\n",
    "    - nmap\n",
    "    - Wireshark\n",
    "    - SNMP tools\n",
    "    - Log tools\n",
    "        - Network Events\n",
    "        - Application Events\n",
    "        - OS Events\n",
    "        - Security Events\n",
    "    "
   ]
  },
  {
   "cell_type": "markdown",
   "metadata": {},
   "source": [
    "- Nessus\n",
    "    - vulnerability scan tool"
   ]
  },
  {
   "cell_type": "markdown",
   "metadata": {},
   "source": [
    "## Risk Management"
   ]
  },
  {
   "cell_type": "markdown",
   "metadata": {},
   "source": [
    "### Overview"
   ]
  },
  {
   "cell_type": "markdown",
   "metadata": {},
   "source": [
    "- Industry Standards/Framwork/Artifacts\n",
    "    - NIST SP 800-30: risk assessment reference\n",
    "    - NIST SP 800-37: risk management framework\n",
    "    - ISACA Risk IT Framework\n",
    "    - ISO 27000\n",
    "- Terms\n",
    "    - Assets\n",
    "        - facility\n",
    "        - hardware\n",
    "        - software\n",
    "        - people\n",
    "    - Vulnerability\n",
    "        - a weakness that allows an asset to be exploited\n",
    "    - Thread\n",
    "        - an action exploits a vulnerability's potential to do harm to assets\n",
    "    - Risk likelihood\n",
    "        - Qualitative\n",
    "            - low, medium, high\n",
    "        - Quantitative\n",
    "            - percent\n",
    "    - Risk Impact\n",
    "        - Qualitative\n",
    "            - timing\n",
    "        - Quantitative\n",
    "    - risk = thead * vulnerability\n",
    "    - Mitigation\n",
    "        - efforts to reduce impact of risk\n",
    "    - SLE\n",
    "        - Single Loss Expectancy = Asset Value * Exposure Factor\n",
    "    - ARO\n",
    "        - Annualized Rate of Occurrence\n",
    "    - ALE\n",
    "        - Annualized Loss Expectancy = ARO * SLE\n",
    "    - MTTx\n",
    "        - MTTD: mean time to diagonose\n",
    "        - MTTR: mean time to repair\n",
    "        - MTTF: mean time to failure\n",
    "        - MTBF: mean time between failure\n",
    "            - MTBF = MTTD + MTTR + MTTF"
   ]
  },
  {
   "cell_type": "markdown",
   "metadata": {},
   "source": [
    "### Risk Category"
   ]
  },
  {
   "cell_type": "markdown",
   "metadata": {},
   "source": [
    "- Risk Actors Category\n",
    "    - Views\n",
    "        - Risk Actor Source\n",
    "            - Internal/External\n",
    "        - Risk Actor Level of Sophistication\n",
    "        - Risk Actor Intention\n",
    "    - Tyeps\n",
    "        - Script Kiddies\n",
    "        - Hacktivist\n",
    "        - Organized Crime\n",
    "        - Nation States with APT\n",
    "        - Insiders\n",
    "        - Competitors"
   ]
  },
  {
   "cell_type": "markdown",
   "metadata": {},
   "source": [
    "### Risk Governance"
   ]
  },
  {
   "cell_type": "markdown",
   "metadata": {
    "heading_collapsed": true
   },
   "source": [
    "#### Risk Management Frameworks"
   ]
  },
  {
   "cell_type": "markdown",
   "metadata": {
    "hidden": true
   },
   "source": [
    "- ISACA\n",
    "    - <img style=\"-webkit-user-select: none;margin: auto;cursor: zoom-in;\" src=\"IT-Security-RMF-ISACA.png\" width=\"600\" height=\"600\">"
   ]
  },
  {
   "cell_type": "markdown",
   "metadata": {
    "hidden": true
   },
   "source": [
    "- NIST\n",
    "    - <img style=\"-webkit-user-select: none;margin: auto;cursor: zoom-in;\" src=\"IT-Security-RMF-NIST.png\" width=\"600\" height=\"600\">"
   ]
  },
  {
   "cell_type": "markdown",
   "metadata": {
    "hidden": true
   },
   "source": []
  },
  {
   "cell_type": "markdown",
   "metadata": {},
   "source": [
    "### BIA: Business Impact Analysis"
   ]
  },
  {
   "cell_type": "markdown",
   "metadata": {},
   "source": [
    "- Process\n",
    "    - Determine mission process\n",
    "    - Identify critical system\n",
    "    - Identify Single Point of Failure\n",
    "    - Identify resources requirements\n",
    "    - Identify recovery priority\n",
    "- Impact\n",
    "    - Impact Types\n",
    "        - Property Impact\n",
    "        - People Impact\n",
    "        - Finance Impact\n",
    "        - Reputation Impact\n",
    "    - PIA: Privacy Impact Assessment\n",
    "    - PTA: Privacy Threshold Assessment\n",
    "        - PII\n",
    "            - Personal Identity Information\n",
    "        - PHI\n",
    "            - Personal Healthy Information\n",
    "    - RPO: Recovery Point Objective\n",
    "    - RTO: Recovery Time Objective"
   ]
  },
  {
   "cell_type": "markdown",
   "metadata": {},
   "source": [
    "### Risk Management Process"
   ]
  },
  {
   "cell_type": "markdown",
   "metadata": {},
   "source": [
    "#### Risk Identification/Assessment"
   ]
  },
  {
   "cell_type": "markdown",
   "metadata": {},
   "source": [
    "- Vulnerability Assessment\n",
    "- Thread Assessment\n",
    "    - types\n",
    "        - adversarial\n",
    "        - accidental: human error\n",
    "        - structural: hardware/software failure\n",
    "        - environmental: physical risks"
   ]
  },
  {
   "cell_type": "markdown",
   "metadata": {},
   "source": [
    "#### Risk Response"
   ]
  },
  {
   "cell_type": "markdown",
   "metadata": {},
   "source": [
    "- Risk Mitigation\n",
    "- Transference\n",
    "- Acceptance\n",
    "- Avoidence"
   ]
  }
 ],
 "metadata": {
  "kernelspec": {
   "display_name": "Python 3",
   "language": "python",
   "name": "python3"
  },
  "language_info": {
   "codemirror_mode": {
    "name": "ipython",
    "version": 3
   },
   "file_extension": ".py",
   "mimetype": "text/x-python",
   "name": "python",
   "nbconvert_exporter": "python",
   "pygments_lexer": "ipython3",
   "version": "3.7.7"
  },
  "toc": {
   "base_numbering": 1,
   "nav_menu": {},
   "number_sections": true,
   "sideBar": true,
   "skip_h1_title": false,
   "title_cell": "Table of Contents",
   "title_sidebar": "Contents",
   "toc_cell": false,
   "toc_position": {
    "height": "calc(100% - 180px)",
    "left": "10px",
    "top": "150px",
    "width": "216px"
   },
   "toc_section_display": true,
   "toc_window_display": true
  }
 },
 "nbformat": 4,
 "nbformat_minor": 4
}
