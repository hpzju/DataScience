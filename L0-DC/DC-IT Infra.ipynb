{
 "cells": [
  {
   "cell_type": "markdown",
   "metadata": {},
   "source": [
    "# Computing"
   ]
  },
  {
   "cell_type": "markdown",
   "metadata": {},
   "source": [
    "# Storage"
   ]
  },
  {
   "cell_type": "markdown",
   "metadata": {},
   "source": [
    "# Networking"
   ]
  },
  {
   "cell_type": "markdown",
   "metadata": {},
   "source": [
    "# Security"
   ]
  },
  {
   "cell_type": "markdown",
   "metadata": {},
   "source": [
    "## Overveiw"
   ]
  },
  {
   "cell_type": "markdown",
   "metadata": {},
   "source": [
    "- CompTIA Security+ SY0-501"
   ]
  },
  {
   "cell_type": "markdown",
   "metadata": {},
   "source": [
    "### Terminology"
   ]
  },
  {
   "cell_type": "markdown",
   "metadata": {},
   "source": [
    "- CIA Tried of Security\n",
    "    - Confidentiality\n",
    "    - Integrity\n",
    "    - Availability\n",
    "- Tried Lines of Securities\n",
    "    - Auditing and Accountability\n",
    "    - Non-Repudication"
   ]
  },
  {
   "cell_type": "markdown",
   "metadata": {},
   "source": [
    "## Threats, Attacks and Vulnerabilities"
   ]
  },
  {
   "cell_type": "markdown",
   "metadata": {},
   "source": [
    "## Technologies and Tools"
   ]
  },
  {
   "cell_type": "markdown",
   "metadata": {},
   "source": []
  },
  {
   "cell_type": "markdown",
   "metadata": {},
   "source": [
    "### Tools"
   ]
  },
  {
   "cell_type": "markdown",
   "metadata": {},
   "source": [
    "- Nessus\n",
    "    - vulnerability scan tool"
   ]
  },
  {
   "cell_type": "markdown",
   "metadata": {},
   "source": [
    "## Architecture and Design"
   ]
  },
  {
   "cell_type": "markdown",
   "metadata": {},
   "source": [
    "### Cryptography and PKI"
   ]
  },
  {
   "cell_type": "markdown",
   "metadata": {},
   "source": [
    "## Identity and Access Management"
   ]
  },
  {
   "cell_type": "markdown",
   "metadata": {},
   "source": [
    "## Risk Management"
   ]
  },
  {
   "cell_type": "markdown",
   "metadata": {},
   "source": [
    "### Overview"
   ]
  },
  {
   "cell_type": "markdown",
   "metadata": {},
   "source": [
    "- Industry Standards/Framwork/Artifacts\n",
    "    - NIST SP 800-30: risk assessment reference\n",
    "    - NIST SP 800-37: risk management framework\n",
    "    - ISACA Risk IT Framework\n",
    "- Terms\n",
    "    - Assets\n",
    "        - facility\n",
    "        - hardware\n",
    "        - software\n",
    "        - people\n",
    "    - Vulnerability\n",
    "        - a weakness that allows an asset to be exploited\n",
    "    - Thread\n",
    "        - an action exploits a vulnerability's potential to do harm to assets\n",
    "    - Risk likelihood\n",
    "        - Qualitative\n",
    "            - low, medium, high\n",
    "        - Quantitative\n",
    "            - percent\n",
    "    - Risk Impact\n",
    "        - Qualitative\n",
    "            - timing\n",
    "        - Quantitative\n",
    "    - risk = thead * vulnerability\n",
    "    - Mitigation\n",
    "        - efforts to reduce impact of risk"
   ]
  },
  {
   "cell_type": "markdown",
   "metadata": {},
   "source": [
    "### Risk Governance Frameworks"
   ]
  },
  {
   "cell_type": "markdown",
   "metadata": {},
   "source": [
    "- ISACA\n",
    "    - <img style=\"-webkit-user-select: none;margin: auto;cursor: zoom-in;\" src=\"IT-Security-RiskFramwork-ISACA.png\" width=\"600\" height=\"600\">"
   ]
  },
  {
   "cell_type": "markdown",
   "metadata": {},
   "source": [
    "### Risk Category"
   ]
  },
  {
   "cell_type": "markdown",
   "metadata": {},
   "source": [
    "- Risk Actors Category\n",
    "    - Views\n",
    "        - Risk Actor Source\n",
    "            - Internal/External\n",
    "        - Risk Actor Level of Sophistication\n",
    "        - Risk Actor Intention\n",
    "    - Tyeps\n",
    "        - Script Kiddies\n",
    "        - Hacktivist\n",
    "        - Organized Crime\n",
    "        - Nation States with APT\n",
    "        - Insiders\n",
    "        - Competitors"
   ]
  },
  {
   "cell_type": "markdown",
   "metadata": {},
   "source": [
    "### Risk Management Process"
   ]
  },
  {
   "cell_type": "markdown",
   "metadata": {},
   "source": [
    "#### Risk Governance"
   ]
  },
  {
   "cell_type": "markdown",
   "metadata": {},
   "source": [
    "##### IT Security Governance"
   ]
  },
  {
   "cell_type": "markdown",
   "metadata": {},
   "source": [
    "- Laws/Regualtions\n",
    "- Standards\n",
    "- Governance Framework\n",
    "- Best Practices\n",
    "- Artifacts\n",
    "    - Policies\n",
    "    - Organizational Standards"
   ]
  },
  {
   "cell_type": "markdown",
   "metadata": {},
   "source": [
    "##### Security Control"
   ]
  },
  {
   "cell_type": "markdown",
   "metadata": {},
   "source": [
    "- Types\n",
    "    - Administrative/Management Control\n",
    "        - Law/Regulation\n",
    "        - Policy\n",
    "        - Guideline\n",
    "        - Best Practice\n",
    "    - Technical Control\n",
    "        - Firewall\n",
    "        - OS level\n",
    "        - Password\n",
    "        - Authentication\n",
    "        - Encryption\n",
    "    - Physical Control\n",
    "        - Gates\n",
    "        - Guards\n",
    "        - Keys\n",
    "        - Man traps   \n",
    "- Functions\n",
    "    - Deterrant\n",
    "    - Preventative\n",
    "    - Detective\n",
    "    - Corrective\n",
    "    - Compensating\n",
    "- Measures\n",
    "    - Layered Measures\n",
    "        - Diversity\n",
    "            - Vendor diversity\n",
    "        - Redundancy\n",
    "            - Network Stacks redundancy\n",
    "    - General Measures\n",
    "        - Mandatory Vacation\n",
    "        - Job Rotation\n",
    "        - Multi-person Control\n",
    "        - Seperation of Duties\n",
    "        - Principle of least privilege\n"
   ]
  },
  {
   "cell_type": "markdown",
   "metadata": {},
   "source": [
    "#### Risk Identification/Assessment"
   ]
  },
  {
   "cell_type": "markdown",
   "metadata": {},
   "source": [
    "- Vulnerability Assessment\n",
    "- Thread Assessment\n",
    "    - types\n",
    "        - adversarial\n",
    "        - accidental: human error\n",
    "        - structural: hardware/software failure\n",
    "        - environmental: physical risks"
   ]
  },
  {
   "cell_type": "markdown",
   "metadata": {},
   "source": [
    "#### Risk Response"
   ]
  },
  {
   "cell_type": "markdown",
   "metadata": {},
   "source": [
    "- Risk Mitigation\n",
    "- Transference\n",
    "- Acceptance\n",
    "- Avoidence"
   ]
  },
  {
   "cell_type": "code",
   "execution_count": null,
   "metadata": {},
   "outputs": [],
   "source": []
  },
  {
   "cell_type": "code",
   "execution_count": null,
   "metadata": {},
   "outputs": [],
   "source": []
  },
  {
   "cell_type": "code",
   "execution_count": null,
   "metadata": {},
   "outputs": [],
   "source": []
  }
 ],
 "metadata": {
  "kernelspec": {
   "display_name": "Python 3",
   "language": "python",
   "name": "python3"
  },
  "language_info": {
   "codemirror_mode": {
    "name": "ipython",
    "version": 3
   },
   "file_extension": ".py",
   "mimetype": "text/x-python",
   "name": "python",
   "nbconvert_exporter": "python",
   "pygments_lexer": "ipython3",
   "version": "3.7.6"
  },
  "toc": {
   "base_numbering": 1,
   "nav_menu": {},
   "number_sections": true,
   "sideBar": true,
   "skip_h1_title": false,
   "title_cell": "Table of Contents",
   "title_sidebar": "Contents",
   "toc_cell": false,
   "toc_position": {},
   "toc_section_display": true,
   "toc_window_display": true
  }
 },
 "nbformat": 4,
 "nbformat_minor": 4
}
