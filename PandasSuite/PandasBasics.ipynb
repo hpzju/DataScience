{
 "cells": [
  {
   "cell_type": "markdown",
   "metadata": {},
   "source": [
    "# Introduction"
   ]
  },
  {
   "cell_type": "markdown",
   "metadata": {},
   "source": [
    "## Features"
   ]
  },
  {
   "cell_type": "markdown",
   "metadata": {},
   "source": [
    "- data analysis / manipulation tool\n",
    "- Tabular data with heterogeneously-typed columns\n",
    "- SQL, CSV, Excel, txt interface\n",
    "- Ordered and unordered (not necessarily fixed-frequency) time series data.\n"
   ]
  },
  {
   "cell_type": "code",
   "execution_count": 2,
   "metadata": {},
   "outputs": [],
   "source": []
  },
  {
   "cell_type": "code",
   "execution_count": 3,
   "metadata": {},
   "outputs": [
    {
     "data": {
      "text/html": [
       "<div>\n",
       "<style scoped>\n",
       "    .dataframe tbody tr th:only-of-type {\n",
       "        vertical-align: middle;\n",
       "    }\n",
       "\n",
       "    .dataframe tbody tr th {\n",
       "        vertical-align: top;\n",
       "    }\n",
       "\n",
       "    .dataframe thead th {\n",
       "        text-align: right;\n",
       "    }\n",
       "</style>\n",
       "<table border=\"1\" class=\"dataframe\">\n",
       "  <thead>\n",
       "    <tr style=\"text-align: right;\">\n",
       "      <th></th>\n",
       "      <th>kind</th>\n",
       "      <th>height</th>\n",
       "      <th>weight</th>\n",
       "    </tr>\n",
       "  </thead>\n",
       "  <tbody>\n",
       "    <tr>\n",
       "      <td>0</td>\n",
       "      <td>cat</td>\n",
       "      <td>9.1</td>\n",
       "      <td>7.9</td>\n",
       "    </tr>\n",
       "    <tr>\n",
       "      <td>1</td>\n",
       "      <td>dog</td>\n",
       "      <td>6.0</td>\n",
       "      <td>7.5</td>\n",
       "    </tr>\n",
       "    <tr>\n",
       "      <td>2</td>\n",
       "      <td>cat</td>\n",
       "      <td>9.5</td>\n",
       "      <td>9.9</td>\n",
       "    </tr>\n",
       "    <tr>\n",
       "      <td>3</td>\n",
       "      <td>dog</td>\n",
       "      <td>34.0</td>\n",
       "      <td>198.0</td>\n",
       "    </tr>\n",
       "  </tbody>\n",
       "</table>\n",
       "</div>"
      ],
      "text/plain": [
       "  kind  height  weight\n",
       "0  cat     9.1     7.9\n",
       "1  dog     6.0     7.5\n",
       "2  cat     9.5     9.9\n",
       "3  dog    34.0   198.0"
      ]
     },
     "execution_count": 3,
     "metadata": {},
     "output_type": "execute_result"
    }
   ],
   "source": [
    "animals"
   ]
  },
  {
   "cell_type": "code",
   "execution_count": null,
   "metadata": {},
   "outputs": [],
   "source": []
  },
  {
   "cell_type": "markdown",
   "metadata": {},
   "source": [
    "# Data manipulation"
   ]
  },
  {
   "cell_type": "markdown",
   "metadata": {},
   "source": [
    "## General principles"
   ]
  },
  {
   "cell_type": "markdown",
   "metadata": {},
   "source": [
    "- value-mutable\n",
    "- size-immutable"
   ]
  },
  {
   "cell_type": "code",
   "execution_count": null,
   "metadata": {},
   "outputs": [],
   "source": []
  },
  {
   "cell_type": "markdown",
   "metadata": {},
   "source": [
    "## Series"
   ]
  },
  {
   "cell_type": "markdown",
   "metadata": {},
   "source": [
    "- 1D data structrue"
   ]
  },
  {
   "cell_type": "code",
   "execution_count": 79,
   "metadata": {},
   "outputs": [],
   "source": [
    "import numpy as np\n",
    "import pandas as pd"
   ]
  },
  {
   "cell_type": "code",
   "execution_count": 90,
   "metadata": {},
   "outputs": [],
   "source": [
    "s = pd.Series(range(1,7), index=pd.date_range('20130102', periods=6))"
   ]
  },
  {
   "cell_type": "code",
   "execution_count": 118,
   "metadata": {
    "collapsed": true
   },
   "outputs": [
    {
     "data": {
      "text/plain": [
       "0    0\n",
       "1    5\n",
       "2    6\n",
       "3    2\n",
       "4    6\n",
       "5    3\n",
       "6    0\n",
       "7    0\n",
       "8    0\n",
       "9    2\n",
       "dtype: int32"
      ]
     },
     "execution_count": 118,
     "metadata": {},
     "output_type": "execute_result"
    }
   ],
   "source": [
    "s = pd.Series(np.random.randint(0, 7, size=10))\n",
    "s"
   ]
  },
  {
   "cell_type": "markdown",
   "metadata": {},
   "source": [
    "### Struct"
   ]
  },
  {
   "cell_type": "code",
   "execution_count": 195,
   "metadata": {
    "collapsed": true
   },
   "outputs": [
    {
     "data": {
      "text/plain": [
       "((5,), 5, dtype('float64'))"
      ]
     },
     "execution_count": 195,
     "metadata": {},
     "output_type": "execute_result"
    }
   ],
   "source": [
    "s.shape, s.size, s.dtype"
   ]
  },
  {
   "cell_type": "code",
   "execution_count": 208,
   "metadata": {
    "collapsed": true
   },
   "outputs": [
    {
     "data": {
      "text/plain": [
       "(Index(['a', 'b', 'c', 'd', 'e'], dtype='object'),\n",
       " [Index(['a', 'b', 'c', 'd', 'e'], dtype='object')],\n",
       " None)"
      ]
     },
     "execution_count": 208,
     "metadata": {},
     "output_type": "execute_result"
    }
   ],
   "source": [
    "s.index, s.axes, s.name"
   ]
  },
  {
   "cell_type": "code",
   "execution_count": 190,
   "metadata": {
    "collapsed": true
   },
   "outputs": [
    {
     "data": {
      "text/plain": [
       "<PandasArray>\n",
       "[0.38223225545971584, -0.5105004555590296,  0.8755274623549244,\n",
       "  0.5690450119600188,  -0.259352485574729]\n",
       "Length: 5, dtype: float64"
      ]
     },
     "execution_count": 190,
     "metadata": {},
     "output_type": "execute_result"
    }
   ],
   "source": [
    "s.array"
   ]
  },
  {
   "cell_type": "code",
   "execution_count": 200,
   "metadata": {},
   "outputs": [
    {
     "data": {
      "text/plain": [
       "array([-1.68831484, -1.48210805,  1.26248661,  1.09388663, -1.2765448 ])"
      ]
     },
     "execution_count": 200,
     "metadata": {},
     "output_type": "execute_result"
    }
   ],
   "source": [
    "s.to_numpy()"
   ]
  },
  {
   "cell_type": "markdown",
   "metadata": {},
   "source": [
    "### Indexing"
   ]
  },
  {
   "cell_type": "code",
   "execution_count": 278,
   "metadata": {
    "collapsed": true
   },
   "outputs": [
    {
     "data": {
      "text/plain": [
       "a    2.763770\n",
       "b   -1.561094\n",
       "c    0.334144\n",
       "d   -1.943135\n",
       "e    1.492388\n",
       "dtype: float64"
      ]
     },
     "execution_count": 278,
     "metadata": {},
     "output_type": "execute_result"
    }
   ],
   "source": [
    "s =  pd.Series(np.random.randn(5), index=['a', 'b', 'c', 'd', 'e'])\n",
    "s"
   ]
  },
  {
   "cell_type": "code",
   "execution_count": 206,
   "metadata": {
    "collapsed": true
   },
   "outputs": [
    {
     "data": {
      "text/plain": [
       "(-1.6883148360334448, a   -1.688315\n",
       " d    1.093887\n",
       " d    1.093887\n",
       " dtype: float64)"
      ]
     },
     "execution_count": 206,
     "metadata": {},
     "output_type": "execute_result"
    }
   ],
   "source": [
    "s['a'], s[['a','d','d']]"
   ]
  },
  {
   "cell_type": "code",
   "execution_count": 207,
   "metadata": {
    "collapsed": true
   },
   "outputs": [
    {
     "data": {
      "text/plain": [
       "(-1.6883148360334448, a   -1.688315\n",
       " b   -1.482108\n",
       " c    1.262487\n",
       " d    1.093887\n",
       " dtype: float64, a   -1.688315\n",
       " b   -1.482108\n",
       " c    1.262487\n",
       " d    1.093887\n",
       " dtype: float64)"
      ]
     },
     "execution_count": 207,
     "metadata": {},
     "output_type": "execute_result"
    }
   ],
   "source": [
    "s[0], s[:4], s[:-1]"
   ]
  },
  {
   "cell_type": "code",
   "execution_count": 281,
   "metadata": {
    "scrolled": true
   },
   "outputs": [
    {
     "data": {
      "text/plain": [
       "2.7637697479926735"
      ]
     },
     "execution_count": 281,
     "metadata": {},
     "output_type": "execute_result"
    }
   ],
   "source": [
    "s[0]"
   ]
  },
  {
   "cell_type": "markdown",
   "metadata": {},
   "source": [
    "### Operation"
   ]
  },
  {
   "cell_type": "code",
   "execution_count": 279,
   "metadata": {
    "collapsed": true
   },
   "outputs": [
    {
     "data": {
      "text/plain": [
       "a    2.763770\n",
       "b   -1.561094\n",
       "c    0.334144\n",
       "d   -1.943135\n",
       "e    1.492388\n",
       "dtype: float64"
      ]
     },
     "execution_count": 279,
     "metadata": {},
     "output_type": "execute_result"
    }
   ],
   "source": [
    "s.explode()"
   ]
  },
  {
   "cell_type": "code",
   "execution_count": 285,
   "metadata": {},
   "outputs": [
    {
     "data": {
      "text/plain": [
       "a    2.763770\n",
       "b   -1.561094\n",
       "c    0.334144\n",
       "d    0.000000\n",
       "e    1.492388\n",
       "dtype: float64"
      ]
     },
     "execution_count": 285,
     "metadata": {},
     "output_type": "execute_result"
    }
   ],
   "source": [
    "s.replace(s['d'], 0)"
   ]
  },
  {
   "cell_type": "code",
   "execution_count": 203,
   "metadata": {
    "collapsed": true
   },
   "outputs": [
    {
     "data": {
      "text/plain": [
       "-1.276545    1\n",
       "-1.688315    1\n",
       " 1.093887    1\n",
       "-1.482108    1\n",
       " 1.262487    1\n",
       "dtype: int64"
      ]
     },
     "execution_count": 203,
     "metadata": {},
     "output_type": "execute_result"
    }
   ],
   "source": [
    "s.value_counts()"
   ]
  },
  {
   "cell_type": "markdown",
   "metadata": {},
   "source": [
    "## DataFrame"
   ]
  },
  {
   "cell_type": "markdown",
   "metadata": {},
   "source": [
    "- 2D data structure"
   ]
  },
  {
   "cell_type": "code",
   "execution_count": 5,
   "metadata": {},
   "outputs": [],
   "source": [
    "import numpy as np\n",
    "import pandas as pd"
   ]
  },
  {
   "cell_type": "markdown",
   "metadata": {},
   "source": [
    "### Struct and Ops"
   ]
  },
  {
   "cell_type": "code",
   "execution_count": 186,
   "metadata": {},
   "outputs": [
    {
     "data": {
      "text/plain": [
       "((6, 5), 30, A         float64\n",
       " B         float64\n",
       " C         float64\n",
       " D         float64\n",
       " Append     object\n",
       " dtype: object)"
      ]
     },
     "execution_count": 186,
     "metadata": {},
     "output_type": "execute_result"
    }
   ],
   "source": [
    "df.shape, df.size, df.dtypes"
   ]
  },
  {
   "cell_type": "code",
   "execution_count": 176,
   "metadata": {
    "collapsed": true
   },
   "outputs": [
    {
     "data": {
      "text/plain": [
       "(DatetimeIndex(['2013-01-01', '2013-01-02', '2013-01-03', '2013-01-04',\n",
       "                '2013-01-05', '2013-01-06'],\n",
       "               dtype='datetime64[ns]', freq='D'),\n",
       " Index(['A', 'B', 'C', 'D', 'Append'], dtype='object'),\n",
       " [DatetimeIndex(['2013-01-01', '2013-01-02', '2013-01-03', '2013-01-04',\n",
       "                 '2013-01-05', '2013-01-06'],\n",
       "                dtype='datetime64[ns]', freq='D'),\n",
       "  Index(['A', 'B', 'C', 'D', 'Append'], dtype='object')])"
      ]
     },
     "execution_count": 176,
     "metadata": {},
     "output_type": "execute_result"
    }
   ],
   "source": [
    "df.index, df.columns, df.axes"
   ]
  },
  {
   "cell_type": "code",
   "execution_count": 218,
   "metadata": {
    "collapsed": true
   },
   "outputs": [
    {
     "name": "stdout",
     "output_type": "stream",
     "text": [
      "<class 'pandas.core.frame.DataFrame'>\n",
      "DatetimeIndex: 6 entries, 2013-01-01 to 2013-01-06\n",
      "Freq: D\n",
      "Data columns (total 5 columns):\n",
      "A         6 non-null float64\n",
      "B         6 non-null float64\n",
      "C         6 non-null float64\n",
      "D         6 non-null float64\n",
      "Append    6 non-null object\n",
      "dtypes: float64(4), object(1)\n",
      "memory usage: 448.0+ bytes\n"
     ]
    }
   ],
   "source": [
    "df.info()"
   ]
  },
  {
   "cell_type": "code",
   "execution_count": 167,
   "metadata": {
    "collapsed": true
   },
   "outputs": [
    {
     "data": {
      "text/html": [
       "<div>\n",
       "<style scoped>\n",
       "    .dataframe tbody tr th:only-of-type {\n",
       "        vertical-align: middle;\n",
       "    }\n",
       "\n",
       "    .dataframe tbody tr th {\n",
       "        vertical-align: top;\n",
       "    }\n",
       "\n",
       "    .dataframe thead th {\n",
       "        text-align: right;\n",
       "    }\n",
       "</style>\n",
       "<table border=\"1\" class=\"dataframe\">\n",
       "  <thead>\n",
       "    <tr style=\"text-align: right;\">\n",
       "      <th></th>\n",
       "      <th>A</th>\n",
       "      <th>B</th>\n",
       "      <th>C</th>\n",
       "      <th>D</th>\n",
       "      <th>Append</th>\n",
       "    </tr>\n",
       "  </thead>\n",
       "  <tbody>\n",
       "    <tr>\n",
       "      <td>2013-01-01</td>\n",
       "      <td>0.000000</td>\n",
       "      <td>1.855360</td>\n",
       "      <td>3.001522</td>\n",
       "      <td>-1.607199</td>\n",
       "      <td>Mark</td>\n",
       "    </tr>\n",
       "    <tr>\n",
       "      <td>2013-01-02</td>\n",
       "      <td>-1.155055</td>\n",
       "      <td>0.000000</td>\n",
       "      <td>1.638626</td>\n",
       "      <td>-0.262791</td>\n",
       "      <td>N</td>\n",
       "    </tr>\n",
       "    <tr>\n",
       "      <td>2013-01-03</td>\n",
       "      <td>-0.766153</td>\n",
       "      <td>-0.499499</td>\n",
       "      <td>0.000000</td>\n",
       "      <td>-0.424870</td>\n",
       "      <td>M</td>\n",
       "    </tr>\n",
       "    <tr>\n",
       "      <td>2013-01-04</td>\n",
       "      <td>-1.925768</td>\n",
       "      <td>-0.656789</td>\n",
       "      <td>0.035512</td>\n",
       "      <td>0.000000</td>\n",
       "      <td>T</td>\n",
       "    </tr>\n",
       "    <tr>\n",
       "      <td>2013-01-05</td>\n",
       "      <td>-0.035881</td>\n",
       "      <td>1.788810</td>\n",
       "      <td>0.515268</td>\n",
       "      <td>0.472168</td>\n",
       "      <td>0</td>\n",
       "    </tr>\n",
       "    <tr>\n",
       "      <td>2013-01-06</td>\n",
       "      <td>0.397780</td>\n",
       "      <td>0.277218</td>\n",
       "      <td>0.607874</td>\n",
       "      <td>-0.879547</td>\n",
       "      <td>5</td>\n",
       "    </tr>\n",
       "  </tbody>\n",
       "</table>\n",
       "</div>"
      ],
      "text/plain": [
       "                   A         B         C         D Append\n",
       "2013-01-01  0.000000  1.855360  3.001522 -1.607199   Mark\n",
       "2013-01-02 -1.155055  0.000000  1.638626 -0.262791      N\n",
       "2013-01-03 -0.766153 -0.499499  0.000000 -0.424870      M\n",
       "2013-01-04 -1.925768 -0.656789  0.035512  0.000000      T\n",
       "2013-01-05 -0.035881  1.788810  0.515268  0.472168      0\n",
       "2013-01-06  0.397780  0.277218  0.607874 -0.879547      5"
      ]
     },
     "execution_count": 167,
     "metadata": {},
     "output_type": "execute_result"
    }
   ],
   "source": [
    "df"
   ]
  },
  {
   "cell_type": "code",
   "execution_count": null,
   "metadata": {},
   "outputs": [],
   "source": [
    "df.head(2), df.tail(1)\n",
    "df.copy()\n",
    "df.sub(), df.add(), df.mul(), df.div()\n",
    "fill_value=0\n",
    "df.eq(), df.ne(), df.lt(), df.gt(), df.le(), df.ge()\n",
    "df.empty, df.any(), df.all(), df.bool()\n",
    "(df + df).equals(df * 2)"
   ]
  },
  {
   "cell_type": "code",
   "execution_count": 215,
   "metadata": {
    "collapsed": true
   },
   "outputs": [
    {
     "data": {
      "text/html": [
       "<div>\n",
       "<style scoped>\n",
       "    .dataframe tbody tr th:only-of-type {\n",
       "        vertical-align: middle;\n",
       "    }\n",
       "\n",
       "    .dataframe tbody tr th {\n",
       "        vertical-align: top;\n",
       "    }\n",
       "\n",
       "    .dataframe thead th {\n",
       "        text-align: right;\n",
       "    }\n",
       "</style>\n",
       "<table border=\"1\" class=\"dataframe\">\n",
       "  <thead>\n",
       "    <tr style=\"text-align: right;\">\n",
       "      <th></th>\n",
       "      <th>A</th>\n",
       "      <th>B</th>\n",
       "      <th>C</th>\n",
       "      <th>D</th>\n",
       "    </tr>\n",
       "  </thead>\n",
       "  <tbody>\n",
       "    <tr>\n",
       "      <td>2013-01-01</td>\n",
       "      <td>0.0</td>\n",
       "      <td>1.855360</td>\n",
       "      <td>3.001522</td>\n",
       "      <td>-1.607199</td>\n",
       "    </tr>\n",
       "    <tr>\n",
       "      <td>2013-01-02</td>\n",
       "      <td>0.0</td>\n",
       "      <td>1.155055</td>\n",
       "      <td>2.793681</td>\n",
       "      <td>0.892264</td>\n",
       "    </tr>\n",
       "    <tr>\n",
       "      <td>2013-01-03</td>\n",
       "      <td>0.0</td>\n",
       "      <td>0.266654</td>\n",
       "      <td>0.766153</td>\n",
       "      <td>0.341283</td>\n",
       "    </tr>\n",
       "    <tr>\n",
       "      <td>2013-01-04</td>\n",
       "      <td>0.0</td>\n",
       "      <td>1.268979</td>\n",
       "      <td>1.961280</td>\n",
       "      <td>1.925768</td>\n",
       "    </tr>\n",
       "    <tr>\n",
       "      <td>2013-01-05</td>\n",
       "      <td>0.0</td>\n",
       "      <td>1.824691</td>\n",
       "      <td>0.551149</td>\n",
       "      <td>0.508049</td>\n",
       "    </tr>\n",
       "    <tr>\n",
       "      <td>2013-01-06</td>\n",
       "      <td>0.0</td>\n",
       "      <td>-0.120562</td>\n",
       "      <td>0.210093</td>\n",
       "      <td>-1.277327</td>\n",
       "    </tr>\n",
       "  </tbody>\n",
       "</table>\n",
       "</div>"
      ],
      "text/plain": [
       "              A         B         C         D\n",
       "2013-01-01  0.0  1.855360  3.001522 -1.607199\n",
       "2013-01-02  0.0  1.155055  2.793681  0.892264\n",
       "2013-01-03  0.0  0.266654  0.766153  0.341283\n",
       "2013-01-04  0.0  1.268979  1.961280  1.925768\n",
       "2013-01-05  0.0  1.824691  0.551149  0.508049\n",
       "2013-01-06  0.0 -0.120562  0.210093 -1.277327"
      ]
     },
     "execution_count": 215,
     "metadata": {},
     "output_type": "execute_result"
    }
   ],
   "source": [
    "df.iloc[:, 0:4].sub(df['A'], axis=0)"
   ]
  },
  {
   "cell_type": "markdown",
   "metadata": {},
   "source": [
    "### Indexing"
   ]
  },
  {
   "cell_type": "code",
   "execution_count": 73,
   "metadata": {},
   "outputs": [],
   "source": [
    "dates = pd.date_range('20130101', periods=6)\n",
    "cols = list('ABCD')\n",
    "df = pd.DataFrame(np.random.randn(6, 4), index=dates, columns=cols)\n",
    "df['Append'] = ['Mark', 'N', 'M', 'T', 'V', 5]"
   ]
  },
  {
   "cell_type": "code",
   "execution_count": 74,
   "metadata": {
    "collapsed": true
   },
   "outputs": [
    {
     "data": {
      "text/html": [
       "<div>\n",
       "<style scoped>\n",
       "    .dataframe tbody tr th:only-of-type {\n",
       "        vertical-align: middle;\n",
       "    }\n",
       "\n",
       "    .dataframe tbody tr th {\n",
       "        vertical-align: top;\n",
       "    }\n",
       "\n",
       "    .dataframe thead th {\n",
       "        text-align: right;\n",
       "    }\n",
       "</style>\n",
       "<table border=\"1\" class=\"dataframe\">\n",
       "  <thead>\n",
       "    <tr style=\"text-align: right;\">\n",
       "      <th></th>\n",
       "      <th>A</th>\n",
       "      <th>B</th>\n",
       "      <th>C</th>\n",
       "      <th>D</th>\n",
       "      <th>Append</th>\n",
       "    </tr>\n",
       "  </thead>\n",
       "  <tbody>\n",
       "    <tr>\n",
       "      <td>2013-01-01</td>\n",
       "      <td>-0.831553</td>\n",
       "      <td>1.855360</td>\n",
       "      <td>3.001522</td>\n",
       "      <td>-1.607199</td>\n",
       "      <td>Mark</td>\n",
       "    </tr>\n",
       "    <tr>\n",
       "      <td>2013-01-02</td>\n",
       "      <td>-1.155055</td>\n",
       "      <td>0.138805</td>\n",
       "      <td>1.638626</td>\n",
       "      <td>-0.262791</td>\n",
       "      <td>N</td>\n",
       "    </tr>\n",
       "    <tr>\n",
       "      <td>2013-01-03</td>\n",
       "      <td>-0.766153</td>\n",
       "      <td>-0.499499</td>\n",
       "      <td>-0.044855</td>\n",
       "      <td>-0.424870</td>\n",
       "      <td>M</td>\n",
       "    </tr>\n",
       "    <tr>\n",
       "      <td>2013-01-04</td>\n",
       "      <td>-1.925768</td>\n",
       "      <td>-0.656789</td>\n",
       "      <td>0.035512</td>\n",
       "      <td>0.434787</td>\n",
       "      <td>T</td>\n",
       "    </tr>\n",
       "    <tr>\n",
       "      <td>2013-01-05</td>\n",
       "      <td>-0.035881</td>\n",
       "      <td>1.788810</td>\n",
       "      <td>0.515268</td>\n",
       "      <td>0.472168</td>\n",
       "      <td>V</td>\n",
       "    </tr>\n",
       "    <tr>\n",
       "      <td>2013-01-06</td>\n",
       "      <td>0.397780</td>\n",
       "      <td>0.277218</td>\n",
       "      <td>0.607874</td>\n",
       "      <td>-0.879547</td>\n",
       "      <td>5</td>\n",
       "    </tr>\n",
       "  </tbody>\n",
       "</table>\n",
       "</div>"
      ],
      "text/plain": [
       "                   A         B         C         D Append\n",
       "2013-01-01 -0.831553  1.855360  3.001522 -1.607199   Mark\n",
       "2013-01-02 -1.155055  0.138805  1.638626 -0.262791      N\n",
       "2013-01-03 -0.766153 -0.499499 -0.044855 -0.424870      M\n",
       "2013-01-04 -1.925768 -0.656789  0.035512  0.434787      T\n",
       "2013-01-05 -0.035881  1.788810  0.515268  0.472168      V\n",
       "2013-01-06  0.397780  0.277218  0.607874 -0.879547      5"
      ]
     },
     "execution_count": 74,
     "metadata": {},
     "output_type": "execute_result"
    }
   ],
   "source": [
    "df"
   ]
  },
  {
   "cell_type": "code",
   "execution_count": 48,
   "metadata": {
    "collapsed": true
   },
   "outputs": [
    {
     "data": {
      "text/plain": [
       "2013-01-01   -1.513051\n",
       "2013-01-02   -0.277493\n",
       "2013-01-03   -1.677167\n",
       "2013-01-04   -0.797266\n",
       "2013-01-05    1.229662\n",
       "2013-01-06    0.355253\n",
       "Freq: D, Name: A, dtype: float64"
      ]
     },
     "execution_count": 48,
     "metadata": {},
     "output_type": "execute_result"
    }
   ],
   "source": [
    "df['A']"
   ]
  },
  {
   "cell_type": "code",
   "execution_count": 53,
   "metadata": {
    "collapsed": true
   },
   "outputs": [
    {
     "data": {
      "text/plain": [
       "(A   -0.277493\n",
       " B    1.382277\n",
       " C   -0.774748\n",
       " D   -0.531652\n",
       " Name: 2013-01-02 00:00:00, dtype: float64, A   -0.277493\n",
       " B    1.382277\n",
       " C   -0.774748\n",
       " D   -0.531652\n",
       " Name: 2013-01-02 00:00:00, dtype: float64)"
      ]
     },
     "execution_count": 53,
     "metadata": {},
     "output_type": "execute_result"
    }
   ],
   "source": [
    "df.loc['2013-01-02'], df.loc[dates[1]]"
   ]
  },
  {
   "cell_type": "code",
   "execution_count": 49,
   "metadata": {
    "collapsed": true
   },
   "outputs": [
    {
     "data": {
      "text/html": [
       "<div>\n",
       "<style scoped>\n",
       "    .dataframe tbody tr th:only-of-type {\n",
       "        vertical-align: middle;\n",
       "    }\n",
       "\n",
       "    .dataframe tbody tr th {\n",
       "        vertical-align: top;\n",
       "    }\n",
       "\n",
       "    .dataframe thead th {\n",
       "        text-align: right;\n",
       "    }\n",
       "</style>\n",
       "<table border=\"1\" class=\"dataframe\">\n",
       "  <thead>\n",
       "    <tr style=\"text-align: right;\">\n",
       "      <th></th>\n",
       "      <th>A</th>\n",
       "      <th>B</th>\n",
       "      <th>C</th>\n",
       "      <th>D</th>\n",
       "    </tr>\n",
       "  </thead>\n",
       "  <tbody>\n",
       "    <tr>\n",
       "      <td>2013-01-02</td>\n",
       "      <td>-0.277493</td>\n",
       "      <td>1.382277</td>\n",
       "      <td>-0.774748</td>\n",
       "      <td>-0.531652</td>\n",
       "    </tr>\n",
       "    <tr>\n",
       "      <td>2013-01-03</td>\n",
       "      <td>-1.677167</td>\n",
       "      <td>-0.942699</td>\n",
       "      <td>-0.722414</td>\n",
       "      <td>-0.370175</td>\n",
       "    </tr>\n",
       "  </tbody>\n",
       "</table>\n",
       "</div>"
      ],
      "text/plain": [
       "                   A         B         C         D\n",
       "2013-01-02 -0.277493  1.382277 -0.774748 -0.531652\n",
       "2013-01-03 -1.677167 -0.942699 -0.722414 -0.370175"
      ]
     },
     "execution_count": 49,
     "metadata": {},
     "output_type": "execute_result"
    }
   ],
   "source": [
    "df[1:3]"
   ]
  },
  {
   "cell_type": "code",
   "execution_count": 50,
   "metadata": {
    "collapsed": true
   },
   "outputs": [
    {
     "data": {
      "text/html": [
       "<div>\n",
       "<style scoped>\n",
       "    .dataframe tbody tr th:only-of-type {\n",
       "        vertical-align: middle;\n",
       "    }\n",
       "\n",
       "    .dataframe tbody tr th {\n",
       "        vertical-align: top;\n",
       "    }\n",
       "\n",
       "    .dataframe thead th {\n",
       "        text-align: right;\n",
       "    }\n",
       "</style>\n",
       "<table border=\"1\" class=\"dataframe\">\n",
       "  <thead>\n",
       "    <tr style=\"text-align: right;\">\n",
       "      <th></th>\n",
       "      <th>A</th>\n",
       "      <th>B</th>\n",
       "      <th>C</th>\n",
       "      <th>D</th>\n",
       "    </tr>\n",
       "  </thead>\n",
       "  <tbody>\n",
       "    <tr>\n",
       "      <td>2013-01-02</td>\n",
       "      <td>-0.277493</td>\n",
       "      <td>1.382277</td>\n",
       "      <td>-0.774748</td>\n",
       "      <td>-0.531652</td>\n",
       "    </tr>\n",
       "    <tr>\n",
       "      <td>2013-01-03</td>\n",
       "      <td>-1.677167</td>\n",
       "      <td>-0.942699</td>\n",
       "      <td>-0.722414</td>\n",
       "      <td>-0.370175</td>\n",
       "    </tr>\n",
       "    <tr>\n",
       "      <td>2013-01-04</td>\n",
       "      <td>-0.797266</td>\n",
       "      <td>0.394869</td>\n",
       "      <td>-0.653769</td>\n",
       "      <td>-0.614351</td>\n",
       "    </tr>\n",
       "    <tr>\n",
       "      <td>2013-01-05</td>\n",
       "      <td>1.229662</td>\n",
       "      <td>-0.566278</td>\n",
       "      <td>1.832499</td>\n",
       "      <td>-2.025417</td>\n",
       "    </tr>\n",
       "  </tbody>\n",
       "</table>\n",
       "</div>"
      ],
      "text/plain": [
       "                   A         B         C         D\n",
       "2013-01-02 -0.277493  1.382277 -0.774748 -0.531652\n",
       "2013-01-03 -1.677167 -0.942699 -0.722414 -0.370175\n",
       "2013-01-04 -0.797266  0.394869 -0.653769 -0.614351\n",
       "2013-01-05  1.229662 -0.566278  1.832499 -2.025417"
      ]
     },
     "execution_count": 50,
     "metadata": {},
     "output_type": "execute_result"
    }
   ],
   "source": [
    "df['2013-01-02':'2013-01-05']"
   ]
  },
  {
   "cell_type": "code",
   "execution_count": 54,
   "metadata": {
    "collapsed": true
   },
   "outputs": [
    {
     "data": {
      "text/html": [
       "<div>\n",
       "<style scoped>\n",
       "    .dataframe tbody tr th:only-of-type {\n",
       "        vertical-align: middle;\n",
       "    }\n",
       "\n",
       "    .dataframe tbody tr th {\n",
       "        vertical-align: top;\n",
       "    }\n",
       "\n",
       "    .dataframe thead th {\n",
       "        text-align: right;\n",
       "    }\n",
       "</style>\n",
       "<table border=\"1\" class=\"dataframe\">\n",
       "  <thead>\n",
       "    <tr style=\"text-align: right;\">\n",
       "      <th></th>\n",
       "      <th>A</th>\n",
       "      <th>B</th>\n",
       "    </tr>\n",
       "  </thead>\n",
       "  <tbody>\n",
       "    <tr>\n",
       "      <td>2013-01-01</td>\n",
       "      <td>-1.513051</td>\n",
       "      <td>-0.403028</td>\n",
       "    </tr>\n",
       "    <tr>\n",
       "      <td>2013-01-02</td>\n",
       "      <td>-0.277493</td>\n",
       "      <td>1.382277</td>\n",
       "    </tr>\n",
       "    <tr>\n",
       "      <td>2013-01-03</td>\n",
       "      <td>-1.677167</td>\n",
       "      <td>-0.942699</td>\n",
       "    </tr>\n",
       "    <tr>\n",
       "      <td>2013-01-04</td>\n",
       "      <td>-0.797266</td>\n",
       "      <td>0.394869</td>\n",
       "    </tr>\n",
       "    <tr>\n",
       "      <td>2013-01-05</td>\n",
       "      <td>1.229662</td>\n",
       "      <td>-0.566278</td>\n",
       "    </tr>\n",
       "    <tr>\n",
       "      <td>2013-01-06</td>\n",
       "      <td>0.355253</td>\n",
       "      <td>-1.081579</td>\n",
       "    </tr>\n",
       "  </tbody>\n",
       "</table>\n",
       "</div>"
      ],
      "text/plain": [
       "                   A         B\n",
       "2013-01-01 -1.513051 -0.403028\n",
       "2013-01-02 -0.277493  1.382277\n",
       "2013-01-03 -1.677167 -0.942699\n",
       "2013-01-04 -0.797266  0.394869\n",
       "2013-01-05  1.229662 -0.566278\n",
       "2013-01-06  0.355253 -1.081579"
      ]
     },
     "execution_count": 54,
     "metadata": {},
     "output_type": "execute_result"
    }
   ],
   "source": [
    "df.loc[:, ['A', 'B']]"
   ]
  },
  {
   "cell_type": "code",
   "execution_count": 56,
   "metadata": {
    "collapsed": true
   },
   "outputs": [
    {
     "data": {
      "text/html": [
       "<div>\n",
       "<style scoped>\n",
       "    .dataframe tbody tr th:only-of-type {\n",
       "        vertical-align: middle;\n",
       "    }\n",
       "\n",
       "    .dataframe tbody tr th {\n",
       "        vertical-align: top;\n",
       "    }\n",
       "\n",
       "    .dataframe thead th {\n",
       "        text-align: right;\n",
       "    }\n",
       "</style>\n",
       "<table border=\"1\" class=\"dataframe\">\n",
       "  <thead>\n",
       "    <tr style=\"text-align: right;\">\n",
       "      <th></th>\n",
       "      <th>A</th>\n",
       "      <th>B</th>\n",
       "    </tr>\n",
       "  </thead>\n",
       "  <tbody>\n",
       "    <tr>\n",
       "      <td>2013-01-02</td>\n",
       "      <td>-0.277493</td>\n",
       "      <td>1.382277</td>\n",
       "    </tr>\n",
       "    <tr>\n",
       "      <td>2013-01-03</td>\n",
       "      <td>-1.677167</td>\n",
       "      <td>-0.942699</td>\n",
       "    </tr>\n",
       "    <tr>\n",
       "      <td>2013-01-04</td>\n",
       "      <td>-0.797266</td>\n",
       "      <td>0.394869</td>\n",
       "    </tr>\n",
       "    <tr>\n",
       "      <td>2013-01-05</td>\n",
       "      <td>1.229662</td>\n",
       "      <td>-0.566278</td>\n",
       "    </tr>\n",
       "  </tbody>\n",
       "</table>\n",
       "</div>"
      ],
      "text/plain": [
       "                   A         B\n",
       "2013-01-02 -0.277493  1.382277\n",
       "2013-01-03 -1.677167 -0.942699\n",
       "2013-01-04 -0.797266  0.394869\n",
       "2013-01-05  1.229662 -0.566278"
      ]
     },
     "execution_count": 56,
     "metadata": {},
     "output_type": "execute_result"
    }
   ],
   "source": [
    "df.loc['2013-01-02':'2013-01-05', ['A', 'B']]"
   ]
  },
  {
   "cell_type": "code",
   "execution_count": 57,
   "metadata": {
    "collapsed": true
   },
   "outputs": [
    {
     "data": {
      "text/plain": [
       "-0.2774926833186846"
      ]
     },
     "execution_count": 57,
     "metadata": {},
     "output_type": "execute_result"
    }
   ],
   "source": [
    "df.loc['2013-01-02', 'A']"
   ]
  },
  {
   "cell_type": "code",
   "execution_count": 58,
   "metadata": {
    "collapsed": true
   },
   "outputs": [
    {
     "data": {
      "text/plain": [
       "A   -1.513051\n",
       "B   -0.403028\n",
       "C   -0.590750\n",
       "D    0.313733\n",
       "Name: 2013-01-01 00:00:00, dtype: float64"
      ]
     },
     "execution_count": 58,
     "metadata": {},
     "output_type": "execute_result"
    }
   ],
   "source": [
    "df.iloc[0]"
   ]
  },
  {
   "cell_type": "code",
   "execution_count": 61,
   "metadata": {
    "collapsed": true
   },
   "outputs": [
    {
     "data": {
      "text/html": [
       "<div>\n",
       "<style scoped>\n",
       "    .dataframe tbody tr th:only-of-type {\n",
       "        vertical-align: middle;\n",
       "    }\n",
       "\n",
       "    .dataframe tbody tr th {\n",
       "        vertical-align: top;\n",
       "    }\n",
       "\n",
       "    .dataframe thead th {\n",
       "        text-align: right;\n",
       "    }\n",
       "</style>\n",
       "<table border=\"1\" class=\"dataframe\">\n",
       "  <thead>\n",
       "    <tr style=\"text-align: right;\">\n",
       "      <th></th>\n",
       "      <th>A</th>\n",
       "      <th>B</th>\n",
       "      <th>C</th>\n",
       "      <th>D</th>\n",
       "    </tr>\n",
       "  </thead>\n",
       "  <tbody>\n",
       "    <tr>\n",
       "      <td>2013-01-01</td>\n",
       "      <td>-1.513051</td>\n",
       "      <td>-0.403028</td>\n",
       "      <td>-0.590750</td>\n",
       "      <td>0.313733</td>\n",
       "    </tr>\n",
       "    <tr>\n",
       "      <td>2013-01-02</td>\n",
       "      <td>-0.277493</td>\n",
       "      <td>1.382277</td>\n",
       "      <td>-0.774748</td>\n",
       "      <td>-0.531652</td>\n",
       "    </tr>\n",
       "    <tr>\n",
       "      <td>2013-01-03</td>\n",
       "      <td>-1.677167</td>\n",
       "      <td>-0.942699</td>\n",
       "      <td>-0.722414</td>\n",
       "      <td>-0.370175</td>\n",
       "    </tr>\n",
       "    <tr>\n",
       "      <td>2013-01-04</td>\n",
       "      <td>-0.797266</td>\n",
       "      <td>0.394869</td>\n",
       "      <td>-0.653769</td>\n",
       "      <td>-0.614351</td>\n",
       "    </tr>\n",
       "  </tbody>\n",
       "</table>\n",
       "</div>"
      ],
      "text/plain": [
       "                   A         B         C         D\n",
       "2013-01-01 -1.513051 -0.403028 -0.590750  0.313733\n",
       "2013-01-02 -0.277493  1.382277 -0.774748 -0.531652\n",
       "2013-01-03 -1.677167 -0.942699 -0.722414 -0.370175\n",
       "2013-01-04 -0.797266  0.394869 -0.653769 -0.614351"
      ]
     },
     "execution_count": 61,
     "metadata": {},
     "output_type": "execute_result"
    }
   ],
   "source": [
    "df.iloc[0:4]"
   ]
  },
  {
   "cell_type": "code",
   "execution_count": 62,
   "metadata": {
    "collapsed": true
   },
   "outputs": [
    {
     "data": {
      "text/plain": [
       "2013-01-01   -1.513051\n",
       "2013-01-02   -0.277493\n",
       "2013-01-03   -1.677167\n",
       "2013-01-04   -0.797266\n",
       "2013-01-05    1.229662\n",
       "2013-01-06    0.355253\n",
       "Freq: D, Name: A, dtype: float64"
      ]
     },
     "execution_count": 62,
     "metadata": {},
     "output_type": "execute_result"
    }
   ],
   "source": [
    "df.iloc[:, 0]"
   ]
  },
  {
   "cell_type": "code",
   "execution_count": 63,
   "metadata": {
    "collapsed": true
   },
   "outputs": [
    {
     "data": {
      "text/html": [
       "<div>\n",
       "<style scoped>\n",
       "    .dataframe tbody tr th:only-of-type {\n",
       "        vertical-align: middle;\n",
       "    }\n",
       "\n",
       "    .dataframe tbody tr th {\n",
       "        vertical-align: top;\n",
       "    }\n",
       "\n",
       "    .dataframe thead th {\n",
       "        text-align: right;\n",
       "    }\n",
       "</style>\n",
       "<table border=\"1\" class=\"dataframe\">\n",
       "  <thead>\n",
       "    <tr style=\"text-align: right;\">\n",
       "      <th></th>\n",
       "      <th>A</th>\n",
       "      <th>B</th>\n",
       "    </tr>\n",
       "  </thead>\n",
       "  <tbody>\n",
       "    <tr>\n",
       "      <td>2013-01-01</td>\n",
       "      <td>-1.513051</td>\n",
       "      <td>-0.403028</td>\n",
       "    </tr>\n",
       "    <tr>\n",
       "      <td>2013-01-02</td>\n",
       "      <td>-0.277493</td>\n",
       "      <td>1.382277</td>\n",
       "    </tr>\n",
       "    <tr>\n",
       "      <td>2013-01-03</td>\n",
       "      <td>-1.677167</td>\n",
       "      <td>-0.942699</td>\n",
       "    </tr>\n",
       "    <tr>\n",
       "      <td>2013-01-04</td>\n",
       "      <td>-0.797266</td>\n",
       "      <td>0.394869</td>\n",
       "    </tr>\n",
       "    <tr>\n",
       "      <td>2013-01-05</td>\n",
       "      <td>1.229662</td>\n",
       "      <td>-0.566278</td>\n",
       "    </tr>\n",
       "    <tr>\n",
       "      <td>2013-01-06</td>\n",
       "      <td>0.355253</td>\n",
       "      <td>-1.081579</td>\n",
       "    </tr>\n",
       "  </tbody>\n",
       "</table>\n",
       "</div>"
      ],
      "text/plain": [
       "                   A         B\n",
       "2013-01-01 -1.513051 -0.403028\n",
       "2013-01-02 -0.277493  1.382277\n",
       "2013-01-03 -1.677167 -0.942699\n",
       "2013-01-04 -0.797266  0.394869\n",
       "2013-01-05  1.229662 -0.566278\n",
       "2013-01-06  0.355253 -1.081579"
      ]
     },
     "execution_count": 63,
     "metadata": {},
     "output_type": "execute_result"
    }
   ],
   "source": [
    "df.iloc[:, 0:2]"
   ]
  },
  {
   "cell_type": "code",
   "execution_count": 64,
   "metadata": {
    "collapsed": true
   },
   "outputs": [
    {
     "data": {
      "text/html": [
       "<div>\n",
       "<style scoped>\n",
       "    .dataframe tbody tr th:only-of-type {\n",
       "        vertical-align: middle;\n",
       "    }\n",
       "\n",
       "    .dataframe tbody tr th {\n",
       "        vertical-align: top;\n",
       "    }\n",
       "\n",
       "    .dataframe thead th {\n",
       "        text-align: right;\n",
       "    }\n",
       "</style>\n",
       "<table border=\"1\" class=\"dataframe\">\n",
       "  <thead>\n",
       "    <tr style=\"text-align: right;\">\n",
       "      <th></th>\n",
       "      <th>B</th>\n",
       "    </tr>\n",
       "  </thead>\n",
       "  <tbody>\n",
       "    <tr>\n",
       "      <td>2013-01-02</td>\n",
       "      <td>1.382277</td>\n",
       "    </tr>\n",
       "  </tbody>\n",
       "</table>\n",
       "</div>"
      ],
      "text/plain": [
       "                   B\n",
       "2013-01-02  1.382277"
      ]
     },
     "execution_count": 64,
     "metadata": {},
     "output_type": "execute_result"
    }
   ],
   "source": [
    "df.iloc[1:2, 1:2]"
   ]
  },
  {
   "cell_type": "code",
   "execution_count": 67,
   "metadata": {
    "collapsed": true
   },
   "outputs": [
    {
     "data": {
      "text/plain": [
       "1.3822771295020726"
      ]
     },
     "execution_count": 67,
     "metadata": {},
     "output_type": "execute_result"
    }
   ],
   "source": [
    "df.iloc[1, 1]"
   ]
  },
  {
   "cell_type": "code",
   "execution_count": 66,
   "metadata": {
    "collapsed": true
   },
   "outputs": [
    {
     "data": {
      "text/html": [
       "<div>\n",
       "<style scoped>\n",
       "    .dataframe tbody tr th:only-of-type {\n",
       "        vertical-align: middle;\n",
       "    }\n",
       "\n",
       "    .dataframe tbody tr th {\n",
       "        vertical-align: top;\n",
       "    }\n",
       "\n",
       "    .dataframe thead th {\n",
       "        text-align: right;\n",
       "    }\n",
       "</style>\n",
       "<table border=\"1\" class=\"dataframe\">\n",
       "  <thead>\n",
       "    <tr style=\"text-align: right;\">\n",
       "      <th></th>\n",
       "      <th>A</th>\n",
       "      <th>C</th>\n",
       "      <th>D</th>\n",
       "    </tr>\n",
       "  </thead>\n",
       "  <tbody>\n",
       "    <tr>\n",
       "      <td>2013-01-01</td>\n",
       "      <td>-1.513051</td>\n",
       "      <td>-0.590750</td>\n",
       "      <td>0.313733</td>\n",
       "    </tr>\n",
       "    <tr>\n",
       "      <td>2013-01-04</td>\n",
       "      <td>-0.797266</td>\n",
       "      <td>-0.653769</td>\n",
       "      <td>-0.614351</td>\n",
       "    </tr>\n",
       "    <tr>\n",
       "      <td>2013-01-06</td>\n",
       "      <td>0.355253</td>\n",
       "      <td>1.582111</td>\n",
       "      <td>-0.943905</td>\n",
       "    </tr>\n",
       "  </tbody>\n",
       "</table>\n",
       "</div>"
      ],
      "text/plain": [
       "                   A         C         D\n",
       "2013-01-01 -1.513051 -0.590750  0.313733\n",
       "2013-01-04 -0.797266 -0.653769 -0.614351\n",
       "2013-01-06  0.355253  1.582111 -0.943905"
      ]
     },
     "execution_count": 66,
     "metadata": {},
     "output_type": "execute_result"
    }
   ],
   "source": [
    "df.iloc[[0, 3, 5], [0, 2, 3]]"
   ]
  },
  {
   "cell_type": "code",
   "execution_count": 11,
   "metadata": {},
   "outputs": [],
   "source": [
    "animals = pd.DataFrame({'kind': ['cat', 'dog', 'cat', 'dog'],\n",
    "'height': [9.1, 6.0, 9.5, 34.0],\n",
    "'weight': [7.9, 7.5, 9.9, 198.0]})"
   ]
  },
  {
   "cell_type": "code",
   "execution_count": 12,
   "metadata": {
    "collapsed": true
   },
   "outputs": [
    {
     "data": {
      "text/html": [
       "<div>\n",
       "<style scoped>\n",
       "    .dataframe tbody tr th:only-of-type {\n",
       "        vertical-align: middle;\n",
       "    }\n",
       "\n",
       "    .dataframe tbody tr th {\n",
       "        vertical-align: top;\n",
       "    }\n",
       "\n",
       "    .dataframe thead th {\n",
       "        text-align: right;\n",
       "    }\n",
       "</style>\n",
       "<table border=\"1\" class=\"dataframe\">\n",
       "  <thead>\n",
       "    <tr style=\"text-align: right;\">\n",
       "      <th></th>\n",
       "      <th>kind</th>\n",
       "      <th>height</th>\n",
       "      <th>weight</th>\n",
       "    </tr>\n",
       "  </thead>\n",
       "  <tbody>\n",
       "    <tr>\n",
       "      <td>0</td>\n",
       "      <td>cat</td>\n",
       "      <td>9.1</td>\n",
       "      <td>7.9</td>\n",
       "    </tr>\n",
       "    <tr>\n",
       "      <td>1</td>\n",
       "      <td>dog</td>\n",
       "      <td>6.0</td>\n",
       "      <td>7.5</td>\n",
       "    </tr>\n",
       "    <tr>\n",
       "      <td>2</td>\n",
       "      <td>cat</td>\n",
       "      <td>9.5</td>\n",
       "      <td>9.9</td>\n",
       "    </tr>\n",
       "    <tr>\n",
       "      <td>3</td>\n",
       "      <td>dog</td>\n",
       "      <td>34.0</td>\n",
       "      <td>198.0</td>\n",
       "    </tr>\n",
       "  </tbody>\n",
       "</table>\n",
       "</div>"
      ],
      "text/plain": [
       "  kind  height  weight\n",
       "0  cat     9.1     7.9\n",
       "1  dog     6.0     7.5\n",
       "2  cat     9.5     9.9\n",
       "3  dog    34.0   198.0"
      ]
     },
     "execution_count": 12,
     "metadata": {},
     "output_type": "execute_result"
    }
   ],
   "source": [
    "animals"
   ]
  },
  {
   "cell_type": "markdown",
   "metadata": {},
   "source": [
    "### Filtering"
   ]
  },
  {
   "cell_type": "code",
   "execution_count": 68,
   "metadata": {
    "collapsed": true
   },
   "outputs": [
    {
     "data": {
      "text/html": [
       "<div>\n",
       "<style scoped>\n",
       "    .dataframe tbody tr th:only-of-type {\n",
       "        vertical-align: middle;\n",
       "    }\n",
       "\n",
       "    .dataframe tbody tr th {\n",
       "        vertical-align: top;\n",
       "    }\n",
       "\n",
       "    .dataframe thead th {\n",
       "        text-align: right;\n",
       "    }\n",
       "</style>\n",
       "<table border=\"1\" class=\"dataframe\">\n",
       "  <thead>\n",
       "    <tr style=\"text-align: right;\">\n",
       "      <th></th>\n",
       "      <th>A</th>\n",
       "      <th>B</th>\n",
       "      <th>C</th>\n",
       "      <th>D</th>\n",
       "    </tr>\n",
       "  </thead>\n",
       "  <tbody>\n",
       "    <tr>\n",
       "      <td>2013-01-01</td>\n",
       "      <td>-1.513051</td>\n",
       "      <td>-0.403028</td>\n",
       "      <td>-0.590750</td>\n",
       "      <td>NaN</td>\n",
       "    </tr>\n",
       "    <tr>\n",
       "      <td>2013-01-02</td>\n",
       "      <td>-0.277493</td>\n",
       "      <td>NaN</td>\n",
       "      <td>-0.774748</td>\n",
       "      <td>-0.531652</td>\n",
       "    </tr>\n",
       "    <tr>\n",
       "      <td>2013-01-03</td>\n",
       "      <td>-1.677167</td>\n",
       "      <td>-0.942699</td>\n",
       "      <td>-0.722414</td>\n",
       "      <td>-0.370175</td>\n",
       "    </tr>\n",
       "    <tr>\n",
       "      <td>2013-01-04</td>\n",
       "      <td>-0.797266</td>\n",
       "      <td>NaN</td>\n",
       "      <td>-0.653769</td>\n",
       "      <td>-0.614351</td>\n",
       "    </tr>\n",
       "    <tr>\n",
       "      <td>2013-01-05</td>\n",
       "      <td>NaN</td>\n",
       "      <td>-0.566278</td>\n",
       "      <td>NaN</td>\n",
       "      <td>-2.025417</td>\n",
       "    </tr>\n",
       "    <tr>\n",
       "      <td>2013-01-06</td>\n",
       "      <td>NaN</td>\n",
       "      <td>-1.081579</td>\n",
       "      <td>NaN</td>\n",
       "      <td>-0.943905</td>\n",
       "    </tr>\n",
       "  </tbody>\n",
       "</table>\n",
       "</div>"
      ],
      "text/plain": [
       "                   A         B         C         D\n",
       "2013-01-01 -1.513051 -0.403028 -0.590750       NaN\n",
       "2013-01-02 -0.277493       NaN -0.774748 -0.531652\n",
       "2013-01-03 -1.677167 -0.942699 -0.722414 -0.370175\n",
       "2013-01-04 -0.797266       NaN -0.653769 -0.614351\n",
       "2013-01-05       NaN -0.566278       NaN -2.025417\n",
       "2013-01-06       NaN -1.081579       NaN -0.943905"
      ]
     },
     "execution_count": 68,
     "metadata": {},
     "output_type": "execute_result"
    }
   ],
   "source": [
    "df[df<0]"
   ]
  },
  {
   "cell_type": "code",
   "execution_count": 69,
   "metadata": {
    "collapsed": true
   },
   "outputs": [
    {
     "data": {
      "text/html": [
       "<div>\n",
       "<style scoped>\n",
       "    .dataframe tbody tr th:only-of-type {\n",
       "        vertical-align: middle;\n",
       "    }\n",
       "\n",
       "    .dataframe tbody tr th {\n",
       "        vertical-align: top;\n",
       "    }\n",
       "\n",
       "    .dataframe thead th {\n",
       "        text-align: right;\n",
       "    }\n",
       "</style>\n",
       "<table border=\"1\" class=\"dataframe\">\n",
       "  <thead>\n",
       "    <tr style=\"text-align: right;\">\n",
       "      <th></th>\n",
       "      <th>A</th>\n",
       "      <th>B</th>\n",
       "      <th>C</th>\n",
       "      <th>D</th>\n",
       "    </tr>\n",
       "  </thead>\n",
       "  <tbody>\n",
       "    <tr>\n",
       "      <td>2013-01-05</td>\n",
       "      <td>1.229662</td>\n",
       "      <td>-0.566278</td>\n",
       "      <td>1.832499</td>\n",
       "      <td>-2.025417</td>\n",
       "    </tr>\n",
       "    <tr>\n",
       "      <td>2013-01-06</td>\n",
       "      <td>0.355253</td>\n",
       "      <td>-1.081579</td>\n",
       "      <td>1.582111</td>\n",
       "      <td>-0.943905</td>\n",
       "    </tr>\n",
       "  </tbody>\n",
       "</table>\n",
       "</div>"
      ],
      "text/plain": [
       "                   A         B         C         D\n",
       "2013-01-05  1.229662 -0.566278  1.832499 -2.025417\n",
       "2013-01-06  0.355253 -1.081579  1.582111 -0.943905"
      ]
     },
     "execution_count": 69,
     "metadata": {},
     "output_type": "execute_result"
    }
   ],
   "source": [
    "df[df.A > 0]"
   ]
  },
  {
   "cell_type": "code",
   "execution_count": 219,
   "metadata": {
    "collapsed": true
   },
   "outputs": [
    {
     "data": {
      "text/html": [
       "<div>\n",
       "<style scoped>\n",
       "    .dataframe tbody tr th:only-of-type {\n",
       "        vertical-align: middle;\n",
       "    }\n",
       "\n",
       "    .dataframe tbody tr th {\n",
       "        vertical-align: top;\n",
       "    }\n",
       "\n",
       "    .dataframe thead th {\n",
       "        text-align: right;\n",
       "    }\n",
       "</style>\n",
       "<table border=\"1\" class=\"dataframe\">\n",
       "  <thead>\n",
       "    <tr style=\"text-align: right;\">\n",
       "      <th></th>\n",
       "      <th>A</th>\n",
       "      <th>B</th>\n",
       "      <th>C</th>\n",
       "      <th>D</th>\n",
       "      <th>Append</th>\n",
       "    </tr>\n",
       "  </thead>\n",
       "  <tbody>\n",
       "    <tr>\n",
       "      <td>2013-01-02</td>\n",
       "      <td>-1.155055</td>\n",
       "      <td>0.000000</td>\n",
       "      <td>1.638626</td>\n",
       "      <td>-0.262791</td>\n",
       "      <td>N</td>\n",
       "    </tr>\n",
       "    <tr>\n",
       "      <td>2013-01-04</td>\n",
       "      <td>-1.925768</td>\n",
       "      <td>-0.656789</td>\n",
       "      <td>0.035512</td>\n",
       "      <td>0.000000</td>\n",
       "      <td>T</td>\n",
       "    </tr>\n",
       "    <tr>\n",
       "      <td>2013-01-05</td>\n",
       "      <td>-0.035881</td>\n",
       "      <td>1.788810</td>\n",
       "      <td>0.515268</td>\n",
       "      <td>0.472168</td>\n",
       "      <td>0</td>\n",
       "    </tr>\n",
       "  </tbody>\n",
       "</table>\n",
       "</div>"
      ],
      "text/plain": [
       "                   A         B         C         D Append\n",
       "2013-01-02 -1.155055  0.000000  1.638626 -0.262791      N\n",
       "2013-01-04 -1.925768 -0.656789  0.035512  0.000000      T\n",
       "2013-01-05 -0.035881  1.788810  0.515268  0.472168      0"
      ]
     },
     "execution_count": 219,
     "metadata": {},
     "output_type": "execute_result"
    }
   ],
   "source": [
    "df.query('A < 0 and C > 0')"
   ]
  },
  {
   "cell_type": "code",
   "execution_count": 75,
   "metadata": {
    "collapsed": true
   },
   "outputs": [
    {
     "data": {
      "text/html": [
       "<div>\n",
       "<style scoped>\n",
       "    .dataframe tbody tr th:only-of-type {\n",
       "        vertical-align: middle;\n",
       "    }\n",
       "\n",
       "    .dataframe tbody tr th {\n",
       "        vertical-align: top;\n",
       "    }\n",
       "\n",
       "    .dataframe thead th {\n",
       "        text-align: right;\n",
       "    }\n",
       "</style>\n",
       "<table border=\"1\" class=\"dataframe\">\n",
       "  <thead>\n",
       "    <tr style=\"text-align: right;\">\n",
       "      <th></th>\n",
       "      <th>A</th>\n",
       "      <th>B</th>\n",
       "      <th>C</th>\n",
       "      <th>D</th>\n",
       "      <th>Append</th>\n",
       "    </tr>\n",
       "  </thead>\n",
       "  <tbody>\n",
       "    <tr>\n",
       "      <td>2013-01-01</td>\n",
       "      <td>-0.831553</td>\n",
       "      <td>1.855360</td>\n",
       "      <td>3.001522</td>\n",
       "      <td>-1.607199</td>\n",
       "      <td>Mark</td>\n",
       "    </tr>\n",
       "    <tr>\n",
       "      <td>2013-01-03</td>\n",
       "      <td>-0.766153</td>\n",
       "      <td>-0.499499</td>\n",
       "      <td>-0.044855</td>\n",
       "      <td>-0.424870</td>\n",
       "      <td>M</td>\n",
       "    </tr>\n",
       "    <tr>\n",
       "      <td>2013-01-06</td>\n",
       "      <td>0.397780</td>\n",
       "      <td>0.277218</td>\n",
       "      <td>0.607874</td>\n",
       "      <td>-0.879547</td>\n",
       "      <td>5</td>\n",
       "    </tr>\n",
       "  </tbody>\n",
       "</table>\n",
       "</div>"
      ],
      "text/plain": [
       "                   A         B         C         D Append\n",
       "2013-01-01 -0.831553  1.855360  3.001522 -1.607199   Mark\n",
       "2013-01-03 -0.766153 -0.499499 -0.044855 -0.424870      M\n",
       "2013-01-06  0.397780  0.277218  0.607874 -0.879547      5"
      ]
     },
     "execution_count": 75,
     "metadata": {},
     "output_type": "execute_result"
    }
   ],
   "source": [
    "df[df['Append'].isin(['M',5, 'Mark'])]"
   ]
  },
  {
   "cell_type": "code",
   "execution_count": 101,
   "metadata": {
    "collapsed": true
   },
   "outputs": [
    {
     "data": {
      "text/html": [
       "<div>\n",
       "<style scoped>\n",
       "    .dataframe tbody tr th:only-of-type {\n",
       "        vertical-align: middle;\n",
       "    }\n",
       "\n",
       "    .dataframe tbody tr th {\n",
       "        vertical-align: top;\n",
       "    }\n",
       "\n",
       "    .dataframe thead th {\n",
       "        text-align: right;\n",
       "    }\n",
       "</style>\n",
       "<table border=\"1\" class=\"dataframe\">\n",
       "  <thead>\n",
       "    <tr style=\"text-align: right;\">\n",
       "      <th></th>\n",
       "      <th>A</th>\n",
       "      <th>B</th>\n",
       "      <th>C</th>\n",
       "      <th>D</th>\n",
       "      <th>Append</th>\n",
       "      <th>E</th>\n",
       "    </tr>\n",
       "  </thead>\n",
       "  <tbody>\n",
       "    <tr>\n",
       "      <td>2013-01-04</td>\n",
       "      <td>-1.925768</td>\n",
       "      <td>-0.656789</td>\n",
       "      <td>0.035512</td>\n",
       "      <td>0.0</td>\n",
       "      <td>T</td>\n",
       "      <td>0.0</td>\n",
       "    </tr>\n",
       "  </tbody>\n",
       "</table>\n",
       "</div>"
      ],
      "text/plain": [
       "                   A         B         C    D Append    E\n",
       "2013-01-04 -1.925768 -0.656789  0.035512  0.0      T  0.0"
      ]
     },
     "execution_count": 101,
     "metadata": {},
     "output_type": "execute_result"
    }
   ],
   "source": [
    "df2.iloc[-1,-1] = 0\n",
    "df2.dropna(how='any')"
   ]
  },
  {
   "cell_type": "code",
   "execution_count": 107,
   "metadata": {
    "collapsed": true
   },
   "outputs": [
    {
     "data": {
      "text/html": [
       "<div>\n",
       "<style scoped>\n",
       "    .dataframe tbody tr th:only-of-type {\n",
       "        vertical-align: middle;\n",
       "    }\n",
       "\n",
       "    .dataframe tbody tr th {\n",
       "        vertical-align: top;\n",
       "    }\n",
       "\n",
       "    .dataframe thead th {\n",
       "        text-align: right;\n",
       "    }\n",
       "</style>\n",
       "<table border=\"1\" class=\"dataframe\">\n",
       "  <thead>\n",
       "    <tr style=\"text-align: right;\">\n",
       "      <th></th>\n",
       "      <th>A</th>\n",
       "      <th>B</th>\n",
       "      <th>C</th>\n",
       "      <th>D</th>\n",
       "      <th>Append</th>\n",
       "      <th>E</th>\n",
       "    </tr>\n",
       "  </thead>\n",
       "  <tbody>\n",
       "    <tr>\n",
       "      <td>2013-01-01</td>\n",
       "      <td>False</td>\n",
       "      <td>False</td>\n",
       "      <td>False</td>\n",
       "      <td>False</td>\n",
       "      <td>False</td>\n",
       "      <td>True</td>\n",
       "    </tr>\n",
       "    <tr>\n",
       "      <td>2013-01-02</td>\n",
       "      <td>False</td>\n",
       "      <td>False</td>\n",
       "      <td>False</td>\n",
       "      <td>False</td>\n",
       "      <td>False</td>\n",
       "      <td>True</td>\n",
       "    </tr>\n",
       "    <tr>\n",
       "      <td>2013-01-03</td>\n",
       "      <td>False</td>\n",
       "      <td>False</td>\n",
       "      <td>False</td>\n",
       "      <td>False</td>\n",
       "      <td>False</td>\n",
       "      <td>True</td>\n",
       "    </tr>\n",
       "    <tr>\n",
       "      <td>2013-01-04</td>\n",
       "      <td>False</td>\n",
       "      <td>False</td>\n",
       "      <td>False</td>\n",
       "      <td>False</td>\n",
       "      <td>False</td>\n",
       "      <td>True</td>\n",
       "    </tr>\n",
       "  </tbody>\n",
       "</table>\n",
       "</div>"
      ],
      "text/plain": [
       "                A      B      C      D  Append     E\n",
       "2013-01-01  False  False  False  False   False  True\n",
       "2013-01-02  False  False  False  False   False  True\n",
       "2013-01-03  False  False  False  False   False  True\n",
       "2013-01-04  False  False  False  False   False  True"
      ]
     },
     "execution_count": 107,
     "metadata": {},
     "output_type": "execute_result"
    }
   ],
   "source": [
    "pd.isna(df2)"
   ]
  },
  {
   "cell_type": "markdown",
   "metadata": {},
   "source": [
    "### Rearranging"
   ]
  },
  {
   "cell_type": "code",
   "execution_count": 39,
   "metadata": {
    "collapsed": true
   },
   "outputs": [
    {
     "data": {
      "text/html": [
       "<div>\n",
       "<style scoped>\n",
       "    .dataframe tbody tr th:only-of-type {\n",
       "        vertical-align: middle;\n",
       "    }\n",
       "\n",
       "    .dataframe tbody tr th {\n",
       "        vertical-align: top;\n",
       "    }\n",
       "\n",
       "    .dataframe thead th {\n",
       "        text-align: right;\n",
       "    }\n",
       "</style>\n",
       "<table border=\"1\" class=\"dataframe\">\n",
       "  <thead>\n",
       "    <tr style=\"text-align: right;\">\n",
       "      <th></th>\n",
       "      <th>2013-01-01</th>\n",
       "      <th>2013-01-02</th>\n",
       "      <th>2013-01-03</th>\n",
       "      <th>2013-01-04</th>\n",
       "      <th>2013-01-05</th>\n",
       "      <th>2013-01-06</th>\n",
       "    </tr>\n",
       "  </thead>\n",
       "  <tbody>\n",
       "    <tr>\n",
       "      <td>A</td>\n",
       "      <td>-1.513051</td>\n",
       "      <td>-0.277493</td>\n",
       "      <td>-1.677167</td>\n",
       "      <td>-0.797266</td>\n",
       "      <td>1.229662</td>\n",
       "      <td>0.355253</td>\n",
       "    </tr>\n",
       "    <tr>\n",
       "      <td>B</td>\n",
       "      <td>-0.403028</td>\n",
       "      <td>1.382277</td>\n",
       "      <td>-0.942699</td>\n",
       "      <td>0.394869</td>\n",
       "      <td>-0.566278</td>\n",
       "      <td>-1.081579</td>\n",
       "    </tr>\n",
       "    <tr>\n",
       "      <td>C</td>\n",
       "      <td>-0.590750</td>\n",
       "      <td>-0.774748</td>\n",
       "      <td>-0.722414</td>\n",
       "      <td>-0.653769</td>\n",
       "      <td>1.832499</td>\n",
       "      <td>1.582111</td>\n",
       "    </tr>\n",
       "    <tr>\n",
       "      <td>D</td>\n",
       "      <td>0.313733</td>\n",
       "      <td>-0.531652</td>\n",
       "      <td>-0.370175</td>\n",
       "      <td>-0.614351</td>\n",
       "      <td>-2.025417</td>\n",
       "      <td>-0.943905</td>\n",
       "    </tr>\n",
       "  </tbody>\n",
       "</table>\n",
       "</div>"
      ],
      "text/plain": [
       "   2013-01-01  2013-01-02  2013-01-03  2013-01-04  2013-01-05  2013-01-06\n",
       "A   -1.513051   -0.277493   -1.677167   -0.797266    1.229662    0.355253\n",
       "B   -0.403028    1.382277   -0.942699    0.394869   -0.566278   -1.081579\n",
       "C   -0.590750   -0.774748   -0.722414   -0.653769    1.832499    1.582111\n",
       "D    0.313733   -0.531652   -0.370175   -0.614351   -2.025417   -0.943905"
      ]
     },
     "execution_count": 39,
     "metadata": {},
     "output_type": "execute_result"
    }
   ],
   "source": [
    "df.T"
   ]
  },
  {
   "cell_type": "code",
   "execution_count": 127,
   "metadata": {
    "collapsed": true
   },
   "outputs": [
    {
     "data": {
      "text/plain": [
       "(2013-01-01  A                 0\n",
       "             B           1.85536\n",
       "             C           3.00152\n",
       "             D           -1.6072\n",
       "             Append         Mark\n",
       " 2013-01-02  A          -1.15506\n",
       "             B                 0\n",
       "             C           1.63863\n",
       "             D         -0.262791\n",
       "             Append            N\n",
       " 2013-01-03  A         -0.766153\n",
       "             B         -0.499499\n",
       "             C                 0\n",
       "             D          -0.42487\n",
       "             Append            M\n",
       " 2013-01-04  A          -1.92577\n",
       "             B         -0.656789\n",
       "             C         0.0355116\n",
       "             D                 0\n",
       "             Append            T\n",
       " 2013-01-05  A        -0.0358809\n",
       "             B           1.78881\n",
       "             C          0.515268\n",
       "             D          0.472168\n",
       "             Append            0\n",
       " 2013-01-06  A           0.39778\n",
       "             B          0.277218\n",
       "             C          0.607874\n",
       "             D         -0.879547\n",
       "             Append            5\n",
       " dtype: object, A       2013-01-01            0\n",
       "         2013-01-02     -1.15506\n",
       "         2013-01-03    -0.766153\n",
       "         2013-01-04     -1.92577\n",
       "         2013-01-05   -0.0358809\n",
       "         2013-01-06      0.39778\n",
       " B       2013-01-01      1.85536\n",
       "         2013-01-02            0\n",
       "         2013-01-03    -0.499499\n",
       "         2013-01-04    -0.656789\n",
       "         2013-01-05      1.78881\n",
       "         2013-01-06     0.277218\n",
       " C       2013-01-01      3.00152\n",
       "         2013-01-02      1.63863\n",
       "         2013-01-03            0\n",
       "         2013-01-04    0.0355116\n",
       "         2013-01-05     0.515268\n",
       "         2013-01-06     0.607874\n",
       " D       2013-01-01      -1.6072\n",
       "         2013-01-02    -0.262791\n",
       "         2013-01-03     -0.42487\n",
       "         2013-01-04            0\n",
       "         2013-01-05     0.472168\n",
       "         2013-01-06    -0.879547\n",
       " Append  2013-01-01         Mark\n",
       "         2013-01-02            N\n",
       "         2013-01-03            M\n",
       "         2013-01-04            T\n",
       "         2013-01-05            0\n",
       "         2013-01-06            5\n",
       " dtype: object)"
      ]
     },
     "execution_count": 127,
     "metadata": {},
     "output_type": "execute_result"
    }
   ],
   "source": [
    "df.stack()"
   ]
  },
  {
   "cell_type": "code",
   "execution_count": null,
   "metadata": {},
   "outputs": [],
   "source": [
    "df.unstack()"
   ]
  },
  {
   "cell_type": "code",
   "execution_count": 274,
   "metadata": {
    "collapsed": true
   },
   "outputs": [
    {
     "data": {
      "text/html": [
       "<div>\n",
       "<style scoped>\n",
       "    .dataframe tbody tr th:only-of-type {\n",
       "        vertical-align: middle;\n",
       "    }\n",
       "\n",
       "    .dataframe tbody tr th {\n",
       "        vertical-align: top;\n",
       "    }\n",
       "\n",
       "    .dataframe thead th {\n",
       "        text-align: right;\n",
       "    }\n",
       "</style>\n",
       "<table border=\"1\" class=\"dataframe\">\n",
       "  <thead>\n",
       "    <tr style=\"text-align: right;\">\n",
       "      <th></th>\n",
       "      <th>variable</th>\n",
       "      <th>value</th>\n",
       "    </tr>\n",
       "  </thead>\n",
       "  <tbody>\n",
       "    <tr>\n",
       "      <td>0</td>\n",
       "      <td>A</td>\n",
       "      <td>0</td>\n",
       "    </tr>\n",
       "    <tr>\n",
       "      <td>1</td>\n",
       "      <td>A</td>\n",
       "      <td>-1.15506</td>\n",
       "    </tr>\n",
       "    <tr>\n",
       "      <td>2</td>\n",
       "      <td>A</td>\n",
       "      <td>-0.766153</td>\n",
       "    </tr>\n",
       "    <tr>\n",
       "      <td>3</td>\n",
       "      <td>A</td>\n",
       "      <td>-1.92577</td>\n",
       "    </tr>\n",
       "    <tr>\n",
       "      <td>4</td>\n",
       "      <td>A</td>\n",
       "      <td>-0.0358809</td>\n",
       "    </tr>\n",
       "    <tr>\n",
       "      <td>5</td>\n",
       "      <td>A</td>\n",
       "      <td>0.39778</td>\n",
       "    </tr>\n",
       "    <tr>\n",
       "      <td>6</td>\n",
       "      <td>B</td>\n",
       "      <td>1.85536</td>\n",
       "    </tr>\n",
       "    <tr>\n",
       "      <td>7</td>\n",
       "      <td>B</td>\n",
       "      <td>0</td>\n",
       "    </tr>\n",
       "    <tr>\n",
       "      <td>8</td>\n",
       "      <td>B</td>\n",
       "      <td>-0.499499</td>\n",
       "    </tr>\n",
       "    <tr>\n",
       "      <td>9</td>\n",
       "      <td>B</td>\n",
       "      <td>-0.656789</td>\n",
       "    </tr>\n",
       "    <tr>\n",
       "      <td>10</td>\n",
       "      <td>B</td>\n",
       "      <td>1.78881</td>\n",
       "    </tr>\n",
       "    <tr>\n",
       "      <td>11</td>\n",
       "      <td>B</td>\n",
       "      <td>0.277218</td>\n",
       "    </tr>\n",
       "    <tr>\n",
       "      <td>12</td>\n",
       "      <td>C</td>\n",
       "      <td>3.00152</td>\n",
       "    </tr>\n",
       "    <tr>\n",
       "      <td>13</td>\n",
       "      <td>C</td>\n",
       "      <td>1.63863</td>\n",
       "    </tr>\n",
       "    <tr>\n",
       "      <td>14</td>\n",
       "      <td>C</td>\n",
       "      <td>0</td>\n",
       "    </tr>\n",
       "    <tr>\n",
       "      <td>15</td>\n",
       "      <td>C</td>\n",
       "      <td>0.0355116</td>\n",
       "    </tr>\n",
       "    <tr>\n",
       "      <td>16</td>\n",
       "      <td>C</td>\n",
       "      <td>0.515268</td>\n",
       "    </tr>\n",
       "    <tr>\n",
       "      <td>17</td>\n",
       "      <td>C</td>\n",
       "      <td>0.607874</td>\n",
       "    </tr>\n",
       "    <tr>\n",
       "      <td>18</td>\n",
       "      <td>D</td>\n",
       "      <td>-1.6072</td>\n",
       "    </tr>\n",
       "    <tr>\n",
       "      <td>19</td>\n",
       "      <td>D</td>\n",
       "      <td>-0.262791</td>\n",
       "    </tr>\n",
       "    <tr>\n",
       "      <td>20</td>\n",
       "      <td>D</td>\n",
       "      <td>-0.42487</td>\n",
       "    </tr>\n",
       "    <tr>\n",
       "      <td>21</td>\n",
       "      <td>D</td>\n",
       "      <td>0</td>\n",
       "    </tr>\n",
       "    <tr>\n",
       "      <td>22</td>\n",
       "      <td>D</td>\n",
       "      <td>0.472168</td>\n",
       "    </tr>\n",
       "    <tr>\n",
       "      <td>23</td>\n",
       "      <td>D</td>\n",
       "      <td>-0.879547</td>\n",
       "    </tr>\n",
       "    <tr>\n",
       "      <td>24</td>\n",
       "      <td>Append</td>\n",
       "      <td>Mark</td>\n",
       "    </tr>\n",
       "    <tr>\n",
       "      <td>25</td>\n",
       "      <td>Append</td>\n",
       "      <td>N</td>\n",
       "    </tr>\n",
       "    <tr>\n",
       "      <td>26</td>\n",
       "      <td>Append</td>\n",
       "      <td>M</td>\n",
       "    </tr>\n",
       "    <tr>\n",
       "      <td>27</td>\n",
       "      <td>Append</td>\n",
       "      <td>T</td>\n",
       "    </tr>\n",
       "    <tr>\n",
       "      <td>28</td>\n",
       "      <td>Append</td>\n",
       "      <td>0</td>\n",
       "    </tr>\n",
       "    <tr>\n",
       "      <td>29</td>\n",
       "      <td>Append</td>\n",
       "      <td>5</td>\n",
       "    </tr>\n",
       "  </tbody>\n",
       "</table>\n",
       "</div>"
      ],
      "text/plain": [
       "   variable      value\n",
       "0         A          0\n",
       "1         A   -1.15506\n",
       "2         A  -0.766153\n",
       "3         A   -1.92577\n",
       "4         A -0.0358809\n",
       "5         A    0.39778\n",
       "6         B    1.85536\n",
       "7         B          0\n",
       "8         B  -0.499499\n",
       "9         B  -0.656789\n",
       "10        B    1.78881\n",
       "11        B   0.277218\n",
       "12        C    3.00152\n",
       "13        C    1.63863\n",
       "14        C          0\n",
       "15        C  0.0355116\n",
       "16        C   0.515268\n",
       "17        C   0.607874\n",
       "18        D    -1.6072\n",
       "19        D  -0.262791\n",
       "20        D   -0.42487\n",
       "21        D          0\n",
       "22        D   0.472168\n",
       "23        D  -0.879547\n",
       "24   Append       Mark\n",
       "25   Append          N\n",
       "26   Append          M\n",
       "27   Append          T\n",
       "28   Append          0\n",
       "29   Append          5"
      ]
     },
     "execution_count": 274,
     "metadata": {},
     "output_type": "execute_result"
    }
   ],
   "source": [
    "df.melt()"
   ]
  },
  {
   "cell_type": "code",
   "execution_count": null,
   "metadata": {},
   "outputs": [],
   "source": [
    "df.cut()"
   ]
  },
  {
   "cell_type": "code",
   "execution_count": 275,
   "metadata": {
    "collapsed": true
   },
   "outputs": [
    {
     "ename": "KeyError",
     "evalue": "'None of [None] are in the columns'",
     "output_type": "error",
     "traceback": [
      "\u001b[1;31m---------------------------------------------------------------------------\u001b[0m",
      "\u001b[1;31mKeyError\u001b[0m                                  Traceback (most recent call last)",
      "\u001b[1;32m<ipython-input-275-fb1f651911bc>\u001b[0m in \u001b[0;36m<module>\u001b[1;34m\u001b[0m\n\u001b[1;32m----> 1\u001b[1;33m \u001b[0mdf\u001b[0m\u001b[1;33m.\u001b[0m\u001b[0mpivot\u001b[0m\u001b[1;33m(\u001b[0m\u001b[1;33m)\u001b[0m\u001b[1;33m\u001b[0m\u001b[1;33m\u001b[0m\u001b[0m\n\u001b[0m",
      "\u001b[1;32mC:\\ProgramData\\Anaconda3\\lib\\site-packages\\pandas\\core\\frame.py\u001b[0m in \u001b[0;36mpivot\u001b[1;34m(self, index, columns, values)\u001b[0m\n\u001b[0;32m   5917\u001b[0m         \u001b[1;32mfrom\u001b[0m \u001b[0mpandas\u001b[0m\u001b[1;33m.\u001b[0m\u001b[0mcore\u001b[0m\u001b[1;33m.\u001b[0m\u001b[0mreshape\u001b[0m\u001b[1;33m.\u001b[0m\u001b[0mpivot\u001b[0m \u001b[1;32mimport\u001b[0m \u001b[0mpivot\u001b[0m\u001b[1;33m\u001b[0m\u001b[1;33m\u001b[0m\u001b[0m\n\u001b[0;32m   5918\u001b[0m \u001b[1;33m\u001b[0m\u001b[0m\n\u001b[1;32m-> 5919\u001b[1;33m         \u001b[1;32mreturn\u001b[0m \u001b[0mpivot\u001b[0m\u001b[1;33m(\u001b[0m\u001b[0mself\u001b[0m\u001b[1;33m,\u001b[0m \u001b[0mindex\u001b[0m\u001b[1;33m=\u001b[0m\u001b[0mindex\u001b[0m\u001b[1;33m,\u001b[0m \u001b[0mcolumns\u001b[0m\u001b[1;33m=\u001b[0m\u001b[0mcolumns\u001b[0m\u001b[1;33m,\u001b[0m \u001b[0mvalues\u001b[0m\u001b[1;33m=\u001b[0m\u001b[0mvalues\u001b[0m\u001b[1;33m)\u001b[0m\u001b[1;33m\u001b[0m\u001b[1;33m\u001b[0m\u001b[0m\n\u001b[0m\u001b[0;32m   5920\u001b[0m \u001b[1;33m\u001b[0m\u001b[0m\n\u001b[0;32m   5921\u001b[0m     _shared_docs[\n",
      "\u001b[1;32mC:\\ProgramData\\Anaconda3\\lib\\site-packages\\pandas\\core\\reshape\\pivot.py\u001b[0m in \u001b[0;36mpivot\u001b[1;34m(data, index, columns, values)\u001b[0m\n\u001b[0;32m    413\u001b[0m         \u001b[0mcols\u001b[0m \u001b[1;33m=\u001b[0m \u001b[1;33m[\u001b[0m\u001b[0mcolumns\u001b[0m\u001b[1;33m]\u001b[0m \u001b[1;32mif\u001b[0m \u001b[0mindex\u001b[0m \u001b[1;32mis\u001b[0m \u001b[1;32mNone\u001b[0m \u001b[1;32melse\u001b[0m \u001b[1;33m[\u001b[0m\u001b[0mindex\u001b[0m\u001b[1;33m,\u001b[0m \u001b[0mcolumns\u001b[0m\u001b[1;33m]\u001b[0m\u001b[1;33m\u001b[0m\u001b[1;33m\u001b[0m\u001b[0m\n\u001b[0;32m    414\u001b[0m         \u001b[0mappend\u001b[0m \u001b[1;33m=\u001b[0m \u001b[0mindex\u001b[0m \u001b[1;32mis\u001b[0m \u001b[1;32mNone\u001b[0m\u001b[1;33m\u001b[0m\u001b[1;33m\u001b[0m\u001b[0m\n\u001b[1;32m--> 415\u001b[1;33m         \u001b[0mindexed\u001b[0m \u001b[1;33m=\u001b[0m \u001b[0mdata\u001b[0m\u001b[1;33m.\u001b[0m\u001b[0mset_index\u001b[0m\u001b[1;33m(\u001b[0m\u001b[0mcols\u001b[0m\u001b[1;33m,\u001b[0m \u001b[0mappend\u001b[0m\u001b[1;33m=\u001b[0m\u001b[0mappend\u001b[0m\u001b[1;33m)\u001b[0m\u001b[1;33m\u001b[0m\u001b[1;33m\u001b[0m\u001b[0m\n\u001b[0m\u001b[0;32m    416\u001b[0m     \u001b[1;32melse\u001b[0m\u001b[1;33m:\u001b[0m\u001b[1;33m\u001b[0m\u001b[1;33m\u001b[0m\u001b[0m\n\u001b[0;32m    417\u001b[0m         \u001b[1;32mif\u001b[0m \u001b[0mindex\u001b[0m \u001b[1;32mis\u001b[0m \u001b[1;32mNone\u001b[0m\u001b[1;33m:\u001b[0m\u001b[1;33m\u001b[0m\u001b[1;33m\u001b[0m\u001b[0m\n",
      "\u001b[1;32mC:\\ProgramData\\Anaconda3\\lib\\site-packages\\pandas\\core\\frame.py\u001b[0m in \u001b[0;36mset_index\u001b[1;34m(self, keys, drop, append, inplace, verify_integrity)\u001b[0m\n\u001b[0;32m   4394\u001b[0m \u001b[1;33m\u001b[0m\u001b[0m\n\u001b[0;32m   4395\u001b[0m         \u001b[1;32mif\u001b[0m \u001b[0mmissing\u001b[0m\u001b[1;33m:\u001b[0m\u001b[1;33m\u001b[0m\u001b[1;33m\u001b[0m\u001b[0m\n\u001b[1;32m-> 4396\u001b[1;33m             \u001b[1;32mraise\u001b[0m \u001b[0mKeyError\u001b[0m\u001b[1;33m(\u001b[0m\u001b[1;34m\"None of {} are in the columns\"\u001b[0m\u001b[1;33m.\u001b[0m\u001b[0mformat\u001b[0m\u001b[1;33m(\u001b[0m\u001b[0mmissing\u001b[0m\u001b[1;33m)\u001b[0m\u001b[1;33m)\u001b[0m\u001b[1;33m\u001b[0m\u001b[1;33m\u001b[0m\u001b[0m\n\u001b[0m\u001b[0;32m   4397\u001b[0m \u001b[1;33m\u001b[0m\u001b[0m\n\u001b[0;32m   4398\u001b[0m         \u001b[1;32mif\u001b[0m \u001b[0minplace\u001b[0m\u001b[1;33m:\u001b[0m\u001b[1;33m\u001b[0m\u001b[1;33m\u001b[0m\u001b[0m\n",
      "\u001b[1;31mKeyError\u001b[0m: 'None of [None] are in the columns'"
     ]
    }
   ],
   "source": [
    "df.pivot()"
   ]
  },
  {
   "cell_type": "code",
   "execution_count": 128,
   "metadata": {},
   "outputs": [
    {
     "data": {
      "text/html": [
       "<div>\n",
       "<style scoped>\n",
       "    .dataframe tbody tr th:only-of-type {\n",
       "        vertical-align: middle;\n",
       "    }\n",
       "\n",
       "    .dataframe tbody tr th {\n",
       "        vertical-align: top;\n",
       "    }\n",
       "\n",
       "    .dataframe thead th {\n",
       "        text-align: right;\n",
       "    }\n",
       "</style>\n",
       "<table border=\"1\" class=\"dataframe\">\n",
       "  <thead>\n",
       "    <tr style=\"text-align: right;\">\n",
       "      <th></th>\n",
       "      <th>C</th>\n",
       "      <th>0.000000</th>\n",
       "      <th>0.035512</th>\n",
       "      <th>0.515268</th>\n",
       "      <th>0.607874</th>\n",
       "      <th>1.638626</th>\n",
       "      <th>3.001522</th>\n",
       "    </tr>\n",
       "    <tr>\n",
       "      <th>A</th>\n",
       "      <th>B</th>\n",
       "      <th></th>\n",
       "      <th></th>\n",
       "      <th></th>\n",
       "      <th></th>\n",
       "      <th></th>\n",
       "      <th></th>\n",
       "    </tr>\n",
       "  </thead>\n",
       "  <tbody>\n",
       "    <tr>\n",
       "      <td>-1.925768</td>\n",
       "      <td>-0.656789</td>\n",
       "      <td>NaN</td>\n",
       "      <td>0.0</td>\n",
       "      <td>NaN</td>\n",
       "      <td>NaN</td>\n",
       "      <td>NaN</td>\n",
       "      <td>NaN</td>\n",
       "    </tr>\n",
       "    <tr>\n",
       "      <td>-1.155055</td>\n",
       "      <td>0.000000</td>\n",
       "      <td>NaN</td>\n",
       "      <td>NaN</td>\n",
       "      <td>NaN</td>\n",
       "      <td>NaN</td>\n",
       "      <td>-0.262791</td>\n",
       "      <td>NaN</td>\n",
       "    </tr>\n",
       "    <tr>\n",
       "      <td>-0.766153</td>\n",
       "      <td>-0.499499</td>\n",
       "      <td>-0.42487</td>\n",
       "      <td>NaN</td>\n",
       "      <td>NaN</td>\n",
       "      <td>NaN</td>\n",
       "      <td>NaN</td>\n",
       "      <td>NaN</td>\n",
       "    </tr>\n",
       "    <tr>\n",
       "      <td>-0.035881</td>\n",
       "      <td>1.788810</td>\n",
       "      <td>NaN</td>\n",
       "      <td>NaN</td>\n",
       "      <td>0.472168</td>\n",
       "      <td>NaN</td>\n",
       "      <td>NaN</td>\n",
       "      <td>NaN</td>\n",
       "    </tr>\n",
       "    <tr>\n",
       "      <td>0.000000</td>\n",
       "      <td>1.855360</td>\n",
       "      <td>NaN</td>\n",
       "      <td>NaN</td>\n",
       "      <td>NaN</td>\n",
       "      <td>NaN</td>\n",
       "      <td>NaN</td>\n",
       "      <td>-1.607199</td>\n",
       "    </tr>\n",
       "    <tr>\n",
       "      <td>0.397780</td>\n",
       "      <td>0.277218</td>\n",
       "      <td>NaN</td>\n",
       "      <td>NaN</td>\n",
       "      <td>NaN</td>\n",
       "      <td>-0.879547</td>\n",
       "      <td>NaN</td>\n",
       "      <td>NaN</td>\n",
       "    </tr>\n",
       "  </tbody>\n",
       "</table>\n",
       "</div>"
      ],
      "text/plain": [
       "C                    0.000000  0.035512  0.515268  0.607874  1.638626  \\\n",
       "A         B                                                             \n",
       "-1.925768 -0.656789       NaN       0.0       NaN       NaN       NaN   \n",
       "-1.155055  0.000000       NaN       NaN       NaN       NaN -0.262791   \n",
       "-0.766153 -0.499499  -0.42487       NaN       NaN       NaN       NaN   \n",
       "-0.035881  1.788810       NaN       NaN  0.472168       NaN       NaN   \n",
       " 0.000000  1.855360       NaN       NaN       NaN       NaN       NaN   \n",
       " 0.397780  0.277218       NaN       NaN       NaN -0.879547       NaN   \n",
       "\n",
       "C                    3.001522  \n",
       "A         B                    \n",
       "-1.925768 -0.656789       NaN  \n",
       "-1.155055  0.000000       NaN  \n",
       "-0.766153 -0.499499       NaN  \n",
       "-0.035881  1.788810       NaN  \n",
       " 0.000000  1.855360 -1.607199  \n",
       " 0.397780  0.277218       NaN  "
      ]
     },
     "execution_count": 128,
     "metadata": {},
     "output_type": "execute_result"
    }
   ],
   "source": [
    "pd.pivot_table(df, values='D', index=['A', 'B'], columns=['C'])"
   ]
  },
  {
   "cell_type": "code",
   "execution_count": null,
   "metadata": {},
   "outputs": [],
   "source": [
    "df1.combine_first(df2)"
   ]
  },
  {
   "cell_type": "code",
   "execution_count": null,
   "metadata": {},
   "outputs": [],
   "source": [
    "pd.concat(pieces)"
   ]
  },
  {
   "cell_type": "code",
   "execution_count": null,
   "metadata": {},
   "outputs": [],
   "source": [
    "pd.merge(left, right, on='key')"
   ]
  },
  {
   "cell_type": "code",
   "execution_count": null,
   "metadata": {},
   "outputs": [],
   "source": [
    "left.join(right, on=['key1', 'key2'], how='inner')"
   ]
  },
  {
   "cell_type": "code",
   "execution_count": 44,
   "metadata": {
    "collapsed": true
   },
   "outputs": [
    {
     "data": {
      "text/html": [
       "<div>\n",
       "<style scoped>\n",
       "    .dataframe tbody tr th:only-of-type {\n",
       "        vertical-align: middle;\n",
       "    }\n",
       "\n",
       "    .dataframe tbody tr th {\n",
       "        vertical-align: top;\n",
       "    }\n",
       "\n",
       "    .dataframe thead th {\n",
       "        text-align: right;\n",
       "    }\n",
       "</style>\n",
       "<table border=\"1\" class=\"dataframe\">\n",
       "  <thead>\n",
       "    <tr style=\"text-align: right;\">\n",
       "      <th></th>\n",
       "      <th>D</th>\n",
       "      <th>C</th>\n",
       "      <th>B</th>\n",
       "      <th>A</th>\n",
       "    </tr>\n",
       "  </thead>\n",
       "  <tbody>\n",
       "    <tr>\n",
       "      <td>2013-01-06</td>\n",
       "      <td>-0.943905</td>\n",
       "      <td>1.582111</td>\n",
       "      <td>-1.081579</td>\n",
       "      <td>0.355253</td>\n",
       "    </tr>\n",
       "    <tr>\n",
       "      <td>2013-01-05</td>\n",
       "      <td>-2.025417</td>\n",
       "      <td>1.832499</td>\n",
       "      <td>-0.566278</td>\n",
       "      <td>1.229662</td>\n",
       "    </tr>\n",
       "    <tr>\n",
       "      <td>2013-01-04</td>\n",
       "      <td>-0.614351</td>\n",
       "      <td>-0.653769</td>\n",
       "      <td>0.394869</td>\n",
       "      <td>-0.797266</td>\n",
       "    </tr>\n",
       "    <tr>\n",
       "      <td>2013-01-03</td>\n",
       "      <td>-0.370175</td>\n",
       "      <td>-0.722414</td>\n",
       "      <td>-0.942699</td>\n",
       "      <td>-1.677167</td>\n",
       "    </tr>\n",
       "    <tr>\n",
       "      <td>2013-01-02</td>\n",
       "      <td>-0.531652</td>\n",
       "      <td>-0.774748</td>\n",
       "      <td>1.382277</td>\n",
       "      <td>-0.277493</td>\n",
       "    </tr>\n",
       "    <tr>\n",
       "      <td>2013-01-01</td>\n",
       "      <td>0.313733</td>\n",
       "      <td>-0.590750</td>\n",
       "      <td>-0.403028</td>\n",
       "      <td>-1.513051</td>\n",
       "    </tr>\n",
       "  </tbody>\n",
       "</table>\n",
       "</div>"
      ],
      "text/plain": [
       "                   D         C         B         A\n",
       "2013-01-06 -0.943905  1.582111 -1.081579  0.355253\n",
       "2013-01-05 -2.025417  1.832499 -0.566278  1.229662\n",
       "2013-01-04 -0.614351 -0.653769  0.394869 -0.797266\n",
       "2013-01-03 -0.370175 -0.722414 -0.942699 -1.677167\n",
       "2013-01-02 -0.531652 -0.774748  1.382277 -0.277493\n",
       "2013-01-01  0.313733 -0.590750 -0.403028 -1.513051"
      ]
     },
     "execution_count": 44,
     "metadata": {},
     "output_type": "execute_result"
    }
   ],
   "source": [
    "df.sort_index(axis=1, ascending=False).sort_index(axis=0, ascending=False)"
   ]
  },
  {
   "cell_type": "code",
   "execution_count": 46,
   "metadata": {
    "collapsed": true
   },
   "outputs": [
    {
     "data": {
      "text/html": [
       "<div>\n",
       "<style scoped>\n",
       "    .dataframe tbody tr th:only-of-type {\n",
       "        vertical-align: middle;\n",
       "    }\n",
       "\n",
       "    .dataframe tbody tr th {\n",
       "        vertical-align: top;\n",
       "    }\n",
       "\n",
       "    .dataframe thead th {\n",
       "        text-align: right;\n",
       "    }\n",
       "</style>\n",
       "<table border=\"1\" class=\"dataframe\">\n",
       "  <thead>\n",
       "    <tr style=\"text-align: right;\">\n",
       "      <th></th>\n",
       "      <th>A</th>\n",
       "      <th>B</th>\n",
       "      <th>C</th>\n",
       "      <th>D</th>\n",
       "    </tr>\n",
       "  </thead>\n",
       "  <tbody>\n",
       "    <tr>\n",
       "      <td>2013-01-05</td>\n",
       "      <td>1.229662</td>\n",
       "      <td>-0.566278</td>\n",
       "      <td>1.832499</td>\n",
       "      <td>-2.025417</td>\n",
       "    </tr>\n",
       "    <tr>\n",
       "      <td>2013-01-06</td>\n",
       "      <td>0.355253</td>\n",
       "      <td>-1.081579</td>\n",
       "      <td>1.582111</td>\n",
       "      <td>-0.943905</td>\n",
       "    </tr>\n",
       "    <tr>\n",
       "      <td>2013-01-01</td>\n",
       "      <td>-1.513051</td>\n",
       "      <td>-0.403028</td>\n",
       "      <td>-0.590750</td>\n",
       "      <td>0.313733</td>\n",
       "    </tr>\n",
       "    <tr>\n",
       "      <td>2013-01-04</td>\n",
       "      <td>-0.797266</td>\n",
       "      <td>0.394869</td>\n",
       "      <td>-0.653769</td>\n",
       "      <td>-0.614351</td>\n",
       "    </tr>\n",
       "    <tr>\n",
       "      <td>2013-01-03</td>\n",
       "      <td>-1.677167</td>\n",
       "      <td>-0.942699</td>\n",
       "      <td>-0.722414</td>\n",
       "      <td>-0.370175</td>\n",
       "    </tr>\n",
       "    <tr>\n",
       "      <td>2013-01-02</td>\n",
       "      <td>-0.277493</td>\n",
       "      <td>1.382277</td>\n",
       "      <td>-0.774748</td>\n",
       "      <td>-0.531652</td>\n",
       "    </tr>\n",
       "  </tbody>\n",
       "</table>\n",
       "</div>"
      ],
      "text/plain": [
       "                   A         B         C         D\n",
       "2013-01-05  1.229662 -0.566278  1.832499 -2.025417\n",
       "2013-01-06  0.355253 -1.081579  1.582111 -0.943905\n",
       "2013-01-01 -1.513051 -0.403028 -0.590750  0.313733\n",
       "2013-01-04 -0.797266  0.394869 -0.653769 -0.614351\n",
       "2013-01-03 -1.677167 -0.942699 -0.722414 -0.370175\n",
       "2013-01-02 -0.277493  1.382277 -0.774748 -0.531652"
      ]
     },
     "execution_count": 46,
     "metadata": {},
     "output_type": "execute_result"
    }
   ],
   "source": [
    "df.sort_values(by='C', ascending=False)"
   ]
  },
  {
   "cell_type": "code",
   "execution_count": 121,
   "metadata": {
    "collapsed": true
   },
   "outputs": [
    {
     "data": {
      "text/html": [
       "<div>\n",
       "<style scoped>\n",
       "    .dataframe tbody tr th:only-of-type {\n",
       "        vertical-align: middle;\n",
       "    }\n",
       "\n",
       "    .dataframe tbody tr th {\n",
       "        vertical-align: top;\n",
       "    }\n",
       "\n",
       "    .dataframe thead th {\n",
       "        text-align: right;\n",
       "    }\n",
       "</style>\n",
       "<table border=\"1\" class=\"dataframe\">\n",
       "  <thead>\n",
       "    <tr style=\"text-align: right;\">\n",
       "      <th></th>\n",
       "      <th>A</th>\n",
       "      <th>B</th>\n",
       "      <th>C</th>\n",
       "      <th>D</th>\n",
       "      <th>Append</th>\n",
       "    </tr>\n",
       "  </thead>\n",
       "  <tbody>\n",
       "    <tr>\n",
       "      <td>0</td>\n",
       "      <td>0.000000</td>\n",
       "      <td>1.855360</td>\n",
       "      <td>3.001522</td>\n",
       "      <td>-1.607199</td>\n",
       "      <td>Mark</td>\n",
       "    </tr>\n",
       "    <tr>\n",
       "      <td>1</td>\n",
       "      <td>-1.155055</td>\n",
       "      <td>0.000000</td>\n",
       "      <td>1.638626</td>\n",
       "      <td>-0.262791</td>\n",
       "      <td>N</td>\n",
       "    </tr>\n",
       "    <tr>\n",
       "      <td>2</td>\n",
       "      <td>-0.766153</td>\n",
       "      <td>-0.499499</td>\n",
       "      <td>0.000000</td>\n",
       "      <td>-0.424870</td>\n",
       "      <td>M</td>\n",
       "    </tr>\n",
       "    <tr>\n",
       "      <td>3</td>\n",
       "      <td>-1.925768</td>\n",
       "      <td>-0.656789</td>\n",
       "      <td>0.035512</td>\n",
       "      <td>0.000000</td>\n",
       "      <td>T</td>\n",
       "    </tr>\n",
       "    <tr>\n",
       "      <td>4</td>\n",
       "      <td>-0.035881</td>\n",
       "      <td>1.788810</td>\n",
       "      <td>0.515268</td>\n",
       "      <td>0.472168</td>\n",
       "      <td>0</td>\n",
       "    </tr>\n",
       "    <tr>\n",
       "      <td>5</td>\n",
       "      <td>0.397780</td>\n",
       "      <td>0.277218</td>\n",
       "      <td>0.607874</td>\n",
       "      <td>-0.879547</td>\n",
       "      <td>5</td>\n",
       "    </tr>\n",
       "    <tr>\n",
       "      <td>6</td>\n",
       "      <td>-1.925768</td>\n",
       "      <td>-0.656789</td>\n",
       "      <td>0.035512</td>\n",
       "      <td>0.000000</td>\n",
       "      <td>T</td>\n",
       "    </tr>\n",
       "  </tbody>\n",
       "</table>\n",
       "</div>"
      ],
      "text/plain": [
       "          A         B         C         D Append\n",
       "0  0.000000  1.855360  3.001522 -1.607199   Mark\n",
       "1 -1.155055  0.000000  1.638626 -0.262791      N\n",
       "2 -0.766153 -0.499499  0.000000 -0.424870      M\n",
       "3 -1.925768 -0.656789  0.035512  0.000000      T\n",
       "4 -0.035881  1.788810  0.515268  0.472168      0\n",
       "5  0.397780  0.277218  0.607874 -0.879547      5\n",
       "6 -1.925768 -0.656789  0.035512  0.000000      T"
      ]
     },
     "execution_count": 121,
     "metadata": {},
     "output_type": "execute_result"
    }
   ],
   "source": [
    "stmp = df.iloc[3]\n",
    "df.append(stmp, ignore_index=True)"
   ]
  },
  {
   "cell_type": "code",
   "execution_count": 210,
   "metadata": {
    "collapsed": true
   },
   "outputs": [
    {
     "data": {
      "text/html": [
       "<div>\n",
       "<style scoped>\n",
       "    .dataframe tbody tr th:only-of-type {\n",
       "        vertical-align: middle;\n",
       "    }\n",
       "\n",
       "    .dataframe tbody tr th {\n",
       "        vertical-align: top;\n",
       "    }\n",
       "\n",
       "    .dataframe thead th {\n",
       "        text-align: right;\n",
       "    }\n",
       "</style>\n",
       "<table border=\"1\" class=\"dataframe\">\n",
       "  <thead>\n",
       "    <tr style=\"text-align: right;\">\n",
       "      <th></th>\n",
       "      <th>A</th>\n",
       "      <th>B</th>\n",
       "      <th>C</th>\n",
       "      <th>D</th>\n",
       "      <th>Append</th>\n",
       "      <th>AC</th>\n",
       "    </tr>\n",
       "  </thead>\n",
       "  <tbody>\n",
       "    <tr>\n",
       "      <td>2013-01-01</td>\n",
       "      <td>0.000000</td>\n",
       "      <td>1.855360</td>\n",
       "      <td>3.001522</td>\n",
       "      <td>-1.607199</td>\n",
       "      <td>Mark</td>\n",
       "      <td>3.001522</td>\n",
       "    </tr>\n",
       "    <tr>\n",
       "      <td>2013-01-02</td>\n",
       "      <td>-1.155055</td>\n",
       "      <td>0.000000</td>\n",
       "      <td>1.638626</td>\n",
       "      <td>-0.262791</td>\n",
       "      <td>N</td>\n",
       "      <td>0.483570</td>\n",
       "    </tr>\n",
       "    <tr>\n",
       "      <td>2013-01-03</td>\n",
       "      <td>-0.766153</td>\n",
       "      <td>-0.499499</td>\n",
       "      <td>0.000000</td>\n",
       "      <td>-0.424870</td>\n",
       "      <td>M</td>\n",
       "      <td>-0.766153</td>\n",
       "    </tr>\n",
       "    <tr>\n",
       "      <td>2013-01-04</td>\n",
       "      <td>-1.925768</td>\n",
       "      <td>-0.656789</td>\n",
       "      <td>0.035512</td>\n",
       "      <td>0.000000</td>\n",
       "      <td>T</td>\n",
       "      <td>-1.890257</td>\n",
       "    </tr>\n",
       "    <tr>\n",
       "      <td>2013-01-05</td>\n",
       "      <td>-0.035881</td>\n",
       "      <td>1.788810</td>\n",
       "      <td>0.515268</td>\n",
       "      <td>0.472168</td>\n",
       "      <td>0</td>\n",
       "      <td>0.479387</td>\n",
       "    </tr>\n",
       "    <tr>\n",
       "      <td>2013-01-06</td>\n",
       "      <td>0.397780</td>\n",
       "      <td>0.277218</td>\n",
       "      <td>0.607874</td>\n",
       "      <td>-0.879547</td>\n",
       "      <td>5</td>\n",
       "      <td>1.005654</td>\n",
       "    </tr>\n",
       "  </tbody>\n",
       "</table>\n",
       "</div>"
      ],
      "text/plain": [
       "                   A         B         C         D Append        AC\n",
       "2013-01-01  0.000000  1.855360  3.001522 -1.607199   Mark  3.001522\n",
       "2013-01-02 -1.155055  0.000000  1.638626 -0.262791      N  0.483570\n",
       "2013-01-03 -0.766153 -0.499499  0.000000 -0.424870      M -0.766153\n",
       "2013-01-04 -1.925768 -0.656789  0.035512  0.000000      T -1.890257\n",
       "2013-01-05 -0.035881  1.788810  0.515268  0.472168      0  0.479387\n",
       "2013-01-06  0.397780  0.277218  0.607874 -0.879547      5  1.005654"
      ]
     },
     "execution_count": 210,
     "metadata": {},
     "output_type": "execute_result"
    }
   ],
   "source": [
    "df.assign(AC=lambda x: (x['A'] + x['C']))"
   ]
  },
  {
   "cell_type": "code",
   "execution_count": null,
   "metadata": {},
   "outputs": [],
   "source": [
    "df.align(df2, join='inner', axis=0)\n",
    "join='outer'\n",
    "join='left'\n",
    "join='right'"
   ]
  },
  {
   "cell_type": "code",
   "execution_count": null,
   "metadata": {},
   "outputs": [],
   "source": [
    "df.drop(['a', 'd'], axis=0)\n",
    "df2.dropna(how='any')"
   ]
  },
  {
   "cell_type": "code",
   "execution_count": null,
   "metadata": {},
   "outputs": [],
   "source": [
    "df2 = df.reindex(index=dates[0:4], columns=list(df.columns) + ['E'])\n",
    "df2"
   ]
  },
  {
   "cell_type": "code",
   "execution_count": null,
   "metadata": {},
   "outputs": [],
   "source": [
    "df.transform(np.abs)\n",
    "df.transform('abs')\n",
    "df.transform([np.abs, lambda x: x + 1])\n",
    "tsdf.transform({'A': np.abs, 'B': lambda x: x + 1})\n",
    "df.transform({'A': np.abs, 'B': [lambda x: x + 1, 'sqrt']})"
   ]
  },
  {
   "cell_type": "code",
   "execution_count": null,
   "metadata": {},
   "outputs": [],
   "source": [
    "df.applymap(f)"
   ]
  },
  {
   "cell_type": "code",
   "execution_count": 213,
   "metadata": {
    "collapsed": true
   },
   "outputs": [
    {
     "data": {
      "text/html": [
       "<div>\n",
       "<style scoped>\n",
       "    .dataframe tbody tr th:only-of-type {\n",
       "        vertical-align: middle;\n",
       "    }\n",
       "\n",
       "    .dataframe tbody tr th {\n",
       "        vertical-align: top;\n",
       "    }\n",
       "\n",
       "    .dataframe thead th {\n",
       "        text-align: right;\n",
       "    }\n",
       "</style>\n",
       "<table border=\"1\" class=\"dataframe\">\n",
       "  <thead>\n",
       "    <tr style=\"text-align: right;\">\n",
       "      <th></th>\n",
       "      <th>A</th>\n",
       "      <th>B</th>\n",
       "      <th>C</th>\n",
       "      <th>D</th>\n",
       "      <th>Append</th>\n",
       "    </tr>\n",
       "  </thead>\n",
       "  <tbody>\n",
       "    <tr>\n",
       "      <td>2013-01-02</td>\n",
       "      <td>-1.155055</td>\n",
       "      <td>0.000000</td>\n",
       "      <td>1.638626</td>\n",
       "      <td>-0.262791</td>\n",
       "      <td>N</td>\n",
       "    </tr>\n",
       "    <tr>\n",
       "      <td>2013-01-04</td>\n",
       "      <td>-1.925768</td>\n",
       "      <td>-0.656789</td>\n",
       "      <td>0.035512</td>\n",
       "      <td>0.000000</td>\n",
       "      <td>T</td>\n",
       "    </tr>\n",
       "    <tr>\n",
       "      <td>2013-01-05</td>\n",
       "      <td>-0.035881</td>\n",
       "      <td>1.788810</td>\n",
       "      <td>0.515268</td>\n",
       "      <td>0.472168</td>\n",
       "      <td>0</td>\n",
       "    </tr>\n",
       "  </tbody>\n",
       "</table>\n",
       "</div>"
      ],
      "text/plain": [
       "                   A         B         C         D Append\n",
       "2013-01-02 -1.155055  0.000000  1.638626 -0.262791      N\n",
       "2013-01-04 -1.925768 -0.656789  0.035512  0.000000      T\n",
       "2013-01-05 -0.035881  1.788810  0.515268  0.472168      0"
      ]
     },
     "execution_count": 213,
     "metadata": {},
     "output_type": "execute_result"
    }
   ],
   "source": [
    "df.query('A < 0 and C > 0')"
   ]
  },
  {
   "cell_type": "code",
   "execution_count": null,
   "metadata": {},
   "outputs": [],
   "source": [
    "df.groupby('A').sum()\n",
    "df.groupby(['A', 'B']).sum()"
   ]
  },
  {
   "cell_type": "code",
   "execution_count": null,
   "metadata": {},
   "outputs": [],
   "source": [
    "df.agg(np.sum)\n",
    "df.agg('sum')\n",
    "df.agg(['sum', 'mean'])\n",
    "tsdf.agg({'A': 'mean', 'B': 'sum'})"
   ]
  },
  {
   "cell_type": "code",
   "execution_count": null,
   "metadata": {},
   "outputs": [],
   "source": [
    "df.apply(np.mean, axis=1)\n",
    "df.apply('mean', axis=1)"
   ]
  },
  {
   "cell_type": "code",
   "execution_count": null,
   "metadata": {},
   "outputs": [],
   "source": [
    "(df.pipe(h).pipe(g, arg1=1).pipe(f, arg2=2, arg3=3))\n",
    "f(g(h(df), arg1=1), arg2=2, arg3=3)"
   ]
  },
  {
   "cell_type": "markdown",
   "metadata": {},
   "source": [
    "### Setting"
   ]
  },
  {
   "cell_type": "markdown",
   "metadata": {},
   "source": [
    "#### value setting in-place"
   ]
  },
  {
   "cell_type": "code",
   "execution_count": 95,
   "metadata": {
    "collapsed": true
   },
   "outputs": [
    {
     "data": {
      "text/plain": [
       "0.0"
      ]
     },
     "execution_count": 95,
     "metadata": {},
     "output_type": "execute_result"
    }
   ],
   "source": [
    "df.at[dates[0], 'A'] = 0\n",
    "df.iloc[0,0]"
   ]
  },
  {
   "cell_type": "code",
   "execution_count": 96,
   "metadata": {
    "collapsed": true
   },
   "outputs": [
    {
     "data": {
      "text/html": [
       "<div>\n",
       "<style scoped>\n",
       "    .dataframe tbody tr th:only-of-type {\n",
       "        vertical-align: middle;\n",
       "    }\n",
       "\n",
       "    .dataframe tbody tr th {\n",
       "        vertical-align: top;\n",
       "    }\n",
       "\n",
       "    .dataframe thead th {\n",
       "        text-align: right;\n",
       "    }\n",
       "</style>\n",
       "<table border=\"1\" class=\"dataframe\">\n",
       "  <thead>\n",
       "    <tr style=\"text-align: right;\">\n",
       "      <th></th>\n",
       "      <th>A</th>\n",
       "      <th>B</th>\n",
       "      <th>C</th>\n",
       "      <th>D</th>\n",
       "      <th>Append</th>\n",
       "    </tr>\n",
       "  </thead>\n",
       "  <tbody>\n",
       "    <tr>\n",
       "      <td>2013-01-01</td>\n",
       "      <td>0.000000</td>\n",
       "      <td>1.855360</td>\n",
       "      <td>3.001522</td>\n",
       "      <td>-1.607199</td>\n",
       "      <td>Mark</td>\n",
       "    </tr>\n",
       "    <tr>\n",
       "      <td>2013-01-02</td>\n",
       "      <td>-1.155055</td>\n",
       "      <td>0.000000</td>\n",
       "      <td>1.638626</td>\n",
       "      <td>-0.262791</td>\n",
       "      <td>N</td>\n",
       "    </tr>\n",
       "    <tr>\n",
       "      <td>2013-01-03</td>\n",
       "      <td>-0.766153</td>\n",
       "      <td>-0.499499</td>\n",
       "      <td>0.000000</td>\n",
       "      <td>-0.424870</td>\n",
       "      <td>M</td>\n",
       "    </tr>\n",
       "    <tr>\n",
       "      <td>2013-01-04</td>\n",
       "      <td>-1.925768</td>\n",
       "      <td>-0.656789</td>\n",
       "      <td>0.035512</td>\n",
       "      <td>0.000000</td>\n",
       "      <td>T</td>\n",
       "    </tr>\n",
       "    <tr>\n",
       "      <td>2013-01-05</td>\n",
       "      <td>-0.035881</td>\n",
       "      <td>1.788810</td>\n",
       "      <td>0.515268</td>\n",
       "      <td>0.472168</td>\n",
       "      <td>0</td>\n",
       "    </tr>\n",
       "    <tr>\n",
       "      <td>2013-01-06</td>\n",
       "      <td>0.397780</td>\n",
       "      <td>0.277218</td>\n",
       "      <td>0.607874</td>\n",
       "      <td>-0.879547</td>\n",
       "      <td>5</td>\n",
       "    </tr>\n",
       "  </tbody>\n",
       "</table>\n",
       "</div>"
      ],
      "text/plain": [
       "                   A         B         C         D Append\n",
       "2013-01-01  0.000000  1.855360  3.001522 -1.607199   Mark\n",
       "2013-01-02 -1.155055  0.000000  1.638626 -0.262791      N\n",
       "2013-01-03 -0.766153 -0.499499  0.000000 -0.424870      M\n",
       "2013-01-04 -1.925768 -0.656789  0.035512  0.000000      T\n",
       "2013-01-05 -0.035881  1.788810  0.515268  0.472168      0\n",
       "2013-01-06  0.397780  0.277218  0.607874 -0.879547      5"
      ]
     },
     "execution_count": 96,
     "metadata": {},
     "output_type": "execute_result"
    }
   ],
   "source": [
    "for i in range(5):\n",
    "    df.iloc[i,i] = 0\n",
    "df"
   ]
  },
  {
   "cell_type": "markdown",
   "metadata": {},
   "source": [
    "#### value setting in-copy"
   ]
  },
  {
   "cell_type": "code",
   "execution_count": 106,
   "metadata": {
    "collapsed": true
   },
   "outputs": [
    {
     "data": {
      "text/html": [
       "<div>\n",
       "<style scoped>\n",
       "    .dataframe tbody tr th:only-of-type {\n",
       "        vertical-align: middle;\n",
       "    }\n",
       "\n",
       "    .dataframe tbody tr th {\n",
       "        vertical-align: top;\n",
       "    }\n",
       "\n",
       "    .dataframe thead th {\n",
       "        text-align: right;\n",
       "    }\n",
       "</style>\n",
       "<table border=\"1\" class=\"dataframe\">\n",
       "  <thead>\n",
       "    <tr style=\"text-align: right;\">\n",
       "      <th></th>\n",
       "      <th>A</th>\n",
       "      <th>B</th>\n",
       "      <th>C</th>\n",
       "      <th>D</th>\n",
       "      <th>Append</th>\n",
       "      <th>E</th>\n",
       "    </tr>\n",
       "  </thead>\n",
       "  <tbody>\n",
       "    <tr>\n",
       "      <td>2013-01-01</td>\n",
       "      <td>0.000000</td>\n",
       "      <td>1.855360</td>\n",
       "      <td>3.001522</td>\n",
       "      <td>-1.607199</td>\n",
       "      <td>Mark</td>\n",
       "      <td>string</td>\n",
       "    </tr>\n",
       "    <tr>\n",
       "      <td>2013-01-02</td>\n",
       "      <td>-1.155055</td>\n",
       "      <td>0.000000</td>\n",
       "      <td>1.638626</td>\n",
       "      <td>-0.262791</td>\n",
       "      <td>N</td>\n",
       "      <td>string</td>\n",
       "    </tr>\n",
       "    <tr>\n",
       "      <td>2013-01-03</td>\n",
       "      <td>-0.766153</td>\n",
       "      <td>-0.499499</td>\n",
       "      <td>0.000000</td>\n",
       "      <td>-0.424870</td>\n",
       "      <td>M</td>\n",
       "      <td>string</td>\n",
       "    </tr>\n",
       "    <tr>\n",
       "      <td>2013-01-04</td>\n",
       "      <td>-1.925768</td>\n",
       "      <td>-0.656789</td>\n",
       "      <td>0.035512</td>\n",
       "      <td>0.000000</td>\n",
       "      <td>T</td>\n",
       "      <td>string</td>\n",
       "    </tr>\n",
       "  </tbody>\n",
       "</table>\n",
       "</div>"
      ],
      "text/plain": [
       "                   A         B         C         D Append       E\n",
       "2013-01-01  0.000000  1.855360  3.001522 -1.607199   Mark  string\n",
       "2013-01-02 -1.155055  0.000000  1.638626 -0.262791      N  string\n",
       "2013-01-03 -0.766153 -0.499499  0.000000 -0.424870      M  string\n",
       "2013-01-04 -1.925768 -0.656789  0.035512  0.000000      T  string"
      ]
     },
     "execution_count": 106,
     "metadata": {},
     "output_type": "execute_result"
    }
   ],
   "source": [
    "df2.fillna('string')"
   ]
  },
  {
   "cell_type": "markdown",
   "metadata": {},
   "source": [
    "### Analytic"
   ]
  },
  {
   "cell_type": "code",
   "execution_count": null,
   "metadata": {},
   "outputs": [],
   "source": [
    "df.describe()"
   ]
  },
  {
   "cell_type": "code",
   "execution_count": 183,
   "metadata": {
    "collapsed": true
   },
   "outputs": [
    {
     "data": {
      "text/plain": [
       "(A   -0.401017\n",
       " B    0.138609\n",
       " C    0.561571\n",
       " D   -0.343831\n",
       " Name: 0.5, dtype: float64, 2013-01-01    0.927680\n",
       " 2013-01-02   -0.131396\n",
       " 2013-01-03   -0.462185\n",
       " 2013-01-04   -0.328395\n",
       " 2013-01-05    0.493718\n",
       " 2013-01-06    0.337499\n",
       " Freq: D, Name: 0.5, dtype: float64)"
      ]
     },
     "execution_count": 183,
     "metadata": {},
     "output_type": "execute_result"
    }
   ],
   "source": [
    "df.mean(), df.mean(1)\n",
    "df.sum(), df.sum(1)\n",
    "df.quantile(), df.quantile(axis=1)"
   ]
  },
  {
   "cell_type": "markdown",
   "metadata": {},
   "source": [
    "count Number of non-NA observations\n",
    "sum Sum of values\n",
    "mean Mean of values\n",
    "mad Mean absolute deviation\n",
    "median Arithmetic median of values\n",
    "min Minimum\n",
    "max Maximum\n",
    "mode Mode\n",
    "abs Absolute Value\n",
    "prod Product of values\n",
    "std Bessel-corrected sample standard deviation\n",
    "var Unbiased variance\n",
    "sem Standard error of the mean\n",
    "skew Sample skewness (3rd moment)\n",
    "kurt Sample kurtosis (4th moment)\n",
    "quantile Sample quantile (value at %)\n",
    "cumsum Cumulative sum\n",
    "cumprod Cumulative product\n",
    "cummax Cumulative maximum\n",
    "cummin Cumulative minimum"
   ]
  },
  {
   "cell_type": "code",
   "execution_count": 114,
   "metadata": {
    "collapsed": true
   },
   "outputs": [
    {
     "data": {
      "text/html": [
       "<div>\n",
       "<style scoped>\n",
       "    .dataframe tbody tr th:only-of-type {\n",
       "        vertical-align: middle;\n",
       "    }\n",
       "\n",
       "    .dataframe tbody tr th {\n",
       "        vertical-align: top;\n",
       "    }\n",
       "\n",
       "    .dataframe thead th {\n",
       "        text-align: right;\n",
       "    }\n",
       "</style>\n",
       "<table border=\"1\" class=\"dataframe\">\n",
       "  <thead>\n",
       "    <tr style=\"text-align: right;\">\n",
       "      <th></th>\n",
       "      <th>A</th>\n",
       "      <th>B</th>\n",
       "      <th>C</th>\n",
       "      <th>D</th>\n",
       "      <th>Append</th>\n",
       "    </tr>\n",
       "  </thead>\n",
       "  <tbody>\n",
       "    <tr>\n",
       "      <td>2013-01-01</td>\n",
       "      <td>0.000000</td>\n",
       "      <td>1.855360</td>\n",
       "      <td>3.001522</td>\n",
       "      <td>-1.607199</td>\n",
       "      <td>Mark</td>\n",
       "    </tr>\n",
       "    <tr>\n",
       "      <td>2013-01-02</td>\n",
       "      <td>-1.155055</td>\n",
       "      <td>0.000000</td>\n",
       "      <td>1.638626</td>\n",
       "      <td>-0.262791</td>\n",
       "      <td>N</td>\n",
       "    </tr>\n",
       "    <tr>\n",
       "      <td>2013-01-03</td>\n",
       "      <td>-0.766153</td>\n",
       "      <td>-0.499499</td>\n",
       "      <td>0.000000</td>\n",
       "      <td>-0.424870</td>\n",
       "      <td>M</td>\n",
       "    </tr>\n",
       "    <tr>\n",
       "      <td>2013-01-04</td>\n",
       "      <td>-1.925768</td>\n",
       "      <td>-0.656789</td>\n",
       "      <td>0.035512</td>\n",
       "      <td>0.000000</td>\n",
       "      <td>T</td>\n",
       "    </tr>\n",
       "    <tr>\n",
       "      <td>2013-01-05</td>\n",
       "      <td>-0.035881</td>\n",
       "      <td>1.788810</td>\n",
       "      <td>0.515268</td>\n",
       "      <td>0.472168</td>\n",
       "      <td>0</td>\n",
       "    </tr>\n",
       "    <tr>\n",
       "      <td>2013-01-06</td>\n",
       "      <td>0.397780</td>\n",
       "      <td>0.277218</td>\n",
       "      <td>0.607874</td>\n",
       "      <td>-0.879547</td>\n",
       "      <td>5</td>\n",
       "    </tr>\n",
       "  </tbody>\n",
       "</table>\n",
       "</div>"
      ],
      "text/plain": [
       "                   A         B         C         D Append\n",
       "2013-01-01  0.000000  1.855360  3.001522 -1.607199   Mark\n",
       "2013-01-02 -1.155055  0.000000  1.638626 -0.262791      N\n",
       "2013-01-03 -0.766153 -0.499499  0.000000 -0.424870      M\n",
       "2013-01-04 -1.925768 -0.656789  0.035512  0.000000      T\n",
       "2013-01-05 -0.035881  1.788810  0.515268  0.472168      0\n",
       "2013-01-06  0.397780  0.277218  0.607874 -0.879547      5"
      ]
     },
     "execution_count": 114,
     "metadata": {},
     "output_type": "execute_result"
    }
   ],
   "source": [
    "df"
   ]
  },
  {
   "cell_type": "code",
   "execution_count": 116,
   "metadata": {
    "collapsed": true
   },
   "outputs": [
    {
     "data": {
      "text/plain": [
       "A    2.323549\n",
       "B    2.512149\n",
       "C    3.001522\n",
       "D    2.079367\n",
       "dtype: float64"
      ]
     },
     "execution_count": 116,
     "metadata": {},
     "output_type": "execute_result"
    }
   ],
   "source": [
    "df.iloc[:, 0:4].apply(lambda x: x.max() - x.min())"
   ]
  },
  {
   "cell_type": "code",
   "execution_count": 143,
   "metadata": {
    "collapsed": true
   },
   "outputs": [
    {
     "data": {
      "text/plain": [
       "<matplotlib.axes._subplots.AxesSubplot at 0x18b00ff4710>"
      ]
     },
     "execution_count": 143,
     "metadata": {},
     "output_type": "execute_result"
    },
    {
     "data": {
      "image/png": "[encoded data removed]",
      "text/plain": [
       "<Figure size 432x288 with 1 Axes>"
      ]
     },
     "metadata": {
      "needs_background": "light"
     },
     "output_type": "display_data"
    }
   ],
   "source": [
    "df.iloc[:, 0:4].plot()"
   ]
  },
  {
   "cell_type": "markdown",
   "metadata": {},
   "source": [
    "## Ingestion APIs"
   ]
  },
  {
   "cell_type": "markdown",
   "metadata": {
    "heading_collapsed": true
   },
   "source": [
    "### MySQl"
   ]
  },
  {
   "cell_type": "code",
   "execution_count": 221,
   "metadata": {
    "hidden": true
   },
   "outputs": [],
   "source": [
    "import pandas as pd\n",
    "from sqlalchemy import create_engine"
   ]
  },
  {
   "cell_type": "code",
   "execution_count": 223,
   "metadata": {
    "hidden": true
   },
   "outputs": [],
   "source": [
    "alchemyconfig = {\n",
    "    'user': 'root',\n",
    "    'passw': 'root1MYSQL',\n",
    "    'host': '127.0.0.1',\n",
    "    'port': 3306,\n",
    "    'database': 'pandasdb'\n",
    "}\n",
    "\n",
    "alchemyURL= 'mysql+mysqlconnector://{user}:{passw}@{host}/{database}'.format(**alchemyconfig)\n",
    "\n",
    "mydb = create_engine(alchemyURL, echo=False)"
   ]
  },
  {
   "cell_type": "code",
   "execution_count": 224,
   "metadata": {
    "hidden": true
   },
   "outputs": [],
   "source": [
    "dbdf = pd.read_sql_query(\"SELECT * FROM past_due\", mydb)"
   ]
  },
  {
   "cell_type": "code",
   "execution_count": 226,
   "metadata": {
    "collapsed": true,
    "hidden": true
   },
   "outputs": [
    {
     "name": "stdout",
     "output_type": "stream",
     "text": [
      "<class 'pandas.core.frame.DataFrame'>\n",
      "RangeIndex: 143712 entries, 0 to 143711\n",
      "Data columns (total 3 columns):\n",
      "id             143712 non-null object\n",
      "report_date    143712 non-null object\n",
      "past_due       143712 non-null object\n",
      "dtypes: object(3)\n",
      "memory usage: 3.3+ MB\n"
     ]
    }
   ],
   "source": [
    "dbdf.info()"
   ]
  },
  {
   "cell_type": "markdown",
   "metadata": {
    "heading_collapsed": true
   },
   "source": [
    "### csv"
   ]
  },
  {
   "cell_type": "code",
   "execution_count": 157,
   "metadata": {
    "hidden": true
   },
   "outputs": [],
   "source": [
    "df4 = pd.read_csv('Data/foo.csv', index_col=0)"
   ]
  },
  {
   "cell_type": "code",
   "execution_count": 158,
   "metadata": {
    "collapsed": true,
    "hidden": true
   },
   "outputs": [
    {
     "data": {
      "text/html": [
       "<div>\n",
       "<style scoped>\n",
       "    .dataframe tbody tr th:only-of-type {\n",
       "        vertical-align: middle;\n",
       "    }\n",
       "\n",
       "    .dataframe tbody tr th {\n",
       "        vertical-align: top;\n",
       "    }\n",
       "\n",
       "    .dataframe thead th {\n",
       "        text-align: right;\n",
       "    }\n",
       "</style>\n",
       "<table border=\"1\" class=\"dataframe\">\n",
       "  <thead>\n",
       "    <tr style=\"text-align: right;\">\n",
       "      <th></th>\n",
       "      <th>A</th>\n",
       "      <th>B</th>\n",
       "      <th>C</th>\n",
       "      <th>D</th>\n",
       "      <th>Append</th>\n",
       "    </tr>\n",
       "  </thead>\n",
       "  <tbody>\n",
       "    <tr>\n",
       "      <td>2013-01-01</td>\n",
       "      <td>0.000000</td>\n",
       "      <td>1.855360</td>\n",
       "      <td>3.001522</td>\n",
       "      <td>-1.607199</td>\n",
       "      <td>Mark</td>\n",
       "    </tr>\n",
       "    <tr>\n",
       "      <td>2013-01-02</td>\n",
       "      <td>-1.155055</td>\n",
       "      <td>0.000000</td>\n",
       "      <td>1.638626</td>\n",
       "      <td>-0.262791</td>\n",
       "      <td>N</td>\n",
       "    </tr>\n",
       "    <tr>\n",
       "      <td>2013-01-03</td>\n",
       "      <td>-0.766153</td>\n",
       "      <td>-0.499499</td>\n",
       "      <td>0.000000</td>\n",
       "      <td>-0.424870</td>\n",
       "      <td>M</td>\n",
       "    </tr>\n",
       "    <tr>\n",
       "      <td>2013-01-04</td>\n",
       "      <td>-1.925768</td>\n",
       "      <td>-0.656789</td>\n",
       "      <td>0.035512</td>\n",
       "      <td>0.000000</td>\n",
       "      <td>T</td>\n",
       "    </tr>\n",
       "    <tr>\n",
       "      <td>2013-01-05</td>\n",
       "      <td>-0.035881</td>\n",
       "      <td>1.788810</td>\n",
       "      <td>0.515268</td>\n",
       "      <td>0.472168</td>\n",
       "      <td>0</td>\n",
       "    </tr>\n",
       "    <tr>\n",
       "      <td>2013-01-06</td>\n",
       "      <td>0.397780</td>\n",
       "      <td>0.277218</td>\n",
       "      <td>0.607874</td>\n",
       "      <td>-0.879547</td>\n",
       "      <td>5</td>\n",
       "    </tr>\n",
       "  </tbody>\n",
       "</table>\n",
       "</div>"
      ],
      "text/plain": [
       "                   A         B         C         D Append\n",
       "2013-01-01  0.000000  1.855360  3.001522 -1.607199   Mark\n",
       "2013-01-02 -1.155055  0.000000  1.638626 -0.262791      N\n",
       "2013-01-03 -0.766153 -0.499499  0.000000 -0.424870      M\n",
       "2013-01-04 -1.925768 -0.656789  0.035512  0.000000      T\n",
       "2013-01-05 -0.035881  1.788810  0.515268  0.472168      0\n",
       "2013-01-06  0.397780  0.277218  0.607874 -0.879547      5"
      ]
     },
     "execution_count": 158,
     "metadata": {},
     "output_type": "execute_result"
    }
   ],
   "source": [
    "df4"
   ]
  },
  {
   "cell_type": "code",
   "execution_count": null,
   "metadata": {
    "hidden": true
   },
   "outputs": [],
   "source": []
  },
  {
   "cell_type": "markdown",
   "metadata": {},
   "source": [
    "### json"
   ]
  },
  {
   "cell_type": "code",
   "execution_count": 164,
   "metadata": {
    "scrolled": true
   },
   "outputs": [
    {
     "data": {
      "text/html": [
       "<div>\n",
       "<style scoped>\n",
       "    .dataframe tbody tr th:only-of-type {\n",
       "        vertical-align: middle;\n",
       "    }\n",
       "\n",
       "    .dataframe tbody tr th {\n",
       "        vertical-align: top;\n",
       "    }\n",
       "\n",
       "    .dataframe thead th {\n",
       "        text-align: right;\n",
       "    }\n",
       "</style>\n",
       "<table border=\"1\" class=\"dataframe\">\n",
       "  <thead>\n",
       "    <tr style=\"text-align: right;\">\n",
       "      <th></th>\n",
       "      <th>A</th>\n",
       "      <th>B</th>\n",
       "      <th>C</th>\n",
       "      <th>D</th>\n",
       "      <th>Append</th>\n",
       "    </tr>\n",
       "  </thead>\n",
       "  <tbody>\n",
       "    <tr>\n",
       "      <td>2013-01-01</td>\n",
       "      <td>0.000000</td>\n",
       "      <td>1.855360</td>\n",
       "      <td>3.001522</td>\n",
       "      <td>-1.607199</td>\n",
       "      <td>Mark</td>\n",
       "    </tr>\n",
       "    <tr>\n",
       "      <td>2013-01-02</td>\n",
       "      <td>-1.155055</td>\n",
       "      <td>0.000000</td>\n",
       "      <td>1.638626</td>\n",
       "      <td>-0.262791</td>\n",
       "      <td>N</td>\n",
       "    </tr>\n",
       "    <tr>\n",
       "      <td>2013-01-03</td>\n",
       "      <td>-0.766153</td>\n",
       "      <td>-0.499499</td>\n",
       "      <td>0.000000</td>\n",
       "      <td>-0.424870</td>\n",
       "      <td>M</td>\n",
       "    </tr>\n",
       "    <tr>\n",
       "      <td>2013-01-04</td>\n",
       "      <td>-1.925768</td>\n",
       "      <td>-0.656789</td>\n",
       "      <td>0.035512</td>\n",
       "      <td>0.000000</td>\n",
       "      <td>T</td>\n",
       "    </tr>\n",
       "    <tr>\n",
       "      <td>2013-01-05</td>\n",
       "      <td>-0.035881</td>\n",
       "      <td>1.788810</td>\n",
       "      <td>0.515268</td>\n",
       "      <td>0.472168</td>\n",
       "      <td>0</td>\n",
       "    </tr>\n",
       "    <tr>\n",
       "      <td>2013-01-06</td>\n",
       "      <td>0.397780</td>\n",
       "      <td>0.277218</td>\n",
       "      <td>0.607874</td>\n",
       "      <td>-0.879547</td>\n",
       "      <td>5</td>\n",
       "    </tr>\n",
       "  </tbody>\n",
       "</table>\n",
       "</div>"
      ],
      "text/plain": [
       "                   A         B         C         D Append\n",
       "2013-01-01  0.000000  1.855360  3.001522 -1.607199   Mark\n",
       "2013-01-02 -1.155055  0.000000  1.638626 -0.262791      N\n",
       "2013-01-03 -0.766153 -0.499499  0.000000 -0.424870      M\n",
       "2013-01-04 -1.925768 -0.656789  0.035512  0.000000      T\n",
       "2013-01-05 -0.035881  1.788810  0.515268  0.472168      0\n",
       "2013-01-06  0.397780  0.277218  0.607874 -0.879547      5"
      ]
     },
     "execution_count": 164,
     "metadata": {},
     "output_type": "execute_result"
    }
   ],
   "source": [
    "df5 = pd.read_json('Data/foo.json')\n",
    "df5"
   ]
  },
  {
   "cell_type": "code",
   "execution_count": 9,
   "metadata": {},
   "outputs": [],
   "source": [
    "import pandas.io.json as json"
   ]
  },
  {
   "cell_type": "code",
   "execution_count": 160,
   "metadata": {},
   "outputs": [],
   "source": [
    "jsondata = ata = [{\n",
    " 'CreatedBy': {'Name': 'User001'},\n",
    " 'Lookup': {'TextField': 'Some text',\n",
    "                 'UserField': {'Id': 'ID001', 'Name': 'Name001'}},\n",
    " 'Image': {'a': 'b'}\n",
    " }]\n",
    "                 "
   ]
  },
  {
   "cell_type": "code",
   "execution_count": 11,
   "metadata": {
    "collapsed": true
   },
   "outputs": [
    {
     "data": {
      "text/html": [
       "<div>\n",
       "<style scoped>\n",
       "    .dataframe tbody tr th:only-of-type {\n",
       "        vertical-align: middle;\n",
       "    }\n",
       "\n",
       "    .dataframe tbody tr th {\n",
       "        vertical-align: top;\n",
       "    }\n",
       "\n",
       "    .dataframe thead th {\n",
       "        text-align: right;\n",
       "    }\n",
       "</style>\n",
       "<table border=\"1\" class=\"dataframe\">\n",
       "  <thead>\n",
       "    <tr style=\"text-align: right;\">\n",
       "      <th></th>\n",
       "      <th>CreatedBy.Name</th>\n",
       "      <th>Lookup.TextField</th>\n",
       "      <th>Lookup.UserField</th>\n",
       "      <th>Image.a</th>\n",
       "    </tr>\n",
       "  </thead>\n",
       "  <tbody>\n",
       "    <tr>\n",
       "      <td>0</td>\n",
       "      <td>User001</td>\n",
       "      <td>Some text</td>\n",
       "      <td>{'Id': 'ID001', 'Name': 'Name001'}</td>\n",
       "      <td>b</td>\n",
       "    </tr>\n",
       "  </tbody>\n",
       "</table>\n",
       "</div>"
      ],
      "text/plain": [
       "  CreatedBy.Name Lookup.TextField                    Lookup.UserField Image.a\n",
       "0        User001        Some text  {'Id': 'ID001', 'Name': 'Name001'}       b"
      ]
     },
     "execution_count": 11,
     "metadata": {},
     "output_type": "execute_result"
    }
   ],
   "source": [
    "json.json_normalize(jsondata, max_level=1)"
   ]
  },
  {
   "cell_type": "code",
   "execution_count": 12,
   "metadata": {
    "collapsed": true
   },
   "outputs": [
    {
     "data": {
      "text/html": [
       "<div>\n",
       "<style scoped>\n",
       "    .dataframe tbody tr th:only-of-type {\n",
       "        vertical-align: middle;\n",
       "    }\n",
       "\n",
       "    .dataframe tbody tr th {\n",
       "        vertical-align: top;\n",
       "    }\n",
       "\n",
       "    .dataframe thead th {\n",
       "        text-align: right;\n",
       "    }\n",
       "</style>\n",
       "<table border=\"1\" class=\"dataframe\">\n",
       "  <thead>\n",
       "    <tr style=\"text-align: right;\">\n",
       "      <th></th>\n",
       "      <th>CreatedBy.Name</th>\n",
       "      <th>Lookup.TextField</th>\n",
       "      <th>Lookup.UserField.Id</th>\n",
       "      <th>Lookup.UserField.Name</th>\n",
       "      <th>Image.a</th>\n",
       "    </tr>\n",
       "  </thead>\n",
       "  <tbody>\n",
       "    <tr>\n",
       "      <td>0</td>\n",
       "      <td>User001</td>\n",
       "      <td>Some text</td>\n",
       "      <td>ID001</td>\n",
       "      <td>Name001</td>\n",
       "      <td>b</td>\n",
       "    </tr>\n",
       "  </tbody>\n",
       "</table>\n",
       "</div>"
      ],
      "text/plain": [
       "  CreatedBy.Name Lookup.TextField Lookup.UserField.Id Lookup.UserField.Name  \\\n",
       "0        User001        Some text               ID001               Name001   \n",
       "\n",
       "  Image.a  \n",
       "0       b  "
      ]
     },
     "execution_count": 12,
     "metadata": {},
     "output_type": "execute_result"
    }
   ],
   "source": [
    "json.json_normalize(jsondata)"
   ]
  },
  {
   "cell_type": "markdown",
   "metadata": {},
   "source": [
    "### HTML"
   ]
  },
  {
   "cell_type": "code",
   "execution_count": 261,
   "metadata": {},
   "outputs": [],
   "source": [
    "from bs4 import BeautifulSoup"
   ]
  },
  {
   "cell_type": "code",
   "execution_count": 263,
   "metadata": {
    "collapsed": true
   },
   "outputs": [
    {
     "data": {
      "text/plain": [
       "[   Unnamed: 0 kind  height  weight\n",
       " 0           0  cat     9.1     7.9\n",
       " 1           1  dog     6.0     7.5\n",
       " 2           2  cat     9.5     9.9\n",
       " 3           3  dog    34.0   198.0,\n",
       "    Unnamed: 0         A         B         C         D Append\n",
       " 0  2013-01-01  0.000000  1.855360  3.001522 -1.607199   Mark\n",
       " 1  2013-01-02 -1.155055  0.000000  1.638626 -0.262791      N\n",
       " 2  2013-01-03 -0.766153 -0.499499  0.000000 -0.424870      M\n",
       " 3  2013-01-04 -1.925768 -0.656789  0.035512  0.000000      T\n",
       " 4  2013-01-05 -0.035881  1.788810  0.515268  0.472168      0\n",
       " 5  2013-01-06  0.397780  0.277218  0.607874 -0.879547      5,\n",
       "    Unnamed: 0    A         B         C         D\n",
       " 0  2013-01-01  0.0  1.855360  3.001522 -1.607199\n",
       " 1  2013-01-02  0.0  1.155055  2.793681  0.892264\n",
       " 2  2013-01-03  0.0  0.266654  0.766153  0.341283\n",
       " 3  2013-01-04  0.0  1.268979  1.961280  1.925768\n",
       " 4  2013-01-05  0.0  1.824691  0.551149  0.508049\n",
       " 5  2013-01-06  0.0 -0.120562  0.210093 -1.277327,\n",
       "    Unnamed: 0         A         B         C         D Append\n",
       " 0  2013-01-01 -0.831553  1.855360  3.001522 -1.607199   Mark\n",
       " 1  2013-01-02 -1.155055  0.138805  1.638626 -0.262791      N\n",
       " 2  2013-01-03 -0.766153 -0.499499 -0.044855 -0.424870      M\n",
       " 3  2013-01-04 -1.925768 -0.656789  0.035512  0.434787      T\n",
       " 4  2013-01-05 -0.035881  1.788810  0.515268  0.472168      V\n",
       " 5  2013-01-06  0.397780  0.277218  0.607874 -0.879547      5,\n",
       "    Unnamed: 0         A         B         C         D\n",
       " 0  2013-01-02 -0.277493  1.382277 -0.774748 -0.531652\n",
       " 1  2013-01-03 -1.677167 -0.942699 -0.722414 -0.370175,\n",
       "    Unnamed: 0         A         B         C         D\n",
       " 0  2013-01-02 -0.277493  1.382277 -0.774748 -0.531652\n",
       " 1  2013-01-03 -1.677167 -0.942699 -0.722414 -0.370175\n",
       " 2  2013-01-04 -0.797266  0.394869 -0.653769 -0.614351\n",
       " 3  2013-01-05  1.229662 -0.566278  1.832499 -2.025417,\n",
       "    Unnamed: 0         A         B\n",
       " 0  2013-01-01 -1.513051 -0.403028\n",
       " 1  2013-01-02 -0.277493  1.382277\n",
       " 2  2013-01-03 -1.677167 -0.942699\n",
       " 3  2013-01-04 -0.797266  0.394869\n",
       " 4  2013-01-05  1.229662 -0.566278\n",
       " 5  2013-01-06  0.355253 -1.081579,\n",
       "    Unnamed: 0         A         B\n",
       " 0  2013-01-02 -0.277493  1.382277\n",
       " 1  2013-01-03 -1.677167 -0.942699\n",
       " 2  2013-01-04 -0.797266  0.394869\n",
       " 3  2013-01-05  1.229662 -0.566278,\n",
       "    Unnamed: 0         A         B         C         D\n",
       " 0  2013-01-01 -1.513051 -0.403028 -0.590750  0.313733\n",
       " 1  2013-01-02 -0.277493  1.382277 -0.774748 -0.531652\n",
       " 2  2013-01-03 -1.677167 -0.942699 -0.722414 -0.370175\n",
       " 3  2013-01-04 -0.797266  0.394869 -0.653769 -0.614351,\n",
       "    Unnamed: 0         A         B\n",
       " 0  2013-01-01 -1.513051 -0.403028\n",
       " 1  2013-01-02 -0.277493  1.382277\n",
       " 2  2013-01-03 -1.677167 -0.942699\n",
       " 3  2013-01-04 -0.797266  0.394869\n",
       " 4  2013-01-05  1.229662 -0.566278\n",
       " 5  2013-01-06  0.355253 -1.081579,\n",
       "    Unnamed: 0         B\n",
       " 0  2013-01-02  1.382277,\n",
       "    Unnamed: 0         A         C         D\n",
       " 0  2013-01-01 -1.513051 -0.590750  0.313733\n",
       " 1  2013-01-04 -0.797266 -0.653769 -0.614351\n",
       " 2  2013-01-06  0.355253  1.582111 -0.943905,\n",
       "    Unnamed: 0 kind  height  weight\n",
       " 0           0  cat     9.1     7.9\n",
       " 1           1  dog     6.0     7.5\n",
       " 2           2  cat     9.5     9.9\n",
       " 3           3  dog    34.0   198.0,\n",
       "    Unnamed: 0         A         B         C         D\n",
       " 0  2013-01-01 -1.513051 -0.403028 -0.590750       NaN\n",
       " 1  2013-01-02 -0.277493       NaN -0.774748 -0.531652\n",
       " 2  2013-01-03 -1.677167 -0.942699 -0.722414 -0.370175\n",
       " 3  2013-01-04 -0.797266       NaN -0.653769 -0.614351\n",
       " 4  2013-01-05       NaN -0.566278       NaN -2.025417\n",
       " 5  2013-01-06       NaN -1.081579       NaN -0.943905,\n",
       "    Unnamed: 0         A         B         C         D\n",
       " 0  2013-01-05  1.229662 -0.566278  1.832499 -2.025417\n",
       " 1  2013-01-06  0.355253 -1.081579  1.582111 -0.943905,\n",
       "    Unnamed: 0         A         B         C         D Append\n",
       " 0  2013-01-02 -1.155055  0.000000  1.638626 -0.262791      N\n",
       " 1  2013-01-04 -1.925768 -0.656789  0.035512  0.000000      T\n",
       " 2  2013-01-05 -0.035881  1.788810  0.515268  0.472168      0,\n",
       "    Unnamed: 0         A         B         C         D Append\n",
       " 0  2013-01-01 -0.831553  1.855360  3.001522 -1.607199   Mark\n",
       " 1  2013-01-03 -0.766153 -0.499499 -0.044855 -0.424870      M\n",
       " 2  2013-01-06  0.397780  0.277218  0.607874 -0.879547      5,\n",
       "    Unnamed: 0         A         B         C    D Append    E\n",
       " 0  2013-01-04 -1.925768 -0.656789  0.035512  0.0      T  0.0,\n",
       "    Unnamed: 0      A      B      C      D  Append     E\n",
       " 0  2013-01-01  False  False  False  False   False  True\n",
       " 1  2013-01-02  False  False  False  False   False  True\n",
       " 2  2013-01-03  False  False  False  False   False  True\n",
       " 3  2013-01-04  False  False  False  False   False  True,\n",
       "   Unnamed: 0  2013-01-01  2013-01-02  2013-01-03  2013-01-04  2013-01-05  \\\n",
       " 0          A   -1.513051   -0.277493   -1.677167   -0.797266    1.229662   \n",
       " 1          B   -0.403028    1.382277   -0.942699    0.394869   -0.566278   \n",
       " 2          C   -0.590750   -0.774748   -0.722414   -0.653769    1.832499   \n",
       " 3          D    0.313733   -0.531652   -0.370175   -0.614351   -2.025417   \n",
       " \n",
       "    2013-01-06  \n",
       " 0    0.355253  \n",
       " 1   -1.081579  \n",
       " 2    1.582111  \n",
       " 3   -0.943905  ,\n",
       "   Unnamed: 0_level_0         C           0.000000           0.035512  \\\n",
       "                    A         B Unnamed: 2_level_1 Unnamed: 3_level_1   \n",
       " 0          -1.925768 -0.656789                NaN                0.0   \n",
       " 1          -1.155055  0.000000                NaN                NaN   \n",
       " 2          -0.766153 -0.499499           -0.42487                NaN   \n",
       " 3          -0.035881  1.788810                NaN                NaN   \n",
       " 4           0.000000  1.855360                NaN                NaN   \n",
       " 5           0.397780  0.277218                NaN                NaN   \n",
       " \n",
       "             0.515268           0.607874           1.638626           3.001522  \n",
       "   Unnamed: 4_level_1 Unnamed: 5_level_1 Unnamed: 6_level_1 Unnamed: 7_level_1  \n",
       " 0                NaN                NaN                NaN                NaN  \n",
       " 1                NaN                NaN          -0.262791                NaN  \n",
       " 2                NaN                NaN                NaN                NaN  \n",
       " 3           0.472168                NaN                NaN                NaN  \n",
       " 4                NaN                NaN                NaN          -1.607199  \n",
       " 5                NaN          -0.879547                NaN                NaN  ,\n",
       "    Unnamed: 0         D         C         B         A\n",
       " 0  2013-01-06 -0.943905  1.582111 -1.081579  0.355253\n",
       " 1  2013-01-05 -2.025417  1.832499 -0.566278  1.229662\n",
       " 2  2013-01-04 -0.614351 -0.653769  0.394869 -0.797266\n",
       " 3  2013-01-03 -0.370175 -0.722414 -0.942699 -1.677167\n",
       " 4  2013-01-02 -0.531652 -0.774748  1.382277 -0.277493\n",
       " 5  2013-01-01  0.313733 -0.590750 -0.403028 -1.513051,\n",
       "    Unnamed: 0         A         B         C         D\n",
       " 0  2013-01-05  1.229662 -0.566278  1.832499 -2.025417\n",
       " 1  2013-01-06  0.355253 -1.081579  1.582111 -0.943905\n",
       " 2  2013-01-01 -1.513051 -0.403028 -0.590750  0.313733\n",
       " 3  2013-01-04 -0.797266  0.394869 -0.653769 -0.614351\n",
       " 4  2013-01-03 -1.677167 -0.942699 -0.722414 -0.370175\n",
       " 5  2013-01-02 -0.277493  1.382277 -0.774748 -0.531652,\n",
       "    Unnamed: 0         A         B         C         D Append\n",
       " 0           0  0.000000  1.855360  3.001522 -1.607199   Mark\n",
       " 1           1 -1.155055  0.000000  1.638626 -0.262791      N\n",
       " 2           2 -0.766153 -0.499499  0.000000 -0.424870      M\n",
       " 3           3 -1.925768 -0.656789  0.035512  0.000000      T\n",
       " 4           4 -0.035881  1.788810  0.515268  0.472168      0\n",
       " 5           5  0.397780  0.277218  0.607874 -0.879547      5\n",
       " 6           6 -1.925768 -0.656789  0.035512  0.000000      T,\n",
       "    Unnamed: 0         A         B         C         D Append        AC\n",
       " 0  2013-01-01  0.000000  1.855360  3.001522 -1.607199   Mark  3.001522\n",
       " 1  2013-01-02 -1.155055  0.000000  1.638626 -0.262791      N  0.483570\n",
       " 2  2013-01-03 -0.766153 -0.499499  0.000000 -0.424870      M -0.766153\n",
       " 3  2013-01-04 -1.925768 -0.656789  0.035512  0.000000      T -1.890257\n",
       " 4  2013-01-05 -0.035881  1.788810  0.515268  0.472168      0  0.479387\n",
       " 5  2013-01-06  0.397780  0.277218  0.607874 -0.879547      5  1.005654,\n",
       "    Unnamed: 0         A         B         C         D Append\n",
       " 0  2013-01-02 -1.155055  0.000000  1.638626 -0.262791      N\n",
       " 1  2013-01-04 -1.925768 -0.656789  0.035512  0.000000      T\n",
       " 2  2013-01-05 -0.035881  1.788810  0.515268  0.472168      0,\n",
       "    Unnamed: 0         A         B         C         D Append\n",
       " 0  2013-01-01  0.000000  1.855360  3.001522 -1.607199   Mark\n",
       " 1  2013-01-02 -1.155055  0.000000  1.638626 -0.262791      N\n",
       " 2  2013-01-03 -0.766153 -0.499499  0.000000 -0.424870      M\n",
       " 3  2013-01-04 -1.925768 -0.656789  0.035512  0.000000      T\n",
       " 4  2013-01-05 -0.035881  1.788810  0.515268  0.472168      0\n",
       " 5  2013-01-06  0.397780  0.277218  0.607874 -0.879547      5,\n",
       "    Unnamed: 0         A         B         C         D Append       E\n",
       " 0  2013-01-01  0.000000  1.855360  3.001522 -1.607199   Mark  string\n",
       " 1  2013-01-02 -1.155055  0.000000  1.638626 -0.262791      N  string\n",
       " 2  2013-01-03 -0.766153 -0.499499  0.000000 -0.424870      M  string\n",
       " 3  2013-01-04 -1.925768 -0.656789  0.035512  0.000000      T  string,\n",
       "    Unnamed: 0         A         B         C         D Append\n",
       " 0  2013-01-01  0.000000  1.855360  3.001522 -1.607199   Mark\n",
       " 1  2013-01-02 -1.155055  0.000000  1.638626 -0.262791      N\n",
       " 2  2013-01-03 -0.766153 -0.499499  0.000000 -0.424870      M\n",
       " 3  2013-01-04 -1.925768 -0.656789  0.035512  0.000000      T\n",
       " 4  2013-01-05 -0.035881  1.788810  0.515268  0.472168      0\n",
       " 5  2013-01-06  0.397780  0.277218  0.607874 -0.879547      5,\n",
       "    Unnamed: 0         A         B         C         D Append\n",
       " 0  2013-01-01  0.000000  1.855360  3.001522 -1.607199   Mark\n",
       " 1  2013-01-02 -1.155055  0.000000  1.638626 -0.262791      N\n",
       " 2  2013-01-03 -0.766153 -0.499499  0.000000 -0.424870      M\n",
       " 3  2013-01-04 -1.925768 -0.656789  0.035512  0.000000      T\n",
       " 4  2013-01-05 -0.035881  1.788810  0.515268  0.472168      0\n",
       " 5  2013-01-06  0.397780  0.277218  0.607874 -0.879547      5,\n",
       "    Unnamed: 0         A         B         C         D Append\n",
       " 0  2013-01-01  0.000000  1.855360  3.001522 -1.607199   Mark\n",
       " 1  2013-01-02 -1.155055  0.000000  1.638626 -0.262791      N\n",
       " 2  2013-01-03 -0.766153 -0.499499  0.000000 -0.424870      M\n",
       " 3  2013-01-04 -1.925768 -0.656789  0.035512  0.000000      T\n",
       " 4  2013-01-05 -0.035881  1.788810  0.515268  0.472168      0\n",
       " 5  2013-01-06  0.397780  0.277218  0.607874 -0.879547      5,\n",
       "    Unnamed: 0 CreatedBy.Name Lookup.TextField  \\\n",
       " 0           0        User001        Some text   \n",
       " \n",
       "                      Lookup.UserField Image.a  \n",
       " 0  {'Id': 'ID001', 'Name': 'Name001'}       b  ,\n",
       "    Unnamed: 0 CreatedBy.Name Lookup.TextField Lookup.UserField.Id  \\\n",
       " 0           0        User001        Some text               ID001   \n",
       " \n",
       "   Lookup.UserField.Name Image.a  \n",
       " 0               Name001       b  ,\n",
       "    Unnamed: 0         A         B         C         D Append\n",
       " 0  2013-01-01  0.000000  1.855360  3.001522 -1.607199   Mark\n",
       " 1  2013-01-02 -1.155055  0.000000  1.638626 -0.262791      N\n",
       " 2  2013-01-03 -0.766153 -0.499499  0.000000 -0.424870      M\n",
       " 3  2013-01-04 -1.925768 -0.656789  0.035512  0.000000      T\n",
       " 4  2013-01-05 -0.035881  1.788810  0.515268  0.472168      0\n",
       " 5  2013-01-06  0.397780  0.277218  0.607874 -0.879547      5,\n",
       "    Unnamed: 0   Field      Type Null  Key Default  Extra\n",
       " 0           0   index  datetime  YES  MUL    None    NaN\n",
       " 1           1       A    double  YES  NaN    None    NaN\n",
       " 2           2       B    double  YES  NaN    None    NaN\n",
       " 3           3       C    double  YES  NaN    None    NaN\n",
       " 4           4       D    double  YES  NaN    None    NaN\n",
       " 5           5  Append      text  YES  NaN    None    NaN,\n",
       "   Unnamed: 0_level_0                  A                  B                  C  \\\n",
       "                index Unnamed: 1_level_1 Unnamed: 2_level_1 Unnamed: 3_level_1   \n",
       " 0         2013-01-01           0.000000           1.855360           3.001522   \n",
       " 1         2013-01-02          -1.155055           0.000000           1.638626   \n",
       " 2         2013-01-03          -0.766153          -0.499499           0.000000   \n",
       " 3         2013-01-04          -1.925768          -0.656789           0.035512   \n",
       " 4         2013-01-05          -0.035881           1.788810           0.515268   \n",
       " 5         2013-01-06           0.397780           0.277218           0.607874   \n",
       " \n",
       "                    D             Append  \n",
       "   Unnamed: 4_level_1 Unnamed: 5_level_1  \n",
       " 0          -1.607199               Mark  \n",
       " 1          -0.262791                  N  \n",
       " 2          -0.424870                  M  \n",
       " 3           0.000000                  T  \n",
       " 4           0.472168                  0  \n",
       " 5          -0.879547                  5  ]"
      ]
     },
     "execution_count": 263,
     "metadata": {},
     "output_type": "execute_result"
    }
   ],
   "source": [
    "dfhtml = pd.read_html('Data/foo.html')\n",
    "dfhtml"
   ]
  },
  {
   "cell_type": "code",
   "execution_count": null,
   "metadata": {},
   "outputs": [],
   "source": []
  },
  {
   "cell_type": "markdown",
   "metadata": {},
   "source": [
    "### excel"
   ]
  },
  {
   "cell_type": "code",
   "execution_count": 155,
   "metadata": {},
   "outputs": [
    {
     "data": {
      "text/html": [
       "<div>\n",
       "<style scoped>\n",
       "    .dataframe tbody tr th:only-of-type {\n",
       "        vertical-align: middle;\n",
       "    }\n",
       "\n",
       "    .dataframe tbody tr th {\n",
       "        vertical-align: top;\n",
       "    }\n",
       "\n",
       "    .dataframe thead th {\n",
       "        text-align: right;\n",
       "    }\n",
       "</style>\n",
       "<table border=\"1\" class=\"dataframe\">\n",
       "  <thead>\n",
       "    <tr style=\"text-align: right;\">\n",
       "      <th></th>\n",
       "      <th>A</th>\n",
       "      <th>B</th>\n",
       "      <th>C</th>\n",
       "      <th>D</th>\n",
       "      <th>Append</th>\n",
       "    </tr>\n",
       "  </thead>\n",
       "  <tbody>\n",
       "    <tr>\n",
       "      <td>2013-01-01</td>\n",
       "      <td>0.000000</td>\n",
       "      <td>1.855360</td>\n",
       "      <td>3.001522</td>\n",
       "      <td>-1.607199</td>\n",
       "      <td>Mark</td>\n",
       "    </tr>\n",
       "    <tr>\n",
       "      <td>2013-01-02</td>\n",
       "      <td>-1.155055</td>\n",
       "      <td>0.000000</td>\n",
       "      <td>1.638626</td>\n",
       "      <td>-0.262791</td>\n",
       "      <td>N</td>\n",
       "    </tr>\n",
       "    <tr>\n",
       "      <td>2013-01-03</td>\n",
       "      <td>-0.766153</td>\n",
       "      <td>-0.499499</td>\n",
       "      <td>0.000000</td>\n",
       "      <td>-0.424870</td>\n",
       "      <td>M</td>\n",
       "    </tr>\n",
       "    <tr>\n",
       "      <td>2013-01-04</td>\n",
       "      <td>-1.925768</td>\n",
       "      <td>-0.656789</td>\n",
       "      <td>0.035512</td>\n",
       "      <td>0.000000</td>\n",
       "      <td>T</td>\n",
       "    </tr>\n",
       "    <tr>\n",
       "      <td>2013-01-05</td>\n",
       "      <td>-0.035881</td>\n",
       "      <td>1.788810</td>\n",
       "      <td>0.515268</td>\n",
       "      <td>0.472168</td>\n",
       "      <td>0</td>\n",
       "    </tr>\n",
       "    <tr>\n",
       "      <td>2013-01-06</td>\n",
       "      <td>0.397780</td>\n",
       "      <td>0.277218</td>\n",
       "      <td>0.607874</td>\n",
       "      <td>-0.879547</td>\n",
       "      <td>5</td>\n",
       "    </tr>\n",
       "  </tbody>\n",
       "</table>\n",
       "</div>"
      ],
      "text/plain": [
       "                   A         B         C         D Append\n",
       "2013-01-01  0.000000  1.855360  3.001522 -1.607199   Mark\n",
       "2013-01-02 -1.155055  0.000000  1.638626 -0.262791      N\n",
       "2013-01-03 -0.766153 -0.499499  0.000000 -0.424870      M\n",
       "2013-01-04 -1.925768 -0.656789  0.035512  0.000000      T\n",
       "2013-01-05 -0.035881  1.788810  0.515268  0.472168      0\n",
       "2013-01-06  0.397780  0.277218  0.607874 -0.879547      5"
      ]
     },
     "execution_count": 155,
     "metadata": {},
     "output_type": "execute_result"
    }
   ],
   "source": [
    "df3 = pd.read_excel('Data/foo.xlsx', 'Sheet1', index_col=0, na_values=['NA'])\n",
    "df3"
   ]
  },
  {
   "cell_type": "markdown",
   "metadata": {
    "heading_collapsed": true
   },
   "source": [
    "### pandas_datareader"
   ]
  },
  {
   "cell_type": "code",
   "execution_count": 9,
   "metadata": {
    "hidden": true
   },
   "outputs": [],
   "source": [
    "import pandas_datareader as pdr"
   ]
  },
  {
   "cell_type": "code",
   "execution_count": 10,
   "metadata": {
    "hidden": true
   },
   "outputs": [
    {
     "name": "stdout",
     "output_type": "stream",
     "text": [
      "AAPL    205.7\n",
      "Name: price, dtype: float64\n"
     ]
    }
   ],
   "source": [
    "print(pdr.get_quote_yahoo('AAPL')['price'])"
   ]
  },
  {
   "cell_type": "markdown",
   "metadata": {
    "heading_collapsed": true
   },
   "source": [
    "### HDFS"
   ]
  },
  {
   "cell_type": "code",
   "execution_count": null,
   "metadata": {
    "hidden": true
   },
   "outputs": [],
   "source": [
    "pd.read_hdf('foo.h5', 'df')"
   ]
  },
  {
   "cell_type": "markdown",
   "metadata": {},
   "source": [
    "## Egression APIs"
   ]
  },
  {
   "cell_type": "code",
   "execution_count": 33,
   "metadata": {
    "collapsed": true
   },
   "outputs": [
    {
     "data": {
      "text/plain": [
       "array([[-1.51305087, -0.40302837, -0.59074983,  0.31373345],\n",
       "       [-0.27749268,  1.38227713, -0.77474846, -0.53165227],\n",
       "       [-1.67716694, -0.94269858, -0.7224141 , -0.37017509],\n",
       "       [-0.79726605,  0.39486903, -0.65376924, -0.61435065],\n",
       "       [ 1.22966166, -0.56627776,  1.83249856, -2.02541706],\n",
       "       [ 0.35525285, -1.08157886,  1.58211143, -0.94390518]])"
      ]
     },
     "execution_count": 33,
     "metadata": {},
     "output_type": "execute_result"
    }
   ],
   "source": [
    "df.to_numpy()"
   ]
  },
  {
   "cell_type": "code",
   "execution_count": 162,
   "metadata": {},
   "outputs": [],
   "source": [
    "df.to_csv('Data/foo.csv')"
   ]
  },
  {
   "cell_type": "code",
   "execution_count": 163,
   "metadata": {},
   "outputs": [],
   "source": [
    "df.to_json('Data/foo.json', orient='columns')"
   ]
  },
  {
   "cell_type": "code",
   "execution_count": 150,
   "metadata": {},
   "outputs": [],
   "source": [
    "df.to_excel('Data/foo.xlsx', sheet_name='Sheet1')"
   ]
  },
  {
   "cell_type": "code",
   "execution_count": 151,
   "metadata": {
    "collapsed": true
   },
   "outputs": [
    {
     "name": "stderr",
     "output_type": "stream",
     "text": [
      "C:\\ProgramData\\Anaconda3\\lib\\site-packages\\pandas\\core\\generic.py:2530: PerformanceWarning: \n",
      "your performance may suffer as PyTables will pickle object types that it cannot\n",
      "map directly to c-types [inferred_type->mixed-integer,key->block1_values] [items->['Append']]\n",
      "\n",
      "  pytables.to_hdf(path_or_buf, key, self, **kwargs)\n"
     ]
    }
   ],
   "source": [
    "df.to_hdf('Data/foo.h5', 'df')"
   ]
  },
  {
   "cell_type": "markdown",
   "metadata": {},
   "source": [
    "### MySQL"
   ]
  },
  {
   "cell_type": "code",
   "execution_count": 234,
   "metadata": {},
   "outputs": [],
   "source": [
    "import pandas as pd\n",
    "from sqlalchemy import create_engine\n",
    "alchemyconfig = {\n",
    "    'user': 'root',\n",
    "    'passw': 'root1MYSQL',\n",
    "    'host': '127.0.0.1',\n",
    "    'port': 3306,\n",
    "    'database': 'pandasdb'\n",
    "}\n",
    "\n",
    "alchemyURL= 'mysql+mysqlconnector://{user}:{passw}@{host}/{database}'.format(**alchemyconfig)\n",
    "\n",
    "mydb = create_engine(alchemyURL, echo=False)"
   ]
  },
  {
   "cell_type": "code",
   "execution_count": 235,
   "metadata": {},
   "outputs": [],
   "source": [
    "df.to_sql(name='dftable01', con=mydb, if_exists = 'replace', index=True)"
   ]
  },
  {
   "cell_type": "code",
   "execution_count": 236,
   "metadata": {
    "scrolled": true
   },
   "outputs": [
    {
     "data": {
      "text/html": [
       "<div>\n",
       "<style scoped>\n",
       "    .dataframe tbody tr th:only-of-type {\n",
       "        vertical-align: middle;\n",
       "    }\n",
       "\n",
       "    .dataframe tbody tr th {\n",
       "        vertical-align: top;\n",
       "    }\n",
       "\n",
       "    .dataframe thead th {\n",
       "        text-align: right;\n",
       "    }\n",
       "</style>\n",
       "<table border=\"1\" class=\"dataframe\">\n",
       "  <thead>\n",
       "    <tr style=\"text-align: right;\">\n",
       "      <th></th>\n",
       "      <th>Field</th>\n",
       "      <th>Type</th>\n",
       "      <th>Null</th>\n",
       "      <th>Key</th>\n",
       "      <th>Default</th>\n",
       "      <th>Extra</th>\n",
       "    </tr>\n",
       "  </thead>\n",
       "  <tbody>\n",
       "    <tr>\n",
       "      <td>0</td>\n",
       "      <td>index</td>\n",
       "      <td>datetime</td>\n",
       "      <td>YES</td>\n",
       "      <td>MUL</td>\n",
       "      <td>None</td>\n",
       "      <td></td>\n",
       "    </tr>\n",
       "    <tr>\n",
       "      <td>1</td>\n",
       "      <td>A</td>\n",
       "      <td>double</td>\n",
       "      <td>YES</td>\n",
       "      <td></td>\n",
       "      <td>None</td>\n",
       "      <td></td>\n",
       "    </tr>\n",
       "    <tr>\n",
       "      <td>2</td>\n",
       "      <td>B</td>\n",
       "      <td>double</td>\n",
       "      <td>YES</td>\n",
       "      <td></td>\n",
       "      <td>None</td>\n",
       "      <td></td>\n",
       "    </tr>\n",
       "    <tr>\n",
       "      <td>3</td>\n",
       "      <td>C</td>\n",
       "      <td>double</td>\n",
       "      <td>YES</td>\n",
       "      <td></td>\n",
       "      <td>None</td>\n",
       "      <td></td>\n",
       "    </tr>\n",
       "    <tr>\n",
       "      <td>4</td>\n",
       "      <td>D</td>\n",
       "      <td>double</td>\n",
       "      <td>YES</td>\n",
       "      <td></td>\n",
       "      <td>None</td>\n",
       "      <td></td>\n",
       "    </tr>\n",
       "    <tr>\n",
       "      <td>5</td>\n",
       "      <td>Append</td>\n",
       "      <td>text</td>\n",
       "      <td>YES</td>\n",
       "      <td></td>\n",
       "      <td>None</td>\n",
       "      <td></td>\n",
       "    </tr>\n",
       "  </tbody>\n",
       "</table>\n",
       "</div>"
      ],
      "text/plain": [
       "    Field      Type Null  Key Default Extra\n",
       "0   index  datetime  YES  MUL    None      \n",
       "1       A    double  YES         None      \n",
       "2       B    double  YES         None      \n",
       "3       C    double  YES         None      \n",
       "4       D    double  YES         None      \n",
       "5  Append      text  YES         None      "
      ]
     },
     "execution_count": 236,
     "metadata": {},
     "output_type": "execute_result"
    }
   ],
   "source": [
    "pd.read_sql_query(\"desc dftable01\", mydb)"
   ]
  },
  {
   "cell_type": "code",
   "execution_count": 249,
   "metadata": {
    "scrolled": true
   },
   "outputs": [
    {
     "data": {
      "text/html": [
       "<div>\n",
       "<style scoped>\n",
       "    .dataframe tbody tr th:only-of-type {\n",
       "        vertical-align: middle;\n",
       "    }\n",
       "\n",
       "    .dataframe tbody tr th {\n",
       "        vertical-align: top;\n",
       "    }\n",
       "\n",
       "    .dataframe thead th {\n",
       "        text-align: right;\n",
       "    }\n",
       "</style>\n",
       "<table border=\"1\" class=\"dataframe\">\n",
       "  <thead>\n",
       "    <tr style=\"text-align: right;\">\n",
       "      <th></th>\n",
       "      <th>A</th>\n",
       "      <th>B</th>\n",
       "      <th>C</th>\n",
       "      <th>D</th>\n",
       "      <th>Append</th>\n",
       "    </tr>\n",
       "    <tr>\n",
       "      <th>index</th>\n",
       "      <th></th>\n",
       "      <th></th>\n",
       "      <th></th>\n",
       "      <th></th>\n",
       "      <th></th>\n",
       "    </tr>\n",
       "  </thead>\n",
       "  <tbody>\n",
       "    <tr>\n",
       "      <td>2013-01-01</td>\n",
       "      <td>0.000000</td>\n",
       "      <td>1.855360</td>\n",
       "      <td>3.001522</td>\n",
       "      <td>-1.607199</td>\n",
       "      <td>Mark</td>\n",
       "    </tr>\n",
       "    <tr>\n",
       "      <td>2013-01-02</td>\n",
       "      <td>-1.155055</td>\n",
       "      <td>0.000000</td>\n",
       "      <td>1.638626</td>\n",
       "      <td>-0.262791</td>\n",
       "      <td>N</td>\n",
       "    </tr>\n",
       "    <tr>\n",
       "      <td>2013-01-03</td>\n",
       "      <td>-0.766153</td>\n",
       "      <td>-0.499499</td>\n",
       "      <td>0.000000</td>\n",
       "      <td>-0.424870</td>\n",
       "      <td>M</td>\n",
       "    </tr>\n",
       "    <tr>\n",
       "      <td>2013-01-04</td>\n",
       "      <td>-1.925768</td>\n",
       "      <td>-0.656789</td>\n",
       "      <td>0.035512</td>\n",
       "      <td>0.000000</td>\n",
       "      <td>T</td>\n",
       "    </tr>\n",
       "    <tr>\n",
       "      <td>2013-01-05</td>\n",
       "      <td>-0.035881</td>\n",
       "      <td>1.788810</td>\n",
       "      <td>0.515268</td>\n",
       "      <td>0.472168</td>\n",
       "      <td>0</td>\n",
       "    </tr>\n",
       "    <tr>\n",
       "      <td>2013-01-06</td>\n",
       "      <td>0.397780</td>\n",
       "      <td>0.277218</td>\n",
       "      <td>0.607874</td>\n",
       "      <td>-0.879547</td>\n",
       "      <td>5</td>\n",
       "    </tr>\n",
       "  </tbody>\n",
       "</table>\n",
       "</div>"
      ],
      "text/plain": [
       "                   A         B         C         D Append\n",
       "index                                                    \n",
       "2013-01-01  0.000000  1.855360  3.001522 -1.607199   Mark\n",
       "2013-01-02 -1.155055  0.000000  1.638626 -0.262791      N\n",
       "2013-01-03 -0.766153 -0.499499  0.000000 -0.424870      M\n",
       "2013-01-04 -1.925768 -0.656789  0.035512  0.000000      T\n",
       "2013-01-05 -0.035881  1.788810  0.515268  0.472168      0\n",
       "2013-01-06  0.397780  0.277218  0.607874 -0.879547      5"
      ]
     },
     "execution_count": 249,
     "metadata": {},
     "output_type": "execute_result"
    }
   ],
   "source": [
    "dftable01 = pd.read_sql_query(\"select * from dftable01\", mydb, index_col='index')\n",
    "dftable01"
   ]
  },
  {
   "cell_type": "code",
   "execution_count": 257,
   "metadata": {},
   "outputs": [
    {
     "data": {
      "text/plain": [
       "True"
      ]
     },
     "execution_count": 257,
     "metadata": {},
     "output_type": "execute_result"
    }
   ],
   "source": [
    "all(dftable01.index == df.index)"
   ]
  },
  {
   "cell_type": "markdown",
   "metadata": {},
   "source": [
    "## Pands Data and Types"
   ]
  },
  {
   "cell_type": "markdown",
   "metadata": {},
   "source": [
    "### Types"
   ]
  },
  {
   "cell_type": "markdown",
   "metadata": {},
   "source": [
    "bool  \n",
    "int8; uint8; int32; int64  \n",
    "float32; float64  \n",
    "datetime64; timedelta64\n",
    "category\n",
    "object  "
   ]
  },
  {
   "cell_type": "code",
   "execution_count": null,
   "metadata": {},
   "outputs": [],
   "source": []
  },
  {
   "cell_type": "markdown",
   "metadata": {},
   "source": [
    "### Vectorize Objects"
   ]
  },
  {
   "cell_type": "code",
   "execution_count": 21,
   "metadata": {},
   "outputs": [
    {
     "data": {
      "text/plain": [
       "DatetimeIndex(['1960-01-02', '1960-01-03', '1960-01-04'], dtype='datetime64[ns]', freq=None)"
      ]
     },
     "execution_count": 21,
     "metadata": {},
     "output_type": "execute_result"
    }
   ],
   "source": [
    "pd.to_datetime(1490195805, unit='s')\n",
    "pd.to_datetime('13000101', format='%Y%m%d', errors='ignore')\n",
    "pd.to_datetime([1, 2, 3], unit='D', origin=pd.Timestamp('1960-01-01'))"
   ]
  },
  {
   "cell_type": "code",
   "execution_count": 18,
   "metadata": {
    "scrolled": true
   },
   "outputs": [
    {
     "data": {
      "text/plain": [
       "Timestamp('2019-09-04 14:26:29.243490')"
      ]
     },
     "execution_count": 18,
     "metadata": {},
     "output_type": "execute_result"
    }
   ],
   "source": [
    "pd.Timestamp('20130102')\n",
    "pd.Timestamp.now()"
   ]
  },
  {
   "cell_type": "code",
   "execution_count": null,
   "metadata": {},
   "outputs": [],
   "source": [
    "s = pd.Series(pd.date_range('20130101 09:10:12', periods=4))\n",
    "s.dt.day"
   ]
  },
  {
   "cell_type": "code",
   "execution_count": 188,
   "metadata": {
    "scrolled": true
   },
   "outputs": [
    {
     "data": {
      "text/plain": [
       "0       a\n",
       "1       b\n",
       "2       c\n",
       "3    aaba\n",
       "4    baca\n",
       "5     NaN\n",
       "6    caba\n",
       "7     dog\n",
       "8     cat\n",
       "dtype: object"
      ]
     },
     "execution_count": 188,
     "metadata": {},
     "output_type": "execute_result"
    }
   ],
   "source": [
    "s = pd.Series(['A', 'B', 'C', 'Aaba', 'Baca', np.nan, 'CABA', 'dog', 'cat'])\n",
    "s.str.lower()"
   ]
  },
  {
   "cell_type": "markdown",
   "metadata": {},
   "source": [
    "### Categorical"
   ]
  },
  {
   "cell_type": "code",
   "execution_count": 131,
   "metadata": {},
   "outputs": [],
   "source": [
    "c = df[\"Append\"].astype(\"category\")"
   ]
  },
  {
   "cell_type": "code",
   "execution_count": 134,
   "metadata": {},
   "outputs": [],
   "source": [
    "ct = pd.Categorical([\"test\", \"train\", \"test\", \"train\"])"
   ]
  },
  {
   "cell_type": "code",
   "execution_count": 135,
   "metadata": {},
   "outputs": [
    {
     "data": {
      "text/plain": [
       "[test, train, test, train]\n",
       "Categories (2, object): [test, train]"
      ]
     },
     "execution_count": 135,
     "metadata": {},
     "output_type": "execute_result"
    }
   ],
   "source": [
    "ct"
   ]
  },
  {
   "cell_type": "code",
   "execution_count": 138,
   "metadata": {
    "scrolled": false
   },
   "outputs": [
    {
     "data": {
      "text/plain": [
       "Index([0, 5, 'M', 'Mark', 'N', 'T'], dtype='object')"
      ]
     },
     "execution_count": 138,
     "metadata": {},
     "output_type": "execute_result"
    }
   ],
   "source": [
    "c.cat.categories"
   ]
  },
  {
   "cell_type": "code",
   "execution_count": 286,
   "metadata": {},
   "outputs": [
    {
     "data": {
      "text/plain": [
       "False"
      ]
     },
     "execution_count": 286,
     "metadata": {},
     "output_type": "execute_result"
    }
   ],
   "source": [
    "c.cat.ordered"
   ]
  },
  {
   "cell_type": "markdown",
   "metadata": {},
   "source": [
    "# END"
   ]
  },
  {
   "cell_type": "code",
   "execution_count": null,
   "metadata": {},
   "outputs": [],
   "source": []
  }
 ],
 "metadata": {
  "hide_input": false,
  "kernelspec": {
   "display_name": "Python 3",
   "language": "python",
   "name": "python3"
  },
  "language_info": {
   "codemirror_mode": {
    "name": "ipython",
    "version": 3
   },
   "file_extension": ".py",
   "mimetype": "text/x-python",
   "name": "python",
   "nbconvert_exporter": "python",
   "pygments_lexer": "ipython3",
   "version": "3.7.4"
  },
  "latex_envs": {
   "LaTeX_envs_menu_present": true,
   "autoclose": false,
   "autocomplete": true,
   "bibliofile": "biblio.bib",
   "cite_by": "apalike",
   "current_citInitial": 1,
   "eqLabelWithNumbers": true,
   "eqNumInitial": 1,
   "hotkeys": {
    "equation": "Ctrl-E",
    "itemize": "Ctrl-I"
   },
   "labels_anchors": false,
   "latex_user_defs": false,
   "report_style_numbering": false,
   "user_envs_cfg": false
  },
  "toc": {
   "base_numbering": 1,
   "nav_menu": {},
   "number_sections": true,
   "sideBar": true,
   "skip_h1_title": false,
   "title_cell": "Table of Contents",
   "title_sidebar": "Contents",
   "toc_cell": false,
   "toc_position": {
    "height": "calc(100% - 180px)",
    "left": "10px",
    "top": "150px",
    "width": "259.2px"
   },
   "toc_section_display": true,
   "toc_window_display": true
  }
 },
 "nbformat": 4,
 "nbformat_minor": 2
}
