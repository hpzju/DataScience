{
 "cells": [
  {
   "cell_type": "markdown",
   "metadata": {},
   "source": [
    "# Hands-on"
   ]
  },
  {
   "cell_type": "markdown",
   "metadata": {},
   "source": [
    "## Setup Envs"
   ]
  },
  {
   "cell_type": "markdown",
   "metadata": {},
   "source": [
    "### Config DB Engine and Pandas"
   ]
  },
  {
   "cell_type": "code",
   "execution_count": 13,
   "metadata": {},
   "outputs": [],
   "source": [
    "import mysql.connector\n",
    "from mysql.connector import Error\n",
    "g_dbconfig = {\n",
    "  'user': 'root',\n",
    "  'password': 'root1MYSQL',\n",
    "  'host': '127.0.0.1',\n",
    "  'database': 'pymysql',\n",
    "  'raise_on_warnings': True\n",
    "}\n",
    "\n",
    "myengine = mysql.connector.connect(**g_dbconfig)"
   ]
  },
  {
   "cell_type": "code",
   "execution_count": 14,
   "metadata": {},
   "outputs": [],
   "source": [
    "from pathlib import Path\n",
    "import pandas as pd\n",
    "from sqlalchemy import create_engine"
   ]
  },
  {
   "cell_type": "code",
   "execution_count": 15,
   "metadata": {},
   "outputs": [],
   "source": [
    "alchemyconfig = {\n",
    "    'user': 'root',\n",
    "    'passw': 'root1MYSQL',\n",
    "    'host': '127.0.0.1',\n",
    "    'port': 3306,\n",
    "    'database': 'pandasdb'\n",
    "}\n",
    "\n",
    "alchemyURL= 'mysql+mysqlconnector://{user}:{passw}@{host}/{database}'.format(**alchemyconfig)\n",
    "\n",
    "mydb = create_engine(alchemyURL, echo=False)\n",
    "readengine = create_engine(alchemyURL, echo=False)"
   ]
  },
  {
   "cell_type": "code",
   "execution_count": 16,
   "metadata": {
    "collapsed": true
   },
   "outputs": [
    {
     "data": {
      "text/html": [
       "<div>\n",
       "<style scoped>\n",
       "    .dataframe tbody tr th:only-of-type {\n",
       "        vertical-align: middle;\n",
       "    }\n",
       "\n",
       "    .dataframe tbody tr th {\n",
       "        vertical-align: top;\n",
       "    }\n",
       "\n",
       "    .dataframe thead th {\n",
       "        text-align: right;\n",
       "    }\n",
       "</style>\n",
       "<table border=\"1\" class=\"dataframe\">\n",
       "  <thead>\n",
       "    <tr style=\"text-align: right;\">\n",
       "      <th></th>\n",
       "      <th>Tables_in_pandasdb</th>\n",
       "    </tr>\n",
       "  </thead>\n",
       "  <tbody>\n",
       "    <tr>\n",
       "      <td>0</td>\n",
       "      <td>dealer</td>\n",
       "    </tr>\n",
       "    <tr>\n",
       "      <td>1</td>\n",
       "      <td>goods</td>\n",
       "    </tr>\n",
       "    <tr>\n",
       "      <td>2</td>\n",
       "      <td>goods_customer</td>\n",
       "    </tr>\n",
       "    <tr>\n",
       "      <td>3</td>\n",
       "      <td>goods_promotion</td>\n",
       "    </tr>\n",
       "    <tr>\n",
       "      <td>4</td>\n",
       "      <td>goods_sell</td>\n",
       "    </tr>\n",
       "    <tr>\n",
       "      <td>5</td>\n",
       "      <td>past_due</td>\n",
       "    </tr>\n",
       "    <tr>\n",
       "      <td>6</td>\n",
       "      <td>retail_cus_ids</td>\n",
       "    </tr>\n",
       "    <tr>\n",
       "      <td>7</td>\n",
       "      <td>retail_transactions</td>\n",
       "    </tr>\n",
       "    <tr>\n",
       "      <td>8</td>\n",
       "      <td>retailcusids</td>\n",
       "    </tr>\n",
       "    <tr>\n",
       "      <td>9</td>\n",
       "      <td>retailtransactions</td>\n",
       "    </tr>\n",
       "    <tr>\n",
       "      <td>10</td>\n",
       "      <td>sale_records</td>\n",
       "    </tr>\n",
       "    <tr>\n",
       "      <td>11</td>\n",
       "      <td>sales_employees</td>\n",
       "    </tr>\n",
       "    <tr>\n",
       "      <td>12</td>\n",
       "      <td>session</td>\n",
       "    </tr>\n",
       "    <tr>\n",
       "      <td>13</td>\n",
       "      <td>students</td>\n",
       "    </tr>\n",
       "    <tr>\n",
       "      <td>14</td>\n",
       "      <td>subjects</td>\n",
       "    </tr>\n",
       "    <tr>\n",
       "      <td>15</td>\n",
       "      <td>subjects_add</td>\n",
       "    </tr>\n",
       "    <tr>\n",
       "      <td>16</td>\n",
       "      <td>subscores</td>\n",
       "    </tr>\n",
       "    <tr>\n",
       "      <td>17</td>\n",
       "      <td>teacherclass</td>\n",
       "    </tr>\n",
       "    <tr>\n",
       "      <td>18</td>\n",
       "      <td>teachers</td>\n",
       "    </tr>\n",
       "    <tr>\n",
       "      <td>19</td>\n",
       "      <td>teachers_add</td>\n",
       "    </tr>\n",
       "  </tbody>\n",
       "</table>\n",
       "</div>"
      ],
      "text/plain": [
       "     Tables_in_pandasdb\n",
       "0                dealer\n",
       "1                 goods\n",
       "2        goods_customer\n",
       "3       goods_promotion\n",
       "4            goods_sell\n",
       "5              past_due\n",
       "6        retail_cus_ids\n",
       "7   retail_transactions\n",
       "8          retailcusids\n",
       "9    retailtransactions\n",
       "10         sale_records\n",
       "11      sales_employees\n",
       "12              session\n",
       "13             students\n",
       "14             subjects\n",
       "15         subjects_add\n",
       "16            subscores\n",
       "17         teacherclass\n",
       "18             teachers\n",
       "19         teachers_add"
      ]
     },
     "execution_count": 16,
     "metadata": {},
     "output_type": "execute_result"
    }
   ],
   "source": [
    "pd.read_sql_query(\"show tables\", mydb)"
   ]
  },
  {
   "cell_type": "markdown",
   "metadata": {},
   "source": [
    "### Config Path and Envs"
   ]
  },
  {
   "cell_type": "code",
   "execution_count": 17,
   "metadata": {},
   "outputs": [],
   "source": [
    "from pathlib import Path"
   ]
  },
  {
   "cell_type": "code",
   "execution_count": 18,
   "metadata": {},
   "outputs": [],
   "source": [
    "data_dir = r'C:\\Codes\\DataScience\\Data\\mysql\\data_capstone'\n",
    "p = Path(data_dir)\n",
    "csvfiles = [file for file in filter(lambda f: f.is_file() and (f.suffix == '.csv'), p.iterdir())]\n",
    "dirs = [dirname for dirname in filter(lambda f: f.is_dir(), p.iterdir())]"
   ]
  },
  {
   "cell_type": "code",
   "execution_count": 61,
   "metadata": {},
   "outputs": [],
   "source": [
    "stockdata_dir = r'C:\\Codes\\DataScience\\Data\\mysql\\data_capstone\\stk'\n",
    "pstock = Path(stockdata_dir)\n",
    "txtfiles = [file for file in filter(lambda f: f.is_file() and (f.suffix == '.txt'), pstock.iterdir())]"
   ]
  },
  {
   "cell_type": "code",
   "execution_count": 19,
   "metadata": {
    "collapsed": true
   },
   "outputs": [
    {
     "data": {
      "text/plain": [
       "[WindowsPath('C:/Codes/DataScience/Data/mysql/data_capstone/stk')]"
      ]
     },
     "execution_count": 19,
     "metadata": {},
     "output_type": "execute_result"
    }
   ],
   "source": [
    "dirs"
   ]
  },
  {
   "cell_type": "code",
   "execution_count": 62,
   "metadata": {
    "collapsed": true
   },
   "outputs": [
    {
     "data": {
      "text/plain": [
       "[WindowsPath('C:/Codes/DataScience/Data/mysql/data_capstone/stk/NASDAQ_20181003.txt'),\n",
       " WindowsPath('C:/Codes/DataScience/Data/mysql/data_capstone/stk/NASDAQ_20181004.txt'),\n",
       " WindowsPath('C:/Codes/DataScience/Data/mysql/data_capstone/stk/NASDAQ_20181005.txt'),\n",
       " WindowsPath('C:/Codes/DataScience/Data/mysql/data_capstone/stk/NASDAQ_20181008.txt'),\n",
       " WindowsPath('C:/Codes/DataScience/Data/mysql/data_capstone/stk/NASDAQ_20181009.txt'),\n",
       " WindowsPath('C:/Codes/DataScience/Data/mysql/data_capstone/stk/NASDAQ_20181010.txt'),\n",
       " WindowsPath('C:/Codes/DataScience/Data/mysql/data_capstone/stk/NASDAQ_20181011.txt'),\n",
       " WindowsPath('C:/Codes/DataScience/Data/mysql/data_capstone/stk/NASDAQ_20181012.txt'),\n",
       " WindowsPath('C:/Codes/DataScience/Data/mysql/data_capstone/stk/NASDAQ_20181015.txt'),\n",
       " WindowsPath('C:/Codes/DataScience/Data/mysql/data_capstone/stk/NASDAQ_20181016.txt'),\n",
       " WindowsPath('C:/Codes/DataScience/Data/mysql/data_capstone/stk/NASDAQ_20181017.txt'),\n",
       " WindowsPath('C:/Codes/DataScience/Data/mysql/data_capstone/stk/NASDAQ_20181018.txt'),\n",
       " WindowsPath('C:/Codes/DataScience/Data/mysql/data_capstone/stk/NASDAQ_20181019.txt'),\n",
       " WindowsPath('C:/Codes/DataScience/Data/mysql/data_capstone/stk/NASDAQ_20181022.txt'),\n",
       " WindowsPath('C:/Codes/DataScience/Data/mysql/data_capstone/stk/NASDAQ_20181023.txt'),\n",
       " WindowsPath('C:/Codes/DataScience/Data/mysql/data_capstone/stk/NASDAQ_20181024.txt'),\n",
       " WindowsPath('C:/Codes/DataScience/Data/mysql/data_capstone/stk/NASDAQ_20181025.txt'),\n",
       " WindowsPath('C:/Codes/DataScience/Data/mysql/data_capstone/stk/NASDAQ_20181026.txt'),\n",
       " WindowsPath('C:/Codes/DataScience/Data/mysql/data_capstone/stk/NASDAQ_20181029.txt'),\n",
       " WindowsPath('C:/Codes/DataScience/Data/mysql/data_capstone/stk/NASDAQ_20181030.txt'),\n",
       " WindowsPath('C:/Codes/DataScience/Data/mysql/data_capstone/stk/NASDAQ_20181031.txt'),\n",
       " WindowsPath('C:/Codes/DataScience/Data/mysql/data_capstone/stk/NASDAQ_20181101.txt')]"
      ]
     },
     "execution_count": 62,
     "metadata": {},
     "output_type": "execute_result"
    }
   ],
   "source": [
    "txtfiles"
   ]
  },
  {
   "cell_type": "code",
   "execution_count": 20,
   "metadata": {
    "collapsed": true
   },
   "outputs": [
    {
     "data": {
      "text/plain": [
       "[WindowsPath('C:/Codes/DataScience/Data/mysql/data_capstone/past_due.csv'),\n",
       " WindowsPath('C:/Codes/DataScience/Data/mysql/data_capstone/session.csv'),\n",
       " WindowsPath('C:/Codes/DataScience/Data/mysql/data_capstone/TRANSACTION.csv')]"
      ]
     },
     "execution_count": 20,
     "metadata": {},
     "output_type": "execute_result"
    }
   ],
   "source": [
    "csvfiles"
   ]
  },
  {
   "cell_type": "markdown",
   "metadata": {},
   "source": [
    "## ETL in Action"
   ]
  },
  {
   "cell_type": "markdown",
   "metadata": {},
   "source": [
    "### Loading"
   ]
  },
  {
   "cell_type": "code",
   "execution_count": 44,
   "metadata": {},
   "outputs": [],
   "source": [
    "# if_exists : {‘fail’, ‘replace’, ‘append’}, default ‘fail’\n",
    "def load_csv(files, action='fail', block=512):\n",
    "    for file in files:\n",
    "        tmp_df = pd.read_csv(str(file))\n",
    "        try:\n",
    "            tmp_df.to_sql(name=file.stem, con=mydb, index=False, if_exists=action, chunksize=block)\n",
    "            print(f'write {file.stem} to mysql!')\n",
    "        except:\n",
    "            df = pd.read_sql_query(f\"show tables like '{file.stem}'\", readengine)\n",
    "            if df.empty:\n",
    "                print(f'failed to write \"{file.stem}\" to mysql!')\n",
    "            else:\n",
    "                print(f'{file.stem} exists, pass loading.')\n",
    "            continue"
   ]
  },
  {
   "cell_type": "code",
   "execution_count": 45,
   "metadata": {
    "collapsed": true
   },
   "outputs": [
    {
     "name": "stdout",
     "output_type": "stream",
     "text": [
      "write past_due to mysql!\n",
      "session exists, pass loading.\n",
      "write TRANSACTION to mysql!\n"
     ]
    },
    {
     "name": "stderr",
     "output_type": "stream",
     "text": [
      "C:\\ProgramData\\Anaconda3\\lib\\site-packages\\pandas\\io\\sql.py:1336: UserWarning: The provided table name 'TRANSACTION' is not found exactly as such in the database after writing the table, possibly due to case sensitivity issues. Consider using lower case table names.\n",
      "  warnings.warn(msg, UserWarning)\n"
     ]
    }
   ],
   "source": [
    "load_csv(csvfiles)"
   ]
  },
  {
   "cell_type": "code",
   "execution_count": 49,
   "metadata": {
    "scrolled": true
   },
   "outputs": [
    {
     "data": {
      "text/html": [
       "<div>\n",
       "<style scoped>\n",
       "    .dataframe tbody tr th:only-of-type {\n",
       "        vertical-align: middle;\n",
       "    }\n",
       "\n",
       "    .dataframe tbody tr th {\n",
       "        vertical-align: top;\n",
       "    }\n",
       "\n",
       "    .dataframe thead th {\n",
       "        text-align: right;\n",
       "    }\n",
       "</style>\n",
       "<table border=\"1\" class=\"dataframe\">\n",
       "  <thead>\n",
       "    <tr style=\"text-align: right;\">\n",
       "      <th></th>\n",
       "      <th>total_row</th>\n",
       "    </tr>\n",
       "  </thead>\n",
       "  <tbody>\n",
       "    <tr>\n",
       "      <td>0</td>\n",
       "      <td>143712</td>\n",
       "    </tr>\n",
       "  </tbody>\n",
       "</table>\n",
       "</div>"
      ],
      "text/plain": [
       "   total_row\n",
       "0     143712"
      ]
     },
     "execution_count": 49,
     "metadata": {},
     "output_type": "execute_result"
    }
   ],
   "source": [
    "pd.read_sql_query(\"select count(*) as total_row from past_due;\", readengine)"
   ]
  },
  {
   "cell_type": "code",
   "execution_count": null,
   "metadata": {},
   "outputs": [],
   "source": [
    "for file in txtfiles:\n",
    "    tmp_df = pd.read_csv(str(file))\n",
    "    try:\n",
    "        tmp_df.to_sql(name=file.stem, con=mydb, index=False, if_exists=action, chunksize=block)\n",
    "        print(f'write {file.stem} to mysql!')\n",
    "    except:\n",
    "        df = pd.read_sql_query(f\"show tables like '{file.stem}'\", readengine)\n",
    "        if df.empty:\n",
    "            print(f'failed to write \"{file.stem}\" to mysql!')\n",
    "        else:\n",
    "            print(f'{file.stem} exists, pass loading.')"
   ]
  },
  {
   "cell_type": "markdown",
   "metadata": {},
   "source": [
    "## Analysis"
   ]
  },
  {
   "cell_type": "code",
   "execution_count": 58,
   "metadata": {},
   "outputs": [
    {
     "data": {
      "text/plain": [
       "43113.6"
      ]
     },
     "execution_count": 58,
     "metadata": {},
     "output_type": "execute_result"
    }
   ],
   "source": [
    "143712*0.3"
   ]
  },
  {
   "cell_type": "code",
   "execution_count": 56,
   "metadata": {},
   "outputs": [],
   "source": [
    "df = pd.read_sql_query(\"select * from past_due where rand()<0.3;\", readengine)"
   ]
  },
  {
   "cell_type": "code",
   "execution_count": 57,
   "metadata": {},
   "outputs": [
    {
     "data": {
      "text/html": [
       "<div>\n",
       "<style scoped>\n",
       "    .dataframe tbody tr th:only-of-type {\n",
       "        vertical-align: middle;\n",
       "    }\n",
       "\n",
       "    .dataframe tbody tr th {\n",
       "        vertical-align: top;\n",
       "    }\n",
       "\n",
       "    .dataframe thead th {\n",
       "        text-align: right;\n",
       "    }\n",
       "</style>\n",
       "<table border=\"1\" class=\"dataframe\">\n",
       "  <thead>\n",
       "    <tr style=\"text-align: right;\">\n",
       "      <th></th>\n",
       "      <th>id</th>\n",
       "      <th>report_date</th>\n",
       "      <th>past_due</th>\n",
       "    </tr>\n",
       "  </thead>\n",
       "  <tbody>\n",
       "    <tr>\n",
       "      <td>0</td>\n",
       "      <td>Acc10</td>\n",
       "      <td>1-Feb-03</td>\n",
       "      <td>No</td>\n",
       "    </tr>\n",
       "    <tr>\n",
       "      <td>1</td>\n",
       "      <td>Acc123</td>\n",
       "      <td>1-Feb-03</td>\n",
       "      <td>No</td>\n",
       "    </tr>\n",
       "    <tr>\n",
       "      <td>2</td>\n",
       "      <td>Acc14</td>\n",
       "      <td>1-Feb-03</td>\n",
       "      <td>No</td>\n",
       "    </tr>\n",
       "    <tr>\n",
       "      <td>3</td>\n",
       "      <td>Acc140</td>\n",
       "      <td>1-Feb-03</td>\n",
       "      <td>No</td>\n",
       "    </tr>\n",
       "    <tr>\n",
       "      <td>4</td>\n",
       "      <td>Acc153</td>\n",
       "      <td>1-Feb-03</td>\n",
       "      <td>No</td>\n",
       "    </tr>\n",
       "    <tr>\n",
       "      <td>...</td>\n",
       "      <td>...</td>\n",
       "      <td>...</td>\n",
       "      <td>...</td>\n",
       "    </tr>\n",
       "    <tr>\n",
       "      <td>43090</td>\n",
       "      <td>Acc5953</td>\n",
       "      <td>26-Dec-05</td>\n",
       "      <td>No</td>\n",
       "    </tr>\n",
       "    <tr>\n",
       "      <td>43091</td>\n",
       "      <td>Acc5627</td>\n",
       "      <td>27-Dec-05</td>\n",
       "      <td>No</td>\n",
       "    </tr>\n",
       "    <tr>\n",
       "      <td>43092</td>\n",
       "      <td>Acc5796</td>\n",
       "      <td>27-Dec-05</td>\n",
       "      <td>No</td>\n",
       "    </tr>\n",
       "    <tr>\n",
       "      <td>43093</td>\n",
       "      <td>Acc5891</td>\n",
       "      <td>27-Dec-05</td>\n",
       "      <td>No</td>\n",
       "    </tr>\n",
       "    <tr>\n",
       "      <td>43094</td>\n",
       "      <td>Acc5662</td>\n",
       "      <td>28-Dec-05</td>\n",
       "      <td>No</td>\n",
       "    </tr>\n",
       "  </tbody>\n",
       "</table>\n",
       "<p>43095 rows × 3 columns</p>\n",
       "</div>"
      ],
      "text/plain": [
       "            id report_date past_due\n",
       "0        Acc10    1-Feb-03       No\n",
       "1       Acc123    1-Feb-03       No\n",
       "2        Acc14    1-Feb-03       No\n",
       "3       Acc140    1-Feb-03       No\n",
       "4       Acc153    1-Feb-03       No\n",
       "...        ...         ...      ...\n",
       "43090  Acc5953   26-Dec-05       No\n",
       "43091  Acc5627   27-Dec-05       No\n",
       "43092  Acc5796   27-Dec-05       No\n",
       "43093  Acc5891   27-Dec-05       No\n",
       "43094  Acc5662   28-Dec-05       No\n",
       "\n",
       "[43095 rows x 3 columns]"
      ]
     },
     "execution_count": 57,
     "metadata": {},
     "output_type": "execute_result"
    }
   ],
   "source": [
    "df"
   ]
  },
  {
   "cell_type": "markdown",
   "metadata": {},
   "source": [
    "# END"
   ]
  },
  {
   "cell_type": "code",
   "execution_count": null,
   "metadata": {},
   "outputs": [],
   "source": []
  }
 ],
 "metadata": {
  "hide_input": false,
  "kernelspec": {
   "display_name": "Python 3",
   "language": "python",
   "name": "python3"
  },
  "language_info": {
   "codemirror_mode": {
    "name": "ipython",
    "version": 3
   },
   "file_extension": ".py",
   "mimetype": "text/x-python",
   "name": "python",
   "nbconvert_exporter": "python",
   "pygments_lexer": "ipython3",
   "version": "3.6.9"
  },
  "toc": {
   "base_numbering": 1,
   "nav_menu": {},
   "number_sections": false,
   "sideBar": true,
   "skip_h1_title": false,
   "title_cell": "Table of Contents",
   "title_sidebar": "Contents",
   "toc_cell": false,
   "toc_position": {},
   "toc_section_display": true,
   "toc_window_display": true
  }
 },
 "nbformat": 4,
 "nbformat_minor": 2
}
