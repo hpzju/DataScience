{
 "cells": [
  {
   "cell_type": "markdown",
   "metadata": {},
   "source": [
    "# Category Theory"
   ]
  },
  {
   "cell_type": "markdown",
   "metadata": {},
   "source": [
    "## Introduction"
   ]
  },
  {
   "cell_type": "markdown",
   "metadata": {},
   "source": [
    "- Studies the mathematics of mathematics\n",
    "- higher-dimensional algebra\n",
    "- Unifies mathematics\n",
    "- Set Theory VS Category Theory"
   ]
  },
  {
   "cell_type": "markdown",
   "metadata": {},
   "source": [
    "Definition:\n",
    "- A category $CT = Cat(C, H)$ is a collection of objects(aka class) and a collection of mophisms(aka homset) on objects, such that: \n",
    "  - if $A \\in Obj(C)$, We simply say $A \\in C$\n",
    "  - Given $A \\in C,\\ B \\in C$, define a set $Hom_C(A, B)$ called homset. \n",
    "    - homset's elements called morphisms or arrows from A to B.\n",
    "    - If $f \\in Hom_C(A, B)$, We write $f: A \\rightarrow B$\n",
    "  - For all morphisms has compositive, associative, identity properties\n",
    " \n"
   ]
  },
  {
   "cell_type": "markdown",
   "metadata": {},
   "source": [
    "Building Blocks:\n",
    "  - Objects: entities with structure\n",
    "  - Morphisms: \n",
    "    - Compositive: $f: A \\rightarrow B;\\ g: B_1 \\rightarrow C; B=B_1 \\implies \\exists\\ g \\circ f : A \\rightarrow C$\n",
    "    - Associative: \n",
    "      > $$\\frac{f: A \\rightarrow B;\\ g: B \\rightarrow C;\\ h: C \\rightarrow D;}{h \\circ (g \\circ f) = (h \\circ g) \\circ f }$$\n",
    "    - identity: \n",
    "      - existance\n",
    "        > $$\\forall A \\in C; \\exists 1_A \\in Hom_C(A, A)$$\n",
    "      - left and right unity laws\n",
    "        > $$\\frac{f: A \\rightarrow B;\\ 1_A: A \\rightarrow A;\\ 1_B: B \\rightarrow B;}{f \\circ 1_A = f;\\ 1_B \\circ f = f}$$\n",
    "      - dd\n",
    "        > $$f \\circ g = f \\implies g = 1_A;\\ g \\circ f = f \\implies g = 1_B$$\n",
    "  - Functors\n",
    "    "
   ]
  },
  {
   "cell_type": "markdown",
   "metadata": {},
   "source": [
    "- Universal Algebra\n",
    "  - Class\n",
    "    - Object\n",
    "      - Instance\n",
    "  - Structure\n",
    "    - Operations\n",
    "  - Properties\n",
    "    - Equations"
   ]
  },
  {
   "cell_type": "markdown",
   "metadata": {},
   "source": [
    "## Terms"
   ]
  },
  {
   "cell_type": "markdown",
   "metadata": {},
   "source": [
    "- Monoid: a category with one object.\n",
    "  - C = {o}\n",
    "  - $1_o \\in Hom_c(o,o)$\n",
    "  - $if\\; \\exists f, g \\in Hom_c(o,o)$\n",
    "    - $f \\circ g = 1_o \\implies \\text{f and g are isomorphisms}$"
   ]
  },
  {
   "cell_type": "markdown",
   "metadata": {},
   "source": [
    "- Isomorphisms: A morphism $f : x → y$ is an isomorphism if it has an inverse\n",
    "$g : y → x$ that is, a morphism with:\n",
    "    > $$ \n",
    "     g \\circ f = 1_x\\\\\n",
    "     f \\circ g = 1_y\n",
    "    $$\n",
    "- Isomophic: If there exists an isomorphism between two objects x, y ∈ C, we say they’re\n",
    "isomorphic\n",
    "- Groupoid: A category where all morphisms are isomorphisms is called a\n",
    "groupoid"
   ]
  },
  {
   "cell_type": "markdown",
   "metadata": {},
   "source": [
    "- Group: A monoid that is a groupoid is called a group.\n",
    "- Set: A category with only identity morphisms is a discrete category"
   ]
  },
  {
   "cell_type": "markdown",
   "metadata": {},
   "source": [
    "- A category with only identity morphisms is a discrete category"
   ]
  },
  {
   "cell_type": "markdown",
   "metadata": {},
   "source": [
    "- preorder: a category with at most one morphism in each homset.\n",
    "  - If there is a morphism $f : x \\rightarrow y$ in a preorder, we say “x ≤ y”; if not, we say “$x \\nleq y$\n",
    "  - Composition: $x \\leq y; y \\leq z \\implies x \\leq z$\n",
    "  - Identities: $x \\leq x$\n",
    "- An equivalence relation is a preorder that’s also a groupoid.\n"
   ]
  },
  {
   "cell_type": "code",
   "execution_count": null,
   "metadata": {},
   "outputs": [],
   "source": []
  },
  {
   "cell_type": "code",
   "execution_count": null,
   "metadata": {},
   "outputs": [],
   "source": []
  },
  {
   "cell_type": "markdown",
   "metadata": {},
   "source": [
    "  - monic\n",
    "    > $$ \n",
    "    \\frac{f: A \\rightarrow B;\\ g: C \\rightarrow A;\\ h: C \\rightarrow A;\\ f \\circ g = f \\cdot h \\implies g = h}{\\text{f is monic}}\n",
    "    $$"
   ]
  },
  {
   "cell_type": "code",
   "execution_count": null,
   "metadata": {},
   "outputs": [],
   "source": []
  },
  {
   "cell_type": "markdown",
   "metadata": {},
   "source": [
    "## Examples"
   ]
  },
  {
   "cell_type": "markdown",
   "metadata": {},
   "source": [
    "For any kind of mathematical object, there is a category with objects of that\n",
    "kind and morhpisms being the structure-preserving maps between the objects\n",
    "of that kind"
   ]
  },
  {
   "cell_type": "markdown",
   "metadata": {},
   "source": [
    "- Set is the category with sets as objects and functions as morphisms\n",
    "- Group is the category with groups as objects and homomorphisms\n",
    "as morphisms.\n",
    "- For any field k, $Vect_k$ is the category with vector spaces over a field k as objects and linear maps as morphisms\n",
    "- Ring is the category with rings as objects and ring homomorphisms as morphisms\n",
    "- Top is the category with topological spaces as objects and continuous maps as morphisms\n",
    "- Met is the category with metric spaces as objects and continuous\n",
    "maps as morphisms\n",
    "- Meas is the category with measurable spaces as objects and\n",
    "measurable maps as morphisms"
   ]
  },
  {
   "cell_type": "code",
   "execution_count": null,
   "metadata": {},
   "outputs": [],
   "source": [
    "Variant Covariant\n",
    "Limit Colimit\n",
    "Product Coproduct"
   ]
  }
 ],
 "metadata": {
  "kernelspec": {
   "display_name": "Python 3",
   "language": "python",
   "name": "python3"
  },
  "language_info": {
   "codemirror_mode": {
    "name": "ipython",
    "version": 3
   },
   "file_extension": ".py",
   "mimetype": "text/x-python",
   "name": "python",
   "nbconvert_exporter": "python",
   "pygments_lexer": "ipython3",
   "version": "3.7.5"
  },
  "toc": {
   "base_numbering": 1,
   "nav_menu": {},
   "number_sections": true,
   "sideBar": true,
   "skip_h1_title": false,
   "title_cell": "Table of Contents",
   "title_sidebar": "Contents",
   "toc_cell": false,
   "toc_position": {},
   "toc_section_display": true,
   "toc_window_display": true
  }
 },
 "nbformat": 4,
 "nbformat_minor": 2
}
