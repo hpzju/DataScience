{
 "cells": [
  {
   "cell_type": "markdown",
   "metadata": {
    "toc-hr-collapsed": false
   },
   "source": [
    "# Functions"
   ]
  },
  {
   "cell_type": "markdown",
   "metadata": {},
   "source": [
    "## Types"
   ]
  },
  {
   "cell_type": "markdown",
   "metadata": {},
   "source": [
    "- Increasing & Decresing Function\n",
    "  - $x_1 < x_2 \\implies f(x_1) < f(x_2)$"
   ]
  },
  {
   "cell_type": "markdown",
   "metadata": {},
   "source": [
    "- Even & Odd Function\n",
    "  - even: symmetric about y-axis\n",
    "    - $f(x) = f(-x)$\n",
    "  - odd: symmetric about the origin\n",
    "    - $f(x)=-f(-x)$\n",
    "  - Even-odd decompositions "
   ]
  },
  {
   "cell_type": "markdown",
   "metadata": {},
   "source": [
    "- linear function\n",
    "  - $f(x)=ax+b$\n",
    "- identity function\n",
    "  - $f(x)=c$\n",
    "- power function\n",
    "  - $f(x)=x^n$"
   ]
  },
  {
   "cell_type": "markdown",
   "metadata": {},
   "source": [
    "- polynomial function\n",
    "  - $f(x)=\\sum_{i=0}^{n}a_ix^i$\n",
    "  - quadratic functions if $n=2$\n",
    "  - cubic functions if $n=3$"
   ]
  },
  {
   "cell_type": "markdown",
   "metadata": {},
   "source": [
    "- $P=\\{ploynomial functions\\}$\n",
    "- rational function:\n",
    "  - $ƒ(x) = p(x)/q(x); p(x), q(x) \\in P,\\ and\\  q(x)\\neq 0$\n",
    "- algebraic functions\n",
    "  - $f(x)=\\{OP_{m}^{(n)}(p,q,\\cdots)(x)|OP_m \\in \\{+,-,*,/\\}; p,q \\in P\\}$"
   ]
  },
  {
   "cell_type": "markdown",
   "metadata": {},
   "source": [
    "- Trigonometric Functions\n",
    "  - $\\sin \\theta = \\frac{y}{r}$\n",
    "  - $\\cos \\theta = \\frac{x}{r}$\n",
    "  - $\\tan \\theta = \\frac{y}{x}$\n",
    "  - $\\csc \\theta = \\frac{1}{\\sin \\theta} = \\frac{r}{y}$\n",
    "  - $\\sec \\theta = \\frac{1}{\\cos \\theta} = \\frac{r}{x}$\n",
    "  - $\\cot \\theta = \\frac{1}{\\tan \\theta} = \\frac{x}{y}$\n",
    "- Formulas\n",
    "  - $e^{i\\theta}=\\cos \\theta + i \\sin \\theta$\n",
    "  - $\\cos^2 \\theta + \\sin^2 \\theta = 1$\n",
    "  - $\\cos (A + B) = \\cos A\\cos B - \\sin A\\sin B$\n",
    "  - $\\sin(A + B) = \\sin A\\cos B + \\cos A\\sin B$\n",
    "- Law of Cosines\n",
    "  - $c^2 = a^2 + b^2 - 2ab \\cos\\theta$"
   ]
  },
  {
   "cell_type": "code",
   "execution_count": 25,
   "metadata": {
    "collapsed": true,
    "jupyter": {
     "outputs_hidden": true
    }
   },
   "outputs": [
    {
     "data": {
      "application/vnd.jupyter.widget-view+json": {
       "model_id": "6996b6fa9a6a44f980c10f6feb8c8fff",
       "version_major": 2,
       "version_minor": 0
      },
      "text/plain": [
       "interactive(children=(FloatSlider(value=50.0, description='A'), FloatSlider(value=50.0, description='B'), Floa…"
      ]
     },
     "metadata": {},
     "output_type": "display_data"
    }
   ],
   "source": [
    "import numpy as np\n",
    "import matplotlib.pyplot as plt\n",
    "import seaborn as sns\n",
    "import ipywidgets as widgets\n",
    "from ipywidgets import interact, interact_manual\n",
    "import math\n",
    "\n",
    "@interact\n",
    "def show_sinusoid(A=(0,100,0.1), B=(0,100,0.1), C=(0,100,0.1), D=(0,100,0.1)):\n",
    "    plt.figure(figsize=(10,6))\n",
    "    X=list(range(-100,100))\n",
    "    Y=[ A*math.sin(2*math.pi/B*(x-C))+D for x in X]\n",
    "    sns.lineplot(x=X, y=Y)"
   ]
  },
  {
   "cell_type": "markdown",
   "metadata": {},
   "source": [
    "- Exponential Functions\n",
    "  - $f(x)=e^x$\n",
    "- Logarithmic Functions\n",
    "  - $f(x)=\\log_a x$"
   ]
  },
  {
   "cell_type": "markdown",
   "metadata": {},
   "source": [
    "- Transcendental Functions\n",
    "\n",
    "- Hyperbolic Functions\n",
    "  - $\\sinh x = \\frac{e^x-e^{-x}}{2}$\n",
    "  - $\\cosh x = \\frac{e^x+e^{-x}}{2}$\n",
    "  - $\\tanh x = \\frac{e^x-e^{-x}}{e^x+e^{-x}}$\n",
    "  - $csch x = \\frac{1}{\\sinh x} = \\frac{2}{e^x-e^{-x}}$\n",
    "  - $sech x = \\frac{1}{\\cosh x} = \\frac{2}{e^x+e^{-x}}$\n",
    "  - $\\coth x = \\frac{e^x+e^{-x}}{e^x-e^{-x}}$\n",
    "- Fomular:\n",
    "  - $\\cosh^2 x -  \\sinh^2 x= 1$\n",
    "  - $\\sinh 2x = 2 \\sinh x \\cosh x$\n",
    "  - $\\cosh 2x = \\cosh^2 x + \\sinh^2 x$\n",
    "  - $\\cosh^2 x = \\frac{\\cosh 2x + 1}{2}$\n",
    "  - $\\sinh^2 x = \\frac{\\cosh 2x - 1}{2}$\n",
    "  - $\\tanh^2 x = 1 - sech^2 x$  \n",
    "  - $\\coth2^2 x =1 + csch^2 x$  "
   ]
  },
  {
   "cell_type": "markdown",
   "metadata": {},
   "source": [
    "- Periodic Functions\n",
    "  - $\\exists \\ p, \\forall \\  x, f(x)=f(x+p)$"
   ]
  },
  {
   "cell_type": "markdown",
   "metadata": {},
   "source": [
    "## Operators"
   ]
  },
  {
   "cell_type": "markdown",
   "metadata": {},
   "source": [
    "- Arithmetic: Sums, Differences, Products, and Quotients\n",
    "  - $(f+g)(x)=f(x)+g(x)$\n",
    "  - $(f-g)(x)=f(x)-g(x)$\n",
    "  - $(f\\cdot g)(x)=f(x)\\cdot g(x)$\n",
    "  - $(f/g)(x)=\\frac{f(x)}{g(x)}; g(x)\\ne 0$"
   ]
  },
  {
   "cell_type": "markdown",
   "metadata": {},
   "source": [
    "- Composite:\n",
    "  - $(f\\circ g)(x) = f(g(x))$"
   ]
  },
  {
   "cell_type": "markdown",
   "metadata": {},
   "source": [
    "- Shifting a Graph of a Function\n",
    "  - vertical shifting:\n",
    "    - $y=f(x)+k$\n",
    "  - horizontal shifting:\n",
    "    - $y=f(x+h)$"
   ]
  },
  {
   "cell_type": "markdown",
   "metadata": {},
   "source": [
    "- Scaling a Graph of a Function\n",
    "  - vertical streching/compressing:\n",
    "    - $y=cf(x)$\n",
    "  - horizontal streching/compressing:\n",
    "    - $y=f(x/c)$"
   ]
  },
  {
   "cell_type": "markdown",
   "metadata": {},
   "source": [
    "- Reflecting Graph of a Function\n",
    "  - reflecting across x-axis\n",
    "    - $y=-f(x)$\n",
    "  - reflecting across y-axis\n",
    "    - $y=f(-x)$"
   ]
  },
  {
   "cell_type": "markdown",
   "metadata": {},
   "source": [
    "- Inverse Function\n",
    "  - $\\forall x_1\\ne x_2 \\implies f(x_1) \\ne f(x_2); \\exists f^{-1}, f^{-1}(b)=a\\; \\text{if } f(a)=b$"
   ]
  },
  {
   "cell_type": "markdown",
   "metadata": {
    "toc-hr-collapsed": false
   },
   "source": [
    "# Limits and Continuity"
   ]
  },
  {
   "cell_type": "markdown",
   "metadata": {},
   "source": [
    "## limit Definition"
   ]
  },
  {
   "cell_type": "markdown",
   "metadata": {},
   "source": [
    "$$\n",
    "\\text{Let $f(x)$ be defined on an open interval $\\mathcal{I}$ about $c$, }\\\\\n",
    "\\text{except possibly at $c$ itself.} \\\\\n",
    "\\text{We say that the limit of $f(x)$ as $x$ approaches $c$ is the number $L$: }\\\\\n",
    "\\lim_{ x \\to c} f(x) = L \\\\\n",
    "\\iff\n",
    "\\forall \\varepsilon > 0 ;\\; \\exists \\delta > 0 ;\\; \\\\\n",
    "\\forall x, 0 < |x-c| < \\delta \\implies |f(x)-L| < \\varepsilon\n",
    "$$"
   ]
  },
  {
   "cell_type": "markdown",
   "metadata": {},
   "source": [
    "## limit laws"
   ]
  },
  {
   "cell_type": "markdown",
   "metadata": {},
   "source": [
    "- prerequsite\n",
    "> $$\n",
    "L, M, k, c \\in \\mathcal{R}, \\text{ and }\\\\\n",
    "\\lim_{x\\to c} f(x) = L; \\\\\n",
    "\\lim_{x\\to c} g(x) = M \\\\\n",
    "$$\n",
    "\n",
    "- Sum Rule\n",
    "> $$\n",
    "\\lim_{x\\to c} (f(x)+g(x)) = L+M; \\\\\n",
    "$$\n",
    "\n",
    "- Difference Rule\n",
    "> $$\n",
    "\\lim_{x\\to c} (f(x)-g(x)) = L-M; \\\\\n",
    "$$\n",
    "\n",
    "- Constant Multiple Rule\n",
    "> $$\n",
    "\\lim_{x\\to c} k\\cdot f(x) = k\\cdot L; \\\\\n",
    "$$\n",
    "\n",
    "- Product Rule\n",
    "> $$\n",
    "\\lim_{x\\to c} (f(x) \\cdot g(x)) = L \\cdot M; \\\\\n",
    "$$\n",
    "\n",
    "- Quotient Rule\n",
    "> $$\n",
    "\\lim_{x\\to c}\\frac{f(x)}{g(x)} = \\frac{L}{M}, M \\ne 0; \\\\\n",
    "$$\n",
    "\n",
    "- Power Rule\n",
    "> $$\n",
    "\\lim_{x\\to c}(f(x))^n = L^n, n \\in \\mathcal{N}; \\\\\n",
    "$$\n",
    "    \n",
    "- Root Rule\n",
    "> $$\n",
    "\\lim_{x\\to c}\\sqrt[n]{f(x)} = \\sqrt[n]{L}, n \\in \\mathcal{N}; \\\\\n",
    "$$\n"
   ]
  },
  {
   "cell_type": "markdown",
   "metadata": {},
   "source": [
    "## limit theorems"
   ]
  },
  {
   "cell_type": "markdown",
   "metadata": {},
   "source": [
    "- limits of Polynomials\n",
    "> $$\n",
    "P(x) = \\sum_{i=0}^{n}a_ix^i \\implies \\\\\n",
    "\\lim_{x\\to c}P(x)=P(c)=\\sum_{i=0}^{n}a_ic^i\n",
    "$$"
   ]
  },
  {
   "cell_type": "markdown",
   "metadata": {},
   "source": [
    "- limits of rational Functions\n",
    "> $$\n",
    "P(x) = \\sum_{i=0}^{n}a_ix^i, Q(x) = \\sum_{i=0}^{m}b_ix^i, Q(c) \\ne 0 \\implies \\\\\n",
    "\\lim_{x\\to c}\\frac{P(x)}{Q(x)}=\\frac{P(c)}{Q(c)}\n",
    "$$"
   ]
  },
  {
   "cell_type": "markdown",
   "metadata": {},
   "source": [
    "- The Sandwich Theorem\n",
    "> $$\n",
    "c \\in I;\\; \\forall x \\in I \\text{ and } x \\ne c, g(x) \\le f(x) \\le h(x;\\; \\\\ \\\\\n",
    "\\lim_{x \\to c}g(x)=\\lim_{x \\to c}h(x)=L \\\\\n",
    "\\implies \\lim_{x \\to c}f(x) = L\n",
    "$$"
   ]
  },
  {
   "cell_type": "markdown",
   "metadata": {},
   "source": [
    "- Asymptotes"
   ]
  },
  {
   "cell_type": "markdown",
   "metadata": {},
   "source": [
    "## Continuity"
   ]
  },
  {
   "cell_type": "markdown",
   "metadata": {},
   "source": [
    " - The function $ƒ$ is continuous at $c \\iff \\lim_{x \\to c}f(x)=c$\n",
    " - The function $ƒ$ is right-continuous at $c \\iff \\lim_{x \\to c^+}f(x)=c$\n",
    " - The function $ƒ$ is left-continuous at $c \\iff \\lim_{x \\to c^-}f(x)=c$\n",
    " - properties of Continuous Functions\n",
    "   - limit laws are all aplicable\n",
    "   - All composites of continuous functions are continuous\n",
    "   - The inverse function of any function continuous on an interval is continuous over its domain"
   ]
  },
  {
   "cell_type": "markdown",
   "metadata": {},
   "source": [
    "- The Intermediate Value Theorem for Continuous Functions\n",
    "> $$\n",
    "\\text{If ƒ is a continuous function on a closed interval } [a, b] \\\\\n",
    "\\forall\\, y_0 \\in f(a)\\ and\\ f(b) \\\\\n",
    "\\exists\\, c \\in [a, b],\\, f(c) = y_0\n",
    "$$"
   ]
  },
  {
   "cell_type": "markdown",
   "metadata": {
    "toc-hr-collapsed": false
   },
   "source": [
    "# Derivatives"
   ]
  },
  {
   "cell_type": "markdown",
   "metadata": {},
   "source": [
    "## Definition"
   ]
  },
  {
   "cell_type": "markdown",
   "metadata": {},
   "source": [
    "$$\n",
    "\\text{The derivative of a function $f$ at a point $x_0$, denoted $f'(x_0)$, is}\\\\\n",
    "f'(x_0) = \\lim_{h \\to 0}\\frac{f(x_0+h)-f(x_0)}{h} \\\\\n",
    "\\text{provided this limit exists.}\n",
    "$$"
   ]
  },
  {
   "cell_type": "markdown",
   "metadata": {},
   "source": [
    "$$\n",
    "\\text{The derivative of a function $f(x)$ with respect to the variable $x$, the function $f'$ whose value at $x$ is}\\\\\n",
    "f'(x) = \\lim_{h \\to 0}\\frac{f(x+h)-f(x)}{h} \\\\\n",
    "\\text{provided this limit exists.}\n",
    "$$"
   ]
  },
  {
   "cell_type": "markdown",
   "metadata": {},
   "source": [
    "$$\n",
    "\\text{The derivative of a function $f(x)$ with respect to the variable $x$, the function $f'$ whose value at $x$ is}\\\\\n",
    "f'(x) = \\lim_{z \\to x}\\frac{f(z)-f(x)}{z-x} \\\\\n",
    "\\text{provided this limit exists.}\n",
    "$$"
   ]
  },
  {
   "cell_type": "markdown",
   "metadata": {},
   "source": [
    "- Notations\n",
    "> $$\n",
    "f'(x) = y' = \\frac{dy}{dx} = \\frac{df}{dx} \\\\\n",
    "= \\frac{d}{dx}f(x) = D(f)(x) = D_x(f)\n",
    "$$"
   ]
  },
  {
   "cell_type": "markdown",
   "metadata": {
    "toc-hr-collapsed": true
   },
   "source": [
    "## Derivatives and Differentiation Rules"
   ]
  },
  {
   "cell_type": "markdown",
   "metadata": {},
   "source": [
    "### Derivative Formulars"
   ]
  },
  {
   "cell_type": "markdown",
   "metadata": {},
   "source": [
    "- Derivative of a Constant Function\n",
    "> $$\n",
    "f(x)=C \\implies df = 0\n",
    "$$"
   ]
  },
  {
   "cell_type": "markdown",
   "metadata": {},
   "source": [
    "- Derivative of a Power Function\n",
    "> $$\n",
    "\\text{$\\forall \\; x,\\; x^n$ and $x^{n-1}$ are defined. }\\\\\n",
    "f(x)=x^n,\\,n \\in \\mathcal{R} \\implies df = dx^n=nx^{n-1}dx \n",
    "$$"
   ]
  },
  {
   "cell_type": "markdown",
   "metadata": {},
   "source": [
    "- Derivatives of Exponential Functions\n",
    "> $$\n",
    "d(e^x) =e^x dx \\\\\n",
    "d(a^x) =d(e^{x\\ln{a}}) = \\ln{a}\\;a^xdx\n",
    "$$"
   ]
  },
  {
   "cell_type": "markdown",
   "metadata": {},
   "source": [
    "- Derivative of the Trigonometric Function\n",
    "> $$\n",
    "d(\\sin x) = \\cos x dx \\\\\n",
    "d(\\csc x) = d(\\frac{1}{\\sin x}) = \\frac{-\\cos x}{sin^2x}dx = -\\csc x \\, \\cot x \\, dx  \\\\\n",
    "d(\\cos x) = -\\sin x dx \\\\\n",
    "d(\\sec x) = d(\\frac{1}{\\cos x}) = \\frac{\\sin x}{\\cos^2x}dx = \\sec x \\, \\tan x \\, dx \\\\\n",
    "d(\\tan x) = d(\\frac{\\sin x}{\\cos x}) = \\frac{\\cos x \\cos x - \\sin x (-\\sin x )}{\\cos^2x}dx  = sec^2xdx\\\\\n",
    "d(\\cot x) = d(\\frac{\\cos x}{\\sin x}) = \\frac{(- \\sin x) \\sin x - \\cos x \\cos x}{\\sin^2x}dx  = - csc^2xdx \\\\\n",
    "$$"
   ]
  },
  {
   "cell_type": "markdown",
   "metadata": {},
   "source": [
    "- Derivative of the Hyperbolic Function\n",
    "> $$\n",
    "\\frac{d}{dx}(\\sinh u) = \\cosh u \\frac{du}{dx} \\\\\n",
    "\\frac{d}{dx}(csch\\, u) = \\frac{d}{dx}(\\frac{1}{\\sinh u}) = \\frac{d}{dx}\\frac{- \\cosh u}{\\sinh^2u} = -csch u \\coth u \\frac{du}{dx}  \\\\\n",
    "\\frac{d}{dx}(\\cosh u) = \\sinh u \\frac{du}{dx} \\\\\n",
    "\\frac{d}{dx}(sech\\, u) = \\frac{d}{dx}(\\frac{1}{\\cosh u}) = \\frac{d}{dx}\\frac{- \\sinh u}{\\cosh^2u} = -sech u \\tanh u \\frac{du}{dx} \\\\\n",
    "\\frac{d}{dx}(\\tanh u) = \\frac{d}{dx}(\\frac{\\sinh u}{\\cosh u}) = \\frac{d}{dx}\\frac{\\cosh^2 u- \\sinh^2 u}{\\cosh^2u}  = sech^2u\\frac{du}{dx}\\\\\n",
    "\\frac{d}{dx}(\\coth u) = \\frac{d}{dx}(\\frac{\\cosh u}{\\sinh u}) = \\frac{\\sinh^2 u - \\cosh^2 u}{\\sinh^2u}  = - csch^2u\\frac{du}{dx} \\\\\n",
    "$$"
   ]
  },
  {
   "cell_type": "markdown",
   "metadata": {},
   "source": [
    "- Derivative of Inversed Trigonometric Function\n",
    "> $$\n",
    "\\frac{d}{dx}(\\sin^{-1}u) = \\frac{1}{\\sqrt{1-u^2}}\\frac{du}{dx};\\; |u|<1 \\\\\n",
    "\\cos^{-1} x = \\pi/2 - \\sin^{-1} x \\\\\n",
    "\\frac{d}{dx}(\\tan^{-1}u) = \\frac{1}{1+u^2}\\frac{du}{dx} \\\\\n",
    "\\cot^{-1} x = \\pi/2 - \\tan^{-1} x \\\\\n",
    "\\frac{d}{dx}(\\sec^{-1}u) = \\frac{1}{|u|\\sqrt{u^2-1}}\\frac{du}{dx};\\; |u|>1\\\\\n",
    "\\csc^{-1} x = \\pi/2 - \\sec^{-1} x \\\\\n",
    "$$"
   ]
  },
  {
   "cell_type": "markdown",
   "metadata": {},
   "source": [
    "- Derivative of Inversed Hyperbolic Function\n",
    "> $$\n",
    "\\frac{d}{dx}(\\sinh^{-1} u) = \\frac{1}{\\sqrt{u^2+1}} \\frac{du}{dx} \\\\\n",
    "\\\\\n",
    "\\frac{d}{dx}(csch^{-1}\\, u) = -\\frac{1}{|u|\\sqrt{1+u^2}} \\frac{du}{dx}; u\\ne 0  \\\\\n",
    "\\\\\n",
    "\\frac{d}{dx}(\\cosh^{-1} u) = \\frac{1}{\\sqrt{u^2-1}} \\frac{du}{dx}; |u|>1\\\\\n",
    "\\\\\n",
    "\\frac{d}{dx}(sech^{-1}\\, u) = -\\frac{1}{u\\sqrt{1-u^2}} \\frac{du}{dx}; 0<u<1 \\\\\n",
    "\\\\\n",
    "\\frac{d}{dx}(\\tanh^{-1} u) = \\frac{1}{1-u^2} \\frac{du}{dx}; |u|<1\\\\\n",
    "\\\\\n",
    "\\frac{d}{dx}(\\coth^{-1} u) = \\frac{1}{1-u^2} \\frac{du}{dx}; |u|>1 \\\\\n",
    "$$"
   ]
  },
  {
   "cell_type": "markdown",
   "metadata": {},
   "source": [
    "- Derivative of a Composite Function\n",
    "> $$\n",
    "y=f(u), u=g(x) \\implies \\\\ \n",
    "\\frac{dy}{dx}=\\frac{dy}{du}\\cdot\\frac{du}{dx}\n",
    "$$"
   ]
  },
  {
   "cell_type": "markdown",
   "metadata": {},
   "source": [
    "- Derivative of Implicit Function\n",
    "> $$\n",
    "\\text{Differentiate both sides of the equation with respect to $x$,} \\\\\n",
    "\\text{treating $y$ as a differentiable function of $x$} \\\\ \n",
    "\\text{Collect the terms with $dy/dx$ on one side of the equation and solve for $dy/dx$}\n",
    "$$"
   ]
  },
  {
   "cell_type": "markdown",
   "metadata": {},
   "source": [
    "- Derivatives of Inverses of Differentiable Functions\n",
    "> $$\n",
    "\\text{If $ƒ$ has an interval $I$ as domain and $ƒ′(x)$ exists and  $ƒ′(x) \\ne 0, \\forall x \\in I$,}\\\\\n",
    "\\text{then $ƒ^{-1}$ is differentiable at every point in its domain (the range of ƒ).}\\\\\n",
    "f(a)=b \\implies \\frac{d f^{-1}}{dx}\\bigg\\vert_{x=b} = \\frac{1}{\\frac{df}{dx}\\bigg\\vert_{x=a}}\n",
    "$$"
   ]
  },
  {
   "cell_type": "code",
   "execution_count": null,
   "metadata": {},
   "outputs": [],
   "source": []
  },
  {
   "cell_type": "markdown",
   "metadata": {},
   "source": [
    "### Differentiation Rules"
   ]
  },
  {
   "cell_type": "markdown",
   "metadata": {},
   "source": [
    "- Derivative Constant Multiple Rule\n",
    "> $$\n",
    "\\text{$c$ is constant, $f$ is a differentiable function of x }\\\\\n",
    "d(c \\cdot f) =c \\cdot df = c \\cdot f'dx\n",
    "$$"
   ]
  },
  {
   "cell_type": "markdown",
   "metadata": {},
   "source": [
    "- Derivative Sum Rule\n",
    "> $$\n",
    "du = u'dx;\\; dv = v' dx \\implies d(u + v) = (u'+v')dx\n",
    "$$"
   ]
  },
  {
   "cell_type": "markdown",
   "metadata": {},
   "source": [
    "- Derivative Product Rule\n",
    "> $$\n",
    "du = u'dx;\\; dv = v' dx \\implies d(u \\cdot v) = u \\cdot dv + du \\cdot v = (u \\cdot v' + u' \\cdot v)dx\n",
    "$$"
   ]
  },
  {
   "cell_type": "markdown",
   "metadata": {},
   "source": [
    "- Derivative Quotient Rule\n",
    "> $$\n",
    "du = u'dx;\\; dv = v' dx ;\\; v(x) \\ne 0 \\implies d(\\frac{u}{v}) = \\frac{v \\cdot du - u \\cdot dv }{v^2} = \\frac{v \\cdot u' - u \\cdot v' }{v^2}dx\n",
    "$$"
   ]
  },
  {
   "cell_type": "markdown",
   "metadata": {},
   "source": [
    "- Irrational Exponents and the Power Rule\n",
    "> $$\n",
    "\\forall x > 0 \\implies x^n = e^{n\\ln x} \\\\\n",
    "\\frac{d}{dx}x^n = \\frac{d}{dx}e^{n\\ln x} = e^{n\\ln x} \\frac{d}{dx}{n\\ln x} = x^n n \\frac{1}{x} = nx^{n-1}\n",
    "$$\n",
    "\n",
    "> $$\n",
    "lim_{x \\to 0}(1 + x)^{\\frac{1}{x}} = e\n",
    "$$"
   ]
  },
  {
   "cell_type": "markdown",
   "metadata": {},
   "source": [
    "- l’Hôpital’s Rule\n",
    "> $$\n",
    "f(a) = g(a) = 0, \\\\\n",
    "\\text{f, g are differentiable on an open interval I containing a.} \\\\\n",
    "g'(x) \\ne 0, \\forall x \\ne a \\\\\n",
    "\\lim_{x \\to a}\\frac{f(x)}{g(x)} = \\lim_{x \\to a}\\frac{f'(x)}{g'(x)}\n",
    "$$"
   ]
  },
  {
   "cell_type": "markdown",
   "metadata": {},
   "source": [
    "## Applications"
   ]
  },
  {
   "cell_type": "markdown",
   "metadata": {},
   "source": [
    "- the extreme Value theorem\n",
    "- the First Derivative theorem for Local extreme values\n",
    "- the mean Value theorem\n",
    "- monotonic Functions and the First Derivative test\n",
    "- Cauchy’s Mean Value Theorem\n",
    "- Newton's Method\n",
    "  > $$\n",
    "  \\frac{y-f(x_n)}{x-x_n}=f'(x_n) \\\\\n",
    "  x_{n+1}=x_n-\\frac{f(x_n)}{f'(x_n)}\n",
    "  $$"
   ]
  },
  {
   "cell_type": "code",
   "execution_count": null,
   "metadata": {},
   "outputs": [],
   "source": []
  },
  {
   "cell_type": "markdown",
   "metadata": {},
   "source": [
    "# Integrals"
   ]
  },
  {
   "cell_type": "markdown",
   "metadata": {},
   "source": [
    "- Riemann Sums\n",
    "> $$\n",
    "\\text{bounded function $f$ defined on a closed interval $I=[a, b]$}\\\\\n",
    "P = \\{x_0, x_1, x_2, \\cdots, x_{n-1}, x_n\\}, a=x_0, b=x_n \\\\\n",
    "\\Delta x_k = x_k-x_{k-1}, c_k \\in I_k=[x_{k-1}, x_k]\\\\\n",
    "RS_p=\\sum_{k=1}^nf(c_k)\\Delta x_k\n",
    "$$"
   ]
  },
  {
   "cell_type": "markdown",
   "metadata": {},
   "source": [
    "## Definite Integral"
   ]
  },
  {
   "cell_type": "markdown",
   "metadata": {},
   "source": [
    "- Definite Integral\n",
    "> $$\n",
    "\\int_a^bf(x)dx=J  \\iff \\forall \\varepsilon>0, \\exists \\delta>0, \\\\\n",
    "\\forall P=\\{x_0, x_1, x_2, \\cdots, x_{n-1}, x_n\\} \\text{ of $[a, b]$, with $||P||<\\delta$} \\\\\n",
    "\\forall c_k \\in I_k, \\implies \\bigg| \\sum_{k=1}^nf(c_k)\\Delta x_k - J \\bigg| < \\varepsilon\n",
    "$$\n",
    "\n",
    "  > $$\n",
    "  J = \\lim_{||P|| \\to 0} \\sum_{k=1}^n f(c_k)\\Delta x_k\n",
    "  $$"
   ]
  },
  {
   "cell_type": "markdown",
   "metadata": {},
   "source": [
    "- Integrability of Continuous Functions\n",
    "  -If a function ƒ is continuous over the interval $[a, b]$ , or if ƒ has at most finitely many jump discontinuities there, then the definite integral $\\int_a^bƒ(x) dx$ exists and ƒ is integrable over $[a, b]$."
   ]
  },
  {
   "cell_type": "markdown",
   "metadata": {},
   "source": [
    "- Definite integrals Rules\n",
    "  - Order of Integration\n",
    "  > $$\n",
    "  \\int_a^bf(x)dx= - \\int_b^af(x)dx=J\n",
    "  $$\n",
    "  - Zero Width Interval\n",
    "  > $$\n",
    "  \\int_a^af(x)dx= 0\n",
    "  $$\n",
    "  - Constant Multiple\n",
    "  > $$\n",
    "  \\int_a^bcf(x)dx= c\\int_a^bf(x)dx\n",
    "  $$\n",
    "  - Sum and Difference\n",
    "  > $$\n",
    "  \\int_a^b(f(x) \\pm g(x))dx= \\int_a^bf(x)dx \\pm \\int_a^bg(x)dx\n",
    "  $$\n",
    "  - Interval Additivity\n",
    "  > $$\n",
    "  \\int_a^bf(x)dx + \\int_b^cf(x)dx= \\int_a^cf(x)dx\n",
    "  $$\n",
    "  - Max-Min Inequality\n",
    "  > $$\n",
    "  min(f)\\cdot(b-a) \\le \\int_a^bf(x)dx \\le  max(f)\\cdot(b-a)\n",
    "  $$\n",
    "  - Domination\n",
    "  > $$\n",
    "  f(x) \\ge g(x) \\text{ on } [a, b] \\le \\implies \\int_a^bf(x)dx \\ge \\int_a^bg(x)dx\n",
    "  $$\n",
    "  - Substitution\n",
    "  > $$\n",
    "  \\int_a^bf(g(x))g'(x)dx = \\int_{g(a)}^{g(b)}f(u)du\n",
    "  $$\n",
    "  - Leibniz’s Rule\n",
    "  > $$\n",
    "  \\frac{d}{dx}\\int_{u(x)}^{v(x)}f(t)dt = f(v(x))\\frac{dv}{dx} - f(u(x))\\frac{du}{dx}\n",
    "  $$\n",
    "  - Integration by Parts Formula\n",
    "  > $$\n",
    "  \\int udv = uv - \\int vdu\n",
    "  $$"
   ]
  },
  {
   "cell_type": "markdown",
   "metadata": {},
   "source": [
    "- The Mean Value Theorem for Definite Integrals\n",
    " >  $$\n",
    " \\text{ f is continuous on $[a, b]$, then at some point $c \\in [a, b] $} \\\\\n",
    " f(c) = \\frac{1}{b-a}\\int_a^bf(x)dx\n",
    " $$"
   ]
  },
  {
   "cell_type": "markdown",
   "metadata": {},
   "source": [
    "## Definite Integral Application"
   ]
  },
  {
   "cell_type": "markdown",
   "metadata": {},
   "source": [
    "- Moments, Mass, and Center of Mass of a Thin Plate Covering a Region in\n",
    "the xy-Plane"
   ]
  },
  {
   "cell_type": "markdown",
   "metadata": {},
   "source": [
    "- Centroids"
   ]
  },
  {
   "cell_type": "markdown",
   "metadata": {},
   "source": [
    "# Infinite Sequences and Series\n",
    "\n"
   ]
  },
  {
   "cell_type": "markdown",
   "metadata": {},
   "source": [
    "## Infinite Sequence Rules"
   ]
  },
  {
   "cell_type": "markdown",
   "metadata": {},
   "source": [
    "- Convergence and Divergence"
   ]
  },
  {
   "cell_type": "markdown",
   "metadata": {},
   "source": [
    "## Series"
   ]
  },
  {
   "cell_type": "markdown",
   "metadata": {},
   "source": [
    "- A power series about x = 0\n",
    "- A power series about x = a\n",
    "- Taylor Series and Maclaurin Series\n",
    " > $$\n",
    " \\text{Let $ƒ$ be a function with derivatives of all orders throughout interval I}\\\\\n",
    " \\text{ $a \\in I $ as an interior point. Taylor series generated by ƒ at $x = a$ is}\\\\\n",
    " \\sum_{k=0}^{\\infty}\\frac{f^{(k)}(a)}{k!}(x-a)^k \\\\\n",
    " \\text{The Maclaurin series of ƒ is the Taylor series generated by ƒ at x = 0} \\\\\n",
    " \\sum_{k=0}^{\\infty}\\frac{f^{(k)}(0)}{k!}x^k\n",
    " $$\n",
    " \n",
    "- Taylor polynomial of order n generated by ƒ at x = a\n",
    " > $$\n",
    " P_n(x)=\\sum_{k=0}^{n}\\frac{f^{(k)}(a)}{k!}(x-a)^k \\\\\n",
    " $$"
   ]
  },
  {
   "cell_type": "code",
   "execution_count": null,
   "metadata": {},
   "outputs": [],
   "source": []
  },
  {
   "cell_type": "code",
   "execution_count": null,
   "metadata": {},
   "outputs": [],
   "source": []
  },
  {
   "cell_type": "code",
   "execution_count": null,
   "metadata": {},
   "outputs": [],
   "source": []
  },
  {
   "cell_type": "code",
   "execution_count": null,
   "metadata": {},
   "outputs": [],
   "source": []
  },
  {
   "cell_type": "code",
   "execution_count": null,
   "metadata": {},
   "outputs": [],
   "source": []
  },
  {
   "cell_type": "code",
   "execution_count": null,
   "metadata": {},
   "outputs": [],
   "source": []
  },
  {
   "cell_type": "markdown",
   "metadata": {},
   "source": [
    "# End"
   ]
  },
  {
   "cell_type": "code",
   "execution_count": 2,
   "metadata": {},
   "outputs": [],
   "source": [
    "import pandas as pd\n",
    "import numpy as np\n",
    "import seaborn as sns\n",
    "import matplotlib.pyplot as plt"
   ]
  },
  {
   "cell_type": "code",
   "execution_count": 12,
   "metadata": {},
   "outputs": [
    {
     "data": {
      "image/png": "[encoded data removed]",
      "text/plain": [
       "<Figure size 432x288 with 1 Axes>"
      ]
     },
     "metadata": {
      "needs_background": "light"
     },
     "output_type": "display_data"
    }
   ],
   "source": [
    "X=np.linspace(-2,2,100)\n",
    "Y = np.power(X,2)\n",
    "sns.scatterplot(X,Y)\n",
    "sns.lineplot(X,Y)\n",
    "sns.despine()"
   ]
  },
  {
   "cell_type": "code",
   "execution_count": null,
   "metadata": {},
   "outputs": [],
   "source": [
    ">>> g.despine(left=True) Remove left spine\n",
    ">>> g.set_ylabels(\"Survived\") Set the labels of the y-axis\n",
    ">>> g.set_xticklabels(rotation=45) Set the tick labels for x\n",
    ">>> g.set_axis_labels(\"Survived\", Set the axis labels\n",
    " \"Sex\")\n",
    ">>> h.set(xlim=(0,5), Set the limit and ticks of the\n",
    " ylim=(0,5), x-and y-axis\n",
    " xticks=[0,2.5,5],\n",
    " yticks=[0,2.5,5])"
   ]
  }
 ],
 "metadata": {
  "kernelspec": {
   "display_name": "Python 3",
   "language": "python",
   "name": "python3"
  },
  "language_info": {
   "codemirror_mode": {
    "name": "ipython",
    "version": 3
   },
   "file_extension": ".py",
   "mimetype": "text/x-python",
   "name": "python",
   "nbconvert_exporter": "python",
   "pygments_lexer": "ipython3",
   "version": "3.7.3"
  },
  "toc-autonumbering": true
 },
 "nbformat": 4,
 "nbformat_minor": 4
}
