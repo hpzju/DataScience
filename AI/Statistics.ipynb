{
 "cells": [
  {
   "cell_type": "markdown",
   "metadata": {
    "Collapsed": "true",
    "toc-hr-collapsed": true
   },
   "source": [
    "# Statistics"
   ]
  },
  {
   "cell_type": "markdown",
   "metadata": {
    "Collapsed": "true"
   },
   "source": [
    "## Terms"
   ]
  },
  {
   "cell_type": "markdown",
   "metadata": {
    "Collapsed": "false"
   },
   "source": [
    "- q-quantile: one of deinition\n",
    "> $$\n",
    "\\text{seires $s$, sort into $o$} \\\\\n",
    "\\text{let $r_{th}$ percentile function as: $Pr$} \\\\\n",
    "\\mathop{\\mbox{$q$-$\\mathit{quantile}$}}(s) = \\{(x_1, x_2, \\ldots, x_{q-1})|x_i=Pr(i/q)\\} \n",
    "$$"
   ]
  },
  {
   "cell_type": "markdown",
   "metadata": {
    "Collapsed": "false"
   },
   "source": [
    "- IQR: Interquartile Range\n",
    "\n",
    "$$\n",
    "IQR = \\{x \\in (Q_1, Q_3)|Q_i=Pr(i/4)\\} \n",
    "$$"
   ]
  },
  {
   "cell_type": "markdown",
   "metadata": {
    "Collapsed": "false"
   },
   "source": [
    "- z_score: z-score is the number of standard deviations from the mean a data point is\n",
    "\n",
    "> $$\n",
    "z = \\frac{(x-\\mu)}{\\sigma},\\; \\text{$\\mu$ is mean, $\\sigma$ is standard deviation}\\\\\n",
    "$$\n",
    "z score tells you how many standard deviations from the mean your value $x$ is"
   ]
  },
  {
   "cell_type": "markdown",
   "metadata": {
    "Collapsed": "false"
   },
   "source": [
    "- outlier\n",
    "  - a data point that differs significantly from other observations\n",
    "  - normally distributed data $\\mathop{\\mbox{$3$-$\\mathit{\\sigma}$}}$ rule\n",
    "      - $z\\_score(x) \\ge 3$ then x is an outlier\n",
    "  - Interquartile Ranges: IQR rule\n",
    "      - $iqr=q_3-q_1,\\; q_3=Pr(3/4), \\; q_1=Pr(1/4)$\n",
    "      - $outlier(x)={true|\\ x < q_1-1.5\\,iqr,\\ or x > q_3+1.5\\,iqr }$"
   ]
  },
  {
   "cell_type": "markdown",
   "metadata": {
    "Collapsed": "false"
   },
   "source": [
    "- CI: Confidence Interval\n",
    "  - in normal distribution, 95% CI rule\n",
    "  > $$\n",
    "  \\bar{x} \\pm Z\\,\\frac{\\sigma}{\\sqrt{n}},\\\\\n",
    "  \\text{where $\\bar{x}$ is mean, $Z$ is z-score, $\\sigma$ is SD}\n",
    "  $$"
   ]
  },
  {
   "cell_type": "markdown",
   "metadata": {
    "Collapsed": "false"
   },
   "source": [
    "- p-value\n",
    "  - a given statistical model, the probability that, when the null hypothesis is true, the statistical summary (such as the sample mean difference between two groups) would be equal to, or more extreme than, the actual observed results."
   ]
  },
  {
   "cell_type": "markdown",
   "metadata": {
    "Collapsed": "false"
   },
   "source": [
    "- Skewness Distribution\n",
    "  - measure of asymmetry distribution\n",
    "  - left/negative skewness\n",
    "    - long-tail at left\n",
    "    - median > mean\n",
    "    - outlier at left long-tail\n",
    "  - right/positive skewness\n",
    "    - long-tail at right\n",
    "    - median < mean\n",
    "    - outlier at right long-tail\n",
    "  - zero skewness\n",
    "    - symmetry\n",
    "    - median=mean=mode\n",
    "  > $$\n",
    "  \\text{series $X=\\{x_i|i=1,\\cdots,n\\}$}  \\\\\n",
    "    skewness(X) = \\frac{\\frac{1}{n}\\sum_{i=1}^{n}(x_i-\\bar{x})^3}\n",
    "     {\\sqrt[3]{\\frac{1}{n-1}\\sum_{i=1}^{n}(x_i-\\bar{x})^2}}\n",
    "  $$"
   ]
  },
  {
   "cell_type": "markdown",
   "metadata": {
    "Collapsed": "false"
   },
   "source": [
    "- kurtosis\n",
    "  - a measure of the \"tailedness\" of the probability distribution\n",
    "  - mesokurtic\n",
    "    - k=0\n",
    "    - similar to normal distribution\n",
    "  - leptokurtic\n",
    "    - k>0\n",
    "    -similar to normal distribution with $\\sigma < 1$\n",
    "    - heavy tailed distribution curve\n",
    "  - platykurtic\n",
    "    - k<0\n",
    "    -similar to normal distribution with $\\sigma > 1$\n",
    "    - light tailed distribution curve"
   ]
  },
  {
   "cell_type": "markdown",
   "metadata": {
    "Collapsed": "false"
   },
   "source": [
    "- KDE:kernel density estimation\n",
    "\n",
    "> $X=(x_1, x_2, \\cdots,x_n)$ be a univariate IID(independent and identically distributed) sample drawn from some distribution with an unknown density $f$, it's kernel density estimator is\n",
    "\n",
    "\n",
    "$$\n",
    "{\\widehat {f}}_{h}(x)={\\frac {1}{n}}\\sum _{i=1}^{n}K_{h}(x-x_{i})={\\frac {1}{nh}}\\sum _{i=1}^{n}K{\\Big (}{\\frac {x-x_{i}}{h}}{\\Big )}\n",
    "$$\n",
    "\n",
    "> where $k(x)$ is the kernel — a non-negative function and h > 0 is a smoothing parameter called the bandwidth.  \n",
    "  \n",
    "> Scaled kernel defined as \n",
    "$$K_h(x) = \\frac{1}{h} K(\\frac{x}{h})$$\n",
    " "
   ]
  },
  {
   "cell_type": "markdown",
   "metadata": {
    "Collapsed": "false"
   },
   "source": [
    "## Population, Sample, Sample Point, Event, and Sampling"
   ]
  },
  {
   "cell_type": "markdown",
   "metadata": {
    "Collapsed": "false"
   },
   "source": [
    "- describe statistical experiments via appropriate mathematical models.\n",
    "These models consist of these building blocks: \n",
    "  - a population space: $P$ collective and exaustive set of interest\n",
    "  - a sample space:  $\\Omega$ the set of all possible outcomes of the experiment\n",
    "  - a set of events: $E$ interested in one of a group of outcomes occurs. Such subsets of the sample space are called events.\n",
    "    - Union\n",
    "    - Intersection\n",
    "    - Complement\n",
    "    - Subset\n",
    "    - events $A, B$ are disjoint iif $A \\bigcap B = \\phi$\n",
    "  - a probability"
   ]
  },
  {
   "cell_type": "markdown",
   "metadata": {
    "Collapsed": "false"
   },
   "source": [
    "- Population: the collective set of of interest\n",
    "  - hard to exaustively defined\n",
    "  - hard to observe\n",
    "- Sample: a subset of population\n",
    "  - incomplete representitive of population\n",
    "- Sample Point: a element in Sample Space\n",
    "  - incomplete representitive of population\n",
    "- Event: a subset of Sample Sapce\n",
    "  - to get features of Sample Space, to inference population features\n",
    "- Sampling:\n",
    "  - Processes and rules of get sample points\n",
    "- Parameter:\n",
    "  - a characteristic of a population\n",
    "- Statistic:\n",
    "  - a characteristic of a sample\n",
    "- Varaible:\n",
    "  - a characteristic describes a member of the sample"
   ]
  },
  {
   "cell_type": "markdown",
   "metadata": {
    "Collapsed": "false"
   },
   "source": [
    "## Statistics"
   ]
  },
  {
   "cell_type": "markdown",
   "metadata": {
    "Collapsed": "false"
   },
   "source": [
    "- Descriptive Statistic and Inferenctial Statistic\n",
    "  - Descriptive: study the sample space to get information\n",
    "  - Inferenctial: predict the trends, future of sample space"
   ]
  },
  {
   "cell_type": "markdown",
   "metadata": {
    "Collapsed": "false"
   },
   "source": [
    "## Variables"
   ]
  },
  {
   "cell_type": "markdown",
   "metadata": {
    "Collapsed": "false"
   },
   "source": [
    "- Numeric(Quantitative) Variables\n",
    "  - Continuous Variable\n",
    "  - Discrete Variable\n",
    "  - Interval Variable\n",
    "  - Cardinal\n",
    "  - Ratio"
   ]
  },
  {
   "cell_type": "markdown",
   "metadata": {
    "Collapsed": "false"
   },
   "source": [
    "- Categorical(Qualitative) Variables\n",
    "  - Nominal Variable: no order\n",
    "  - Ordinal Variable: rankable\n",
    "    - combination of qualitative and quantitative data\n"
   ]
  },
  {
   "cell_type": "markdown",
   "metadata": {
    "Collapsed": "false"
   },
   "source": [
    "- Mearsure of Center\n",
    "  - mean\n",
    "    - $mean(s) = \\mu = \\frac{\\sum_{i=1}^{n}\\ x_i}{n}$\n",
    "  - median\n",
    "    > $$\\text{original series: s, sort s first to ranked series: r}; n=||r||.\\\\\n",
    "         \\\\\n",
    "       median(s) =   \\left\\{\n",
    "                \\begin{array}{cl}\n",
    "                  r_{\\frac{n+1}{2}} & \\text{if n is odd} \\\\\n",
    "                  \\frac{r_{\\frac{n}{2}}+r_{\\frac{n}{2}+1}}{2} & \\text{if n is even}\n",
    "                \\end{array}\n",
    "              \\right.\n",
    "         $$ \n",
    "  - mode\n",
    "    > $$\n",
    "    \\text{original series: s, sort s first to ranked series: r} \\\\ \n",
    "    \\text{count r's element into C: } \\\\  \n",
    "        C = \\{(r_i, c_i) | r_i \\in r, c_i = r.count(r_i)\\} \\\\\n",
    "        mode(s) = (r_m, c_m), \\; c_m = Max(c_i),\\ r_m = Min(r_k | c_k==c_m)\n",
    "    $$"
   ]
  },
  {
   "cell_type": "markdown",
   "metadata": {
    "Collapsed": "false"
   },
   "source": [
    "- Mearsure of Dispersion\n",
    "  - variance: \n",
    "    - population variance\n",
    "    > $$\n",
    "        \\text{series $s$;  $\\mu = mean(s); n = |s|$} \\\\\n",
    "        var(s) = \\frac{1}{n}\\sum_{i=1}^n(x_i-\\mu)^2\n",
    "        $$\n",
    "    - sample variance: Bessel's correction\n",
    "    > $$\n",
    "        \\text{sample $s$;  $\\bar{x}= mean(s); n = |s|$} \\\\\n",
    "        var(s) = \\frac{1}{n-1}\\sum_{i=1}^n(x_i-\\bar{x})^2\n",
    "        $$\n",
    "  - standard deviation\n",
    "    > $$sd(s)=\\sigma_s=\\sqrt{var(s)}$$\n",
    "  - coeffient of variation\n",
    "    > $$   CV(s) = \\frac{\\sigma}{\\mu}    $$\n",
    "  - range:\n",
    "    - max(s)-min(s)\n",
    "  - quantile range\n",
    "  - percentile range\n",
    "  - z-score\n",
    "  - outlier"
   ]
  },
  {
   "cell_type": "markdown",
   "metadata": {
    "Collapsed": "false"
   },
   "source": [
    "- Measure of Asymmety\n",
    "  - Skewness"
   ]
  },
  {
   "cell_type": "markdown",
   "metadata": {
    "Collapsed": "false"
   },
   "source": [
    "- Univariate/Multivariate Data\n",
    "  - correlation\n",
    "    - covariance\n",
    "      > $$\n",
    "        \\text{series $X=\\{x_i|i=1,\\cdots,n\\}$;  $Y=\\{y_i|i=1,\\cdots,n\\}$} \\\\\n",
    "        cov(X, Y) = \\frac{\\sum_{i=1}^n(x_i-\\bar{x})(y_i-\\bar{y})}{n}\\\\\n",
    "        $$\n",
    "    - correlation coefficient \n",
    "      > $$\n",
    "      \\text{series $X=\\{x_i|i=1,\\cdots,n\\}$;  $Y=\\{y_i|i=1,\\cdots,n\\}$} \\\\\n",
    "        correlation(X, Y) = \\frac{cov(X,Y)}{\\sigma_X\\,\\sigma_Y}\\\\\n",
    "         = \\frac{\\sum_{i=1}^{n}(x_i-\\bar{x})(y_i-\\bar{y})}\n",
    "         {\\sqrt{\\sum_{i=1}^{n}(x_i-\\bar{x})^2}\\sqrt{\\sum_{i=1}^{n}(y_i-\\bar{y})^2}}\n",
    "      $$\n",
    "  - causality"
   ]
  },
  {
   "cell_type": "markdown",
   "metadata": {
    "Collapsed": "false"
   },
   "source": [
    "- Distribution: a function to describe the sample space variable's possible value and how often it occurs.\n",
    "  - normal distribution\n",
    "  - uniform distribution\n",
    "    - $ p(x_i) = \\frac{1}{n}, S=\\{x_i|i=1,\\cdots,n\\}$\n",
    "  - binormial distribution\n",
    "  - exponential distribution"
   ]
  },
  {
   "cell_type": "markdown",
   "metadata": {
    "Collapsed": "false"
   },
   "source": [
    "- Moments\n",
    "  - n-th Moment:\n",
    "      > $$\n",
    "        \\mu _{n}=\\int _{-\\infty }^{\\infty }(x-c)^{n}\\,f(x)\\,\\mathrm {d} x\n",
    "        $$\n",
    "  - Zeroth Moment: Total Probability/Mass\n",
    "  - First Moment: Mean/Center of Mass\n",
    "  - Second Central Moment: Variance/Rotational Inertia\n",
    "  - Third Standardized Moment: Skewness\n",
    "  - Fourth Standardized Moment: Kurtosis"
   ]
  },
  {
   "cell_type": "markdown",
   "metadata": {
    "Collapsed": "false",
    "toc-hr-collapsed": false
   },
   "source": [
    "## Variable Analysis"
   ]
  },
  {
   "cell_type": "markdown",
   "metadata": {
    "Collapsed": "false"
   },
   "source": [
    "### Hypothesis Testing"
   ]
  },
  {
   "cell_type": "markdown",
   "metadata": {
    "Collapsed": "false"
   },
   "source": [
    "- AKA Significance tests\n",
    "- normally Level of Significance $\\alpha = 0.05$\n",
    "- either reject hypothesis or fail to reject, not prove\n",
    "- if Null Hypothesis was rejected, then the mutually exclusive alternative hypothesis was accepted"
   ]
  },
  {
   "cell_type": "markdown",
   "metadata": {
    "Collapsed": "false"
   },
   "source": [
    "- H0: Null Hypothesis\n",
    "  - a baseline claim\n",
    "- $H_1, H_A$: Alternative Hypothesis\n",
    "  - not H0"
   ]
  },
  {
   "cell_type": "markdown",
   "metadata": {
    "Collapsed": "false"
   },
   "source": [
    "- Type I Error: False Positive\n",
    "- Type II Error: False Negative"
   ]
  },
  {
   "cell_type": "markdown",
   "metadata": {
    "Collapsed": "false"
   },
   "source": [
    "- Rejection Process\n",
    "  - $H_0$ statement\n",
    "  - run experiment to check $H_0$\n",
    "  - calculate probability-value of $H_0$, test against significance level $\\alpha = 0.05$:\n",
    "    - Left tail test: $H_1 \\lt$\n",
    "    - Right tail test:  $H_1 \\gt$\n",
    "    - Double tail test: $H_1 \\ne$"
   ]
  },
  {
   "cell_type": "markdown",
   "metadata": {
    "Collapsed": "false"
   },
   "source": [
    "### Z-Statistic with P-Test"
   ]
  },
  {
   "cell_type": "markdown",
   "metadata": {
    "Collapsed": "false"
   },
   "source": [
    "- Z-Distribution"
   ]
  },
  {
   "cell_type": "markdown",
   "metadata": {
    "Collapsed": "false"
   },
   "source": [
    "- z-value\n",
    "    - Test with Mean\n",
    "      - when $H_0$ states like average\n",
    "      > $$\n",
    "        Z = \\frac{\\bar x - \\mu}{\\sigma / \\sqrt{n}}\n",
    "      $$\n",
    "    - Test with Proportion\n",
    "      - when $H_0$ states like most of, xx% of\n",
    "      > $$\n",
    "        Z = \\frac{\\hat p - p}{\\sqrt{(p\\,q) /n}}= \\frac{\\hat p - p}{\\sqrt{p\\,(1-p)/n}}\n",
    "      $$"
   ]
  },
  {
   "cell_type": "markdown",
   "metadata": {
    "Collapsed": "false"
   },
   "source": [
    "- Process\n",
    "  - using test with mean or test with proportion to calculate test statistic critical value Z\n",
    "  - using z-table to find p-value \n",
    "  - if p-value < $\\alpha$, $H_0$ is rejected\n",
    "  - else, $H_0$ is not rejected"
   ]
  },
  {
   "cell_type": "markdown",
   "metadata": {
    "Collapsed": "false"
   },
   "source": [
    "### T-Statistic with T-test"
   ]
  },
  {
   "cell_type": "markdown",
   "metadata": {
    "Collapsed": "false"
   },
   "source": [
    "- T-Distribution"
   ]
  },
  {
   "cell_type": "markdown",
   "metadata": {
    "Collapsed": "false"
   },
   "source": [
    "- t-value"
   ]
  },
  {
   "cell_type": "markdown",
   "metadata": {
    "Collapsed": "false"
   },
   "source": [
    "- calculate t statistic value: One-sample\n",
    "  > $$\n",
    "  t = \\frac{\\bar x-\\mu}{s/\\sqrt{n}} \\\\\n",
    "  \\text{where $\\bar x$ is sample mean}\\\\\n",
    "  \\text{$\\mu$ is population mean}\\\\\n",
    "  \\text{$s$ is sample standard error}\\\\\n",
    "  \\text{$n$ is sample size}\n",
    "  $$"
   ]
  },
  {
   "cell_type": "markdown",
   "metadata": {
    "Collapsed": "false"
   },
   "source": [
    "- calculate t statistic value: Independent two-sample t-test\n",
    "  - Equal sample sizes, equal variance\n",
    "    > $$\n",
    "      t = \n",
    "      $$\n",
    "  - Equal or unequal sample sizes, equal variance\n",
    "    > $$\n",
    "      t = \n",
    "      $$\n",
    "  - Equal or unequal sample sizes, unequal variances\n",
    "    > $$\n",
    "      t = \n",
    "      $$"
   ]
  },
  {
   "cell_type": "markdown",
   "metadata": {
    "Collapsed": "false"
   },
   "source": [
    "- calculate t statistic value: Dependent t-test for paired samples\n",
    "  > $$\n",
    "  t = \n",
    "  $$"
   ]
  },
  {
   "cell_type": "markdown",
   "metadata": {
    "Collapsed": "false"
   },
   "source": [
    "- Process\n",
    "  - when stardard deviation $\\sigma$ is unknow, z-statistic is unusable.\n",
    "  - calculate t statistic value:\n",
    "  - compare t-value with t-table's t-critical value:\n",
    "    - $t \\lessgtr t_{n-1,\\alpha}$ where $\\alpha$ is significant level, $n-1$ is degree of fredom"
   ]
  },
  {
   "cell_type": "markdown",
   "metadata": {
    "Collapsed": "false"
   },
   "source": [
    "### ANOVA"
   ]
  },
  {
   "cell_type": "markdown",
   "metadata": {
    "Collapsed": "false"
   },
   "source": [
    "- ANOVA used for variables:\n",
    "  - between group: group means vs total mean\n",
    "  - withini group: variable vs group means"
   ]
  },
  {
   "cell_type": "markdown",
   "metadata": {
    "Collapsed": "false"
   },
   "source": [
    "- Types\n",
    "  - One-way ANOVA\n",
    "  - Two-way ANOVA"
   ]
  },
  {
   "cell_type": "markdown",
   "metadata": {
    "Collapsed": "false"
   },
   "source": [
    "#### F-Statistic"
   ]
  },
  {
   "cell_type": "markdown",
   "metadata": {
    "Collapsed": "false"
   },
   "source": [
    "- F-Distribution"
   ]
  },
  {
   "cell_type": "markdown",
   "metadata": {
    "Collapsed": "false"
   },
   "source": [
    "- f-value\n",
    "> $$\n",
    "\\text{$SS$ stands for Sum of Square, } \\text{$df$ stands for degrees of freedom} \\\\\n",
    "F = \\frac{Variance between Group}{Variance within Group}=\\frac{SSG/df_{groups}}{SSE/df_{error}}\n",
    "$$"
   ]
  },
  {
   "cell_type": "markdown",
   "metadata": {
    "Collapsed": "false"
   },
   "source": [
    "- Process"
   ]
  },
  {
   "cell_type": "markdown",
   "metadata": {
    "Collapsed": "false"
   },
   "source": [
    "### Chi-Square-Test"
   ]
  },
  {
   "cell_type": "markdown",
   "metadata": {
    "Collapsed": "false"
   },
   "source": [
    "- Chi-Squere Distribution"
   ]
  },
  {
   "cell_type": "markdown",
   "metadata": {
    "Collapsed": "false"
   },
   "source": [
    "- $\\chi ^2$-value"
   ]
  },
  {
   "cell_type": "markdown",
   "metadata": {
    "Collapsed": "false"
   },
   "source": [
    "- Process"
   ]
  },
  {
   "cell_type": "markdown",
   "metadata": {
    "Collapsed": "false",
    "toc-hr-collapsed": false
   },
   "source": [
    "## Probability Distributiion"
   ]
  },
  {
   "cell_type": "markdown",
   "metadata": {
    "Collapsed": "false"
   },
   "source": [
    "- Probabilistic Model\n",
    "  - [model](IMG/Probabilistic_Model.png \"Probabilistic Model\")"
   ]
  },
  {
   "cell_type": "markdown",
   "metadata": {
    "Collapsed": "false"
   },
   "source": [
    "### Probability Basics"
   ]
  },
  {
   "cell_type": "markdown",
   "metadata": {
    "Collapsed": "false"
   },
   "source": [
    "- Geometric Law\n",
    "\n",
    "- Independant\n",
    "  > $$\n",
    "  A, B\\ independent \\Leftrightarrow P(A \\cap B) = P(A)P(B)\n",
    "  $$\n",
    "- Product Rule\n",
    "  > $$\n",
    "  P(A_1  \\cdots A_n) = P(A_1) P(A_2 | A_1) P(A3 | A_1A_2)  \\cdots P(A_n | A_1 \\cdots A_{n−1})\n",
    "  $$\n",
    "- Bayes Theorem\n",
    "  > $$\n",
    "  \\because P(A \\cap B) = P(B)P(A|B) \\\\\n",
    "  \\because P(B \\cap A) = P(A)P(B|A) \\\\\n",
    "  \\therefore\n",
    "  \\frac{P(A|B)}{P(B|A)}=\\frac{P(A)}{P(B)}, P(A), P(B)>0\n",
    "  $$\n",
    "- Positive testing\n",
    "  > $$\n",
    "  P(positive) = P(true\\ positive)+P(false\\ positive) \\\\\n",
    "  P(B) = P(A)P(B|A) +P(A^c)P(B|A^c)\\\\\n",
    "  \\therefore\n",
    "  P(A|B)=\\frac{P(A)\\,P(B|A)}{P(A)P(B|A) +P(A^c)P(B|A^c)}\n",
    "  $$"
   ]
  },
  {
   "cell_type": "markdown",
   "metadata": {
    "Collapsed": "false"
   },
   "source": [
    "- Continuous & Discrete\n",
    "  - CDF: cumulative distribution function\n",
    "    - $F(x) := P(X ≤ x); x \\in R; F(x) \\in [0,1]$\n",
    "  - Discrete PMF: probability mass function\n",
    "    - $f(x) = P(X = x)$\n",
    "    - $P(X \\in B) = \\sum_{x \\in B}f(x)$\n",
    "  - Continuous PDF: probability density function\n",
    "    - $F(x) = P(X \\le x) = \\int_{-\\infty}^{x}f(u) du$\n",
    "    - $f(x) = F^\\prime(x)$\n",
    "  - Exception: Center of Mass\n",
    "    - $EX = \\sum_x x P(X = x) = \\sum_xx f(x) $\n",
    "    - $EX^r$ is called the $r-th$ moment of $X$"
   ]
  },
  {
   "cell_type": "markdown",
   "metadata": {
    "Collapsed": "false"
   },
   "source": [
    "- Transform\n",
    "  - PGF: probability generating function\n",
    "    - $G(z) := E z^X =\\sum_{x=0}^{\\infty}z^xP(X = x) $\n",
    "  - MGF: moment generating function\n",
    "    - $M(s) = E e^{sX}$\n",
    "    - Discrete: $M(s) = \\sum_x e^{sx} f(x)$\n",
    "    - Continuous: $M(s) = \\int_x e^{sx} f(x)dx$"
   ]
  },
  {
   "cell_type": "markdown",
   "metadata": {
    "Collapsed": "false"
   },
   "source": [
    "### Uniform Distribution"
   ]
  },
  {
   "cell_type": "markdown",
   "metadata": {
    "Collapsed": "false"
   },
   "source": [
    "- all elements in population has the same possibility"
   ]
  },
  {
   "cell_type": "markdown",
   "metadata": {
    "Collapsed": "false"
   },
   "source": [
    "### Binomial Distribution"
   ]
  },
  {
   "cell_type": "markdown",
   "metadata": {
    "Collapsed": "false"
   },
   "source": [
    "- two discrete mutually exclusive outcomes of a trail\n",
    "- Bernoulli Trail: a trail with only two possible outcomes T or F\n",
    "  - the probability of x T in n trails possibility mass function\n",
    "    > $$\n",
    "    P(x:n, p) = \\left( \\begin{array}{c} n \\\\ x \\end{array} \\right) p^x (1-p)^{n-x}\n",
    "    $$"
   ]
  },
  {
   "cell_type": "code",
   "execution_count": 1,
   "metadata": {
    "Collapsed": "false"
   },
   "outputs": [],
   "source": [
    "import numpy as np\n",
    "import matplotlib.pyplot as plt\n",
    "import seaborn as sns\n",
    "import ipywidgets as widgets\n",
    "from ipywidgets import interact, interact_manual\n",
    "from scipy.stats import binom"
   ]
  },
  {
   "cell_type": "code",
   "execution_count": 5,
   "metadata": {
    "Collapsed": "false"
   },
   "outputs": [
    {
     "data": {
      "application/vnd.jupyter.widget-view+json": {
       "model_id": "4b68160b7ec24cc1b58f054caa955d74",
       "version_major": 2,
       "version_minor": 0
      },
      "text/plain": [
       "interactive(children=(FloatSlider(value=0.5, description='p', max=0.999, min=0.001, step=0.001), IntSlider(val…"
      ]
     },
     "metadata": {},
     "output_type": "display_data"
    }
   ],
   "source": [
    "@interact\n",
    "def show_binomial_distribution(p=(0.001,0.999,0.001), n=(1,1000,5)):\n",
    "    plt.figure(figsize=(10,6))\n",
    "#     plt.ylim(0,1)\n",
    "#     plt.xlim(0, 1000)\n",
    "    X=list(range(0,n+1))\n",
    "    Y=[ binom.pmf(x, n, p) for x in X]\n",
    "    print(Y)\n",
    "    sns.scatterplot(x=X, y=Y)"
   ]
  },
  {
   "cell_type": "code",
   "execution_count": 4,
   "metadata": {
    "Collapsed": "false"
   },
   "outputs": [
    {
     "data": {
      "text/plain": [
       "(0.5, 0.5)"
      ]
     },
     "execution_count": 4,
     "metadata": {},
     "output_type": "execute_result"
    }
   ],
   "source": [
    "binom.pmf(0, 1, 0.5),binom.pmf(1, 1, 0.5)"
   ]
  },
  {
   "cell_type": "markdown",
   "metadata": {
    "Collapsed": "false"
   },
   "source": [
    "### Bernoulli Distribution"
   ]
  },
  {
   "cell_type": "markdown",
   "metadata": {
    "Collapsed": "false"
   },
   "source": [
    "- 1 for true, 0 for fail, only two possible outcomes for a trail\n",
    " > $$\n",
    "    P(X = 1) = p = 1 − P(X = 0) \n",
    "    $$"
   ]
  },
  {
   "cell_type": "markdown",
   "metadata": {
    "Collapsed": "false"
   },
   "source": [
    "### Geometric Distribution"
   ]
  },
  {
   "cell_type": "markdown",
   "metadata": {
    "Collapsed": "false"
   },
   "source": [
    "- trail X is the number of test until T happened.\n",
    " > $$\n",
    "    P(X = x) = (1 − p)^{x−1}p; x = 1,2,3,\\cdots\n",
    "    $$"
   ]
  },
  {
   "cell_type": "markdown",
   "metadata": {
    "Collapsed": "false"
   },
   "source": [
    "### Poisson Distribution"
   ]
  },
  {
   "cell_type": "markdown",
   "metadata": {
    "Collapsed": "false"
   },
   "source": [
    "- two discrete mutually exclusive outcomes of a trail\n",
    "- considering time span over trails, the possibility of T traisl per unit of time(or any continuous measurements)\n",
    "  - the probability of x T in unit time span trails\n",
    "  >$$\n",
    "  \\mu = \\frac{numbe\\ of\\ occurences}{time\\ interval} \\\\\n",
    "  P(x) = \\frac{\\mu^x e^{-\\mu}}{x!}\n",
    "  $$"
   ]
  },
  {
   "cell_type": "code",
   "execution_count": 1,
   "metadata": {
    "Collapsed": "false"
   },
   "outputs": [],
   "source": [
    "import numpy as np\n",
    "import matplotlib.pyplot as plt\n",
    "import seaborn as sns\n",
    "import ipywidgets as widgets\n",
    "from ipywidgets import interact, interact_manual\n",
    "from scipy.stats import poisson"
   ]
  },
  {
   "cell_type": "code",
   "execution_count": 5,
   "metadata": {
    "Collapsed": "false"
   },
   "outputs": [
    {
     "data": {
      "application/vnd.jupyter.widget-view+json": {
       "model_id": "2a0340246f6c4de791a89a01af8e30fd",
       "version_major": 2,
       "version_minor": 0
      },
      "text/plain": [
       "interactive(children=(IntSlider(value=500, description='k', max=1000), FloatSlider(value=49.501, description='…"
      ]
     },
     "metadata": {},
     "output_type": "display_data"
    }
   ],
   "source": [
    "@interact\n",
    "def show_poisson_distribution(k=(0,1000,1), mu=(0.001,100,0.5)):\n",
    "    plt.figure(figsize=(10,6))\n",
    "#     plt.ylim(0,1)\n",
    "#     plt.xlim(0, 1000)\n",
    "    X=list(range(0,k+1))\n",
    "    Y=[ poisson.pmf(x, mu) for x in X]\n",
    "    print(sum(Y))\n",
    "    sns.scatterplot(x=X, y=Y)"
   ]
  },
  {
   "cell_type": "code",
   "execution_count": 2,
   "metadata": {
    "Collapsed": "false"
   },
   "outputs": [
    {
     "data": {
      "text/plain": [
       "(0.057252288495362, 0.013753967744002971)"
      ]
     },
     "execution_count": 2,
     "metadata": {},
     "output_type": "execute_result"
    }
   ],
   "source": [
    "from scipy.stats import poisson\n",
    "poisson.pmf(4, 8), poisson.cdf(2, 8)"
   ]
  },
  {
   "cell_type": "markdown",
   "metadata": {
    "Collapsed": "false"
   },
   "source": [
    "### Normal Distribution/Gaussian Distribution"
   ]
  },
  {
   "cell_type": "markdown",
   "metadata": {
    "Collapsed": "false"
   },
   "source": [
    "- Intro\n",
    "  - most common probability distribution\n",
    "  - variables/data follow a bell curve\n",
    "  - mean = median = mode\n",
    "  - distribution function is symmetric\n",
    "  - 3$\\sigma$ z-score lays in 99.7%"
   ]
  },
  {
   "cell_type": "markdown",
   "metadata": {
    "Collapsed": "false"
   },
   "source": [
    "- probability distribution function\n",
    "\n",
    "$$\n",
    "\\text{let $\\mu$ as mean, $\\sigma$ as SD(standard deviation), }\\\\\n",
    "\\text{then probability function $f$ for normal distribution is:}\\\\\n",
    "f(x|\\mu, \\sigma^2)=\\frac{1}{\\sqrt{2\\;\\pi\\;\\sigma^2}}\\;e^{-\\frac{(x-\\mu)^2}{2\\sigma^2}}\n",
    "$$"
   ]
  },
  {
   "cell_type": "markdown",
   "metadata": {
    "Collapsed": "false"
   },
   "source": [
    "- Normalization Process\n",
    "   > $$\n",
    "   N \\sim (\\mu, \\sigma^2) \\longrightarrow N \\sim (0, 1) \\\\\n",
    "   \\hat{x} = \\frac{x-\\mu}{\\sigma}\n",
    "   $$"
   ]
  },
  {
   "cell_type": "code",
   "execution_count": null,
   "metadata": {
    "Collapsed": "false"
   },
   "outputs": [],
   "source": []
  },
  {
   "cell_type": "code",
   "execution_count": 12,
   "metadata": {
    "Collapsed": "false"
   },
   "outputs": [],
   "source": [
    "import numpy as np\n",
    "import matplotlib.pyplot as plt\n",
    "import seaborn as sns\n",
    "import ipywidgets as widgets\n",
    "from ipywidgets import interact, interact_manual"
   ]
  },
  {
   "cell_type": "code",
   "execution_count": 13,
   "metadata": {
    "Collapsed": "false"
   },
   "outputs": [
    {
     "data": {
      "application/vnd.jupyter.widget-view+json": {
       "model_id": "14956fca690f48479dd870fbdb968d0a",
       "version_major": 2,
       "version_minor": 0
      },
      "text/plain": [
       "interactive(children=(IntSlider(value=0, description='mu', max=10, min=-10), FloatSlider(value=2.5500000000000…"
      ]
     },
     "metadata": {},
     "output_type": "display_data"
    }
   ],
   "source": [
    "@interact\n",
    "def show_normal_distribution(mu=(-10,10,1), sigma=(0.1,5,0.05), size=(1000, 5000, 200)):\n",
    "    plt.figure(figsize=(10,6))\n",
    "    plt.ylim(0,1)\n",
    "    plt.xlim(-10, 10)\n",
    "    data = sigma*np.random.randn(size)+mu\n",
    "    sns.distplot(data, bins=50)"
   ]
  },
  {
   "cell_type": "markdown",
   "metadata": {
    "Collapsed": "false"
   },
   "source": [
    "### Student's T-Distribution"
   ]
  },
  {
   "cell_type": "code",
   "execution_count": null,
   "metadata": {
    "Collapsed": "false"
   },
   "outputs": [],
   "source": []
  },
  {
   "cell_type": "markdown",
   "metadata": {
    "Collapsed": "false"
   },
   "source": [
    "### Exponential Distribution"
   ]
  },
  {
   "cell_type": "markdown",
   "metadata": {
    "Collapsed": "false"
   },
   "source": [
    "- PDF:\n",
    "> $$\n",
    "    f(x) = λ e^{−λx}; x ≥ 0\n",
    "  $$"
   ]
  },
  {
   "cell_type": "markdown",
   "metadata": {
    "Collapsed": "false"
   },
   "source": [
    "###  Gamma Distribution"
   ]
  },
  {
   "cell_type": "markdown",
   "metadata": {
    "Collapsed": "false"
   },
   "source": [
    "- PDF: \n",
    "> $$\n",
    "f(x) = \\frac{λ^α x^{α−1}e^{−λx}}{Γ(α)} , x ≥ 0\\\\\n",
    "where\\; Γ(α) = \\int_0^\\infty u^{α−1} e^{−u} du; α > 0\n",
    "$$"
   ]
  },
  {
   "cell_type": "markdown",
   "metadata": {
    "Collapsed": "false"
   },
   "source": [
    "- $\\chi^2$ Distribution\n",
    "  - $X ∼ Gam(n/2; 1/2)$"
   ]
  },
  {
   "cell_type": "markdown",
   "metadata": {
    "Collapsed": "false"
   },
   "source": [
    "###  Beta Distribution"
   ]
  },
  {
   "cell_type": "code",
   "execution_count": null,
   "metadata": {
    "Collapsed": "false"
   },
   "outputs": [],
   "source": [
    "- "
   ]
  },
  {
   "cell_type": "markdown",
   "metadata": {
    "Collapsed": "false",
    "toc-hr-collapsed": false
   },
   "source": [
    "## Law of Large Number"
   ]
  },
  {
   "cell_type": "markdown",
   "metadata": {
    "Collapsed": "false"
   },
   "source": [
    "- Discrete Distribution LLN"
   ]
  },
  {
   "cell_type": "markdown",
   "metadata": {
    "Collapsed": "false"
   },
   "source": [
    "> variable space $X = \\{x_i| 1 \\le i \\le n\\}$; corresponding probability space $P=\\{\\sum p_i = 1| 1 \\le i \\le n\\}$, variable x's expected value is:  \n",
    "$$E(x)=\\sum_{i=1}^{n}x_i\\cdot p_i$$\n",
    "LLN means, sampling on $X$ for $k$ times $S=\\{s_1,\\ s_2,\\cdots\\ s_k\\}$:\n",
    "$$\\text{mean value of $S:$}\\ \\bar{s} \\ \\rightarrow \\ E(x), \\ \\text{when} \\ k\\ \\rightarrow \\ \\infty $$"
   ]
  },
  {
   "cell_type": "code",
   "execution_count": 10,
   "metadata": {
    "Collapsed": "false"
   },
   "outputs": [],
   "source": [
    "import numpy as np\n",
    "import pandas as pd\n",
    "import matplotlib.pyplot as plt"
   ]
  },
  {
   "cell_type": "code",
   "execution_count": 11,
   "metadata": {
    "Collapsed": "false"
   },
   "outputs": [],
   "source": [
    "dices = list(range(1,7))\n",
    "e = sum(dices)/len(dices)\n",
    "s_size = [10**i for i in range(1, 10)]"
   ]
  },
  {
   "cell_type": "code",
   "execution_count": 12,
   "metadata": {
    "Collapsed": "false"
   },
   "outputs": [],
   "source": [
    "samples = [np.random.choice(dices, size) for size in s_size]"
   ]
  },
  {
   "cell_type": "code",
   "execution_count": 17,
   "metadata": {
    "Collapsed": "false"
   },
   "outputs": [
    {
     "data": {
      "text/plain": [
       "<matplotlib.axes._subplots.AxesSubplot at 0x24ba6f72f60>"
      ]
     },
     "execution_count": 17,
     "metadata": {},
     "output_type": "execute_result"
    },
    {
     "data": {
      "image/png": "[encoded data removed]",
      "text/plain": [
       "<Figure size 432x288 with 1 Axes>"
      ]
     },
     "metadata": {
      "needs_background": "light"
     },
     "output_type": "display_data"
    }
   ],
   "source": [
    "means = [np.mean(sample) for sample in samples]\n",
    "s =pd.Series(means)\n",
    "s.plot()"
   ]
  },
  {
   "cell_type": "markdown",
   "metadata": {
    "Collapsed": "false"
   },
   "source": [
    "## Central Limit Theorem"
   ]
  },
  {
   "cell_type": "markdown",
   "metadata": {
    "Collapsed": "false"
   },
   "source": [
    "- Definition\n",
    "  > $$\n",
    "  \\text{A Popupulation $S$ with a distribution, has mean $\\mu$, standard deviation $\\sigma$.}\\\\\n",
    "  \\text{Take sample from $S$ with size $N$, repeate this process, } \\\\\n",
    "  \\text{We got Sample Series $SS = \\{X_1^N, X_2^N,\\cdots, X_n^N...\\}$} \\\\\n",
    "  \\text{let Sample Series mean as $\\{\\bar x_1, \\bar x_2,\\cdots \\bar x_n...\\}$}\\\\\n",
    "  \\text{the distribution of sample series approximate to: }\\\\\n",
    "  D(SS) \\rightarrow N(\\mu, \\frac{\\sigma^2}{N}); when\\; n \\rightarrow \\infty\n",
    "  $$"
   ]
  },
  {
   "cell_type": "code",
   "execution_count": null,
   "metadata": {
    "Collapsed": "false"
   },
   "outputs": [],
   "source": []
  },
  {
   "cell_type": "markdown",
   "metadata": {
    "Collapsed": "false",
    "toc-hr-collapsed": true
   },
   "source": [
    "# Statistical Modeling"
   ]
  },
  {
   "cell_type": "markdown",
   "metadata": {
    "Collapsed": "false",
    "toc-hr-collapsed": false
   },
   "source": [
    "## workflow"
   ]
  },
  {
   "cell_type": "markdown",
   "metadata": {
    "Collapsed": "false"
   },
   "source": [
    "- Population\n",
    "- Statistical Modeling/Mathematical formalization hyporthesis\n",
    "- Sampling\n",
    "- Statistical Modeling revising\n",
    "  - All in\n",
    "  - Backward Elimination\n",
    "  - Forward Selection\n",
    "  - Bidirectional Elimination\n",
    "  - Score Comparison\n",
    "- Prediction"
   ]
  },
  {
   "cell_type": "markdown",
   "metadata": {
    "Collapsed": "false"
   },
   "source": [
    "$$\n",
    "\\underset{n}{\\cap} \\\\\n",
    "\\overset{n}{\\cap}\n",
    "$$\n",
    "\n"
   ]
  },
  {
   "cell_type": "markdown",
   "metadata": {
    "Collapsed": "false"
   },
   "source": [
    "## Correlation Analysis"
   ]
  },
  {
   "cell_type": "markdown",
   "metadata": {
    "Collapsed": "false"
   },
   "source": [
    "- correlation\n",
    "  - r>0 positive correlation\n",
    "  - r=0 no correlation\n",
    "  - r<0 negative correlation"
   ]
  },
  {
   "cell_type": "code",
   "execution_count": 24,
   "metadata": {
    "Collapsed": "false"
   },
   "outputs": [],
   "source": [
    "from statsmodels import api as sm\n",
    "import seaborn as sns\n",
    "import numpy as np\n",
    "import scipy as sp\n",
    "import matplotlib.pyplot as plt"
   ]
  },
  {
   "cell_type": "code",
   "execution_count": 27,
   "metadata": {
    "Collapsed": "false"
   },
   "outputs": [
    {
     "data": {
      "text/html": [
       "<div>\n",
       "<style scoped>\n",
       "    .dataframe tbody tr th:only-of-type {\n",
       "        vertical-align: middle;\n",
       "    }\n",
       "\n",
       "    .dataframe tbody tr th {\n",
       "        vertical-align: top;\n",
       "    }\n",
       "\n",
       "    .dataframe thead th {\n",
       "        text-align: right;\n",
       "    }\n",
       "</style>\n",
       "<table border=\"1\" class=\"dataframe\">\n",
       "  <thead>\n",
       "    <tr style=\"text-align: right;\">\n",
       "      <th></th>\n",
       "      <th>sepal_length</th>\n",
       "      <th>sepal_width</th>\n",
       "      <th>petal_length</th>\n",
       "      <th>petal_width</th>\n",
       "    </tr>\n",
       "  </thead>\n",
       "  <tbody>\n",
       "    <tr>\n",
       "      <td>sepal_length</td>\n",
       "      <td>1.000000</td>\n",
       "      <td>-0.117570</td>\n",
       "      <td>0.871754</td>\n",
       "      <td>0.817941</td>\n",
       "    </tr>\n",
       "    <tr>\n",
       "      <td>sepal_width</td>\n",
       "      <td>-0.117570</td>\n",
       "      <td>1.000000</td>\n",
       "      <td>-0.428440</td>\n",
       "      <td>-0.366126</td>\n",
       "    </tr>\n",
       "    <tr>\n",
       "      <td>petal_length</td>\n",
       "      <td>0.871754</td>\n",
       "      <td>-0.428440</td>\n",
       "      <td>1.000000</td>\n",
       "      <td>0.962865</td>\n",
       "    </tr>\n",
       "    <tr>\n",
       "      <td>petal_width</td>\n",
       "      <td>0.817941</td>\n",
       "      <td>-0.366126</td>\n",
       "      <td>0.962865</td>\n",
       "      <td>1.000000</td>\n",
       "    </tr>\n",
       "  </tbody>\n",
       "</table>\n",
       "</div>"
      ],
      "text/plain": [
       "              sepal_length  sepal_width  petal_length  petal_width\n",
       "sepal_length      1.000000    -0.117570      0.871754     0.817941\n",
       "sepal_width      -0.117570     1.000000     -0.428440    -0.366126\n",
       "petal_length      0.871754    -0.428440      1.000000     0.962865\n",
       "petal_width       0.817941    -0.366126      0.962865     1.000000"
      ]
     },
     "execution_count": 27,
     "metadata": {},
     "output_type": "execute_result"
    }
   ],
   "source": [
    "iris = sns.load_dataset('iris')\n",
    "r_iris = iris.corr()\n",
    "r_iris"
   ]
  },
  {
   "cell_type": "code",
   "execution_count": 28,
   "metadata": {
    "Collapsed": "false"
   },
   "outputs": [
    {
     "data": {
      "image/png": "[encoded data removed]",
      "text/plain": [
       "<Figure size 432x288 with 2 Axes>"
      ]
     },
     "execution_count": 28,
     "metadata": {},
     "output_type": "execute_result"
    },
    {
     "data": {
      "image/png": "[encoded data removed]",
      "text/plain": [
       "<Figure size 432x288 with 2 Axes>"
      ]
     },
     "metadata": {
      "needs_background": "light"
     },
     "output_type": "display_data"
    }
   ],
   "source": [
    "sm.graphics.plot_corr(r_iris, xnames=list(r_iris.columns))"
   ]
  },
  {
   "cell_type": "code",
   "execution_count": null,
   "metadata": {
    "Collapsed": "false"
   },
   "outputs": [],
   "source": []
  },
  {
   "cell_type": "markdown",
   "metadata": {
    "Collapsed": "false"
   },
   "source": [
    "## Regression analysis"
   ]
  },
  {
   "cell_type": "markdown",
   "metadata": {
    "Collapsed": "false"
   },
   "source": [
    "- Regression analysis\n",
    "  - statistical method that allows you to examine the relationship between two or more variables of interest. "
   ]
  },
  {
   "cell_type": "markdown",
   "metadata": {
    "Collapsed": "false"
   },
   "source": [
    "- Dependent Variable(Predicted)\n",
    "  - This is the main factor that you’re trying to understand or predict. \n",
    "- Independent Variables(Predictor):\n",
    "  - These are the factors that you hypothesize have an impact on your dependent variable."
   ]
  },
  {
   "cell_type": "markdown",
   "metadata": {
    "Collapsed": "false"
   },
   "source": [
    "- Categories\n",
    "  - Linear Regression\n",
    "  - Logistic Regression"
   ]
  },
  {
   "cell_type": "code",
   "execution_count": null,
   "metadata": {
    "Collapsed": "false"
   },
   "outputs": [],
   "source": []
  },
  {
   "cell_type": "markdown",
   "metadata": {
    "Collapsed": "false",
    "toc-hr-collapsed": true
   },
   "source": [
    "## Linear Regression Analysis"
   ]
  },
  {
   "cell_type": "markdown",
   "metadata": {
    "Collapsed": "false"
   },
   "source": [
    "- used for modeling quantitative dependency\n",
    "- Y given response variable\n",
    "- X given predictor/explanatory varible\n",
    "- $Y = f(x)$"
   ]
  },
  {
   "cell_type": "markdown",
   "metadata": {
    "Collapsed": "false"
   },
   "source": [
    "- Math Model\n",
    "\n",
    "  > $$\n",
    "  \\begin{array}{lcl}\n",
    "  \\bar{Y} = a \\bar{X} + b \\\\\n",
    "  y_i = a\\,x_i+b+e_i;\\; i=1,2,\\cdots, n\\\\\n",
    "  \\text{OLS: ordinary Least Square: } min\\sum_{i=1}^{n}e_i^2\n",
    "  \\end{array}\n",
    "  $$"
   ]
  },
  {
   "cell_type": "markdown",
   "metadata": {
    "Collapsed": "false"
   },
   "source": [
    "- Caculation\n",
    "  > $$\n",
    "   \\begin{array}{lcl}\n",
    "    a=\\frac{SS_{xy}}{SS_x}=\\frac{\\sum_{i=1}^{n}(x_i-\\bar{x})^2}{\\sum_{i=1}^{n}(y_i-\\bar{y})(x_i-\\bar{x})}\\\\\n",
    "    b=\\bar{y}-a\\,\\bar{x}\n",
    "  \\end{array}  \n",
    "  $$"
   ]
  },
  {
   "cell_type": "markdown",
   "metadata": {
    "Collapsed": "false"
   },
   "source": [
    "- R-Squared\n",
    "  - indicator for Goodness-of-Fit\n",
    ">  $$\n",
    "    R_{sq}^2 = 1 - \\frac{R_{res}}{R_{tot}}\\\\\n",
    "    SSE=R_{residual} = \\sum_{i=1}^{n}e_i^2 = \\sum_{i=1}^{n}(y_i-a\\,x_i-b)^2\\\\\n",
    "    SST=R_{total} = \\sum_{i=1}^{n}(y_i-\\bar y)^2 \\\\\n",
    "    SSR=R_{regression} = \\sum_{i=1}^{n}(\\hat{y}_i-\\bar y)^2 \\\\\n",
    "    SST = SSE + SSR\n",
    "   $$"
   ]
  },
  {
   "cell_type": "markdown",
   "metadata": {
    "Collapsed": "false"
   },
   "source": [
    "- Adjuested R-Squared\n",
    ">  $$\n",
    " {\\bar{R}}_{adj}^{2}=1-(1-R^{2}){n-1 \\over n-p-1} \\\\\n",
    " \\text{where n is sample size, } \\\\\n",
    " \\text{ p is total number of explanatory variables in the model} \\\\\n",
    " \\text{ (not including the constant term)}\n",
    "   $$"
   ]
  },
  {
   "cell_type": "markdown",
   "metadata": {
    "Collapsed": "false"
   },
   "source": [
    "- Hypothesis Testing\n",
    "  - H0: X has no influence on Y, so a=0\n",
    "  - p-value of a < 0.05"
   ]
  },
  {
   "cell_type": "code",
   "execution_count": 31,
   "metadata": {
    "Collapsed": "false"
   },
   "outputs": [],
   "source": [
    "from statsmodels import api as sm\n",
    "from scipy import stats\n",
    "from sklearn import linear_model\n",
    "\n",
    "import seaborn as sns\n",
    "import numpy as np\n",
    "import scipy as sp\n",
    "import pandas as pd\n",
    "import matplotlib.pyplot as plt"
   ]
  },
  {
   "cell_type": "code",
   "execution_count": 39,
   "metadata": {
    "Collapsed": "false"
   },
   "outputs": [],
   "source": [
    "iris = sns.load_dataset('iris')\n",
    "X=iris['petal_length']\n",
    "Y=iris['petal_width']"
   ]
  },
  {
   "cell_type": "code",
   "execution_count": 40,
   "metadata": {
    "Collapsed": "false"
   },
   "outputs": [
    {
     "data": {
      "text/plain": [
       "(150, 150)"
      ]
     },
     "execution_count": 40,
     "metadata": {},
     "output_type": "execute_result"
    }
   ],
   "source": [
    "len(X), len(Y)"
   ]
  },
  {
   "cell_type": "code",
   "execution_count": 42,
   "metadata": {
    "Collapsed": "false"
   },
   "outputs": [
    {
     "data": {
      "text/html": [
       "<table class=\"simpletable\">\n",
       "<caption>OLS Regression Results</caption>\n",
       "<tr>\n",
       "  <th>Dep. Variable:</th>       <td>petal_width</td>   <th>  R-squared (uncentered):</th>      <td>   0.967</td> \n",
       "</tr>\n",
       "<tr>\n",
       "  <th>Model:</th>                   <td>OLS</td>       <th>  Adj. R-squared (uncentered):</th> <td>   0.967</td> \n",
       "</tr>\n",
       "<tr>\n",
       "  <th>Method:</th>             <td>Least Squares</td>  <th>  F-statistic:       </th>          <td>   4417.</td> \n",
       "</tr>\n",
       "<tr>\n",
       "  <th>Date:</th>             <td>Tue, 10 Sep 2019</td> <th>  Prob (F-statistic):</th>          <td>1.22e-112</td>\n",
       "</tr>\n",
       "<tr>\n",
       "  <th>Time:</th>                 <td>18:57:37</td>     <th>  Log-Likelihood:    </th>          <td> -8.7179</td> \n",
       "</tr>\n",
       "<tr>\n",
       "  <th>No. Observations:</th>      <td>   150</td>      <th>  AIC:               </th>          <td>   19.44</td> \n",
       "</tr>\n",
       "<tr>\n",
       "  <th>Df Residuals:</th>          <td>   149</td>      <th>  BIC:               </th>          <td>   22.45</td> \n",
       "</tr>\n",
       "<tr>\n",
       "  <th>Df Model:</th>              <td>     1</td>      <th>                     </th>              <td> </td>    \n",
       "</tr>\n",
       "<tr>\n",
       "  <th>Covariance Type:</th>      <td>nonrobust</td>    <th>                     </th>              <td> </td>    \n",
       "</tr>\n",
       "</table>\n",
       "<table class=\"simpletable\">\n",
       "<tr>\n",
       "        <td></td>          <th>coef</th>     <th>std err</th>      <th>t</th>      <th>P>|t|</th>  <th>[0.025</th>    <th>0.975]</th>  \n",
       "</tr>\n",
       "<tr>\n",
       "  <th>petal_length</th> <td>    0.3365</td> <td>    0.005</td> <td>   66.463</td> <td> 0.000</td> <td>    0.327</td> <td>    0.347</td>\n",
       "</tr>\n",
       "</table>\n",
       "<table class=\"simpletable\">\n",
       "<tr>\n",
       "  <th>Omnibus:</th>       <td>19.720</td> <th>  Durbin-Watson:     </th> <td>   0.857</td>\n",
       "</tr>\n",
       "<tr>\n",
       "  <th>Prob(Omnibus):</th> <td> 0.000</td> <th>  Jarque-Bera (JB):  </th> <td>  23.498</td>\n",
       "</tr>\n",
       "<tr>\n",
       "  <th>Skew:</th>          <td> 0.957</td> <th>  Prob(JB):          </th> <td>7.90e-06</td>\n",
       "</tr>\n",
       "<tr>\n",
       "  <th>Kurtosis:</th>      <td> 3.311</td> <th>  Cond. No.          </th> <td>    1.00</td>\n",
       "</tr>\n",
       "</table><br/><br/>Warnings:<br/>[1] Standard Errors assume that the covariance matrix of the errors is correctly specified."
      ],
      "text/plain": [
       "<class 'statsmodels.iolib.summary.Summary'>\n",
       "\"\"\"\n",
       "                                 OLS Regression Results                                \n",
       "=======================================================================================\n",
       "Dep. Variable:            petal_width   R-squared (uncentered):                   0.967\n",
       "Model:                            OLS   Adj. R-squared (uncentered):              0.967\n",
       "Method:                 Least Squares   F-statistic:                              4417.\n",
       "Date:                Tue, 10 Sep 2019   Prob (F-statistic):                   1.22e-112\n",
       "Time:                        18:57:37   Log-Likelihood:                         -8.7179\n",
       "No. Observations:                 150   AIC:                                      19.44\n",
       "Df Residuals:                     149   BIC:                                      22.45\n",
       "Df Model:                           1                                                  \n",
       "Covariance Type:            nonrobust                                                  \n",
       "================================================================================\n",
       "                   coef    std err          t      P>|t|      [0.025      0.975]\n",
       "--------------------------------------------------------------------------------\n",
       "petal_length     0.3365      0.005     66.463      0.000       0.327       0.347\n",
       "==============================================================================\n",
       "Omnibus:                       19.720   Durbin-Watson:                   0.857\n",
       "Prob(Omnibus):                  0.000   Jarque-Bera (JB):               23.498\n",
       "Skew:                           0.957   Prob(JB):                     7.90e-06\n",
       "Kurtosis:                       3.311   Cond. No.                         1.00\n",
       "==============================================================================\n",
       "\n",
       "Warnings:\n",
       "[1] Standard Errors assume that the covariance matrix of the errors is correctly specified.\n",
       "\"\"\""
      ]
     },
     "execution_count": 42,
     "metadata": {},
     "output_type": "execute_result"
    }
   ],
   "source": [
    "model=sm.OLS(Y,X)\n",
    "result=model.fit()\n",
    "result.summary()"
   ]
  },
  {
   "cell_type": "code",
   "execution_count": 50,
   "metadata": {
    "Collapsed": "false"
   },
   "outputs": [
    {
     "data": {
      "text/plain": [
       "(150, 1)"
      ]
     },
     "execution_count": 50,
     "metadata": {},
     "output_type": "execute_result"
    }
   ],
   "source": [
    "X.to_numpy().reshape(-1,1).shape"
   ]
  },
  {
   "cell_type": "code",
   "execution_count": 51,
   "metadata": {
    "Collapsed": "false"
   },
   "outputs": [
    {
     "data": {
      "text/plain": [
       "LinearRegression(copy_X=True, fit_intercept=True, n_jobs=None, normalize=False)"
      ]
     },
     "execution_count": 51,
     "metadata": {},
     "output_type": "execute_result"
    }
   ],
   "source": [
    "model = linear_model.LinearRegression()\n",
    "res = model.fit(X.to_numpy().reshape(-1,1),Y.to_numpy().reshape(-1,1))\n",
    "res"
   ]
  },
  {
   "cell_type": "code",
   "execution_count": 53,
   "metadata": {
    "Collapsed": "false"
   },
   "outputs": [
    {
     "data": {
      "text/plain": [
       "(array([[0.41575542]]), array([-0.36307552]))"
      ]
     },
     "execution_count": 53,
     "metadata": {},
     "output_type": "execute_result"
    }
   ],
   "source": [
    "res.coef_, res.intercept_"
   ]
  },
  {
   "cell_type": "code",
   "execution_count": null,
   "metadata": {
    "Collapsed": "false"
   },
   "outputs": [],
   "source": []
  },
  {
   "cell_type": "code",
   "execution_count": null,
   "metadata": {
    "Collapsed": "false"
   },
   "outputs": [],
   "source": []
  },
  {
   "cell_type": "markdown",
   "metadata": {
    "Collapsed": "false"
   },
   "source": [
    "## Polynomial Regression Analysis"
   ]
  },
  {
   "cell_type": "markdown",
   "metadata": {
    "Collapsed": "false"
   },
   "source": [
    "## GLM: Generalized Linear Model"
   ]
  },
  {
   "cell_type": "markdown",
   "metadata": {
    "Collapsed": "false"
   },
   "source": [
    "- Y given response variables\n",
    "- X given predictor/explanatory varibles\n",
    "- $Y = L(X)$, Y has Linear relation with X\n",
    "- for GLM, $Y$ can be linked to $L(X)$ via a link function $T(Y)$"
   ]
  },
  {
   "cell_type": "markdown",
   "metadata": {
    "Collapsed": "false"
   },
   "source": [
    "- Math Model\n",
    "  > $$\n",
    "  \\text{let $g$ be a link function:}\\\\\n",
    "  \\eta_i = g(y_i) \\\\\n",
    "  \\eta=L(X)=a+b_1x_1+b_2x_2\\cdots\n",
    "  $$"
   ]
  },
  {
   "cell_type": "markdown",
   "metadata": {
    "Collapsed": "false"
   },
   "source": [
    "- Applications\n",
    "  - Gaussion error, identical link function:\n",
    "    - $\\eta = y$\n",
    "  - Poisson error, log link function\n",
    "    - $\\eta = \\ln y$\n",
    "  - Binomial error, logit link function:\n",
    "    - $\\eta = \\ln(p/(1-p))$"
   ]
  },
  {
   "cell_type": "markdown",
   "metadata": {
    "Collapsed": "false"
   },
   "source": [
    "## GLM: Logistic Regression"
   ]
  },
  {
   "cell_type": "markdown",
   "metadata": {
    "Collapsed": "false"
   },
   "source": [
    "- Modeling Boolean like variable's relationship"
   ]
  },
  {
   "cell_type": "markdown",
   "metadata": {
    "Collapsed": "false"
   },
   "source": [
    "- Math Model: sigmoid function\n",
    "  > $$\n",
    "  \\text{link function f:}\\\\\n",
    "  p = f(y) = \\frac{1}{1+e^{-y}} \\\\\n",
    "  \\text{so the linear model is: }\\\\\n",
    "  \\ln(\\frac{p}{1-p})=a+b_1x\n",
    "  $$"
   ]
  },
  {
   "cell_type": "markdown",
   "metadata": {
    "Collapsed": "false"
   },
   "source": [
    "- Confusion Matrix\n",
    "  - Type I Error: False Positive\n",
    "  - Type II Error: False Negative\n",
    "  - Accuracy Rate: $AR=Correct/Total$\n",
    "  - Error Rate: $ER=Wrong/Total$"
   ]
  },
  {
   "cell_type": "code",
   "execution_count": null,
   "metadata": {
    "Collapsed": "false"
   },
   "outputs": [],
   "source": []
  },
  {
   "cell_type": "code",
   "execution_count": null,
   "metadata": {
    "Collapsed": "false"
   },
   "outputs": [],
   "source": []
  },
  {
   "cell_type": "code",
   "execution_count": null,
   "metadata": {
    "Collapsed": "false"
   },
   "outputs": [],
   "source": []
  },
  {
   "cell_type": "markdown",
   "metadata": {
    "Collapsed": "false"
   },
   "source": [
    "## GLM: Poission Regression"
   ]
  },
  {
   "cell_type": "code",
   "execution_count": null,
   "metadata": {
    "Collapsed": "false"
   },
   "outputs": [],
   "source": []
  },
  {
   "cell_type": "markdown",
   "metadata": {
    "Collapsed": "false"
   },
   "source": [
    "- Domains\n",
    "  - Learning\n",
    "  - Planning\n",
    "  - Problem Solving"
   ]
  },
  {
   "cell_type": "code",
   "execution_count": null,
   "metadata": {
    "Collapsed": "false"
   },
   "outputs": [],
   "source": []
  },
  {
   "cell_type": "code",
   "execution_count": null,
   "metadata": {
    "Collapsed": "false"
   },
   "outputs": [],
   "source": []
  },
  {
   "cell_type": "code",
   "execution_count": null,
   "metadata": {
    "Collapsed": "false"
   },
   "outputs": [],
   "source": []
  },
  {
   "cell_type": "markdown",
   "metadata": {
    "Collapsed": "false"
   },
   "source": [
    "# End"
   ]
  },
  {
   "cell_type": "code",
   "execution_count": null,
   "metadata": {},
   "outputs": [],
   "source": []
  },
  {
   "cell_type": "code",
   "execution_count": null,
   "metadata": {},
   "outputs": [],
   "source": []
  }
 ],
 "metadata": {
  "kernelspec": {
   "display_name": "Python 3",
   "language": "python",
   "name": "python3"
  },
  "language_info": {
   "codemirror_mode": {
    "name": "ipython",
    "version": 3
   },
   "file_extension": ".py",
   "mimetype": "text/x-python",
   "name": "python",
   "nbconvert_exporter": "python",
   "pygments_lexer": "ipython3",
   "version": "3.7.4"
  },
  "toc": {
   "base_numbering": 1,
   "nav_menu": {},
   "number_sections": true,
   "sideBar": true,
   "skip_h1_title": false,
   "title_cell": "Table of Contents",
   "title_sidebar": "Contents",
   "toc_cell": false,
   "toc_position": {
    "height": "682.2px",
    "left": "456px",
    "top": "54px",
    "width": "233.4px"
   },
   "toc_section_display": true,
   "toc_window_display": true
  },
  "toc-autonumbering": false,
  "toc-showtags": false
 },
 "nbformat": 4,
 "nbformat_minor": 4
}
