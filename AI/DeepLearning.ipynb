{
 "cells": [
  {
   "cell_type": "markdown",
   "metadata": {
    "Collapsed": "false",
    "toc-hr-collapsed": true
   },
   "source": [
    "# Deep Learning"
   ]
  },
  {
   "cell_type": "markdown",
   "metadata": {
    "Collapsed": "false"
   },
   "source": [
    "## Introduction"
   ]
  },
  {
   "cell_type": "markdown",
   "metadata": {
    "Collapsed": "false"
   },
   "source": [
    "- Categroies\n",
    "  - Supervised\n",
    "  - Semi-supervised\n",
    "  - Unsupervised"
   ]
  },
  {
   "cell_type": "markdown",
   "metadata": {},
   "source": [
    "- Usercases\n",
    "  - Pattern Recognition\n",
    "  - Time Series Prediction\n",
    "  - Signal Processing\n",
    "  - Anomally Detection\n",
    "  - Control"
   ]
  },
  {
   "cell_type": "markdown",
   "metadata": {},
   "source": [
    "- Roles\n",
    "  - Perceptron"
   ]
  },
  {
   "cell_type": "markdown",
   "metadata": {},
   "source": [
    "- Domains\n",
    "  - Learning\n",
    "  - Planning\n",
    "  - Problem Solving"
   ]
  },
  {
   "cell_type": "markdown",
   "metadata": {},
   "source": [
    "- NN Model\n",
    "  - Inputs-Nueron-Outputs\n",
    "  - Layered\n",
    "    - Input Layer\n",
    "    - Hidden Layer\n",
    "    - Output Layer"
   ]
  },
  {
   "cell_type": "markdown",
   "metadata": {},
   "source": [
    "- Terms\n",
    "  - Activation Functions\n",
    "    - Threshold\n",
    "    - Sigmoid\n",
    "    - Rectifier\n",
    "    - Hyperbolic Tangent: tanh\n",
    "    - Peoriodic\n",
    "  - Foward Propagation\n",
    "  - Back Propagation\n",
    "  - Gradient Descent\n",
    "  - Stochastic Gradient Descent"
   ]
  },
  {
   "cell_type": "markdown",
   "metadata": {
    "Collapsed": "false"
   },
   "source": [
    "## DevOps"
   ]
  },
  {
   "cell_type": "code",
   "execution_count": null,
   "metadata": {},
   "outputs": [],
   "source": []
  },
  {
   "cell_type": "code",
   "execution_count": null,
   "metadata": {},
   "outputs": [],
   "source": []
  },
  {
   "cell_type": "code",
   "execution_count": null,
   "metadata": {},
   "outputs": [],
   "source": []
  },
  {
   "cell_type": "markdown",
   "metadata": {
    "Collapsed": "false"
   },
   "source": [
    "# ANN/Artifitial Neural Network"
   ]
  },
  {
   "cell_type": "code",
   "execution_count": null,
   "metadata": {},
   "outputs": [],
   "source": []
  },
  {
   "cell_type": "markdown",
   "metadata": {},
   "source": [
    "## Demo/Churn_Modelling"
   ]
  },
  {
   "cell_type": "code",
   "execution_count": 97,
   "metadata": {},
   "outputs": [],
   "source": [
    "import numpy as np\n",
    "import pandas as pd\n",
    "\n",
    "import matplotlib.pyplot as plt\n",
    "import seaborn as sns\n",
    "import plotly.express as px\n",
    "import plotly.graph_objects as go\n",
    "\n",
    "from sklearn.preprocessing import StandardScaler\n",
    "from sklearn.preprocessing import OneHotEncoder\n",
    "from sklearn.preprocessing import LabelEncoder\n",
    "from sklearn.model_selection import train_test_split\n",
    "from sklearn.metrics import confusion_matrix\n",
    "\n",
    "import keras\n",
    "from keras.models import Sequential\n",
    "from keras.layers import Dense"
   ]
  },
  {
   "cell_type": "code",
   "execution_count": 61,
   "metadata": {},
   "outputs": [],
   "source": [
    "filename='Churn_Modelling.csv'\n",
    "rds = pd.read_csv('Data/'+filename, index_col=0)\n",
    "#plt.figure(figsize=(12,8))\n",
    "#sns.heatmap(data=rds.isnull(), yticklabels=False, cbar=False, cmap='viridis')"
   ]
  },
  {
   "cell_type": "code",
   "execution_count": 62,
   "metadata": {},
   "outputs": [
    {
     "data": {
      "text/html": [
       "<div>\n",
       "<style scoped>\n",
       "    .dataframe tbody tr th:only-of-type {\n",
       "        vertical-align: middle;\n",
       "    }\n",
       "\n",
       "    .dataframe tbody tr th {\n",
       "        vertical-align: top;\n",
       "    }\n",
       "\n",
       "    .dataframe thead th {\n",
       "        text-align: right;\n",
       "    }\n",
       "</style>\n",
       "<table border=\"1\" class=\"dataframe\">\n",
       "  <thead>\n",
       "    <tr style=\"text-align: right;\">\n",
       "      <th></th>\n",
       "      <th>CustomerId</th>\n",
       "      <th>Surname</th>\n",
       "      <th>CreditScore</th>\n",
       "      <th>Geography</th>\n",
       "      <th>Gender</th>\n",
       "      <th>Age</th>\n",
       "      <th>Tenure</th>\n",
       "      <th>Balance</th>\n",
       "      <th>NumOfProducts</th>\n",
       "      <th>HasCrCard</th>\n",
       "      <th>IsActiveMember</th>\n",
       "      <th>EstimatedSalary</th>\n",
       "      <th>Exited</th>\n",
       "    </tr>\n",
       "    <tr>\n",
       "      <th>RowNumber</th>\n",
       "      <th></th>\n",
       "      <th></th>\n",
       "      <th></th>\n",
       "      <th></th>\n",
       "      <th></th>\n",
       "      <th></th>\n",
       "      <th></th>\n",
       "      <th></th>\n",
       "      <th></th>\n",
       "      <th></th>\n",
       "      <th></th>\n",
       "      <th></th>\n",
       "      <th></th>\n",
       "    </tr>\n",
       "  </thead>\n",
       "  <tbody>\n",
       "    <tr>\n",
       "      <td>1</td>\n",
       "      <td>15634602</td>\n",
       "      <td>Hargrave</td>\n",
       "      <td>619</td>\n",
       "      <td>France</td>\n",
       "      <td>Female</td>\n",
       "      <td>42</td>\n",
       "      <td>2</td>\n",
       "      <td>0.00</td>\n",
       "      <td>1</td>\n",
       "      <td>1</td>\n",
       "      <td>1</td>\n",
       "      <td>101348.88</td>\n",
       "      <td>1</td>\n",
       "    </tr>\n",
       "    <tr>\n",
       "      <td>2</td>\n",
       "      <td>15647311</td>\n",
       "      <td>Hill</td>\n",
       "      <td>608</td>\n",
       "      <td>Spain</td>\n",
       "      <td>Female</td>\n",
       "      <td>41</td>\n",
       "      <td>1</td>\n",
       "      <td>83807.86</td>\n",
       "      <td>1</td>\n",
       "      <td>0</td>\n",
       "      <td>1</td>\n",
       "      <td>112542.58</td>\n",
       "      <td>0</td>\n",
       "    </tr>\n",
       "    <tr>\n",
       "      <td>3</td>\n",
       "      <td>15619304</td>\n",
       "      <td>Onio</td>\n",
       "      <td>502</td>\n",
       "      <td>France</td>\n",
       "      <td>Female</td>\n",
       "      <td>42</td>\n",
       "      <td>8</td>\n",
       "      <td>159660.80</td>\n",
       "      <td>3</td>\n",
       "      <td>1</td>\n",
       "      <td>0</td>\n",
       "      <td>113931.57</td>\n",
       "      <td>1</td>\n",
       "    </tr>\n",
       "    <tr>\n",
       "      <td>4</td>\n",
       "      <td>15701354</td>\n",
       "      <td>Boni</td>\n",
       "      <td>699</td>\n",
       "      <td>France</td>\n",
       "      <td>Female</td>\n",
       "      <td>39</td>\n",
       "      <td>1</td>\n",
       "      <td>0.00</td>\n",
       "      <td>2</td>\n",
       "      <td>0</td>\n",
       "      <td>0</td>\n",
       "      <td>93826.63</td>\n",
       "      <td>0</td>\n",
       "    </tr>\n",
       "    <tr>\n",
       "      <td>5</td>\n",
       "      <td>15737888</td>\n",
       "      <td>Mitchell</td>\n",
       "      <td>850</td>\n",
       "      <td>Spain</td>\n",
       "      <td>Female</td>\n",
       "      <td>43</td>\n",
       "      <td>2</td>\n",
       "      <td>125510.82</td>\n",
       "      <td>1</td>\n",
       "      <td>1</td>\n",
       "      <td>1</td>\n",
       "      <td>79084.10</td>\n",
       "      <td>0</td>\n",
       "    </tr>\n",
       "  </tbody>\n",
       "</table>\n",
       "</div>"
      ],
      "text/plain": [
       "           CustomerId   Surname  CreditScore Geography  Gender  Age  Tenure  \\\n",
       "RowNumber                                                                     \n",
       "1            15634602  Hargrave          619    France  Female   42       2   \n",
       "2            15647311      Hill          608     Spain  Female   41       1   \n",
       "3            15619304      Onio          502    France  Female   42       8   \n",
       "4            15701354      Boni          699    France  Female   39       1   \n",
       "5            15737888  Mitchell          850     Spain  Female   43       2   \n",
       "\n",
       "             Balance  NumOfProducts  HasCrCard  IsActiveMember  \\\n",
       "RowNumber                                                        \n",
       "1               0.00              1          1               1   \n",
       "2           83807.86              1          0               1   \n",
       "3          159660.80              3          1               0   \n",
       "4               0.00              2          0               0   \n",
       "5          125510.82              1          1               1   \n",
       "\n",
       "           EstimatedSalary  Exited  \n",
       "RowNumber                           \n",
       "1                101348.88       1  \n",
       "2                112542.58       0  \n",
       "3                113931.57       1  \n",
       "4                 93826.63       0  \n",
       "5                 79084.10       0  "
      ]
     },
     "execution_count": 62,
     "metadata": {},
     "output_type": "execute_result"
    }
   ],
   "source": [
    "rds.head()"
   ]
  },
  {
   "cell_type": "code",
   "execution_count": 77,
   "metadata": {
    "scrolled": true
   },
   "outputs": [
    {
     "data": {
      "text/plain": [
       "((10000, 2), (10000, 8), (10000, 1))"
      ]
     },
     "execution_count": 77,
     "metadata": {},
     "output_type": "execute_result"
    }
   ],
   "source": [
    "XC = rds.iloc[:,[3,4]].values\n",
    "XN = rds.iloc[:,[2, 5, 6, 7, 8, 9, 10, 11]].values\n",
    "y = rds[['Exited']].values\n",
    "XC.shape, XN.shape,y.shape"
   ]
  },
  {
   "cell_type": "code",
   "execution_count": 83,
   "metadata": {},
   "outputs": [],
   "source": [
    "def lableEncoding(XC,cols):\n",
    "    \"\"\"\n",
    "    Encoding Columns into numeric lables\n",
    "    \"\"\"\n",
    "    for i in cols:\n",
    "        labelencoder = LabelEncoder()\n",
    "        X[:, i] = labelencoder.fit_transform(X[:, i])\n",
    "        \n",
    "def onehotEncoding(XC):\n",
    "    \"\"\"\n",
    "    Encoding DataFrame into Onehot Lables\n",
    "    \"\"\"\n",
    "    onehotencode = OneHotEncoder(categories='auto', drop='first')\n",
    "    return onehotencode.fit_transform(XC).toarray()        \n",
    "        \n",
    "XC = onehotEncoding(XC)"
   ]
  },
  {
   "cell_type": "code",
   "execution_count": 102,
   "metadata": {},
   "outputs": [],
   "source": [
    "X = np.concatenate((XN, XC), axis=1)\n",
    "X_train, X_test,  y_train, y_test = train_test_split(X, y, test_size=0.33, random_state=0)\n",
    "\n",
    "standard_fearturescaling= StandardScaler()\n",
    "X_train = standard_fearturescaling.fit_transform(X_train)\n",
    "X_test = standard_fearturescaling.transform(X_test)"
   ]
  },
  {
   "cell_type": "code",
   "execution_count": 103,
   "metadata": {},
   "outputs": [
    {
     "data": {
      "text/plain": [
       "((3300, 11), (6700, 11), (3300, 1), (6700, 1))"
      ]
     },
     "execution_count": 103,
     "metadata": {},
     "output_type": "execute_result"
    }
   ],
   "source": [
    "X_test.shape, X_train.shape, y_test.shape, y_train.shape"
   ]
  },
  {
   "cell_type": "code",
   "execution_count": 104,
   "metadata": {},
   "outputs": [],
   "source": [
    "classifier = Sequential()\n",
    "\n",
    "# input layer and first hidden layer\n",
    "classifier.add(Dense(6, activation='relu'))\n",
    "\n",
    "# second hidden layer\n",
    "classifier.add(Dense(6, activation='relu'))\n",
    "\n",
    "# output layer\n",
    "classifier.add(Dense(1, activation='sigmoid'))\n",
    "\n",
    "# compiling the ANN\n",
    "classifier.compile(optimizer='adam', loss='binary_crossentropy', metrics=['accuracy'])\n"
   ]
  },
  {
   "cell_type": "code",
   "execution_count": 105,
   "metadata": {},
   "outputs": [
    {
     "name": "stdout",
     "output_type": "stream",
     "text": [
      "Epoch 1/100\n",
      "6700/6700 [==============================] - 1s 129us/step - loss: 0.5313 - accuracy: 0.7884\n",
      "Epoch 2/100\n",
      "6700/6700 [==============================] - 1s 107us/step - loss: 0.4341 - accuracy: 0.8079\n",
      "Epoch 3/100\n",
      "6700/6700 [==============================] - 1s 94us/step - loss: 0.3984 - accuracy: 0.8227\n",
      "Epoch 4/100\n",
      "6700/6700 [==============================] - 1s 102us/step - loss: 0.3793 - accuracy: 0.8399\n",
      "Epoch 5/100\n",
      "6700/6700 [==============================] - 1s 105us/step - loss: 0.3672 - accuracy: 0.8469\n",
      "Epoch 6/100\n",
      "6700/6700 [==============================] - 1s 99us/step - loss: 0.3600 - accuracy: 0.8503\n",
      "Epoch 7/100\n",
      "6700/6700 [==============================] - 1s 107us/step - loss: 0.3555 - accuracy: 0.8512\n",
      "Epoch 8/100\n",
      "6700/6700 [==============================] - 1s 110us/step - loss: 0.3525 - accuracy: 0.8537\n",
      "Epoch 9/100\n",
      "6700/6700 [==============================] - 1s 109us/step - loss: 0.3496 - accuracy: 0.8581\n",
      "Epoch 10/100\n",
      "6700/6700 [==============================] - 1s 113us/step - loss: 0.3478 - accuracy: 0.8587\n",
      "Epoch 11/100\n",
      "6700/6700 [==============================] - 1s 101us/step - loss: 0.3462 - accuracy: 0.85870s - loss: 0.3443 - accuracy: 0.\n",
      "Epoch 12/100\n",
      "6700/6700 [==============================] - 1s 110us/step - loss: 0.3445 - accuracy: 0.8628\n",
      "Epoch 13/100\n",
      "6700/6700 [==============================] - 1s 113us/step - loss: 0.3436 - accuracy: 0.8625\n",
      "Epoch 14/100\n",
      "6700/6700 [==============================] - 1s 103us/step - loss: 0.3431 - accuracy: 0.8606\n",
      "Epoch 15/100\n",
      "6700/6700 [==============================] - 1s 115us/step - loss: 0.3421 - accuracy: 0.8616\n",
      "Epoch 16/100\n",
      "6700/6700 [==============================] - 1s 114us/step - loss: 0.3415 - accuracy: 0.8613\n",
      "Epoch 17/100\n",
      "6700/6700 [==============================] - 1s 109us/step - loss: 0.3411 - accuracy: 0.8624\n",
      "Epoch 18/100\n",
      "6700/6700 [==============================] - 1s 116us/step - loss: 0.3398 - accuracy: 0.8627\n",
      "Epoch 19/100\n",
      "6700/6700 [==============================] - 1s 105us/step - loss: 0.3395 - accuracy: 0.8609\n",
      "Epoch 20/100\n",
      "6700/6700 [==============================] - 1s 118us/step - loss: 0.3393 - accuracy: 0.8630\n",
      "Epoch 21/100\n",
      "6700/6700 [==============================] - 1s 125us/step - loss: 0.3388 - accuracy: 0.8619\n",
      "Epoch 22/100\n",
      "6700/6700 [==============================] - 1s 105us/step - loss: 0.3379 - accuracy: 0.8621\n",
      "Epoch 23/100\n",
      "6700/6700 [==============================] - 1s 114us/step - loss: 0.3377 - accuracy: 0.8640\n",
      "Epoch 24/100\n",
      "6700/6700 [==============================] - 1s 109us/step - loss: 0.3375 - accuracy: 0.8615\n",
      "Epoch 25/100\n",
      "6700/6700 [==============================] - 1s 104us/step - loss: 0.3365 - accuracy: 0.8639\n",
      "Epoch 26/100\n",
      "6700/6700 [==============================] - 1s 106us/step - loss: 0.3364 - accuracy: 0.8634\n",
      "Epoch 27/100\n",
      "6700/6700 [==============================] - 1s 101us/step - loss: 0.3351 - accuracy: 0.8630\n",
      "Epoch 28/100\n",
      "6700/6700 [==============================] - 1s 110us/step - loss: 0.3357 - accuracy: 0.8633\n",
      "Epoch 29/100\n",
      "6700/6700 [==============================] - 1s 115us/step - loss: 0.3356 - accuracy: 0.8652\n",
      "Epoch 30/100\n",
      "6700/6700 [==============================] - 1s 112us/step - loss: 0.3356 - accuracy: 0.8654\n",
      "Epoch 31/100\n",
      "6700/6700 [==============================] - 1s 108us/step - loss: 0.3349 - accuracy: 0.8640\n",
      "Epoch 32/100\n",
      "6700/6700 [==============================] - 1s 109us/step - loss: 0.3342 - accuracy: 0.8631\n",
      "Epoch 33/100\n",
      "6700/6700 [==============================] - 1s 105us/step - loss: 0.3350 - accuracy: 0.8639\n",
      "Epoch 34/100\n",
      "6700/6700 [==============================] - 1s 114us/step - loss: 0.3344 - accuracy: 0.8631\n",
      "Epoch 35/100\n",
      "6700/6700 [==============================] - 1s 113us/step - loss: 0.3344 - accuracy: 0.8654\n",
      "Epoch 36/100\n",
      "6700/6700 [==============================] - 1s 109us/step - loss: 0.3342 - accuracy: 0.8640\n",
      "Epoch 37/100\n",
      "6700/6700 [==============================] - 1s 114us/step - loss: 0.3335 - accuracy: 0.8648\n",
      "Epoch 38/100\n",
      "6700/6700 [==============================] - 1s 102us/step - loss: 0.3334 - accuracy: 0.8649\n",
      "Epoch 39/100\n",
      "6700/6700 [==============================] - 1s 116us/step - loss: 0.3338 - accuracy: 0.8640\n",
      "Epoch 40/100\n",
      "6700/6700 [==============================] - 1s 116us/step - loss: 0.3334 - accuracy: 0.8633\n",
      "Epoch 41/100\n",
      "6700/6700 [==============================] - 1s 107us/step - loss: 0.3337 - accuracy: 0.8660\n",
      "Epoch 42/100\n",
      "6700/6700 [==============================] - 1s 141us/step - loss: 0.3328 - accuracy: 0.8657\n",
      "Epoch 43/100\n",
      "6700/6700 [==============================] - 1s 108us/step - loss: 0.3335 - accuracy: 0.8655\n",
      "Epoch 44/100\n",
      "6700/6700 [==============================] - 1s 106us/step - loss: 0.3331 - accuracy: 0.8660\n",
      "Epoch 45/100\n",
      "6700/6700 [==============================] - 1s 113us/step - loss: 0.3331 - accuracy: 0.8657\n",
      "Epoch 46/100\n",
      "6700/6700 [==============================] - 1s 102us/step - loss: 0.3324 - accuracy: 0.8646\n",
      "Epoch 47/100\n",
      "6700/6700 [==============================] - 1s 116us/step - loss: 0.3332 - accuracy: 0.8660\n",
      "Epoch 48/100\n",
      "6700/6700 [==============================] - 1s 111us/step - loss: 0.3330 - accuracy: 0.8649\n",
      "Epoch 49/100\n",
      "6700/6700 [==============================] - 1s 103us/step - loss: 0.3323 - accuracy: 0.8640\n",
      "Epoch 50/100\n",
      "6700/6700 [==============================] - 1s 117us/step - loss: 0.3325 - accuracy: 0.8634\n",
      "Epoch 51/100\n",
      "6700/6700 [==============================] - 1s 111us/step - loss: 0.3321 - accuracy: 0.8654\n",
      "Epoch 52/100\n",
      "6700/6700 [==============================] - 1s 112us/step - loss: 0.3327 - accuracy: 0.8664\n",
      "Epoch 53/100\n",
      "6700/6700 [==============================] - 1s 109us/step - loss: 0.3319 - accuracy: 0.8646\n",
      "Epoch 54/100\n",
      "6700/6700 [==============================] - 1s 102us/step - loss: 0.3323 - accuracy: 0.8634\n",
      "Epoch 55/100\n",
      "6700/6700 [==============================] - 1s 107us/step - loss: 0.3326 - accuracy: 0.8649\n",
      "Epoch 56/100\n",
      "6700/6700 [==============================] - 1s 110us/step - loss: 0.3321 - accuracy: 0.8652\n",
      "Epoch 57/100\n",
      "6700/6700 [==============================] - 1s 100us/step - loss: 0.3321 - accuracy: 0.8663\n",
      "Epoch 58/100\n",
      "6700/6700 [==============================] - 1s 119us/step - loss: 0.3325 - accuracy: 0.8631\n",
      "Epoch 59/100\n",
      "6700/6700 [==============================] - 1s 112us/step - loss: 0.3320 - accuracy: 0.8646\n",
      "Epoch 60/100\n",
      "6700/6700 [==============================] - 1s 104us/step - loss: 0.3317 - accuracy: 0.8669\n",
      "Epoch 61/100\n",
      "6700/6700 [==============================] - 1s 115us/step - loss: 0.3321 - accuracy: 0.8645\n",
      "Epoch 62/100\n",
      "6700/6700 [==============================] - 1s 107us/step - loss: 0.3318 - accuracy: 0.8657\n",
      "Epoch 63/100\n",
      "6700/6700 [==============================] - 1s 112us/step - loss: 0.3317 - accuracy: 0.8645\n",
      "Epoch 64/100\n",
      "6700/6700 [==============================] - 1s 137us/step - loss: 0.3321 - accuracy: 0.8646\n",
      "Epoch 65/100\n",
      "6700/6700 [==============================] - 1s 104us/step - loss: 0.3324 - accuracy: 0.8640\n",
      "Epoch 66/100\n",
      "6700/6700 [==============================] - 1s 105us/step - loss: 0.3317 - accuracy: 0.8651\n",
      "Epoch 67/100\n",
      "6700/6700 [==============================] - 1s 105us/step - loss: 0.3320 - accuracy: 0.8643\n",
      "Epoch 68/100\n",
      "6700/6700 [==============================] - 1s 100us/step - loss: 0.3318 - accuracy: 0.8651\n",
      "Epoch 69/100\n",
      "6700/6700 [==============================] - 1s 116us/step - loss: 0.3315 - accuracy: 0.8648\n",
      "Epoch 70/100\n",
      "6700/6700 [==============================] - 1s 116us/step - loss: 0.3318 - accuracy: 0.8651\n",
      "Epoch 71/100\n",
      "6700/6700 [==============================] - 1s 116us/step - loss: 0.3318 - accuracy: 0.86520s - loss: 0.339\n",
      "Epoch 72/100\n",
      "6700/6700 [==============================] - 1s 119us/step - loss: 0.3316 - accuracy: 0.8636\n",
      "Epoch 73/100\n",
      "6700/6700 [==============================] - 1s 104us/step - loss: 0.3315 - accuracy: 0.8658\n",
      "Epoch 74/100\n",
      "6700/6700 [==============================] - 1s 120us/step - loss: 0.3313 - accuracy: 0.8669\n",
      "Epoch 75/100\n",
      "6700/6700 [==============================] - 1s 119us/step - loss: 0.3311 - accuracy: 0.8661\n",
      "Epoch 76/100\n",
      "6700/6700 [==============================] - 1s 108us/step - loss: 0.3313 - accuracy: 0.8661\n",
      "Epoch 77/100\n",
      "6700/6700 [==============================] - 1s 119us/step - loss: 0.3313 - accuracy: 0.8669\n"
     ]
    },
    {
     "name": "stdout",
     "output_type": "stream",
     "text": [
      "Epoch 78/100\n",
      "6700/6700 [==============================] - 1s 96us/step - loss: 0.3312 - accuracy: 0.8648\n",
      "Epoch 79/100\n",
      "6700/6700 [==============================] - 1s 102us/step - loss: 0.3310 - accuracy: 0.8664\n",
      "Epoch 80/100\n",
      "6700/6700 [==============================] - 1s 107us/step - loss: 0.3311 - accuracy: 0.8646\n",
      "Epoch 81/100\n",
      "6700/6700 [==============================] - 1s 99us/step - loss: 0.3318 - accuracy: 0.8655\n",
      "Epoch 82/100\n",
      "6700/6700 [==============================] - 1s 107us/step - loss: 0.3310 - accuracy: 0.8658\n",
      "Epoch 83/100\n",
      "6700/6700 [==============================] - 1s 113us/step - loss: 0.3311 - accuracy: 0.8642\n",
      "Epoch 84/100\n",
      "6700/6700 [==============================] - 1s 128us/step - loss: 0.3319 - accuracy: 0.8651\n",
      "Epoch 85/100\n",
      "6700/6700 [==============================] - 1s 117us/step - loss: 0.3308 - accuracy: 0.8663\n",
      "Epoch 86/100\n",
      "6700/6700 [==============================] - 1s 107us/step - loss: 0.3313 - accuracy: 0.8658\n",
      "Epoch 87/100\n",
      "6700/6700 [==============================] - 1s 99us/step - loss: 0.3307 - accuracy: 0.8660\n",
      "Epoch 88/100\n",
      "6700/6700 [==============================] - 1s 107us/step - loss: 0.3312 - accuracy: 0.8643\n",
      "Epoch 89/100\n",
      "6700/6700 [==============================] - 1s 101us/step - loss: 0.3310 - accuracy: 0.8649\n",
      "Epoch 90/100\n",
      "6700/6700 [==============================] - 1s 105us/step - loss: 0.3311 - accuracy: 0.8679\n",
      "Epoch 91/100\n",
      "6700/6700 [==============================] - 1s 120us/step - loss: 0.3311 - accuracy: 0.8663\n",
      "Epoch 92/100\n",
      "6700/6700 [==============================] - 1s 102us/step - loss: 0.3304 - accuracy: 0.86580s - loss: 0.3\n",
      "Epoch 93/100\n",
      "6700/6700 [==============================] - 1s 110us/step - loss: 0.3313 - accuracy: 0.8652\n",
      "Epoch 94/100\n",
      "6700/6700 [==============================] - 1s 112us/step - loss: 0.3309 - accuracy: 0.8652\n",
      "Epoch 95/100\n",
      "6700/6700 [==============================] - 1s 97us/step - loss: 0.3309 - accuracy: 0.8649 0s - loss: 0.335\n",
      "Epoch 96/100\n",
      "6700/6700 [==============================] - 1s 105us/step - loss: 0.3311 - accuracy: 0.8648\n",
      "Epoch 97/100\n",
      "6700/6700 [==============================] - 1s 107us/step - loss: 0.3308 - accuracy: 0.8651\n",
      "Epoch 98/100\n",
      "6700/6700 [==============================] - 1s 94us/step - loss: 0.3313 - accuracy: 0.8648\n",
      "Epoch 99/100\n",
      "6700/6700 [==============================] - 1s 105us/step - loss: 0.3312 - accuracy: 0.8652\n",
      "Epoch 100/100\n",
      "6700/6700 [==============================] - 1s 107us/step - loss: 0.3308 - accuracy: 0.8663\n"
     ]
    },
    {
     "data": {
      "text/plain": [
       "<keras.callbacks.callbacks.History at 0x26fb4081508>"
      ]
     },
     "execution_count": 105,
     "metadata": {},
     "output_type": "execute_result"
    }
   ],
   "source": [
    "classifier.fit(X_train, y_train, batch_size=10, epochs=100)"
   ]
  },
  {
   "cell_type": "code",
   "execution_count": 110,
   "metadata": {},
   "outputs": [],
   "source": [
    "y_pred = classifier.predict(X_test)\n",
    "y_pred = (y_pred > 0.5)"
   ]
  },
  {
   "cell_type": "code",
   "execution_count": 111,
   "metadata": {},
   "outputs": [
    {
     "name": "stdout",
     "output_type": "stream",
     "text": [
      "[[2501  116]\n",
      " [ 355  328]]\n"
     ]
    }
   ],
   "source": [
    "print(confusion_matrix(y_test, y_pred))"
   ]
  },
  {
   "cell_type": "code",
   "execution_count": 112,
   "metadata": {},
   "outputs": [
    {
     "data": {
      "text/plain": [
       "0.8572727272727273"
      ]
     },
     "execution_count": 112,
     "metadata": {},
     "output_type": "execute_result"
    }
   ],
   "source": [
    "(2501+328)/y_pred.shape[0]"
   ]
  },
  {
   "cell_type": "code",
   "execution_count": null,
   "metadata": {},
   "outputs": [],
   "source": [
    "fig = px.scatter(data_frame=rds, x='Annual Income (k$)', y='Spending Score (1-100)', \n",
    "                 color='Type')\n",
    "fig.add_trace(fig1.data[0])\n",
    "fig.add_trace(go.Scatter(x=centroids['x'], y=centroids['y'], \n",
    "                        mode='markers',\n",
    "                        marker=dict(\n",
    "                            size=centroids['size'],\n",
    "                            color='red', #set color equal to a variable\n",
    "                            colorscale='Viridis', # one of plotly colorscales\n",
    "                            showscale=True\n",
    "                        ),\n",
    "                        showlegend=False,\n",
    "                        name='centroids'))\n",
    "fig.write_html(f'IMG/{filename}_KMeans.html',auto_open=True)"
   ]
  },
  {
   "cell_type": "code",
   "execution_count": null,
   "metadata": {},
   "outputs": [],
   "source": []
  },
  {
   "cell_type": "markdown",
   "metadata": {
    "Collapsed": "false"
   },
   "source": [
    "# CNN/Convoluted Neural Network"
   ]
  },
  {
   "cell_type": "code",
   "execution_count": null,
   "metadata": {},
   "outputs": [],
   "source": []
  },
  {
   "cell_type": "markdown",
   "metadata": {},
   "source": [
    "## Demo/Cat_Classifier"
   ]
  },
  {
   "cell_type": "code",
   "execution_count": null,
   "metadata": {},
   "outputs": [],
   "source": []
  },
  {
   "cell_type": "code",
   "execution_count": null,
   "metadata": {},
   "outputs": [],
   "source": []
  },
  {
   "cell_type": "code",
   "execution_count": null,
   "metadata": {},
   "outputs": [],
   "source": []
  },
  {
   "cell_type": "code",
   "execution_count": null,
   "metadata": {
    "Collapsed": "false"
   },
   "outputs": [],
   "source": []
  },
  {
   "cell_type": "markdown",
   "metadata": {
    "Collapsed": "false"
   },
   "source": [
    "# RNN(Recurrent Neural Network)"
   ]
  },
  {
   "cell_type": "code",
   "execution_count": null,
   "metadata": {
    "Collapsed": "false"
   },
   "outputs": [],
   "source": []
  },
  {
   "cell_type": "code",
   "execution_count": null,
   "metadata": {
    "Collapsed": "false"
   },
   "outputs": [],
   "source": []
  },
  {
   "cell_type": "code",
   "execution_count": null,
   "metadata": {
    "Collapsed": "false"
   },
   "outputs": [],
   "source": []
  },
  {
   "cell_type": "code",
   "execution_count": null,
   "metadata": {
    "Collapsed": "false"
   },
   "outputs": [],
   "source": []
  },
  {
   "cell_type": "code",
   "execution_count": null,
   "metadata": {
    "Collapsed": "false"
   },
   "outputs": [],
   "source": []
  },
  {
   "cell_type": "markdown",
   "metadata": {
    "Collapsed": "false",
    "heading_collapsed": true
   },
   "source": [
    "# End"
   ]
  },
  {
   "cell_type": "markdown",
   "metadata": {
    "Collapsed": "false",
    "hidden": true
   },
   "source": [
    "## Pipeline"
   ]
  }
 ],
 "metadata": {
  "kernelspec": {
   "display_name": "Python 3",
   "language": "python",
   "name": "python3"
  },
  "language_info": {
   "codemirror_mode": {
    "name": "ipython",
    "version": 3
   },
   "file_extension": ".py",
   "mimetype": "text/x-python",
   "name": "python",
   "nbconvert_exporter": "python",
   "pygments_lexer": "ipython3",
   "version": "3.7.4"
  },
  "toc": {
   "base_numbering": 1,
   "nav_menu": {},
   "number_sections": true,
   "sideBar": true,
   "skip_h1_title": false,
   "title_cell": "Table of Contents",
   "title_sidebar": "Contents",
   "toc_cell": false,
   "toc_position": {
    "height": "682.2px",
    "left": "456px",
    "top": "54px",
    "width": "233.4px"
   },
   "toc_section_display": true,
   "toc_window_display": true
  },
  "toc-autonumbering": false,
  "toc-showtags": false
 },
 "nbformat": 4,
 "nbformat_minor": 4
}
