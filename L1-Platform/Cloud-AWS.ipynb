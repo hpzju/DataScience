{
 "cells": [
  {
   "cell_type": "markdown",
   "metadata": {},
   "source": [
    "# AWS Cloud Computingm"
   ]
  },
  {
   "cell_type": "markdown",
   "metadata": {},
   "source": [
    "## NIST Cloud Computing Definition"
   ]
  },
  {
   "cell_type": "markdown",
   "metadata": {},
   "source": [
    "- Definition\n",
    "    - Cloud computing is a model for enabling ubiquitous, convenient, on-demand network access to a shared pool of configurable computing resources (e.g., networks, servers, storage, applications, and services) that can be rapidly provisioned and released with minimal management effort or service provider interaction. \n",
    "- Cloud Model\n",
    "    - 5 essential characteristics\n",
    "        - On-demand self-service\n",
    "        - Broad network access\n",
    "        - Resource pooling\n",
    "        - Rapid elasticity\n",
    "        - Measured service\n",
    "    - 3 service models\n",
    "        - SaaS\n",
    "        - PaaS\n",
    "        - IaaS\n",
    "        - On-Premise\n",
    "        - IT Stack\n",
    "            - Application\n",
    "            - Data\n",
    "            - Runtime\n",
    "            - Middleware\n",
    "            - OS\n",
    "            - Virtualization\n",
    "            - Compute\n",
    "            - Storage\n",
    "            - Networking\n",
    "            - Facility\n",
    "    - 4 deployment models\n",
    "      - Priavte Cloud\n",
    "          - Single Tenant Implementation\n",
    "      - Community Cloud\n",
    "      - Hybrid Cloud\n",
    "      - Public Cloud \n",
    "          - Multi-Tenant Implementation\n",
    "          - Ownership: Service Provider\n",
    "          - Access: Via Internet"
   ]
  },
  {
   "cell_type": "markdown",
   "metadata": {},
   "source": [
    "## AWS Overview"
   ]
  },
  {
   "cell_type": "markdown",
   "metadata": {},
   "source": [
    "### AWS Cloud Initiatives"
   ]
  },
  {
   "cell_type": "markdown",
   "metadata": {},
   "source": [
    "- Advantages of Cloud Computing\n",
    "    - Capex shifts to Opex\n",
    "    - Benefits from massive economies of scale\n",
    "    - Stop guessing capacity/Provisioning on-demand\n",
    "    - Increse speed of deployment and business agility\n",
    "    - Stop spending on running and maintianing data centers\n",
    "    - Go globally in minutes"
   ]
  },
  {
   "cell_type": "markdown",
   "metadata": {},
   "source": [
    "### Online Resources\n",
    "\n",
    "- [AWS Cloud Architecture Center](https://aws.amazon.com/architecture/)\n",
    "- [AWS Whitepapers](https://aws.amazon.com/whitepapers/)\n",
    "- [AWS Documentation](https://docs.aws.amazon.com/)\n",
    "\n",
    "### AWS Services Overview\n",
    "\n",
    "- [check aws website](https://aws.amazon.com/)\n",
    "\n",
    "### AWS Solutions Overview\n",
    "\n",
    "- [check aws website](https://aws.amazon.com/)"
   ]
  },
  {
   "cell_type": "markdown",
   "metadata": {},
   "source": [
    "### AWS Certification Path"
   ]
  },
  {
   "cell_type": "markdown",
   "metadata": {},
   "source": [
    "<img style=\"-webkit-user-select: none;margin: auto;cursor: zoom-in;\" src=\"AWS-CertificationView.png\" width=\"750\" height=\"600\">"
   ]
  },
  {
   "cell_type": "markdown",
   "metadata": {},
   "source": [
    "- [Blog](https://jayendrapatil.com/)"
   ]
  },
  {
   "cell_type": "markdown",
   "metadata": {},
   "source": [
    "# AWS Cloud Adoption Framework"
   ]
  },
  {
   "cell_type": "markdown",
   "metadata": {},
   "source": [
    "## Migration Strategy"
   ]
  },
  {
   "cell_type": "markdown",
   "metadata": {},
   "source": [
    "- Process\n",
    "    - Discovery\n",
    "    - Assess\n",
    "    - Design\n",
    "    - Migrate\n",
    "    - Validate"
   ]
  },
  {
   "cell_type": "markdown",
   "metadata": {},
   "source": [
    "## Migration Management"
   ]
  },
  {
   "cell_type": "markdown",
   "metadata": {},
   "source": [
    "- Application Migration\n",
    "    - Process\n",
    "        - Discovery\n",
    "        - Identify\n",
    "        - Measure\n",
    "        - Explore\n",
    "    - Practice\n",
    "        - Security\n",
    "        - Toplogy\n",
    "        - Dendency\n",
    "        - Availability\n",
    "        - Performance\n",
    "- Database Migration\n",
    "    - Process\n",
    "        - Discovery\n",
    "        - Identify\n",
    "        - Explore\n",
    "        - Migrate\n",
    "        - Verification\n",
    "    - Practice\n",
    "        - Homogenous vs Heterogenous\n",
    "        - Schema Migrate\n",
    "        - Data Transfer\n",
    "- Host Migration\n",
    "    - Data Migration"
   ]
  },
  {
   "cell_type": "markdown",
   "metadata": {},
   "source": [
    "## Migration Services and Tools"
   ]
  },
  {
   "cell_type": "markdown",
   "metadata": {},
   "source": [
    "- Migration Hub\n",
    "    - Discovery\n",
    "        - Discovery Connector\n",
    "        - Discovery Agent\n",
    "    - Assess\n",
    "    - Migrate        \n",
    "- Application Discovery Service\n",
    "- Database Migration Service\n",
    "- Server Migration Service\n",
    "- Data Migration Service\n",
    "    - AWS Transfer for SFTP\n",
    "    - Snowball\n",
    "    - DataSync"
   ]
  },
  {
   "cell_type": "markdown",
   "metadata": {},
   "source": [
    "# AWS Cloud Architecture Framework"
   ]
  },
  {
   "cell_type": "markdown",
   "metadata": {},
   "source": [
    "- General Principle\n",
    "    - Stop guessing your capacity needs\n",
    "    - Test systems at production scale\n",
    "    - Automate to make architectural experimentation easier\n",
    "    - Allow for evolutionary architectures\n",
    "    - Drive architectures using data\n",
    "    - Improve through game days"
   ]
  },
  {
   "cell_type": "markdown",
   "metadata": {},
   "source": [
    "## 5 Pillers for AWS Well-Architected"
   ]
  },
  {
   "cell_type": "markdown",
   "metadata": {},
   "source": [
    "### Operational Excellence "
   ]
  },
  {
   "cell_type": "markdown",
   "metadata": {},
   "source": [
    "- Overview\n",
    "    - The ability to run and monitor systems to deliver business value and to continually improve supporting processes and procedures.\n",
    "- Design Principle\n",
    "    - Perform operations as code\n",
    "    - Annotate documentation\n",
    "    - Make frequent, small, reversible changes\n",
    "    - Refine operations procedures frequently\n",
    "    - Anticipate failure\n",
    "    - Learn from all operational failures\n",
    "- Best Practice\n",
    "    - Prepare\n",
    "    - Operate\n",
    "    - Evolve"
   ]
  },
  {
   "cell_type": "markdown",
   "metadata": {},
   "source": [
    "###   Security "
   ]
  },
  {
   "cell_type": "markdown",
   "metadata": {},
   "source": [
    "- Overview\n",
    "    - The ability to protect information, systems, and assets while delivering business value through risk assessments and mitigation strategies.\n",
    "- Design Principle\n",
    "    - Implement a strong identity foundation\n",
    "    - Enable traceability\n",
    "    - Apply security at all layers\n",
    "    - Automate security best practices\n",
    "    - Protect data in transit and at rest\n",
    "    - Keep people away from data\n",
    "    - Prepare for security events\n",
    "- Best Practice\n",
    "    - Identity and Access Management\n",
    "    - Detective Controls\n",
    "    - Infrastructure Protection\n",
    "    - Data Protection\n",
    "    - Security Incident Response"
   ]
  },
  {
   "cell_type": "markdown",
   "metadata": {},
   "source": [
    "### Reliability"
   ]
  },
  {
   "cell_type": "markdown",
   "metadata": {},
   "source": [
    "- Overview\n",
    "    - The ability of a system to recover from infrastructure or service disruptions, dynamically acquire computing resources to meet demand, and mitigate disruptions such as misconfigurations or transient network issues.\n",
    "- Design Principle\n",
    "    - Test recovery procedures:\n",
    "    - Automatically recover from failure\n",
    "    - Scale horizontally to increase aggregate system availability\n",
    "    - Stop guessing capacity\n",
    "    - Manage change in automation\n",
    "- Best Practice\n",
    "    - Foundations\n",
    "    - Change Management\n",
    "    - Failure Management"
   ]
  },
  {
   "cell_type": "markdown",
   "metadata": {},
   "source": [
    "### Performance Efficiency"
   ]
  },
  {
   "cell_type": "markdown",
   "metadata": {},
   "source": [
    "- Overview\n",
    "    - The ability to use computing resources efficiently to meet system requirements, and to maintain that efficiency as demand changes and technologies evolve.\n",
    "- Design Principle\n",
    "    - Democratize advanced technologies:\n",
    "    - Go global in minutes\n",
    "    - Use serverless architectures\n",
    "    - Experiment more often\n",
    "    - Mechanical sympathy\n",
    "- Best Practice\n",
    "    - Selection\n",
    "    - Review\n",
    "    - Monitoring\n",
    "    - Tradeoffs"
   ]
  },
  {
   "cell_type": "markdown",
   "metadata": {},
   "source": [
    "### Cost Optimization "
   ]
  },
  {
   "cell_type": "markdown",
   "metadata": {},
   "source": [
    "- Overview\n",
    "    - The ability to run system  to deliver business value at the lowest price point.\n",
    "- Design Principle\n",
    "    - Adopt a consumption model:\n",
    "    - Measure overall efficiency\n",
    "    - Stop spending money on data center operations\n",
    "    - Analyze and attribute expenditure\n",
    "    - Use managed and application level services to reduce cost of ownership\n",
    "- Best Practice\n",
    "    - Expenditure Awareness\n",
    "    - Cost-Effective Resources\n",
    "    - Matching supply and demand\n",
    "    - Optimizing Over Time"
   ]
  },
  {
   "cell_type": "markdown",
   "metadata": {},
   "source": [
    "## Core Infra Services"
   ]
  },
  {
   "cell_type": "markdown",
   "metadata": {},
   "source": [
    "### Global Infrastructure"
   ]
  },
  {
   "cell_type": "markdown",
   "metadata": {},
   "source": [
    "- AWS Global Infrastructures\n",
    "    - Regions\n",
    "        - One-2-Many relationship with AZs\n",
    "    - Availability Zones\n",
    "        - AZ is isolated DC\n",
    "    - Local Zones\n",
    "    - POP: Points of Presence(Edge Locations)\n",
    "    - Network\n",
    "    - [view online](https://www.infrastructure.aws/)"
   ]
  },
  {
   "cell_type": "markdown",
   "metadata": {},
   "source": [
    "### Compute"
   ]
  },
  {
   "cell_type": "markdown",
   "metadata": {},
   "source": [
    "- Compute: EC2\n",
    "    - Overview\n",
    "        - AMI: Amazon Machine Image\n",
    "            - Region Bounded\n",
    "        - Security Group\n",
    "        - Placement Group\n",
    "            - Networking Affiliation\n",
    "            - low latency, High throughput networking\n",
    "            - only supported by network enhanced instances\n",
    "            - Bound by AZ\n",
    "        - ASG: Auto Scaling Group\n",
    "            - Launch Config\n",
    "            - Dynamic/Predictive Scaling\n",
    "            - Scale Up/Down\n",
    "            - Cross AZs/Bound by VPC\n",
    "        - ELB: Elastic Load Balancer\n",
    "            - Categorization\n",
    "                - Classic LB\n",
    "                - Application LB\n",
    "                    - Listener Rule\n",
    "                    - Target Group\n",
    "                - Network LB(L4)\n",
    "        - Store\n",
    "            - Instance store provides temporary block-level storage for your instance, data lost after terminated\n",
    "            - EBS \n",
    "    - Types\n",
    "        - Resources View\n",
    "            - General Purpose\n",
    "            - Memery Optimized\n",
    "            - Compute Optimized\n",
    "            - Storage Optimized\n",
    "            - Accelerated Computing\n",
    "        - Billing View\n",
    "            - On-Demand\n",
    "            - Reserved\n",
    "            - Spot\n",
    "            - Dedicated\n",
    "---\n",
    "- Compute: ECS Amazon Elastic Container Service\n",
    "    - Overview\n",
    "        - Launch Type\n",
    "            - Fargate Type: Full Managed Container/Cluster\n",
    "            - EC2 Type: Self-Provisioning Container/Cluster\n",
    "    - User Cases\n",
    "        - Microservices\n",
    "        - Batch Processing\n",
    "        - Application Migration\n",
    "        - Machine Learning\n",
    "    - Components\n",
    "        - Container\n",
    "            - Container agent\n",
    "        - Task      \n",
    "            - Task Definition\n",
    "                - Family\n",
    "                - networkMode\n",
    "                    - none\n",
    "                    - bridge\n",
    "                    - host\n",
    "                    - awsvpc\n",
    "            - Task Scheduler    \n",
    "        - Service\n",
    "        - Cluster\n",
    "    - Workflow\n",
    "\n",
    "- Compute: ECR Amazon Elastic Container Registry\n",
    "    - Overview\n",
    "        - Fully-managed Docker container registry\n",
    "        \n",
    "- Compute: EKS Amazon Elastic Kubernetes Service\n",
    "    - Overview\n",
    "        - Deploy, manage, and scale containerized applications using Kubernetes\n",
    "---\n",
    "- Compute: Lambda\n",
    "    - Overview\n",
    "        - Serverless Computing\n",
    "        \n",
    "- AWS Serverless Application Repository\n",
    "    - Overview\n",
    "        - Deploy Applicatioin for web and mobile back-ends, event and data processing, logging, monitoring, IoT\n",
    "    - SAM: AWS Serverless Application Model (SAM)\n",
    "        - Application Package Template\n",
    "\n",
    "- Compute: Amazon Elastic Beanstalk\n",
    "    - Overview\n",
    "        - Deploying and scaling web applications and services \n",
    "        - DevOps Stack: Java, .NET, PHP, Node.js, Python, Ruby, Go, and Docker \n",
    "        - Web Servers: Apache, Nginx, Passenger, and Internet Information Services (IIS).\n",
    "        - Application Deployment and Management Service\n",
    "        - Application Provisinong System\n",
    "        - Environment Tier\n",
    "            - Web Server Tier\n",
    "            - Worker Tier\n",
    "    - Deployment Mode\n",
    "        - All at once\n",
    "        - Rolling per batch bases\n",
    "        - Immutable(two environment temporarily)\n",
    "        - Blue-Green(two environment)\n",
    "---\n",
    "- Compute: Batch Computing\n",
    "    - Overview\n",
    "        - Run hundreds of thousands of batch computing jobs\n",
    "        - Dynamically provisions the optimal quantity and type of compute resources\n",
    "        - Plans, schedules, and executes your batch computing workloads across the full range of AWS compute services and features\n",
    "---\n",
    "\n",
    "- Compute: AWS Outposts\n",
    "    - Overview\n",
    "        - Bring native AWS services, infrastructure, and operating models to virtually any data center, co-location space, or on-premises facility.\n",
    "    - Hybrid Cloud Solutions\n",
    "        - VMware Cloud on AWS Outposts\n",
    "            - Avaliable on Limited Regions\n",
    "        - AWS native variant of AWS Outposts"
   ]
  },
  {
   "cell_type": "markdown",
   "metadata": {},
   "source": [
    "### Network"
   ]
  },
  {
   "cell_type": "markdown",
   "metadata": {},
   "source": [
    "#### VPC"
   ]
  },
  {
   "cell_type": "markdown",
   "metadata": {},
   "source": [
    "- Overview\n",
    "    - Region boundary\n",
    "    - Span multiple AZs\n",
    "        - Subnet Bounded by AZ\n",
    "    - VPC Peering\n",
    "- Components\n",
    "    - IGW\n",
    "        - One IGW per VPC\n",
    "    - NAT Gateway:  connet private subnet to internet\n",
    "        - Place in Public Subnet\n",
    "        - private subnet route table direct traffic to NAT Gateway\n",
    "    - NAT Instance: connect private subnet to internet\n",
    "        - Place in Public Subnet\n",
    "        - private subnet route table direct traffic to NAT Instance\n",
    "    - VPN\n",
    "        - VPG: Virtual Private Gateway\n",
    "    - Transit Gateway\n",
    "    - Implied Router/Route Tables\n",
    "        - All VPC traffics go through Implied Router\n",
    "        - Default Route Table\n",
    "            - Default Route Table creates with VPC creation\n",
    "            - Default Route Table automatically attached to each\n",
    "            - Default Route Table allow trafic in VPC for all subnets\n",
    "        - Cumtomer Route Tables\n",
    "            - Can Attached multiple subnets\n",
    "    - Network ACL\n",
    "        - Virtual Stateless Firewall\n",
    "        - Apply on Subnet level\n",
    "        - Allow/Deny ingress/egress in bi-direction\n",
    "    - Subnet\n",
    "        - Private Subnet\n",
    "            - Implicite Route Table to VPC\n",
    "        - Public Subnet\n",
    "            - Explicite Route Table to IGW\n",
    "    - Security Group\n",
    "        - Virtual Stateful Firewall, inbound traffic allowed automaticlly allowed to flow out.\n",
    "        - Apply on instance level, 1 to 5 per instance\n",
    "        - Max 50 rules per SG\n",
    "        - Deny implicite, Allow explicite\n",
    "    - IP Addresses\n",
    "        - Public IPs\n",
    "        - Private IPs\n",
    "            - A: 10.0.0.0/8\n",
    "            - B: 171.16.0.0/12\n",
    "            - C: 192.168.0.0/16\n",
    "        - Elastic IPs\n",
    "            - Region bounded\n",
    "    - EC2:ENI Elastic Network Interface\n",
    "        - Security Group bound to ENI\n",
    "    - Endpoints\n",
    "        - VPC Endpoint Services (AWS PrivateLink)\n",
    "        \n",
    "- VPC Connection\n",
    "    - To Internet\n",
    "        - Via IGW + Route Table\n",
    "    - to On-premise\n",
    "        - Via VPG + VPN, dual channels available\n",
    "        - Via AWS Direct Connect\n",
    "        - Via AWS Transit Gateway\n",
    "            - Connectivity Hub\n",
    "    - to VPCs\n",
    "        - Via VPC Peering(PCX)\n",
    "            - subnet-to-subnet traffic via route tables\n",
    "            - no overlapping IP CIDR Blocks\n",
    "            - Inter-Region peering doesn't support IPv6\n",
    "            - An Instance in A VPC cannot use peering B VPC's IGW\n",
    "- Types\n",
    "    - VPC with single Public Subnet\n",
    "    - VPC with Public and Private Subnet via NAT\n",
    "    - VPC with Public and Private Subnet via VPN\n",
    "    - VPC with Private Subnet via VPN\n",
    "    \n",
    "- Traffic Monitor\n",
    "    - Flow Log \n",
    "        - [Flow Log Record](https://docs.aws.amazon.com/vpc/latest/userguide/flow-logs.html#flow-log-records)\n",
    "            - <version> \n",
    "            - <account-id>\n",
    "            - <interface-id> \n",
    "            - <srcaddr> \n",
    "            - <dstaddr> \n",
    "            - <srcport> \n",
    "            - <dstport> \n",
    "            - <protocol> \n",
    "            - <packets> \n",
    "            - <bytes> \n",
    "            - <start> \n",
    "            - <end> \n",
    "            - <action> \n",
    "            - <log-status>\n"
   ]
  },
  {
   "cell_type": "markdown",
   "metadata": {},
   "source": [
    "#### DC, CloudFront, Route53..."
   ]
  },
  {
   "cell_type": "markdown",
   "metadata": {},
   "source": [
    "- Networking:AWS Direct Connect\n",
    "    - Overview\n",
    "        - Connect Enterprise Network to AWS Network via 1G/10G fiber\n",
    "        - Enterprise Edge Router\n",
    "        - AWS Direct Connect Router\n",
    "---\n",
    "- Networking:AWS CloudFront\n",
    "    - Overview    \n",
    "        - CND solution for Web/Streaming services\n",
    "    - Features\n",
    "    - Topologies\n",
    "        - Edge Locations\n",
    "        - Multi Edge Locatioins\n",
    "        - Regional Cache Locations\n",
    "---\n",
    "- Networking:Amazon Route53\n",
    "    - Overview    \n",
    "        - DNS hosting service\n",
    "    - Features\n",
    "        - DNS Resolver\n",
    "        - Domain Registration\n",
    "        - Geo and Private DNS\n",
    "        - DNS Failover\n",
    "        - Health Check\n",
    "        - Traffic Flow\n",
    "        - Latency based routing\n",
    "        - ELB Integration\n",
    "\n",
    "---\n",
    "- Networking:Global Accelerator\n",
    "    - Overview    \n",
    "---\n",
    "- Networking:AWS Transit Gateway\n",
    "    - Overview   \n",
    "        - Access hub for VPC connectivity\n",
    "        \n",
    "---\n",
    "\n",
    "- Networking:API Gateway\n",
    "    - Overview    \n",
    "        - API Management\n",
    "        - Severless Architecture\n",
    "---\n",
    "\n",
    "- Networking:API Mesh\n",
    "    - Overview    \n",
    "        - Microservices Management\n",
    "        \n",
    "---\n",
    "- Networking:Cloud Map\n",
    "    - Overview    "
   ]
  },
  {
   "cell_type": "markdown",
   "metadata": {},
   "source": [
    "### Storage"
   ]
  },
  {
   "cell_type": "markdown",
   "metadata": {},
   "source": [
    "- Storage: EBS Elastic Block Store\n",
    "    - Overview\n",
    "        - Root Device Volume\n",
    "        - Data Volume\n",
    "        - AZ Bounded\n",
    "    - Featurs\n",
    "        - Data Availability and Durability\n",
    "        - Data Encryption\n",
    "        - Data Backup\n",
    "        - Data Snapshot\n",
    "        - Data Lifecycle Manager\n",
    "    - Types\n",
    "        - GP2: General Purpose SSD\n",
    "        - IO1: Provision IOPS SSD\n",
    "        - HDD-old: Magnetic Volumn HDD\n",
    "        - HDD-st1: Throughput Optimized HDD\n",
    "        - HDD-sc1: cold HDD\n",
    "---\n",
    "- Storage: EFS Elastic File System\n",
    "    - Overview\n",
    "        - provide file service for instances\n",
    "        - NFSv4\n",
    "        - Cross Region Replica\n",
    "    - Mount Target\n",
    "        - Required access EFS from VPC\n",
    "        - VPN EFS Endpoint\n",
    "        - AZ Bounded, not Subnet Bounded\n",
    "        - Creatable when subnet available in that AZ\n",
    "    - Security\n",
    "        - Netwrok ACL controls Mount Target\n",
    "        - SG controls Mount Target\n",
    "        - IAM user controls permission\n",
    "    - Features\n",
    "        - Elastic\n",
    "        - Flexible\n",
    "            - on-premise mount\n",
    "            - cross region mount\n",
    "    - Store Types\n",
    "        - General Purpose\n",
    "        - Max I/O\n",
    "---\n",
    "- Storage: S3\n",
    "    - Overview\n",
    "        - Universal Namespace\n",
    "        - Object Storage\n",
    "        - Key-Value Storage\n",
    "        - Cross Region Replication\n",
    "            - versioning enabled\n",
    "    - Security\n",
    "        - ACLs for AWS Account by Object\n",
    "            - Object/Bucket Level Control\n",
    "        - Bucket Policy\n",
    "            - Bucket Level Control\n",
    "            -  Private by Default\n",
    "        - IAM User/Group/Role Policy\n",
    "        - Confilict Resolve\n",
    "            - Least Privilege Principle\n",
    "                - Deny prior to Allow\n",
    "    - Perfromane\n",
    "        - Partition 100MB file for upload\n",
    "        - Partition 5GB big file\n",
    "        - Prefix/Folder 3k-5k objects\n",
    "    - Features\n",
    "        - Data Availability and Durability\n",
    "            - 4x9s Availability\n",
    "            - 11x9s Durability\n",
    "        - Data Consistency Model\n",
    "            - Read after Write Consistency for NET PUT\n",
    "            - Eventual Consistency for Overwrite PUT/DELETES\n",
    "        - Tiered Storage\n",
    "        - Encryption\n",
    "        - Versioning\n",
    "        - Data Lifcyle Management\n",
    "    - Bucket\n",
    "        - Lifecycle Management\n",
    "            - Lifecycle Rule\n",
    "                - Transition Action\n",
    "                    - S3 Standard to S3 Standard-IA to S3 Glacier\n",
    "                - Expiration Action\n",
    "        - Versioning\n",
    "            - unversioning\n",
    "            - versioning enabled\n",
    "            - versioning suspended      \n",
    "        - Transfor Acceleration\n",
    "    - Object\n",
    "        - Files\n",
    "            - Key: Filename\n",
    "            - Value: File Content\n",
    "            - Version ID\n",
    "            - Metadata\n",
    "            - Subresources\n",
    "        - S3 Store Classes\n",
    "            - S3 Standard\n",
    "            - S3 Intelligence Tiering\n",
    "            - S3 Standard-IA: Infrequently Access\n",
    "            - S3 One Zone-IA\n",
    "            - S3 Glacier\n",
    "            - S3 Glacier Deep Archive\n",
    "---\n",
    "- Storage: Storage Gateway\n",
    "    - Overview\n",
    "        - Connecting an on-premises software appliance with S3\n",
    "    - Types\n",
    "        - File Gateway\n",
    "        - Volume Gateway\n",
    "            - Stored Mode\n",
    "            - Cached Mode\n",
    "        - Tape Gateway\n",
    "    - Deployment Mode\n",
    "        - On-premises\n",
    "            - VM + Stroage Gateway Software\n",
    "            - Hardware Applicance\n",
    "        - Cloud\n",
    "            - VM in VMware Cloud on AWS\n",
    "            - AMI in AWS\n",
    "---\n",
    "- Storage: Amazon FSx for Lustre\n",
    "    - Overview\n",
    "        - HPC Storage\n",
    "---\n",
    "- Storage: Amazon FSx for Windows File\n",
    "    - Overview\n",
    "        - HPC Storage\n",
    "---\n",
    "- Storage: Snoballmobile\n",
    "    - import/export EB level data\n",
    "---\n",
    "- Storage: Snowball\n",
    "    - import/export PB level data\n",
    "---\n",
    "- Storage: Snoball Edge\n",
    "    - import/export 100TB level data\n"
   ]
  },
  {
   "cell_type": "markdown",
   "metadata": {},
   "source": [
    "### Database"
   ]
  },
  {
   "cell_type": "markdown",
   "metadata": {},
   "source": [
    "- Databases: Amazon RDS\n",
    "    - Overveiw\n",
    "        - Multi-AZ Deployment\n",
    "            - Syncronous Active-Standby Mode\n",
    "        - Scalability\n",
    "            - Scale-up\n",
    "            - Scale-out\n",
    "        - Backup\n",
    "            - Auto backup to S3\n",
    "        - Snapshot\n",
    "        - Replica\n",
    "            - Read-Replicas\n",
    "    - Limits\n",
    "        - RDS is not autoscaling and cannot be used behind an ELB.\n",
    "        - Bound by AZ: No Multi-AZ Deploy\n",
    "        - Bound by Region: Multi-AZ Deploy\n",
    "    - DBMS\n",
    "        - Multi-AZ\n",
    "            - Master\n",
    "            - Secondary\n",
    "        - Read-Replica\n",
    "            - Cannot utilize ELB\n",
    "            - Using Route53/HAProxy\n",
    "            - Using Aurora Cluster\n",
    "    - Settings/Attributes\n",
    "        - DB Instance Class\n",
    "        - DB Instance Identifier\n",
    "        - Master Username\n",
    "        - Master Password\n",
    "    - Benefits\n",
    "        - Lower Administrative Burden\n",
    "        - High Performance\n",
    "        - High Scalability\n",
    "        - High Availability and Durability\n",
    "        - High Security\n",
    "        - Manageability\n",
    "        - Cost-Effectiveness\n",
    "    - Categorization\n",
    "        - Instance View\n",
    "            - Standard\n",
    "            - Memory Optimized\n",
    "            - Burstable Performance\n",
    "        - DB View\n",
    "            - Aurora\n",
    "            - MySQL\n",
    "            - PostgreSQL\n",
    "            - MariaDB\n",
    "            - Oracle\n",
    "            - SQL Server\n",
    "    - RDS: Amazon Aurora\n",
    "        - Features\n",
    "            - MySQL/PostgreSQL Compatible RDS Service\n",
    "            - Faster\n",
    "            - Fully Managed RDS for Provision/Setup/Patching/Backups\n",
    "            - Grow on-demand, Up to 64G\n",
    "            - Up to 15 Read Replicas\n",
    "            - HA and Durability\n",
    "---\n",
    "\n",
    "- Databases: Amazon DynamoDB\n",
    "    - Overveiw\n",
    "        - Fully managed, multiregion, multimaster database with built-in security, backup and restore, and in-memory caching for internet-scale applications\n",
    "        - NoSQL  key-value and document DB\n",
    "        - Global Tables\n",
    "        - Supports cross region replication\n",
    "    - Features\n",
    "        - Schemaless DB\n",
    "        - Strong Consistency on Read\n",
    "        - Atomic Counter and Conditional Update\n",
    "        - DynamoDB Stream\n",
    "        - DynamoDB Trigger\n",
    "        - DAX: DynamoDB Accelerator: in-memory cache for DynamoDB\n",
    "    - DBMS\n",
    "        - Schema\n",
    "            - Tables: collection of item data\n",
    "            - Items: collection of Attributes\n",
    "            - Attributes: key-value pair\n",
    "            - Primary Key: Unique\n",
    "                - Partition(Hash)\n",
    "                - Partition+Sort(Range)\n",
    "            - Secondary Indexes\n",
    "                - Alternative Key\n",
    "                    - imporve query speed\n",
    "                - Types\n",
    "                    - Local Secondary Indexes\n",
    "                    - Global Secondary Indexes\n",
    "        - Operate\n",
    "            - Query\n",
    "            - Scan\n",
    "            - UpdateItem\n",
    "                - Atomic counters\n",
    "                - Conditional Update\n",
    "         - Perfromance\n",
    "             - WCU\n",
    "                 - 4KB\n",
    "             - RCU\n",
    "                 - 1KB\n",
    "\n",
    "- Databases: Amazon DocumentDB\n",
    "    - Overveiw\n",
    "        - MongoDB Compatible Document DB Service\n",
    "        \n",
    "- Databases: Amazon Neptune\n",
    "    - Overveiw\n",
    "        - Graph DB Service\n",
    "    - DBMS\n",
    "        - Structure\n",
    "            - Node\n",
    "            - Edge\n",
    "            - Property\n",
    "        \n",
    "- Databases: Amazon ElastiCache\n",
    "    - Overveiw\n",
    "        - In-Memory Distributed Cacheing Service\n",
    "        - Accelerating RDS Query\n",
    "    - Engine Types\n",
    "        - Redis\n",
    "        - Memcached\n",
    "            - can be used as K-V data store too\n",
    "            \n",
    "- Databases: Amazon QLDB Quantum Ledger Database\n",
    "    - Overveiw\n",
    "        - Ledger DB Service\n",
    "        - Transparent, immutable, and cryptographically verifiable transaction log owned by a central trusted authority\n",
    "        \n",
    "- Databases: Amazon TimeStream\n",
    "    - Overveiw\n",
    "        - Time series database\n",
    "    - User Case\n",
    "        - IoT and operational applications that makes it easy to store and analyze trillions of events per day      \n",
    "\n",
    "---\n",
    "- Amazon Redshift\n",
    "    - Overveiw\n",
    "        - PB-Level Data Warehouse Service     \n",
    "---\n",
    "\n",
    "- Databases: Amazon DMS Data Migration Service\n",
    "    - Overveiw\n",
    "    - Migration Scenarios\n",
    "        - One-time Migration\n",
    "        - Replication of On-going changes\n",
    "        - Heterogeneous Migration using AWS SCT Schema Conversion Tool"
   ]
  },
  {
   "cell_type": "markdown",
   "metadata": {},
   "source": [
    "## Application Integration"
   ]
  },
  {
   "cell_type": "markdown",
   "metadata": {},
   "source": [
    "### Workflow"
   ]
  },
  {
   "cell_type": "markdown",
   "metadata": {},
   "source": [
    "- Amazon SWF: Simple Workflow Service\n",
    "    - Overview\n",
    "        - Build, run, and scale background jobs that have parallel or sequential steps\n",
    "        - State tracker \n",
    "        - Task coordinator\n",
    "---\n",
    "- Amazon Step Functions Service\n",
    "    - Overview\n",
    "        - Coordinate multiple AWS services into serverless workflows so you can build and update apps quickly\n",
    "    - User Cases\n",
    "        - Data Processing\n",
    "        - Automate tasks\n",
    "        - Application Orchastrating\n",
    "        - Modernize monolith architecture\n",
    "---"
   ]
  },
  {
   "cell_type": "markdown",
   "metadata": {},
   "source": [
    "### Messaging"
   ]
  },
  {
   "cell_type": "markdown",
   "metadata": {},
   "source": [
    "- Amazon SNS: Simple Notification Service\n",
    "    - Overview\n",
    "        - Fully managed pub/sub messaging service that enables you to decouple microservices, distributed systems, and serverless applications.\n",
    "        - M-2-M relationship\n",
    "        - Push-based\n",
    "    - Topology\n",
    "        - Topic in SNS\n",
    "            - Access Policy\n",
    "        - Publishers\n",
    "        - Subscribers\n",
    "---\n",
    "- Amazon MQ: Message Queue Service\n",
    "    - Overview\n",
    "        - Managed Message Broker Service for Apache ActiveMQ\n",
    "        - Message brokers allow different software systems–often using different programming languages, and on different platforms–to communicate and exchange information\n",
    "---\n",
    "- Amazon SQS: Simple Queue Service\n",
    "    - Overview\n",
    "        - Fully managed message queuing service that enables you to decouple and scale microservices, distributed systems, and serverless applications.\n",
    "        - Decouple Application\n",
    "        - Message size: 1-256KB\n",
    "    - Types\n",
    "        - Stardard Queue\n",
    "            - maximum throughput\n",
    "            - best-effort ordering\n",
    "            - at-least-once delivery\n",
    "        - FIFO Queue\n",
    "            - guarantee that messages are processed exactly once\n",
    "            - in the exact order that they are sent\n",
    "---"
   ]
  },
  {
   "cell_type": "markdown",
   "metadata": {},
   "source": [
    "### Service Bus"
   ]
  },
  {
   "cell_type": "markdown",
   "metadata": {},
   "source": []
  },
  {
   "cell_type": "markdown",
   "metadata": {},
   "source": [
    "##  Analytics"
   ]
  },
  {
   "cell_type": "markdown",
   "metadata": {},
   "source": [
    "- Amazon Redshift\n",
    "    - Overveiw\n",
    "        - PB-Level Data Warehouse Service\n",
    "---\n",
    "- AWS Lake Formation\n",
    "    - Overview\n",
    "        - Data Lake Service\n",
    "---\n",
    "- Amazon MSK Managed Streaming for Apache Kafka\n",
    "    - Overview\n",
    "        - Fully managed, highly available, and secure Apache Kafka service\n",
    "        - Process streaming data\n",
    "---\n",
    "- Amazon Athena\n",
    "    - Overview\n",
    "        - Interactive Query Service to analyze S3 Data using SQL\n",
    "        - Serverless\n",
    "        - No ETL needed\n",
    "        - integrated with AWS Glue Data Catalog\n",
    "        - Build on Presto\n",
    "---\n",
    "- Amazon Kinesis\n",
    "    - Overview\n",
    "        - Collect, process, and analyze real-time, streaming data\n",
    "        - Ingest real-time data such as video, audio, application logs, website clickstreams, and IoT telemetry data for machine learning, analytics, and other applications.\n",
    "        - Realtime Metric and Reporting\n",
    "        - Realtime Analytic\n",
    "    - Kinesis Components\n",
    "        - Kinesis Data Firehose\n",
    "            - Capture, transform, and load streaming data into Amazon S3, Amazon Redshift, Amazon Elasticsearch Service, and Splunk.\n",
    "            - Near real-time analytics with existing business intelligence tools and dashboards\n",
    "        - Kinesis Data Streams\n",
    "            - Massively scalable and durable realtime data streaming service\n",
    "        - Kinesis Video Streams\n",
    "            -  Securely stream video from connected devices to AWS for analytics, machine learning (ML), playback, and other processing.\n",
    "        - Kinesis Data Analytics\n",
    "            -  Analyze streaming data in real-time\n",
    "---\n",
    "- Amazon CloudSearch\n",
    "    - Overview\n",
    "        - Search solution for web or apps\n",
    "---\n",
    "- Amazon Elasticsearch\n",
    "    - Overview\n",
    "        -  deploy, secure, operate, and scale Elasticsearch to search, analyze, and visualize data in real-time\n",
    "---\n",
    "- Amazon Glue \n",
    "    - Overview\n",
    "        - ETL Services\n",
    "    - Glue Components\n",
    "        - Glue Crawler\n",
    "        - Glue Data Catelog\n",
    "--- \n",
    "- Amazon QuickSight\n",
    "    - Overview\n",
    "        - BI Service\n",
    "---\n",
    "- Amazon EMR Elastic MapReduce\n",
    "    - Overview\n",
    "        - Managed Hadoop framework\n",
    "        - Run Apache Spark, HBase, Presto, and Flink in Amazon EMR\n",
    "        - Interact with data in other AWS data stores such as Amazon S3 and Amazon DynamoDB\n",
    "---\n",
    "- AWS Data Pipeline \n",
    "    - Overview\n",
    "        -  process and move data between different AWS compute and storage services\n",
    "---"
   ]
  },
  {
   "cell_type": "markdown",
   "metadata": {},
   "source": [
    "## Machine Learning"
   ]
  },
  {
   "cell_type": "markdown",
   "metadata": {},
   "source": [
    "## DevOps"
   ]
  },
  {
   "cell_type": "markdown",
   "metadata": {},
   "source": [
    "- AWS Cloud9\n",
    "    - Cloud IDE\n",
    "\n",
    "- AWS CodeCommit\n",
    "    - Secure Git-based repositories\n",
    "\n",
    "- AWS CodeBuild\n",
    "    - Build service that compiles source code, runs tests, and produces software packages\n",
    "\n",
    "- AWS CodeDeploy\n",
    "    - Automates code deployments to EC2\n",
    "\n",
    "- AWS CodePipeline\n",
    "    - Continuous delivery service\n",
    "    - Automate release pipelines for fast and reliable application and infrastructure updates\n",
    "    - Automates the build, test, and deploy phases\n",
    "\n",
    "- AWS CodeStar\n",
    "    - Creating, managing, and working with software development projects on AWS\n",
    "\n",
    "- AWS X-Ray\n",
    "    - Analyze and debug distributed applications in production or under development"
   ]
  },
  {
   "cell_type": "markdown",
   "metadata": {},
   "source": []
  },
  {
   "cell_type": "markdown",
   "metadata": {},
   "source": [
    "## IoT"
   ]
  },
  {
   "cell_type": "markdown",
   "metadata": {},
   "source": [
    "## Billing and Cost Management"
   ]
  },
  {
   "cell_type": "markdown",
   "metadata": {},
   "source": [
    "- AWS Cost Explorer\n",
    "- AWS Budgets\n",
    "- AWS Cost & Usage Report\n",
    "- Reserved Instance (RI) Reporting\n",
    "- Tools\n",
    "    - Simple Monthly Calculator\n",
    "    - AWS TCO Calculator"
   ]
  },
  {
   "cell_type": "markdown",
   "metadata": {},
   "source": [
    "## Security, Identity,  and Compliance"
   ]
  },
  {
   "cell_type": "markdown",
   "metadata": {},
   "source": [
    "### Identity and Access Management"
   ]
  },
  {
   "cell_type": "markdown",
   "metadata": {},
   "source": [
    "- AWS IAM\n",
    "    - Overview\n",
    "        - Manage, control, govern authentication, authorization and access control mechnisms of Identities to AWS Resources within your AWS Account.\n",
    "        - Who What Which on Condition Model\n",
    "            - Who: User, Group, Role\n",
    "            - What: Allow/Deny CRUD Actions\n",
    "            - Which: AWS Resources\n",
    "            - Condition: \n",
    "        - Workflow Model\n",
    "            - Principal: User/Role/Group\n",
    "            - Authentication\n",
    "            - Request/Effect\n",
    "            - Authorizatioin\n",
    "            - Action(Cosole)/Operation(CLI/API)\n",
    "            - Resources\n",
    "        - Global Service with Free of Charge\n",
    "        - Fine-grained Access Control\n",
    "        - Shared Access to your Account\n",
    "        - Eventually Consistent\n",
    "        - IAM Tool Sets\n",
    "            - Console\n",
    "            - APIs\n",
    "            - CLI\n",
    "            - SDKs\n",
    "            \n",
    "    - IAM Identity Management\n",
    "        - Root User\n",
    "        - IAM Users\n",
    "            - Present an identity of a person/application accessing your account\n",
    "            - Consists of Name/Credentials\n",
    "                - Name\n",
    "                    - Username\n",
    "                    - ARN\n",
    "                    - Unique ID\n",
    "                - Credentials\n",
    "                    - Console Password\n",
    "                    - Access Keys\n",
    "                - Permission\n",
    "                    - Inheritant from Groups\n",
    "                    - Copy from existing User\n",
    "                    - Attach existing Policies\n",
    "        - IAM Groups\n",
    "            - Collection of Users with shared permission\n",
    "        - IAM Roles\n",
    "            - Defined permissions can be assumed by User/Resources\n",
    "            - No credentials, AWS STS(Security Token Service) provides dynamic temporary credentials\n",
    "            - User Cases\n",
    "                - Grand user in another AWS account to access your AWS resources\n",
    "                - Grand AWS EC2 to access other AWS resources\n",
    "                - Grand user temporarily to access critial resources with least privilege, User ID can comes from Identity Federation Sources\n",
    "            - Role Types\n",
    "                - Service Role\n",
    "                - Linked Role\n",
    "                - Role for Cross-Account Access\n",
    "                - Role for Identity Provider Access\n",
    "            - Attach Permissions Policy\n",
    "            - Trusted Entity\n",
    "                - AWS Services\n",
    "                - Another AWS Account\n",
    "                - OpenID Identity\n",
    "                - SAML 2.0 Federation Identity\n",
    "        - Identity Federation\n",
    "            - Allow you access and manage aws resources without a user account in IAM\n",
    "            - Allow SSO/ STS underline\n",
    "            - Identity Sources\n",
    "                - Amazon Cognito\n",
    "                - AWS Directory Service \n",
    "                - IdP\n",
    "                    - OpenID: WebID integration\n",
    "                    - SAML2.0: SP/IdP/Client\n",
    "                        - MS ADFS/MS AD\n",
    "     \n",
    "            \n",
    "    - IAM Access Control Policy Management\n",
    "        - Policy: defines account's permission on resources\n",
    "        - Types: PrincipalView\n",
    "            - Identity-Based Policies\n",
    "                - IAM Policy\n",
    "            - Resource-Based Policies\n",
    "                - Resource-based policies are inline policies. \n",
    "                - There are no managed resource-based policies\n",
    "                - Allowed Resources: S3, Glacier, SNS, SQS, KMS\n",
    "        - Types: OwnerView\n",
    "            - Managed Policy: AWS\n",
    "            - Managed Policy: Customer\n",
    "            - Inline Policy: Embedded into a specific User/Group/Role\n",
    "        - ARN\n",
    "            - `arn:aws:iam::ACCOUNT:RESOURCE`\n",
    "        - Policy Permission Conflict Resolve\n",
    "             - Deny overides Allow\n",
    "        - Policy Document Components(JSON)\n",
    "            - Version \n",
    "            - Statement\n",
    "            - Sid (Optional) : Statement ID\n",
    "            - Effect: Allow/Deny\n",
    "            - Principal: \n",
    "                - (Required in only some circumstances) – If you create a resource-based policy, you must indicate the account, user, role, or federated user to which you would like to allow or deny access. If you are creating an IAM permissions policy to attach to a user or role, you cannot include this element. The principal is implied as that user or role.\n",
    "            - Action: API Calls\n",
    "            - Resource: \n",
    "                - ARN: arn:partition:service:region:accountID:resource\n",
    "                - (Required in only some circumstances) – If you create an IAM permissions policy, you must specify a list of resources to which the actions apply. If you create a resource-based policy, this element is optional. If you do not include this element, then the resource to which the action applies is the resource to which the policy is attached.\n",
    "            - Condition (Optional)\n",
    "            \n",
    "    - IAM Features\n",
    "        - Shared access to AWS account\n",
    "            - cross account access\n",
    "                - Test/Dev account\n",
    "                - UAT/Prod account\n",
    "                - Partner account\n",
    "        - Granular permissions\n",
    "        - STS Enabled Security Token Service\n",
    "        - MFA: Multi-Factor Authentication\n",
    "        - Password Policies Management\n",
    "        - Integration with AWS resources\n",
    "        - 4A: \n",
    "            - Authentication\n",
    "                - User/Password\n",
    "                - Access Key: ID/Secret\n",
    "                - Access Key/Temp Session Token\n",
    "            - Authorization\n",
    "            - Auditing\n",
    "                - Accouting\n",
    "                \n",
    "    - Best Practices\n",
    "        - Lock Root User access keys\n",
    "        - Create Individual IAM Users\n",
    "        - Use Group to assign permission\n",
    "        - Use AWS defined policies\n",
    "        - Grant Least-privilege\n",
    "        - Review IAM permission\n",
    "        - Strong password policy\n",
    "        - MFA for privilege users\n",
    "        - Use Role for EC2 applications\n",
    "        - Use Role to delegate permission\n",
    "        - Do not share access keys\n",
    "        - Rotate credentials\n",
    "        - Remove unnecessary credentials\n",
    "        - User policy conditions\n",
    "        - Monitor Activities\n",
    "\n",
    "---\n",
    "- AWS Single Sign-On\n",
    "    - Overview\n",
    "        - cloud service that makes it easy to manage SSO access to multiple AWS accounts and business applications in AWS Organization\n",
    "\n",
    "---\n",
    "- AWS Directory Service\n",
    "    - Overview\n",
    "    - Directories\n",
    "        - MS Active Directory\n",
    "        - AD Connector\n",
    "        - Simple AD\n",
    "        - Amazon Cognito\n",
    "        - Amazon Cloud Directory\n",
    "        \n",
    "        \n",
    "- AWS Resource Access Manager\n",
    "    - Overview\n",
    "        - Share AWS resources with other AWS accounts.\n",
    "\n",
    "---\n",
    "\n",
    "- Amazon Cognito\n",
    "    - Overview\n",
    "        - manage user pool and identity pool\n",
    "        - User pools are user directories that provide sign-up and sign-in options for your app users. \n",
    "        - Identity pools provide AWS credentials to grant your users access to other AWS services\n",
    "    "
   ]
  },
  {
   "cell_type": "markdown",
   "metadata": {},
   "source": [
    "### Network Security"
   ]
  },
  {
   "cell_type": "markdown",
   "metadata": {},
   "source": [
    "- AWS Sheild\n",
    "    - Overview\n",
    "        - protect from DDoS\n",
    "    - Types\n",
    "        - AWS Shield Stardard\n",
    "        - AWS Shield Advance\n",
    "            - UDP Reflection, SYN Flood, DNS Query Flood, HTTP Flood\n",
    "    - Practice\n",
    "        - Reduce Attack Surface\n",
    "        - Plan for Scale\n",
    "        - Identify normal/abnormal trafic pattern\n",
    "        - Deploy WAF to protect Application\n",
    "---\n"
   ]
  },
  {
   "cell_type": "markdown",
   "metadata": {},
   "source": [
    "### Host Security"
   ]
  },
  {
   "cell_type": "markdown",
   "metadata": {},
   "source": []
  },
  {
   "cell_type": "markdown",
   "metadata": {},
   "source": [
    "### Data Security"
   ]
  },
  {
   "cell_type": "markdown",
   "metadata": {},
   "source": [
    "- AWS Secrets Manager\n",
    "    - Overview\n",
    "        - Easily rotate, manage, and retrieve secrets throughout their lifecycle\n",
    "        \n",
    "- Amazon KMS Key Management Service\n",
    "    - Overview\n",
    "        - Centralized Key Management\n",
    "        - Control Encryptions for AWS Services\n",
    "\n",
    "- Amazon CloudHSM Hardware Security Module\n",
    "    - Overview\n",
    "        - cloud-based hardware security modules (HSMs) for generating and using your own encryption keys in the AWS Cloud\n",
    "    - User Case\n",
    "        - Offload SSL processing from Web Server\n",
    "        - Protect Private Keys for Issuing CA\n",
    "        - Enable TDE(Transparent Data Encryption) for Oracle DB\n",
    "        \n",
    "---\n",
    "- AWS Certificate Manager: ACM\n",
    "    - Overview\n",
    "        - easy to provision, manage, deploy, and renew SSL/TLS certificates on the AWS platform\n",
    "        \n",
    "---\n",
    "- Amazon Macie\n",
    "    - Overview\n",
    "        - data visibility security service that helps classify and protect your sensitive and business-critical content.\n",
    "    - Workflow\n",
    "        - Discover\n",
    "        - Classify\n",
    "        - Protect"
   ]
  },
  {
   "cell_type": "markdown",
   "metadata": {},
   "source": [
    "### Application Security"
   ]
  },
  {
   "cell_type": "markdown",
   "metadata": {},
   "source": [
    "- AWS Firewall Manager\n",
    "    - Overview\n",
    "    \n",
    "- AWS Web Application Firewall: AWS WAF\n",
    "    - Overview\n",
    "        - Web application firewall service that lets you monitor web requests that are forwarded to an Amazon API Gateway API, an Amazon CloudFront distribution, or an Application Load Balancer\n",
    "    - Deploy Placement\n",
    "        - CloudFront\n",
    "        - Application LB\n",
    "        - EC2\n",
    "        - API Gateway\n",
    "---"
   ]
  },
  {
   "cell_type": "markdown",
   "metadata": {},
   "source": [
    "### Security Management"
   ]
  },
  {
   "cell_type": "markdown",
   "metadata": {},
   "source": [
    "- AWS Inspector\n",
    "    - Overview\n",
    "        - Security Assesment Service\n",
    "        - Build for DevSecOps\n",
    "    - Workflow\n",
    "        - Install on Instances\n",
    "        - Run assessment for targets\n",
    "        - Analyze assessment result\n",
    "        - Remediate security issues\n",
    "---\n",
    "- AWS Security Hub\n",
    "    - Overview\n",
    "        - Consolidated view of your security status in AWS. \n",
    "        - Automate security checks, manage security findings, and identify the highest priority security issues across your AWS environment.\n",
    "        \n",
    "---\n",
    "- Amazon Detective\n",
    "    - Overview\n",
    "        - Analyze and visualize security data to rapidly get to the root cause of potential security issues\n",
    "\n",
    "- Amazon GuardDuty\n",
    "    - Overview\n",
    "        - Thread Detecting Service\n",
    "        - continuous security monitoring service that analyzes and processes the following data sources: VPC Flow Logs, AWS CloudTrail event logs, and DNS logs.\n",
    "    - Workflow\n",
    "        - Enable GuardDuty by Account\n",
    "        - Countinuously Collecting Data\n",
    "        - Continuously Analyzing\n",
    "        - Intelligently Detecting Thread\n",
    "        - Take Action"
   ]
  },
  {
   "cell_type": "markdown",
   "metadata": {},
   "source": [
    "##  Management and Governance"
   ]
  },
  {
   "cell_type": "markdown",
   "metadata": {},
   "source": [
    "### Provisining"
   ]
  },
  {
   "cell_type": "markdown",
   "metadata": {},
   "source": [
    "- Amazon CloudFormation\n",
    "    - Overview\n",
    "        - Infra as Code Service\n",
    "        - Template based provisioning and automation\n",
    "    - Components\n",
    "        - Template\n",
    "            - Describle AWS Resource in JSON/YAML\n",
    "            - [Formate](https://docs.aws.amazon.com/AWSCloudFormation/latest/UserGuide/template-formats.html)            \n",
    "        - Stack\n",
    "        - StackSet\n",
    "        - CloudFormer\n",
    "        - CloudFormation Designer\n",
    "    - User Case\n",
    "        - Dev/Test Environment Quich launch\n",
    "        - Replicate Configruation between Envrionments\n",
    "\n",
    "---\n",
    "- AWS Service Catalog\n",
    "    - Overveiw\n",
    "        - Take control of your company's cloud resources\n",
    "        - Enable self-service for your cloud users with products you define and govern\n",
    "    - Components\n",
    "        - OU: Organization Unit\n",
    "        - SCP: Service Control Policy\n",
    "---\n",
    "- Amazon Organizations\n",
    "    - Overview\n",
    "        - Consolidated Multiple AWS Accounts for Centeral Management\n",
    "        - Consolidated Billing\n",
    "        - Integrate with IAM"
   ]
  },
  {
   "cell_type": "markdown",
   "metadata": {},
   "source": [
    "### Monitoring and Logging"
   ]
  },
  {
   "cell_type": "markdown",
   "metadata": {},
   "source": [
    "- Amazon CloudWatch\n",
    "    - Overview\n",
    "        - Monitoring and Mangement AWS Resources\n",
    "    - Workflow\n",
    "        - Collect\n",
    "            - Metrics/Logs\n",
    "        - Monitor\n",
    "        - Act\n",
    "        - Analyze\n",
    "    - Components\n",
    "        - Metrics\n",
    "        - Alarms\n",
    "        - Events\n",
    "            - Rules\n",
    "            - Targets\n",
    "        - Logs\n",
    "            - Log Stream\n",
    "            - Log Stream Group\n",
    "        - Dashboards\n",
    "---\n",
    "- Amazon CloudTrail\n",
    "    - Overview\n",
    "        - governance, compliance, operational and risk auditing for AWS account\n",
    "    - Workflow\n",
    "        - Capture\n",
    "        - Store\n",
    "        - Act\n",
    "        - Review"
   ]
  },
  {
   "cell_type": "markdown",
   "metadata": {},
   "source": [
    "### Operation"
   ]
  },
  {
   "cell_type": "markdown",
   "metadata": {},
   "source": [
    "---\n",
    "- Amazon Systems Manager\n",
    "    - Overview\n",
    "    - Workflow\n",
    "        - Group Resources\n",
    "        - Virualize Data\n",
    "        - Take Action\n",
    "    - Components\n",
    "        - Tool Sets\n",
    "            - Run CMD\n",
    "            - State Manager\n",
    "            - Inventory\n",
    "            - Maintainance Window\n",
    "            - Patch Manager\n",
    "            - Automation\n",
    "---\n",
    "- Amazon Personal Health Dashboard\n",
    "    - Overview\n",
    "        - Show events/issues/changes\n",
    "\n",
    "---\n",
    "- Amazon Trusted Advisor\n",
    "    - Overview\n",
    "    - Advisor Domains\n",
    "        - Cost Optimization\n",
    "        - Performance\n",
    "        - Security\n",
    "        - Fault Tolerance\n",
    "        - Service Limits\n",
    "---"
   ]
  },
  {
   "cell_type": "markdown",
   "metadata": {},
   "source": [
    "### Configuration"
   ]
  },
  {
   "cell_type": "markdown",
   "metadata": {},
   "source": [
    "- Amazon Config\n",
    "    - Overview\n",
    "        - AWS resources inventory of AWS account\n",
    "        - Change management\n",
    "        \n",
    "- AWS OpsWorks\n",
    "    - Overview\n",
    "        - Configuration Management Platform\n",
    "        - More Control of Infrastructure over Elastic Beanstalk\n",
    "    - OpsWorks Stacks\n",
    "        - Components\n",
    "            - Stack\n",
    "            - Layer\n",
    "                - Recipe\n",
    "            - Apps\n",
    "            - Instances\n",
    "    - OpsWorks for Chef Automation   \n",
    "    - OpsWorks for Puppet Enterprise\n",
    "        "
   ]
  },
  {
   "cell_type": "markdown",
   "metadata": {},
   "source": [
    "### Support"
   ]
  },
  {
   "cell_type": "markdown",
   "metadata": {},
   "source": [
    "- Amazon Support Plan\n",
    "    - Overview\n",
    "    - Types\n",
    "        - Basic Support Plan\n",
    "        - Developer Plan\n",
    "        - Business Plan\n",
    "        - Enterprise Plan\n",
    "---"
   ]
  },
  {
   "cell_type": "markdown",
   "metadata": {},
   "source": [
    "### Regulation, Compliance"
   ]
  },
  {
   "cell_type": "markdown",
   "metadata": {},
   "source": [
    "- Compliance Program\n",
    "    - [AWS Cloud Compliance Program](https://aws.amazon.com/compliance/programs/)\n",
    "        - [AWS Artifact Reports](https://aws.amazon.com/artifact/)\n",
    "    - Compliant\n",
    "    - Compliance-Enabling\n",
    "    \n",
    "- AWS Artifact\n",
    "    - AWS Compliance Reports Repository\n",
    "---"
   ]
  },
  {
   "cell_type": "markdown",
   "metadata": {},
   "source": [
    "# AWS Cloud Security Framework"
   ]
  },
  {
   "cell_type": "markdown",
   "metadata": {},
   "source": [
    "## Shared Responsibility Model"
   ]
  },
  {
   "cell_type": "markdown",
   "metadata": {},
   "source": [
    "<img style=\"-webkit-user-select: none;margin: auto;cursor: zoom-in;\" src=\"AWS-Secuirty-SharedResponsibilityModel.png\" width=\"750\" height=\"600\">"
   ]
  },
  {
   "cell_type": "markdown",
   "metadata": {},
   "source": [
    "- AWS Vulnerability and Penetration Testing"
   ]
  },
  {
   "cell_type": "markdown",
   "metadata": {},
   "source": [
    "## Security Stack"
   ]
  },
  {
   "cell_type": "markdown",
   "metadata": {},
   "source": [
    "- Physical and Environmental Security\n",
    "- Network Security\n",
    "- Host Security\n",
    "- Data Security\n",
    "- Applicatiion Security\n",
    "- User and Identity Security\n",
    "- Business Continuity Management"
   ]
  },
  {
   "cell_type": "markdown",
   "metadata": {},
   "source": [
    "## Security Strategy, Governance, Management"
   ]
  },
  {
   "cell_type": "markdown",
   "metadata": {},
   "source": [
    "- Security Strategy\n",
    "    - Prevent\n",
    "    - Detect\n",
    "    - Respond\n",
    "    - Remediate"
   ]
  },
  {
   "cell_type": "markdown",
   "metadata": {},
   "source": [
    "## Security Regulation, Compliance"
   ]
  },
  {
   "cell_type": "markdown",
   "metadata": {},
   "source": [
    "- Compliance\n",
    "    - [AWS Cloud Compliance Program](https://aws.amazon.com/compliance/programs/)\n",
    "        - [AWS Artifact Reports](https://aws.amazon.com/artifact/)"
   ]
  },
  {
   "cell_type": "markdown",
   "metadata": {},
   "source": [
    "# AWS Cloud DevOps Framework"
   ]
  },
  {
   "cell_type": "markdown",
   "metadata": {},
   "source": [
    "##  Cloud Rerouces Access"
   ]
  },
  {
   "cell_type": "markdown",
   "metadata": {},
   "source": [
    "- AWS Management Cosole\n",
    "    - Username/Passord\n",
    "    - MFA\n",
    "- [AWS CLI](https://aws.amazon.com/cli/)\n",
    "    - IAM Credential\n",
    "        - Access key ID/Secret access key\n",
    "        - SSH Public key/Private key\n",
    "    - `aws SERVICE ACTION CONFIG`\n",
    "- [SDKs and Toolkits](https://aws.amazon.com/getting-started/tools-sdks/)\n",
    "    - IAM Temporary Credential\n",
    "    \n",
    "- [AWS Cloud Development Kit(AWS CDK)](https://aws.amazon.com/cdk/)\n",
    "    - Powered by AWS CloudFormation\n",
    "    - Model application infrastructure using TypeScript, Python, Java, and .NET."
   ]
  },
  {
   "cell_type": "markdown",
   "metadata": {},
   "source": [
    "## Infrastructure as Code"
   ]
  },
  {
   "cell_type": "markdown",
   "metadata": {},
   "source": [
    "- AWS Services Sets\n",
    "    - AWS CloudFormation\n",
    "        - Designer\n",
    "        - Template\n",
    "        - CloudFormer"
   ]
  },
  {
   "cell_type": "markdown",
   "metadata": {},
   "source": [
    "## CI/CD"
   ]
  },
  {
   "cell_type": "markdown",
   "metadata": {},
   "source": [
    "- AWS Service Sets\n",
    "    - CodeCommit\n",
    "    - CodePipeline\n",
    "    - Elastic Beanstalk\n",
    "    - OpsWorks\n",
    "    - ECS/ECR/EKS\n",
    "- Best Practice\n",
    "    - CI/CD with CodePipeline\n",
    "        - Source Code\n",
    "            - Github\n",
    "        - Build\n",
    "            - CodeBuild\n",
    "        - Deploy\n",
    "            - CodeDeploy\n",
    "        - Product\n",
    "            - Elastic Beanstalk\n",
    "    - Blue-Green Deployment\n",
    "        - Elastic Beanstalk Application"
   ]
  },
  {
   "cell_type": "markdown",
   "metadata": {},
   "source": [
    "## Ops"
   ]
  },
  {
   "cell_type": "markdown",
   "metadata": {},
   "source": [
    "- AWS Servcie Sets\n",
    "    - s"
   ]
  },
  {
   "cell_type": "markdown",
   "metadata": {},
   "source": [
    "# AWS Best Practices"
   ]
  },
  {
   "cell_type": "markdown",
   "metadata": {},
   "source": [
    "## Networking"
   ]
  },
  {
   "cell_type": "markdown",
   "metadata": {},
   "source": [
    "- Network Resources Relationship View\n",
    "    - <img style=\"-webkit-user-select: none;margin: auto;cursor: zoom-in;\" src=\"AWS-BestPractice-NetResRelaView.png\" width=\"600\" height=\"500\">\n",
    "    "
   ]
  },
  {
   "cell_type": "markdown",
   "metadata": {},
   "source": [
    "    \n",
    "- Network Design 01: ENI, SG, Subnet, Route, IGW, VPG, NAT, PCX, Transit VPC\n",
    "    - <img style=\"-webkit-user-select: none;margin: auto;cursor: zoom-in;\" src=\"AWS-BestPractice-NetDesign01.png\" width=\"900\" height=\"700\">"
   ]
  },
  {
   "cell_type": "markdown",
   "metadata": {},
   "source": [
    "# END"
   ]
  },
  {
   "cell_type": "code",
   "execution_count": null,
   "metadata": {},
   "outputs": [],
   "source": []
  },
  {
   "cell_type": "code",
   "execution_count": null,
   "metadata": {},
   "outputs": [],
   "source": []
  }
 ],
 "metadata": {
  "kernelspec": {
   "display_name": "Python 3",
   "language": "python",
   "name": "python3"
  },
  "language_info": {
   "codemirror_mode": {
    "name": "ipython",
    "version": 3
   },
   "file_extension": ".py",
   "mimetype": "text/x-python",
   "name": "python",
   "nbconvert_exporter": "python",
   "pygments_lexer": "ipython3",
   "version": "3.7.6"
  },
  "toc": {
   "base_numbering": 1,
   "nav_menu": {},
   "number_sections": true,
   "sideBar": true,
   "skip_h1_title": false,
   "title_cell": "Table of Contents",
   "title_sidebar": "Contents",
   "toc_cell": false,
   "toc_position": {
    "height": "calc(100% - 180px)",
    "left": "10px",
    "top": "150px",
    "width": "235.625px"
   },
   "toc_section_display": true,
   "toc_window_display": true
  }
 },
 "nbformat": 4,
 "nbformat_minor": 2
}
