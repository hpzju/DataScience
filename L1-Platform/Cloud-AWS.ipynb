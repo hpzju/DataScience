{
 "cells": [
  {
   "cell_type": "markdown",
   "metadata": {},
   "source": [
    "# AWS Cloud Computingm"
   ]
  },
  {
   "cell_type": "markdown",
   "metadata": {},
   "source": [
    "## NIST Cloud Computing Definition"
   ]
  },
  {
   "cell_type": "markdown",
   "metadata": {},
   "source": [
    "- Definition\n",
    "    - Cloud computing is a model for enabling ubiquitous, convenient, on-demand network access to a shared pool of configurable computing resources (e.g., networks, servers, storage, applications, and services) that can be rapidly provisioned and released with minimal management effort or service provider interaction. \n",
    "- Cloud Model\n",
    "    - 5 essential characteristics\n",
    "        - On-demand self-service\n",
    "        - Broad network access\n",
    "        - Resource pooling\n",
    "        - Rapid elasticity\n",
    "        - Measured service\n",
    "    - 3 service models\n",
    "        - SaaS\n",
    "        - PaaS\n",
    "        - IaaS\n",
    "        - On-Premise\n",
    "        - IT Stack\n",
    "            - Application\n",
    "            - Data\n",
    "            - Runtime\n",
    "            - Middleware\n",
    "            - OS\n",
    "            - Virtualization\n",
    "            - Compute\n",
    "            - Storage\n",
    "            - Networking\n",
    "            - Facility\n",
    "    - 4 deployment models\n",
    "      - Priavte Cloud\n",
    "          - Single Tenant Implementation\n",
    "      - Community Cloud\n",
    "      - Hybrid Cloud\n",
    "      - Public Cloud \n",
    "          - Multi-Tenant Implementation\n",
    "          - Ownership: Service Provider\n",
    "          - Access: Via Internet"
   ]
  },
  {
   "cell_type": "markdown",
   "metadata": {},
   "source": [
    "## AWS Overview"
   ]
  },
  {
   "cell_type": "markdown",
   "metadata": {},
   "source": [
    "### AWS Cloud Initiatives"
   ]
  },
  {
   "cell_type": "markdown",
   "metadata": {},
   "source": [
    "- Advantages of Cloud Computing\n",
    "    - Capex shifts to Opex\n",
    "    - Benefits from massive economies of scale\n",
    "    - Stop guessing capacity/Provisioning on-demand\n",
    "    - Increse speed of deployment and business agility\n",
    "    - Stop spending on running and maintianing data centers\n",
    "    - Go globally in minutes"
   ]
  },
  {
   "cell_type": "markdown",
   "metadata": {},
   "source": [
    "### Online Resources\n",
    "\n",
    "- [AWS Cloud Architecture Center](https://aws.amazon.com/architecture/)\n",
    "- [AWS Whitepapers](https://aws.amazon.com/whitepapers/)\n",
    "- [AWS Documentation](https://docs.aws.amazon.com/)\n",
    "\n",
    "### AWS Services Overview\n",
    "\n",
    "- [check aws website](https://aws.amazon.com/)\n",
    "\n",
    "### AWS Solutions Overview\n",
    "\n",
    "- [check aws website](https://aws.amazon.com/)"
   ]
  },
  {
   "cell_type": "markdown",
   "metadata": {},
   "source": [
    "### AWS Certification Path"
   ]
  },
  {
   "cell_type": "markdown",
   "metadata": {},
   "source": [
    "<img style=\"-webkit-user-select: none;margin: auto;cursor: zoom-in;\" src=\"AWS-CertificationView.png\" width=\"750\" height=\"600\">"
   ]
  },
  {
   "cell_type": "markdown",
   "metadata": {},
   "source": [
    "- [Blog](https://jayendrapatil.com/)"
   ]
  },
  {
   "cell_type": "markdown",
   "metadata": {},
   "source": [
    "# AWS Cloud Adoption Framework"
   ]
  },
  {
   "cell_type": "markdown",
   "metadata": {},
   "source": [
    "## Migration Strategy"
   ]
  },
  {
   "cell_type": "markdown",
   "metadata": {},
   "source": [
    "- Process\n",
    "    - Discovery\n",
    "    - Assess\n",
    "    - Design\n",
    "    - Migrate\n",
    "    - Validate\n"
   ]
  },
  {
   "cell_type": "markdown",
   "metadata": {},
   "source": [
    "## Migration Management"
   ]
  },
  {
   "cell_type": "markdown",
   "metadata": {},
   "source": [
    "- Application Migration\n",
    "    - Process\n",
    "        - Discovery\n",
    "        - Identify\n",
    "        - Measure\n",
    "        - Explore\n",
    "    - Practice\n",
    "        - Security\n",
    "        - Toplogy\n",
    "        - Dendency\n",
    "        - Availability\n",
    "        - Performance\n",
    "    - Method\n",
    "        - Re-host\n",
    "        - Re-Platform\n",
    "        - Re-Factor\n",
    "        - Re-Invent\n",
    "- Database Migration\n",
    "    - Process\n",
    "        - Discovery\n",
    "        - Identify\n",
    "        - Explore\n",
    "        - Migrate\n",
    "        - Verification\n",
    "    - Practice\n",
    "        - Homogenous vs Heterogenous\n",
    "        - Schema Migrate\n",
    "        - Data Transfer\n",
    "- Host Migration\n",
    "    - Data Migration"
   ]
  },
  {
   "cell_type": "markdown",
   "metadata": {},
   "source": [
    "## Migration Services and Tools"
   ]
  },
  {
   "cell_type": "markdown",
   "metadata": {},
   "source": [
    "- Migration Hub\n",
    "    - Discovery\n",
    "        - Discovery Connector\n",
    "        - Discovery Agent\n",
    "    - Assess\n",
    "    - Migrate        \n",
    "- Application Discovery Service\n",
    "- Database Migration Service\n",
    "- Server Migration Service\n",
    "- Data Migration Service\n",
    "    - AWS Transfer for SFTP\n",
    "    - Snowball\n",
    "    - DataSync"
   ]
  },
  {
   "cell_type": "markdown",
   "metadata": {},
   "source": [
    "# AWS Cloud Architecture Framework"
   ]
  },
  {
   "cell_type": "markdown",
   "metadata": {},
   "source": [
    "- General Principle\n",
    "    - Stop guessing your capacity needs\n",
    "    - Test systems at production scale\n",
    "    - Automate to make architectural experimentation easier\n",
    "    - Allow for evolutionary architectures\n",
    "    - Drive architectures using data\n",
    "    - Improve through game days"
   ]
  },
  {
   "cell_type": "markdown",
   "metadata": {},
   "source": [
    "## 5 Pillers for AWS Well-Architected"
   ]
  },
  {
   "cell_type": "markdown",
   "metadata": {},
   "source": [
    "### General Principels"
   ]
  },
  {
   "cell_type": "markdown",
   "metadata": {},
   "source": [
    "- Stop guessing capacity\n",
    "- Automate everything\n",
    "- Test at scale\n",
    "- Adapt and Evolve\n",
    "- Be Data-Driven\n",
    "- Pracice"
   ]
  },
  {
   "cell_type": "markdown",
   "metadata": {},
   "source": [
    "###   Security "
   ]
  },
  {
   "cell_type": "markdown",
   "metadata": {},
   "source": [
    "- Overview\n",
    "    - The ability to protect information, systems, and assets while delivering business value through risk assessments and mitigation strategies.\n",
    "- Design Principle\n",
    "    - Implement a strong identity foundation\n",
    "    - Enable traceability\n",
    "    - Apply security at all layers\n",
    "    - Automate security best practices\n",
    "    - Protect data in transit and at rest\n",
    "    - Keep people away from data\n",
    "    - Prepare for security events\n",
    "- Best Practice\n",
    "    - Identity and Access Management\n",
    "    - Detective Controls\n",
    "    - Infrastructure Protection\n",
    "    - Data Protection\n",
    "    - Security Incident Response"
   ]
  },
  {
   "cell_type": "markdown",
   "metadata": {},
   "source": [
    "### Cost Optimization "
   ]
  },
  {
   "cell_type": "markdown",
   "metadata": {},
   "source": [
    "- Overview\n",
    "    - The ability to run system  to deliver business value at the lowest price point.\n",
    "- Design Principle\n",
    "    - Adopt a consumption model:\n",
    "    - Measure overall efficiency\n",
    "    - Stop spending money on data center operations\n",
    "    - Analyze and attribute expenditure\n",
    "    - Use managed and application level services to reduce cost of ownership\n",
    "- Best Practice\n",
    "    - Expenditure Awareness\n",
    "    - Cost-Effective Resources\n",
    "    - Matching supply and demand\n",
    "    - Optimizing Over Time"
   ]
  },
  {
   "cell_type": "markdown",
   "metadata": {},
   "source": [
    "### Operational Excellence "
   ]
  },
  {
   "cell_type": "markdown",
   "metadata": {},
   "source": [
    "- Overview\n",
    "    - The ability to run and monitor systems to deliver business value and to continually improve supporting processes and procedures.\n",
    "- Design Principle\n",
    "    - Perform operations as code\n",
    "    - Annotate documentation\n",
    "    - Make frequent, small, reversible changes\n",
    "    - Refine operations procedures frequently\n",
    "    - Anticipate failure\n",
    "    - Learn from all operational failures\n",
    "- Best Practice\n",
    "    - Prepare\n",
    "    - Operate\n",
    "    - Evolve"
   ]
  },
  {
   "cell_type": "markdown",
   "metadata": {},
   "source": [
    "### Reliability"
   ]
  },
  {
   "cell_type": "markdown",
   "metadata": {},
   "source": [
    "- Overview\n",
    "    - The ability of a system to recover from infrastructure or service disruptions, dynamically acquire computing resources to meet demand, and mitigate disruptions such as misconfigurations or transient network issues.\n",
    "- Design Principle\n",
    "    - Test recovery procedures:\n",
    "    - Automatically recover from failure\n",
    "    - Scale horizontally to increase aggregate system availability\n",
    "    - Stop guessing capacity\n",
    "    - Manage change in automation\n",
    "- Best Practice\n",
    "    - Foundations\n",
    "    - Change Management\n",
    "    - Failure Management"
   ]
  },
  {
   "cell_type": "markdown",
   "metadata": {},
   "source": [
    "### Performance Efficiency"
   ]
  },
  {
   "cell_type": "markdown",
   "metadata": {},
   "source": [
    "- Overview\n",
    "    - The ability to use computing resources efficiently to meet system requirements, and to maintain that efficiency as demand changes and technologies evolve.\n",
    "- Design Principle\n",
    "    - Democratize advanced technologies:\n",
    "    - Go global in minutes\n",
    "    - Use serverless architectures\n",
    "    - Experiment more often\n",
    "    - Mechanical sympathy\n",
    "- Best Practice\n",
    "    - Selection\n",
    "    - Review\n",
    "    - Monitoring\n",
    "    - Tradeoffs"
   ]
  },
  {
   "cell_type": "markdown",
   "metadata": {},
   "source": [
    "## Core Infra Services"
   ]
  },
  {
   "cell_type": "markdown",
   "metadata": {},
   "source": [
    "### Global Infrastructure"
   ]
  },
  {
   "cell_type": "markdown",
   "metadata": {},
   "source": [
    "- AWS Global Infrastructures\n",
    "    - Regions\n",
    "        - One-2-Many relationship with AZs\n",
    "    - Availability Zones\n",
    "        - AZ is isolated DC\n",
    "    - Local Zones\n",
    "    - POP: Points of Presence(Edge Locations)\n",
    "    - Network\n",
    "    - [view online](https://www.infrastructure.aws/)"
   ]
  },
  {
   "cell_type": "markdown",
   "metadata": {},
   "source": [
    "### Compute"
   ]
  },
  {
   "cell_type": "markdown",
   "metadata": {},
   "source": [
    "#### EC2"
   ]
  },
  {
   "cell_type": "markdown",
   "metadata": {},
   "source": [
    "- Overveiw\n",
    "- UserCase\n",
    "- Technology\n",
    "    - Instance Categorize\n",
    "        - Tenancy View\n",
    "            - default: Shared Instance\n",
    "            - dedicated: Dedicated Instance\n",
    "            - host: Dedicated Host Instance\n",
    "        - Resources View\n",
    "            - General Purpose: t, m\n",
    "                - Scale-out workloads such as web servers, \n",
    "                - containerized microservices, \n",
    "                - caching fleets \n",
    "                - distributed data stores, as well as development environments\n",
    "            - Memery Optimized: r, x\n",
    "                - DB workload\n",
    "                - HPC\n",
    "                - EDA\n",
    "                - SAP HANA\n",
    "                - In-Memeory DB Engine\n",
    "                - Analytic DB Engine\n",
    "            - Compute Optimized: c\n",
    "                - High performance web servers, \n",
    "                - scientific modelling, \n",
    "                - batch processing, \n",
    "                - distributed analytics, \n",
    "                - high-performance computing (HPC), \n",
    "                - machine/deep learning inference, \n",
    "                - ad serving, \n",
    "                - highly scalable multiplayer gaming, and video encoding.\n",
    "            - Storage Optimized: d, i\n",
    "                - MPP data warehouse\n",
    "                - MapReduce/Hadoop\n",
    "                - Log data processing\n",
    "                - OLTP-like\n",
    "            - Accelerated Computing: f, p, g\n",
    "        - Billing View\n",
    "            - On-Demand Instances\n",
    "            - Reserved Instances\n",
    "                - Scheduled Reserved Instances\n",
    "            - Spot Instances\n",
    "            - Dedicated Hosts\n",
    "    - Instance Lifecycle\n",
    "        - AMI: Amazon Machine Image\n",
    "            - Region Bounded\n",
    "        - Action: \n",
    "            - launch\n",
    "            - reboot\n",
    "            - stop\n",
    "            - start\n",
    "            - terminate\n",
    "        - Status\n",
    "            - pending\n",
    "            - running\n",
    "            - rebooting\n",
    "            - stopping\n",
    "            - stopped\n",
    "            - shutingdown\n",
    "            - terminated\n",
    "    - Security Group\n",
    "    - Placement Group\n",
    "        - Networking Affiliation\n",
    "        - low latency, High throughput networking\n",
    "        - only supported by network enhanced instances\n",
    "        - Bound by AZ\n",
    "    - ASG: Auto Scaling Group\n",
    "        - Launch Config\n",
    "        - Scaling Policy\n",
    "            - Dynamic/Predictive Scaling\n",
    "            - Scale Up/Down            \n",
    "            - SNS Notification\n",
    "        - Cross AZs/Bound by VPC\n",
    "        - ASG Lifecycle\n",
    "            - <img style=\"-webkit-user-select: none;margin: auto;cursor: zoom-in;\" src=\"AWS-ASG-Lifecycle.png\" width=\"600\" height=\"600\">\n",
    "        - ASG Lifecycle Hook\n",
    "            - customize actions before instance running\n",
    "            - Pending:Wait -> Launching Hook Action -> Pending:Proceed\n",
    "            - Terminating:Wait -> Ternating Hook Action -> Terminating: Proceed\n",
    "        - Mannual Scaling\n",
    "            - Attache EC2 Instance\n",
    "            - Detach EC2 Instance\n",
    "            - Change Capacity using CLI\n",
    "            - Change Capacity using Console\n",
    "        - Scheduled Scaling\n",
    "            - Schedule Action\n",
    "        - Dynamic Scaling\n",
    "            - Scaling Policy\n",
    "                - Simple Scaling\n",
    "                - Step Scaling\n",
    "                - Target Tracking Scaling\n",
    "                    - Metric Types\n",
    "                        - CPU\n",
    "                        - Network IN\n",
    "                        - Network OUT\n",
    "                        - ALB Requests count\n",
    "            \n",
    "    - ELB: Elastic Load Balancer\n",
    "        - HA by Design\n",
    "        - Cross-Zone LB or Zone-Bound LB\n",
    "        - Features\n",
    "            - Targets Health Check\n",
    "            - SSL offload\n",
    "        - Categorization\n",
    "            - traffic view\n",
    "                - internal LB\n",
    "                - Internet-facing LB\n",
    "            - Function View\n",
    "                - Classic LB\n",
    "                - Application LB\n",
    "                    - Listener Rule\n",
    "                        - Host Header\n",
    "                        - Http Header\n",
    "                        - Http Request Method\n",
    "                        - Query String\n",
    "                        - Source IP\n",
    "                        - Path Condition\n",
    "                    - Target Group\n",
    "                        - EC 503: no Target\n",
    "                        - Instance\n",
    "                            - Protocal: HTTP, HTTPS\n",
    "                            - Ports: 1-65525\n",
    "                        - IP\n",
    "                        - Lambda Function\n",
    "                        - Health Check\n",
    "                    - Session Stickiness\n",
    "                        - cookie used\n",
    "                        - expired setting\n",
    "                    - Cross-Zone LB\n",
    "                - Network LB(L4)\n",
    "                    - Protocals\n",
    "                        - TCP, UDP, TLS, TCP_UDP\n",
    "         - Deploy/Config\n",
    "             - Select VPC\n",
    "             - Select Subnets\n",
    "             - Select ACM Certificate\n",
    "             - Select SG\n",
    "             - Config Routing\n",
    "                 - Target Group\n",
    "                 - Health Checks\n",
    "    - Store\n",
    "        - Instance store\n",
    "            - data will lost when\n",
    "                - instance stops\n",
    "                - instance terminates\n",
    "                - underline physical disk fails\n",
    "        - EBS \n",
    "- Architecture\n",
    "    - Security\n",
    "    - Reliability\n",
    "    - Performance\n",
    "    - Operation\n",
    "    - Cost\n",
    "- Deploy/Config/Operate\n",
    "    - Prerequisite\n",
    "    - Workflow\n",
    "- Optimize\n",
    "    - Best Practice\n",
    "    \n",
    "\n"
   ]
  },
  {
   "cell_type": "markdown",
   "metadata": {},
   "source": [
    "#### ECS, ECR, EKS"
   ]
  },
  {
   "cell_type": "markdown",
   "metadata": {},
   "source": [
    "- Compute: ECS Amazon Elastic Container Service\n",
    "    - Overview\n",
    "        - Launch Type\n",
    "            - Fargate Type: Full Managed Container/Cluster\n",
    "            - EC2 Type: Self-Provisioning Container/Cluster\n",
    "    - User Cases\n",
    "        - Microservices\n",
    "        - Batch Processing\n",
    "        - Application Migration\n",
    "        - Machine Learning\n",
    "    - Components\n",
    "        - Container\n",
    "            - Container Definition\n",
    "                - Image\n",
    "                - Ports\n",
    "                - Registry\n",
    "                - Evrionment Variable\n",
    "            - Container Agent\n",
    "        - Task      \n",
    "            - Task Definition\n",
    "                - Family\n",
    "                - networkMode\n",
    "                    - none\n",
    "                    - bridge\n",
    "                    - host\n",
    "                    - awsvpc\n",
    "            - Task Scheduler    \n",
    "        - Service\n",
    "        - Cluster\n",
    "    - Workflow\n",
    "\n",
    "- Compute: ECR Amazon Elastic Container Registry\n",
    "    - Overview\n",
    "        - Fully-managed Docker container registry\n",
    "    - Components\n",
    "        - Registry\n",
    "        - Repository\n",
    "        - Repository Policy\n",
    "        - Authorization Token\n",
    "        - Image\n",
    "        \n",
    "- Compute: EKS Amazon Elastic Kubernetes Service\n",
    "    - Overview\n",
    "        - Deploy, manage, and scale containerized applications using Kubernetes\n",
    "---"
   ]
  },
  {
   "cell_type": "markdown",
   "metadata": {},
   "source": [
    "#### Lambda"
   ]
  },
  {
   "cell_type": "markdown",
   "metadata": {},
   "source": [
    "- Compute: Lambda\n",
    "    - Overview\n",
    "        - Serverless Computing\n",
    "    - User Case\n",
    "        - Patterns\n",
    "            - Event Driven Design\n",
    "            - Speed, Simple, Singular\n",
    "            - Concurrent\n",
    "            - Share Nothing\n",
    "            - Use State-Machine or Coordinate(AWS SWF)\n",
    "            - Design for Failure/Duplicate\n",
    "    - Components\n",
    "        - Layer\n",
    "            - IAM\n",
    "            - Compute\n",
    "            - Process Logic\n",
    "            - Messageing/Streaming\n",
    "            - Data\n",
    "        - Function\n",
    "        - Application\n",
    "        \n",
    "- AWS Serverless Application Repository\n",
    "    - Overview\n",
    "        - Deploy Applicatioin for web and mobile back-ends, event and data processing, logging, monitoring, IoT\n",
    "    - SAM: AWS Serverless Application Model (SAM)\n",
    "        - Application Package Template"
   ]
  },
  {
   "cell_type": "markdown",
   "metadata": {},
   "source": [
    "#### Serveless"
   ]
  },
  {
   "cell_type": "markdown",
   "metadata": {},
   "source": [
    "- Compute: Amazon Elastic Beanstalk\n",
    "    - Overview\n",
    "        - Deploying and scaling web applications and services \n",
    "        - DevOps Stack: Java, .NET, PHP, Node.js, Python, Ruby, Go, and Docker \n",
    "        - Web Servers: Apache, Nginx, Passenger, and Internet Information Services (IIS).\n",
    "        - Application Deployment and Management Service\n",
    "        - Application Provisinong System\n",
    "        - Environment Tier\n",
    "            - Web Server Tier\n",
    "            - Worker Tier\n",
    "    - Deployment Mode\n",
    "        - All at once\n",
    "        - Rolling per batch bases\n",
    "        - Immutable(two environment temporarily)\n",
    "        - Blue-Green(two environment)\n",
    "---\n",
    "- Compute: Batch Computing\n",
    "    - Overview\n",
    "        - Run hundreds of thousands of batch computing jobs\n",
    "        - Dynamically provisions the optimal quantity and type of compute resources\n",
    "        - Plans, schedules, and executes your batch computing workloads across the full range of AWS compute services and features\n",
    "---\n",
    "\n",
    "- Compute: AWS Outposts\n",
    "    - Overview\n",
    "        - Bring native AWS services, infrastructure, and operating models to virtually any data center, co-location space, or on-premises facility.\n",
    "    - Hybrid Cloud Solutions\n",
    "        - VMware Cloud on AWS Outposts\n",
    "            - Avaliable on Limited Regions\n",
    "        - AWS native variant of AWS Outposts"
   ]
  },
  {
   "cell_type": "markdown",
   "metadata": {},
   "source": [
    "### Network"
   ]
  },
  {
   "cell_type": "markdown",
   "metadata": {},
   "source": [
    "#### VPC"
   ]
  },
  {
   "cell_type": "markdown",
   "metadata": {},
   "source": [
    "- Overveiw\n",
    "    - Logical Isolation virtual network\n",
    "    - Region boundary\n",
    "    - Span multiple AZs\n",
    "        - Subnet Bounded by AZ\n",
    "    - VPC Peering\n",
    "- UserCase\n",
    "    - Types\n",
    "        - VPC with single Public Subnet\n",
    "        - VPC with Public and Private Subnet via NAT\n",
    "        - VPC with Public and Private Subnet via VPN\n",
    "        - VPC with Private Subnet via VPN\n",
    "        \n",
    "---\n",
    "\n",
    "- Technology\n",
    "    - Components\n",
    "        - IGW\n",
    "            - One IGW per VPC\n",
    "            - HA, Scale-out, Managed\n",
    "        - NAT\n",
    "            - NAT Gateway:  connet private subnet to internet\n",
    "                - Placed at VPC Edge, link to subnet route table\n",
    "                - private subnet route table direct traffic to NAT Gateway\n",
    "            - NAT Instance: connect private subnet to internet\n",
    "                - Place in Public Subnet\n",
    "                - private subnet route table direct traffic to NAT Instance\n",
    "        - VPN Gateway\n",
    "            - Connectors\n",
    "                - AWS Side: VPC Virtual Private Gateway\n",
    "                - Costomer Side: Customer Gateway\n",
    "            - Scenarios\n",
    "                - Site-to-Site VPN\n",
    "                - AWS Client VPN: OpenVPN-based Client\n",
    "                - AWS VPN CloudHub\n",
    "                - Third party software VPN appliance\n",
    "                - VPN over Direct Connect\n",
    "        - Transit Gateway\n",
    "        - Implied Router/Route Tables\n",
    "            - All VPC traffics go through Implied Router\n",
    "            - Default Main Route Table\n",
    "                - Default Route Table creates with VPC creation\n",
    "                - Default Route Table automatically attached to default subnet\n",
    "                - Default Route Table allow trafic in VPC for all subnets\n",
    "            - Cumtomer Route Tables\n",
    "                - Can Attached to multiple subnets\n",
    "            - local route rule cannot be modified\n",
    "        - Network ACL\n",
    "            - Virtual Stateless Firewall\n",
    "            - Apply on Subnet level\n",
    "            - Allow/Deny ingress/egress in bi-direction\n",
    "                - Default Network ACL Allow all\n",
    "                - New Created Network ACL Deny all\n",
    "        - Subnet\n",
    "            - implicitly attached to default main route table\n",
    "            - can also explicitly attach default main route table\n",
    "            - can replace main route table with cutomer route table\n",
    "            - can not delete route table\n",
    "            - Private Subnet\n",
    "                - Implicite Route Table to VPC\n",
    "            - Public Subnet\n",
    "                - Explicite Route Table to IGW\n",
    "        - Security Group\n",
    "            - Virtual Stateful Firewall, inbound traffic allowed automaticlly allowed to flow out.\n",
    "            - Allow Ingress traffic, Deny All Ingress traffic by default\n",
    "            - Allow Egress traffic\n",
    "            - Apply on instance level, 1 to 5 per instance\n",
    "            - Max 50 rules per SG\n",
    "            - Deny implicite, Allow explicite\n",
    "        - IP Addresses\n",
    "            - Public IPs\n",
    "                - from AWS Public IP Pool\n",
    "            - Private IPs\n",
    "                - A: 10.0.0.0/8\n",
    "                - B: 171.16.0.0/12\n",
    "                - C: 192.168.0.0/16\n",
    "            - Elastic IPs\n",
    "                - Region bounded acossiate to your account\n",
    "        - ENI Elastic Network Interface\n",
    "            - IPs\n",
    "                - 1 primary private IPv4 address\n",
    "                - 0+ secondary private IPv4 address\n",
    "                - 1 EIP per private IPv4 address\n",
    "                - 1 Public IP auto-assigned to eth0\n",
    "                - 0+ IPv6 address\n",
    "                - 1+ SG\n",
    "                - 1 MAC\n",
    "                - Source/Destination Check Flag: Enabled by default\n",
    "        - EC2 Instance NIC\n",
    "            - Security Groups asocciate to NI\n",
    "            - Primary NI can not be detached\n",
    "        - Endpoints\n",
    "            - VPC Endpoint Services (AWS PrivateLink)\n",
    "    - VPC Connection\n",
    "        - To Internet\n",
    "            - Via IGW + Route Table\n",
    "        - to On-premise\n",
    "            - Via VPG + VPN, dual channels available\n",
    "            - Via AWS Direct Connect\n",
    "            - Via AWS Transit Gateway\n",
    "                - Spoke-Hub Mode\n",
    "        - to VPCs\n",
    "            - Via VPC Peering(PCX)\n",
    "                - subnet-to-subnet traffic via route tables\n",
    "                - no overlapping IP CIDR Blocks\n",
    "                - Inter-Region peering doesn't support IPv6\n",
    "                - An Instance in A VPC cannot use peering B VPC's IGW\n",
    "            - Via AWS Transit Gateway\n",
    "                - Spoke-Hub Mode    \n",
    "    - Internet Traffic Flow Process\n",
    "        - Public VPC\n",
    "            - Container: VPC\n",
    "                - IGW\n",
    "                - Container: Subnet\n",
    "                    - Route Table: to IGW\n",
    "                    - NACL\n",
    "                    - Container: Instance\n",
    "                        - SGs\n",
    "                        - NIs   \n",
    "        - Private VPC with NAT Gateway\n",
    "             - Container: VPC\n",
    "                 - NAT Gateway\n",
    "                 - Container: Private Subnet\n",
    "                     - Route Table: to NAT GW\n",
    "                     - NACL\n",
    "                     - Container: Instance\n",
    "                         - SGs\n",
    "                         - NIs              \n",
    "        - Private and Public VPC with NAT Instance\n",
    "             - Container: VPC    \n",
    "                 - IGW\n",
    "                 - Container: Pub Subnet\n",
    "                     - Route Table: to IGW\n",
    "                     - NACL\n",
    "                     - Container: NAT Instance with EIP\n",
    "                         - SGs\n",
    "                         - ENIs \n",
    "                             - EIP\n",
    "                         - Disable Source/Destination Check\n",
    "                 - Container: Private Subnet\n",
    "                     - Route Table: to NAT Instance ID\n",
    "                     - NACL\n",
    "                     - Container: Instance\n",
    "                         - SGs\n",
    "                         - NIs \n",
    "- Architecture\n",
    "    - Security\n",
    "        - VPN\n",
    "        - NAT\n",
    "        - NACL\n",
    "        - SG\n",
    "        - Flow Logs + CloudWatch\n",
    "    - Reliability\n",
    "    - Performance\n",
    "    - Operation\n",
    "        - Traffic Monitor\n",
    "            - Flow Log \n",
    "                - Can be created at VPCs, Subnets, NIs\n",
    "                - Bound to monitored VPC, not span to peering VPC\n",
    "                - several minutes delay to CloudWatch logs\n",
    "                - omitted traffices\n",
    "                    - instance to AWS DNS server\n",
    "                    - Windows license service traffic\n",
    "                    - Metadata service traffic: 169.254.169.254\n",
    "                    - DHCP traffic\n",
    "                    - Traffic to 5 Reserved IP by default VPC router\n",
    "                - Flow Log Record\n",
    "                    - <version> \n",
    "                    - <account-id>\n",
    "                    - <interface-id> \n",
    "                    - <srcaddr> \n",
    "                    - <dstaddr> \n",
    "                    - <srcport> \n",
    "                    - <dstport> \n",
    "                    - <protocol> \n",
    "                    - <packets> \n",
    "                    - <bytes> \n",
    "                    - <start> \n",
    "                    - <end> \n",
    "                    - <action> \n",
    "                    - <log-status>\n",
    "    - Cost\n",
    "- Deploy/Config/Operate\n",
    "    - Prerequisite\n",
    "    - Workflow\n",
    "- Optimize\n",
    "    - Best Practice\n",
    "        - <img style=\"-webkit-user-select: none;margin: auto;cursor: zoom-in;\" src=\"AWS-VPC-Topology01.png\" width=\"600\" height=\"600\">\n",
    "    \n",
    "\n"
   ]
  },
  {
   "cell_type": "markdown",
   "metadata": {},
   "source": [
    "#### Route53"
   ]
  },
  {
   "cell_type": "markdown",
   "metadata": {},
   "source": [
    "- Overveiw\n",
    "    - DNS hosting service\n",
    "    - Domain Name Registration\n",
    "    - Internet Traffic Routing\n",
    "- UserCase\n",
    "- Featrues\n",
    "    - Domain Registration\n",
    "    - DNS Resolver\n",
    "    - Traffic Flow/ Routing Policy\n",
    "    - AWS Cloud Services Integration\n",
    "    - Health Check\n",
    "        - HTTP/HTTPS\n",
    "        - TCP\n",
    "- Technology\n",
    "    - DNS Recods Type\n",
    "        - A: IPv4 Address\n",
    "        - AAAA: IPv6 Address\n",
    "        - CNAME: Cononical Name\n",
    "        - Alias\n",
    "        - SOA\n",
    "        - NS: Name Server\n",
    "        - TXT\n",
    "        - MX: Mail Exchanger\n",
    "        - PTR: reverse of A record\n",
    "        - SRV: \n",
    "            -`PRIORITY  WEIGHT  PORT TARGET_NAME`\n",
    "            - `10 5 8080 target.example.com`\n",
    "    - Hosted Zone: records set\n",
    "        - Public Hosted Zone\n",
    "        - Private Hosted Zone\n",
    "            - VPC: enableDnsHostnames, \n",
    "            - VPC: enableDnsSupport\n",
    "    - Routing Policy\n",
    "        - Simple routing policy \n",
    "            - Use for a single resource that performs a given function for your domain, for example, a web server that serves content for the example.com website.\n",
    "        - Failover routing policy \n",
    "            - Use when you want to configure active-passive failover.\n",
    "        - Geolocation routing policy \n",
    "            - Use when you want to route traffic based on the location of your users.\n",
    "        - Geoproximity routing policy \n",
    "            - Use when you want to route traffic based on the location of your resources and, optionally, shift traffic from resources in one location to resources in another.\n",
    "        - Latency routing policy \n",
    "            - Use when you have resources in multiple locations and you want to route traffic to the resource that provides the best latency.\n",
    "        - Multivalue answer routing policy\n",
    "            - Use when you want Route 53 to respond to DNS queries with up to eight healthy records selected at random.\n",
    "        - Weighted routing policy\n",
    "            - Use to route traffic to multiple resources in proportions that you specify.\n",
    "    - Traffic Flow/Policy\n",
    "        - a flow combination of routing policies\n",
    "        - a traffic policy for public hosted zones\n",
    "- Architecture\n",
    "    - Security\n",
    "        - DNSSEC Setting\n",
    "    - Reliability\n",
    "        - Routing Policies\n",
    "        - FailOver Design\n",
    "    - Performance\n",
    "        - Routing Policies\n",
    "    - Operation\n",
    "    - Cost\n",
    "- Deploy/Config/Operate\n",
    "    - Prerequisite\n",
    "    - Workflow\n",
    "- Optimize\n",
    "    - Best Practice"
   ]
  },
  {
   "cell_type": "markdown",
   "metadata": {},
   "source": [
    "#### DC, CloudFront, Route53..."
   ]
  },
  {
   "cell_type": "markdown",
   "metadata": {},
   "source": [
    "- Networking:AWS DX Direct Connect\n",
    "    - Overview\n",
    "        - Connect Enterprise Network to AWS Network via Dedicated 1G/10G fiber\n",
    "        - Enterprise Edge Router\n",
    "        - AWS Direct Connect Router\n",
    "---\n",
    "- Networking:AWS CloudFront\n",
    "    - Overview    \n",
    "        - CND solution for Web/Streaming services\n",
    "    - Features\n",
    "        - CORS: Cross Origin Resouce Sharing\n",
    "    - Topologies\n",
    "        - Edge Locations\n",
    "        - Multi Edge Locatioins\n",
    "        - Regional Cache Location\n",
    "---\n",
    "- Networking:Global Accelerator\n",
    "    - Overview    \n",
    "---\n",
    "- Networking:AWS Transit Gateway\n",
    "    - Overview   \n",
    "        - Access hub for VPC connectivity\n",
    "        \n",
    "---\n",
    "\n",
    "- Networking:API Gateway\n",
    "    - Overview    \n",
    "        - API Management\n",
    "        - Severless Architecture\n",
    "---\n",
    "\n",
    "- Networking:API Mesh\n",
    "    - Overview    \n",
    "        - Microservices Management\n",
    "        \n",
    "---\n",
    "- Networking:Cloud Map\n",
    "    - Overview    "
   ]
  },
  {
   "cell_type": "markdown",
   "metadata": {},
   "source": [
    "### Storage"
   ]
  },
  {
   "cell_type": "markdown",
   "metadata": {},
   "source": [
    "#### S3/Glacier"
   ]
  },
  {
   "cell_type": "markdown",
   "metadata": {},
   "source": [
    "- Overveiw\n",
    "    - Object Storage\n",
    "    - Key-Value Storage\n",
    "    \n",
    "- UserCase\n",
    "    - Static Web Hosting\n",
    "    - Content Storage and Distribution\n",
    "    - Backup and Archiving Store\n",
    "    - Big Data Analytics with AWS Athena\n",
    "    - Cloud-Native App Integration\n",
    "    \n",
    "- Technology\n",
    "    - Data Lifcyle Management\n",
    "        - Tiered Storage\n",
    "            - S3 Standard\n",
    "            - S3 Intelligence Tiering\n",
    "            - S3 Standard-IA: Infrequently Access\n",
    "            - S3 One Zone-IA\n",
    "            - S3 RRS: Reduced Redundancy Storage\n",
    "            - S3 Glacier\n",
    "            - S3 Glacier Deep Archive\n",
    "        - Actions\n",
    "            - Transition Action\n",
    "            - Expiration Action\n",
    "    - Versioning\n",
    "        - Delete Marker\n",
    "            - a null object acts as placeholder\n",
    "            - del Delete Marker, undel the object\n",
    "    - Bucket\n",
    "        - Universal Namespace\n",
    "            - 3-63 chars\n",
    "            - name: `/(label)(.(label))*/`\n",
    "            - label: `/[a-z0-9][a-z|\\-|0-9]*[z-a0-9]/`\n",
    "            - cannot be ipv4 format\n",
    "            - SSL will not match buckets with name contains \".\"\n",
    "        - Lifecycle Management\n",
    "            - Lifecycle Rule\n",
    "                - Transition Action\n",
    "                    - S3 Standard to S3 Standard-IA to S3 Glacier\n",
    "                - Expiration Action\n",
    "        - Versioning\n",
    "            - unversioning\n",
    "            - versioning enabled\n",
    "            - versioning suspended      \n",
    "        - Transfor Acceleration\n",
    "    - Object\n",
    "        - Components\n",
    "            - Key: Filename\n",
    "            - Value: File Content\n",
    "            - Version ID\n",
    "            - Metadata\n",
    "                - key-value pair\n",
    "                - System metadata\n",
    "                - User metadata\n",
    "            - Subresources\n",
    "                - acl or torrents ant etc.               \n",
    "- Architecture\n",
    "    - Security\n",
    "        - Permission\n",
    "            - ACLs for AWS Account by Object\n",
    "                - Object/Bucket Level Control\n",
    "            - Bucket Policy\n",
    "                - Bucket Level Control\n",
    "                - Private by Default\n",
    "                - Only Bucket Owner can apply policy\n",
    "            - IAM User/Group/Role Policy\n",
    "            - Access Control Confilict Resolve\n",
    "                - Least Privilege Principle\n",
    "                    - Deny prior to Allow    \n",
    "        - Encryption\n",
    "    - Reliability\n",
    "        - Data Availability and Durability\n",
    "            - 4x9s Availability\n",
    "            - 11x9s Durability    \n",
    "        - Data Consistency Model\n",
    "            - Read after Write Consistency for NET PUT\n",
    "            - Eventual Consistency for Overwrite PUT/DELETES\n",
    "        - Cross Region Replication\n",
    "            - Automatic, Asynchronous, Accross Buckets Object copy.\n",
    "            - Can accross AWS account\n",
    "            - Must Enable Versioning\n",
    "    - Performance\n",
    "        - Partition 100MB file for upload\n",
    "        - Partition 5GB big file\n",
    "        - Prefix/Folder 3k-5k objects\n",
    "    - Operation\n",
    "        - Bucket Policy Template\n",
    "            - Version \n",
    "            - Statement: `[ ... ] `\n",
    "            - Sid (Optional) : Statement ID\n",
    "            - Effect: Allow/Deny\n",
    "            - Principal: account, user, role, federated user, or assumed\n",
    "            - Action: API Calls\n",
    "            - Resource: ARN: arn:partition:service:region:accountID:resource\n",
    "            - Condition (Optional)\n",
    "        - Limits\n",
    "            - 100 buckets per account\n",
    "    \n",
    "    - Cost\n",
    "    \n",
    "- Deploy/Config/Operate\n",
    "    - Prerequisite\n",
    "    - Workflow\n",
    "- Optimize\n",
    "    - Best Practice\n",
    "\n"
   ]
  },
  {
   "cell_type": "markdown",
   "metadata": {},
   "source": [
    "#### EBS, EFS, Snowball..."
   ]
  },
  {
   "cell_type": "markdown",
   "metadata": {},
   "source": [
    "- Storage: EBS Elastic Block Store\n",
    "    - Overview\n",
    "        - Root Device Volume\n",
    "        - Data Volume\n",
    "        - AZ Bounded\n",
    "    - Featurs\n",
    "        - Data Availability and Durability\n",
    "        - Data Encryption\n",
    "        - Data Backup\n",
    "        - Data Snapshot\n",
    "        - Data Lifecycle Manager\n",
    "    - Types\n",
    "        - GP2: General Purpose SSD\n",
    "        - IO1: Provision IOPS SSD\n",
    "        - HDD-old: Magnetic Volumn HDD\n",
    "        - HDD-st1: Throughput Optimized HDD\n",
    "        - HDD-sc1: cold HDD\n",
    "---\n",
    "- Storage: EFS Elastic File System\n",
    "    - Overview\n",
    "        - provide file service for instances\n",
    "        - NFSv4\n",
    "        - Cross Region Replica\n",
    "    - Mount Target\n",
    "        - Required access EFS from VPC\n",
    "        - VPN EFS Endpoint\n",
    "        - AZ Bounded, not Subnet Bounded\n",
    "        - Creatable when subnet available in that AZ\n",
    "    - Security\n",
    "        - Netwrok ACL controls Mount Target\n",
    "        - SG controls Mount Target\n",
    "        - IAM user controls permission\n",
    "    - Features\n",
    "        - Elastic\n",
    "        - Flexible\n",
    "            - on-premise mount\n",
    "            - cross region mount\n",
    "    - Store Types\n",
    "        - General Purpose\n",
    "        - Max I/O\n",
    "\n",
    "---\n",
    "- Storage: Storage Gateway\n",
    "    - Overview\n",
    "        - Connecting an on-premises software appliance with S3\n",
    "    - Types\n",
    "        - File Gateway\n",
    "        - Volume Gateway\n",
    "            - Stored Mode\n",
    "            - Cached Mode\n",
    "        - Tape Gateway\n",
    "    - Deployment Mode\n",
    "        - On-premises\n",
    "            - VM + Stroage Gateway Software\n",
    "            - Hardware Applicance\n",
    "        - Cloud\n",
    "            - VM in VMware Cloud on AWS\n",
    "            - AMI in AWS\n",
    "---\n",
    "- Storage: Amazon FSx for Lustre\n",
    "    - Overview\n",
    "        - HPC Storage\n",
    "---\n",
    "- Storage: Amazon FSx for Windows File\n",
    "    - Overview\n",
    "        - HPC Storage\n",
    "---\n",
    "- Storage: Snoballmobile\n",
    "    - import/export EB level data\n",
    "---\n",
    "- Storage: Snowball\n",
    "    - import/export PB level data\n",
    "---\n",
    "- Storage: Snoball Edge\n",
    "    - import/export 100TB level data\n"
   ]
  },
  {
   "cell_type": "markdown",
   "metadata": {},
   "source": [
    "### Database"
   ]
  },
  {
   "cell_type": "markdown",
   "metadata": {},
   "source": [
    "#### RDS"
   ]
  },
  {
   "cell_type": "markdown",
   "metadata": {},
   "source": [
    "- Overveiw\n",
    "    - Benefits\n",
    "        - High Performance\n",
    "        - High Scalability\n",
    "        - High Availability and Durability\n",
    "        - High Security\n",
    "        - Manageability\n",
    "            - Lower Administrative Burden\n",
    "        - Cost-Effectiveness\n",
    "            \n",
    "- Features\n",
    "    - High Availability: Multi-AZ Deployment\n",
    "        - Syncronous Active-Standby Mode\n",
    "        - Master/Secondary\n",
    "    - Scalability\n",
    "        - Scale-up\n",
    "        - Scale-out\n",
    "    - High Performance\n",
    "        - Provisoned IOPS EBS\n",
    "        - Read-Replica\n",
    "            - Cannot utilize ELB\n",
    "            - Using Route53/HAProxy\n",
    "            - Using Aurora Cluster\n",
    "    - Security\n",
    "        - Data Security\n",
    "            - Snapshot\n",
    "            - Backup\n",
    "                - Auto backup to S3\n",
    "            - Encryption\n",
    "        - Access Security\n",
    "            - AWS Securities Suites\n",
    "    - Manageability\n",
    "    - Cost Effectiveness\n",
    "    - Limits\n",
    "        - RDS is not autoscaling and cannot be used behind an ELB.\n",
    "        - Bound by AZ: No Multi-AZ Deploy\n",
    "        - Bound by Region: Multi-AZ Deploy\n",
    "\n",
    "- RDS Technologies\n",
    "    - Categorization\n",
    "        - Instance View\n",
    "            - Standard\n",
    "            - Memory Optimized\n",
    "            - Burstable Performance\n",
    "        - DB View\n",
    "            - Aurora\n",
    "            - MySQL\n",
    "            - PostgreSQL\n",
    "            - MariaDB\n",
    "            - Oracle\n",
    "            - SQL Server\n",
    "            \n",
    "- Deploy/Configuration\n",
    "    - Region Selection\n",
    "    - DB Engine Selection\n",
    "    - Environment Selection: Dev/Test/Prod\n",
    "    - Engine Version Selection\n",
    "    - Instance Class Selection\n",
    "    - Multi-AZ Deployment Selection\n",
    "    - Storage Class Selection\n",
    "    - Network/Security Setting\n",
    "        - Subnet Group Setting\n",
    "    - DB Settings/Attributes\n",
    "        - DB Instance Identifier\n",
    "        - Master Username\n",
    "        - Master Password\n",
    "        - Parameter Group: Engine Config\n",
    "        - Option Group\n",
    "    - Backup Setting\n",
    "    - Monitoring Setting\n",
    "    - Maintainance Setting\n",
    "\n",
    "- Operation\n",
    "    - Monitoring\n",
    "        - CloudWatch\n",
    "            - HW Metrics: CPU/Mem/Storage/IO/Network\n",
    "            - DB Metrics: Query Throughput/Performance/Connections/Utilization\n",
    "    - Scale\n",
    "    - Performance\n",
    "    - Security\n",
    "        - Audit\n",
    "            - CloudTrail\n",
    "    - Backup and Recovery\n",
    "        - Storage Volume Snapshot\n",
    "        - Automatic Backup Instance\n",
    "            - Limited to InnoDB Engine\n",
    "            - 0-35 Days Retention\n",
    "            - RPO: 30min\n",
    "        - Manual Backup\n",
    "\n",
    "- RDS: Amazon Aurora\n",
    "    - Features\n",
    "        - MySQL/PostgreSQL Compatible RDS Service\n",
    "        - Faster\n",
    "        - Fully Managed RDS for Provision/Setup/Patching/Backups\n",
    "        - Grow on-demand, Up to 64G\n",
    "        - Up to 15 Read Replicas\n",
    "        - HA and Durability\n",
    "- DBMS\n",
    "    - Database\n",
    "        - Schema/DB\n",
    "            - Table\n",
    "                - Row/Record\n",
    "                - Column/Attribute\n",
    "            - View\n",
    "            - Stored Procedure\n",
    "            - Function\n",
    "    - DB Engine\n",
    "        "
   ]
  },
  {
   "cell_type": "markdown",
   "metadata": {},
   "source": [
    "#### DynamoDB"
   ]
  },
  {
   "cell_type": "markdown",
   "metadata": {},
   "source": [
    "- Overveiw\n",
    "    - Fully managed, multiregion, multimaster database with built-in security, backup and restore, and in-memory caching for internet-scale applications\n",
    "    - NoSQL  key-value and document DB\n",
    "    - Global Tables\n",
    "    - Supports cross region replication\n",
    "- Features\n",
    "    - Schemaless DB\n",
    "    - Auto Scaling\n",
    "    - Provisioned Throughput\n",
    "        - RCU: Read Capacity Unit\n",
    "            - 1 RCU: 4KB\n",
    "        - WCU: Write Capacity Unit\n",
    "            - 1 WCU: 1KB\n",
    "    - Consistency Mode\n",
    "        - Strong Consistency on Read\n",
    "            - 1 RCU per unit\n",
    "        - Defualt: Eventual Consistency Read\n",
    "            - 2 RCU per unit\n",
    "    - Atomic Counter and Conditional Update\n",
    "    - DynamoDB Stream\n",
    "    - DynamoDB Trigger\n",
    "    - DAX: DynamoDB Accelerator: in-memory cache for DynamoDB\n",
    "    - Limits\n",
    "        - 400KB Item Size\n",
    "        - 10 Indexes per table\n",
    "- DBMS\n",
    "    - Structrue\n",
    "        - Tables: collection of item data\n",
    "            - Items: collection of Attributes\n",
    "                - Attributes: key-value pair\n",
    "            - Primary Key: Unique, Mandatory\n",
    "                - Simple Primary Key\n",
    "                    - 1 Attributes\n",
    "                    - as Partition Key(Hash)\n",
    "                - Composite Primary Key\n",
    "                    - 2 Attributes\n",
    "                    - as Partition Key(Hash)+Sort Key(Range)\n",
    "            - Secondary Indexes\n",
    "                - Global Secondary Index\n",
    "                    - Partition Key(Hash)+Sort Key(Range) are diffrent from Primary Key\n",
    "                - Local Secondary Index\n",
    "                    - Partition Key(Hash) is the same with Primary Key\n",
    "                    - Sort Key(Range) is diffrent from Primary Key\n",
    "            - Alternative Key\n",
    "                - imporve query speed\n",
    "            - Streams: all changes in Table\n",
    "                - CRUD is event\n",
    "                - Stream record\n",
    "                    - Event data\n",
    "                    - Event Metadata\n",
    "        - Data Types\n",
    "            - Scalar\n",
    "                - String\n",
    "                - Number\n",
    "                - Boolean\n",
    "                - Binary\n",
    "            - Set: no order\n",
    "                - String Set\n",
    "                - Number Set\n",
    "                - Binary Set\n",
    "            - Document: order preserved\n",
    "                - List\n",
    "                - Map\n",
    "    - Operate\n",
    "        - Query\n",
    "        - Scan\n",
    "        - UpdateItem\n",
    "            - Atomic counters\n",
    "            - Conditional Update\n",
    "     - Perfromance\n",
    "         - Partition\n",
    "             - WCU: 1000\n",
    "                 - 4KB\n",
    "             - RCU: 3000\n",
    "                 - 1KB\n",
    "             - Size: 10GB"
   ]
  },
  {
   "cell_type": "markdown",
   "metadata": {},
   "source": [
    "#### NoSQL"
   ]
  },
  {
   "cell_type": "markdown",
   "metadata": {},
   "source": [
    "- NoSQL\n",
    "    - Overview\n",
    "    - Category\n",
    "        - Document DB\n",
    "        - Graph DB\n",
    "        - Key-Value DB\n",
    "        - Columnar DB\n",
    "        - Ledger DB\n",
    "    - Advantages\n",
    "        - Schemaless\n",
    "        - Scale-out Architecture\n",
    "        - Easy Replication\n",
    "        - Can manage huge amount of data    \n",
    "---\n",
    "\n",
    "- Databases: Amazon DocumentDB\n",
    "    - Overveiw\n",
    "        - MongoDB Compatible Document DB Service\n",
    "        \n",
    "- Databases: Amazon Neptune\n",
    "    - Overveiw\n",
    "        - Graph DB Service\n",
    "    - DBMS\n",
    "        - Structure\n",
    "            - Node\n",
    "            - Edge\n",
    "            - Property\n",
    "        \n",
    "- Databases: Amazon ElastiCache\n",
    "    - Overveiw\n",
    "        - In-Memory Distributed Cacheing Service\n",
    "        - Accelerating RDS Query\n",
    "    - Engine Types\n",
    "        - Redis\n",
    "        - Memcached\n",
    "            - can be used as K-V data store too\n",
    "            \n",
    "- Databases: Amazon QLDB Quantum Ledger Database\n",
    "    - Overveiw\n",
    "        - Ledger DB Service\n",
    "        - Transparent, immutable, and cryptographically verifiable transaction log owned by a central trusted authority\n",
    "        \n",
    "- Databases: Amazon TimeStream\n",
    "    - Overveiw\n",
    "        - Time series database\n",
    "    - User Case\n",
    "        - IoT and operational applications that makes it easy to store and analyze trillions of events per day      \n",
    "\n",
    "---\n",
    "- Amazon Redshift\n",
    "    - Overveiw\n",
    "        - PB-Level Data Warehouse Service     \n",
    "---\n",
    "\n",
    "- Databases: Amazon DMS Data Migration Service\n",
    "    - Overveiw\n",
    "    - Migration Scenarios\n",
    "        - One-time Migration\n",
    "        - Replication of On-going changes\n",
    "        - Heterogeneous Migration using AWS SCT Schema Conversion Tool"
   ]
  },
  {
   "cell_type": "markdown",
   "metadata": {},
   "source": [
    "## Application Integration"
   ]
  },
  {
   "cell_type": "markdown",
   "metadata": {},
   "source": [
    "### Workflow"
   ]
  },
  {
   "cell_type": "markdown",
   "metadata": {},
   "source": [
    "- Amazon SWF: Simple Workflow Service\n",
    "    - Overview\n",
    "        - Build, run, and scale background jobs that have parallel or sequential steps\n",
    "        - State tracker \n",
    "        - Task coordinator\n",
    "---\n",
    "- Amazon Step Functions Service\n",
    "    - Overview\n",
    "        - Coordinate multiple AWS services into serverless workflows so you can build and update apps quickly\n",
    "    - User Cases\n",
    "        - Data Processing\n",
    "        - Automate tasks\n",
    "        - Application Orchastrating\n",
    "        - Modernize monolith architecture\n",
    "---"
   ]
  },
  {
   "cell_type": "markdown",
   "metadata": {},
   "source": [
    "### Messaging"
   ]
  },
  {
   "cell_type": "markdown",
   "metadata": {},
   "source": [
    "- Amazon SNS: Simple Notification Service\n",
    "    - Overview\n",
    "        - Fully managed pub/sub messaging service that enables you to decouple microservices, distributed systems, and serverless applications.\n",
    "        - M-2-M relationship\n",
    "        - Push-based\n",
    "    - User Case\n",
    "        - Application/System Alarms\n",
    "        - Push Email/Text Message\n",
    "        - Mobile Push Notification\n",
    "    - Topology\n",
    "        - Topic in SNS\n",
    "            - Access Policy\n",
    "        - Publishers\n",
    "        - Subscribers\n",
    "---\n",
    "- Amazon MQ: Message Queue Service\n",
    "    - Overview\n",
    "        - Managed Message Broker Service for Apache ActiveMQ\n",
    "        - Message brokers allow different software systems–often using different programming languages, and on different platforms–to communicate and exchange information\n",
    "---\n",
    "- Amazon SQS: Simple Queue Service\n",
    "    - Overview\n",
    "        - Fully managed message queuing service that enables you to decouple and scale microservices, distributed systems, and serverless applications.\n",
    "        - Decouple Application\n",
    "        - Message size: 1-256KB\n",
    "    - Types\n",
    "        - Stardard Queue\n",
    "            - maximum throughput\n",
    "            - best-effort ordering\n",
    "            - at-least-once delivery\n",
    "        - FIFO Queue\n",
    "            - guarantee that messages are processed exactly once\n",
    "            - in the exact order that they are sent\n",
    "---"
   ]
  },
  {
   "cell_type": "markdown",
   "metadata": {},
   "source": [
    "### Event Bus"
   ]
  },
  {
   "cell_type": "markdown",
   "metadata": {},
   "source": [
    "### API Mgmt"
   ]
  },
  {
   "cell_type": "markdown",
   "metadata": {},
   "source": [
    "##  Analytics"
   ]
  },
  {
   "cell_type": "markdown",
   "metadata": {},
   "source": [
    "- Amazon Redshift\n",
    "    - Overveiw\n",
    "        - PB-Level Data Warehouse Service\n",
    "---\n",
    "- AWS Lake Formation\n",
    "    - Overview\n",
    "        - Data Lake Service\n",
    "---\n",
    "- Amazon MSK Managed Streaming for Apache Kafka\n",
    "    - Overview\n",
    "        - Fully managed, highly available, and secure Apache Kafka service\n",
    "        - Process streaming data\n",
    "---\n",
    "- Amazon Athena\n",
    "    - Overview\n",
    "        - Interactive Query Service to analyze S3 Data using SQL\n",
    "        - Serverless\n",
    "        - No ETL needed\n",
    "        - integrated with AWS Glue Data Catalog\n",
    "        - Build on Presto\n",
    "---\n",
    "- Amazon Kinesis\n",
    "    - Overview\n",
    "        - Collect, process, and analyze real-time, streaming data\n",
    "        - Ingest real-time data such as video, audio, application logs, website clickstreams, and IoT telemetry data for machine learning, analytics, and other applications.\n",
    "        - Realtime Metric and Reporting\n",
    "        - Realtime Analytic\n",
    "    - Kinesis Components\n",
    "        - Kinesis Data Firehose\n",
    "            - Capture, transform, and load streaming data into Amazon S3, Amazon Redshift, Amazon Elasticsearch Service, and Splunk.\n",
    "            - Near real-time analytics with existing business intelligence tools and dashboards\n",
    "        - Kinesis Data Streams\n",
    "            - Massively scalable and durable realtime data streaming service\n",
    "        - Kinesis Video Streams\n",
    "            -  Securely stream video from connected devices to AWS for analytics, machine learning (ML), playback, and other processing.\n",
    "        - Kinesis Data Analytics\n",
    "            -  Analyze streaming data in real-time\n",
    "---\n",
    "- Amazon CloudSearch\n",
    "    - Overview\n",
    "        - Search solution for web or apps\n",
    "---\n",
    "- Amazon Elasticsearch\n",
    "    - Overview\n",
    "        -  deploy, secure, operate, and scale Elasticsearch to search, analyze, and visualize data in real-time\n",
    "---\n",
    "- Amazon Glue \n",
    "    - Overview\n",
    "        - ETL Services\n",
    "    - Glue Components\n",
    "        - Glue Crawler\n",
    "        - Glue Data Catelog\n",
    "--- \n",
    "- Amazon QuickSight\n",
    "    - Overview\n",
    "        - BI Service\n",
    "---\n",
    "- Amazon EMR Elastic MapReduce\n",
    "    - Overview\n",
    "        - Managed Hadoop framework\n",
    "        - Run Apache Spark, HBase, Presto, and Flink in Amazon EMR\n",
    "        - Interact with data in other AWS data stores such as Amazon S3 and Amazon DynamoDB\n",
    "---\n",
    "- AWS Data Pipeline \n",
    "    - Overview\n",
    "        -  process and move data between different AWS compute and storage services\n",
    "---"
   ]
  },
  {
   "cell_type": "markdown",
   "metadata": {},
   "source": [
    "## Machine Learning"
   ]
  },
  {
   "cell_type": "markdown",
   "metadata": {},
   "source": [
    "## DevOps"
   ]
  },
  {
   "cell_type": "markdown",
   "metadata": {},
   "source": [
    "### CloudFormation"
   ]
  },
  {
   "cell_type": "markdown",
   "metadata": {},
   "source": [
    "- Amazon CloudFormation\n",
    "    - Overview\n",
    "        - Infra as Code Service\n",
    "        - Template based provisioning and automation\n",
    "    - Components\n",
    "        - Template\n",
    "            - Describle AWS Resource in JSON/YAML\n",
    "            - [Formate](https://docs.aws.amazon.com/AWSCloudFormation/latest/UserGuide/template-formats.html) \n",
    "            - Elements\n",
    "                - Template Parameters\n",
    "                - Output Values\n",
    "                - Resources\n",
    "                - Functions\n",
    "                    - \"Fn:GetAtt\"\n",
    "        - Stack\n",
    "            - End Status of Template\n",
    "        - StackSet\n",
    "        - CloudFormer\n",
    "        - CloudFormation Designer\n",
    "    - User Case\n",
    "        - Dev/Test Environment Quich launch\n",
    "        - Replicate Configruation between Envrionments"
   ]
  },
  {
   "cell_type": "markdown",
   "metadata": {},
   "source": [
    "### Code*"
   ]
  },
  {
   "cell_type": "markdown",
   "metadata": {},
   "source": [
    "- AWS Cloud9\n",
    "    - Cloud IDE\n",
    "\n",
    "- AWS CodeCommit\n",
    "    - Secure Git-based repositories\n",
    "\n",
    "- AWS CodeBuild\n",
    "    - Build service that compiles source code, runs tests, and produces software packages\n",
    "\n",
    "- AWS CodeDeploy\n",
    "    - Automates code deployments to EC2\n",
    "\n",
    "- AWS CodePipeline\n",
    "    - Continuous delivery service\n",
    "    - Automate release pipelines for fast and reliable application and infrastructure updates\n",
    "    - Automates the build, test, and deploy phases\n",
    "\n",
    "- AWS CodeStar\n",
    "    - Creating, managing, and working with software development projects on AWS\n",
    "\n",
    "- AWS X-Ray\n",
    "    - Analyze and debug distributed applications in production or under development"
   ]
  },
  {
   "cell_type": "markdown",
   "metadata": {},
   "source": []
  },
  {
   "cell_type": "markdown",
   "metadata": {},
   "source": [
    "## IoT"
   ]
  },
  {
   "cell_type": "markdown",
   "metadata": {},
   "source": [
    "## Billing and Cost Management"
   ]
  },
  {
   "cell_type": "markdown",
   "metadata": {},
   "source": [
    "- AWS Cost Explorer\n",
    "- AWS Budgets\n",
    "- AWS Cost & Usage Report\n",
    "- Reserved Instance (RI) Reporting\n",
    "- Tools\n",
    "    - Simple Monthly Calculator\n",
    "    - AWS TCO Calculator"
   ]
  },
  {
   "cell_type": "markdown",
   "metadata": {},
   "source": [
    "## Security, Identity,  and Compliance"
   ]
  },
  {
   "cell_type": "markdown",
   "metadata": {},
   "source": [
    "### IAM"
   ]
  },
  {
   "cell_type": "markdown",
   "metadata": {},
   "source": [
    "- AWS IAM\n",
    "    - Overview\n",
    "        - Manage, control, govern authentication, authorization and access control mechnisms of Identities to AWS Resources within your AWS Account.\n",
    "        - Who What Which on Condition Model\n",
    "            - Who: User, Group, Role\n",
    "            - What: Allow/Deny CRUD Actions\n",
    "            - Which: AWS Resources\n",
    "            - Condition: \n",
    "        - Workflow Model\n",
    "            - Principal: User/Role/Group\n",
    "            - Authentication\n",
    "            - Request/Effect\n",
    "            - Authorizatioin\n",
    "            - Action(Cosole)/Operation(CLI/API)\n",
    "            - Resources\n",
    "        - Global Service with Free of Charge\n",
    "        - Fine-grained Access Control\n",
    "        - Shared Access to your Account\n",
    "        - Eventually Consistent\n",
    "        - IAM Tool Sets\n",
    "            - Console\n",
    "            - APIs\n",
    "            - CLI\n",
    "            - SDKs\n",
    "            \n",
    "    - IAM Identity Management\n",
    "        - Root User\n",
    "        - IAM Users\n",
    "            - Present an identity of a person/application accessing your account\n",
    "            - Consists of Name/Credentials\n",
    "                - Name\n",
    "                    - Username\n",
    "                    - ARN\n",
    "                    - Unique ID\n",
    "                - Credentials\n",
    "                    - Console Password\n",
    "                    - Access Keys\n",
    "                - Permission\n",
    "                    - Inheritant from Groups\n",
    "                    - Copy from existing User\n",
    "                    - Attach existing Policies\n",
    "        - IAM Groups\n",
    "            - Collection of Users with shared permission\n",
    "        - IAM Roles\n",
    "            - Defined permissions can be assumed by User/Resources\n",
    "            - No credentials, AWS STS(Security Token Service) provides dynamic temporary credentials\n",
    "            - User Cases\n",
    "                - Grand user in another AWS account to access your AWS resources\n",
    "                - Grand AWS EC2 to access other AWS resources\n",
    "                - Grand user temporarily to access critial resources with least privilege, User ID can comes from Identity Federation Sources\n",
    "            - Role Trusted Entities\n",
    "                - AWS Service Role\n",
    "                - Role for Web Identity: OpenID\n",
    "                - Role for Cross-Account Access\n",
    "                - Role for Identity Provider Access: SAML\n",
    "            - Attach Permissions Policy\n",
    "            - Trusted Entity\n",
    "                - AWS Services\n",
    "                - Another AWS Account\n",
    "                - OpenID Identity\n",
    "                - SAML 2.0 Federation Identity\n",
    "        - Identity Federation\n",
    "            - Allow you access and manage aws resources without a user account in IAM\n",
    "            - Allow SSO/ STS underline\n",
    "            - Identity Sources\n",
    "                - Amazon Cognito\n",
    "                - AWS Directory Service \n",
    "                - IdP\n",
    "                    - OpenID: WebID integration\n",
    "                    - SAML2.0: SP/IdP/Client\n",
    "                        - MS ADFS/MS AD \n",
    "            \n",
    "    - IAM Access Control Policy Management\n",
    "        - Policy: defines account's permission on resources\n",
    "        - Types: PrincipalView\n",
    "            - Identity-Based Policies\n",
    "                - IAM Policy\n",
    "            - Resource-Based Policies\n",
    "                - Resource-based policies are inline policies. \n",
    "                - There are no managed resource-based policies\n",
    "                - Allowed Resources: S3, Glacier, SNS, SQS, KMS\n",
    "        - Types: OwnerView\n",
    "            - Managed Policy: AWS\n",
    "            - Managed Policy: Customer\n",
    "            - Inline Policy: Embedded into a specific User/Group/Role\n",
    "        - ARN\n",
    "            - `arn:aws:iam::ACCOUNT:RESOURCE`\n",
    "        - Policy Permission Conflict Resolve\n",
    "             - Deny overides Allow\n",
    "        - Policy Document Components(JSON)\n",
    "            - Version \n",
    "            - Statement\n",
    "            - Sid (Optional) : Statement ID\n",
    "            - Effect: Allow/Deny\n",
    "            - Principal: \n",
    "                - (Required in only some circumstances) – If you create a resource-based policy, you must indicate the account, user, role, or federated user to which you would like to allow or deny access. If you are creating an IAM permissions policy to attach to a user or role, you cannot include this element. The principal is implied as that user or role.\n",
    "                - Group can not be used as a Principal\n",
    "            - Action: API Calls\n",
    "            - Resource: \n",
    "                - ARN: arn:partition:service:region:accountID:resource\n",
    "                - (Required in only some circumstances) – If you create an IAM permissions policy, you must specify a list of resources to which the actions apply. If you create a resource-based policy, this element is optional. If you do not include this element, then the resource to which the action applies is the resource to which the policy is attached.\n",
    "            - Condition (Optional)\n",
    "            \n",
    "    - IAM Features\n",
    "        - Shared access to AWS account\n",
    "            - cross account access\n",
    "                - Test/Dev account\n",
    "                - UAT/Prod account\n",
    "                - Partner account\n",
    "        - Granular permissions\n",
    "        - STS Enabled Security Token Service\n",
    "        - MFA: Multi-Factor Authentication\n",
    "        - Password Policies Management\n",
    "        - Integration with AWS resources\n",
    "        - 4A: \n",
    "            - Authentication\n",
    "                - User/Password\n",
    "                - Access Key: ID/Secret\n",
    "                - Access Key/Temp Session Token\n",
    "            - Authorization\n",
    "            - Auditing\n",
    "                - Accouting\n",
    "                \n",
    "    - Best Practices\n",
    "        - Lock Root User access keys\n",
    "        - Create Individual IAM Users\n",
    "        - Use Group to assign permission\n",
    "        - Use AWS defined policies\n",
    "        - Grant Least-privilege\n",
    "        - Review IAM permission\n",
    "        - Strong password policy\n",
    "        - MFA for privilege users\n",
    "        - Use Role for EC2 applications\n",
    "        - Use Role to delegate permission\n",
    "        - Do not share access keys\n",
    "        - Rotate credentials\n",
    "        - Remove unnecessary credentials\n",
    "        - User policy conditions\n",
    "        - Monitor Activities\n",
    "\n",
    "---\n",
    "- AWS Single Sign-On\n",
    "    - Overview\n",
    "        - cloud service that makes it easy to manage SSO access to multiple AWS accounts and business applications in AWS Organization\n",
    "\n",
    "---\n",
    "- AWS Directory Service\n",
    "    - Overview\n",
    "    - Directories\n",
    "        - MS Active Directory\n",
    "        - AD Connector\n",
    "        - Simple AD\n",
    "        - Amazon Cognito\n",
    "        - Amazon Cloud Directory\n",
    "        \n",
    "        \n",
    "- AWS Resource Access Manager\n",
    "    - Overview\n",
    "        - Share AWS resources with other AWS accounts.\n",
    "\n",
    "---\n",
    "\n",
    "- Amazon Cognito\n",
    "    - Overview\n",
    "        - manage user pool and identity pool\n",
    "        - User pools are user directories that provide sign-up and sign-in options for your app users. \n",
    "        - Identity pools provide AWS credentials to grant your users access to other AWS services\n",
    "    "
   ]
  },
  {
   "cell_type": "markdown",
   "metadata": {},
   "source": [
    "### Network Security"
   ]
  },
  {
   "cell_type": "markdown",
   "metadata": {},
   "source": [
    "\n",
    "---\n"
   ]
  },
  {
   "cell_type": "markdown",
   "metadata": {},
   "source": [
    "### Host Security"
   ]
  },
  {
   "cell_type": "markdown",
   "metadata": {},
   "source": []
  },
  {
   "cell_type": "markdown",
   "metadata": {},
   "source": [
    "### Data Security"
   ]
  },
  {
   "cell_type": "markdown",
   "metadata": {},
   "source": [
    "- AWS Secrets Manager\n",
    "    - Overview\n",
    "        - Easily rotate, manage, and retrieve secrets throughout their lifecycle\n",
    "        \n",
    "- Amazon KMS Key Management Service\n",
    "    - Overview\n",
    "        - Centralized Key Management\n",
    "        - Control Encryptions for AWS Services\n",
    "\n",
    "- Amazon CloudHSM Hardware Security Module\n",
    "    - Overview\n",
    "        - cloud-based hardware security modules (HSMs) for generating and using your own encryption keys in the AWS Cloud\n",
    "    - User Case\n",
    "        - Offload SSL processing from Web Server\n",
    "        - Protect Private Keys for Issuing CA\n",
    "        - Enable TDE(Transparent Data Encryption) for Oracle DB\n",
    "        \n",
    "---\n",
    "- AWS Certificate Manager: ACM\n",
    "    - Overview\n",
    "        - easy to provision, manage, deploy, and renew SSL/TLS certificates on the AWS platform\n",
    "        \n",
    "---\n",
    "- Amazon Macie\n",
    "    - Overview\n",
    "        - data visibility security service that helps classify and protect your sensitive and business-critical content.\n",
    "    - Workflow\n",
    "        - Discover\n",
    "        - Classify\n",
    "        - Protect"
   ]
  },
  {
   "cell_type": "markdown",
   "metadata": {},
   "source": [
    "### Application Security"
   ]
  },
  {
   "cell_type": "markdown",
   "metadata": {},
   "source": [
    "- AWS Firewall Manager\n",
    "    - Overview\n",
    "        - Manage WAF in a centralized \n",
    "    - Technology\n",
    "        - Components\n",
    "            - WAF Rules\n",
    "            - Rule Groups\n",
    "            - Firewall Manager Policy\n",
    "                - 1 policy only contains 2 rule groups\n",
    "                    - 1 customer rule group\n",
    "                    - 1 AWS Marketplace rule group\n",
    "                - policy associated to AWS resources(CloudFront/ALB)\n",
    "    - Deploy/Config/Operate\n",
    "        - Prerequisite\n",
    "            - AWS FirewallManagerAdmin account\n",
    "            - Account under AWS Organization\n",
    "            - AWS Config enabled\n",
    "    \n",
    "- AWS Web Application Firewall: AWS WAF\n",
    "    - Overview\n",
    "        - Web application firewall service that lets you monitor web requests that are forwarded to an Amazon API Gateway API, an Amazon CloudFront distribution, or an Application Load Balancer\n",
    "        - Protect Web Site, Web Application from web attack patterns\n",
    "            - SQL Injection\n",
    "            - Cross-Site Scripting\n",
    "        - Filter HTTP/HTTPS traffic, distinguish legitimate and harmful requests\n",
    "    - User Case\n",
    "        - Web Service deployed via CloudFront/Application LB\n",
    "    - Technology\n",
    "        - Components/Structure\n",
    "            - WAF Condition\n",
    "                - Cross-site scripting\n",
    "                - GEO match\n",
    "                - IP addresses\n",
    "                - Size constrains\n",
    "                - SQL injection attacks\n",
    "                - String and RegEx Matching\n",
    "            - Rule\n",
    "                - Combines Conditions with logical operations\n",
    "                - Regular-Rule\n",
    "                - Rated-Rule\n",
    "            - Web ACLs      \n",
    "                - Collection of Rules\n",
    "                - Allow/Deny/Count\n",
    "                - Rule's Order Matters\n",
    "    - Architecture\n",
    "        - Cost\n",
    "            - Requests number\n",
    "            - ACL number\n",
    "            - Rule number in each ACL\n",
    "    - Deploy/Config/Operate\n",
    "        - Deploy Placement\n",
    "            - CloudFront(Global, no region bound)\n",
    "            - Application LB\n",
    "            - EC2\n",
    "            - API Gateway\n",
    "        - Limitation\n",
    "            - 10k requests per account for ALB\n",
    "            - 100 condition per rule/ 10 RegEx\n",
    "            - 100 Rules and 50 ACL per account\n",
    "            - 5 rated-rule per account\n",
    "---\n",
    "\n",
    "- AWS Sheild\n",
    "    - Overview\n",
    "        - Protect from DDoS\n",
    "        - Practice Guide\n",
    "            - Reduce Attack Surface\n",
    "            - Plan for Scale\n",
    "            - Identify normal/abnormal trafic pattern\n",
    "            - Deploy WAF to protect Application\n",
    "    - Technology\n",
    "        - DDoS Types\n",
    "            - SYN Flood\n",
    "            - DNS Query Flood\n",
    "            - HTTP Flood\n",
    "                - Cache-busting\n",
    "    - Archtecture                \n",
    "        - Types\n",
    "            - AWS Shield Stardard\n",
    "            - AWS Shield Advance\n",
    "                - UDP Reflection, SYN Flood, DNS Query Flood, HTTP Flood\n"
   ]
  },
  {
   "cell_type": "markdown",
   "metadata": {},
   "source": [
    "### Security Management"
   ]
  },
  {
   "cell_type": "markdown",
   "metadata": {},
   "source": [
    "- AWS Inspector\n",
    "    - Overview\n",
    "        - Security Assesment Service\n",
    "        - Build for DevSecOps\n",
    "    - Workflow\n",
    "        - Install on Instances\n",
    "        - Run assessment for targets\n",
    "        - Analyze assessment result\n",
    "        - Remediate security issues\n",
    "    - Secuirty Assessment Domain\n",
    "        - CVE: Common Vulnerabilities an Exposure\n",
    "        - CIS Benchmark on OS Security\n",
    "        - Security Best Practices\n",
    "        - Runtime Behaviour Analysis\n",
    "---\n",
    "- AWS Security Hub\n",
    "    - Overview\n",
    "        - Consolidated view of your security status in AWS. \n",
    "        - Automate security checks, manage security findings, and identify the highest priority security issues across your AWS environment.\n",
    "        \n",
    "---\n",
    "- Amazon Detective\n",
    "    - Overview\n",
    "        - Analyze and visualize security data to rapidly get to the root cause of potential security issues\n",
    "\n",
    "- Amazon GuardDuty\n",
    "    - Overview\n",
    "        - Thread Detecting Service\n",
    "        - continuous security monitoring service that analyzes and processes the following data sources: VPC Flow Logs, AWS CloudTrail event logs, and DNS logs.\n",
    "    - Workflow\n",
    "        - Enable GuardDuty by Account\n",
    "        - Countinuously Collecting Data\n",
    "        - Continuously Analyzing\n",
    "        - Intelligently Detecting Thread\n",
    "        - Take Action"
   ]
  },
  {
   "cell_type": "markdown",
   "metadata": {},
   "source": [
    "##  Management and Governance"
   ]
  },
  {
   "cell_type": "markdown",
   "metadata": {},
   "source": [
    "### Provisining"
   ]
  },
  {
   "cell_type": "markdown",
   "metadata": {},
   "source": [
    "- AWS Service Catalog\n",
    "    - Overveiw\n",
    "        - Take control of your company's cloud resources\n",
    "        - Enable self-service for your cloud users with products you define and govern\n",
    "    - Components\n",
    "        - OU: Organization Unit\n",
    "        - SCP: Service Control Policy\n",
    "---\n",
    "- Amazon Organizations\n",
    "    - Overview\n",
    "        - Consolidated Multiple AWS Accounts for Centeral Management\n",
    "        - Consolidated Billing\n",
    "        - Integrate with IAM"
   ]
  },
  {
   "cell_type": "markdown",
   "metadata": {},
   "source": [
    "### Monitoring and Logging"
   ]
  },
  {
   "cell_type": "markdown",
   "metadata": {},
   "source": [
    "- Amazon CloudWatch\n",
    "    - Overview\n",
    "        - Monitoring and Mangement AWS Resources\n",
    "    - Workflow\n",
    "        - Collect\n",
    "            - Metrics/Logs\n",
    "        - Monitor\n",
    "        - Act\n",
    "        - Analyze\n",
    "    - Components\n",
    "        - Namespace\n",
    "            - Metrics\n",
    "                - Datapoints\n",
    "                - Timestamp\n",
    "                - Dimensions\n",
    "            - Statistics\n",
    "                - Units\n",
    "                - Periods\n",
    "            - Percentiles\n",
    "        - Alarms\n",
    "        - Events\n",
    "            - Rules\n",
    "            - Targets\n",
    "        - Logs\n",
    "            - Log Stream\n",
    "            - Log Stream Group\n",
    "        - Dashboards\n",
    "---\n",
    "- Amazon CloudTrail\n",
    "    - Overview\n",
    "        - governance, compliance, operational and risk auditing for AWS account\n",
    "    - Workflow\n",
    "        - Capture\n",
    "        - Store\n",
    "        - Act\n",
    "        - Review"
   ]
  },
  {
   "cell_type": "markdown",
   "metadata": {},
   "source": [
    "### Operation"
   ]
  },
  {
   "cell_type": "markdown",
   "metadata": {},
   "source": [
    "---\n",
    "- Amazon Systems Manager\n",
    "    - Overview\n",
    "    - Workflow\n",
    "        - Group Resources\n",
    "        - Virualize Data\n",
    "        - Take Action\n",
    "    - Components\n",
    "        - Tool Sets\n",
    "            - Run CMD\n",
    "            - State Manager\n",
    "            - Inventory\n",
    "            - Maintainance Window\n",
    "            - Patch Manager\n",
    "            - Automation\n",
    "---\n",
    "- Amazon Personal Health Dashboard\n",
    "    - Overview\n",
    "        - Show events/issues/changes\n",
    "\n",
    "---\n",
    "- Amazon Trusted Advisor\n",
    "    - Overview\n",
    "    - Advisor Domains\n",
    "        - Cost Optimization\n",
    "        - Performance\n",
    "        - Security\n",
    "        - Fault Tolerance\n",
    "        - Service Limits\n",
    "---"
   ]
  },
  {
   "cell_type": "markdown",
   "metadata": {},
   "source": [
    "### Configuration"
   ]
  },
  {
   "cell_type": "markdown",
   "metadata": {},
   "source": [
    "- Amazon Config\n",
    "    - Overview\n",
    "        - AWS Resources Inventory of AWS account\n",
    "        - Resource Change Management\n",
    "        - Store Change Histories\n",
    "        - Snapshots of Configuration\n",
    "        - Notification of Changes\n",
    "        - Integrate with CloudTrail\n",
    "        - Use Rule for Compliance check\n",
    "        - Security Analysis   \n",
    "    - Components\n",
    "        - AWS Resources\n",
    "        - CI(JSON)\n",
    "            - Metadata\n",
    "            - Attributes\n",
    "            - Relationship\n",
    "            - Configuration\n",
    "            - Related Events\n",
    "        - Config Streams\n",
    "            - When new CI was created\n",
    "            - SNS topic\n",
    "        - Config Histories\n",
    "            - History of CI\n",
    "        - Config Snapshots\n",
    "        - Config Recorder\n",
    "        - Config Rule\n",
    "            - Security Checks\n",
    "        - Resource Relationships\n",
    "        - S3 Bucket\n",
    "        - SNS Topic\n",
    "        - AWS Config IAM Role\n",
    "    - Workflow\n",
    "- AWS OpsWorks\n",
    "    - Overview\n",
    "        - Configuration Management Platform\n",
    "        - More Control of Infrastructure over Elastic Beanstalk\n",
    "    - OpsWorks Stacks\n",
    "        - Components\n",
    "            - Stack\n",
    "            - Layer\n",
    "                - Recipe\n",
    "            - Apps\n",
    "            - Instances\n",
    "    - OpsWorks for Chef Automation   \n",
    "    - OpsWorks for Puppet Enterprise\n",
    "        "
   ]
  },
  {
   "cell_type": "markdown",
   "metadata": {},
   "source": [
    "### Support"
   ]
  },
  {
   "cell_type": "markdown",
   "metadata": {},
   "source": [
    "- Amazon Support Plan\n",
    "    - Overview\n",
    "    - Types\n",
    "        - Basic Support Plan\n",
    "        - Developer Plan\n",
    "        - Business Plan\n",
    "        - Enterprise Plan\n",
    "---"
   ]
  },
  {
   "cell_type": "markdown",
   "metadata": {},
   "source": [
    "### Regulation, Compliance"
   ]
  },
  {
   "cell_type": "markdown",
   "metadata": {},
   "source": [
    "- Compliance Program\n",
    "    - [AWS Cloud Compliance Program](https://aws.amazon.com/compliance/programs/)\n",
    "        - [AWS Artifact Reports](https://aws.amazon.com/artifact/)\n",
    "    - Compliant\n",
    "    - Compliance-Enabling\n",
    "    \n",
    "- AWS Artifact\n",
    "    - AWS Compliance Reports Repository\n",
    "---"
   ]
  },
  {
   "cell_type": "markdown",
   "metadata": {},
   "source": [
    "# AWS Cloud Security Framework"
   ]
  },
  {
   "cell_type": "markdown",
   "metadata": {},
   "source": [
    "## Shared Responsibility Model"
   ]
  },
  {
   "cell_type": "markdown",
   "metadata": {},
   "source": [
    "<img style=\"-webkit-user-select: none;margin: auto;cursor: zoom-in;\" src=\"AWS-Secuirty-SharedResponsibilityModel.png\" width=\"750\" height=\"600\">"
   ]
  },
  {
   "cell_type": "markdown",
   "metadata": {},
   "source": [
    "- AWS Vulnerability and Penetration Testing"
   ]
  },
  {
   "cell_type": "markdown",
   "metadata": {},
   "source": [
    "## Security Stack"
   ]
  },
  {
   "cell_type": "markdown",
   "metadata": {},
   "source": [
    "- Physical and Environmental Security\n",
    "- Network Security\n",
    "- Host Security\n",
    "- Data Security\n",
    "- Applicatiion Security\n",
    "- User and Identity Security\n",
    "- Business Continuity Management"
   ]
  },
  {
   "cell_type": "markdown",
   "metadata": {},
   "source": [
    "## Security Strategy, Governance, Management"
   ]
  },
  {
   "cell_type": "markdown",
   "metadata": {},
   "source": [
    "- Security Strategy\n",
    "    - Prevent\n",
    "    - Detect\n",
    "    - Respond\n",
    "    - Remediate"
   ]
  },
  {
   "cell_type": "markdown",
   "metadata": {},
   "source": [
    "## Security Regulation, Compliance"
   ]
  },
  {
   "cell_type": "markdown",
   "metadata": {},
   "source": [
    "- Compliance\n",
    "    - [AWS Cloud Compliance Program](https://aws.amazon.com/compliance/programs/)\n",
    "        - [AWS Artifact Reports](https://aws.amazon.com/artifact/)"
   ]
  },
  {
   "cell_type": "markdown",
   "metadata": {},
   "source": [
    "# AWS Cloud DevOps Framework"
   ]
  },
  {
   "cell_type": "markdown",
   "metadata": {},
   "source": [
    "##  Cloud Rerouces Access"
   ]
  },
  {
   "cell_type": "markdown",
   "metadata": {},
   "source": [
    "- AWS Management Cosole\n",
    "    - Username/Passord\n",
    "    - MFA\n",
    "- [AWS CLI](https://aws.amazon.com/cli/)\n",
    "    - IAM Credential\n",
    "        - Access key ID/Secret access key\n",
    "        - SSH Public key/Private key\n",
    "    - `aws SERVICE ACTION CONFIG`\n",
    "        - `aws configure`\n",
    "- [SDKs and Toolkits](https://aws.amazon.com/getting-started/tools-sdks/)\n",
    "    - IAM Temporary Credential\n",
    "    \n",
    "- [AWS Cloud Development Kit(AWS CDK)](https://aws.amazon.com/cdk/)\n",
    "    - Powered by AWS CloudFormation\n",
    "    - Model application infrastructure using TypeScript, Python, Java, and .NET."
   ]
  },
  {
   "cell_type": "markdown",
   "metadata": {},
   "source": [
    "## Infrastructure as Code"
   ]
  },
  {
   "cell_type": "markdown",
   "metadata": {},
   "source": [
    "### AWS Tool Sets"
   ]
  },
  {
   "cell_type": "markdown",
   "metadata": {},
   "source": [
    "- AWS Services Sets\n",
    "    - AWS CloudFormation\n",
    "        - Designer\n",
    "        - Template\n",
    "        - CloudFormer"
   ]
  },
  {
   "cell_type": "markdown",
   "metadata": {},
   "source": [
    "## Terraform IaC"
   ]
  },
  {
   "cell_type": "markdown",
   "metadata": {},
   "source": [
    "### Project and CLI"
   ]
  },
  {
   "cell_type": "markdown",
   "metadata": {},
   "source": [
    "- Project\n",
    "    - `shared_vars/shared_vars.tf`\n",
    "    - `module1/`\n",
    "    - `module2/`\n",
    "    - `main.tf`\n",
    "    - `provider.tf`\n",
    "        ```bash\n",
    "        provider \"aws\" {\n",
    "            access_key = \"\"\n",
    "            secret_key = \"\"\n",
    "            region = 'us-west-2'\n",
    "        }\n",
    "        ```\n",
    "---\n",
    "\n",
    "- Module\n",
    "    - reusable code block\n",
    "    - local module: a sub folder in Project foler with codes file\n",
    "    \n",
    "    \n",
    "- Workspace\n",
    "    - Swichable Dev/Stage/Prod environment management\n",
    "---\n",
    "\n",
    "- Terraform CMDs\n",
    "    - `terraform init`\n",
    "    - `terraform workspace`\n",
    "        - `new test/stage/prod`\n",
    "        - `list`\n",
    "        - `select prod`\n",
    "    - `terraform plan`\n",
    "    - `terraform apply`       \n",
    "    - `terraform destroy`\n"
   ]
  },
  {
   "cell_type": "markdown",
   "metadata": {},
   "source": [
    "### Configuration Language"
   ]
  },
  {
   "cell_type": "markdown",
   "metadata": {},
   "source": [
    "- Token/Identifier\n",
    "    - `/[a-zA-Z_-][a-zA-Z_-]*/`\n",
    "    \n",
    "- Types\n",
    "    - boolean: `true, false`\n",
    "    - string: \n",
    "        - double quoted string: `\"str\"`\n",
    "        - tagged string: `<<EOF ........ EOF`   \n",
    "    - number: `32`\n",
    "    - list: list(<TYPE>)\n",
    "    - set: set(<TYPE>)\n",
    "    - map: \n",
    "    - object:\n",
    "    - tuple:\n",
    "    - Keywords\n",
    "        - `provider`\n",
    "        - `resource`\n",
    "            - ref:\n",
    "                - `${NAME}`\n",
    "        - `variable`\n",
    "            - ref: \n",
    "                - `${var.VAR}`\n",
    "                - `${var.VAR.ATTR}`\n",
    "                - `${var.listVAR[INDEX]}`\n",
    "                - `${var.mapVAR[\"KEY\"]}`\n",
    "        - `output`\n",
    "            - output information\n",
    "        - `module`\n",
    "            - declare module:\n",
    "                - `module \"MOD_NAME\" { source = \"./MOD_FOLDER\" ...}`\n",
    "            - ref module resources:\n",
    "                `${moudle.MODNAME.RES}`\n",
    "        - `locals`\n",
    "            - decalre local variable\n",
    "                - `locals { env = \"${terraform.workspace}\" }`\n",
    "- Expression\n",
    "    - variable declare/reference\n",
    "    - resource reference\n",
    "        - `${NAME.KEY.KEY...}`\n",
    "    - input pattern\n",
    "        - variable statement without default value\n",
    "        - output varible\n",
    "        - `variable \"input_variable\" {}`\n",
    "    - local variable reference\n",
    "        - `${local.VAR}`\n",
    "    - lookup mapping\n",
    "        - `id = \"${lookup(local.ids_env, local.env)}\"`\n",
    "    - Shared Varible Patter using Module and lookup mapping"
   ]
  },
  {
   "cell_type": "markdown",
   "metadata": {},
   "source": [
    "- Resouces\n",
    "    ```\n",
    "    resource \"aws_instance\" \"web\" {\n",
    "      ami           = \"ami-a1b2c3d4\"\n",
    "      instance_type = \"t2.micro\"\n",
    "    }    \n",
    "    ```\n",
    "- Provider\n",
    "    ```\n",
    "    provider \"aws\" {\n",
    "        access_key = \"\"\n",
    "        secret_key = \"\"\n",
    "        region = 'us-west-2'\n",
    "    }   \n",
    "    ```\n",
    "\n",
    "- Input Variables\n",
    "    - root module get value from CLI\n",
    "    - child module get value from module block passing\n",
    "    ```\n",
    "    variable \"image_id\" {\n",
    "      type = string\n",
    "    }    \n",
    "    ```\n",
    "    \n",
    "- Output Varaibles\n",
    "    - root module get value from CLI\n",
    "    - child module get value from module block passing\n",
    "    ```\n",
    "    variable \"image_id\" {\n",
    "      type = string\n",
    "    }    \n",
    "    variable \"availability_zone_names\" {\n",
    "      type    = list(string)\n",
    "      default = [\"us-west-1a\"]\n",
    "    }\n",
    "    variable \"docker_ports\" {\n",
    "      type = list(object({\n",
    "        internal = number\n",
    "        external = number\n",
    "        protocol = string\n",
    "      }))\n",
    "      default = [\n",
    "        {\n",
    "          internal = 8300\n",
    "          external = 8300\n",
    "          protocol = \"tcp\"\n",
    "        }\n",
    "      ]\n",
    "    }\n",
    "    ```\n",
    "    \n",
    "- Configruation\n",
    "\n",
    "- Argument\n",
    "    - `identifier = expression`\n",
    "- Expression\n",
    "- Block\n",
    "    ```\n",
    "    <BLOCK TYPE> \"<BLOCK LABEL>\" \"<BLOCK LABEL>\" {\n",
    "        Block body\n",
    "        <IDENTIFIER> = <EXPRESSION> # Argument\n",
    "    }\n",
    "    ```\n",
    "\n",
    "- Statement\n",
    "- Flow Control"
   ]
  },
  {
   "cell_type": "code",
   "execution_count": null,
   "metadata": {},
   "outputs": [],
   "source": []
  },
  {
   "cell_type": "markdown",
   "metadata": {},
   "source": [
    "- Variables\n",
    "    ```\n",
    "    //variable: string - single line\n",
    "    variable \"helloworld\" {\n",
    "      default = \"Hello World\"\n",
    "    }\n",
    "    \n",
    "    output \"variable_string_singleline\" {\n",
    "      value = \"${var.helloworld}\"\n",
    "    }\n",
    "\n",
    "    //variable: string - multiple line\n",
    "    variable \"multiline_helloworld\" {\n",
    "      default = <<EOF\n",
    "    Hello World Line 1\n",
    "    Hello World Line 2  \n",
    "    EOF\n",
    "    }\n",
    "    \n",
    "    output \"variable_string_multiline\" {\n",
    "      value = \"${var.multiline_helloworld}\"\n",
    "    }\n",
    "    \n",
    "    //variable: map\n",
    "    variable \"hellomap\" {\n",
    "      default = {\n",
    "          \"key1\" = \"value1\"\n",
    "          \"key2\" = \"value2\"\n",
    "      }\n",
    "    }\n",
    "    \n",
    "    output \"varible_map\" {\n",
    "      value = \"${var.hellomap}\"\n",
    "    }\n",
    "\n",
    "    output \"varible_map_key1\" {\n",
    "      value = \"${var.hellomap[\"key1\"]}\"\n",
    "    }\n",
    "\n",
    "    //variable: list\n",
    "    variable \"hellolist\" {\n",
    "      default = [\"item1\", 2, \"item3\"]\n",
    "    }\n",
    "\n",
    "    output \"varible_list\" {\n",
    "      value = \"${var.hellolist}\"\n",
    "    }\n",
    "    \n",
    "    output \"varible_list_1\" {\n",
    "      value = \"${var.hellolist[1]}\"\n",
    "    }\n",
    "\n",
    "    //variable: boolean\n",
    "    variable \"helloboolean\" {\n",
    "      default = true\n",
    "    }\n",
    "    \n",
    "    output \"varible_boolean\" {\n",
    "      value = \"${var.helloboolean}\"\n",
    "    }\n",
    "    ```"
   ]
  },
  {
   "cell_type": "markdown",
   "metadata": {},
   "source": [
    "## CI/CD"
   ]
  },
  {
   "cell_type": "markdown",
   "metadata": {},
   "source": [
    "- AWS Service Sets\n",
    "    - CodeCommit\n",
    "    - CodePipeline\n",
    "    - Elastic Beanstalk\n",
    "    - OpsWorks\n",
    "    - ECS/ECR/EKS\n",
    "- Best Practice\n",
    "    - CI/CD with CodePipeline\n",
    "        - Source Code\n",
    "            - Github\n",
    "        - Build\n",
    "            - CodeBuild\n",
    "        - Deploy\n",
    "            - CodeDeploy\n",
    "        - Product\n",
    "            - Elastic Beanstalk\n",
    "    - Blue-Green Deployment\n",
    "        - Elastic Beanstalk Application"
   ]
  },
  {
   "cell_type": "markdown",
   "metadata": {},
   "source": [
    "## Ops"
   ]
  },
  {
   "cell_type": "markdown",
   "metadata": {},
   "source": [
    "- AWS Servcie Sets\n",
    "    - s"
   ]
  },
  {
   "cell_type": "markdown",
   "metadata": {},
   "source": [
    "# AWS Best Practices-Pillars"
   ]
  },
  {
   "cell_type": "markdown",
   "metadata": {},
   "source": [
    "## Principles"
   ]
  },
  {
   "cell_type": "markdown",
   "metadata": {},
   "source": [
    "- Enable Scalability\n",
    "- Avoid SPOF\n",
    "- Utilize Disposable Components\n",
    "- Leverage Automation\n",
    "- Leverage Caching\n",
    "- Loose Coupling\n",
    "- Choose the right data architecture\n",
    "- Optimize for Cost\n",
    "- Security in All Layers"
   ]
  },
  {
   "cell_type": "markdown",
   "metadata": {},
   "source": [
    "## Operation Excellence"
   ]
  },
  {
   "cell_type": "markdown",
   "metadata": {},
   "source": []
  },
  {
   "cell_type": "markdown",
   "metadata": {},
   "source": [
    "## Security"
   ]
  },
  {
   "cell_type": "markdown",
   "metadata": {},
   "source": []
  },
  {
   "cell_type": "markdown",
   "metadata": {},
   "source": [
    "## Performance Efficiency"
   ]
  },
  {
   "cell_type": "markdown",
   "metadata": {},
   "source": [
    "- Capacity Plan"
   ]
  },
  {
   "cell_type": "markdown",
   "metadata": {},
   "source": [
    "## Reliability"
   ]
  },
  {
   "cell_type": "markdown",
   "metadata": {},
   "source": [
    "- Resiliency            \n",
    "    - Resiliency of Internet Connectivity\n",
    "        - IGW inheritently resilience/HA\n",
    "    - Resiliency of VPN\n",
    "    - Resiliency of DX\n",
    "    - Resiliency of Application\n",
    "    - Resiliency of DB"
   ]
  },
  {
   "cell_type": "markdown",
   "metadata": {},
   "source": [
    "## Cost Optimization"
   ]
  },
  {
   "cell_type": "code",
   "execution_count": null,
   "metadata": {},
   "outputs": [],
   "source": []
  },
  {
   "cell_type": "markdown",
   "metadata": {},
   "source": [
    "## ITILv3 ITSM"
   ]
  },
  {
   "cell_type": "markdown",
   "metadata": {},
   "source": [
    "### Cloud Governance"
   ]
  },
  {
   "cell_type": "markdown",
   "metadata": {},
   "source": [
    "- Governance Goal\n",
    "    - Assure the use of IT generate business value\n",
    "    - Oversee and ensure IT staff's performance\n",
    "    - Mitigate Risks associated with using of IT\n",
    "- Cloud IT Challenges\n",
    "    - Dynamic Billing\n",
    "    - Remote Access\n",
    "    - Dynamic Provisioning of Resources\n",
    "- Governance Process\n",
    "    - Policy\n",
    "    - Compliance\n",
    "    - Enforcement\n",
    "- AWS Governance\n",
    "    - Resouce States\n",
    "        - AWS Config\n",
    "        - Resource Tagging\n",
    "        - CloudWatch Metrics\n",
    "        - CloudWatch Alarms\n",
    "        - AWS Trusted Advisor\n",
    "        - Billing Console\n",
    "    - Transition Actions\n",
    "        - AWS CloudTrail\n",
    "        - AWS CloudWatch Event\n",
    "        - AWS Config Rules\n",
    "        - AWS Service Catalog\n",
    "        - AWS IAM Policy Actions\n",
    "    - Actors States\n",
    "        - IAM User/Group/Role\n",
    "        - AWS Config Rules: IAM\n",
    "        - AWS Directory Service\n",
    "        - IAM Reports\n",
    "    \n",
    "   "
   ]
  },
  {
   "cell_type": "code",
   "execution_count": null,
   "metadata": {},
   "outputs": [],
   "source": []
  },
  {
   "cell_type": "markdown",
   "metadata": {},
   "source": [
    "# AWS Best Practices-Domain"
   ]
  },
  {
   "cell_type": "markdown",
   "metadata": {},
   "source": [
    "## Networking"
   ]
  },
  {
   "cell_type": "markdown",
   "metadata": {},
   "source": [
    "- Topology\n",
    "    - Region\n",
    "        - AZs\n",
    "    - VPC: Logical Isolation\n",
    "        - Subnets: \n",
    "            - Tier Isolation\n",
    "            - Logical Mapping to AZ"
   ]
  },
  {
   "cell_type": "markdown",
   "metadata": {},
   "source": [
    "- Network Resources Relationship View\n",
    "    - <img style=\"-webkit-user-select: none;margin: auto;cursor: zoom-in;\" src=\"AWS-BestPractice-NetResRelaView.png\" width=\"600\" height=\"500\">\n",
    "    "
   ]
  },
  {
   "cell_type": "markdown",
   "metadata": {},
   "source": [
    "- Connectivity\n",
    "    - Network-to-Amazon VPC Connectivity\n",
    "        - AWS Managed VPN\n",
    "        - AWS Direct Connect\n",
    "        - AWS Direct Connect Plus VPN\n",
    "        - AWS VPN CloudHub\n",
    "        - Software VPN\n",
    "        - Transit VPC\n",
    "    - Amazon VPC-to-Amazon VPC Connectivit\n",
    "        - VPC Peering\n",
    "        - Software VPN\n",
    "        - Software-to-AWS Managed VPN\n",
    "        - AWS Managed VPN\n",
    "        - AWS Direct Connect\n",
    "        - AWS PrivateLink\n",
    "            - interface endpoints\n",
    "    - Internal User-to-Amazon VPC Connectivity Options\n",
    "        - Software Remote-Access VPN"
   ]
  },
  {
   "cell_type": "markdown",
   "metadata": {},
   "source": [
    "    \n",
    "- Network Design 01: ENI, SG, Subnet, Route, IGW, VPG, NAT, PCX, Transit VPC\n",
    "    - <img style=\"-webkit-user-select: none;margin: auto;cursor: zoom-in;\" src=\"AWS-BestPractice-NetDesign01.png\" width=\"900\" height=\"700\">"
   ]
  },
  {
   "cell_type": "markdown",
   "metadata": {},
   "source": [
    "## Reference Architecture"
   ]
  },
  {
   "cell_type": "markdown",
   "metadata": {},
   "source": [
    "### Wordpress"
   ]
  },
  {
   "cell_type": "markdown",
   "metadata": {},
   "source": [
    "<img style=\"-webkit-user-select: none;margin: auto;cursor: zoom-in;\" src=\"AWS-Architecture-WordPress.png\" width=\"800\" height=\"800\">"
   ]
  },
  {
   "cell_type": "markdown",
   "metadata": {},
   "source": [
    "### Gaming"
   ]
  },
  {
   "cell_type": "markdown",
   "metadata": {},
   "source": [
    "<img style=\"-webkit-user-select: none;margin: auto;cursor: zoom-in;\" src=\"AWS-Architecture-Gaming.png\" width=\"800\" height=\"800\">"
   ]
  },
  {
   "cell_type": "markdown",
   "metadata": {},
   "source": [
    "# END"
   ]
  },
  {
   "cell_type": "markdown",
   "metadata": {},
   "source": [
    "- AWS Solution\n",
    "    - Overveiw\n",
    "    - UserCase\n",
    "    - Technology\n",
    "    - Architecture\n",
    "        - Security\n",
    "        - Reliability\n",
    "        - Performance\n",
    "        - Operation\n",
    "        - Cost\n",
    "    - Deploy/Config/Operate\n",
    "        - Prerequisite\n",
    "        - Workflow\n",
    "    - Optimize\n",
    "        - Best Practice"
   ]
  }
 ],
 "metadata": {
  "kernelspec": {
   "display_name": "Python 3",
   "language": "python",
   "name": "python3"
  },
  "language_info": {
   "codemirror_mode": {
    "name": "ipython",
    "version": 3
   },
   "file_extension": ".py",
   "mimetype": "text/x-python",
   "name": "python",
   "nbconvert_exporter": "python",
   "pygments_lexer": "ipython3",
   "version": "3.7.6"
  },
  "toc": {
   "base_numbering": 1,
   "nav_menu": {},
   "number_sections": true,
   "sideBar": true,
   "skip_h1_title": false,
   "title_cell": "Table of Contents",
   "title_sidebar": "Contents",
   "toc_cell": false,
   "toc_position": {
    "height": "calc(100% - 180px)",
    "left": "10px",
    "top": "150px",
    "width": "235.625px"
   },
   "toc_section_display": true,
   "toc_window_display": true
  }
 },
 "nbformat": 4,
 "nbformat_minor": 2
}
