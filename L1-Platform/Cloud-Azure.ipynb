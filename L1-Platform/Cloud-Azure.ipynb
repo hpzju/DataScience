{
 "cells": [
  {
   "cell_type": "markdown",
   "metadata": {},
   "source": [
    "# Cloud Computingm"
   ]
  },
  {
   "cell_type": "markdown",
   "metadata": {},
   "source": [
    "## NIST Cloud Computing Definition"
   ]
  },
  {
   "cell_type": "markdown",
   "metadata": {},
   "source": [
    "- Definition\n",
    "    - Cloud computing is a model for enabling ubiquitous, convenient, on-demand network access to a shared pool of configurable computing resources (e.g., networks, servers, storage, applications, and services) that can be rapidly provisioned and released with minimal management effort or service provider interaction. \n",
    "- Cloud Model\n",
    "    - 5 essential characteristics\n",
    "        - On-demand self-service\n",
    "        - Broad network access\n",
    "        - Resource pooling\n",
    "        - Rapid elasticity\n",
    "        - Measured service\n",
    "    - 3 service models\n",
    "        - SaaS\n",
    "        - PaaS\n",
    "        - IaaS\n",
    "        - On-Premise\n",
    "        - IT Stack\n",
    "            - Application\n",
    "            - Data\n",
    "            - Runtime\n",
    "            - Middleware\n",
    "            - OS\n",
    "            - Virtualization\n",
    "            - Compute\n",
    "            - Storage\n",
    "            - Networking\n",
    "            - Facility\n",
    "    - 4 deployment models\n",
    "      - Priavte Cloud\n",
    "          - Single Tenant Implementation\n",
    "      - Community Cloud\n",
    "      - Hybrid Cloud\n",
    "      - Public Cloud \n",
    "          - Multi-Tenant Implementation\n",
    "          - Ownership: Service Provider\n",
    "          - Access: Via Internet"
   ]
  },
  {
   "cell_type": "markdown",
   "metadata": {},
   "source": [
    "## Overview"
   ]
  },
  {
   "cell_type": "markdown",
   "metadata": {},
   "source": [
    "- Advantages of Cloud Computing\n",
    "    - Capex shifts to Opex\n",
    "    - Benefits from massive economies of scale\n",
    "    - Stop guessing capacity/Provisioning on-demand\n",
    "    - Increse speed of deployment and business agility\n",
    "    - Stop spending on running and maintianing data centers\n",
    "    - Go globally in minutes\n",
    "- User Case/Benifits of Cloud Computing\n",
    "  - Cost\n",
    "  - Business Agile\n",
    "  - Reliability\n",
    "  - Security\n",
    "  \n",
    "- Features/Functions\n",
    "  - Elasticity\n",
    "  - Scalability\n",
    "    - Scale Out\n",
    "    - Scale Up\n",
    "  - Agility\n",
    "  - Availability\n",
    "    - HA\n",
    "    - FT\n",
    "    - DR\n",
    "  - Security\n",
    "  - Manageability\n",
    "- Cloud Economics\n",
    "  - Economies of Scale\n",
    "  - CAPEX vs OPEX\n",
    "    - Cost Effectiveness\n",
    "  - Consumption Based Model"
   ]
  },
  {
   "cell_type": "code",
   "execution_count": null,
   "metadata": {},
   "outputs": [],
   "source": []
  },
  {
   "cell_type": "markdown",
   "metadata": {},
   "source": [
    "# Azure"
   ]
  },
  {
   "cell_type": "markdown",
   "metadata": {},
   "source": [
    "## Core Services Overview"
   ]
  },
  {
   "cell_type": "markdown",
   "metadata": {},
   "source": [
    "<img style=\"-webkit-user-select: none;margin: auto;cursor: zoom-in;\" src=\"https://techcommunity.microsoft.com/t5/image/serverpage/image-id/94214iF8738A37E3E44F77\" width=\"800\" height=\"600\">"
   ]
  },
  {
   "cell_type": "markdown",
   "metadata": {},
   "source": [
    "## Architecture"
   ]
  },
  {
   "cell_type": "markdown",
   "metadata": {},
   "source": [
    "- [Azure Architecture Center](https://docs.microsoft.com/en-us/azure/architecture/)"
   ]
  },
  {
   "cell_type": "markdown",
   "metadata": {},
   "source": [
    "<img style=\"-webkit-user-select: none;margin: auto;cursor: zoom-in;\" src=\"Azure-ResourceView.png\" width=\"750\" height=\"600\">"
   ]
  },
  {
   "cell_type": "markdown",
   "metadata": {},
   "source": [
    "### Building Blocks"
   ]
  },
  {
   "cell_type": "markdown",
   "metadata": {},
   "source": [
    "#### Compute"
   ]
  },
  {
   "cell_type": "markdown",
   "metadata": {},
   "source": [
    "<img style=\"-webkit-user-select: none;margin: auto;cursor: zoom-in;\" src=\"Azure-ComputeView.png\" width=\"750\" height=\"600\">"
   ]
  },
  {
   "cell_type": "markdown",
   "metadata": {},
   "source": [
    "- Computing Types\n",
    "    - VMs\n",
    "    - VMSS: VMs Scale Set\n",
    "    - Batch\n",
    "    - AKS: Azure Container Service\n",
    "    - Service Fabric\n",
    "    - App Service\n",
    "        - Service Plan\n",
    "            - Free/Shared/Basic/Standard/Premium/Isolated\n",
    "    - Serverless Computing\n",
    "        - Azure Functions\n",
    "        - Azure Logic Apps\n",
    "            - Triggers\n",
    "            - Actions\n",
    "        - Azure Event Grid\n",
    "- Terms\n",
    "    - ACU: Azure Compute Units\n",
    "    - UD: Update Domain\n",
    "    - FD: Fault Domain\n",
    "    - AS: Availability Set\n",
    "    - AZ: Availability Zoon\n",
    "    - VMSS: Scale Set"
   ]
  },
  {
   "cell_type": "markdown",
   "metadata": {},
   "source": [
    "#### Storage"
   ]
  },
  {
   "cell_type": "markdown",
   "metadata": {},
   "source": [
    "<img style=\"-webkit-user-select: none;margin: auto;cursor: zoom-in;\" src=\"Azure-StorageView.png\" width=\"750\" height=\"600\">"
   ]
  },
  {
   "cell_type": "markdown",
   "metadata": {},
   "source": [
    "- Storage Account\n",
    "    - GPv1 Account\n",
    "    - Blob Account\n",
    "    - GPv2 Account\n",
    "- General Storage\n",
    "    - Blob Storage\n",
    "      - Storage Account\n",
    "      - Container\n",
    "      - Blob\n",
    "        - Blob Snapshot\n",
    "        - Metadata\n",
    "        - Block blobs\n",
    "        - Page blobs\n",
    "        - Append blobs\n",
    "    - File Storage\n",
    "    - Table Storage\n",
    "    - Queue Storage\n",
    "- Disk Storage\n",
    "    - Standard HDD\n",
    "    - Standard SSD\n",
    "    - Premium SSD\n",
    "    - Ultra SSD\n",
    "    \n",
    "- VM Storage View\n",
    "    - Image .VHD stored in page blob\n",
    "    - OS Disk stored in page blob\n",
    "    - temporary os disk soted in local Physical Machine\n",
    "    - Data Disk \n",
    "      - HDD\n",
    "      - SDD\n",
    "        \n",
    "- Replication\n",
    "    - LRS: Local Replicated Storage\n",
    "    - ZRS: Zone Replicated Storage\n",
    "    - GRS: Geographially Replicated Storage\n",
    "    - RA-GRS: Read-Only Geographially Replicated Storage\n",
    "\n",
    "- Storage Access Tiers\n",
    "    - Premium\n",
    "    - Hot\n",
    "    - Cold\n",
    "    - Archive\n",
    "- Data Transfer \n",
    "  - Azure File Sync\n",
    "  - Azure Import/Export\n",
    "  - RoboCopy\n",
    "  - AzCopy\n",
    "\n",
    "- Data Protection\n",
    "    - Storage Firewall\n",
    "    - Storage Encryption\n",
    "    - Azure Backup \n",
    "    - Azure Site Recovery"
   ]
  },
  {
   "cell_type": "markdown",
   "metadata": {},
   "source": [
    "#### Networking"
   ]
  },
  {
   "cell_type": "markdown",
   "metadata": {},
   "source": [
    "<img style=\"-webkit-user-select: none;margin: auto;cursor: zoom-in;\" src=\"Azure-NetworkingView.png\" width=\"750\" height=\"600\">"
   ]
  },
  {
   "cell_type": "markdown",
   "metadata": {},
   "source": [
    "- VNet: \n",
    "  - Capability\n",
    "    - Isolated\n",
    "      - Open for Traffic by default\n",
    "      - IP Segementation\n",
    "      - DNS Management\n",
    "    - Internet Access\n",
    "      - VPN connection\n",
    "    - Chainable\n",
    "      - VNet Peering\n",
    "    - Traffic Routing\n",
    "    - Traffic Filtering\n",
    "    - Security Policy Management\n",
    "\n",
    "- IP Addresses\n",
    "    - Public\n",
    "    - Private\n",
    "        - Dynamic: DHCP\n",
    "        - Static\n",
    "\n",
    "- Subnet\n",
    "    - Capability\n",
    "        - NSG config\n",
    "        - Route Table config\n",
    "\n",
    "- Network Interfaces\n",
    "\n",
    "- DNS\n",
    "\n",
    "- NSG: Network Security Group\n",
    "    - as a Network Filter\n",
    "    - Capability\n",
    "        - In-bound Rule\n",
    "        - Out-bound Rule\n",
    "        - NIC config\n",
    "        - Subnet Attach\n",
    "\n",
    "- Router\n",
    "    - Azure Router Table\n",
    "\n",
    "- VPN\n",
    "    - S2S: Site-to-Site\n",
    "        - IPSec VPN with VPN Gateway\n",
    "        - M2S: Multisites-to-Site\n",
    "    - ExpressRoute\n",
    "        - CloudExchange Colocation\n",
    "        - P2P EthernetConnection\n",
    "        - A2A IP VPN Connection\n",
    "    - P2S: Point-to-Site\n",
    "        - Personal/Workstation VPN\n",
    "    - VNet Peering\n",
    "   \n",
    "- LB\n",
    "    - L7 LB/Http/WAF\n",
    "        - Azure App Gateway\n",
    "    - Global L7 DNS LB\n",
    "        - Azure Traffic Manager\n",
    "            - DNS based \n",
    "    - L4 LB\n",
    "        - Azure Load Balancer\n",
    "             - IP:Port Hash\n",
    "             - IP Affinity\n",
    "             - Port\n",
    "         - Types\n",
    "             - Public-facing LB\n",
    "             - Internal LB\n",
    "\n",
    "        \n",
    "- FW\n",
    "    - Azure Firewall\n",
    "    - Storage Firewall\n",
    "\n",
    "- DDOS\n",
    "    - Azure DDoS Protection\n",
    "    \n",
    "- Network Management\n",
    "    - Azure Network Watcher\n",
    "- CDN\n",
    "    - Dynamic site acceleration\n",
    "    - HTTPS support\n",
    "    - Query string caching\n",
    "    - Geo-filtering\n",
    "    - Azure diagonostics logs\n",
    "\n",
    "- NVA: Network Virtualization Appliance\n",
    "    - Azure Firewall\n",
    "    \n",
    "- Service Endpoints\n",
    "    - Security ACL point\n",
    "    \n",
    "- HA Architecture Design\n",
    "    - Components\n",
    "        - Azure Availability Set\n",
    "        - Traffic Manager\n",
    "        - LBs(L4)\n",
    "        - Application Gateway(L7)"
   ]
  },
  {
   "cell_type": "markdown",
   "metadata": {},
   "source": [
    "- Terms\n",
    "    - System Route\n",
    "    - UDR: User Defined Route"
   ]
  },
  {
   "cell_type": "markdown",
   "metadata": {},
   "source": [
    "#### Web+Mobile"
   ]
  },
  {
   "cell_type": "markdown",
   "metadata": {},
   "source": [
    "<img style=\"-webkit-user-select: none;margin: auto;cursor: zoom-in;\" src=\"Azure-AppView.png\" width=\"750\" height=\"600\">"
   ]
  },
  {
   "cell_type": "markdown",
   "metadata": {},
   "source": [
    "- App Service Plan\n",
    "  - Shared compute: \n",
    "      - Free and Shared,\n",
    "  - Dedicated compute: \n",
    "      - Basic, Standard, Premium, and PremiumV2 \n",
    "  - Isolated\n",
    "  \n",
    "- Dev Platforms\n",
    "  - ASP\n",
    "  - Nodejs\n",
    "  - Python\n",
    "  - PHP\n",
    "\n",
    "- Terms\n",
    "    - Deployment Slot"
   ]
  },
  {
   "cell_type": "markdown",
   "metadata": {},
   "source": []
  },
  {
   "cell_type": "markdown",
   "metadata": {},
   "source": [
    "#### Databases"
   ]
  },
  {
   "cell_type": "markdown",
   "metadata": {},
   "source": [
    "#### Analytics"
   ]
  },
  {
   "cell_type": "markdown",
   "metadata": {},
   "source": [
    "#### Enterprise Integration"
   ]
  },
  {
   "cell_type": "markdown",
   "metadata": {},
   "source": [
    "#### Security"
   ]
  },
  {
   "cell_type": "markdown",
   "metadata": {},
   "source": [
    "- Azure AD\n",
    "    - Enterprise Identity Management\n",
    "        - User\n",
    "        - Group\n",
    "    - SSO\n",
    "    - MFA\n",
    "    - Self-Service\n",
    "- Azure AD DS\n",
    "- Window Server AD DS\n",
    "- Azure PIM: Privileged Identity Management"
   ]
  },
  {
   "cell_type": "markdown",
   "metadata": {},
   "source": [
    "#### AI+ML"
   ]
  },
  {
   "cell_type": "markdown",
   "metadata": {},
   "source": [
    "#### IoT"
   ]
  },
  {
   "cell_type": "markdown",
   "metadata": {},
   "source": [
    "### Topology"
   ]
  },
  {
   "cell_type": "markdown",
   "metadata": {},
   "source": [
    "- View\n",
    "    - Functional View Hierarchy\n",
    "    - Business View Hierarchy\n",
    "    - Geographic View Hierarchy"
   ]
  },
  {
   "cell_type": "markdown",
   "metadata": {},
   "source": [
    "#### Physical Hierarchy"
   ]
  },
  {
   "cell_type": "markdown",
   "metadata": {},
   "source": [
    "- Geography\n",
    "    - Groups of Region\n",
    "- Region\n",
    "    - Groups of DCs\n",
    "    - Low Latency Networking\n",
    "    - Multi-Regions\n",
    "      - Active-Passive\n",
    "      - Active-Active\n",
    "- AZ: Availability Zone\n",
    "    - one or more DCs\n",
    "    - Multi-AZs\n",
    "      - HA design for some Services\n",
    "- AS:  Availability Set\n",
    "    - Isolation Boundary\n",
    "- FD: Fault Domain\n",
    "    - Physical Boundary\n",
    "- UD: Update Domain\n",
    "    - Logical Boundary"
   ]
  },
  {
   "cell_type": "markdown",
   "metadata": {},
   "source": [
    "#### Account  Hierarchy"
   ]
  },
  {
   "cell_type": "markdown",
   "metadata": {},
   "source": [
    "- Azure Enterprise\n",
    "- Departments\n",
    "- Accounts\n",
    "- Azure Subscriptions"
   ]
  },
  {
   "cell_type": "markdown",
   "metadata": {},
   "source": [
    "#### Resources Hierarchy"
   ]
  },
  {
   "cell_type": "markdown",
   "metadata": {},
   "source": [
    "- Resources Hierarchy\n",
    "  - Management Group\n",
    "    - Azure Enterprise\n",
    "    - Departments\n",
    "    - Accounts\n",
    "  - Azure Subscriptions\n",
    "  - Resources Groups\n",
    "    - share same lifecycle\n",
    "    - share same administrative boundary\n",
    "      - Metering and Billing\n",
    "      - Monitoring and Alarm\n",
    "      - Apply Polices\n",
    "        - Quota\n",
    "        - ACL\n",
    "    - can across regions\n",
    "  - Resources\n",
    "\n",
    "- ARM: Azure Resource Manager\n",
    "  - Deployment and Management \n",
    "    - CRUD: Create, Read, Update, Delete\n",
    "    - Access Control, Tagging, Auditing\n",
    "    - Declarative Template Deployment\n",
    "  - RBAC"
   ]
  },
  {
   "cell_type": "markdown",
   "metadata": {},
   "source": [
    "### Availability and Continuity"
   ]
  },
  {
   "cell_type": "markdown",
   "metadata": {},
   "source": [
    "- Redundancies\n",
    "  - Data Center Level\n",
    "  - Availability Zone Level\n",
    "  - Region Level\n",
    "- HA Design\n",
    "  - Availability Set\n",
    "      - Update Domain\n",
    "      - Fault Domain\n",
    "  - Availability Zone\n",
    "  - Scale Set\n",
    "- FT Design\n",
    "- DR Design\n",
    "- SLA Management"
   ]
  },
  {
   "cell_type": "markdown",
   "metadata": {},
   "source": [
    "- Azure Backup\n",
    "    - File and Folder\n",
    "    - Workloads: SQL Server/Sharepoint/Exchange\n",
    "    - System States\n",
    "    - Baremetal\n",
    "    - VMs\n",
    "        - Azure VM\n",
    "        - Linux/Windows System\n",
    "        - Hyper-V/VMware VMs\n",
    "- Azure Site Recovery"
   ]
  },
  {
   "cell_type": "markdown",
   "metadata": {},
   "source": []
  },
  {
   "cell_type": "markdown",
   "metadata": {},
   "source": [
    "### Security"
   ]
  },
  {
   "cell_type": "markdown",
   "metadata": {},
   "source": [
    "<img style=\"-webkit-user-select: none;margin: auto;cursor: zoom-in;\" src=\"Azure-SecurityView.png\" width=\"750\" height=\"600\">"
   ]
  },
  {
   "cell_type": "markdown",
   "metadata": {},
   "source": [
    "#### Security Management"
   ]
  },
  {
   "cell_type": "markdown",
   "metadata": {},
   "source": [
    "- CIA Modle\n",
    "    - Confidentiality\n",
    "    - Integrity\n",
    "    - Availability\n",
    "    \n",
    "- Security Layered Model\n",
    "    - Physical Security\n",
    "    - Identity and Access\n",
    "    - Perimeter\n",
    "    - Network\n",
    "    - Compute\n",
    "    - Application\n",
    "    - Data\n",
    "    \n",
    "- Shared Responsibility Model"
   ]
  },
  {
   "cell_type": "markdown",
   "metadata": {},
   "source": [
    "- Physical Security\n",
    "    - Vendor Responsibility\n",
    "- Identity and Access\n",
    "    - Identity Management\n",
    "    - 3A\n",
    "        - Authentication\n",
    "        - Authorization\n",
    "        - Auditing\n",
    "    - AC\n",
    "        - RBAC\n",
    "        - PBAC\n",
    "- Perimeter\n",
    "    - DDoS\n",
    "    - IPS\n",
    "    - IDS\n",
    "    - FW\n",
    "- Networking Security\n",
    "    - Azure Network Security Group\n",
    "    - Azure Firewall\n",
    "    - Azure DDoS Protection\n",
    "\n",
    "- Compute Security\n",
    "    - System\n",
    "        - VM OS\n",
    "- Application Security\n",
    "    - Software\n",
    "    \n",
    "- Data Security\n",
    "    - Data at Rest\n",
    "        - Storage Security\n",
    "            - manage plane security\n",
    "                - RBAC with Azure AD\n",
    "            - data plane security\n",
    "            - encryption in transit\n",
    "            - encryption at rest\n",
    "            - CORS: Cross Origin Resource Sharing\n",
    "        - Database Service Encryption, Auditing\n",
    "            - TDE: Transparent Data Encryption\n",
    "                - DEK: Database Encryption Key\n",
    "                - AEJ: Always Encrypted Key\n",
    "                    - CMK: Column Master Key\n",
    "                    - CEK: Column Encryption Key\n",
    "    - Data at Transit\n",
    "        - SSL 3.0\n",
    "        - TLS 1.2\n",
    "    - Data at Processing\n",
    "        - Confidential Computing\n",
    "            - TEE: Trusted Executioin Environments\n",
    "            - \n",
    "    - Regulation/Laws\n",
    "        - GDPR\n",
    "        - ISO 27001\n",
    "        - NIST\n",
    "    - Information Security\n",
    "        - AIP Azure Information Protection\n"
   ]
  },
  {
   "cell_type": "markdown",
   "metadata": {},
   "source": [
    "- IAM\n",
    "  - Azure AD\n",
    "  - Azure MFA\n",
    "  \n",
    "- System Security\n",
    "    - ATP Azure Advanced Thread Protection\n",
    "\n",
    "- Azure Key Vault\n",
    "    - Secrets Management\n",
    "    - Key Management\n",
    "    - Certificate Management\n",
    "    \n",
    "- Azure Security Center\n",
    "- Azure Service Trust Portal\n",
    "- Azure Trust Center\n",
    "- Microsoft Compliance Manager\n",
    "- Blueprints"
   ]
  },
  {
   "cell_type": "markdown",
   "metadata": {},
   "source": [
    "#### Identity Management"
   ]
  },
  {
   "cell_type": "markdown",
   "metadata": {},
   "source": [
    "<img style=\"-webkit-user-select: none;margin: auto;cursor: zoom-in;\" src=\"Azure-Security-AD.png\" width=\"750\" height=\"600\">"
   ]
  },
  {
   "cell_type": "markdown",
   "metadata": {},
   "source": [
    "- Account Hierarchy\n",
    "  - Azure Enterprise\n",
    "  - Departments\n",
    "  - Accounts\n",
    "  - Subscriptions\n",
    "  - Resources Groups\n",
    "  - Resources\n",
    "- Authentication and Authorization\n",
    "  - Authentication: Who you are\n",
    "      - Security Token\n",
    "  - Authorization: What you can do\n",
    "      - Token with Claim\n",
    "  - Azure Identity and Access Management\n",
    "\n",
    "- Azure AD\n",
    "    - Azure AD Features\n",
    "        - Enterprise Identity Solution\n",
    "        - SSO\n",
    "        - MFA\n",
    "        - Self-Service        \n",
    "    - Azure Enterprise Identity\n",
    "        - Identity Types in AD\n",
    "          - User\n",
    "          - Device\n",
    "          - Group\n",
    "          - Managed Identity\n",
    "            - assigned by User\n",
    "            - assigned by System\n",
    "        - Identities\n",
    "          - Cloud Identity\n",
    "          - Synchronized Identity\n",
    "          - Federated Identity\n",
    "        - Authentication\n",
    "            - PHS: Password Hash Syncronization\n",
    "            - PTA: Pass-through Authentication\n",
    "            - CBA: Certificate Based Authentication\n",
    "        - Azure B2B\n",
    "        - Azure B2C\n",
    "- Azure PIM: Privileged Identity Management\n",
    "- Azure AD Connect\n",
    "    - Components\n",
    "        - DirSync\n",
    "            - Filtering\n",
    "            - Password Hash\n",
    "            - Password Writeback\n",
    "            - Device Writeback\n",
    "            - Deleting Prevention\n",
    "            - Automatic Upgrade\n",
    "        - AD FS\n",
    "        - Health Monitor\n",
    "- Azure MFA\n",
    "    - You Are\n",
    "    - You Know\n",
    "    - You Have\n",
    "- Azure AD DS\n",
    "    - managed domain service\n",
    "- AD DS\n",
    "    - on-premises\n"
   ]
  },
  {
   "cell_type": "markdown",
   "metadata": {},
   "source": [
    "##### RBAC: Role Based Access Control"
   ]
  },
  {
   "cell_type": "markdown",
   "metadata": {},
   "source": [
    "<img style=\"-webkit-user-select: none;margin: auto;cursor: zoom-in;\" src=\"Azure-Security-RBAC.png\" width=\"750\" height=\"600\">"
   ]
  },
  {
   "cell_type": "markdown",
   "metadata": {},
   "source": [
    "- Building Blocks\n",
    "    - Security Principle\n",
    "      - User\n",
    "      - Group\n",
    "      - Managed identity\n",
    "      - Service Principle\n",
    "        - A security identity used by applications or services to access specific Azure - - -- Resources\n",
    "    - Scope\n",
    "      - the set of resources that the access applies to\n",
    "    - Role Definition\n",
    "      - lists the operations that can be performed, such as read, write, and delete\n",
    "- Mapping relationships\n",
    "    - role-permissions\n",
    "    - user-role  \n",
    "    - role-role \n",
    "- Authorization\n",
    "    - Role Assignment\n",
    "    - Role Authorization\n",
    "    - Transaction Authorization\n",
    "  - coarse-grained access control\n",
    "  - [RBAC for Azure resources](https://docs.microsoft.com/en-us/azure/role-based-access-control/overview)"
   ]
  },
  {
   "cell_type": "markdown",
   "metadata": {},
   "source": [
    "##### PBAC: Policy Based Access Control"
   ]
  },
  {
   "cell_type": "markdown",
   "metadata": {},
   "source": [
    "- Azure Policies\n",
    "  - Definition\n",
    "  - Assignment"
   ]
  },
  {
   "cell_type": "markdown",
   "metadata": {},
   "source": [
    "#### Governance and Compliance"
   ]
  },
  {
   "cell_type": "markdown",
   "metadata": {},
   "source": [
    "- Azure Advisor\n",
    "\n",
    "- Azure Initiative\n",
    "  - Group of Policies\n",
    "  \n",
    "- Azure Resource Manager\n",
    "  \n",
    "- ABAC: Attribute Based Access Control\n",
    "  - User attributes\n",
    "  - Environmental attributes\n",
    "  - Resource attributes\n",
    "  - Boolean Operation\n",
    "- PBAC: Policy Base Access Control\n",
    "    - Azure Policy\n",
    "      - workflow\n",
    "        - Create\n",
    "        - Assign\n",
    "        - Evaluate\n",
    "        - Remediate"
   ]
  },
  {
   "cell_type": "markdown",
   "metadata": {},
   "source": [
    "##### Azure Security Center"
   ]
  },
  {
   "cell_type": "markdown",
   "metadata": {},
   "source": [
    "<img style=\"-webkit-user-select: none;margin: auto;cursor: zoom-in;\" src=\"Azure-Security-SecurityCenter.png\" width=\"750\" height=\"600\">"
   ]
  },
  {
   "cell_type": "markdown",
   "metadata": {},
   "source": [
    "### Operation and Management"
   ]
  },
  {
   "cell_type": "markdown",
   "metadata": {},
   "source": [
    "#### Charging"
   ]
  },
  {
   "cell_type": "markdown",
   "metadata": {},
   "source": [
    "- Azure Cost Management\n",
    "    - Account\n",
    "    - Cost Factors\n",
    "    - Billing Zone\n",
    "    - TCO Calculator"
   ]
  },
  {
   "cell_type": "markdown",
   "metadata": {},
   "source": [
    "#### Deployment, Configuration and Automation"
   ]
  },
  {
   "cell_type": "markdown",
   "metadata": {},
   "source": [
    "- Deploy\n",
    "    - ARM Template (Infra as Code)\n",
    "        - parameters\n",
    "        - variables\n",
    "        - resources\n",
    "        - outputs\n",
    "    - Powershell Script\n",
    "- Config Extensions\n",
    "    - Powershell DSC\n",
    "    - Custom Script Extension\n",
    "    - Puppet Extension\n",
    "- Automation\n",
    "    - Runbook"
   ]
  },
  {
   "cell_type": "markdown",
   "metadata": {},
   "source": [
    "#### Monitor and Visualize Metrics"
   ]
  },
  {
   "cell_type": "markdown",
   "metadata": {},
   "source": []
  },
  {
   "cell_type": "markdown",
   "metadata": {},
   "source": [
    "#### Query and Analyze Logs"
   ]
  },
  {
   "cell_type": "markdown",
   "metadata": {},
   "source": []
  },
  {
   "cell_type": "markdown",
   "metadata": {},
   "source": [
    "#### Setup and Alert Actions"
   ]
  },
  {
   "cell_type": "markdown",
   "metadata": {},
   "source": []
  },
  {
   "cell_type": "markdown",
   "metadata": {},
   "source": [
    "## DevOps"
   ]
  },
  {
   "cell_type": "markdown",
   "metadata": {},
   "source": [
    "### DevOps Tools"
   ]
  },
  {
   "cell_type": "markdown",
   "metadata": {},
   "source": [
    "- Azure Management Tools\n",
    "    - Azure Portal\n",
    "        - Azure Cloud Shell\n",
    "        - Azure Quickstart Template\n",
    "    - Azure CLI\n",
    "    - Azure PowerShell\n",
    "        - ` Install-Module -Name Az -AllowClobber -Scope CurrentUser `\n",
    "        - ` Connect-AzAccount `\n",
    "    - Azure REST API\n",
    "    - Azure Resource Manger Template\n",
    "    - Azure Advisor\n",
    "  \n",
    "- Other Tools\n",
    "    - Azure Storage Explorer\n",
    "\n"
   ]
  },
  {
   "cell_type": "markdown",
   "metadata": {},
   "source": [
    "### Design"
   ]
  },
  {
   "cell_type": "markdown",
   "metadata": {},
   "source": [
    "- Microservice\n",
    "  - Functional Decomposition\n",
    "  - Horizontal Scaling\n",
    "  - Data Decoupling\n",
    "  - Containerization\n",
    "- Serverless Computing\n",
    "  - Azure Functions\n",
    "  - Logic Apps\n",
    "    - Trigger-Action Paradigm\n",
    "- Data Services\n",
    "  - Event Grid\n",
    "      - Event Driven Message Service"
   ]
  },
  {
   "cell_type": "markdown",
   "metadata": {},
   "source": [
    "### Dev"
   ]
  },
  {
   "cell_type": "markdown",
   "metadata": {},
   "source": []
  },
  {
   "cell_type": "markdown",
   "metadata": {},
   "source": [
    "### Ops"
   ]
  },
  {
   "cell_type": "markdown",
   "metadata": {},
   "source": [
    "- VM"
   ]
  },
  {
   "cell_type": "markdown",
   "metadata": {},
   "source": [
    "## Data Science"
   ]
  },
  {
   "cell_type": "markdown",
   "metadata": {},
   "source": [
    "### Data Services"
   ]
  },
  {
   "cell_type": "markdown",
   "metadata": {},
   "source": [
    "<img style=\"-webkit-user-select: none;margin: auto;cursor: zoom-in;\" src=\"Azure-DS-DataView.png\" width=\"750\" height=\"600\">"
   ]
  },
  {
   "cell_type": "markdown",
   "metadata": {},
   "source": [
    "- Data Factory"
   ]
  },
  {
   "cell_type": "markdown",
   "metadata": {},
   "source": [
    "### Big Data"
   ]
  },
  {
   "cell_type": "markdown",
   "metadata": {},
   "source": [
    "<img style=\"-webkit-user-select: none;margin: auto;cursor: zoom-in;\" src=\"Azure-DS-BigDataView.png\" width=\"750\" height=\"600\">"
   ]
  },
  {
   "cell_type": "markdown",
   "metadata": {},
   "source": [
    "#### Flow"
   ]
  },
  {
   "cell_type": "markdown",
   "metadata": {},
   "source": [
    "- Data Explore\n",
    "  - Ingestion\n",
    "    - Data Pull\n",
    "    - Batching\n",
    "    - Validation\n",
    "    - Data Manipulation\n",
    "    - Committing\n",
    "  - Analysis\n",
    "    - Filtering\n",
    "    - Modeling\n",
    "    - Testing\n",
    "    - Updating\n",
    "- Data Store\n",
    "- Data Prepare and Training\n",
    "- Data Modeling and Serve\n",
    "- Data Visualization and Present"
   ]
  },
  {
   "cell_type": "markdown",
   "metadata": {},
   "source": [
    "### IoT"
   ]
  },
  {
   "cell_type": "markdown",
   "metadata": {},
   "source": [
    "<img style=\"-webkit-user-select: none;margin: auto;cursor: zoom-in;\" src=\"Azure-DS-IOTView.png\" width=\"750\" height=\"600\">"
   ]
  },
  {
   "cell_type": "markdown",
   "metadata": {},
   "source": [
    "## Terms"
   ]
  },
  {
   "cell_type": "markdown",
   "metadata": {},
   "source": [
    "- Availability\n",
    "  - Region\n",
    "    - Region Pair\n",
    "  - Zone\n",
    "  - Set\n",
    "  - Fault Domain\n",
    "  - Update Domain\n",
    "- Resource Group\n",
    "- SKU: Stock Keeping Unit\n",
    "  - Represents a purchasable Stock Keeping Unit (SKU) under a product. These represent the different shapes of the product.\n",
    "- DTU: Database Transaction Unit\n",
    "  - DTUs provide a way to describe the relative capacity of a performance level of Basic, Standard, and Premium databases. DTUs are based on a blended measure of CPU, memory, reads, and writes\n",
    "- TDS"
   ]
  },
  {
   "cell_type": "markdown",
   "metadata": {},
   "source": [
    "# END"
   ]
  }
 ],
 "metadata": {
  "kernelspec": {
   "display_name": "Python 3",
   "language": "python",
   "name": "python3"
  },
  "language_info": {
   "codemirror_mode": {
    "name": "ipython",
    "version": 3
   },
   "file_extension": ".py",
   "mimetype": "text/x-python",
   "name": "python",
   "nbconvert_exporter": "python",
   "pygments_lexer": "ipython3",
   "version": "3.7.6"
  },
  "toc": {
   "base_numbering": 1,
   "nav_menu": {},
   "number_sections": true,
   "sideBar": true,
   "skip_h1_title": false,
   "title_cell": "Table of Contents",
   "title_sidebar": "Contents",
   "toc_cell": false,
   "toc_position": {
    "height": "calc(100% - 180px)",
    "left": "10px",
    "top": "150px",
    "width": "235.625px"
   },
   "toc_section_display": true,
   "toc_window_display": true
  }
 },
 "nbformat": 4,
 "nbformat_minor": 2
}
