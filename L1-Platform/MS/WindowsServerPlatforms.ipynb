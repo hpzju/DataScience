{
 "cells": [
  {
   "cell_type": "markdown",
   "metadata": {},
   "source": [
    "# Introduction"
   ]
  },
  {
   "cell_type": "markdown",
   "metadata": {},
   "source": [
    "- Server Versioning\n",
    "  - Windows NT 4.0\n",
    "  - Windows Server 2000\n",
    "  - Windows Server 2003/R2\n",
    "  - Windows Server 2008/R2\n",
    "  - Windows Server 2012/R2\n",
    "  - Windows Server 2016\n",
    "  - Windows Server 2019"
   ]
  },
  {
   "cell_type": "markdown",
   "metadata": {},
   "source": [
    "- Certification\n",
    "  - Windows Server 2016\n",
    "    - MCSA: 70-740 Install, Storage, Compute\n",
    "    - MCSA: 70-741 Networking\n",
    "    - MCSA: 70-742 Identity"
   ]
  },
  {
   "cell_type": "markdown",
   "metadata": {},
   "source": [
    "# System Admin"
   ]
  },
  {
   "cell_type": "markdown",
   "metadata": {},
   "source": [
    "## Install, Config, Deployment and Update"
   ]
  },
  {
   "cell_type": "markdown",
   "metadata": {},
   "source": [
    "- SysInfo\n",
    "  - systeminfo"
   ]
  },
  {
   "cell_type": "markdown",
   "metadata": {},
   "source": [
    "- Hostname\n",
    "  - get-content env:computername\n",
    "  - Rename-Computer\n",
    "  - sconfig"
   ]
  },
  {
   "cell_type": "markdown",
   "metadata": {},
   "source": [
    "- Config Entries:\n",
    "  - CLI\n",
    "  - Windows Settings\n",
    "  - Control Panel\n",
    "  - Server Manager"
   ]
  },
  {
   "cell_type": "markdown",
   "metadata": {},
   "source": [
    "- Backup\n",
    "  - Windows Server Backup\n",
    "- Maintainance\n",
    "  - Shutdown\n",
    "    - shutdown /t 5\n",
    "  - Reboot\n",
    "    - shutdown /r /t 5\n",
    "  - Reboot with single user mode(Safe Mode)\n",
    "    - F8 stroke while rebooting\n",
    "  - Windows Updates\n",
    "  - Windows Patch(Hotfixes)"
   ]
  },
  {
   "cell_type": "markdown",
   "metadata": {},
   "source": [
    "- WSUS: Windows Server Update Service\n",
    "  - WSUS Server"
   ]
  },
  {
   "cell_type": "markdown",
   "metadata": {},
   "source": [
    "- WDS: Windows Deployment Service"
   ]
  },
  {
   "cell_type": "markdown",
   "metadata": {},
   "source": [
    "## Resources Management"
   ]
  },
  {
   "cell_type": "markdown",
   "metadata": {},
   "source": [
    "### User/Group Management"
   ]
  },
  {
   "cell_type": "markdown",
   "metadata": {},
   "source": [
    "- User Account Properties\n",
    "  - Account Types\n",
    "    - Local Account\n",
    "    - Domain Account\n",
    "  - Roles\n",
    "    - Administrator\n",
    "- Groups \n",
    "  - Roles\n",
    "    - Guests/Users/Power Users/Administrators  \n",
    "- Management Tasks\n",
    "  - Create/New\n",
    "  - Delete\n",
    "  - Disable"
   ]
  },
  {
   "cell_type": "markdown",
   "metadata": {},
   "source": [
    "### Hardware Management"
   ]
  },
  {
   "cell_type": "markdown",
   "metadata": {},
   "source": [
    "- Device Manager\n",
    "- Compute\n",
    "- Storage\n",
    "- Network\n",
    "- Peripherals"
   ]
  },
  {
   "cell_type": "markdown",
   "metadata": {},
   "source": [
    "### Job Management"
   ]
  },
  {
   "cell_type": "markdown",
   "metadata": {},
   "source": [
    "- Jobs\n",
    "  - Types\n",
    "    - Basic Task\n",
    "    - Task\n",
    "  - Triggers\n",
    "    - On-time\n",
    "    - On-trigger\n",
    "  - Actions\n",
    "  - Conditions"
   ]
  },
  {
   "cell_type": "markdown",
   "metadata": {},
   "source": [
    "- Management Tasks(Task Scheduler)\n",
    "  - Create"
   ]
  },
  {
   "cell_type": "markdown",
   "metadata": {},
   "source": [
    "### Log Management"
   ]
  },
  {
   "cell_type": "markdown",
   "metadata": {},
   "source": [
    "- Log Types\n",
    "  - Hardware Logs\n",
    "    - CPU\n",
    "    - Memory\n",
    "    - Disk\n",
    "    - Network\n",
    "  - OS Logs\n",
    "    - Setup Logs\n",
    "    - Security Logs\n",
    "  - Application Logs"
   ]
  },
  {
   "cell_type": "markdown",
   "metadata": {},
   "source": [
    "## Applicatiion Management"
   ]
  },
  {
   "cell_type": "markdown",
   "metadata": {},
   "source": [
    "- Software Stacking\n",
    "  - Package\n",
    "    - Application\n",
    "      - Program\n",
    "        - Service\n",
    "          - Daemon\n",
    "        - Process\n",
    "            - Thread"
   ]
  },
  {
   "cell_type": "markdown",
   "metadata": {},
   "source": [
    "- Management Tasks\n",
    "  - Install/Uninstall\n",
    "  - Update/Upgrade"
   ]
  },
  {
   "cell_type": "markdown",
   "metadata": {},
   "source": [
    "## PowerShell"
   ]
  },
  {
   "cell_type": "code",
   "execution_count": null,
   "metadata": {},
   "outputs": [],
   "source": []
  },
  {
   "cell_type": "markdown",
   "metadata": {
    "heading_collapsed": true
   },
   "source": [
    "# AD Service"
   ]
  },
  {
   "cell_type": "markdown",
   "metadata": {
    "hidden": true
   },
   "source": [
    "## AD DS"
   ]
  },
  {
   "cell_type": "markdown",
   "metadata": {
    "hidden": true
   },
   "source": [
    "- Domain Controller\n",
    "  - IT Resources Governance and Management Center\n",
    "    - Controls Services:\n",
    "      - Active Directory\n",
    "        - primary role of DC\n",
    "      - DNS\n",
    "      - DHCP\n",
    "      - Print Service\n",
    "      - Filesystem Replication Service\n",
    "      - Time Service\n",
    "    - Govern Policies"
   ]
  },
  {
   "cell_type": "markdown",
   "metadata": {
    "hidden": true
   },
   "source": [
    "- Active Directory\n",
    "  - uses DC to give network users access to permitted resources on the network through a single logon process\n",
    "  \n",
    "- Design\n",
    "  - Prerequisites\n",
    "    - DNS\n",
    "    - Static IP\n",
    "    - Domain Controler Name: corp.local\n",
    "    - NetBIOS Domain Name: corp\n",
    "  - Hierarchy\n",
    "    - Forest View: an assembly of AD domains that has a single schema for the AD\n",
    "      - Domain Controllers\n",
    "        - all DCs in the same forest are synchronized.\n",
    "      - Users\n",
    "      - Computers\n",
    "        - Allow Domain User To Add Computer to Domain\n",
    "          - Assign rights to the user/group using the Default Domain Group policy.\n",
    "          - Delegate rights to user using Active Directory Users and Computers.\n",
    "      - Containers\n",
    "        - OU: a container holds OUs, Users, Goups, Computers.\n",
    "          - OUs Mapping Organizational Structure in Enterprise\n",
    "          - Sub-OUs Mapping Function Units\n",
    "          - Groups Mapping Project/Team Units\n",
    "          - Users\n",
    "        - Object: manageable block like user, group, contact, computer, printer, shared folder\n",
    "          - Attributes: object has attributes to define and describle it.\n",
    "    - Sites View\n",
    "      - DCs mapping Geo-locations in the same forest.\n",
    "   - Group Policy\n",
    "     - define user, networking, security policies at computer level\n",
    "     - configure user, computer, group policies\n",
    "     - Types:\n",
    "       - local group policy\n",
    "       - domain group policy\n",
    "   - Trust Model\n",
    "     - Forest Trusts\n",
    "     - Domain Controller Trusts\n",
    "   - SYSVOL\n",
    "     - all domain's public files are replicated to all DC servers.\n",
    "   - AD DB\n",
    "     - C:\\Windows\\ntds \n",
    "     \n",
    " - Implementation\n",
    " \n",
    " - Mangement and Operation\n",
    "   - ADAC: AD Administrative Center\n",
    "   - AD Domain and Trust Console\n",
    "   - AD Module for PowerShell\n",
    "   - AD Management Gateway Service\n",
    "   - AD Site and Services\n",
    "   - AD Group Policy Management\n"
   ]
  },
  {
   "cell_type": "markdown",
   "metadata": {
    "hidden": true
   },
   "source": [
    "## AD CS"
   ]
  },
  {
   "cell_type": "markdown",
   "metadata": {
    "hidden": true
   },
   "source": [
    "## AD FS"
   ]
  },
  {
   "cell_type": "markdown",
   "metadata": {
    "heading_collapsed": true,
    "hidden": true
   },
   "source": [
    "## GPO/GPM"
   ]
  },
  {
   "cell_type": "markdown",
   "metadata": {
    "hidden": true
   },
   "source": [
    "- GPO\n",
    "  - GPC: container in AD DS\n",
    "  - GPT: templates in SYSVOL folder\n",
    "- Attributes\n",
    "  - GPO Precedence\n",
    "  - GPO Inheritance\n",
    "- Actions\n",
    "  - GPO Link\n",
    "  - GOP Security Filtering\n",
    "    - Windows Management Instrumentation WMI Query\n",
    "  - New/Copy\n",
    "  - Edit\n",
    "  - Set\n",
    "  - Backup/Restore\n",
    "  - Export/Import"
   ]
  },
  {
   "cell_type": "markdown",
   "metadata": {
    "heading_collapsed": true
   },
   "source": [
    "# File Service"
   ]
  },
  {
   "cell_type": "markdown",
   "metadata": {
    "hidden": true
   },
   "source": [
    "## FTP Service"
   ]
  },
  {
   "cell_type": "markdown",
   "metadata": {
    "hidden": true
   },
   "source": [
    "## NFS Service"
   ]
  },
  {
   "cell_type": "markdown",
   "metadata": {
    "hidden": true
   },
   "source": [
    "## Samba Service"
   ]
  },
  {
   "cell_type": "markdown",
   "metadata": {
    "heading_collapsed": true
   },
   "source": [
    "# Web Service"
   ]
  },
  {
   "cell_type": "markdown",
   "metadata": {
    "hidden": true
   },
   "source": [
    "- IIS(Internet Information Service)"
   ]
  },
  {
   "cell_type": "markdown",
   "metadata": {},
   "source": [
    "# Networking and Network Service"
   ]
  },
  {
   "cell_type": "markdown",
   "metadata": {},
   "source": [
    "## Networking"
   ]
  },
  {
   "cell_type": "markdown",
   "metadata": {},
   "source": [
    "- NIC\n",
    "  - NIC Teaming\n",
    "    - Mode\n",
    "      - Static Teaming\n",
    "      - Switch Independent\n",
    "      - LACP\n",
    "    - LB Mode\n",
    "      - Address Hash\n",
    "      - Hyper-V port\n",
    "      - Dynamic   \n",
    "- Firewall\n",
    "- NAT\n",
    "- VPN\n",
    "- IPAM: IP Address Management\n",
    "  - Manage DNS\n",
    "  - Manage DHCP\n",
    "  - Manage Hosts' IP\n",
    "- Management Tasks\n",
    "  - ipconfig"
   ]
  },
  {
   "cell_type": "markdown",
   "metadata": {},
   "source": [
    "## DNS Service"
   ]
  },
  {
   "cell_type": "markdown",
   "metadata": {},
   "source": [
    "- Domain Name Server\n",
    "  - Foward Zoon: Hostname to IP address\n",
    "  - Reverse Zoon: IP Address to Hostname\n",
    "  - CNAME: Hostname to Hostname Alias\n",
    "- DNS Properties\n",
    "  - Fowarders: forward unresolved query\n",
    "    - Conditional Fowarder\n",
    "  - Root Hints\n",
    "- DNS Zone\n",
    "  - dns records container\n",
    "  - types\n",
    "    - Primary Zone with Read and Write\n",
    "    - Secondary Zone with Readonly\n",
    "      - allow zone transfer from master\n",
    "    - Stub Zone\n",
    "- DNS Query\n",
    "  - Tree Topology\n",
    "  - Recursive and Iterative\n",
    "- DNS Delegation\n",
    "  - subdomain lookup\n",
    "- DNS Policy\n",
    "  - DNS Server Policy\n",
    "    - Allow in Specific Interface\n",
    "    - Disable Recursion\n",
    "  - Security\n",
    "    - Digital Signature\n",
    "      - Trust Anchor\n",
    "    - Name Resolution Policy(GPO)\n",
    "  - Load Balance\n",
    "  - Response Rate Limits\n",
    "  - Cache Locking and Socket Pooling\n",
    "  - Client Address Controlled Requests\n",
    "  - Time-based Controlled Requests\n",
    "  - Logging\n",
    "- DNS Records\n",
    "  - Types\n",
    "    - A(IPv4)\n",
    "    - AAAA(IPv6)\n",
    "    - NS(name of an authoritative Name Server)\n",
    "    - PTR(reverse)\n",
    "    - CNAME(alias)\n",
    "    - MX(mail exchange)\n",
    "    - SRV(Service, Protocol, Priority, Weight, TTL, Name)\n",
    "    - TXT(text record)\n",
    "    - SOA(start of Authority)\n",
    "- Management Tasks\n",
    "  - Add-WindowsFeatures DNS -IncludeManagementTools\n",
    "  - Show-DnsServerCache / Clear-DnsServerCache / Clear-DnsClientCache\n",
    "  - Add-DnsServerFowarder 8.8.8.8\n",
    "    - Remove-DnsServerFowarder 8.8.8.8\n",
    "  - Add-DnsConditioinalFowarderZone TARGET.com 8.8.8.4  \n",
    "  - Add-DnsServerRootHint ROOTHINT.com 8.8.8.4\n",
    "  - nslookup URL/HOSTNAME / Resolve-DnsName HOSTNAME\n",
    "    - nslookup -type=AAAA www.microsoft.com\n",
    "  - ipconfig \n",
    "    - ipconfig /displaydns\n",
    "    - ipconfig /flushdns\n",
    "  - Replicate Zones\n",
    "  "
   ]
  },
  {
   "cell_type": "markdown",
   "metadata": {},
   "source": [
    "## DHCP Service"
   ]
  },
  {
   "cell_type": "markdown",
   "metadata": {},
   "source": [
    "- DHCP\n",
    "  - DORA workflow\n",
    "    - Client Discover\n",
    "    - Server Offer\n",
    "    - Client Request\n",
    "    - Server Ack\n",
    "  - DHCP Scopes\n",
    "    - DNS\n",
    "    - Default Gateway\n",
    "    - IP Range\n",
    "    - Reservation\n",
    "      - Server/Scope/Reservation \n",
    "    - DHCP Split Scope\n",
    "  - Option\n",
    "  - Policy\n",
    "  - MAC Filter\n",
    "  - Failover\n",
    "  - Backup\n",
    "- DHCP Relay\n",
    "  - Relay Agent\n",
    "    - Routing and Remote Access Service"
   ]
  },
  {
   "cell_type": "markdown",
   "metadata": {},
   "source": [
    "## NTP Service"
   ]
  },
  {
   "cell_type": "markdown",
   "metadata": {},
   "source": [
    "- Management Tasks\n",
    "  - w32tm /config /manualpeerlist:pool.ntp.org /syncfromflags:MANUAL\n",
    "  - Stop-Service w32time\n",
    "  - Start-Service w32time\n",
    "  - w32tm /resync\n",
    "  - w32tm /query /status"
   ]
  }
 ],
 "metadata": {
  "kernelspec": {
   "display_name": "Python 3",
   "language": "python",
   "name": "python3"
  },
  "language_info": {
   "codemirror_mode": {
    "name": "ipython",
    "version": 3
   },
   "file_extension": ".py",
   "mimetype": "text/x-python",
   "name": "python",
   "nbconvert_exporter": "python",
   "pygments_lexer": "ipython3",
   "version": "3.7.5"
  },
  "toc": {
   "base_numbering": 1,
   "nav_menu": {},
   "number_sections": true,
   "sideBar": true,
   "skip_h1_title": false,
   "title_cell": "Table of Contents",
   "title_sidebar": "Contents",
   "toc_cell": false,
   "toc_position": {},
   "toc_section_display": true,
   "toc_window_display": true
  }
 },
 "nbformat": 4,
 "nbformat_minor": 2
}
