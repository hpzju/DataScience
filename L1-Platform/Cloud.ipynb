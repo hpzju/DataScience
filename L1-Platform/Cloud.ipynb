{
 "cells": [
  {
   "cell_type": "markdown",
   "metadata": {},
   "source": [
    "# Cloud Computingm"
   ]
  },
  {
   "cell_type": "markdown",
   "metadata": {},
   "source": [
    "## NIST Cloud Computing Definition"
   ]
  },
  {
   "cell_type": "markdown",
   "metadata": {},
   "source": [
    "- Definition\n",
    "    - Cloud computing is a model for enabling ubiquitous, convenient, on-demand network access to a shared pool of configurable computing resources (e.g., networks, servers, storage, applications, and services) that can be rapidly provisioned and released with minimal management effort or service provider interaction. \n",
    "- Cloud Model\n",
    "    - 5 essential characteristics\n",
    "        - On-demand self-service\n",
    "        - Broad network access\n",
    "        - Resource pooling\n",
    "        - Rapid elasticity\n",
    "        - Measured service\n",
    "    - 3 service models\n",
    "        - SaaS\n",
    "        - PaaS\n",
    "        - IaaS\n",
    "        - On-Premise\n",
    "        - IT Stack\n",
    "            - Application\n",
    "            - Data\n",
    "            - Runtime\n",
    "            - Middleware\n",
    "            - OS\n",
    "            - Virtualization\n",
    "            - Compute\n",
    "            - Storage\n",
    "            - Networking\n",
    "            - Facility\n",
    "    - 4 deployment models\n",
    "      - Priavte Cloud\n",
    "          - Single Tenant Implementation\n",
    "      - Community Cloud\n",
    "      - Hybrid Cloud\n",
    "      - Public Cloud \n",
    "          - Multi-Tenant Implementation\n",
    "          - Ownership: Service Provider\n",
    "          - Access: Via Internet"
   ]
  },
  {
   "cell_type": "markdown",
   "metadata": {},
   "source": [
    "- <img style=\"-webkit-user-select: none;margin: auto;cursor: zoom-in;\" src=\"Cloud-NIST-SP800-145.png\" width=\"600\" height=\"600\">"
   ]
  },
  {
   "cell_type": "markdown",
   "metadata": {},
   "source": [
    "- <img style=\"-webkit-user-select: none;margin: auto;cursor: zoom-in;\" src=\"Cloud-IT-Stack.png\" width=\"600\" height=\"600\">"
   ]
  },
  {
   "cell_type": "markdown",
   "metadata": {},
   "source": [
    "## Business View"
   ]
  },
  {
   "cell_type": "markdown",
   "metadata": {},
   "source": [
    "- Advantages of Cloud Computing\n",
    "    - Capex shifts to Opex\n",
    "    - Benefits from massive economies of scale\n",
    "    - Stop guessing capacity/Provisioning on-demand\n",
    "    - Increse speed of deployment and business agility\n",
    "    - Stop spending on running and maintianing data centers\n",
    "    - Go globally in minutes\n",
    "- User Case/Benifits of Cloud Computing\n",
    "  - Cost\n",
    "  - Business Agile\n",
    "  - Reliability\n",
    "  - Security\n",
    "  \n",
    "- Features/Functions\n",
    "  - Elasticity\n",
    "  - Scalability\n",
    "    - Scale Out\n",
    "    - Scale Up\n",
    "  - Agility\n",
    "  - Availability\n",
    "    - HA\n",
    "    - FT\n",
    "    - DR\n",
    "  - Security\n",
    "  - Manageability\n",
    "- Cloud Economics\n",
    "  - Economies of Scale\n",
    "  - CAPEX vs OPEX\n",
    "    - Cost Effectiveness\n",
    "  - Consumption Based Model"
   ]
  },
  {
   "cell_type": "markdown",
   "metadata": {},
   "source": [
    "## Provider View"
   ]
  },
  {
   "cell_type": "markdown",
   "metadata": {},
   "source": [
    "- <img style=\"-webkit-user-select: none;margin: auto;cursor: zoom-in;\" src=\"Cloud-Views-CSP.png\" width=\"600\" height=\"600\">"
   ]
  },
  {
   "cell_type": "markdown",
   "metadata": {
    "heading_collapsed": true
   },
   "source": [
    "# AWS"
   ]
  },
  {
   "cell_type": "markdown",
   "metadata": {},
   "source": [
    "# Azure"
   ]
  },
  {
   "cell_type": "markdown",
   "metadata": {},
   "source": [
    "# OpenStack"
   ]
  },
  {
   "cell_type": "markdown",
   "metadata": {},
   "source": [
    "# VMware"
   ]
  },
  {
   "cell_type": "code",
   "execution_count": null,
   "metadata": {},
   "outputs": [],
   "source": []
  },
  {
   "cell_type": "code",
   "execution_count": null,
   "metadata": {},
   "outputs": [],
   "source": []
  }
 ],
 "metadata": {
  "kernelspec": {
   "display_name": "Python 3",
   "language": "python",
   "name": "python3"
  },
  "language_info": {
   "codemirror_mode": {
    "name": "ipython",
    "version": 3
   },
   "file_extension": ".py",
   "mimetype": "text/x-python",
   "name": "python",
   "nbconvert_exporter": "python",
   "pygments_lexer": "ipython3",
   "version": "3.7.7"
  },
  "toc": {
   "base_numbering": 1,
   "nav_menu": {},
   "number_sections": true,
   "sideBar": true,
   "skip_h1_title": false,
   "title_cell": "Table of Contents",
   "title_sidebar": "Contents",
   "toc_cell": false,
   "toc_position": {
    "height": "calc(100% - 180px)",
    "left": "10px",
    "top": "150px",
    "width": "235.625px"
   },
   "toc_section_display": true,
   "toc_window_display": true
  }
 },
 "nbformat": 4,
 "nbformat_minor": 2
}
