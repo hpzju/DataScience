{
 "cells": [
  {
   "cell_type": "markdown",
   "metadata": {},
   "source": [
    "# Raw Cell"
   ]
  },
  {
   "cell_type": "raw",
   "metadata": {},
   "source": [
    "\\documentclass{article}\n",
    "\\begin{document}\n",
    "This is\n",
    "one paragraph.\n",
    "This is another.\n",
    "\n",
    "\\begin{tabular}{lcc}\n",
    "  galaxy & magnitude & redshift \\\\\n",
    "  NGC 891 & 15.5 & 0.02 \\\\\n",
    "  M87 & 14.8 & 0.01\t\t\t\n",
    "  \\end{tabular}\n",
    "  \n",
    "\\end{document}"
   ]
  },
  {
   "cell_type": "markdown",
   "metadata": {},
   "source": [
    "# SQLite3"
   ]
  },
  {
   "cell_type": "code",
   "execution_count": 14,
   "metadata": {},
   "outputs": [
    {
     "name": "stdout",
     "output_type": "stream",
     "text": [
      "C:\\Users\\hpzju\\Desktop\\MyKB\\DataScience\n",
      "['.ipynb_checkpoints', 'data', 'DataPersistence.ipynb']\n",
      "['.ipynb_checkpoints', 'data', 'DataPersistence.ipynb']\n"
     ]
    }
   ],
   "source": [
    "import os\n",
    "\n",
    "dataPath = r\"./data/\"\n",
    "\n",
    "print(os.getcwd())\n",
    "print(os.listdir())\n",
    "if not os.access(dataPath, os.R_OK):\n",
    "    os.mkdir(dataPath)\n",
    "print(os.listdir())"
   ]
  },
  {
   "cell_type": "markdown",
   "metadata": {},
   "source": [
    "## SQLite Syntax\n",
    "\n",
    "### Datatypes\n",
    "\n",
    "- dynamic typing\n",
    "- system types\n",
    "    - NULL\n",
    "    - INTEGER\n",
    "    - REAL\n",
    "    - TEXT\n",
    "    - BLOB\n",
    "    \n",
    "### Documentation\n",
    "\n",
    "- https://www.sqlite.org/syntaxdiagrams.html\n",
    "- https://www.sqlite.org/lang.html\n",
    "- https://www.sqlite.org/lang_corefunc.html"
   ]
  },
  {
   "cell_type": "markdown",
   "metadata": {},
   "source": [
    "## SQLite CRUD\n",
    "\n",
    "### Create\n",
    "\n",
    "- create table TABLENAME(col1 TYPE, col2 TYPE....)\n",
    "\n",
    "### Read\n",
    "\n",
    "        select [all | distinct] \n",
    "          COLNAME from [TABLENAME | SUBQUERY | JOINCLAUSE] \n",
    "          where EXPR\n",
    "          group by EXPR\n",
    "          having EXPR\n",
    "          order by EXPR\n",
    "          limit EXPR\n",
    "\n",
    "### Update\n",
    "\n",
    "- alter table TABLEANME rename to NEWTABLENAME\n",
    "- alter table TABLEANME rename column COLNAME to NEWCOLNAME\n",
    "- alter table TABLEANME add column COLDEF\n",
    "\n",
    "        update TABLEANME \n",
    "          set COL = EXPR \n",
    "          where EXPR \n",
    "          \n",
    "        insert into TABLENAME COLS() values()  \n",
    "          where EXPR\n",
    "\n",
    "### Delete\n",
    "\n",
    "- drop table if exists TABLEANME\n",
    "\n",
    "- delete from TABLEANME where EXPR"
   ]
  },
  {
   "cell_type": "code",
   "execution_count": 31,
   "metadata": {},
   "outputs": [
    {
     "name": "stdout",
     "output_type": "stream",
     "text": [
      "get row <sqlite3.Cursor object at 0x000001C5EE4D0880>\n",
      "('Tim', '13984739842', 'test@google.com')\n",
      "('Brain', '139847332343', 'brains@google.com')\n",
      "('Brain', '139847332343', 'brains@google.com')\n"
     ]
    }
   ],
   "source": [
    "import sqlite3\n",
    "\n",
    "db = sqlite3.connect(dataPath+'example.db')\n",
    "db.execute(\"CREATE TABLE IF NOT EXISTS contacts(name, phone, email)\")\n",
    "db.execute(\"INSERT INTO contacts(name, phone, email) VALUES('Tim', '13984739842', 'test@google.com')\")\n",
    "db.execute(\"INSERT INTO contacts VALUES('Brain', '139847332343', 'brains@google.com')\")\n",
    "db.execute(\"INSERT INTO contacts VALUES('Brain', '139847332343', 'brains@google.com')\")\n",
    "\n",
    "cursor = db.cursor()\n",
    "cursor.execute(\"SELECT * FROM contacts\")\n",
    "print(\"get row\", cursor )\n",
    "for row in cursor:\n",
    "    print(row)\n",
    "    \n",
    "cursor.close()  \n",
    "\n",
    "db.commit()\n",
    "db.close()"
   ]
  },
  {
   "cell_type": "code",
   "execution_count": 36,
   "metadata": {},
   "outputs": [
    {
     "name": "stdout",
     "output_type": "stream",
     "text": [
      "name: Tim\n",
      "  mobile: 13984739842\n",
      "  email: test@google.com\n",
      "name: Brain\n",
      "  mobile: 139847332343\n",
      "  email: brains@google.com\n",
      "name: Brain\n",
      "  mobile: 139847332343\n",
      "  email: brains@google.com\n"
     ]
    }
   ],
   "source": [
    "import sqlite3\n",
    "\n",
    "db = sqlite3.connect(dataPath+'example.db')\n",
    "cursor = db.cursor()\n",
    "cursor.execute(\"SELECT * FROM contacts\")\n",
    "\n",
    "for row in cursor:\n",
    "    print(\"name: {0}\\n  mobile: {1}\\n  email: {2}\".format(*row))\n",
    "    \n",
    "cursor.close()\n",
    "db.close()"
   ]
  }
 ],
 "metadata": {
  "hide_input": false,
  "kernelspec": {
   "display_name": "Python 3",
   "language": "python",
   "name": "python3"
  },
  "language_info": {
   "codemirror_mode": {
    "name": "ipython",
    "version": 3
   },
   "file_extension": ".py",
   "mimetype": "text/x-python",
   "name": "python",
   "nbconvert_exporter": "python",
   "pygments_lexer": "ipython3",
   "version": "3.6.9"
  },
  "latex_envs": {
   "LaTeX_envs_menu_present": true,
   "autoclose": false,
   "autocomplete": true,
   "bibliofile": "biblio.bib",
   "cite_by": "apalike",
   "current_citInitial": 1,
   "eqLabelWithNumbers": true,
   "eqNumInitial": 1,
   "hotkeys": {
    "equation": "Ctrl-E",
    "itemize": "Ctrl-I"
   },
   "labels_anchors": false,
   "latex_user_defs": false,
   "report_style_numbering": false,
   "user_envs_cfg": false
  },
  "toc": {
   "base_numbering": 1,
   "nav_menu": {},
   "number_sections": false,
   "sideBar": true,
   "skip_h1_title": false,
   "title_cell": "Table of Contents",
   "title_sidebar": "Contents",
   "toc_cell": false,
   "toc_position": {},
   "toc_section_display": true,
   "toc_window_display": true
  }
 },
 "nbformat": 4,
 "nbformat_minor": 2
}
