{
 "cells": [
  {
   "cell_type": "code",
   "execution_count": 2,
   "metadata": {},
   "outputs": [],
   "source": [
    "from inspect import signature"
   ]
  },
  {
   "cell_type": "code",
   "execution_count": 3,
   "metadata": {},
   "outputs": [
    {
     "data": {
      "text/plain": [
       "<Signature (n)>"
      ]
     },
     "execution_count": 3,
     "metadata": {},
     "output_type": "execute_result"
    }
   ],
   "source": [
    "def range2listN(n):\n",
    "    l = [i for i in range(n)]\n",
    "    return l\n",
    "\n",
    "signature(range2listN)"
   ]
  },
  {
   "cell_type": "code",
   "execution_count": 18,
   "metadata": {},
   "outputs": [],
   "source": [
    "import sys, os\n",
    "import string\n",
    "from collections import defaultdict"
   ]
  },
  {
   "cell_type": "code",
   "execution_count": 15,
   "metadata": {},
   "outputs": [],
   "source": [
    "data_root = 'data'\n",
    "file = 'words.txt'\n",
    "filename = os.path.join(data_root, file)\n",
    "fullname = os.path.abspath(filename)\n",
    "statistics = defaultdict(lambda: 0)"
   ]
  },
  {
   "cell_type": "code",
   "execution_count": 20,
   "metadata": {},
   "outputs": [
    {
     "name": "stdout",
     "output_type": "stream",
     "text": [
      "a: 274328\n",
      "b: 71192\n",
      "c: 137148\n",
      "d: 138208\n",
      "e: 427032\n",
      "f: 50856\n",
      "g: 111392\n",
      "h: 80800\n",
      "i: 309648\n",
      "j: 7120\n",
      "k: 37480\n",
      "l: 188044\n",
      "m: 98964\n",
      "n: 242052\n",
      "o: 218168\n",
      "p: 103156\n",
      "q: 6528\n",
      "r: 259860\n",
      "s: 346188\n",
      "t: 228236\n",
      "u: 124644\n",
      "v: 36744\n",
      "w: 34140\n",
      "x: 10800\n",
      "y: 53892\n",
      "z: 15000\n"
     ]
    }
   ],
   "source": [
    "with open(filename) as fo:\n",
    "    for line in fo.readlines():\n",
    "        for char in line:\n",
    "            statistics[char]+=1\n",
    "for key in string.ascii_lowercase:\n",
    "    print(f\"{key}: {statistics[key]}\")"
   ]
  },
  {
   "cell_type": "code",
   "execution_count": null,
   "metadata": {},
   "outputs": [],
   "source": []
  }
 ],
 "metadata": {
  "kernelspec": {
   "display_name": "Python 3",
   "language": "python",
   "name": "python3"
  },
  "language_info": {
   "codemirror_mode": {
    "name": "ipython",
    "version": 3
   },
   "file_extension": ".py",
   "mimetype": "text/x-python",
   "name": "python",
   "nbconvert_exporter": "python",
   "pygments_lexer": "ipython3",
   "version": "3.6.9"
  },
  "toc": {
   "base_numbering": 1,
   "nav_menu": {},
   "number_sections": false,
   "sideBar": true,
   "skip_h1_title": false,
   "title_cell": "Table of Contents",
   "title_sidebar": "Contents",
   "toc_cell": false,
   "toc_position": {},
   "toc_section_display": true,
   "toc_window_display": true
  }
 },
 "nbformat": 4,
 "nbformat_minor": 2
}
