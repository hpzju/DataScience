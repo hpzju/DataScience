{
 "cells": [
  {
   "cell_type": "code",
   "execution_count": 11,
   "metadata": {},
   "outputs": [
    {
     "name": "stdout",
     "output_type": "stream",
     "text": [
      "find, reporting for duty\n",
      "{'_id': ObjectId('589cbda9c0b9fec62febf274'), 'title': 'Deadpool', 'year': 2016, 'rated': 'R'}\n"
     ]
    }
   ],
   "source": [
    "import pymongo\n",
    "import sys\n",
    "\n",
    "# establish a connection to the database\n",
    "client = pymongo.MongoClient(\"mongodb://localhost\")\n",
    "\n",
    "# get a handle to the school database\n",
    "db = client.mydb\n",
    "movies = db.movies\n",
    "\n",
    "def find():\n",
    "\n",
    "    print(\"find, reporting for duty\")\n",
    "\n",
    "    query = {'title': \"Deadpool\"}\n",
    "    selector = {'title': 1, 'year': 1, 'rated': 1}\n",
    "\n",
    "    try:\n",
    "        cursor = movies.find(query, selector).skip(0).limit(10)\n",
    "    except:\n",
    "        print(\"Unexpected error:\", sys.exc_info()[0])\n",
    "\n",
    "    for doc in cursor:\n",
    "        print(doc)\n",
    "\n",
    "find()"
   ]
  }
 ],
 "metadata": {
  "kernelspec": {
   "display_name": "Python 3",
   "language": "python",
   "name": "python3"
  },
  "language_info": {
   "codemirror_mode": {
    "name": "ipython",
    "version": 3
   },
   "file_extension": ".py",
   "mimetype": "text/x-python",
   "name": "python",
   "nbconvert_exporter": "python",
   "pygments_lexer": "ipython3",
   "version": "3.6.8"
  }
 },
 "nbformat": 4,
 "nbformat_minor": 2
}
