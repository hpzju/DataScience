{
 "cells": [
  {
   "cell_type": "markdown",
   "metadata": {},
   "source": [
    "# MySQL Intro"
   ]
  },
  {
   "cell_type": "markdown",
   "metadata": {},
   "source": [
    "## Building Blocks"
   ]
  },
  {
   "cell_type": "markdown",
   "metadata": {},
   "source": [
    "- Database\n",
    "    - a collection of tables, views, functions, triggers, procedures... are organized for esay access, manipulate, manage"
   ]
  },
  {
   "cell_type": "markdown",
   "metadata": {},
   "source": [
    "- Schema\n",
    "  - schema is an abstraction layer above database, in order to provider better control of resources in database, like RBAC, privilege management\n",
    "  - DCL: `REVOKE; GRANT`\n",
    "    - `CREATE USER 'newuser'@'localhost' IDENTIFIED BY 'password';`\n",
    "    - `GRANT ALL PRIVILEGES ON *.* TO 'username'@'localhost' IDENTIFIED BY 'password';`"
   ]
  },
  {
   "cell_type": "markdown",
   "metadata": {},
   "source": [
    "- Table\n",
    "  - a row of data sets, properties defined with columns, relationships with other tables defined ny schema.\n",
    "  - DDL: `CREATE, ALTER, RENAME, DROP, TRUNCATE`\n",
    "  - DML: `UPDATE, DELETE, INSERT`\n",
    "  - DQL: `SELECT, SHOW, HELP`\n",
    "  - TCL/DTL: `START TRANSACTION, SAVEPOINT, COMMIT, ROLLBACK`"
   ]
  },
  {
   "cell_type": "markdown",
   "metadata": {},
   "source": [
    "- View"
   ]
  },
  {
   "cell_type": "markdown",
   "metadata": {},
   "source": [
    "- Column/Field\n",
    "  - a property/attribute to describe datum.\n",
    "  - typed, constrained, keyed, validated, defaulted..."
   ]
  },
  {
   "cell_type": "markdown",
   "metadata": {},
   "source": [
    "- Row/Record\n",
    "  - a collection of selected \n",
    "  - a subset of tables\n",
    "  - business logical, RDB design principle, and performance constrained"
   ]
  },
  {
   "cell_type": "markdown",
   "metadata": {},
   "source": [
    "- Function"
   ]
  },
  {
   "cell_type": "markdown",
   "metadata": {},
   "source": [
    "- Stored Procedure"
   ]
  },
  {
   "cell_type": "markdown",
   "metadata": {},
   "source": [
    "# Hands-on"
   ]
  },
  {
   "cell_type": "markdown",
   "metadata": {},
   "source": [
    "## Setup Envs"
   ]
  },
  {
   "cell_type": "markdown",
   "metadata": {
    "heading_collapsed": true
   },
   "source": [
    "### Config "
   ]
  },
  {
   "cell_type": "code",
   "execution_count": 14,
   "metadata": {
    "hidden": true
   },
   "outputs": [],
   "source": [
    "import mysql.connector\n",
    "from mysql.connector import Error\n",
    "from datetime import datetime\n",
    "import logging\n",
    "g_dbconfig = {\n",
    "  'user': 'root',\n",
    "  'password': 'root@MYSQL',\n",
    "  'host': '127.0.0.1',\n",
    "  'database': 'pymysql',\n",
    "  'raise_on_warnings': True\n",
    "}\n",
    "# logging.basicConfig(filename='MySQLDB.log', filemode='w',\n",
    "#                     level=logging.DEBUG,\n",
    "#                     format='%(asctime)s-%(levelname)s- %(process)d: %(message)s')"
   ]
  },
  {
   "cell_type": "code",
   "execution_count": 15,
   "metadata": {
    "hidden": true
   },
   "outputs": [],
   "source": [
    "def logger(*arg, **kwargs):\n",
    "    pass\n",
    "#     print(*arg, **kwargs)"
   ]
  },
  {
   "cell_type": "code",
   "execution_count": 16,
   "metadata": {
    "hidden": true,
    "scrolled": true
   },
   "outputs": [],
   "source": [
    "class MySQLDB(object):\n",
    "    \"\"\"\n",
    "    MySQL Connector/Python Wrapper\n",
    "    \"\"\"\n",
    "    _connection = None\n",
    "    _instance = None\n",
    "    _config = None\n",
    "\n",
    "    @classmethod\n",
    "    def __new__(cls, *args, **kwargs):\n",
    "        if not cls._instance:\n",
    "            cls._instance = object.__new__(cls)\n",
    "            logger(f\"new obj: {cls._instance}\")\n",
    "        return cls._instance\n",
    "    \n",
    "    def __init__(self, *args, **kwargs):\n",
    "        g_dbconfig.update(kwargs)\n",
    "        self._config = g_dbconfig\n",
    "        logger(f\"init with: {self._config}\")\n",
    "\n",
    "    def __enter__(self):\n",
    "        logger(f\"__enter__:\")\n",
    "        if self._connection is None:\n",
    "            try:\n",
    "                self._connection = mysql.connector.connect(**self._config)\n",
    "\n",
    "                if self._connection.is_connected():\n",
    "                    server_info = self._connection.get_server_info()\n",
    "                    logger(f\"Connected to MySQL database, version: {server_info}\")\n",
    "\n",
    "                    cursor = self._connection.cursor()\n",
    "                    cursor.execute(\"select database();\")\n",
    "                    db_info = cursor.fetchone()\n",
    "                    logger(f\"You connected to DB: {db_info}  \")\n",
    "\n",
    "            except Error as err:\n",
    "                logging.critical(\"Error while connecting to MySQL: \", err)\n",
    "                logging.critical(\"exited......\")\n",
    "        logger(f\"enter end...\")\n",
    "        return self._connection\n",
    "\n",
    "    def __exit__(self, exc_type, exc_val, exc_tb):\n",
    "        logger(f\"__exit__:\")\n",
    "        if self._connection.is_connected():\n",
    "            self._connection.cursor().close()\n",
    "            self._connection.close()\n",
    "            self._connection = None\n",
    "            logger(\"MySQL connection is closed\")\n",
    "        logger(f\"exit end...\")"
   ]
  },
  {
   "cell_type": "markdown",
   "metadata": {},
   "source": [
    "### Example"
   ]
  },
  {
   "cell_type": "code",
   "execution_count": 19,
   "metadata": {},
   "outputs": [
    {
     "name": "stdout",
     "output_type": "stream",
     "text": [
      "('test',)\n"
     ]
    }
   ],
   "source": [
    "with MySQLDB() as db:\n",
    "    cursor = db.cursor()\n",
    "    cursor.execute(\"SHOW TABLES;\")\n",
    "    for table in cursor:\n",
    "        print(table)"
   ]
  },
  {
   "cell_type": "code",
   "execution_count": 15,
   "metadata": {},
   "outputs": [],
   "source": []
  },
  {
   "cell_type": "code",
   "execution_count": null,
   "metadata": {},
   "outputs": [],
   "source": []
  }
 ],
 "metadata": {
  "hide_input": false,
  "kernelspec": {
   "display_name": "Python 3",
   "language": "python",
   "name": "python3"
  },
  "language_info": {
   "codemirror_mode": {
    "name": "ipython",
    "version": 3
   },
   "file_extension": ".py",
   "mimetype": "text/x-python",
   "name": "python",
   "nbconvert_exporter": "python",
   "pygments_lexer": "ipython3",
   "version": "3.6.9"
  },
  "toc": {
   "base_numbering": 1,
   "nav_menu": {},
   "number_sections": false,
   "sideBar": true,
   "skip_h1_title": false,
   "title_cell": "Table of Contents",
   "title_sidebar": "Contents",
   "toc_cell": false,
   "toc_position": {},
   "toc_section_display": true,
   "toc_window_display": true
  }
 },
 "nbformat": 4,
 "nbformat_minor": 2
}
