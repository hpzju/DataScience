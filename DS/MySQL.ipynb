{
 "cells": [
  {
   "cell_type": "code",
   "execution_count": 1,
   "metadata": {},
   "outputs": [
    {
     "data": {
      "text/plain": [
       "True"
      ]
     },
     "execution_count": 1,
     "metadata": {},
     "output_type": "execute_result"
    }
   ],
   "source": [
    "None is None"
   ]
  },
  {
   "cell_type": "code",
   "execution_count": 16,
   "metadata": {},
   "outputs": [
    {
     "name": "stdout",
     "output_type": "stream",
     "text": [
      "('actor',)\n",
      "('actor_info',)\n",
      "('address',)\n",
      "('category',)\n",
      "('city',)\n",
      "('country',)\n",
      "('customer',)\n",
      "('customer_list',)\n",
      "('film',)\n",
      "('film_actor',)\n",
      "('film_category',)\n",
      "('film_list',)\n",
      "('film_text',)\n",
      "('inventory',)\n",
      "('language',)\n",
      "('nicer_but_slower_film_list',)\n",
      "('payment',)\n",
      "('rental',)\n",
      "('sales_by_film_category',)\n",
      "('sales_by_store',)\n",
      "('staff',)\n",
      "('staff_list',)\n",
      "('store',)\n"
     ]
    }
   ],
   "source": [
    "with MySQLDB() as db:\n",
    "    logger('in db')\n",
    "    cursor = db.cursor()\n",
    "    cursor.execute(\"SHOW TABLES;\")\n",
    "    for table in cursor:\n",
    "        print(table)"
   ]
  },
  {
   "cell_type": "code",
   "execution_count": 15,
   "metadata": {},
   "outputs": [],
   "source": [
    "import mysql.connector\n",
    "from mysql.connector import Error\n",
    "from datetime import datetime\n",
    "import logging\n",
    "\n",
    "\n",
    "g_dbconfig = {\n",
    "  'user': 'root',\n",
    "  'password': 'root@MYSQL',\n",
    "  'host': '127.0.0.1',\n",
    "  'database': 'sakila',\n",
    "  'raise_on_warnings': True\n",
    "}\n",
    "\n",
    "\n",
    "logging.basicConfig(filename='MySQLDB.log', filemode='w',\n",
    "                    level=logging.DEBUG,\n",
    "                    format='%(asctime)s-%(levelname)s- %(process)d: %(message)s')\n",
    "\n",
    "def logger(*arg, **kwargs):\n",
    "    logging.debug(*arg, **kwargs)\n",
    "\n",
    "\n",
    "class MySQLDB(object):\n",
    "    \"\"\"\n",
    "    MySQL Connector/Python Wrapper\n",
    "    \"\"\"\n",
    "    _connection = None\n",
    "    _instance = None\n",
    "    _config = None\n",
    "\n",
    "    @classmethod\n",
    "    def __new__(cls, *args, **kwargs):\n",
    "        if not cls._instance:\n",
    "            cls._instance = object.__new__(cls)\n",
    "            logger(f\"new obj: {cls._instance}\")\n",
    "        return cls._instance\n",
    "\n",
    "    def __init__(self, *args, **kwargs):\n",
    "        g_dbconfig.update(kwargs)\n",
    "        self._config = g_dbconfig\n",
    "        logger(f\"init with: {self._config}\")\n",
    "\n",
    "    def __enter__(self):\n",
    "        logger(f\"__enter__:\")\n",
    "        if self._connection is None:\n",
    "            try:\n",
    "                self._connection = mysql.connector.connect(**self._config)\n",
    "\n",
    "                if self._connection.is_connected():\n",
    "                    server_info = self._connection.get_server_info()\n",
    "                    logger(f\"Connected to MySQL database, version: {server_info}\")\n",
    "\n",
    "                    cursor = self._connection.cursor()\n",
    "                    cursor.execute(\"select database();\")\n",
    "                    db_info = cursor.fetchone()\n",
    "                    logger(f\"You connected to DB: {db_info}  \")\n",
    "\n",
    "            except Error as err:\n",
    "                logging.critical(\"Error while connecting to MySQL: \", err)\n",
    "                logging.critical(\"exited......\")\n",
    "        logger(f\"enter end...\")\n",
    "        return self._connection\n",
    "\n",
    "    def __exit__(self, exc_type, exc_val, exc_tb):\n",
    "        logger(f\"__exit__:\")\n",
    "        if self._connection.is_connected():\n",
    "            self._connection.cursor().close()\n",
    "            self._connection.close()\n",
    "            self._connection = None\n",
    "            logger(\"MySQL connection is closed\")\n",
    "        logger(f\"exit end...\")"
   ]
  },
  {
   "cell_type": "code",
   "execution_count": null,
   "metadata": {},
   "outputs": [],
   "source": []
  }
 ],
 "metadata": {
  "kernelspec": {
   "display_name": "Python 3",
   "language": "python",
   "name": "python3"
  },
  "language_info": {
   "codemirror_mode": {
    "name": "ipython",
    "version": 3
   },
   "file_extension": ".py",
   "mimetype": "text/x-python",
   "name": "python",
   "nbconvert_exporter": "python",
   "pygments_lexer": "ipython3",
   "version": "3.6.8"
  },
  "toc": {
   "base_numbering": 1,
   "nav_menu": {},
   "number_sections": false,
   "sideBar": true,
   "skip_h1_title": false,
   "title_cell": "Table of Contents",
   "title_sidebar": "Contents",
   "toc_cell": false,
   "toc_position": {},
   "toc_section_display": true,
   "toc_window_display": true
  }
 },
 "nbformat": 4,
 "nbformat_minor": 2
}
