{
 "cells": [
  {
   "cell_type": "markdown",
   "metadata": {
    "toc-hr-collapsed": false
   },
   "source": [
    "# Introduction"
   ]
  },
  {
   "cell_type": "markdown",
   "metadata": {
    "toc-hr-collapsed": false
   },
   "source": [
    "## Basics"
   ]
  },
  {
   "cell_type": "code",
   "execution_count": 39,
   "metadata": {},
   "outputs": [],
   "source": [
    "import numpy as np\n",
    "import scipy as sp\n",
    "from IPython.display import JSON\n",
    "import json"
   ]
  },
  {
   "cell_type": "code",
   "execution_count": 38,
   "metadata": {},
   "outputs": [
    {
     "name": "stdout",
     "output_type": "stream",
     "text": [
      "{'numpy_version': '1.17.3'} {'scipy_version': '1.3.1'}\n"
     ]
    }
   ],
   "source": [
    "NPinfo = {\n",
    "    'numpy_version': np.__version__\n",
    "}\n",
    "SPinfo = {\n",
    "    'scipy_version': sp.__version__\n",
    "}\n",
    "print(NPinfo, SPinfo)"
   ]
  },
  {
   "cell_type": "markdown",
   "metadata": {},
   "source": [
    "### Numpy Consts"
   ]
  },
  {
   "cell_type": "code",
   "execution_count": 13,
   "metadata": {},
   "outputs": [
    {
     "data": {
      "text/plain": [
       "(2.718281828459045, 3.141592653589793, 0.5772156649015329)"
      ]
     },
     "execution_count": 13,
     "metadata": {},
     "output_type": "execute_result"
    }
   ],
   "source": [
    "consts = np.e, np.pi, np.euler_gamma\n",
    "consts"
   ]
  },
  {
   "cell_type": "code",
   "execution_count": 14,
   "metadata": {},
   "outputs": [
    {
     "data": {
      "text/plain": [
       "[float, float, float]"
      ]
     },
     "execution_count": 14,
     "metadata": {},
     "output_type": "execute_result"
    }
   ],
   "source": [
    "list(map(type, consts))"
   ]
  },
  {
   "cell_type": "code",
   "execution_count": 11,
   "metadata": {},
   "outputs": [
    {
     "data": {
      "text/plain": [
       "(inf, nan, nan, -inf, inf, -0.0, 0.0)"
      ]
     },
     "execution_count": 11,
     "metadata": {},
     "output_type": "execute_result"
    }
   ],
   "source": [
    "literals = np.inf, np.nan, np.NAN, np.NINF, np.PINF, np.NZERO, np.PZERO\n",
    "literals"
   ]
  },
  {
   "cell_type": "code",
   "execution_count": 12,
   "metadata": {},
   "outputs": [
    {
     "data": {
      "text/plain": [
       "[float, float, float, float, float, float, float]"
      ]
     },
     "execution_count": 12,
     "metadata": {},
     "output_type": "execute_result"
    }
   ],
   "source": [
    "list(map(type, literals))"
   ]
  },
  {
   "cell_type": "markdown",
   "metadata": {
    "toc-hr-collapsed": false
   },
   "source": [
    "## N-D Struct"
   ]
  },
  {
   "cell_type": "markdown",
   "metadata": {},
   "source": [
    "### Array"
   ]
  },
  {
   "cell_type": "code",
   "execution_count": 7,
   "metadata": {
    "collapsed": true,
    "jupyter": {
     "outputs_hidden": true
    }
   },
   "outputs": [
    {
     "data": {
      "text/plain": [
       "array([ 0,  1,  2,  3,  4,  5,  6,  7,  8,  9, 10, 11, 12, 13, 14, 15, 16,\n",
       "       17, 18, 19])"
      ]
     },
     "execution_count": 7,
     "metadata": {},
     "output_type": "execute_result"
    }
   ],
   "source": [
    "d1 = np.array(range(20))\n",
    "d1"
   ]
  },
  {
   "cell_type": "code",
   "execution_count": 10,
   "metadata": {},
   "outputs": [
    {
     "data": {
      "text/plain": [
       "{'shape': (20,),\n",
       " 'size': 20,\n",
       " 'ndim': 1,\n",
       " 'dtype': dtype('int32'),\n",
       " 'nbytes': 80,\n",
       " 'data': <memory at 0x00000132EFB21AC8>}"
      ]
     },
     "execution_count": 10,
     "metadata": {},
     "output_type": "execute_result"
    }
   ],
   "source": [
    "def array_info(arr):\n",
    "    return {\n",
    "        'shape': arr.shape,\n",
    "        'size': arr.size,\n",
    "        'ndim': arr.ndim,\n",
    "        'dtype': arr.dtype,\n",
    "        'nbytes': arr.nbytes,\n",
    "        'data': arr.data\n",
    "    }\n",
    "array_info(d1)"
   ]
  },
  {
   "cell_type": "code",
   "execution_count": 21,
   "metadata": {
    "collapsed": true,
    "jupyter": {
     "outputs_hidden": true
    }
   },
   "outputs": [
    {
     "data": {
      "text/plain": [
       "(array([0., 0., 0., 0., 0., 0., 0., 0., 0., 0., 0., 0., 0., 0., 0., 0., 0.,\n",
       "        0., 0., 0.]),\n",
       " array([1., 1., 1., 1., 1., 1., 1., 1., 1., 1., 1., 1., 1., 1., 1., 1., 1.,\n",
       "        1., 1., 1.]),\n",
       " array([ 0,  1,  2,  3,  4,  5,  6,  7,  8,  9, 10, 11, 12, 13, 14, 15, 16,\n",
       "        17, 18, 19]),\n",
       " array([ 0.,  1.,  2.,  3.,  4.,  5.,  6.,  7.,  8.,  9., 10., 11., 12.,\n",
       "        13., 14., 15., 16., 17., 18., 19.]))"
      ]
     },
     "execution_count": 21,
     "metadata": {},
     "output_type": "execute_result"
    }
   ],
   "source": [
    "d1_0 = np.zeros(20)\n",
    "d1_1 = np.ones(20)\n",
    "\n",
    "d_range = np.arange(20)\n",
    "\n",
    "d1_0, d1_1, d_range"
   ]
  },
  {
   "cell_type": "code",
   "execution_count": 11,
   "metadata": {},
   "outputs": [
    {
     "data": {
      "text/plain": [
       "array([[92, 75],\n",
       "       [52, 59],\n",
       "       [18, 28],\n",
       "       [40, 79],\n",
       "       [94, 42],\n",
       "       [80, 96],\n",
       "       [76, 36],\n",
       "       [88, 52],\n",
       "       [67, 25],\n",
       "       [14, 14]])"
      ]
     },
     "execution_count": 11,
     "metadata": {},
     "output_type": "execute_result"
    }
   ],
   "source": [
    "np.random.random(size=(10, 2))\n",
    "np.random.rand(10, 2)\n",
    "np.random.randn(10, 2)\n",
    "np.random.randint(0,100,size=(10, 2))\n"
   ]
  },
  {
   "cell_type": "code",
   "execution_count": 50,
   "metadata": {
    "collapsed": true,
    "jupyter": {
     "outputs_hidden": true
    }
   },
   "outputs": [
    {
     "data": {
      "text/plain": [
       "(array([[1., 0., 0., 0., 0.],\n",
       "        [0., 1., 0., 0., 0.],\n",
       "        [0., 0., 1., 0., 0.],\n",
       "        [0., 0., 0., 1., 0.],\n",
       "        [0., 0., 0., 0., 1.]]), array([[0., 0., 0., 0., 0.],\n",
       "        [1., 0., 0., 0., 0.],\n",
       "        [0., 1., 0., 0., 0.],\n",
       "        [0., 0., 1., 0., 0.],\n",
       "        [0., 0., 0., 1., 0.]]), array([[2, 2, 2, 2],\n",
       "        [2, 2, 2, 2]]), array([[                  0, 4607182418800017408, 4611686018427387904,\n",
       "         4613937818241073152, 4616189618054758400],\n",
       "        [4617315517961601024, 4618441417868443648, 4619567317775286272,\n",
       "         4620693217682128896, 4621256167635550208],\n",
       "        [4621819117588971520, 4622382067542392832, 4622945017495814144,\n",
       "         4623507967449235456, 4624070917402656768],\n",
       "        [4624633867356078080, 4625196817309499392, 4625478292286210048,\n",
       "         4625759767262920704, 4626041242239631360]], dtype=int64))"
      ]
     },
     "execution_count": 50,
     "metadata": {},
     "output_type": "execute_result"
    }
   ],
   "source": [
    "d4 = np.full((2,4), dtype=np.int32, fill_value=2)\n",
    "d5 = np.empty((4,5), np.int64)"
   ]
  },
  {
   "cell_type": "code",
   "execution_count": 3,
   "metadata": {},
   "outputs": [],
   "source": [
    "m1 = np.eye(5)\n",
    "m2 = np.eye(5, k=-1)\n",
    "m3 = np.identity(5)\n",
    "m4 = np.identity(5, dtype=np.int32)\n",
    "m5 = np.tri(4, 4, k=1, dtype=np.int32)\n",
    "m6  = np.tril(np.full((4,5), fill_value=2), k=1)\n",
    "m8  = np.triu(np.full((4,5), fill_value=2), k=-1)"
   ]
  },
  {
   "cell_type": "code",
   "execution_count": 61,
   "metadata": {
    "collapsed": true,
    "jupyter": {
     "outputs_hidden": true
    }
   },
   "outputs": [
    {
     "data": {
      "text/plain": [
       "array([ 0, 15, 30, 45])"
      ]
     },
     "execution_count": 61,
     "metadata": {},
     "output_type": "execute_result"
    }
   ],
   "source": [
    "d3[:, 0, 0]"
   ]
  },
  {
   "cell_type": "code",
   "execution_count": 67,
   "metadata": {
    "collapsed": true,
    "jupyter": {
     "outputs_hidden": true
    }
   },
   "outputs": [
    {
     "data": {
      "text/plain": [
       "array([ 0, 15, 30, 45])"
      ]
     },
     "execution_count": 67,
     "metadata": {},
     "output_type": "execute_result"
    }
   ],
   "source": [
    "d3t[0,0,:]"
   ]
  },
  {
   "cell_type": "markdown",
   "metadata": {},
   "source": [
    "### Broadcasting"
   ]
  },
  {
   "cell_type": "code",
   "execution_count": 26,
   "metadata": {},
   "outputs": [
    {
     "data": {
      "text/plain": [
       "array([[0, 1, 2]])"
      ]
     },
     "execution_count": 26,
     "metadata": {},
     "output_type": "execute_result"
    }
   ],
   "source": [
    "ar"
   ]
  },
  {
   "cell_type": "code",
   "execution_count": 25,
   "metadata": {},
   "outputs": [
    {
     "data": {
      "text/plain": [
       "array([[ 0,  1,  4],\n",
       "       [ 0,  4, 10],\n",
       "       [ 0,  7, 16]])"
      ]
     },
     "execution_count": 25,
     "metadata": {},
     "output_type": "execute_result"
    }
   ],
   "source": [
    "A1 = np.arange(9).reshape((3,3))\n",
    "ar = np.arange(3).reshape(1,3)\n",
    "ar.shape\n",
    "A1*ar"
   ]
  },
  {
   "cell_type": "code",
   "execution_count": 22,
   "metadata": {},
   "outputs": [
    {
     "data": {
      "text/plain": [
       "array([[ 0,  0,  0],\n",
       "       [ 3,  4,  5],\n",
       "       [12, 14, 16]])"
      ]
     },
     "execution_count": 22,
     "metadata": {},
     "output_type": "execute_result"
    }
   ],
   "source": [
    "A1 = np.arange(9).reshape((3,3))\n",
    "ar = np.arange(3).reshape(3,1)\n",
    "ar.shape\n",
    "A1*ar"
   ]
  },
  {
   "cell_type": "code",
   "execution_count": 21,
   "metadata": {},
   "outputs": [
    {
     "data": {
      "text/plain": [
       "array([[ 0,  1,  4],\n",
       "       [ 0,  4, 10],\n",
       "       [ 0,  7, 16]])"
      ]
     },
     "execution_count": 21,
     "metadata": {},
     "output_type": "execute_result"
    }
   ],
   "source": [
    "A1 = np.arange(9).reshape((3,3))\n",
    "ar = np.arange(3)\n",
    "ar.shape\n",
    "A1*ar"
   ]
  },
  {
   "cell_type": "markdown",
   "metadata": {
    "toc-hr-collapsed": false
   },
   "source": [
    "### Array Manipulation"
   ]
  },
  {
   "cell_type": "markdown",
   "metadata": {},
   "source": [
    "#### reshape and flatten"
   ]
  },
  {
   "cell_type": "code",
   "execution_count": 51,
   "metadata": {
    "collapsed": true,
    "jupyter": {
     "outputs_hidden": true
    }
   },
   "outputs": [
    {
     "data": {
      "text/plain": [
       "(array([[[ 0,  1,  2],\n",
       "         [ 3,  4,  5],\n",
       "         [ 6,  7,  8],\n",
       "         [ 9, 10, 11],\n",
       "         [12, 13, 14]],\n",
       " \n",
       "        [[15, 16, 17],\n",
       "         [18, 19, 20],\n",
       "         [21, 22, 23],\n",
       "         [24, 25, 26],\n",
       "         [27, 28, 29]],\n",
       " \n",
       "        [[30, 31, 32],\n",
       "         [33, 34, 35],\n",
       "         [36, 37, 38],\n",
       "         [39, 40, 41],\n",
       "         [42, 43, 44]],\n",
       " \n",
       "        [[45, 46, 47],\n",
       "         [48, 49, 50],\n",
       "         [51, 52, 53],\n",
       "         [54, 55, 56],\n",
       "         [57, 58, 59]]]), array([[[ 0,  1],\n",
       "         [ 2,  3],\n",
       "         [ 4,  5],\n",
       "         [ 6,  7],\n",
       "         [ 8,  9],\n",
       "         [10, 11]],\n",
       " \n",
       "        [[12, 13],\n",
       "         [14, 15],\n",
       "         [16, 17],\n",
       "         [18, 19],\n",
       "         [20, 21],\n",
       "         [22, 23]],\n",
       " \n",
       "        [[24, 25],\n",
       "         [26, 27],\n",
       "         [28, 29],\n",
       "         [30, 31],\n",
       "         [32, 33],\n",
       "         [34, 35]],\n",
       " \n",
       "        [[36, 37],\n",
       "         [38, 39],\n",
       "         [40, 41],\n",
       "         [42, 43],\n",
       "         [44, 45],\n",
       "         [46, 47]],\n",
       " \n",
       "        [[48, 49],\n",
       "         [50, 51],\n",
       "         [52, 53],\n",
       "         [54, 55],\n",
       "         [56, 57],\n",
       "         [58, 59]]]))"
      ]
     },
     "execution_count": 51,
     "metadata": {},
     "output_type": "execute_result"
    }
   ],
   "source": [
    "d3 = np.arange(4*5*3).reshape(4,5,3)\n",
    "\n",
    "d4 = np.reshape(d3, (5, 6, 2))\n",
    "\n",
    "d3, d4"
   ]
  },
  {
   "cell_type": "code",
   "execution_count": 52,
   "metadata": {},
   "outputs": [
    {
     "data": {
      "text/plain": [
       "((4, 5, 3), (3, 5, 4))"
      ]
     },
     "execution_count": 52,
     "metadata": {},
     "output_type": "execute_result"
    }
   ],
   "source": [
    "d3t = d3.T\n",
    "\n",
    "d3.shape, d3t.shape"
   ]
  },
  {
   "cell_type": "code",
   "execution_count": 53,
   "metadata": {
    "collapsed": true,
    "jupyter": {
     "outputs_hidden": true
    }
   },
   "outputs": [
    {
     "data": {
      "text/plain": [
       "(array([ 0,  1,  2,  3,  4,  5,  6,  7,  8,  9, 10, 11, 12, 13, 14, 15, 16,\n",
       "        17, 18, 19, 20, 21, 22, 23, 24, 25, 26, 27, 28, 29, 30, 31, 32, 33,\n",
       "        34, 35, 36, 37, 38, 39, 40, 41, 42, 43, 44, 45, 46, 47, 48, 49, 50,\n",
       "        51, 52, 53, 54, 55, 56, 57, 58, 59]),\n",
       " array([ 0,  1,  2,  3,  4,  5,  6,  7,  8,  9, 10, 11, 12, 13, 14, 15, 16,\n",
       "        17, 18, 19, 20, 21, 22, 23, 24, 25, 26, 27, 28, 29, 30, 31, 32, 33,\n",
       "        34, 35, 36, 37, 38, 39, 40, 41, 42, 43, 44, 45, 46, 47, 48, 49, 50,\n",
       "        51, 52, 53, 54, 55, 56, 57, 58, 59]),\n",
       " array([ 0, 15, 30, 45,  3, 18, 33, 48,  6, 21, 36, 51,  9, 24, 39, 54, 12,\n",
       "        27, 42, 57,  1, 16, 31, 46,  4, 19, 34, 49,  7, 22, 37, 52, 10, 25,\n",
       "        40, 55, 13, 28, 43, 58,  2, 17, 32, 47,  5, 20, 35, 50,  8, 23, 38,\n",
       "        53, 11, 26, 41, 56, 14, 29, 44, 59]))"
      ]
     },
     "execution_count": 53,
     "metadata": {},
     "output_type": "execute_result"
    }
   ],
   "source": [
    "arr1 = np.ravel(d3)\n",
    "arr2 = d3.flatten()\n",
    "arr3 = d3.flatten('F')\n",
    "\n",
    "arr1, arr2, arr3"
   ]
  },
  {
   "cell_type": "markdown",
   "metadata": {},
   "source": [
    "#### repeat and tile"
   ]
  },
  {
   "cell_type": "code",
   "execution_count": 69,
   "metadata": {
    "collapsed": true,
    "jupyter": {
     "outputs_hidden": true
    }
   },
   "outputs": [
    {
     "data": {
      "text/plain": [
       "array([[ 0.        , -0.21409452,  0.9655793 ,  0.05575487, -1.00380083,\n",
       "        -0.37665468, -0.53099835, -1.91977208,  0.85039898, -0.3068504 ,\n",
       "        -0.2867291 ,  0.27619058, -0.34656925,  0.3645035 , -0.24805456,\n",
       "         1.16732428, -0.76112911, -0.10640411, -0.27323123,  0.6036493 ,\n",
       "         0.        , -0.21409452,  0.9655793 ,  0.05575487, -1.00380083,\n",
       "        -0.37665468, -0.53099835, -1.91977208,  0.85039898, -0.3068504 ,\n",
       "        -0.2867291 ,  0.27619058, -0.34656925,  0.3645035 , -0.24805456,\n",
       "         1.16732428, -0.76112911, -0.10640411, -0.27323123,  0.6036493 ],\n",
       "       [ 0.        , -0.21409452,  0.9655793 ,  0.05575487, -1.00380083,\n",
       "        -0.37665468, -0.53099835, -1.91977208,  0.85039898, -0.3068504 ,\n",
       "        -0.2867291 ,  0.27619058, -0.34656925,  0.3645035 , -0.24805456,\n",
       "         1.16732428, -0.76112911, -0.10640411, -0.27323123,  0.6036493 ,\n",
       "         0.        , -0.21409452,  0.9655793 ,  0.05575487, -1.00380083,\n",
       "        -0.37665468, -0.53099835, -1.91977208,  0.85039898, -0.3068504 ,\n",
       "        -0.2867291 ,  0.27619058, -0.34656925,  0.3645035 , -0.24805456,\n",
       "         1.16732428, -0.76112911, -0.10640411, -0.27323123,  0.6036493 ]])"
      ]
     },
     "execution_count": 69,
     "metadata": {},
     "output_type": "execute_result"
    }
   ],
   "source": [
    "np.tile(arr, (2,2))"
   ]
  },
  {
   "cell_type": "code",
   "execution_count": 67,
   "metadata": {
    "collapsed": true,
    "jupyter": {
     "outputs_hidden": true
    }
   },
   "outputs": [
    {
     "data": {
      "text/plain": [
       "array([ 0.        ,  0.        , -0.21409452, -0.21409452,  0.9655793 ,\n",
       "        0.9655793 ,  0.05575487,  0.05575487, -1.00380083, -1.00380083,\n",
       "       -0.37665468, -0.37665468, -0.53099835, -0.53099835, -1.91977208,\n",
       "       -1.91977208,  0.85039898,  0.85039898, -0.3068504 , -0.3068504 ,\n",
       "       -0.2867291 , -0.2867291 ,  0.27619058,  0.27619058, -0.34656925,\n",
       "       -0.34656925,  0.3645035 ,  0.3645035 , -0.24805456, -0.24805456,\n",
       "        1.16732428,  1.16732428, -0.76112911, -0.76112911, -0.10640411,\n",
       "       -0.10640411, -0.27323123, -0.27323123,  0.6036493 ,  0.6036493 ])"
      ]
     },
     "execution_count": 67,
     "metadata": {},
     "output_type": "execute_result"
    }
   ],
   "source": [
    "np.repeat(arr, 2)"
   ]
  },
  {
   "cell_type": "markdown",
   "metadata": {},
   "source": [
    "#### split and stack, concatenate"
   ]
  },
  {
   "cell_type": "raw",
   "metadata": {},
   "source": [
    "np.stack(); np.dstack(); np.hstack(); np.vstack()\n",
    "np.split(); np.dsplit(); np.hsplit(); np.vsplit()"
   ]
  },
  {
   "cell_type": "code",
   "execution_count": 2,
   "metadata": {},
   "outputs": [],
   "source": [
    "a = np.arange(4*4*4).reshape(4,4,4)"
   ]
  },
  {
   "cell_type": "code",
   "execution_count": 11,
   "metadata": {},
   "outputs": [
    {
     "data": {
      "text/plain": [
       "((2, 4, 4), (2, 4, 4))"
      ]
     },
     "execution_count": 11,
     "metadata": {},
     "output_type": "execute_result"
    }
   ],
   "source": [
    "x, y = np.vsplit(a, 2)\n",
    "x.shape, y.shape"
   ]
  },
  {
   "cell_type": "code",
   "execution_count": 10,
   "metadata": {},
   "outputs": [
    {
     "data": {
      "text/plain": [
       "((4, 2, 4), (4, 2, 4))"
      ]
     },
     "execution_count": 10,
     "metadata": {},
     "output_type": "execute_result"
    }
   ],
   "source": [
    "x, y = np.hsplit(a, 2)\n",
    "x.shape, y.shape"
   ]
  },
  {
   "cell_type": "code",
   "execution_count": 9,
   "metadata": {},
   "outputs": [
    {
     "data": {
      "text/plain": [
       "((4, 4, 2), (4, 4, 2))"
      ]
     },
     "execution_count": 9,
     "metadata": {},
     "output_type": "execute_result"
    }
   ],
   "source": [
    "x, y = np.dsplit(a, 2)\n",
    "x.shape, y.shape"
   ]
  },
  {
   "cell_type": "code",
   "execution_count": 7,
   "metadata": {},
   "outputs": [
    {
     "data": {
      "text/plain": [
       "((2, 4, 4), (2, 4, 4))"
      ]
     },
     "execution_count": 7,
     "metadata": {},
     "output_type": "execute_result"
    }
   ],
   "source": [
    "x, y = np.split(a, 2, axis=0)\n",
    "x.shape, y.shape"
   ]
  },
  {
   "cell_type": "code",
   "execution_count": 54,
   "metadata": {
    "collapsed": true,
    "jupyter": {
     "outputs_hidden": true
    }
   },
   "outputs": [
    {
     "data": {
      "text/plain": [
       "(array([[ 0,  1,  2,  3,  4,  5,  6,  7,  8,  9],\n",
       "        [10, 11, 12, 13, 14, 15, 16, 17, 18, 19]]), array([[ 0, 10],\n",
       "        [ 1, 11],\n",
       "        [ 2, 12],\n",
       "        [ 3, 13],\n",
       "        [ 4, 14],\n",
       "        [ 5, 15],\n",
       "        [ 6, 16],\n",
       "        [ 7, 17],\n",
       "        [ 8, 18],\n",
       "        [ 9, 19]]))"
      ]
     },
     "execution_count": 54,
     "metadata": {},
     "output_type": "execute_result"
    }
   ],
   "source": [
    "arr1 = np.arange(10)\n",
    "arr2 = np.arange(10,20)\n",
    "\n",
    "d2 = np.stack((arr1, arr2))\n",
    "d3 = np.stack((arr1, arr2), axis=1)\n",
    "\n",
    "d2, d3"
   ]
  },
  {
   "cell_type": "code",
   "execution_count": 112,
   "metadata": {
    "collapsed": true,
    "jupyter": {
     "outputs_hidden": true
    }
   },
   "outputs": [
    {
     "data": {
      "text/plain": [
       "[(2, 5, 1), (2, 5, 1)]"
      ]
     },
     "execution_count": 112,
     "metadata": {},
     "output_type": "execute_result"
    }
   ],
   "source": [
    "d = np.arange(20).reshape(2,5,2)\n",
    "\n",
    "sd = np.split(d, [1], axis=2)\n",
    "\n",
    "list(map(lambda x: x.shape, sd))\n"
   ]
  },
  {
   "cell_type": "markdown",
   "metadata": {},
   "source": [
    "- flip and roll"
   ]
  },
  {
   "cell_type": "code",
   "execution_count": null,
   "metadata": {},
   "outputs": [],
   "source": [
    "np.flip(); np.fliplr(); np.flipud()\n",
    "np.roll(); np.rot90()"
   ]
  },
  {
   "cell_type": "code",
   "execution_count": 120,
   "metadata": {
    "collapsed": true,
    "jupyter": {
     "outputs_hidden": true
    }
   },
   "outputs": [
    {
     "name": "stdout",
     "output_type": "stream",
     "text": [
      "(4, 5, 3) (4, 5, 3)\n"
     ]
    },
    {
     "data": {
      "text/plain": [
       "(array([[[ 0,  1,  2],\n",
       "         [ 3,  4,  5],\n",
       "         [ 6,  7,  8],\n",
       "         [ 9, 10, 11],\n",
       "         [12, 13, 14]],\n",
       " \n",
       "        [[15, 16, 17],\n",
       "         [18, 19, 20],\n",
       "         [21, 22, 23],\n",
       "         [24, 25, 26],\n",
       "         [27, 28, 29]],\n",
       " \n",
       "        [[30, 31, 32],\n",
       "         [33, 34, 35],\n",
       "         [36, 37, 38],\n",
       "         [39, 40, 41],\n",
       "         [42, 43, 44]],\n",
       " \n",
       "        [[45, 46, 47],\n",
       "         [48, 49, 50],\n",
       "         [51, 52, 53],\n",
       "         [54, 55, 56],\n",
       "         [57, 58, 59]]]), array([[[45, 46, 47],\n",
       "         [48, 49, 50],\n",
       "         [51, 52, 53],\n",
       "         [54, 55, 56],\n",
       "         [57, 58, 59]],\n",
       " \n",
       "        [[30, 31, 32],\n",
       "         [33, 34, 35],\n",
       "         [36, 37, 38],\n",
       "         [39, 40, 41],\n",
       "         [42, 43, 44]],\n",
       " \n",
       "        [[15, 16, 17],\n",
       "         [18, 19, 20],\n",
       "         [21, 22, 23],\n",
       "         [24, 25, 26],\n",
       "         [27, 28, 29]],\n",
       " \n",
       "        [[ 0,  1,  2],\n",
       "         [ 3,  4,  5],\n",
       "         [ 6,  7,  8],\n",
       "         [ 9, 10, 11],\n",
       "         [12, 13, 14]]]))"
      ]
     },
     "execution_count": 120,
     "metadata": {},
     "output_type": "execute_result"
    }
   ],
   "source": [
    "d= np.arange(4*5*3).reshape(4,5,3)\n",
    "df0 = np.flip(d, axis=0)\n",
    "\n",
    "print(d.shape, df0.shape)\n",
    "\n",
    "d, df0"
   ]
  },
  {
   "cell_type": "code",
   "execution_count": 121,
   "metadata": {
    "collapsed": true,
    "jupyter": {
     "outputs_hidden": true
    }
   },
   "outputs": [
    {
     "name": "stdout",
     "output_type": "stream",
     "text": [
      "(4, 5, 3) (4, 5, 3)\n"
     ]
    },
    {
     "data": {
      "text/plain": [
       "(array([[[ 0,  1,  2],\n",
       "         [ 3,  4,  5],\n",
       "         [ 6,  7,  8],\n",
       "         [ 9, 10, 11],\n",
       "         [12, 13, 14]],\n",
       " \n",
       "        [[15, 16, 17],\n",
       "         [18, 19, 20],\n",
       "         [21, 22, 23],\n",
       "         [24, 25, 26],\n",
       "         [27, 28, 29]],\n",
       " \n",
       "        [[30, 31, 32],\n",
       "         [33, 34, 35],\n",
       "         [36, 37, 38],\n",
       "         [39, 40, 41],\n",
       "         [42, 43, 44]],\n",
       " \n",
       "        [[45, 46, 47],\n",
       "         [48, 49, 50],\n",
       "         [51, 52, 53],\n",
       "         [54, 55, 56],\n",
       "         [57, 58, 59]]]), array([[[12, 13, 14],\n",
       "         [ 9, 10, 11],\n",
       "         [ 6,  7,  8],\n",
       "         [ 3,  4,  5],\n",
       "         [ 0,  1,  2]],\n",
       " \n",
       "        [[27, 28, 29],\n",
       "         [24, 25, 26],\n",
       "         [21, 22, 23],\n",
       "         [18, 19, 20],\n",
       "         [15, 16, 17]],\n",
       " \n",
       "        [[42, 43, 44],\n",
       "         [39, 40, 41],\n",
       "         [36, 37, 38],\n",
       "         [33, 34, 35],\n",
       "         [30, 31, 32]],\n",
       " \n",
       "        [[57, 58, 59],\n",
       "         [54, 55, 56],\n",
       "         [51, 52, 53],\n",
       "         [48, 49, 50],\n",
       "         [45, 46, 47]]]))"
      ]
     },
     "execution_count": 121,
     "metadata": {},
     "output_type": "execute_result"
    }
   ],
   "source": [
    "d= np.arange(4*5*3).reshape(4,5,3)\n",
    "df0 = np.flip(d, axis=1)\n",
    "\n",
    "print(d.shape, df0.shape)\n",
    "\n",
    "d, df0"
   ]
  },
  {
   "cell_type": "code",
   "execution_count": 127,
   "metadata": {
    "collapsed": true,
    "jupyter": {
     "outputs_hidden": true
    }
   },
   "outputs": [
    {
     "name": "stdout",
     "output_type": "stream",
     "text": [
      "(4, 5, 3) (4, 5, 3)\n"
     ]
    },
    {
     "data": {
      "text/plain": [
       "(array([[[ 0,  1,  2],\n",
       "         [ 3,  4,  5],\n",
       "         [ 6,  7,  8],\n",
       "         [ 9, 10, 11],\n",
       "         [12, 13, 14]],\n",
       " \n",
       "        [[15, 16, 17],\n",
       "         [18, 19, 20],\n",
       "         [21, 22, 23],\n",
       "         [24, 25, 26],\n",
       "         [27, 28, 29]],\n",
       " \n",
       "        [[30, 31, 32],\n",
       "         [33, 34, 35],\n",
       "         [36, 37, 38],\n",
       "         [39, 40, 41],\n",
       "         [42, 43, 44]],\n",
       " \n",
       "        [[45, 46, 47],\n",
       "         [48, 49, 50],\n",
       "         [51, 52, 53],\n",
       "         [54, 55, 56],\n",
       "         [57, 58, 59]]]), array([[[15, 16, 17],\n",
       "         [18, 19, 20],\n",
       "         [21, 22, 23],\n",
       "         [24, 25, 26],\n",
       "         [27, 28, 29]],\n",
       " \n",
       "        [[30, 31, 32],\n",
       "         [33, 34, 35],\n",
       "         [36, 37, 38],\n",
       "         [39, 40, 41],\n",
       "         [42, 43, 44]],\n",
       " \n",
       "        [[45, 46, 47],\n",
       "         [48, 49, 50],\n",
       "         [51, 52, 53],\n",
       "         [54, 55, 56],\n",
       "         [57, 58, 59]],\n",
       " \n",
       "        [[ 0,  1,  2],\n",
       "         [ 3,  4,  5],\n",
       "         [ 6,  7,  8],\n",
       "         [ 9, 10, 11],\n",
       "         [12, 13, 14]]]))"
      ]
     },
     "execution_count": 127,
     "metadata": {},
     "output_type": "execute_result"
    }
   ],
   "source": [
    "d= np.arange(4*5*3).reshape(4,5,3)\n",
    "\n",
    "dr0 = np.roll(d, 5*3, axis=0)\n",
    "\n",
    "print(d.shape, dr0.shape)\n",
    "\n",
    "d, dr0"
   ]
  },
  {
   "cell_type": "code",
   "execution_count": 128,
   "metadata": {
    "collapsed": true,
    "jupyter": {
     "outputs_hidden": true
    }
   },
   "outputs": [
    {
     "name": "stdout",
     "output_type": "stream",
     "text": [
      "(4, 5, 3) (5, 4, 3)\n"
     ]
    },
    {
     "data": {
      "text/plain": [
       "(array([[[ 0,  1,  2],\n",
       "         [ 3,  4,  5],\n",
       "         [ 6,  7,  8],\n",
       "         [ 9, 10, 11],\n",
       "         [12, 13, 14]],\n",
       " \n",
       "        [[15, 16, 17],\n",
       "         [18, 19, 20],\n",
       "         [21, 22, 23],\n",
       "         [24, 25, 26],\n",
       "         [27, 28, 29]],\n",
       " \n",
       "        [[30, 31, 32],\n",
       "         [33, 34, 35],\n",
       "         [36, 37, 38],\n",
       "         [39, 40, 41],\n",
       "         [42, 43, 44]],\n",
       " \n",
       "        [[45, 46, 47],\n",
       "         [48, 49, 50],\n",
       "         [51, 52, 53],\n",
       "         [54, 55, 56],\n",
       "         [57, 58, 59]]]), array([[[12, 13, 14],\n",
       "         [27, 28, 29],\n",
       "         [42, 43, 44],\n",
       "         [57, 58, 59]],\n",
       " \n",
       "        [[ 9, 10, 11],\n",
       "         [24, 25, 26],\n",
       "         [39, 40, 41],\n",
       "         [54, 55, 56]],\n",
       " \n",
       "        [[ 6,  7,  8],\n",
       "         [21, 22, 23],\n",
       "         [36, 37, 38],\n",
       "         [51, 52, 53]],\n",
       " \n",
       "        [[ 3,  4,  5],\n",
       "         [18, 19, 20],\n",
       "         [33, 34, 35],\n",
       "         [48, 49, 50]],\n",
       " \n",
       "        [[ 0,  1,  2],\n",
       "         [15, 16, 17],\n",
       "         [30, 31, 32],\n",
       "         [45, 46, 47]]]))"
      ]
     },
     "execution_count": 128,
     "metadata": {},
     "output_type": "execute_result"
    }
   ],
   "source": [
    "d= np.arange(4*5*3).reshape(4,5,3)\n",
    "\n",
    "dr0 = np.rot90(d)\n",
    "\n",
    "print(d.shape, dr0.shape)\n",
    "\n",
    "d, dr0"
   ]
  },
  {
   "cell_type": "code",
   "execution_count": 96,
   "metadata": {},
   "outputs": [
    {
     "data": {
      "text/plain": [
       "array([0, 1, 2])"
      ]
     },
     "execution_count": 96,
     "metadata": {},
     "output_type": "execute_result"
    }
   ],
   "source": [
    "d3[0, 0, :]"
   ]
  },
  {
   "cell_type": "code",
   "execution_count": 97,
   "metadata": {},
   "outputs": [
    {
     "data": {
      "text/plain": [
       "array([ 0, 15, 30, 45])"
      ]
     },
     "execution_count": 97,
     "metadata": {},
     "output_type": "execute_result"
    }
   ],
   "source": [
    "d3t[0, 0, :]"
   ]
  },
  {
   "cell_type": "markdown",
   "metadata": {},
   "source": [
    "### View and Copy"
   ]
  },
  {
   "cell_type": "markdown",
   "metadata": {},
   "source": [
    "- ndarray's view reference the same underline address space, but have different id\n",
    "- ndarray's assignment reference the same underline address space and also have the same id\n",
    "- ndarray's copy reference the different address space and have different id"
   ]
  },
  {
   "cell_type": "code",
   "execution_count": 54,
   "metadata": {},
   "outputs": [
    {
     "data": {
      "text/plain": [
       "(True, False)"
      ]
     },
     "execution_count": 54,
     "metadata": {},
     "output_type": "execute_result"
    }
   ],
   "source": [
    "arr = np.random.randn(20)\n",
    "b = arr\n",
    "c = arr.view()\n",
    "id(arr) == id(b), id(b) == id(c) "
   ]
  },
  {
   "cell_type": "code",
   "execution_count": 56,
   "metadata": {},
   "outputs": [],
   "source": [
    "cp = arr.copy()"
   ]
  },
  {
   "cell_type": "markdown",
   "metadata": {},
   "source": [
    "### Concatenate, Append, Insert, Update, Delete"
   ]
  },
  {
   "cell_type": "code",
   "execution_count": null,
   "metadata": {},
   "outputs": [],
   "source": [
    "np.concatenate()"
   ]
  },
  {
   "cell_type": "code",
   "execution_count": 60,
   "metadata": {},
   "outputs": [
    {
     "data": {
      "text/plain": [
       "array([ 1.06677087, -0.21409452,  0.9655793 ,  0.05575487, -1.00380083,\n",
       "       -0.37665468, -0.53099835, -1.91977208,  0.85039898, -0.3068504 ,\n",
       "       -0.2867291 ,  0.27619058, -0.34656925,  0.3645035 , -0.24805456,\n",
       "        1.16732428, -0.76112911, -0.10640411, -0.27323123,  0.6036493 ,\n",
       "        1.        ,  2.        ,  3.        ,  4.        ])"
      ]
     },
     "execution_count": 60,
     "metadata": {},
     "output_type": "execute_result"
    }
   ],
   "source": [
    "np.append(arr, [1,2,3,4], axis=0)"
   ]
  },
  {
   "cell_type": "code",
   "execution_count": 61,
   "metadata": {},
   "outputs": [
    {
     "data": {
      "text/plain": [
       "array([10.        ,  1.06677087, -0.21409452,  0.9655793 ,  0.05575487,\n",
       "       -1.00380083, -0.37665468, -0.53099835, -1.91977208,  0.85039898,\n",
       "       -0.3068504 , -0.2867291 ,  0.27619058, -0.34656925,  0.3645035 ,\n",
       "       -0.24805456,  1.16732428, -0.76112911, -0.10640411, -0.27323123,\n",
       "        0.6036493 ])"
      ]
     },
     "execution_count": 61,
     "metadata": {},
     "output_type": "execute_result"
    }
   ],
   "source": [
    "np.insert(arr, 0, 10)"
   ]
  },
  {
   "cell_type": "markdown",
   "metadata": {},
   "source": [
    "- in-place change"
   ]
  },
  {
   "cell_type": "code",
   "execution_count": 63,
   "metadata": {},
   "outputs": [
    {
     "data": {
      "text/plain": [
       "array([ 0.        , -0.21409452,  0.9655793 ,  0.05575487, -1.00380083,\n",
       "       -0.37665468, -0.53099835, -1.91977208,  0.85039898, -0.3068504 ,\n",
       "       -0.2867291 ,  0.27619058, -0.34656925,  0.3645035 , -0.24805456,\n",
       "        1.16732428, -0.76112911, -0.10640411, -0.27323123,  0.6036493 ])"
      ]
     },
     "execution_count": 63,
     "metadata": {},
     "output_type": "execute_result"
    }
   ],
   "source": [
    "arr[0]=0\n",
    "arr"
   ]
  },
  {
   "cell_type": "code",
   "execution_count": 64,
   "metadata": {},
   "outputs": [
    {
     "data": {
      "text/plain": [
       "array([-0.21409452,  0.9655793 ,  0.05575487, -1.00380083, -0.37665468,\n",
       "       -0.53099835, -1.91977208,  0.85039898, -0.3068504 , -0.2867291 ,\n",
       "        0.27619058, -0.34656925,  0.3645035 , -0.24805456,  1.16732428,\n",
       "       -0.76112911, -0.10640411, -0.27323123,  0.6036493 ])"
      ]
     },
     "execution_count": 64,
     "metadata": {},
     "output_type": "execute_result"
    }
   ],
   "source": [
    "np.delete(arr, 0)"
   ]
  },
  {
   "cell_type": "markdown",
   "metadata": {},
   "source": [
    "### Array Operators"
   ]
  },
  {
   "cell_type": "code",
   "execution_count": null,
   "metadata": {},
   "outputs": [],
   "source": [
    "np.bitwise_and()\n",
    "np.bitwise_not()\n",
    "np.bitwise_or()\n",
    "np.bitwise_xor()"
   ]
  },
  {
   "cell_type": "code",
   "execution_count": 12,
   "metadata": {},
   "outputs": [
    {
     "data": {
      "text/plain": [
       "array([-0.43971388,  0.070735  , -0.19659446, -0.82686974,  1.14457598,\n",
       "       -1.0486172 , -1.10823118, -0.12276342,  0.30292378,  0.19933342,\n",
       "       -1.04005078,  0.09497685,  0.95108421,  1.31578652,  0.6322031 ,\n",
       "        0.02200024, -0.02828549,  0.1370882 , -2.03905085, -0.32669728])"
      ]
     },
     "execution_count": 12,
     "metadata": {},
     "output_type": "execute_result"
    }
   ],
   "source": [
    "arr = np.random.randn(20)\n",
    "arr"
   ]
  },
  {
   "cell_type": "code",
   "execution_count": 14,
   "metadata": {
    "collapsed": true,
    "jupyter": {
     "outputs_hidden": true
    }
   },
   "outputs": [
    {
     "data": {
      "text/plain": [
       "10"
      ]
     },
     "execution_count": 14,
     "metadata": {},
     "output_type": "execute_result"
    }
   ],
   "source": [
    "arr+10, arr-10, arr*10, arr/10\n",
    "sum(arr>0)"
   ]
  },
  {
   "cell_type": "code",
   "execution_count": null,
   "metadata": {},
   "outputs": [],
   "source": [
    "np.floor(arr)\n",
    "np.ceil(arr)\n",
    "np.sum(arr)\n",
    "np.cumsum(arr)\n",
    "np.cumproduct(arr)\n",
    "np.unique(arr)\n",
    "np.min(arr)\n",
    "np.max(arr)"
   ]
  },
  {
   "cell_type": "markdown",
   "metadata": {},
   "source": [
    "## Index"
   ]
  },
  {
   "cell_type": "code",
   "execution_count": null,
   "metadata": {},
   "outputs": [],
   "source": [
    "np.mgrid\n",
    "np.ogrid"
   ]
  },
  {
   "cell_type": "code",
   "execution_count": null,
   "metadata": {},
   "outputs": [],
   "source": []
  },
  {
   "cell_type": "code",
   "execution_count": null,
   "metadata": {},
   "outputs": [],
   "source": []
  },
  {
   "cell_type": "markdown",
   "metadata": {},
   "source": [
    "# Operators"
   ]
  },
  {
   "cell_type": "code",
   "execution_count": null,
   "metadata": {},
   "outputs": [],
   "source": []
  },
  {
   "cell_type": "code",
   "execution_count": 43,
   "metadata": {},
   "outputs": [
    {
     "data": {
      "text/plain": [
       "(array([ 0.,  1.,  2.,  3.,  4.,  5.,  6.,  7.,  8.,  9., 10., 11., 12.,\n",
       "        13., 14., 15., 16., 17., 18., 19.]),\n",
       " array([1.00000000e+00, 2.78255940e+00, 7.74263683e+00, 2.15443469e+01,\n",
       "        5.99484250e+01, 1.66810054e+02, 4.64158883e+02, 1.29154967e+03,\n",
       "        3.59381366e+03, 1.00000000e+04]),\n",
       " array([1.00000000e+00, 2.78255940e+00, 7.74263683e+00, 2.15443469e+01,\n",
       "        5.99484250e+01, 1.66810054e+02, 4.64158883e+02, 1.29154967e+03,\n",
       "        3.59381366e+03, 1.00000000e+04]))"
      ]
     },
     "execution_count": 43,
     "metadata": {},
     "output_type": "execute_result"
    }
   ],
   "source": [
    "d1 = np.linspace(0, 19, 20)\n",
    "d2 = np.logspace(0, 4, 10)\n",
    "d3 = np.geomspace(1, 10000, 10)\n",
    "\n",
    "d1, d2, d3"
   ]
  },
  {
   "cell_type": "markdown",
   "metadata": {},
   "source": [
    "## Polynomials"
   ]
  },
  {
   "cell_type": "code",
   "execution_count": 45,
   "metadata": {},
   "outputs": [],
   "source": [
    "import numpy.polynomial as npp"
   ]
  },
  {
   "cell_type": "code",
   "execution_count": 46,
   "metadata": {
    "collapsed": true
   },
   "outputs": [
    {
     "data": {
      "text/plain": [
       "['Chebyshev',\n",
       " 'Hermite',\n",
       " 'HermiteE',\n",
       " 'Laguerre',\n",
       " 'Legendre',\n",
       " 'Polynomial',\n",
       " '__builtins__',\n",
       " '__cached__',\n",
       " '__doc__',\n",
       " '__file__',\n",
       " '__loader__',\n",
       " '__name__',\n",
       " '__package__',\n",
       " '__path__',\n",
       " '__spec__',\n",
       " '_polybase',\n",
       " 'absolute_import',\n",
       " 'chebyshev',\n",
       " 'division',\n",
       " 'hermite',\n",
       " 'hermite_e',\n",
       " 'laguerre',\n",
       " 'legendre',\n",
       " 'polynomial',\n",
       " 'polyutils',\n",
       " 'print_function',\n",
       " 'test']"
      ]
     },
     "execution_count": 46,
     "metadata": {},
     "output_type": "execute_result"
    }
   ],
   "source": [
    "dir(npp)"
   ]
  },
  {
   "cell_type": "code",
   "execution_count": 44,
   "metadata": {},
   "outputs": [
    {
     "data": {
      "text/plain": [
       "array([ -1,   4,  15,  32,  55,  84, 119, 160, 207, 260])"
      ]
     },
     "execution_count": 44,
     "metadata": {},
     "output_type": "execute_result"
    }
   ],
   "source": [
    "p = np.poly1d([3, 2, -1])\n",
    "p(np.arange(0,10))"
   ]
  },
  {
   "cell_type": "code",
   "execution_count": null,
   "metadata": {},
   "outputs": [],
   "source": []
  },
  {
   "cell_type": "code",
   "execution_count": null,
   "metadata": {},
   "outputs": [],
   "source": []
  },
  {
   "cell_type": "code",
   "execution_count": null,
   "metadata": {},
   "outputs": [],
   "source": []
  },
  {
   "cell_type": "markdown",
   "metadata": {},
   "source": [
    "# Linear Algebra"
   ]
  },
  {
   "cell_type": "markdown",
   "metadata": {},
   "source": [
    "- [Linear Algebra Doc](https://numpy.org/doc/1.17/reference/routines.linalg.html)"
   ]
  },
  {
   "cell_type": "code",
   "execution_count": 21,
   "metadata": {},
   "outputs": [],
   "source": [
    "import numpy as np"
   ]
  },
  {
   "cell_type": "code",
   "execution_count": 23,
   "metadata": {
    "collapsed": true,
    "jupyter": {
     "outputs_hidden": true
    }
   },
   "outputs": [
    {
     "data": {
      "text/plain": [
       "['ALLOW_THREADS',\n",
       " 'AxisError',\n",
       " 'BUFSIZE',\n",
       " 'CLIP',\n",
       " 'ComplexWarning',\n",
       " 'DataSource',\n",
       " 'ERR_CALL',\n",
       " 'ERR_DEFAULT',\n",
       " 'ERR_IGNORE',\n",
       " 'ERR_LOG',\n",
       " 'ERR_PRINT',\n",
       " 'ERR_RAISE',\n",
       " 'ERR_WARN',\n",
       " 'FLOATING_POINT_SUPPORT',\n",
       " 'FPE_DIVIDEBYZERO',\n",
       " 'FPE_INVALID',\n",
       " 'FPE_OVERFLOW',\n",
       " 'FPE_UNDERFLOW',\n",
       " 'False_',\n",
       " 'Inf',\n",
       " 'Infinity',\n",
       " 'MAXDIMS',\n",
       " 'MAY_SHARE_BOUNDS',\n",
       " 'MAY_SHARE_EXACT',\n",
       " 'MachAr',\n",
       " 'ModuleDeprecationWarning',\n",
       " 'NAN',\n",
       " 'NINF',\n",
       " 'NZERO',\n",
       " 'NaN',\n",
       " 'PINF',\n",
       " 'PZERO',\n",
       " 'RAISE',\n",
       " 'RankWarning',\n",
       " 'SHIFT_DIVIDEBYZERO',\n",
       " 'SHIFT_INVALID',\n",
       " 'SHIFT_OVERFLOW',\n",
       " 'SHIFT_UNDERFLOW',\n",
       " 'ScalarType',\n",
       " 'TooHardError',\n",
       " 'True_',\n",
       " 'UFUNC_BUFSIZE_DEFAULT',\n",
       " 'UFUNC_PYVALS_NAME',\n",
       " 'VisibleDeprecationWarning',\n",
       " 'WRAP',\n",
       " '_UFUNC_API',\n",
       " '__all__',\n",
       " '__builtins__',\n",
       " '__cached__',\n",
       " '__doc__',\n",
       " '__file__',\n",
       " '__loader__',\n",
       " '__name__',\n",
       " '__package__',\n",
       " '__spec__',\n",
       " '__version__',\n",
       " '_add_newdoc_ufunc',\n",
       " 'absolute',\n",
       " 'absolute_import',\n",
       " 'add',\n",
       " 'add_docstring',\n",
       " 'add_newdoc',\n",
       " 'add_newdoc_ufunc',\n",
       " 'alen',\n",
       " 'all',\n",
       " 'allclose',\n",
       " 'alltrue',\n",
       " 'amax',\n",
       " 'amin',\n",
       " 'angle',\n",
       " 'any',\n",
       " 'append',\n",
       " 'apply_along_axis',\n",
       " 'apply_over_axes',\n",
       " 'arange',\n",
       " 'arccos',\n",
       " 'arccosh',\n",
       " 'arcsin',\n",
       " 'arcsinh',\n",
       " 'arctan',\n",
       " 'arctan2',\n",
       " 'arctanh',\n",
       " 'argmax',\n",
       " 'argmin',\n",
       " 'argpartition',\n",
       " 'argsort',\n",
       " 'argwhere',\n",
       " 'around',\n",
       " 'array',\n",
       " 'array2string',\n",
       " 'array_equal',\n",
       " 'array_equiv',\n",
       " 'array_repr',\n",
       " 'array_split',\n",
       " 'array_str',\n",
       " 'asanyarray',\n",
       " 'asarray',\n",
       " 'asarray_chkfinite',\n",
       " 'ascontiguousarray',\n",
       " 'asfarray',\n",
       " 'asfortranarray',\n",
       " 'asmatrix',\n",
       " 'asscalar',\n",
       " 'atleast_1d',\n",
       " 'atleast_2d',\n",
       " 'atleast_3d',\n",
       " 'average',\n",
       " 'bartlett',\n",
       " 'base_repr',\n",
       " 'binary_repr',\n",
       " 'bincount',\n",
       " 'bitwise_and',\n",
       " 'bitwise_not',\n",
       " 'bitwise_or',\n",
       " 'bitwise_xor',\n",
       " 'blackman',\n",
       " 'block',\n",
       " 'bmat',\n",
       " 'bool8',\n",
       " 'bool_',\n",
       " 'broadcast',\n",
       " 'broadcast_arrays',\n",
       " 'broadcast_to',\n",
       " 'busday_count',\n",
       " 'busday_offset',\n",
       " 'busdaycalendar',\n",
       " 'byte',\n",
       " 'byte_bounds',\n",
       " 'bytes0',\n",
       " 'bytes_',\n",
       " 'c_',\n",
       " 'can_cast',\n",
       " 'cast',\n",
       " 'cbrt',\n",
       " 'cdouble',\n",
       " 'ceil',\n",
       " 'cfloat',\n",
       " 'char',\n",
       " 'character',\n",
       " 'chararray',\n",
       " 'choose',\n",
       " 'clip',\n",
       " 'clongdouble',\n",
       " 'clongfloat',\n",
       " 'column_stack',\n",
       " 'common_type',\n",
       " 'compare_chararrays',\n",
       " 'complex128',\n",
       " 'complex64',\n",
       " 'complex_',\n",
       " 'complexfloating',\n",
       " 'compress',\n",
       " 'concatenate',\n",
       " 'conj',\n",
       " 'conjugate',\n",
       " 'convolve',\n",
       " 'copy',\n",
       " 'copysign',\n",
       " 'copyto',\n",
       " 'corrcoef',\n",
       " 'correlate',\n",
       " 'cos',\n",
       " 'cosh',\n",
       " 'count_nonzero',\n",
       " 'cov',\n",
       " 'cross',\n",
       " 'csingle',\n",
       " 'ctypeslib',\n",
       " 'cumprod',\n",
       " 'cumproduct',\n",
       " 'cumsum',\n",
       " 'datetime64',\n",
       " 'datetime_as_string',\n",
       " 'datetime_data',\n",
       " 'deg2rad',\n",
       " 'degrees',\n",
       " 'delete',\n",
       " 'deprecate',\n",
       " 'deprecate_with_doc',\n",
       " 'diag',\n",
       " 'diag_indices',\n",
       " 'diag_indices_from',\n",
       " 'diagflat',\n",
       " 'diagonal',\n",
       " 'diff',\n",
       " 'digitize',\n",
       " 'disp',\n",
       " 'divide',\n",
       " 'division',\n",
       " 'divmod',\n",
       " 'dot',\n",
       " 'double',\n",
       " 'dsplit',\n",
       " 'dstack',\n",
       " 'dtype',\n",
       " 'e',\n",
       " 'ediff1d',\n",
       " 'einsum',\n",
       " 'einsum_path',\n",
       " 'emath',\n",
       " 'empty',\n",
       " 'empty_like',\n",
       " 'equal',\n",
       " 'errstate',\n",
       " 'euler_gamma',\n",
       " 'exp',\n",
       " 'exp2',\n",
       " 'expand_dims',\n",
       " 'expm1',\n",
       " 'extract',\n",
       " 'eye',\n",
       " 'fabs',\n",
       " 'fastCopyAndTranspose',\n",
       " 'fft',\n",
       " 'fill_diagonal',\n",
       " 'find_common_type',\n",
       " 'finfo',\n",
       " 'fix',\n",
       " 'flatiter',\n",
       " 'flatnonzero',\n",
       " 'flexible',\n",
       " 'flip',\n",
       " 'fliplr',\n",
       " 'flipud',\n",
       " 'float16',\n",
       " 'float32',\n",
       " 'float64',\n",
       " 'float_',\n",
       " 'float_power',\n",
       " 'floating',\n",
       " 'floor',\n",
       " 'floor_divide',\n",
       " 'fmax',\n",
       " 'fmin',\n",
       " 'fmod',\n",
       " 'format_float_positional',\n",
       " 'format_float_scientific',\n",
       " 'format_parser',\n",
       " 'frexp',\n",
       " 'frombuffer',\n",
       " 'fromfile',\n",
       " 'fromfunction',\n",
       " 'fromiter',\n",
       " 'frompyfunc',\n",
       " 'fromregex',\n",
       " 'fromstring',\n",
       " 'full',\n",
       " 'full_like',\n",
       " 'fv',\n",
       " 'gcd',\n",
       " 'generic',\n",
       " 'genfromtxt',\n",
       " 'geomspace',\n",
       " 'get_array_wrap',\n",
       " 'get_include',\n",
       " 'get_printoptions',\n",
       " 'getbufsize',\n",
       " 'geterr',\n",
       " 'geterrcall',\n",
       " 'geterrobj',\n",
       " 'gradient',\n",
       " 'greater',\n",
       " 'greater_equal',\n",
       " 'half',\n",
       " 'hamming',\n",
       " 'hanning',\n",
       " 'heaviside',\n",
       " 'histogram',\n",
       " 'histogram2d',\n",
       " 'histogram_bin_edges',\n",
       " 'histogramdd',\n",
       " 'hsplit',\n",
       " 'hstack',\n",
       " 'hypot',\n",
       " 'i0',\n",
       " 'identity',\n",
       " 'iinfo',\n",
       " 'imag',\n",
       " 'in1d',\n",
       " 'index_exp',\n",
       " 'indices',\n",
       " 'inexact',\n",
       " 'inf',\n",
       " 'info',\n",
       " 'infty',\n",
       " 'inner',\n",
       " 'insert',\n",
       " 'int0',\n",
       " 'int16',\n",
       " 'int32',\n",
       " 'int64',\n",
       " 'int8',\n",
       " 'int_',\n",
       " 'int_asbuffer',\n",
       " 'intc',\n",
       " 'integer',\n",
       " 'interp',\n",
       " 'intersect1d',\n",
       " 'intp',\n",
       " 'invert',\n",
       " 'ipmt',\n",
       " 'irr',\n",
       " 'is_busday',\n",
       " 'isclose',\n",
       " 'iscomplex',\n",
       " 'iscomplexobj',\n",
       " 'isfinite',\n",
       " 'isfortran',\n",
       " 'isin',\n",
       " 'isinf',\n",
       " 'isnan',\n",
       " 'isnat',\n",
       " 'isneginf',\n",
       " 'isposinf',\n",
       " 'isreal',\n",
       " 'isrealobj',\n",
       " 'isscalar',\n",
       " 'issctype',\n",
       " 'issubclass_',\n",
       " 'issubdtype',\n",
       " 'issubsctype',\n",
       " 'iterable',\n",
       " 'ix_',\n",
       " 'kaiser',\n",
       " 'kron',\n",
       " 'lcm',\n",
       " 'ldexp',\n",
       " 'left_shift',\n",
       " 'less',\n",
       " 'less_equal',\n",
       " 'lexsort',\n",
       " 'linalg',\n",
       " 'linspace',\n",
       " 'little_endian',\n",
       " 'load',\n",
       " 'loads',\n",
       " 'loadtxt',\n",
       " 'log',\n",
       " 'log10',\n",
       " 'log1p',\n",
       " 'log2',\n",
       " 'logaddexp',\n",
       " 'logaddexp2',\n",
       " 'logical_and',\n",
       " 'logical_not',\n",
       " 'logical_or',\n",
       " 'logical_xor',\n",
       " 'logspace',\n",
       " 'long',\n",
       " 'longcomplex',\n",
       " 'longdouble',\n",
       " 'longfloat',\n",
       " 'longlong',\n",
       " 'lookfor',\n",
       " 'ma',\n",
       " 'mafromtxt',\n",
       " 'mask_indices',\n",
       " 'mat',\n",
       " 'math',\n",
       " 'matmul',\n",
       " 'matrix',\n",
       " 'maximum',\n",
       " 'maximum_sctype',\n",
       " 'may_share_memory',\n",
       " 'mean',\n",
       " 'median',\n",
       " 'memmap',\n",
       " 'meshgrid',\n",
       " 'mgrid',\n",
       " 'min_scalar_type',\n",
       " 'minimum',\n",
       " 'mintypecode',\n",
       " 'mirr',\n",
       " 'mod',\n",
       " 'modf',\n",
       " 'moveaxis',\n",
       " 'msort',\n",
       " 'multiply',\n",
       " 'nan',\n",
       " 'nan_to_num',\n",
       " 'nanargmax',\n",
       " 'nanargmin',\n",
       " 'nancumprod',\n",
       " 'nancumsum',\n",
       " 'nanmax',\n",
       " 'nanmean',\n",
       " 'nanmedian',\n",
       " 'nanmin',\n",
       " 'nanpercentile',\n",
       " 'nanprod',\n",
       " 'nanquantile',\n",
       " 'nanstd',\n",
       " 'nansum',\n",
       " 'nanvar',\n",
       " 'nbytes',\n",
       " 'ndarray',\n",
       " 'ndenumerate',\n",
       " 'ndfromtxt',\n",
       " 'ndim',\n",
       " 'ndindex',\n",
       " 'nditer',\n",
       " 'negative',\n",
       " 'nested_iters',\n",
       " 'newaxis',\n",
       " 'nextafter',\n",
       " 'nonzero',\n",
       " 'not_equal',\n",
       " 'np',\n",
       " 'nper',\n",
       " 'npv',\n",
       " 'number',\n",
       " 'obj2sctype',\n",
       " 'object0',\n",
       " 'object_',\n",
       " 'ogrid',\n",
       " 'ones',\n",
       " 'ones_like',\n",
       " 'outer',\n",
       " 'packbits',\n",
       " 'pad',\n",
       " 'partition',\n",
       " 'percentile',\n",
       " 'pi',\n",
       " 'piecewise',\n",
       " 'place',\n",
       " 'pmt',\n",
       " 'poly',\n",
       " 'poly1d',\n",
       " 'polyadd',\n",
       " 'polyder',\n",
       " 'polydiv',\n",
       " 'polyfit',\n",
       " 'polyint',\n",
       " 'polymul',\n",
       " 'polysub',\n",
       " 'polyval',\n",
       " 'positive',\n",
       " 'power',\n",
       " 'ppmt',\n",
       " 'print_function',\n",
       " 'printoptions',\n",
       " 'prod',\n",
       " 'product',\n",
       " 'promote_types',\n",
       " 'ptp',\n",
       " 'put',\n",
       " 'put_along_axis',\n",
       " 'putmask',\n",
       " 'pv',\n",
       " 'quantile',\n",
       " 'r_',\n",
       " 'rad2deg',\n",
       " 'radians',\n",
       " 'rand',\n",
       " 'randn',\n",
       " 'random',\n",
       " 'rank',\n",
       " 'rate',\n",
       " 'ravel',\n",
       " 'ravel_multi_index',\n",
       " 'real',\n",
       " 'real_if_close',\n",
       " 'rec',\n",
       " 'recarray',\n",
       " 'recfromcsv',\n",
       " 'recfromtxt',\n",
       " 'reciprocal',\n",
       " 'record',\n",
       " 'remainder',\n",
       " 'repeat',\n",
       " 'repmat',\n",
       " 'require',\n",
       " 'reshape',\n",
       " 'resize',\n",
       " 'result_type',\n",
       " 'right_shift',\n",
       " 'rint',\n",
       " 'roll',\n",
       " 'rollaxis',\n",
       " 'roots',\n",
       " 'rot90',\n",
       " 'round_',\n",
       " 'row_stack',\n",
       " 's_',\n",
       " 'safe_eval',\n",
       " 'save',\n",
       " 'savetxt',\n",
       " 'savez',\n",
       " 'savez_compressed',\n",
       " 'sctype2char',\n",
       " 'sctypeDict',\n",
       " 'sctypeNA',\n",
       " 'sctypes',\n",
       " 'searchsorted',\n",
       " 'select',\n",
       " 'set_numeric_ops',\n",
       " 'set_printoptions',\n",
       " 'set_string_function',\n",
       " 'setbufsize',\n",
       " 'setdiff1d',\n",
       " 'seterr',\n",
       " 'seterrcall',\n",
       " 'seterrobj',\n",
       " 'setxor1d',\n",
       " 'shape',\n",
       " 'shares_memory',\n",
       " 'short',\n",
       " 'show_config',\n",
       " 'sign',\n",
       " 'signbit',\n",
       " 'signedinteger',\n",
       " 'sin',\n",
       " 'sinc',\n",
       " 'single',\n",
       " 'singlecomplex',\n",
       " 'sinh',\n",
       " 'size',\n",
       " 'sometrue',\n",
       " 'sort',\n",
       " 'sort_complex',\n",
       " 'source',\n",
       " 'spacing',\n",
       " 'split',\n",
       " 'sqrt',\n",
       " 'square',\n",
       " 'squeeze',\n",
       " 'stack',\n",
       " 'std',\n",
       " 'str0',\n",
       " 'str_',\n",
       " 'string_',\n",
       " 'subtract',\n",
       " 'sum',\n",
       " 'swapaxes',\n",
       " 'take',\n",
       " 'take_along_axis',\n",
       " 'tan',\n",
       " 'tanh',\n",
       " 'tensordot',\n",
       " 'tile',\n",
       " 'timedelta64',\n",
       " 'trace',\n",
       " 'tracemalloc_domain',\n",
       " 'transpose',\n",
       " 'trapz',\n",
       " 'tri',\n",
       " 'tril',\n",
       " 'tril_indices',\n",
       " 'tril_indices_from',\n",
       " 'trim_zeros',\n",
       " 'triu',\n",
       " 'triu_indices',\n",
       " 'triu_indices_from',\n",
       " 'true_divide',\n",
       " 'trunc',\n",
       " 'typeDict',\n",
       " 'typeNA',\n",
       " 'typecodes',\n",
       " 'typename',\n",
       " 'ubyte',\n",
       " 'ufunc',\n",
       " 'uint',\n",
       " 'uint0',\n",
       " 'uint16',\n",
       " 'uint32',\n",
       " 'uint64',\n",
       " 'uint8',\n",
       " 'uintc',\n",
       " 'uintp',\n",
       " 'ulonglong',\n",
       " 'unicode',\n",
       " 'unicode_',\n",
       " 'union1d',\n",
       " 'unique',\n",
       " 'unpackbits',\n",
       " 'unravel_index',\n",
       " 'unsignedinteger',\n",
       " 'unwrap',\n",
       " 'ushort',\n",
       " 'vander',\n",
       " 'var',\n",
       " 'vdot',\n",
       " 'vectorize',\n",
       " 'void',\n",
       " 'void0',\n",
       " 'vsplit',\n",
       " 'vstack',\n",
       " 'where',\n",
       " 'who',\n",
       " 'zeros',\n",
       " 'zeros_like']"
      ]
     },
     "execution_count": 23,
     "metadata": {},
     "output_type": "execute_result"
    }
   ],
   "source": [
    "dir(np.matlib)"
   ]
  },
  {
   "cell_type": "code",
   "execution_count": 22,
   "metadata": {
    "collapsed": true,
    "jupyter": {
     "outputs_hidden": true
    }
   },
   "outputs": [
    {
     "data": {
      "text/plain": [
       "['LinAlgError',\n",
       " '__builtins__',\n",
       " '__cached__',\n",
       " '__doc__',\n",
       " '__file__',\n",
       " '__loader__',\n",
       " '__name__',\n",
       " '__package__',\n",
       " '__path__',\n",
       " '__spec__',\n",
       " '_umath_linalg',\n",
       " 'absolute_import',\n",
       " 'cholesky',\n",
       " 'cond',\n",
       " 'det',\n",
       " 'division',\n",
       " 'eig',\n",
       " 'eigh',\n",
       " 'eigvals',\n",
       " 'eigvalsh',\n",
       " 'info',\n",
       " 'inv',\n",
       " 'lapack_lite',\n",
       " 'linalg',\n",
       " 'lstsq',\n",
       " 'matrix_power',\n",
       " 'matrix_rank',\n",
       " 'multi_dot',\n",
       " 'norm',\n",
       " 'pinv',\n",
       " 'print_function',\n",
       " 'qr',\n",
       " 'slogdet',\n",
       " 'solve',\n",
       " 'svd',\n",
       " 'tensorinv',\n",
       " 'tensorsolve',\n",
       " 'test']"
      ]
     },
     "execution_count": 22,
     "metadata": {},
     "output_type": "execute_result"
    }
   ],
   "source": [
    "dir(np.linalg)"
   ]
  },
  {
   "cell_type": "markdown",
   "metadata": {},
   "source": [
    "## Matrix"
   ]
  },
  {
   "cell_type": "markdown",
   "metadata": {},
   "source": [
    "- [Matrix Doc](https://numpy.org/doc/1.17/reference/routines.matlib.html)"
   ]
  },
  {
   "cell_type": "code",
   "execution_count": 25,
   "metadata": {},
   "outputs": [],
   "source": [
    "import numpy as np\n",
    "import numpy.matlib as mtx"
   ]
  },
  {
   "cell_type": "code",
   "execution_count": 26,
   "metadata": {},
   "outputs": [
    {
     "data": {
      "text/plain": [
       "(matrix([[0.05395525, 0.21497501],\n",
       "         [0.70770796, 0.81646857],\n",
       "         [0.37112593, 0.33885063],\n",
       "         [0.38326344, 0.18155835]]),\n",
       " matrix([[ 1.96458013,  0.80130716,  0.1063167 , -0.03900101],\n",
       "         [ 1.97779931,  1.06765547, -1.67334701,  0.97493122]]),\n",
       " matrix([[ 0.53117685,  0.27275398, -0.35399145,  0.20748154],\n",
       "         [ 3.00515998,  1.4387986 , -1.29099407,  0.76839938],\n",
       "         [ 1.39928515,  0.65916158, -0.5275578 ,  0.31588177],\n",
       "         [ 1.11203772,  0.5009535 , -0.26306282,  0.16205924]]))"
      ]
     },
     "execution_count": 26,
     "metadata": {},
     "output_type": "execute_result"
    }
   ],
   "source": [
    "A1 = mtx.rand(4,2)\n",
    "A2 = mtx.randn(2,4)\n",
    "A3 = mtx.mat(A1*A2)\n",
    "\n",
    "A1, A2, A3"
   ]
  },
  {
   "cell_type": "code",
   "execution_count": null,
   "metadata": {},
   "outputs": [],
   "source": [
    "mtx.empty(shape[, dtype, order])\n",
    "mtx.zeros(shape[, dtype, order])\n",
    "mtx.ones(shape[, dtype, order])\n",
    "mtx.eye(n[, M, k, dtype, order])\n",
    "mtx.identity(n[, dtype])\n",
    "mtx.repmat(a, m, n)\n"
   ]
  },
  {
   "cell_type": "code",
   "execution_count": null,
   "metadata": {},
   "outputs": [],
   "source": [
    "a = np.mat()"
   ]
  },
  {
   "cell_type": "code",
   "execution_count": 78,
   "metadata": {
    "collapsed": true,
    "jupyter": {
     "outputs_hidden": true
    }
   },
   "outputs": [
    {
     "data": {
      "text/plain": [
       "(array([[1., 0., 0., 0., 0.],\n",
       "        [0., 1., 0., 0., 0.],\n",
       "        [0., 0., 1., 0., 0.],\n",
       "        [0., 0., 0., 1., 0.],\n",
       "        [0., 0., 0., 0., 1.]]), array([[0., 0., 0., 0., 0.],\n",
       "        [1., 0., 0., 0., 0.],\n",
       "        [0., 1., 0., 0., 0.],\n",
       "        [0., 0., 1., 0., 0.],\n",
       "        [0., 0., 0., 1., 0.]]))"
      ]
     },
     "execution_count": 78,
     "metadata": {},
     "output_type": "execute_result"
    }
   ],
   "source": [
    "d2 = np.eye(5)\n",
    "d3 = np.eye(5, k=-1)\n",
    "\n",
    "d2, d3"
   ]
  },
  {
   "cell_type": "code",
   "execution_count": 15,
   "metadata": {},
   "outputs": [
    {
     "data": {
      "text/plain": [
       "(array([[1., 0., 0., 0., 0.],\n",
       "        [0., 1., 0., 0., 0.],\n",
       "        [0., 0., 1., 0., 0.],\n",
       "        [0., 0., 0., 1., 0.],\n",
       "        [0., 0., 0., 0., 1.]]), array([[1, 0, 0, 0, 0],\n",
       "        [0, 1, 0, 0, 0],\n",
       "        [0, 0, 1, 0, 0],\n",
       "        [0, 0, 0, 1, 0],\n",
       "        [0, 0, 0, 0, 1]]))"
      ]
     },
     "execution_count": 15,
     "metadata": {},
     "output_type": "execute_result"
    }
   ],
   "source": [
    "d2 = np.identity(5)\n",
    "d3 = np.identity(5, dtype=np.int32)\n",
    "\n",
    "d2, d3"
   ]
  },
  {
   "cell_type": "code",
   "execution_count": 79,
   "metadata": {
    "collapsed": true,
    "jupyter": {
     "outputs_hidden": true
    }
   },
   "outputs": [
    {
     "data": {
      "text/plain": [
       "(array([[1, 1, 0, 0],\n",
       "        [1, 1, 1, 0],\n",
       "        [1, 1, 1, 1],\n",
       "        [1, 1, 1, 1]]), array([[2, 2, 0, 0, 0],\n",
       "        [2, 2, 2, 0, 0],\n",
       "        [2, 2, 2, 2, 0],\n",
       "        [2, 2, 2, 2, 2]]), array([[2, 2, 2, 2, 2],\n",
       "        [2, 2, 2, 2, 2],\n",
       "        [0, 2, 2, 2, 2],\n",
       "        [0, 0, 2, 2, 2]]))"
      ]
     },
     "execution_count": 79,
     "metadata": {},
     "output_type": "execute_result"
    }
   ],
   "source": [
    "m1 = np.tri(4, 4, k=1, dtype=np.int32)\n",
    "m2  = np.tril(np.full((4,5), fill_value=2), k=1)\n",
    "m3  = np.triu(np.full((4,5), fill_value=2), k=-1)\n",
    "\n",
    "m1, m2, m3"
   ]
  },
  {
   "cell_type": "markdown",
   "metadata": {},
   "source": [
    "## Matrix Operation"
   ]
  },
  {
   "cell_type": "code",
   "execution_count": 29,
   "metadata": {},
   "outputs": [],
   "source": [
    "import numpy.linalg as lag"
   ]
  },
  {
   "cell_type": "code",
   "execution_count": 42,
   "metadata": {},
   "outputs": [
    {
     "data": {
      "text/plain": [
       "(matrix([[ 0.38276027, -0.77477859,  2.39661447, -0.29973329],\n",
       "         [ 2.18927726, -0.62803249,  0.50454674,  1.64684823],\n",
       "         [ 1.28833514,  0.06960588,  0.04590963, -0.14178456],\n",
       "         [ 1.12685443, -1.19404941,  1.66671153, -0.14564166]]),\n",
       " matrix([[ 0.77317698],\n",
       "         [-0.02277099],\n",
       "         [ 0.4990158 ],\n",
       "         [-0.25913431]]))"
      ]
     },
     "execution_count": 42,
     "metadata": {},
     "output_type": "execute_result"
    }
   ],
   "source": [
    "A = np.matlib.randn(4,4)\n",
    "v = np.matlib.randn(4,1)\n",
    "A, v"
   ]
  },
  {
   "cell_type": "code",
   "execution_count": 30,
   "metadata": {},
   "outputs": [
    {
     "data": {
      "text/plain": [
       "-2.082845477065814"
      ]
     },
     "execution_count": 30,
     "metadata": {},
     "output_type": "execute_result"
    }
   ],
   "source": [
    "lag.det(A)"
   ]
  },
  {
   "cell_type": "code",
   "execution_count": 31,
   "metadata": {
    "collapsed": true,
    "jupyter": {
     "outputs_hidden": true
    }
   },
   "outputs": [
    {
     "data": {
      "text/plain": [
       "matrix([[-0.02534996,  0.0737456 , -0.36620377,  0.17181988],\n",
       "        [-1.44232302, -1.91740879, -0.19060758, -0.69126863],\n",
       "        [-0.33164806,  1.07505665,  0.53030056, -0.73604776],\n",
       "        [ 0.55526033,  0.70631044, -0.20281189, -0.11870126]])"
      ]
     },
     "execution_count": 31,
     "metadata": {},
     "output_type": "execute_result"
    }
   ],
   "source": [
    "lag.inv(A)"
   ]
  },
  {
   "cell_type": "code",
   "execution_count": 32,
   "metadata": {
    "collapsed": true,
    "jupyter": {
     "outputs_hidden": true
    }
   },
   "outputs": [
    {
     "data": {
      "text/plain": [
       "matrix([[-1.85651084,  1.14255547, -1.80773915,  1.2028771 ],\n",
       "        [ 0.05452927, -0.27165901, -0.3869938 , -0.70016703],\n",
       "        [-0.71529946,  0.57212373,  0.10661302, -0.1238642 ],\n",
       "        [ 1.43060585, -0.31176833, -1.02409292, -1.83779285]])"
      ]
     },
     "execution_count": 32,
     "metadata": {},
     "output_type": "execute_result"
    }
   ],
   "source": [
    "A.transpose()"
   ]
  },
  {
   "cell_type": "code",
   "execution_count": 33,
   "metadata": {},
   "outputs": [
    {
     "data": {
      "text/plain": [
       "-3.85934968253094"
      ]
     },
     "execution_count": 33,
     "metadata": {},
     "output_type": "execute_result"
    }
   ],
   "source": [
    "np.trace(A)"
   ]
  },
  {
   "cell_type": "code",
   "execution_count": 39,
   "metadata": {},
   "outputs": [
    {
     "data": {
      "text/plain": [
       "((4, 4), (1, 4))"
      ]
     },
     "execution_count": 39,
     "metadata": {},
     "output_type": "execute_result"
    }
   ],
   "source": [
    "A.shape, v.shape"
   ]
  },
  {
   "cell_type": "code",
   "execution_count": 45,
   "metadata": {},
   "outputs": [
    {
     "data": {
      "text/plain": [
       "matrix([[ 1.11022302e-16],\n",
       "        [-3.46944695e-18],\n",
       "        [ 5.55111512e-17],\n",
       "        [-1.66533454e-16]])"
      ]
     },
     "execution_count": 45,
     "metadata": {},
     "output_type": "execute_result"
    }
   ],
   "source": [
    "r = lag.solve(A, v)\n",
    "A*r-v"
   ]
  },
  {
   "cell_type": "code",
   "execution_count": 50,
   "metadata": {},
   "outputs": [
    {
     "data": {
      "text/plain": [
       "(array([ 1.34040578+0.j        , -1.15778855+0.j        ,\n",
       "        -0.26381074+1.57161807j, -0.26381074-1.57161807j]),\n",
       " matrix([[ 0.42623363+0.j        ,  0.51217949+0.j        ,\n",
       "          -0.03073873+0.2316187j , -0.03073873-0.2316187j ],\n",
       "         [ 0.7612303 +0.j        , -0.56827682+0.j        ,\n",
       "           0.81556391+0.j        ,  0.81556391-0.j        ],\n",
       "         [ 0.44238528+0.j        , -0.55400724+0.j        ,\n",
       "           0.14227839-0.02293519j,  0.14227839+0.02293519j],\n",
       "         [ 0.20772237+0.j        , -0.32834373+0.j        ,\n",
       "           0.17764576+0.47742669j,  0.17764576-0.47742669j]]))"
      ]
     },
     "execution_count": 50,
     "metadata": {},
     "output_type": "execute_result"
    }
   ],
   "source": [
    "lag.eig(A)"
   ]
  },
  {
   "cell_type": "code",
   "execution_count": 51,
   "metadata": {},
   "outputs": [
    {
     "data": {
      "text/plain": [
       "(matrix([[-0.5384389 ,  0.60233263,  0.1566291 , -0.56810762],\n",
       "         [-0.57655279, -0.71596471,  0.3784859 , -0.10830438],\n",
       "         [-0.20198765, -0.25705827, -0.88715479, -0.3256968 ],\n",
       "         [-0.58040625,  0.24189044, -0.21253733,  0.74796088]]),\n",
       " array([3.84732942, 2.46358148, 0.91576801, 0.45406243]),\n",
       " matrix([[-0.61928361,  0.3790263 , -0.66486931, -0.17542995],\n",
       "         [-0.56645098, -0.13141324,  0.59818666, -0.55139511],\n",
       "         [-0.5393171 , -0.18238838,  0.18713914,  0.80053138],\n",
       "         [-0.06897939, -0.89766592, -0.40632556, -0.1560041 ]]))"
      ]
     },
     "execution_count": 51,
     "metadata": {},
     "output_type": "execute_result"
    }
   ],
   "source": [
    "lag.svd(A)"
   ]
  },
  {
   "cell_type": "code",
   "execution_count": null,
   "metadata": {},
   "outputs": [],
   "source": [
    "np.dot(), np.vdot(), np.inner()"
   ]
  },
  {
   "cell_type": "code",
   "execution_count": null,
   "metadata": {},
   "outputs": [],
   "source": []
  },
  {
   "cell_type": "code",
   "execution_count": null,
   "metadata": {},
   "outputs": [],
   "source": []
  },
  {
   "cell_type": "markdown",
   "metadata": {
    "toc-hr-collapsed": false
   },
   "source": [
    "# Statistic"
   ]
  },
  {
   "cell_type": "code",
   "execution_count": 9,
   "metadata": {},
   "outputs": [],
   "source": [
    "import numpy as np\n",
    "from scipy import stats"
   ]
  },
  {
   "cell_type": "markdown",
   "metadata": {},
   "source": [
    "- [Numpy Statistic docs](https://numpy.org/doc/1.17/reference/routines.statistics.html)"
   ]
  },
  {
   "cell_type": "markdown",
   "metadata": {},
   "source": [
    "## Basic Statistic Concepts"
   ]
  },
  {
   "cell_type": "markdown",
   "metadata": {},
   "source": [
    "## Variable Categories"
   ]
  },
  {
   "cell_type": "markdown",
   "metadata": {},
   "source": [
    "- Numeric Variables\n",
    "  - Continuous Variable\n",
    "  - Discrete Variable\n",
    "  - Interval Variable\n",
    "  - Cardinal\n",
    "  - Ratio"
   ]
  },
  {
   "cell_type": "markdown",
   "metadata": {},
   "source": [
    "- Categorical Variables\n",
    "  - Nominal Variable\n",
    "  - Ordinal Variable"
   ]
  },
  {
   "cell_type": "code",
   "execution_count": null,
   "metadata": {},
   "outputs": [],
   "source": []
  },
  {
   "cell_type": "code",
   "execution_count": null,
   "metadata": {},
   "outputs": [],
   "source": []
  },
  {
   "cell_type": "markdown",
   "metadata": {},
   "source": [
    "## Statistic Values"
   ]
  },
  {
   "cell_type": "markdown",
   "metadata": {},
   "source": [
    "- mean(average):\n",
    "> $$mean(s) = \\frac{\\sum_{i=1}^{n}\\ x_i}{n}$$"
   ]
  },
  {
   "cell_type": "markdown",
   "metadata": {},
   "source": [
    "- median: one of definitions\n",
    "> $$\\text{original series: s, sort s first to ranked series: r}.\\\\\n",
    "        n:=|r|\\\\\n",
    "       median(s) =   \\left\\{\n",
    "                \\begin{array}{cl}\n",
    "                  r_{\\frac{n+1}{2}} & \\text{if n is odd} \\\\\n",
    "                  \\frac{r_{\\frac{n}{2}}+r_{\\frac{n}{2}+1}}{2} & \\text{if n is even}\n",
    "                \\end{array}\n",
    "              \\right.\n",
    "  $$ "
   ]
  },
  {
   "cell_type": "markdown",
   "metadata": {},
   "source": [
    "- mode: one of definitions\n",
    "> $$\n",
    "    \\text{original series: s, sort s first to ranked series: r} \\\\ \n",
    "    \\text{count r's element into C: } \\\\  \n",
    "        C = \\{(r_i, c_i) | r_i \\in r, c_i = r.count(r_i)\\} \\\\\n",
    "        mode(s) = (r_m, c_m), \\; c_m = Max(c_i),\\ r_m = Min(r_k | c_k==c_m)\n",
    "$$"
   ]
  },
  {
   "cell_type": "markdown",
   "metadata": {},
   "source": [
    "- var: variance\n",
    "> $$\n",
    "\\text{series $s$;  $\\mu = mean(s); n = |s|$} \\\\\n",
    "var(s) = \\frac{1}{n}\\sum_{i=1}^n(x_i-\\mu)^2\n",
    "$$"
   ]
  },
  {
   "cell_type": "markdown",
   "metadata": {},
   "source": [
    "- percentile: one of definition\n",
    "> $$\n",
    "\\text{seires $s$, sort into $o$} \\\\\n",
    "\\text{$r_{th}-percentile: $ linear interpolation C=0} \\\\\n",
    "    given\\ p \\in (0, 100], \\; \\lambda=\\frac{p}{100}, \\; l=\\lambda(|s|+1) \\\\\n",
    "    x_{r_{th}} = \\{o_{r}+\\lambda(o_{r+1}-o_{r}) |\\; r=\\lfloor l \\rfloor \\}\\\\\n",
    "    \\\\\n",
    "$$\n",
    "\n",
    "    > $$\n",
    "        given\\ x, \\; find\\ rank\\ r \\ where\\ o_{r}<x\\le o_{r+1} \\\\\n",
    "        percentile(x) = \\frac{r}{|s|}\n",
    "    $$"
   ]
  },
  {
   "cell_type": "markdown",
   "metadata": {},
   "source": [
    "- q-quantile: one of deinition\n",
    "> $$\n",
    "\\text{seires $s$, sort into $o$} \\\\\n",
    "\\text{let $r_{th}$ percentile function as: $Pr$} \\\\\n",
    "\\mathop{\\mbox{$q$-$\\mathit{quantile}$}}(s) = \\{(x_1, x_2, \\ldots, x_{q-1})|x_i=Pr(i/q)\\} \n",
    "$$"
   ]
  },
  {
   "cell_type": "markdown",
   "metadata": {},
   "source": [
    "- z_score: z-score is the number of standard deviations from the mean a data point is\n",
    "\n",
    "> $$\n",
    "z = \\frac{(x-\\mu)}{\\sigma},\\; \\text{$\\mu$ is mean, $\\sigma$ is standard deviation}\\\\\n",
    "$$\n",
    "z score tells you how many standard deviations from the mean your value $x$ is"
   ]
  },
  {
   "cell_type": "markdown",
   "metadata": {},
   "source": [
    "- outlier\n",
    "  - a data point that differs significantly from other observations\n",
    "  - normally distributed data $\\mathop{\\mbox{$3$-$\\mathit{\\sigma}$}}$ rule\n",
    "      - $z\\_score(x) \\ge 3$ then x is an outlier\n",
    "  - Interquartile Ranges: IQR rule\n",
    "      - $iqr=q_3-q_1,\\; q_3=Pr(3/4), \\; q_1=Pr(1/4)$\n",
    "      - $outlier(x)={true|\\ x < q_1-1.5\\,iqr,\\ or x > q_3+1.5\\,iqr }$"
   ]
  },
  {
   "cell_type": "code",
   "execution_count": 19,
   "metadata": {},
   "outputs": [],
   "source": []
  },
  {
   "cell_type": "code",
   "execution_count": 22,
   "metadata": {},
   "outputs": [
    {
     "data": {
      "text/plain": [
       "array([ 2.93356687, -0.57927468, -0.3101838 , -0.05099034, -0.03424658,\n",
       "       -0.49094202, -0.16700602, -0.14527633, -0.55709849, -0.59854861])"
      ]
     },
     "execution_count": 22,
     "metadata": {},
     "output_type": "execute_result"
    }
   ],
   "source": []
  },
  {
   "cell_type": "code",
   "execution_count": null,
   "metadata": {},
   "outputs": [],
   "source": []
  },
  {
   "cell_type": "code",
   "execution_count": null,
   "metadata": {},
   "outputs": [],
   "source": []
  },
  {
   "cell_type": "code",
   "execution_count": null,
   "metadata": {},
   "outputs": [],
   "source": []
  },
  {
   "cell_type": "code",
   "execution_count": null,
   "metadata": {},
   "outputs": [],
   "source": []
  },
  {
   "cell_type": "markdown",
   "metadata": {},
   "source": [
    "## Order statistics"
   ]
  },
  {
   "cell_type": "code",
   "execution_count": null,
   "metadata": {},
   "outputs": [],
   "source": [
    "np.amin()\n",
    "np.amax()\n",
    "np.nanmin()\n",
    "np.nanmax()\n",
    "np.ptp()\n",
    "np.percentile()\n",
    "np.nanpercentile()\n",
    "np.quantile()\n",
    "np.nanquantile()"
   ]
  },
  {
   "cell_type": "code",
   "execution_count": 28,
   "metadata": {},
   "outputs": [
    {
     "data": {
      "text/plain": [
       "array([  0.,  20.,  40.,  60.,  80., 100.])"
      ]
     },
     "execution_count": 28,
     "metadata": {},
     "output_type": "execute_result"
    }
   ],
   "source": [
    "a1 = np.arange(101)\n",
    "q = list(range(0, 101, 20))\n",
    "np.percentile(a1, q)"
   ]
  },
  {
   "cell_type": "code",
   "execution_count": 27,
   "metadata": {},
   "outputs": [
    {
     "data": {
      "text/plain": [
       "array([  0.,  20.,  40.,  60.,  80., 100.])"
      ]
     },
     "execution_count": 27,
     "metadata": {},
     "output_type": "execute_result"
    }
   ],
   "source": [
    "a1 = np.arange(101)\n",
    "q = np.linspace(0, 1, 6)\n",
    "np.quantile(a1, q)"
   ]
  },
  {
   "cell_type": "markdown",
   "metadata": {},
   "source": [
    "## Averages and variances"
   ]
  },
  {
   "cell_type": "code",
   "execution_count": null,
   "metadata": {},
   "outputs": [],
   "source": [
    "import numpy as np\n",
    "from scipy import stats"
   ]
  },
  {
   "cell_type": "code",
   "execution_count": null,
   "metadata": {},
   "outputs": [],
   "source": [
    "np.average()\n",
    "np.median()\n",
    "np.mean()\n",
    "np.std()\n",
    "np.var()\n",
    "np.nanmedian()\n",
    "np.nanmean()\n",
    "np.nanstd()\n",
    "np.nanvar()"
   ]
  },
  {
   "cell_type": "code",
   "execution_count": 16,
   "metadata": {},
   "outputs": [
    {
     "name": "stdout",
     "output_type": "stream",
     "text": [
      "ModeResult(mode=array([2]), count=array([5]))\n"
     ]
    }
   ],
   "source": [
    "mode = stats.mode(np.array([5,2,6,2,2,2,5,6,5,5,5,6,6,6,2]))\n",
    "print(mode)"
   ]
  },
  {
   "cell_type": "code",
   "execution_count": 23,
   "metadata": {},
   "outputs": [
    {
     "data": {
      "text/plain": [
       "array([ 2.93356687, -0.57927468, -0.3101838 , -0.05099034, -0.03424658,\n",
       "       -0.49094202, -0.16700602, -0.14527633, -0.55709849, -0.59854861])"
      ]
     },
     "execution_count": 23,
     "metadata": {},
     "output_type": "execute_result"
    }
   ],
   "source": [
    "a = np.array([ 4.7972,  0.0767,  0.4383,  0.7866,  0.8091,  0.1954,  0.6307,  0.6599,  0.1065,  0.0508])\n",
    "stats.zscore(a)"
   ]
  },
  {
   "cell_type": "markdown",
   "metadata": {},
   "source": [
    "## Correlating"
   ]
  },
  {
   "cell_type": "code",
   "execution_count": null,
   "metadata": {},
   "outputs": [],
   "source": [
    "np.corrcoef()\n",
    "np.correlate()\n",
    "np.cov()"
   ]
  },
  {
   "cell_type": "markdown",
   "metadata": {},
   "source": [
    "## Histogram"
   ]
  },
  {
   "cell_type": "code",
   "execution_count": null,
   "metadata": {},
   "outputs": [],
   "source": [
    "np.histogram()\n",
    "np.histogram2d()\n",
    "np.histogramdd()\n",
    "np.bincount()\n",
    "np.histogram_bin_edges(\n",
    "np.digitize()"
   ]
  },
  {
   "cell_type": "code",
   "execution_count": null,
   "metadata": {},
   "outputs": [],
   "source": []
  },
  {
   "cell_type": "markdown",
   "metadata": {
    "toc-hr-collapsed": false
   },
   "source": [
    "# Random"
   ]
  },
  {
   "cell_type": "markdown",
   "metadata": {},
   "source": [
    "## random generator\n",
    "- np.random.randn, sigma * np.matlib.randn(...) + mu\n",
    "  - [randn ref](https://www.numpy.org/devdocs/reference/generated/numpy.matlib.randn.html#numpy.matlib.randn)"
   ]
  },
  {
   "cell_type": "code",
   "execution_count": 17,
   "metadata": {},
   "outputs": [],
   "source": [
    "import numpy.random as nprd\n",
    "import numpy as np\n",
    "import matplotlib.pyplot as plt"
   ]
  },
  {
   "cell_type": "code",
   "execution_count": 2,
   "metadata": {},
   "outputs": [
    {
     "data": {
      "text/plain": [
       "array([26, 23, 17,  6, 94, 75, 90, 44, 19, 68])"
      ]
     },
     "execution_count": 2,
     "metadata": {},
     "output_type": "execute_result"
    }
   ],
   "source": [
    "ri = nprd.randint(low=0, high=100, size=10)\n",
    "ri"
   ]
  },
  {
   "cell_type": "code",
   "execution_count": 6,
   "metadata": {
    "collapsed": true,
    "jupyter": {
     "outputs_hidden": true
    }
   },
   "outputs": [
    {
     "data": {
      "text/plain": [
       "array([[[58, 66, 70],\n",
       "        [58, 10, 68],\n",
       "        [94, 27, 32],\n",
       "        [64, 76, 26],\n",
       "        [79, 38, 16],\n",
       "        [11, 42, 21]],\n",
       "\n",
       "       [[99,  5, 25],\n",
       "        [66, 55, 35],\n",
       "        [46, 93, 75],\n",
       "        [30, 11, 64],\n",
       "        [58, 48, 63],\n",
       "        [42,  8, 83]],\n",
       "\n",
       "       [[63, 34, 63],\n",
       "        [57, 35, 30],\n",
       "        [45, 53, 99],\n",
       "        [ 2, 92, 59],\n",
       "        [21, 95, 84],\n",
       "        [55, 79, 39]],\n",
       "\n",
       "       [[50, 18, 12],\n",
       "        [22, 73, 19],\n",
       "        [61, 78, 20],\n",
       "        [15,  6, 66],\n",
       "        [61, 83, 49],\n",
       "        [96, 78, 31]]])"
      ]
     },
     "execution_count": 6,
     "metadata": {},
     "output_type": "execute_result"
    }
   ],
   "source": [
    "ri = nprd.randint(low=0, high=100, size=(4, 6, 3))\n",
    "ri"
   ]
  },
  {
   "cell_type": "code",
   "execution_count": 3,
   "metadata": {
    "collapsed": true,
    "jupyter": {
     "outputs_hidden": true
    }
   },
   "outputs": [
    {
     "data": {
      "text/plain": [
       "array([[[0.72234849, 0.51418432, 0.3982604 ],\n",
       "        [0.30710748, 0.99849228, 0.13723327],\n",
       "        [0.59649077, 0.40308648, 0.70125702],\n",
       "        [0.75981473, 0.36013678, 0.97066465],\n",
       "        [0.09841878, 0.58747772, 0.08160544],\n",
       "        [0.88467898, 0.75112714, 0.28043717]],\n",
       "\n",
       "       [[0.52201459, 0.71987937, 0.73137731],\n",
       "        [0.96128343, 0.01582618, 0.44245851],\n",
       "        [0.32272249, 0.18562993, 0.65734396],\n",
       "        [0.45169572, 0.04635571, 0.99673651],\n",
       "        [0.04890552, 0.00861314, 0.91579517],\n",
       "        [0.21994979, 0.03968544, 0.34933305]],\n",
       "\n",
       "       [[0.2675421 , 0.01458211, 0.31737914],\n",
       "        [0.08227559, 0.81127398, 0.67034405],\n",
       "        [0.45175484, 0.38027625, 0.88475846],\n",
       "        [0.60463965, 0.95555319, 0.18782969],\n",
       "        [0.8759184 , 0.57862607, 0.91315503],\n",
       "        [0.85515017, 0.14135297, 0.03804333]],\n",
       "\n",
       "       [[0.6117738 , 0.03965089, 0.61338096],\n",
       "        [0.44110077, 0.93383291, 0.4127729 ],\n",
       "        [0.96542994, 0.29815438, 0.88721956],\n",
       "        [0.13315463, 0.16117537, 0.11182524],\n",
       "        [0.52852044, 0.2749732 , 0.17702288],\n",
       "        [0.97403771, 0.43939859, 0.61761807]]])"
      ]
     },
     "execution_count": 3,
     "metadata": {},
     "output_type": "execute_result"
    }
   ],
   "source": [
    "rarr = nprd.rand(4, 6, 3)\n",
    "rarr"
   ]
  },
  {
   "cell_type": "code",
   "execution_count": 4,
   "metadata": {
    "collapsed": true,
    "jupyter": {
     "outputs_hidden": true
    }
   },
   "outputs": [
    {
     "data": {
      "text/plain": [
       "array([[[ 0.35715893,  1.37895156, -0.25494014],\n",
       "        [ 1.18074357,  0.6258577 ,  0.63421037],\n",
       "        [-1.09982065,  1.03952686, -0.88925539],\n",
       "        [-1.13159392,  0.00550192,  1.01824599],\n",
       "        [-0.92819026, -0.54640356,  2.38966738],\n",
       "        [-0.75645107,  0.48493713,  0.32744655]],\n",
       "\n",
       "       [[ 0.60210743, -0.39397644, -0.83636314],\n",
       "        [ 1.35155155,  0.21559443, -0.98606471],\n",
       "        [ 0.15020375,  1.52023747,  0.5644494 ],\n",
       "        [ 0.28461505, -0.15958924,  0.38778651],\n",
       "        [-0.8505432 ,  0.31222595, -1.1754124 ],\n",
       "        [-0.08825642, -0.54538567, -0.97876592]],\n",
       "\n",
       "       [[-0.92562318, -0.5529631 ,  0.23486756],\n",
       "        [ 0.8205693 , -0.7819036 ,  0.60362279],\n",
       "        [-0.46940693,  0.31949625,  0.56621945],\n",
       "        [ 0.22199533,  1.04194966, -0.92994889],\n",
       "        [-0.54847033, -0.91093192,  0.74965635],\n",
       "        [ 0.46975711,  0.08813544, -0.23117627]],\n",
       "\n",
       "       [[-0.32162944, -0.09237148, -0.19592241],\n",
       "        [ 1.79975884, -0.47504965,  0.06206034],\n",
       "        [ 0.27522202,  0.64357545, -0.33197143],\n",
       "        [ 0.44053929,  0.35352218,  0.47944118],\n",
       "        [ 0.07503106, -1.56019754, -0.8577695 ],\n",
       "        [-0.65012351, -2.42990608, -1.28306794]]])"
      ]
     },
     "execution_count": 4,
     "metadata": {},
     "output_type": "execute_result"
    }
   ],
   "source": [
    "rarr = nprd.randn(4, 6, 3)\n",
    "rarr"
   ]
  },
  {
   "cell_type": "code",
   "execution_count": 22,
   "metadata": {},
   "outputs": [
    {
     "data": {
      "image/png": "[encoded data removed]",
      "text/plain": [
       "<Figure size 432x288 with 1 Axes>"
      ]
     },
     "metadata": {
      "needs_background": "light"
     },
     "output_type": "display_data"
    }
   ],
   "source": [
    "mu, sigma = 0, 5\n",
    "nd = nprd.normal(mu, sigma, 1000)\n",
    "count, bins, ignored = plt.hist(nd, density=True)\n",
    "plt.plot(bins, 1/(sigma * np.sqrt(2 * np.pi))*np.exp( - (bins - mu)**2 / (2 * sigma**2) ), linewidth=2, color='r')\n",
    "plt.show()"
   ]
  },
  {
   "cell_type": "code",
   "execution_count": null,
   "metadata": {},
   "outputs": [],
   "source": []
  },
  {
   "cell_type": "code",
   "execution_count": null,
   "metadata": {},
   "outputs": [],
   "source": []
  },
  {
   "cell_type": "code",
   "execution_count": null,
   "metadata": {},
   "outputs": [],
   "source": []
  },
  {
   "cell_type": "code",
   "execution_count": null,
   "metadata": {},
   "outputs": [],
   "source": []
  },
  {
   "cell_type": "markdown",
   "metadata": {},
   "source": [
    "# Examples"
   ]
  },
  {
   "cell_type": "markdown",
   "metadata": {},
   "source": [
    "## Scipy.misc"
   ]
  },
  {
   "cell_type": "code",
   "execution_count": 48,
   "metadata": {},
   "outputs": [],
   "source": [
    "from scipy import misc\n",
    "import matplotlib.pyplot as plt"
   ]
  },
  {
   "cell_type": "code",
   "execution_count": 49,
   "metadata": {},
   "outputs": [
    {
     "data": {
      "text/plain": [
       "<matplotlib.image.AxesImage at 0x19533441608>"
      ]
     },
     "execution_count": 49,
     "metadata": {},
     "output_type": "execute_result"
    },
    {
     "data": {
      "image/png": "[encoded data removed]",
      "text/plain": [
       "<Figure size 432x288 with 1 Axes>"
      ]
     },
     "metadata": {
      "needs_background": "light"
     },
     "output_type": "display_data"
    }
   ],
   "source": [
    "face = misc.face(gray=True)\n",
    "plt.imshow(face)"
   ]
  },
  {
   "cell_type": "code",
   "execution_count": null,
   "metadata": {},
   "outputs": [],
   "source": []
  },
  {
   "cell_type": "code",
   "execution_count": null,
   "metadata": {},
   "outputs": [],
   "source": []
  },
  {
   "cell_type": "markdown",
   "metadata": {},
   "source": [
    "## Mandelbrot Set"
   ]
  },
  {
   "cell_type": "code",
   "execution_count": 52,
   "metadata": {},
   "outputs": [],
   "source": [
    "import numpy as np\n",
    "import matplotlib.pyplot as plt\n",
    "from numpy import newaxis"
   ]
  },
  {
   "cell_type": "code",
   "execution_count": 56,
   "metadata": {},
   "outputs": [],
   "source": [
    "def compute_mandelbrot(N_max, some_threshold, nx, ny):\n",
    "    # A grid of c-values\n",
    "    x = np.linspace(-2, 1, nx)\n",
    "    y = np.linspace(-1.5, 1.5, ny)\n",
    "\n",
    "    c = x[:,newaxis] + 1j*y[newaxis,:]\n",
    "\n",
    "    # Mandelbrot iteration\n",
    "\n",
    "    z = c\n",
    "    for j in range(N_max):\n",
    "        z = z**2 + c\n",
    "\n",
    "    mandelbrot_set = (abs(z) < some_threshold)\n",
    "\n",
    "    return mandelbrot_set"
   ]
  },
  {
   "cell_type": "code",
   "execution_count": 57,
   "metadata": {},
   "outputs": [
    {
     "name": "stderr",
     "output_type": "stream",
     "text": [
      "C:\\Users\\hpzju\\Anaconda3\\envs\\ds\\lib\\site-packages\\ipykernel_launcher.py:12: RuntimeWarning: overflow encountered in square\n",
      "  if sys.path[0] == '':\n",
      "C:\\Users\\hpzju\\Anaconda3\\envs\\ds\\lib\\site-packages\\ipykernel_launcher.py:12: RuntimeWarning: invalid value encountered in square\n",
      "  if sys.path[0] == '':\n",
      "C:\\Users\\hpzju\\Anaconda3\\envs\\ds\\lib\\site-packages\\ipykernel_launcher.py:14: RuntimeWarning: invalid value encountered in less\n",
      "  \n"
     ]
    },
    {
     "data": {
      "text/plain": [
       "<matplotlib.image.AxesImage at 0x195345656c8>"
      ]
     },
     "execution_count": 57,
     "metadata": {},
     "output_type": "execute_result"
    },
    {
     "data": {
      "image/png": "[encoded data removed]",
      "text/plain": [
       "<Figure size 864x576 with 1 Axes>"
      ]
     },
     "metadata": {
      "needs_background": "light"
     },
     "output_type": "display_data"
    }
   ],
   "source": [
    "mandelbrot_set = compute_mandelbrot(50, 50., 601, 401)\n",
    "plt.figure(figsize=(12,8))\n",
    "plt.imshow(mandelbrot_set.T, extent=[-2, 1, -1.5, 1.5])"
   ]
  },
  {
   "cell_type": "markdown",
   "metadata": {},
   "source": [
    "## Random Walk"
   ]
  },
  {
   "cell_type": "code",
   "execution_count": 12,
   "metadata": {},
   "outputs": [],
   "source": [
    "import numpy as np\n",
    "import pandas as pd\n",
    "import scipy.linalg as slg\n",
    "import matplotlib.pyplot as plt\n",
    "import seaborn as sns"
   ]
  },
  {
   "cell_type": "code",
   "execution_count": 59,
   "metadata": {},
   "outputs": [],
   "source": [
    "n_samples = 2000\n",
    "n_steps = 200\n",
    "t_series = np.arange(n_steps)\n",
    "walking_simulation = 2*np.random.randint(0, 2, (n_samples, n_steps)) - 1\n",
    "pos_simulation = np.cumsum(walking_simulation, axis=1)"
   ]
  },
  {
   "cell_type": "code",
   "execution_count": 60,
   "metadata": {},
   "outputs": [
    {
     "data": {
      "text/plain": [
       "array([-1,  1])"
      ]
     },
     "execution_count": 60,
     "metadata": {},
     "output_type": "execute_result"
    }
   ],
   "source": [
    "np.unique(walking_simulation)"
   ]
  },
  {
   "cell_type": "code",
   "execution_count": 61,
   "metadata": {},
   "outputs": [],
   "source": [
    "sq_pos = pos_simulation**2\n",
    "mean_sq_pos = np.mean(sq_pos, axis=0)"
   ]
  },
  {
   "cell_type": "code",
   "execution_count": 62,
   "metadata": {},
   "outputs": [
    {
     "data": {
      "image/png": "[encoded data removed]",
      "text/plain": [
       "<Figure size 720x576 with 1 Axes>"
      ]
     },
     "metadata": {
      "needs_background": "light"
     },
     "output_type": "display_data"
    }
   ],
   "source": [
    "plt.figure(figsize=(10, 8)) \n",
    "plt.plot(t_series, np.sqrt(mean_sq_pos), 'g.')\n",
    "plt.plot(t_series, np.sqrt(t_series), 'r-')\n",
    "plt.xlabel(r\"$t$\") \n",
    "plt.ylabel(r\"$\\sqrt{\\langle (\\delta x)^2 \\rangle}$\") \n",
    "plt.show()"
   ]
  },
  {
   "cell_type": "code",
   "execution_count": null,
   "metadata": {},
   "outputs": [],
   "source": []
  },
  {
   "cell_type": "code",
   "execution_count": null,
   "metadata": {},
   "outputs": [],
   "source": []
  },
  {
   "cell_type": "code",
   "execution_count": null,
   "metadata": {},
   "outputs": [],
   "source": []
  },
  {
   "cell_type": "markdown",
   "metadata": {},
   "source": [
    "# End"
   ]
  },
  {
   "cell_type": "code",
   "execution_count": null,
   "metadata": {},
   "outputs": [],
   "source": []
  }
 ],
 "metadata": {
  "kernelspec": {
   "display_name": "Python 3",
   "language": "python",
   "name": "python3"
  },
  "language_info": {
   "codemirror_mode": {
    "name": "ipython",
    "version": 3
   },
   "file_extension": ".py",
   "mimetype": "text/x-python",
   "name": "python",
   "nbconvert_exporter": "python",
   "pygments_lexer": "ipython3",
   "version": "3.7.4"
  },
  "toc": {
   "base_numbering": 1,
   "nav_menu": {},
   "number_sections": true,
   "sideBar": true,
   "skip_h1_title": false,
   "title_cell": "Table of Contents",
   "title_sidebar": "Contents",
   "toc_cell": false,
   "toc_position": {
    "height": "calc(100% - 180px)",
    "left": "10px",
    "top": "150px",
    "width": "235.636px"
   },
   "toc_section_display": true,
   "toc_window_display": true
  },
  "toc-autonumbering": true,
  "toc-showcode": false,
  "toc-showmarkdowntxt": false,
  "toc-showtags": false
 },
 "nbformat": 4,
 "nbformat_minor": 4
}
