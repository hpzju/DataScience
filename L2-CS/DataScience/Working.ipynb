{
 "cells": [
  {
   "cell_type": "code",
   "execution_count": 2,
   "metadata": {},
   "outputs": [],
   "source": [
    "import numpy as np\n",
    "import pandas as pd\n",
    "import scipy.linalg as slg\n",
    "import matplotlib.pyplot as plt\n",
    "import matplotlib as mpl"
   ]
  },
  {
   "cell_type": "code",
   "execution_count": 4,
   "metadata": {},
   "outputs": [],
   "source": [
    "import itertools"
   ]
  },
  {
   "cell_type": "code",
   "execution_count": 21,
   "metadata": {},
   "outputs": [],
   "source": [
    "a = np.linspace(-2,-1,50).reshape(-1,1)\n",
    "b = np.linspace(1,2,50).reshape(1,-1)"
   ]
  },
  {
   "cell_type": "code",
   "execution_count": 24,
   "metadata": {},
   "outputs": [
    {
     "data": {
      "text/plain": [
       "((50, 1), (1, 50))"
      ]
     },
     "execution_count": 24,
     "metadata": {},
     "output_type": "execute_result"
    }
   ],
   "source": [
    "a.shape, b.shape"
   ]
  },
  {
   "cell_type": "code",
   "execution_count": 27,
   "metadata": {},
   "outputs": [
    {
     "ename": "ValueError",
     "evalue": "incompatible dimensions for cross product\n(dimension must be 2 or 3)",
     "output_type": "error",
     "traceback": [
      "\u001b[1;31m---------------------------------------------------------------------------\u001b[0m",
      "\u001b[1;31mValueError\u001b[0m                                Traceback (most recent call last)",
      "\u001b[1;32m<ipython-input-27-991d3d3db6c7>\u001b[0m in \u001b[0;36m<module>\u001b[1;34m\u001b[0m\n\u001b[1;32m----> 1\u001b[1;33m \u001b[0mnp\u001b[0m\u001b[1;33m.\u001b[0m\u001b[0mcross\u001b[0m\u001b[1;33m(\u001b[0m\u001b[0ma\u001b[0m\u001b[1;33m,\u001b[0m\u001b[0mb\u001b[0m\u001b[1;33m)\u001b[0m\u001b[1;33m\u001b[0m\u001b[1;33m\u001b[0m\u001b[0m\n\u001b[0m",
      "\u001b[1;32m<__array_function__ internals>\u001b[0m in \u001b[0;36mcross\u001b[1;34m(*args, **kwargs)\u001b[0m\n",
      "\u001b[1;32m~\\AppData\\Roaming\\Python\\Python37\\site-packages\\numpy\\core\\numeric.py\u001b[0m in \u001b[0;36mcross\u001b[1;34m(a, b, axisa, axisb, axisc, axis)\u001b[0m\n\u001b[0;32m   1543\u001b[0m            \"(dimension must be 2 or 3)\")\n\u001b[0;32m   1544\u001b[0m     \u001b[1;32mif\u001b[0m \u001b[0ma\u001b[0m\u001b[1;33m.\u001b[0m\u001b[0mshape\u001b[0m\u001b[1;33m[\u001b[0m\u001b[1;33m-\u001b[0m\u001b[1;36m1\u001b[0m\u001b[1;33m]\u001b[0m \u001b[1;32mnot\u001b[0m \u001b[1;32min\u001b[0m \u001b[1;33m(\u001b[0m\u001b[1;36m2\u001b[0m\u001b[1;33m,\u001b[0m \u001b[1;36m3\u001b[0m\u001b[1;33m)\u001b[0m \u001b[1;32mor\u001b[0m \u001b[0mb\u001b[0m\u001b[1;33m.\u001b[0m\u001b[0mshape\u001b[0m\u001b[1;33m[\u001b[0m\u001b[1;33m-\u001b[0m\u001b[1;36m1\u001b[0m\u001b[1;33m]\u001b[0m \u001b[1;32mnot\u001b[0m \u001b[1;32min\u001b[0m \u001b[1;33m(\u001b[0m\u001b[1;36m2\u001b[0m\u001b[1;33m,\u001b[0m \u001b[1;36m3\u001b[0m\u001b[1;33m)\u001b[0m\u001b[1;33m:\u001b[0m\u001b[1;33m\u001b[0m\u001b[1;33m\u001b[0m\u001b[0m\n\u001b[1;32m-> 1545\u001b[1;33m         \u001b[1;32mraise\u001b[0m \u001b[0mValueError\u001b[0m\u001b[1;33m(\u001b[0m\u001b[0mmsg\u001b[0m\u001b[1;33m)\u001b[0m\u001b[1;33m\u001b[0m\u001b[1;33m\u001b[0m\u001b[0m\n\u001b[0m\u001b[0;32m   1546\u001b[0m \u001b[1;33m\u001b[0m\u001b[0m\n\u001b[0;32m   1547\u001b[0m     \u001b[1;31m# Create the output array\u001b[0m\u001b[1;33m\u001b[0m\u001b[1;33m\u001b[0m\u001b[1;33m\u001b[0m\u001b[0m\n",
      "\u001b[1;31mValueError\u001b[0m: incompatible dimensions for cross product\n(dimension must be 2 or 3)"
     ]
    }
   ],
   "source": [
    "np.cross(a,b)"
   ]
  },
  {
   "cell_type": "code",
   "execution_count": 16,
   "metadata": {},
   "outputs": [],
   "source": [
    "b = a.reshape((5,1))"
   ]
  },
  {
   "cell_type": "code",
   "execution_count": 25,
   "metadata": {},
   "outputs": [
    {
     "data": {
      "text/plain": [
       "array([[ 0,  0,  0,  0,  0],\n",
       "       [ 0,  1,  2,  3,  4],\n",
       "       [ 0,  2,  4,  6,  8],\n",
       "       [ 0,  3,  6,  9, 12],\n",
       "       [ 0,  4,  8, 12, 16]])"
      ]
     },
     "execution_count": 25,
     "metadata": {},
     "output_type": "execute_result"
    }
   ],
   "source": [
    "b.dot(a)"
   ]
  },
  {
   "cell_type": "code",
   "execution_count": 11,
   "metadata": {},
   "outputs": [],
   "source": [
    "import numpy as np\n",
    "import matplotlib.pyplot as plt\n",
    "import matplotlib as mpl\n",
    "mpl.rcParams['agg.path.chunksize'] = 10000"
   ]
  },
  {
   "cell_type": "code",
   "execution_count": 55,
   "metadata": {},
   "outputs": [],
   "source": [
    "ints = np.linspace(0, 10000, 10000)"
   ]
  },
  {
   "cell_type": "code",
   "execution_count": null,
   "metadata": {},
   "outputs": [],
   "source": [
    "plt.figure(figsize=(16,16))\n",
    "plt.polar(ints, ints, 'o', markersize=0.5)"
   ]
  },
  {
   "cell_type": "code",
   "execution_count": null,
   "metadata": {},
   "outputs": [],
   "source": []
  },
  {
   "cell_type": "markdown",
   "metadata": {},
   "source": [
    "# Boto3"
   ]
  },
  {
   "cell_type": "code",
   "execution_count": 57,
   "metadata": {},
   "outputs": [],
   "source": [
    "import boto3\n",
    "from IPython.display import display_json\n",
    "from IPython.display import JSON"
   ]
  },
  {
   "cell_type": "code",
   "execution_count": 58,
   "metadata": {},
   "outputs": [],
   "source": [
    "boto_session = boto3.Session()"
   ]
  },
  {
   "cell_type": "code",
   "execution_count": 59,
   "metadata": {},
   "outputs": [
    {
     "data": {
      "text/plain": [
       "['cloudformation',\n",
       " 'cloudwatch',\n",
       " 'dynamodb',\n",
       " 'ec2',\n",
       " 'glacier',\n",
       " 'iam',\n",
       " 'opsworks',\n",
       " 's3',\n",
       " 'sns',\n",
       " 'sqs']"
      ]
     },
     "execution_count": 59,
     "metadata": {},
     "output_type": "execute_result"
    }
   ],
   "source": [
    "boto_session.get_available_services()\n",
    "boto_session.get_available_regions('lightsail')\n",
    "boto_session.get_available_resources()"
   ]
  },
  {
   "cell_type": "code",
   "execution_count": 67,
   "metadata": {},
   "outputs": [],
   "source": [
    "boto3.setup_default_session(region_name='us-east-1')\n",
    "client = boto3.client('lightsail')"
   ]
  },
  {
   "cell_type": "code",
   "execution_count": 63,
   "metadata": {
    "collapsed": true
   },
   "outputs": [
    {
     "data": {
      "text/plain": [
       "{'instance': {'name': 'AWSLightsail-Ubuntu',\n",
       "  'arn': 'arn:aws:lightsail:us-west-2:616263549301:Instance/017a8fc4-7296-4259-92f5-c031a7560ce5',\n",
       "  'supportCode': '962392921815/i-051288e2ea30769ac',\n",
       "  'createdAt': datetime.datetime(2019, 1, 16, 16, 58, 12, 332000, tzinfo=tzlocal()),\n",
       "  'location': {'availabilityZone': 'us-west-2a', 'regionName': 'us-west-2'},\n",
       "  'resourceType': 'Instance',\n",
       "  'tags': [{'key': 'Locale', 'value': 'US-Oregon-West-2'},\n",
       "   {'key': 'Project', 'value': 'knoconida.com'},\n",
       "   {'key': 'OS', 'value': 'Ubuntu 18.04 LTS'},\n",
       "   {'key': 'HWinfo', 'value': '1vCPU 1GB 40GB 2TB'}],\n",
       "  'blueprintId': 'ubuntu_18_04',\n",
       "  'blueprintName': 'Ubuntu',\n",
       "  'bundleId': 'micro_2_0',\n",
       "  'isStaticIp': True,\n",
       "  'privateIpAddress': '172.26.5.192',\n",
       "  'publicIpAddress': '35.164.223.56',\n",
       "  'hardware': {'cpuCount': 1,\n",
       "   'disks': [{'createdAt': datetime.datetime(2019, 1, 16, 16, 58, 12, 332000, tzinfo=tzlocal()),\n",
       "     'sizeInGb': 40,\n",
       "     'isSystemDisk': True,\n",
       "     'iops': 120,\n",
       "     'path': '/dev/sda1',\n",
       "     'attachedTo': 'AWSLightsail-Ubuntu',\n",
       "     'attachmentState': 'attached'}],\n",
       "   'ramSizeInGb': 1.0},\n",
       "  'networking': {'monthlyTransfer': {'gbPerMonthAllocated': 2048},\n",
       "   'ports': [{'fromPort': 27017,\n",
       "     'toPort': 27017,\n",
       "     'protocol': 'udp',\n",
       "     'accessFrom': 'Anywhere (0.0.0.0/0)',\n",
       "     'accessType': 'public',\n",
       "     'commonName': '',\n",
       "     'accessDirection': 'inbound'},\n",
       "    {'fromPort': 80,\n",
       "     'toPort': 80,\n",
       "     'protocol': 'tcp',\n",
       "     'accessFrom': 'Anywhere (0.0.0.0/0)',\n",
       "     'accessType': 'public',\n",
       "     'commonName': '',\n",
       "     'accessDirection': 'inbound'},\n",
       "    {'fromPort': 9900,\n",
       "     'toPort': 9999,\n",
       "     'protocol': 'tcp',\n",
       "     'accessFrom': 'Anywhere (0.0.0.0/0)',\n",
       "     'accessType': 'public',\n",
       "     'commonName': '',\n",
       "     'accessDirection': 'inbound'},\n",
       "    {'fromPort': 8989,\n",
       "     'toPort': 8989,\n",
       "     'protocol': 'udp',\n",
       "     'accessFrom': 'Anywhere (0.0.0.0/0)',\n",
       "     'accessType': 'public',\n",
       "     'commonName': '',\n",
       "     'accessDirection': 'inbound'},\n",
       "    {'fromPort': 8080,\n",
       "     'toPort': 8099,\n",
       "     'protocol': 'tcp',\n",
       "     'accessFrom': 'Anywhere (0.0.0.0/0)',\n",
       "     'accessType': 'public',\n",
       "     'commonName': '',\n",
       "     'accessDirection': 'inbound'},\n",
       "    {'fromPort': 8989,\n",
       "     'toPort': 8989,\n",
       "     'protocol': 'tcp',\n",
       "     'accessFrom': 'Anywhere (0.0.0.0/0)',\n",
       "     'accessType': 'public',\n",
       "     'commonName': '',\n",
       "     'accessDirection': 'inbound'},\n",
       "    {'fromPort': 443,\n",
       "     'toPort': 443,\n",
       "     'protocol': 'tcp',\n",
       "     'accessFrom': 'Anywhere (0.0.0.0/0)',\n",
       "     'accessType': 'public',\n",
       "     'commonName': '',\n",
       "     'accessDirection': 'inbound'},\n",
       "    {'fromPort': 8686,\n",
       "     'toPort': 8686,\n",
       "     'protocol': 'tcp',\n",
       "     'accessFrom': 'Anywhere (0.0.0.0/0)',\n",
       "     'accessType': 'public',\n",
       "     'commonName': '',\n",
       "     'accessDirection': 'inbound'},\n",
       "    {'fromPort': 9900,\n",
       "     'toPort': 9999,\n",
       "     'protocol': 'udp',\n",
       "     'accessFrom': 'Anywhere (0.0.0.0/0)',\n",
       "     'accessType': 'public',\n",
       "     'commonName': '',\n",
       "     'accessDirection': 'inbound'},\n",
       "    {'fromPort': 22,\n",
       "     'toPort': 22,\n",
       "     'protocol': 'tcp',\n",
       "     'accessFrom': 'Anywhere (0.0.0.0/0)',\n",
       "     'accessType': 'public',\n",
       "     'commonName': '',\n",
       "     'accessDirection': 'inbound'},\n",
       "    {'fromPort': 8080,\n",
       "     'toPort': 8099,\n",
       "     'protocol': 'udp',\n",
       "     'accessFrom': 'Anywhere (0.0.0.0/0)',\n",
       "     'accessType': 'public',\n",
       "     'commonName': '',\n",
       "     'accessDirection': 'inbound'},\n",
       "    {'fromPort': 27017,\n",
       "     'toPort': 27017,\n",
       "     'protocol': 'tcp',\n",
       "     'accessFrom': 'Anywhere (0.0.0.0/0)',\n",
       "     'accessType': 'public',\n",
       "     'commonName': '',\n",
       "     'accessDirection': 'inbound'},\n",
       "    {'fromPort': 8686,\n",
       "     'toPort': 8686,\n",
       "     'protocol': 'udp',\n",
       "     'accessFrom': 'Anywhere (0.0.0.0/0)',\n",
       "     'accessType': 'public',\n",
       "     'commonName': '',\n",
       "     'accessDirection': 'inbound'},\n",
       "    {'fromPort': 3306,\n",
       "     'toPort': 3306,\n",
       "     'protocol': 'tcp',\n",
       "     'accessFrom': 'Anywhere (0.0.0.0/0)',\n",
       "     'accessType': 'public',\n",
       "     'commonName': '',\n",
       "     'accessDirection': 'inbound'}]},\n",
       "  'state': {'code': 16, 'name': 'running'},\n",
       "  'username': 'ubuntu',\n",
       "  'sshKeyName': 'ssh_github'},\n",
       " 'ResponseMetadata': {'RequestId': '1f6581f0-deb6-48d1-8a46-46a53906d2da',\n",
       "  'HTTPStatusCode': 200,\n",
       "  'HTTPHeaders': {'server': 'Server',\n",
       "   'date': 'Mon, 28 Oct 2019 07:43:28 GMT',\n",
       "   'content-type': 'application/x-amz-json-1.1',\n",
       "   'content-length': '3132',\n",
       "   'connection': 'keep-alive',\n",
       "   'x-amzn-requestid': '1f6581f0-deb6-48d1-8a46-46a53906d2da'},\n",
       "  'RetryAttempts': 0}}"
      ]
     },
     "execution_count": 63,
     "metadata": {},
     "output_type": "execute_result"
    }
   ],
   "source": [
    "client.get_instance(instanceName='AWSLightsail-Ubuntu')"
   ]
  },
  {
   "cell_type": "code",
   "execution_count": 69,
   "metadata": {
    "collapsed": true
   },
   "outputs": [
    {
     "data": {
      "text/plain": [
       "{'domain': {'name': 'knoconida.com',\n",
       "  'arn': 'arn:aws:lightsail:global:616263549301:Domain/38ded8bb-6689-4e01-8f36-62ead4f4d808',\n",
       "  'supportCode': '962392921815//hostedzone/Z10IASTFQQNOKK',\n",
       "  'createdAt': datetime.datetime(2019, 1, 16, 17, 3, 56, 271000, tzinfo=tzlocal()),\n",
       "  'location': {'availabilityZone': 'all', 'regionName': 'global'},\n",
       "  'resourceType': 'Domain',\n",
       "  'tags': [],\n",
       "  'domainEntries': [{'id': '1440397719',\n",
       "    'name': 'knoconida.com',\n",
       "    'target': '35.164.223.56',\n",
       "    'isAlias': False,\n",
       "    'type': 'A'},\n",
       "   {'id': '-1035106764',\n",
       "    'name': 'knoconida.com',\n",
       "    'target': 'ns-1122.awsdns-12.org',\n",
       "    'isAlias': False,\n",
       "    'type': 'NS'},\n",
       "   {'id': '-1436767764',\n",
       "    'name': 'knoconida.com',\n",
       "    'target': 'ns-1965.awsdns-53.co.uk',\n",
       "    'isAlias': False,\n",
       "    'type': 'NS'},\n",
       "   {'id': '567757138',\n",
       "    'name': 'knoconida.com',\n",
       "    'target': 'ns-848.awsdns-42.net',\n",
       "    'isAlias': False,\n",
       "    'type': 'NS'},\n",
       "   {'id': '20304465',\n",
       "    'name': 'knoconida.com',\n",
       "    'target': 'ns-40.awsdns-05.com',\n",
       "    'isAlias': False,\n",
       "    'type': 'NS'},\n",
       "   {'id': '516980393',\n",
       "    'name': 'knoconida.com',\n",
       "    'target': 'ns-1122.awsdns-12.org. awsdns-hostmaster.amazon.com. 1 7200 900 1209600 86400',\n",
       "    'isAlias': False,\n",
       "    'type': 'SOA'},\n",
       "   {'id': '1893870106',\n",
       "    'name': '_acme-challenge.knoconida.com',\n",
       "    'target': '\"j-53Gf7b66qXEGSBOjPXlx54uDexTL0PF_lYx19vdG4\"',\n",
       "    'isAlias': False,\n",
       "    'type': 'TXT'},\n",
       "   {'id': '1755461707',\n",
       "    'name': 'blog.knoconida.com',\n",
       "    'target': '35.164.223.56',\n",
       "    'isAlias': False,\n",
       "    'type': 'A'},\n",
       "   {'id': '670305766',\n",
       "    'name': 'devops.knoconida.com',\n",
       "    'target': '35.164.223.56',\n",
       "    'isAlias': False,\n",
       "    'type': 'A'},\n",
       "   {'id': '615325309',\n",
       "    'name': 'devops1.knoconida.com',\n",
       "    'target': '35.164.223.56',\n",
       "    'isAlias': False,\n",
       "    'type': 'A'},\n",
       "   {'id': '966125246',\n",
       "    'name': 'devops2.knoconida.com',\n",
       "    'target': '35.164.223.56',\n",
       "    'isAlias': False,\n",
       "    'type': 'A'},\n",
       "   {'id': '1316925183',\n",
       "    'name': 'devops3.knoconida.com',\n",
       "    'target': '35.164.223.56',\n",
       "    'isAlias': False,\n",
       "    'type': 'A'},\n",
       "   {'id': '1479769003',\n",
       "    'name': 'jia.knoconida.com',\n",
       "    'target': '35.164.223.56',\n",
       "    'isAlias': False,\n",
       "    'type': 'A'},\n",
       "   {'id': '1646848832',\n",
       "    'name': 'kb.knoconida.com',\n",
       "    'target': '35.164.223.56',\n",
       "    'isAlias': False,\n",
       "    'type': 'A'},\n",
       "   {'id': '144862217',\n",
       "    'name': 'www.knoconida.com',\n",
       "    'target': 'knoconida.com',\n",
       "    'isAlias': False,\n",
       "    'type': 'CNAME'}]},\n",
       " 'ResponseMetadata': {'RequestId': '5f64432c-a1bf-42cd-ac2f-5e40b2eb8610',\n",
       "  'HTTPStatusCode': 200,\n",
       "  'HTTPHeaders': {'server': 'Server',\n",
       "   'date': 'Mon, 28 Oct 2019 07:46:49 GMT',\n",
       "   'content-type': 'application/x-amz-json-1.1',\n",
       "   'content-length': '1945',\n",
       "   'connection': 'keep-alive',\n",
       "   'x-amzn-requestid': '5f64432c-a1bf-42cd-ac2f-5e40b2eb8610'},\n",
       "  'RetryAttempts': 0}}"
      ]
     },
     "execution_count": 69,
     "metadata": {},
     "output_type": "execute_result"
    }
   ],
   "source": [
    "client.get_domain(domainName='knoconida.com')"
   ]
  },
  {
   "cell_type": "code",
   "execution_count": null,
   "metadata": {},
   "outputs": [],
   "source": []
  },
  {
   "cell_type": "code",
   "execution_count": null,
   "metadata": {},
   "outputs": [],
   "source": [
    "aws --region us-east-1 lightsail get-domain --domain-name knoconida.com"
   ]
  },
  {
   "cell_type": "code",
   "execution_count": null,
   "metadata": {},
   "outputs": [],
   "source": [
    "aws --region us-east-1 lightsail create-domain-entry --domain-name knoconida.com --domain-entry name=\"jia.knoconida.com\",target=\"35.164.223.56\",isAlias=false,type=\"A\""
   ]
  },
  {
   "cell_type": "code",
   "execution_count": null,
   "metadata": {},
   "outputs": [],
   "source": [
    "aws --region us-east-1 lightsail delete-domain-entry --domain-name knoconida.com --domain-entry id=\"2087774743\",name=\"bootstrap.knoconida.com\",target=\"35.164.223.56\",isAlias=false,type=\"A\""
   ]
  },
  {
   "cell_type": "code",
   "execution_count": null,
   "metadata": {},
   "outputs": [],
   "source": [
    "aws --region us-east-1 lightsail delete-domain-entry --domain-name knoconida.com --domain-entry  id=\"81039803\",name=\"ocf.knoconida.com\",target=\"35.164.223.56\",isAlias=false,type=\"A\""
   ]
  },
  {
   "cell_type": "code",
   "execution_count": null,
   "metadata": {},
   "outputs": [],
   "source": []
  },
  {
   "cell_type": "code",
   "execution_count": null,
   "metadata": {},
   "outputs": [],
   "source": []
  },
  {
   "cell_type": "markdown",
   "metadata": {
    "heading_collapsed": true
   },
   "source": [
    "## APIs"
   ]
  },
  {
   "cell_type": "markdown",
   "metadata": {
    "hidden": true
   },
   "source": [
    "https://boto3.amazonaws.com/v1/documentation/api/latest/reference/services/lightsail.html"
   ]
  },
  {
   "cell_type": "markdown",
   "metadata": {
    "hidden": true
   },
   "source": [
    "allocate_static_ip()\n",
    "attach_disk()\n",
    "attach_instances_to_load_balancer()\n",
    "attach_load_balancer_tls_certificate()\n",
    "attach_static_ip()\n",
    "can_paginate()\n",
    "close_instance_public_ports()\n",
    "copy_snapshot()\n",
    "create_cloud_formation_stack()\n",
    "create_disk()\n",
    "create_disk_from_snapshot()\n",
    "create_disk_snapshot()\n",
    "create_domain()\n",
    "create_domain_entry()\n",
    "create_instance_snapshot()\n",
    "create_instances()\n",
    "create_instances_from_snapshot()\n",
    "create_key_pair()\n",
    "create_load_balancer()\n",
    "create_load_balancer_tls_certificate()\n",
    "create_relational_database()\n",
    "create_relational_database_from_snapshot()\n",
    "create_relational_database_snapshot()\n",
    "delete_auto_snapshot()\n",
    "delete_disk()\n",
    "delete_disk_snapshot()\n",
    "delete_domain()\n",
    "delete_domain_entry()\n",
    "delete_instance()\n",
    "delete_instance_snapshot()\n",
    "delete_key_pair()\n",
    "delete_known_host_keys()\n",
    "delete_load_balancer()\n",
    "delete_load_balancer_tls_certificate()\n",
    "delete_relational_database()\n",
    "delete_relational_database_snapshot()\n",
    "detach_disk()\n",
    "detach_instances_from_load_balancer()\n",
    "detach_static_ip()\n",
    "disable_add_on()\n",
    "download_default_key_pair()\n",
    "enable_add_on()\n",
    "export_snapshot()\n",
    "generate_presigned_url()\n",
    "get_active_names()\n",
    "get_auto_snapshots()\n",
    "get_blueprints()\n",
    "get_bundles()\n",
    "get_cloud_formation_stack_records()\n",
    "get_disk()\n",
    "get_disk_snapshot()\n",
    "get_disk_snapshots()\n",
    "get_disks()\n",
    "get_domain()\n",
    "get_domains()\n",
    "get_export_snapshot_records()\n",
    "get_instance()\n",
    "get_instance_access_details()\n",
    "get_instance_metric_data()\n",
    "get_instance_port_states()\n",
    "get_instance_snapshot()\n",
    "get_instance_snapshots()\n",
    "get_instance_state()\n",
    "get_instances()\n",
    "get_key_pair()\n",
    "get_key_pairs()\n",
    "get_load_balancer()\n",
    "get_load_balancer_metric_data()\n",
    "get_load_balancer_tls_certificates()\n",
    "get_load_balancers()\n",
    "get_operation()\n",
    "get_operations()\n",
    "get_operations_for_resource()\n",
    "get_paginator()\n",
    "get_regions()\n",
    "get_relational_database()\n",
    "get_relational_database_blueprints()\n",
    "get_relational_database_bundles()\n",
    "get_relational_database_events()\n",
    "get_relational_database_log_events()\n",
    "get_relational_database_log_streams()\n",
    "get_relational_database_master_user_password()\n",
    "get_relational_database_metric_data()\n",
    "get_relational_database_parameters()\n",
    "get_relational_database_snapshot()\n",
    "get_relational_database_snapshots()\n",
    "get_relational_databases()\n",
    "get_static_ip()\n",
    "get_static_ips()\n",
    "get_waiter()\n",
    "import_key_pair()\n",
    "is_vpc_peered()\n",
    "open_instance_public_ports()\n",
    "peer_vpc()\n",
    "put_instance_public_ports()\n",
    "reboot_instance()\n",
    "reboot_relational_database()\n",
    "release_static_ip()\n",
    "start_instance()\n",
    "start_relational_database()\n",
    "stop_instance()\n",
    "stop_relational_database()\n",
    "tag_resource()\n",
    "unpeer_vpc()\n",
    "untag_resource()\n",
    "update_domain_entry()\n",
    "update_load_balancer_attribute()\n",
    "update_relational_database()\n",
    "update_relational_database_parameters()\n",
    "allocate_static_ip(**kwargs)¶"
   ]
  },
  {
   "cell_type": "code",
   "execution_count": null,
   "metadata": {
    "hidden": true
   },
   "outputs": [],
   "source": []
  },
  {
   "cell_type": "code",
   "execution_count": null,
   "metadata": {
    "hidden": true
   },
   "outputs": [],
   "source": []
  },
  {
   "cell_type": "code",
   "execution_count": null,
   "metadata": {
    "hidden": true
   },
   "outputs": [],
   "source": []
  },
  {
   "cell_type": "markdown",
   "metadata": {},
   "source": [
    "# PySpark"
   ]
  },
  {
   "cell_type": "code",
   "execution_count": 7,
   "metadata": {},
   "outputs": [],
   "source": [
    "import numpy as np\n",
    "from sklearn.datasets import make_classification\n",
    "from sklearn.model_selection import train_test_split\n",
    "from sklearn.ensemble import RandomForestClassifier\n",
    "from sklearn.model_selection import GridSearchCV\n",
    "import pandas as pd\n",
    "import pyspark\n",
    "import pyspark.sql.functions as F\n",
    "from pyspark.sql.types import DoubleType, StringType, ArrayType"
   ]
  },
  {
   "cell_type": "code",
   "execution_count": 9,
   "metadata": {},
   "outputs": [],
   "source": [
    "import scipy"
   ]
  },
  {
   "cell_type": "code",
   "execution_count": 10,
   "metadata": {
    "scrolled": true
   },
   "outputs": [
    {
     "data": {
      "text/plain": [
       "'1.3.1'"
      ]
     },
     "execution_count": 10,
     "metadata": {},
     "output_type": "execute_result"
    }
   ],
   "source": [
    "scipy.version.version"
   ]
  },
  {
   "cell_type": "markdown",
   "metadata": {},
   "source": [
    "# Keras"
   ]
  },
  {
   "cell_type": "code",
   "execution_count": 1,
   "metadata": {},
   "outputs": [
    {
     "name": "stderr",
     "output_type": "stream",
     "text": [
      "Using TensorFlow backend.\n"
     ]
    }
   ],
   "source": [
    "import keras"
   ]
  },
  {
   "cell_type": "code",
   "execution_count": 2,
   "metadata": {},
   "outputs": [
    {
     "data": {
      "text/plain": [
       "'2.3.1'"
      ]
     },
     "execution_count": 2,
     "metadata": {},
     "output_type": "execute_result"
    }
   ],
   "source": [
    "keras.__version__"
   ]
  },
  {
   "cell_type": "code",
   "execution_count": null,
   "metadata": {},
   "outputs": [],
   "source": []
  },
  {
   "cell_type": "markdown",
   "metadata": {},
   "source": [
    "# Tensorflow"
   ]
  },
  {
   "cell_type": "markdown",
   "metadata": {},
   "source": [
    "## GPU Checking"
   ]
  },
  {
   "cell_type": "code",
   "execution_count": 1,
   "metadata": {},
   "outputs": [],
   "source": [
    "import tensorflow as tf"
   ]
  },
  {
   "cell_type": "code",
   "execution_count": 2,
   "metadata": {},
   "outputs": [
    {
     "data": {
      "text/plain": [
       "'2.0.0'"
      ]
     },
     "execution_count": 2,
     "metadata": {},
     "output_type": "execute_result"
    }
   ],
   "source": [
    "tf.__version__"
   ]
  },
  {
   "cell_type": "code",
   "execution_count": 3,
   "metadata": {},
   "outputs": [
    {
     "data": {
      "text/plain": [
       "True"
      ]
     },
     "execution_count": 3,
     "metadata": {},
     "output_type": "execute_result"
    }
   ],
   "source": [
    "tf.test.is_gpu_available(cuda_only=False, min_cuda_compute_capability=None)"
   ]
  },
  {
   "cell_type": "code",
   "execution_count": 4,
   "metadata": {},
   "outputs": [
    {
     "data": {
      "text/plain": [
       "True"
      ]
     },
     "execution_count": 4,
     "metadata": {},
     "output_type": "execute_result"
    }
   ],
   "source": [
    "\n",
    "tf.test.is_gpu_available()"
   ]
  },
  {
   "cell_type": "code",
   "execution_count": 4,
   "metadata": {},
   "outputs": [
    {
     "name": "stdout",
     "output_type": "stream",
     "text": [
      "[name: \"/device:CPU:0\"\n",
      "device_type: \"CPU\"\n",
      "memory_limit: 268435456\n",
      "locality {\n",
      "}\n",
      "incarnation: 3191306189365980891\n",
      ", name: \"/device:GPU:0\"\n",
      "device_type: \"GPU\"\n",
      "memory_limit: 4939015782\n",
      "locality {\n",
      "  bus_id: 1\n",
      "  links {\n",
      "  }\n",
      "}\n",
      "incarnation: 3788731647910136678\n",
      "physical_device_desc: \"device: 0, name: GeForce GTX 1060, pci bus id: 0000:02:00.0, compute capability: 6.1\"\n",
      "]\n"
     ]
    }
   ],
   "source": [
    "from tensorflow.python.client import device_lib\n",
    "print(device_lib.list_local_devices())"
   ]
  },
  {
   "cell_type": "code",
   "execution_count": 5,
   "metadata": {},
   "outputs": [
    {
     "name": "stdout",
     "output_type": "stream",
     "text": [
      "Num GPUs Available:  1\n"
     ]
    }
   ],
   "source": [
    "from __future__ import absolute_import, division, print_function, unicode_literals\n",
    "\n",
    "import tensorflow as tf\n",
    "print(\"Num GPUs Available: \", len(tf.config.experimental.list_physical_devices('GPU')))"
   ]
  },
  {
   "cell_type": "code",
   "execution_count": 47,
   "metadata": {},
   "outputs": [
    {
     "data": {
      "text/plain": [
       "['AggregationMethod',\n",
       " 'Assert',\n",
       " 'CriticalSection',\n",
       " 'DType',\n",
       " 'DeviceSpec',\n",
       " 'GradientTape',\n",
       " 'Graph',\n",
       " 'IndexedSlices',\n",
       " 'IndexedSlicesSpec',\n",
       " 'Module',\n",
       " 'Operation',\n",
       " 'OptionalSpec',\n",
       " 'RaggedTensor',\n",
       " 'RaggedTensorSpec',\n",
       " 'RegisterGradient',\n",
       " 'SparseTensor',\n",
       " 'SparseTensorSpec',\n",
       " 'Tensor',\n",
       " 'TensorArray',\n",
       " 'TensorArraySpec',\n",
       " 'TensorShape',\n",
       " 'TensorSpec',\n",
       " 'TypeSpec',\n",
       " 'UnconnectedGradients',\n",
       " 'Variable',\n",
       " 'VariableAggregation',\n",
       " 'VariableSynchronization',\n",
       " '_LazyLoader',\n",
       " '__builtins__',\n",
       " '__cached__',\n",
       " '__compiler_version__',\n",
       " '__cxx11_abi_flag__',\n",
       " '__doc__',\n",
       " '__file__',\n",
       " '__git_version__',\n",
       " '__loader__',\n",
       " '__monolithic_build__',\n",
       " '__name__',\n",
       " '__package__',\n",
       " '__path__',\n",
       " '__spec__',\n",
       " '__version__',\n",
       " '_absolute_import',\n",
       " '_api',\n",
       " '_division',\n",
       " '_forward_module',\n",
       " '_importlib',\n",
       " '_m',\n",
       " '_print_function',\n",
       " '_root_estimator',\n",
       " '_sys',\n",
       " '_top_level_modules',\n",
       " '_types',\n",
       " 'abs',\n",
       " 'acos',\n",
       " 'acosh',\n",
       " 'add',\n",
       " 'add_n',\n",
       " 'argmax',\n",
       " 'argmin',\n",
       " 'argsort',\n",
       " 'as_dtype',\n",
       " 'as_string',\n",
       " 'asin',\n",
       " 'asinh',\n",
       " 'assert_equal',\n",
       " 'assert_greater',\n",
       " 'assert_less',\n",
       " 'assert_rank',\n",
       " 'atan',\n",
       " 'atan2',\n",
       " 'atanh',\n",
       " 'audio',\n",
       " 'autograph',\n",
       " 'batch_to_space',\n",
       " 'bfloat16',\n",
       " 'bitcast',\n",
       " 'bitwise',\n",
       " 'bool',\n",
       " 'boolean_mask',\n",
       " 'broadcast_dynamic_shape',\n",
       " 'broadcast_static_shape',\n",
       " 'broadcast_to',\n",
       " 'case',\n",
       " 'cast',\n",
       " 'clip_by_global_norm',\n",
       " 'clip_by_norm',\n",
       " 'clip_by_value',\n",
       " 'compat',\n",
       " 'complex',\n",
       " 'complex128',\n",
       " 'complex64',\n",
       " 'concat',\n",
       " 'cond',\n",
       " 'config',\n",
       " 'constant',\n",
       " 'constant_initializer',\n",
       " 'control_dependencies',\n",
       " 'convert_to_tensor',\n",
       " 'cos',\n",
       " 'cosh',\n",
       " 'cumsum',\n",
       " 'custom_gradient',\n",
       " 'data',\n",
       " 'debugging',\n",
       " 'device',\n",
       " 'distribute',\n",
       " 'divide',\n",
       " 'double',\n",
       " 'dtypes',\n",
       " 'dynamic_partition',\n",
       " 'dynamic_stitch',\n",
       " 'edit_distance',\n",
       " 'einsum',\n",
       " 'ensure_shape',\n",
       " 'equal',\n",
       " 'errors',\n",
       " 'estimator',\n",
       " 'examples',\n",
       " 'executing_eagerly',\n",
       " 'exp',\n",
       " 'expand_dims',\n",
       " 'experimental',\n",
       " 'extract_volume_patches',\n",
       " 'eye',\n",
       " 'feature_column',\n",
       " 'fill',\n",
       " 'fingerprint',\n",
       " 'float16',\n",
       " 'float32',\n",
       " 'float64',\n",
       " 'floor',\n",
       " 'foldl',\n",
       " 'foldr',\n",
       " 'function',\n",
       " 'gather',\n",
       " 'gather_nd',\n",
       " 'get_logger',\n",
       " 'get_static_value',\n",
       " 'grad_pass_through',\n",
       " 'gradients',\n",
       " 'graph_util',\n",
       " 'greater',\n",
       " 'greater_equal',\n",
       " 'group',\n",
       " 'guarantee_const',\n",
       " 'half',\n",
       " 'hessians',\n",
       " 'histogram_fixed_width',\n",
       " 'histogram_fixed_width_bins',\n",
       " 'identity',\n",
       " 'identity_n',\n",
       " 'image',\n",
       " 'import_graph_def',\n",
       " 'init_scope',\n",
       " 'initializers',\n",
       " 'int16',\n",
       " 'int32',\n",
       " 'int64',\n",
       " 'int8',\n",
       " 'io',\n",
       " 'is_tensor',\n",
       " 'keras',\n",
       " 'less',\n",
       " 'less_equal',\n",
       " 'linalg',\n",
       " 'linspace',\n",
       " 'lite',\n",
       " 'load_library',\n",
       " 'load_op_library',\n",
       " 'logical_and',\n",
       " 'logical_not',\n",
       " 'logical_or',\n",
       " 'lookup',\n",
       " 'losses',\n",
       " 'make_ndarray',\n",
       " 'make_tensor_proto',\n",
       " 'map_fn',\n",
       " 'math',\n",
       " 'matmul',\n",
       " 'matrix_square_root',\n",
       " 'maximum',\n",
       " 'meshgrid',\n",
       " 'metrics',\n",
       " 'minimum',\n",
       " 'multiply',\n",
       " 'name_scope',\n",
       " 'negative',\n",
       " 'nest',\n",
       " 'newaxis',\n",
       " 'nn',\n",
       " 'no_gradient',\n",
       " 'no_op',\n",
       " 'nondifferentiable_batch_function',\n",
       " 'norm',\n",
       " 'not_equal',\n",
       " 'numpy_function',\n",
       " 'one_hot',\n",
       " 'ones',\n",
       " 'ones_initializer',\n",
       " 'ones_like',\n",
       " 'optimizers',\n",
       " 'pad',\n",
       " 'parallel_stack',\n",
       " 'pow',\n",
       " 'print',\n",
       " 'py_function',\n",
       " 'qint16',\n",
       " 'qint32',\n",
       " 'qint8',\n",
       " 'quantization',\n",
       " 'queue',\n",
       " 'quint16',\n",
       " 'quint8',\n",
       " 'ragged',\n",
       " 'random',\n",
       " 'random_normal_initializer',\n",
       " 'random_uniform_initializer',\n",
       " 'range',\n",
       " 'rank',\n",
       " 'raw_ops',\n",
       " 'realdiv',\n",
       " 'recompute_grad',\n",
       " 'reduce_all',\n",
       " 'reduce_any',\n",
       " 'reduce_logsumexp',\n",
       " 'reduce_max',\n",
       " 'reduce_mean',\n",
       " 'reduce_min',\n",
       " 'reduce_prod',\n",
       " 'reduce_sum',\n",
       " 'register_tensor_conversion_function',\n",
       " 'required_space_to_batch_paddings',\n",
       " 'reshape',\n",
       " 'resource',\n",
       " 'reverse',\n",
       " 'reverse_sequence',\n",
       " 'roll',\n",
       " 'round',\n",
       " 'saturate_cast',\n",
       " 'saved_model',\n",
       " 'scalar_mul',\n",
       " 'scan',\n",
       " 'scatter_nd',\n",
       " 'searchsorted',\n",
       " 'sequence_mask',\n",
       " 'sets',\n",
       " 'shape',\n",
       " 'shape_n',\n",
       " 'sigmoid',\n",
       " 'sign',\n",
       " 'signal',\n",
       " 'sin',\n",
       " 'sinh',\n",
       " 'size',\n",
       " 'slice',\n",
       " 'sort',\n",
       " 'space_to_batch',\n",
       " 'space_to_batch_nd',\n",
       " 'sparse',\n",
       " 'split',\n",
       " 'sqrt',\n",
       " 'square',\n",
       " 'squeeze',\n",
       " 'stack',\n",
       " 'stop_gradient',\n",
       " 'strided_slice',\n",
       " 'string',\n",
       " 'strings',\n",
       " 'subtract',\n",
       " 'summary',\n",
       " 'switch_case',\n",
       " 'sysconfig',\n",
       " 'tan',\n",
       " 'tanh',\n",
       " 'tensor_scatter_nd_add',\n",
       " 'tensor_scatter_nd_sub',\n",
       " 'tensor_scatter_nd_update',\n",
       " 'tensordot',\n",
       " 'test',\n",
       " 'tile',\n",
       " 'timestamp',\n",
       " 'tpu',\n",
       " 'train',\n",
       " 'transpose',\n",
       " 'truediv',\n",
       " 'truncatediv',\n",
       " 'truncatemod',\n",
       " 'tuple',\n",
       " 'uint16',\n",
       " 'uint32',\n",
       " 'uint64',\n",
       " 'uint8',\n",
       " 'unique',\n",
       " 'unique_with_counts',\n",
       " 'unravel_index',\n",
       " 'unstack',\n",
       " 'variable_creator_scope',\n",
       " 'variant',\n",
       " 'vectorized_map',\n",
       " 'version',\n",
       " 'where',\n",
       " 'while_loop',\n",
       " 'xla',\n",
       " 'zeros',\n",
       " 'zeros_initializer',\n",
       " 'zeros_like']"
      ]
     },
     "execution_count": 47,
     "metadata": {},
     "output_type": "execute_result"
    }
   ],
   "source": [
    "dir(tf)"
   ]
  },
  {
   "cell_type": "markdown",
   "metadata": {},
   "source": [
    "- https://medium.com/@ab9.bhatia/set-up-gpu-accelerated-tensorflow-keras-on-windows-10-with-anaconda-e71bfa9506d1"
   ]
  },
  {
   "cell_type": "code",
   "execution_count": 6,
   "metadata": {},
   "outputs": [],
   "source": [
    "import numpy as np\n",
    "import tensorflow as tf\n",
    "from datetime import datetime\n",
    "\n",
    "devices = ['/device:CPU:0', '/device:GPU:0']\n",
    "shapes = [(100, 100), (500, 500), (1000, 1000), (5000, 5000), (10000, 10000)]\n",
    "\n",
    "def compute_operations(device, shape):\n",
    "    start_time = datetime.now()\n",
    "    with tf.device(device):\n",
    "        random_matrix = tf.random.uniform(shape=shape, minval=0, maxval=1)\n",
    "        dot_operation = tf.matmul(random_matrix, tf.transpose(random_matrix))\n",
    "        sum_operation = tf.reduce_sum(dot_operation)\n",
    "    elapsed_time = datetime.now() - start_time\n",
    "\n",
    "    return sum_operation, elapsed_time"
   ]
  },
  {
   "cell_type": "code",
   "execution_count": 7,
   "metadata": {},
   "outputs": [
    {
     "name": "stdout",
     "output_type": "stream",
     "text": [
      "----------------------------------------\n",
      "Input shape: (100, 100) using Device: /device:CPU:0 with sums: tf.Tensor(249921.22, shape=(), dtype=float32) took: 0.00\n",
      "Input shape: (500, 500) using Device: /device:CPU:0 with sums: tf.Tensor(31210060.0, shape=(), dtype=float32) took: 0.00\n",
      "Input shape: (1000, 1000) using Device: /device:CPU:0 with sums: tf.Tensor(249820050.0, shape=(), dtype=float32) took: 0.02\n",
      "Input shape: (5000, 5000) using Device: /device:CPU:0 with sums: tf.Tensor(31249150000.0, shape=(), dtype=float32) took: 1.43\n",
      "Input shape: (10000, 10000) using Device: /device:CPU:0 with sums: tf.Tensor(250018480000.0, shape=(), dtype=float32) took: 9.67\n",
      "----------------------------------------\n",
      "Input shape: (100, 100) using Device: /device:GPU:0 with sums: tf.Tensor(256214.92, shape=(), dtype=float32) took: 0.20\n",
      "Input shape: (500, 500) using Device: /device:GPU:0 with sums: tf.Tensor(31344928.0, shape=(), dtype=float32) took: 0.00\n",
      "Input shape: (1000, 1000) using Device: /device:GPU:0 with sums: tf.Tensor(249475170.0, shape=(), dtype=float32) took: 0.00\n",
      "Input shape: (5000, 5000) using Device: /device:GPU:0 with sums: tf.Tensor(31253148000.0, shape=(), dtype=float32) took: 0.00\n",
      "Input shape: (10000, 10000) using Device: /device:GPU:0 with sums: tf.Tensor(250014290000.0, shape=(), dtype=float32) took: 0.00\n"
     ]
    }
   ],
   "source": [
    "for device in devices:\n",
    "    print(\"--\" * 20)\n",
    "    for shape in shapes:\n",
    "        sums, time_taken = compute_operations(device, shape)\n",
    "        # Print the result and also the time taken on the selected device\n",
    "        print(\"Input shape:\", shape, \n",
    "              \"using Device:\", device, \n",
    "              \"with sums:\", sums,\n",
    "              \"took: {:.2f}\".format(time_taken.seconds + time_taken.microseconds/1e6))"
   ]
  },
  {
   "cell_type": "code",
   "execution_count": null,
   "metadata": {},
   "outputs": [],
   "source": []
  },
  {
   "cell_type": "markdown",
   "metadata": {},
   "source": [
    "# Pytorch"
   ]
  },
  {
   "cell_type": "markdown",
   "metadata": {},
   "source": [
    "## GPU Checking"
   ]
  },
  {
   "cell_type": "code",
   "execution_count": 10,
   "metadata": {},
   "outputs": [],
   "source": [
    "import torch"
   ]
  },
  {
   "cell_type": "code",
   "execution_count": 11,
   "metadata": {},
   "outputs": [
    {
     "data": {
      "text/plain": [
       "('1.3.0', '10.1')"
      ]
     },
     "execution_count": 11,
     "metadata": {},
     "output_type": "execute_result"
    }
   ],
   "source": [
    "torch.__version__, torch.version.cuda"
   ]
  },
  {
   "cell_type": "code",
   "execution_count": 12,
   "metadata": {},
   "outputs": [
    {
     "data": {
      "text/plain": [
       "(True,\n",
       " 'GeForce GTX 1060',\n",
       " _CudaDeviceProperties(name='GeForce GTX 1060', major=6, minor=1, total_memory=6144MB, multi_processor_count=10))"
      ]
     },
     "execution_count": 12,
     "metadata": {},
     "output_type": "execute_result"
    }
   ],
   "source": [
    "torch.cuda.is_available(), torch.cuda.get_device_name(), torch.cuda.get_device_properties(torch.cuda.current_device())"
   ]
  },
  {
   "cell_type": "code",
   "execution_count": null,
   "metadata": {},
   "outputs": [],
   "source": []
  },
  {
   "cell_type": "markdown",
   "metadata": {
    "toc-hr-collapsed": true
   },
   "source": [
    "# KNN Demo"
   ]
  },
  {
   "cell_type": "code",
   "execution_count": null,
   "metadata": {},
   "outputs": [],
   "source": [
    "import pandas as pd\n",
    "import numpy as np\n",
    "import plotly.graph_objects as go"
   ]
  },
  {
   "cell_type": "markdown",
   "metadata": {},
   "source": [
    "## Prepare Dataset"
   ]
  },
  {
   "cell_type": "code",
   "execution_count": null,
   "metadata": {},
   "outputs": [],
   "source": [
    "filename='Social_Network_Ads.csv'\n",
    "rds = pd.read_csv(f'Data/{filename}')"
   ]
  },
  {
   "cell_type": "code",
   "execution_count": null,
   "metadata": {},
   "outputs": [],
   "source": []
  },
  {
   "cell_type": "code",
   "execution_count": null,
   "metadata": {},
   "outputs": [],
   "source": [
    "X=rds[['Age', 'EstimatedSalary']].values\n",
    "Y=rds['Purchased'].values"
   ]
  },
  {
   "cell_type": "markdown",
   "metadata": {},
   "source": [
    "## Training"
   ]
  },
  {
   "cell_type": "code",
   "execution_count": null,
   "metadata": {},
   "outputs": [],
   "source": [
    "from sklearn.model_selection import train_test_split\n",
    "from sklearn.preprocessing import StandardScaler\n",
    "from sklearn.neighbors import KNeighborsClassifier"
   ]
  },
  {
   "cell_type": "code",
   "execution_count": null,
   "metadata": {},
   "outputs": [],
   "source": [
    "X_train, X_test, Y_train, Y_test = train_test_split(X, Y, test_size=0.3)"
   ]
  },
  {
   "cell_type": "code",
   "execution_count": null,
   "metadata": {},
   "outputs": [],
   "source": [
    "sc = StandardScaler()"
   ]
  },
  {
   "cell_type": "code",
   "execution_count": null,
   "metadata": {},
   "outputs": [],
   "source": [
    "X_train, X_test = sc.fit_transform(X_train), sc.transform(X_test)"
   ]
  },
  {
   "cell_type": "code",
   "execution_count": null,
   "metadata": {},
   "outputs": [],
   "source": [
    "classifier = KNeighborsClassifier(n_neighbors=5, metric='minkowski')\n",
    "classifier.fit(X_train, Y_train)"
   ]
  },
  {
   "cell_type": "markdown",
   "metadata": {},
   "source": [
    "## Testing"
   ]
  },
  {
   "cell_type": "code",
   "execution_count": null,
   "metadata": {},
   "outputs": [],
   "source": [
    "from sklearn.metrics import confusion_matrix"
   ]
  },
  {
   "cell_type": "code",
   "execution_count": null,
   "metadata": {},
   "outputs": [],
   "source": [
    "Y_pred = classifier.predict(X_test)"
   ]
  },
  {
   "cell_type": "code",
   "execution_count": null,
   "metadata": {},
   "outputs": [],
   "source": [
    "cm = confusion_matrix(Y_test, Y_pred)"
   ]
  },
  {
   "cell_type": "code",
   "execution_count": null,
   "metadata": {},
   "outputs": [],
   "source": [
    "cm"
   ]
  },
  {
   "cell_type": "code",
   "execution_count": null,
   "metadata": {},
   "outputs": [],
   "source": []
  },
  {
   "cell_type": "markdown",
   "metadata": {},
   "source": [
    "## Viz"
   ]
  },
  {
   "cell_type": "code",
   "execution_count": null,
   "metadata": {},
   "outputs": [],
   "source": [
    "fig = go.Figure(data=go.Bar(y=[2, 3, 1]))"
   ]
  },
  {
   "cell_type": "code",
   "execution_count": null,
   "metadata": {},
   "outputs": [],
   "source": [
    "fig.write_html('IMG/plotly_helloworld.html', auto_open=True)"
   ]
  },
  {
   "cell_type": "code",
   "execution_count": null,
   "metadata": {},
   "outputs": [],
   "source": []
  },
  {
   "cell_type": "markdown",
   "metadata": {},
   "source": [
    "# LR"
   ]
  },
  {
   "cell_type": "code",
   "execution_count": null,
   "metadata": {},
   "outputs": [],
   "source": [
    "import pandas as pd\n",
    "import numpy as np"
   ]
  },
  {
   "cell_type": "markdown",
   "metadata": {},
   "source": [
    "## Prepare Dataset"
   ]
  },
  {
   "cell_type": "code",
   "execution_count": null,
   "metadata": {},
   "outputs": [],
   "source": [
    "filename='Salary_Data.csv'\n",
    "rds = pd.read_csv(f'Data/{filename}')"
   ]
  },
  {
   "cell_type": "code",
   "execution_count": null,
   "metadata": {
    "jupyter": {
     "outputs_hidden": true
    }
   },
   "outputs": [],
   "source": [
    "import plotly.express as px\n",
    "fig = px.scatter(rds,x=\"YearsExperience\", y=\"Salary\")\n",
    "fig.show(renderer='iframe')"
   ]
  },
  {
   "cell_type": "code",
   "execution_count": null,
   "metadata": {},
   "outputs": [],
   "source": [
    "X=rds['YearsExperience'].values\n",
    "Y=rds['Salary'].values"
   ]
  },
  {
   "cell_type": "markdown",
   "metadata": {},
   "source": [
    "## Training"
   ]
  },
  {
   "cell_type": "code",
   "execution_count": null,
   "metadata": {},
   "outputs": [],
   "source": [
    "from sklearn.model_selection import train_test_split\n",
    "from sklearn.linear_model import LinearRegression"
   ]
  },
  {
   "cell_type": "code",
   "execution_count": null,
   "metadata": {},
   "outputs": [],
   "source": [
    "X_train, X_test, Y_train, Y_test = train_test_split(X, Y, test_size=0.3)"
   ]
  },
  {
   "cell_type": "code",
   "execution_count": null,
   "metadata": {},
   "outputs": [],
   "source": [
    "X_train.reshape(1,-1)"
   ]
  },
  {
   "cell_type": "code",
   "execution_count": null,
   "metadata": {},
   "outputs": [],
   "source": [
    "X_train.reshape(1,-1).shape, X_train.shape"
   ]
  },
  {
   "cell_type": "code",
   "execution_count": null,
   "metadata": {},
   "outputs": [],
   "source": [
    "regressor = LinearRegression()\n",
    "regressor.fit(X_train.reshape(-1,1), Y_train.reshape(-1,1))"
   ]
  },
  {
   "cell_type": "markdown",
   "metadata": {},
   "source": [
    "## Testing"
   ]
  },
  {
   "cell_type": "code",
   "execution_count": null,
   "metadata": {},
   "outputs": [],
   "source": [
    "Y_pred = regressor.predict(X_test.reshape(-1,1))\n",
    "Y_pred"
   ]
  },
  {
   "cell_type": "code",
   "execution_count": null,
   "metadata": {},
   "outputs": [],
   "source": [
    "Y_pred.flatten()"
   ]
  },
  {
   "cell_type": "markdown",
   "metadata": {},
   "source": [
    "## Viz"
   ]
  },
  {
   "cell_type": "code",
   "execution_count": null,
   "metadata": {},
   "outputs": [],
   "source": [
    "import plotly.express as px\n",
    "from plotly.subplots import make_subplots\n",
    "import plotly.graph_objects as go"
   ]
  },
  {
   "cell_type": "code",
   "execution_count": null,
   "metadata": {},
   "outputs": [],
   "source": [
    "fig = go.Figure()\n",
    "# fig.add_trace(go.Scatter(x=X, y=Y, mode='markers+lines', name='Raw'))\n",
    "fig.add_trace(go.Scatter(x=X_train, y=Y_train, mode='markers', name='Train'))\n",
    "fig.add_trace(go.Scatter(x=X_test, y=Y_test, mode='markers', name='Test'))\n",
    "fig.add_trace(go.Scatter(x=X_test, y=Y_pred.flatten(), mode='markers+lines', name='Predict'))\n",
    "fig.update_layout(title_text=\"Linear Regression Model\",)\n",
    "fig.update_xaxes(title_text='Experience By Year')\n",
    "fig.update_yaxes(title_text='Salary')\n",
    "fig.show(renderer='iframe')"
   ]
  },
  {
   "cell_type": "code",
   "execution_count": null,
   "metadata": {},
   "outputs": [],
   "source": []
  },
  {
   "cell_type": "markdown",
   "metadata": {},
   "source": [
    "# MLR"
   ]
  },
  {
   "cell_type": "code",
   "execution_count": null,
   "metadata": {},
   "outputs": [],
   "source": [
    "import pandas as pd\n",
    "import numpy as np"
   ]
  },
  {
   "cell_type": "markdown",
   "metadata": {},
   "source": [
    "## Prepare Dataset"
   ]
  },
  {
   "cell_type": "code",
   "execution_count": null,
   "metadata": {},
   "outputs": [],
   "source": [
    "filename='50_Startups.csv'\n",
    "rds = pd.read_csv(f'Data/{filename}')"
   ]
  },
  {
   "cell_type": "code",
   "execution_count": null,
   "metadata": {},
   "outputs": [],
   "source": [
    "X=rds.iloc[:,:-1].values\n",
    "Y=rds.iloc[:,-1].values.reshape(-1,1)"
   ]
  },
  {
   "cell_type": "code",
   "execution_count": null,
   "metadata": {},
   "outputs": [],
   "source": [
    "cities = rds.iloc[:,-2]\n",
    "cities.unique()"
   ]
  },
  {
   "cell_type": "code",
   "execution_count": null,
   "metadata": {},
   "outputs": [],
   "source": [
    "X.shape, Y.shape"
   ]
  },
  {
   "cell_type": "markdown",
   "metadata": {},
   "source": [
    "## Training"
   ]
  },
  {
   "cell_type": "code",
   "execution_count": null,
   "metadata": {},
   "outputs": [],
   "source": [
    "from sklearn.model_selection import train_test_split\n",
    "from sklearn.preprocessing import OneHotEncoder, LabelEncoder\n",
    "from sklearn.preprocessing import\n",
    "from sklearn.linear_model import LinearRegression"
   ]
  },
  {
   "cell_type": "code",
   "execution_count": null,
   "metadata": {},
   "outputs": [],
   "source": [
    "labelencoder = LabelEncoder()\n",
    "X[:,3] = labelencoder.fit_transform(X[:,3])"
   ]
  },
  {
   "cell_type": "code",
   "execution_count": null,
   "metadata": {
    "jupyter": {
     "outputs_hidden": true
    }
   },
   "outputs": [],
   "source": [
    "onehotencoder = OneHotEncoder(categorical_features=[3])\n",
    "X0 = onehotencoder.fit_transform(X).toarray()"
   ]
  },
  {
   "cell_type": "code",
   "execution_count": null,
   "metadata": {},
   "outputs": [],
   "source": [
    "X_train, X_test, Y_train, Y_test = train_test_split(X0[:,1:], Y, test_size=0.2)"
   ]
  },
  {
   "cell_type": "code",
   "execution_count": null,
   "metadata": {},
   "outputs": [],
   "source": [
    "X_train.shape, X_test.shape, Y_train.shape, Y_test.shape"
   ]
  },
  {
   "cell_type": "code",
   "execution_count": null,
   "metadata": {},
   "outputs": [],
   "source": [
    "regressor = LinearRegression()\n",
    "regressor.fit(X_train, Y_train)"
   ]
  },
  {
   "cell_type": "markdown",
   "metadata": {},
   "source": [
    "## Testing"
   ]
  },
  {
   "cell_type": "code",
   "execution_count": null,
   "metadata": {
    "jupyter": {
     "outputs_hidden": true
    }
   },
   "outputs": [],
   "source": [
    "Y_pred = regressor.predict(X_test)\n",
    "Y_pred, Y_test"
   ]
  },
  {
   "cell_type": "code",
   "execution_count": null,
   "metadata": {},
   "outputs": [],
   "source": [
    "X"
   ]
  },
  {
   "cell_type": "markdown",
   "metadata": {},
   "source": [
    "## Viz"
   ]
  },
  {
   "cell_type": "code",
   "execution_count": null,
   "metadata": {},
   "outputs": [],
   "source": [
    "import plotly.express as px\n",
    "from plotly.subplots import make_subplots\n",
    "import plotly.graph_objects as go"
   ]
  },
  {
   "cell_type": "code",
   "execution_count": null,
   "metadata": {},
   "outputs": [],
   "source": [
    "rds.columns"
   ]
  },
  {
   "cell_type": "code",
   "execution_count": null,
   "metadata": {},
   "outputs": [],
   "source": [
    "[f\"{i:<5.2f}\" for i in Y_pred.flatten()]"
   ]
  },
  {
   "cell_type": "code",
   "execution_count": null,
   "metadata": {},
   "outputs": [],
   "source": [
    "fig = go.Figure()\n",
    "# fig.add_trace(go.Scatter(x=X, y=Y, mode='markers+lines', name='Raw'))\n",
    "fig.add_trace(go.Scatter3d(x=X_train[:, -1], \n",
    "                           y=X_train[:, -2], \n",
    "                           z=X_train[:, -3],\n",
    "                           hovertemplate=\"MS:%{x} <br>RD:%{y} <br>AD:%{z}\",\n",
    "                           marker=dict(size=12, \n",
    "                                       color = Y_pred.flatten(),                                    \n",
    "                                       colorscale='Viridis',   # choose a colorscale\n",
    "                                       showscale=True,\n",
    "                                       opacity=0.8),                           \n",
    "                           mode='markers',\n",
    "                          name='Predict'))\n",
    "\n",
    "fig.update_layout(title_text=\"Multi Linear Regression Model\", \n",
    "                  scene={\"aspectmode\": \"cube\", \n",
    "                         \"xaxis\": {\"title\": \"Marketing Spend\"},\n",
    "                       \"yaxis\": {\"title\": \"R&D Spend\" },\n",
    "                       \"zaxis\": {\"title\": \"Administration\"}})\n",
    "\n",
    "fig.show(renderer='iframe')\n",
    "go.Scatter3d()"
   ]
  },
  {
   "cell_type": "markdown",
   "metadata": {},
   "source": [
    "# Decision Tree"
   ]
  },
  {
   "cell_type": "markdown",
   "metadata": {},
   "source": [
    "## Prepare Data"
   ]
  },
  {
   "cell_type": "code",
   "execution_count": null,
   "metadata": {},
   "outputs": [],
   "source": [
    "filename='adult_dataset.csv'\n",
    "rds = pd.read_csv(f'Data/{filename}')"
   ]
  },
  {
   "cell_type": "code",
   "execution_count": null,
   "metadata": {},
   "outputs": [],
   "source": [
    "rds_cat = rds.select_dtypes(include=['object'])\n",
    "rds_bool = rds_cat.apply(lambda elem: elem=='?', axis=0)\n",
    "rds_bool['dropable'] = rds_bool.any(axis=1)"
   ]
  },
  {
   "cell_type": "code",
   "execution_count": null,
   "metadata": {},
   "outputs": [],
   "source": [
    "ds1 = rds.drop(rds_cat.columns, axis = 1)[~rds_bool['dropable']]\n",
    "ds1_cat = rds_cat[~rds_bool['dropable']]"
   ]
  },
  {
   "cell_type": "code",
   "execution_count": null,
   "metadata": {},
   "outputs": [],
   "source": [
    "from sklearn.preprocessing import LabelEncoder\n",
    "labelencoder = LabelEncoder()\n",
    "ds_cat = ds1_cat.apply(labelencoder.fit_transform)\n",
    "ds = pd.concat([ds1, ds_cat], axis=1)\n",
    "ds['income'] = ds['income'].astype('category')"
   ]
  },
  {
   "cell_type": "code",
   "execution_count": null,
   "metadata": {},
   "outputs": [],
   "source": [
    "X=ds.drop('income', axis=1)\n",
    "Y=ds['income']"
   ]
  },
  {
   "cell_type": "code",
   "execution_count": null,
   "metadata": {},
   "outputs": [],
   "source": [
    "rds"
   ]
  },
  {
   "cell_type": "code",
   "execution_count": null,
   "metadata": {},
   "outputs": [],
   "source": []
  },
  {
   "cell_type": "markdown",
   "metadata": {},
   "source": [
    "## Training"
   ]
  },
  {
   "cell_type": "code",
   "execution_count": null,
   "metadata": {},
   "outputs": [],
   "source": [
    "from sklearn.model_selection import train_test_split\n",
    "from sklearn.tree import DecisionTreeClassifier\n",
    "from sklearn.metrics import classification_report, confusion_matrix, accuracy_score"
   ]
  },
  {
   "cell_type": "code",
   "execution_count": null,
   "metadata": {},
   "outputs": [],
   "source": [
    "X_train, X_test, Y_train, Y_test = train_test_split(X, Y, test_size=0.3)"
   ]
  },
  {
   "cell_type": "code",
   "execution_count": null,
   "metadata": {},
   "outputs": [],
   "source": [
    "dt_default = DecisionTreeClassifier(max_depth=5)\n",
    "dt_default.fit(X_train, Y_train)"
   ]
  },
  {
   "cell_type": "code",
   "execution_count": null,
   "metadata": {},
   "outputs": [],
   "source": []
  },
  {
   "cell_type": "markdown",
   "metadata": {},
   "source": [
    "## Testing"
   ]
  },
  {
   "cell_type": "code",
   "execution_count": null,
   "metadata": {},
   "outputs": [],
   "source": [
    "Y_pred_default = dt_default.predict(X_test)"
   ]
  },
  {
   "cell_type": "code",
   "execution_count": null,
   "metadata": {},
   "outputs": [],
   "source": [
    "print(classification_report(Y_test, Y_pred_default))"
   ]
  },
  {
   "cell_type": "code",
   "execution_count": null,
   "metadata": {},
   "outputs": [],
   "source": [
    "print(confusion_matrix(Y_test, Y_pred_default))"
   ]
  },
  {
   "cell_type": "code",
   "execution_count": null,
   "metadata": {},
   "outputs": [],
   "source": [
    "print(accuracy_score(Y_test, Y_pred_default))"
   ]
  },
  {
   "cell_type": "code",
   "execution_count": null,
   "metadata": {},
   "outputs": [],
   "source": [
    "Y.name"
   ]
  },
  {
   "cell_type": "markdown",
   "metadata": {},
   "source": [
    "## Viz"
   ]
  },
  {
   "cell_type": "code",
   "execution_count": null,
   "metadata": {},
   "outputs": [],
   "source": [
    "from sklearn.tree import export_graphviz\n",
    "from IPython.core.display import display, HTML\n",
    "from dtreeviz.trees import *"
   ]
  },
  {
   "cell_type": "code",
   "execution_count": null,
   "metadata": {},
   "outputs": [],
   "source": [
    "viz = dtreeviz(dt_default, X_train=X_train, \n",
    "               y_train=Y_train,\n",
    "               feature_names=X.columns.to_list(), \n",
    "               target_name='income',\n",
    "               class_names =['<=50K', '>50K']   ,\n",
    "               fancy=False)"
   ]
  },
  {
   "cell_type": "code",
   "execution_count": null,
   "metadata": {},
   "outputs": [],
   "source": [
    "viz.view()  "
   ]
  },
  {
   "cell_type": "markdown",
   "metadata": {},
   "source": [
    "# End"
   ]
  },
  {
   "cell_type": "code",
   "execution_count": null,
   "metadata": {},
   "outputs": [],
   "source": []
  }
 ],
 "metadata": {
  "kernelspec": {
   "display_name": "Python 3",
   "language": "python",
   "name": "python3"
  },
  "language_info": {
   "codemirror_mode": {
    "name": "ipython",
    "version": 3
   },
   "file_extension": ".py",
   "mimetype": "text/x-python",
   "name": "python",
   "nbconvert_exporter": "python",
   "pygments_lexer": "ipython3",
   "version": "3.7.5"
  },
  "toc": {
   "base_numbering": 1,
   "nav_menu": {},
   "number_sections": true,
   "sideBar": true,
   "skip_h1_title": false,
   "title_cell": "Table of Contents",
   "title_sidebar": "Contents",
   "toc_cell": false,
   "toc_position": {
    "height": "calc(100% - 180px)",
    "left": "10px",
    "top": "150px",
    "width": "235.636px"
   },
   "toc_section_display": true,
   "toc_window_display": true
  },
  "toc-autonumbering": true
 },
 "nbformat": 4,
 "nbformat_minor": 4
}
