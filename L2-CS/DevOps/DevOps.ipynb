{
 "cells": [
  {
   "cell_type": "markdown",
   "metadata": {},
   "source": [
    "# Software Engineering"
   ]
  },
  {
   "cell_type": "markdown",
   "metadata": {},
   "source": [
    "## Architechture Pattern"
   ]
  },
  {
   "cell_type": "markdown",
   "metadata": {},
   "source": [
    "- Monolithic\n",
    "- SOA\n",
    "    - Distributed Components\n",
    "    - Messaging Middleware\n",
    "    - Enterprise Service Bus\n",
    "- Microservice\n",
    "    - Cloud-Based\n",
    "    - Stateless\n",
    "    - Scalable\n",
    "    - Decoupled\n",
    "    - Composable\n",
    "- Serverless Microservice\n",
    "    - Cloud-Native"
   ]
  },
  {
   "cell_type": "markdown",
   "metadata": {},
   "source": [
    "## Microservice"
   ]
  },
  {
   "cell_type": "markdown",
   "metadata": {},
   "source": [
    "### Building Blocks"
   ]
  },
  {
   "cell_type": "markdown",
   "metadata": {},
   "source": [
    "- Services\n",
    "- Service Registry"
   ]
  },
  {
   "cell_type": "markdown",
   "metadata": {},
   "source": [
    "### Architecture"
   ]
  },
  {
   "cell_type": "markdown",
   "metadata": {},
   "source": [
    "### Pattern"
   ]
  },
  {
   "cell_type": "markdown",
   "metadata": {},
   "source": [
    "- Canary Deployment"
   ]
  },
  {
   "cell_type": "markdown",
   "metadata": {},
   "source": [
    "# DevOps"
   ]
  },
  {
   "cell_type": "markdown",
   "metadata": {},
   "source": [
    "## Overview"
   ]
  },
  {
   "cell_type": "markdown",
   "metadata": {},
   "source": [
    "### Culture"
   ]
  },
  {
   "cell_type": "markdown",
   "metadata": {},
   "source": [
    "- CAMS\n",
    "    - Culture\n",
    "    - Automation\n",
    "    - Measurement\n",
    "    - Sharing"
   ]
  },
  {
   "cell_type": "markdown",
   "metadata": {},
   "source": [
    "### DevOps Lifecycle"
   ]
  },
  {
   "cell_type": "markdown",
   "metadata": {},
   "source": [
    "\n",
    "- <img style=\"-webkit-user-select: none;margin: auto;cursor: zoom-in;\" src=\"DevOps-Loop.png\" width=\"550\" height=\"550\">"
   ]
  },
  {
   "cell_type": "markdown",
   "metadata": {},
   "source": [
    "### Roles"
   ]
  },
  {
   "cell_type": "markdown",
   "metadata": {},
   "source": [
    "- DevOps Engineer\n",
    "- SRE Engineer\n",
    "- Automation Engineer\n",
    "- Platform Engineer\n",
    "- Build Engineer\n",
    "- QA Engineer"
   ]
  },
  {
   "cell_type": "markdown",
   "metadata": {},
   "source": [
    "## Stacks"
   ]
  },
  {
   "cell_type": "markdown",
   "metadata": {},
   "source": [
    "- WebStack\n",
    "    - <img style=\"-webkit-user-select: none;margin: auto;cursor: zoom-in;\" src=\"DevOps-WebStack.png\" width=\"550\" height=\"550\">"
   ]
  },
  {
   "cell_type": "markdown",
   "metadata": {},
   "source": [
    "## Tools"
   ]
  },
  {
   "cell_type": "markdown",
   "metadata": {},
   "source": [
    "### Git"
   ]
  },
  {
   "cell_type": "markdown",
   "metadata": {},
   "source": [
    "- config\n",
    "    - `git config --global user.name \"USER\"`\n",
    "    - `git config --global user.email \"USER@goole.com\"`\n",
    "- init\n",
    "    - `cd repository_dir; git init`\n",
    "    - `git init repository_dir`\n",
    "- clone\n",
    "    - `git clone local_repo_dir new_local_dir`\n",
    "- add\n",
    "    - `git add .`\n",
    "    - `git add *`\n",
    "    - `echo filename >> .gitignore`\n",
    "- status\n",
    "    - `git status`\n",
    "- commit\n",
    "    - `git commit -m 'message'`\n",
    "    - `git commit file -m 'message'`\n",
    "    - `git commit -a -m 'message'`: all changed files\n",
    "- log\n",
    "    - `git log`"
   ]
  },
  {
   "cell_type": "markdown",
   "metadata": {},
   "source": [
    "### Ansible"
   ]
  },
  {
   "cell_type": "markdown",
   "metadata": {},
   "source": [
    "### Chef"
   ]
  },
  {
   "cell_type": "markdown",
   "metadata": {},
   "source": [
    "### Puppet"
   ]
  },
  {
   "cell_type": "markdown",
   "metadata": {},
   "source": [
    "## Patterns"
   ]
  },
  {
   "cell_type": "markdown",
   "metadata": {},
   "source": [
    "### IaC"
   ]
  },
  {
   "cell_type": "markdown",
   "metadata": {},
   "source": [
    "- Features\n",
    "    - Version Control\n",
    "    - Consistency\n",
    "    - Scale \n",
    "    - Automation\n",
    "    - Modular\n",
    "    - Reusable"
   ]
  },
  {
   "cell_type": "markdown",
   "metadata": {},
   "source": [
    "### Microservice"
   ]
  },
  {
   "cell_type": "markdown",
   "metadata": {},
   "source": [
    "- Overveiw\n",
    "    - A Software Development Architecture\n",
    "- Features\n",
    "    - Decoupled\n",
    "    - Decentralized\n",
    "    - Downsized\n",
    "    - Scaling\n",
    "        - Granular\n",
    "        - Rapid\n",
    "    - Agile\n",
    "        - Fast Deployment\n",
    "        - Frequent Update\n",
    "    - Lean\n",
    "        - MVP: Minimum Viable Product\n",
    "    - DevOps\n",
    "- Building Blocks\n",
    "    - API Gateway\n",
    "    - Function/Application Logic\n",
    "    - Data Stroe\n",
    "    - Service\n",
    "    - Application\n",
    "- Architecture\n",
    "    - Message Pattern\n",
    "        - Request/Response\n",
    "        - Publish/Subscript\n",
    "            - Fan-In\n",
    "            - Fan-Out"
   ]
  },
  {
   "cell_type": "markdown",
   "metadata": {},
   "source": [
    "### CICD"
   ]
  },
  {
   "cell_type": "markdown",
   "metadata": {},
   "source": [
    "- CI\n",
    "    - Local Coding\n",
    "    - Submit Change\n",
    "    - Integrate Code\n",
    "    - Test Code\n",
    "- CD\n",
    "    - Build\n",
    "    - Test\n",
    "    - Release\n",
    "    - Deploy\n",
    "---\n",
    "- Testing\n",
    "    - Function Test\n",
    "        - Unit Test\n",
    "        - Integration Test\n",
    "    - Performance Test\n",
    "        - Response Test\n",
    "        - Load Test"
   ]
  },
  {
   "cell_type": "markdown",
   "metadata": {},
   "source": [
    "#### Environment"
   ]
  },
  {
   "cell_type": "markdown",
   "metadata": {},
   "source": [
    "- Dev\n",
    "- Stage(Test/QA)\n",
    "- Prod\n",
    "- DR"
   ]
  },
  {
   "cell_type": "markdown",
   "metadata": {},
   "source": [
    "#### Stages/Pipelines"
   ]
  },
  {
   "cell_type": "markdown",
   "metadata": {},
   "source": [
    "- Source\n",
    "- Build\n",
    "- Test/QA\n",
    "- Prod"
   ]
  },
  {
   "cell_type": "markdown",
   "metadata": {},
   "source": [
    "## Pillars"
   ]
  },
  {
   "cell_type": "markdown",
   "metadata": {},
   "source": [
    "### Resilience"
   ]
  },
  {
   "cell_type": "markdown",
   "metadata": {},
   "source": [
    "- Site Reliability Engineering\n",
    "    - Blamelessness\n",
    "    - Root Cause Analysis\n",
    "    - Incident Management\n",
    "        - Detection\n",
    "        - Describle\n",
    "            - Metric\n",
    "                - TTD/MTTD: time to detect\n",
    "                - TTR/MTTR: time to restore\n",
    "                - TBF/MTBF: time between failure\n",
    "            - Timeline\n",
    "                - Pre-Incident\n",
    "                - Incident\n",
    "                - Post-Incident\n",
    "        - Workflow\n",
    "        - Resolve\n"
   ]
  },
  {
   "cell_type": "markdown",
   "metadata": {},
   "source": [
    "### Security"
   ]
  },
  {
   "cell_type": "markdown",
   "metadata": {},
   "source": [
    "### Performance"
   ]
  },
  {
   "cell_type": "markdown",
   "metadata": {},
   "source": [
    "### Operation"
   ]
  },
  {
   "cell_type": "markdown",
   "metadata": {},
   "source": [
    "- Configuration Management\n",
    "- Monitoring\n",
    "- Logging"
   ]
  },
  {
   "cell_type": "markdown",
   "metadata": {},
   "source": [
    "### Governance"
   ]
  },
  {
   "cell_type": "markdown",
   "metadata": {},
   "source": [
    "## Culture"
   ]
  },
  {
   "cell_type": "markdown",
   "metadata": {},
   "source": [
    "- Transparency\n",
    "- Retrospection"
   ]
  },
  {
   "cell_type": "markdown",
   "metadata": {},
   "source": [
    "# Docker"
   ]
  },
  {
   "cell_type": "markdown",
   "metadata": {},
   "source": [
    "## Overview"
   ]
  },
  {
   "cell_type": "markdown",
   "metadata": {},
   "source": [
    "### Features"
   ]
  },
  {
   "cell_type": "markdown",
   "metadata": {},
   "source": [
    "- Solve Old Applciation Infras Challenges\n",
    "    - Config\n",
    "    - Compatiblity\n",
    "    - Dependency\n",
    "    - Inconsistency accross Dev/QA/Prod envrionments\n",
    "    - Operation\n",
    "        - Patching\n",
    "        - Upgrading\n",
    "        - Scaling\n",
    "- Featrues\n",
    "    - Flexible\n",
    "    - Lightweight\n",
    "    - Portable\n",
    "    - Decoupled\n",
    "    - Scalable\n",
    "    - Secury"
   ]
  },
  {
   "cell_type": "markdown",
   "metadata": {},
   "source": [
    "### Applicable Scenarios"
   ]
  },
  {
   "cell_type": "markdown",
   "metadata": {},
   "source": []
  },
  {
   "cell_type": "markdown",
   "metadata": {},
   "source": [
    "## Architecture\n",
    "\n"
   ]
  },
  {
   "cell_type": "markdown",
   "metadata": {},
   "source": [
    "### Building Blocks"
   ]
  },
  {
   "cell_type": "markdown",
   "metadata": {},
   "source": [
    "- Docker Cluster\n",
    "- Docker Host\n",
    "- Docker Daemon/Engine\n",
    "- Docker Client\n",
    "- Docker Image\n",
    "- Docker Registry\n",
    "- Docker Container"
   ]
  },
  {
   "cell_type": "markdown",
   "metadata": {},
   "source": [
    "### Structure"
   ]
  },
  {
   "cell_type": "markdown",
   "metadata": {},
   "source": [
    "- Docker Container Layers\n",
    "    - Docker Host\n",
    "        - Docker Engine/Daemon\n",
    "        - Docker Image\n",
    "        - Docker Container\n",
    "            - Libs/Depends\n",
    "            - Runtime\n",
    "            - Application Codes\n",
    "    - Docker Client\n"
   ]
  },
  {
   "cell_type": "markdown",
   "metadata": {},
   "source": [
    "#### Dockerfile"
   ]
  },
  {
   "cell_type": "markdown",
   "metadata": {},
   "source": [
    "- Dockerfile"
   ]
  },
  {
   "cell_type": "markdown",
   "metadata": {},
   "source": [
    "### Domain Tech"
   ]
  },
  {
   "cell_type": "markdown",
   "metadata": {},
   "source": [
    "## CLI"
   ]
  },
  {
   "cell_type": "markdown",
   "metadata": {},
   "source": [
    "- version\n",
    "    - `docker -v`\n",
    "    - `docker version`\n",
    "- stats\n",
    "    - `docker stats`\n",
    "- login/logout\n",
    "    - `docker login`\n",
    "    - `docker logout`\n",
    "    - `cat .docker/config.json`\n",
    "- pull/push\n",
    "    - `docker pull IMAGE:TAG`\n",
    "    - `docker push DOCKERHUB_ID/IMAGE:TAG`\n",
    "- tag\n",
    "    - `docker tag DOCKERHUB_ID/IMAGE:TAG DOCKERHUB_ID/IMAGE:NET_TAG`\n",
    "- image\n",
    "    - `docker images`\n",
    "    - `docker images -a`\n",
    "- run/stop\n",
    "    - `docker run IMAGE`\n",
    "    - `docker run --name C_NAME -p S_PORT:D_PORT -d IMAGE:TAG`\n",
    "    - `docker stop C_NAME`\n",
    "- rm/rmi\n",
    "    - `docker rm C_NAME`\n",
    "    - `docker rmi IMAGE`\n",
    "- ps\n",
    "    - `docker ps`\n",
    "    - `docker ps -a`\n",
    "    - `docker ps -a -q`: Container ID\n",
    "- exec\n",
    "    - `docker exec -it C_NAME /bin/bash`\n"
   ]
  },
  {
   "cell_type": "markdown",
   "metadata": {},
   "source": [
    "- build\n",
    "    - `docker build -t DOCKERHUB_ID/IMAGE:TAG .`"
   ]
  },
  {
   "cell_type": "markdown",
   "metadata": {},
   "source": [
    "## Best Practice"
   ]
  },
  {
   "cell_type": "markdown",
   "metadata": {},
   "source": [
    "### Install and Initialize"
   ]
  },
  {
   "cell_type": "markdown",
   "metadata": {},
   "source": [
    "#### Install on Ubuntu\n",
    "\n",
    "- [Ref for installation](https://docs.docker.com/install/linux/docker-ce/ubuntu/)\n",
    "- [Ref for install docker on WLS](https://medium.com/faun/docker-running-seamlessly-in-windows-subsystem-linux-6ef8412377aa)\n",
    "- Install Bash Scritp\n",
    "  - `$ curl -fsSL https://get.docker.com -o get-docker.sh`\n",
    "  - `$ sudo sh get-docker.sh`"
   ]
  },
  {
   "cell_type": "markdown",
   "metadata": {},
   "source": [
    "#### Initialize\n",
    "\n",
    "- `sudo groupadd docker`\n",
    "- `sudo usermod -aG docker $USER`\n",
    "- `$ docker run hello-world`"
   ]
  },
  {
   "cell_type": "markdown",
   "metadata": {},
   "source": [
    "### Docker Deamon Remote Connection via SSH"
   ]
  },
  {
   "cell_type": "markdown",
   "metadata": {},
   "source": [
    "- Docker Shell Access\n",
    "  - `eval $(ssh-agent -s)`\n",
    "  - `ssh-add ID_FILE`\n",
    "  - `export DOCKER_HOST=ssh://USER@REMOTE_HOST`\n",
    "  - `docker info`\n",
    "- One-off Docker CMD Acess\n",
    "  - `docker -H ssh://USER@REMOTE_HOST info`"
   ]
  },
  {
   "cell_type": "code",
   "execution_count": null,
   "metadata": {},
   "outputs": [],
   "source": []
  },
  {
   "cell_type": "code",
   "execution_count": null,
   "metadata": {},
   "outputs": [],
   "source": []
  },
  {
   "cell_type": "markdown",
   "metadata": {},
   "source": [
    "# Kubernetes"
   ]
  },
  {
   "cell_type": "markdown",
   "metadata": {},
   "source": [
    "# AWS DevOps"
   ]
  },
  {
   "cell_type": "markdown",
   "metadata": {},
   "source": [
    "# Azure DevOps"
   ]
  },
  {
   "cell_type": "code",
   "execution_count": null,
   "metadata": {},
   "outputs": [],
   "source": []
  }
 ],
 "metadata": {
  "kernelspec": {
   "display_name": "Python 3",
   "language": "python",
   "name": "python3"
  },
  "language_info": {
   "codemirror_mode": {
    "name": "ipython",
    "version": 3
   },
   "file_extension": ".py",
   "mimetype": "text/x-python",
   "name": "python",
   "nbconvert_exporter": "python",
   "pygments_lexer": "ipython3",
   "version": "3.7.6"
  },
  "toc": {
   "base_numbering": 1,
   "nav_menu": {},
   "number_sections": true,
   "sideBar": true,
   "skip_h1_title": false,
   "title_cell": "Table of Contents",
   "title_sidebar": "Contents",
   "toc_cell": false,
   "toc_position": {
    "height": "calc(100% - 180px)",
    "left": "10px",
    "top": "150px",
    "width": "216px"
   },
   "toc_section_display": true,
   "toc_window_display": true
  }
 },
 "nbformat": 4,
 "nbformat_minor": 2
}
