{
 "cells": [
  {
   "cell_type": "markdown",
   "metadata": {},
   "source": [
    "# Software Engineering"
   ]
  },
  {
   "cell_type": "markdown",
   "metadata": {},
   "source": [
    "## Architechture Pattern"
   ]
  },
  {
   "cell_type": "markdown",
   "metadata": {},
   "source": [
    "- Monolithic\n",
    "- SOA\n",
    "    - Distributed Components\n",
    "    - Messaging Middleware\n",
    "    - Enterprise Service Bus\n",
    "- Microservice\n",
    "    - Cloud-Based\n",
    "    - Stateless\n",
    "    - Scalable\n",
    "    - Decoupled\n",
    "    - Composable\n",
    "- Serverless Microservice\n",
    "    - Cloud-Native"
   ]
  },
  {
   "cell_type": "markdown",
   "metadata": {},
   "source": [
    "# DevOps"
   ]
  },
  {
   "cell_type": "markdown",
   "metadata": {},
   "source": [
    "## Overview"
   ]
  },
  {
   "cell_type": "markdown",
   "metadata": {},
   "source": [
    "### Why DevOps"
   ]
  },
  {
   "cell_type": "markdown",
   "metadata": {},
   "source": [
    "\n",
    "- <img style=\"-webkit-user-select: none;margin: auto;cursor: zoom-in;\" src=\"DevOps-Views-Agility.png\" width=\"550\" height=\"550\">"
   ]
  },
  {
   "cell_type": "markdown",
   "metadata": {},
   "source": [
    "- Demand Drivers\n",
    "    - Improve quality and perfromance of software\n",
    "    - Improve end user experience\n",
    "    - Deployment decouple from platforms\n",
    "    - Release service with agility\n",
    "    - Collaboration between devople team and operate team\n",
    "    - Cloud Adoption"
   ]
  },
  {
   "cell_type": "markdown",
   "metadata": {},
   "source": [
    "### DevOps Organization"
   ]
  },
  {
   "cell_type": "markdown",
   "metadata": {},
   "source": [
    "#### Culture"
   ]
  },
  {
   "cell_type": "markdown",
   "metadata": {},
   "source": [
    "- CALMS\n",
    "    - Culture\n",
    "    - Automation\n",
    "    - Lean\n",
    "    - Measurement\n",
    "    - Sharing\n",
    "- Transparency\n",
    "- Retrospection"
   ]
  },
  {
   "cell_type": "markdown",
   "metadata": {},
   "source": [
    "#### Roles"
   ]
  },
  {
   "cell_type": "markdown",
   "metadata": {},
   "source": [
    "- DevOps Engineer\n",
    "- SRE Engineer\n",
    "- Automation Engineer\n",
    "- Platform Engineer\n",
    "- Build Engineer\n",
    "- QA Engineer"
   ]
  },
  {
   "cell_type": "markdown",
   "metadata": {},
   "source": [
    "#### Performance Metrics"
   ]
  },
  {
   "cell_type": "markdown",
   "metadata": {},
   "source": [
    "- Agility Performance\n",
    "    - Deployment Frequency\n",
    "    - Change lead time\n",
    "- Reliability Performance\n",
    "    - Change failure rate\n",
    "    - Mean Time To Detect\n",
    "    - Mean Time To Repair"
   ]
  },
  {
   "cell_type": "markdown",
   "metadata": {},
   "source": [
    "### DevOps Lifecycle"
   ]
  },
  {
   "cell_type": "markdown",
   "metadata": {},
   "source": [
    "\n",
    "- <img style=\"-webkit-user-select: none;margin: auto;cursor: zoom-in;\" src=\"DevOps-Loop.png\" width=\"550\" height=\"550\">"
   ]
  },
  {
   "cell_type": "markdown",
   "metadata": {},
   "source": [
    "## Stacks"
   ]
  },
  {
   "cell_type": "markdown",
   "metadata": {},
   "source": [
    "- WebStack\n",
    "    - <img style=\"-webkit-user-select: none;margin: auto;cursor: zoom-in;\" src=\"DevOps-WebStack.png\" width=\"550\" height=\"550\">"
   ]
  },
  {
   "cell_type": "markdown",
   "metadata": {},
   "source": [
    "## Tools"
   ]
  },
  {
   "cell_type": "markdown",
   "metadata": {
    "heading_collapsed": true
   },
   "source": [
    "### Git"
   ]
  },
  {
   "cell_type": "markdown",
   "metadata": {
    "hidden": true
   },
   "source": [
    "- config\n",
    "    - `git config --global user.name \"USER\"`\n",
    "    - `git config --global user.email \"USER@goole.com\"`\n",
    "- init\n",
    "    - `cd repository_dir; git init`\n",
    "    - `git init repository_dir`\n",
    "- clone\n",
    "    - `git clone local_repo_dir new_local_dir`\n",
    "- add\n",
    "    - `git add .`\n",
    "    - `git add *`\n",
    "    - `echo filename >> .gitignore`\n",
    "- status\n",
    "    - `git status`\n",
    "- commit\n",
    "    - `git commit -m 'message'`\n",
    "    - `git commit file -m 'message'`\n",
    "    - `git commit -a -m 'message'`: all changed files\n",
    "- log\n",
    "    - `git log`"
   ]
  },
  {
   "cell_type": "markdown",
   "metadata": {
    "heading_collapsed": true
   },
   "source": [
    "### Ansible"
   ]
  },
  {
   "cell_type": "markdown",
   "metadata": {
    "heading_collapsed": true
   },
   "source": [
    "### Chef"
   ]
  },
  {
   "cell_type": "markdown",
   "metadata": {
    "heading_collapsed": true
   },
   "source": [
    "### Puppet"
   ]
  },
  {
   "cell_type": "markdown",
   "metadata": {},
   "source": [
    "## Patterns"
   ]
  },
  {
   "cell_type": "markdown",
   "metadata": {
    "heading_collapsed": true
   },
   "source": [
    "### IaC"
   ]
  },
  {
   "cell_type": "markdown",
   "metadata": {
    "hidden": true
   },
   "source": [
    "- Features\n",
    "    - Version Control\n",
    "    - Consistency\n",
    "    - Scale \n",
    "    - Automation\n",
    "    - Modular\n",
    "    - Reusable"
   ]
  },
  {
   "cell_type": "markdown",
   "metadata": {},
   "source": [
    "### Microservice"
   ]
  },
  {
   "cell_type": "markdown",
   "metadata": {},
   "source": [
    "- Overveiw\n",
    "    - A Software Development Architecture\n",
    "- Features\n",
    "    - Decoupled\n",
    "    - Decentralized\n",
    "    - Downsized\n",
    "    - Scaling\n",
    "        - Granular\n",
    "        - Rapid\n",
    "    - Agile\n",
    "        - Fast Deployment\n",
    "        - Frequent Update\n",
    "    - Fault Tolerance\n",
    "    - Lean\n",
    "        - MVP: Minimum Viable Product\n",
    "    - DevOps\n",
    "- Building Blocks\n",
    "    - API Gateway\n",
    "    - Function/Application Logic\n",
    "    - Data Stroe\n",
    "    - Service\n",
    "    - Application\n",
    "- Architecture\n",
    "    - API driven Pattern\n",
    "    - Event driven Pattern\n",
    "    - Data streaming Pattern\n",
    "    - Message Pattern\n",
    "        - Request/Response\n",
    "        - Publish/Subscript\n",
    "            - Fan-In\n",
    "            - Fan-Out\n",
    "- Practice\n",
    "    - Agile software development\n",
    "    - Service-oriented architectures\n",
    "    - API-first design\n",
    "    - Continuous Integration/Continuous Delivery (CI/CD)"
   ]
  },
  {
   "cell_type": "markdown",
   "metadata": {},
   "source": [
    "### CICD"
   ]
  },
  {
   "cell_type": "markdown",
   "metadata": {},
   "source": [
    "<img style=\"-webkit-user-select: none;margin: auto;cursor: zoom-in;\" src=\"DevOps-CICD.png\" width=\"550\" height=\"550\">"
   ]
  },
  {
   "cell_type": "markdown",
   "metadata": {},
   "source": [
    "- Benifits\n",
    "    - Automation\n",
    "    - Consistency\n",
    "    - Improve Productivity\n",
    "    - Faster Delivery\n",
    "    - Improve Code Quality \n",
    "    - Agility"
   ]
  },
  {
   "cell_type": "markdown",
   "metadata": {},
   "source": [
    "- CI\n",
    "    - <img style=\"-webkit-user-select: none;margin: auto;cursor: zoom-in;\" src=\"DevOps-CIWorkflow.png\" width=\"650\" height=\"650\">"
   ]
  },
  {
   "cell_type": "markdown",
   "metadata": {},
   "source": [
    "- CD\n",
    "    - Build\n",
    "    - Test\n",
    "    - Staging\n",
    "    - Deploy"
   ]
  },
  {
   "cell_type": "markdown",
   "metadata": {},
   "source": [
    "- Pipeline\n",
    "    - <img style=\"-webkit-user-select: none;margin: auto;cursor: zoom-in;\" src=\"DevOps-Pipeline.png\" width=\"650\" height=\"100\">"
   ]
  },
  {
   "cell_type": "markdown",
   "metadata": {},
   "source": [
    "- Testing\n",
    "    - Function Test\n",
    "        - Unit Test\n",
    "        - Static Code Analysis\n",
    "        - Integration Test\n",
    "    - Integration Testing\n",
    "    - Component Testing\n",
    "    - System Testing    \n",
    "    - Performance Test\n",
    "        - Response Test\n",
    "        - Load Test\n",
    "    - Compliance Testing\n",
    "    - User Acceptance Testing\n",
    "    - A/B Test\n",
    "    - Canary Test       \n",
    "- Deployment Pattern\n",
    "    - In Place\n",
    "        - All at once\n",
    "    - Rolling Updates\n",
    "    - Rolling with Additional Batch\n",
    "    - Immutable\n",
    "    - Blue-Green\n",
    "    - Red-Black\n",
    "- Environment\n",
    "    - Dev\n",
    "    - QA\n",
    "    - Staging\n",
    "    - Prod\n",
    "    - DR"
   ]
  },
  {
   "cell_type": "markdown",
   "metadata": {},
   "source": [
    "### More Patterns"
   ]
  },
  {
   "cell_type": "markdown",
   "metadata": {},
   "source": [
    "- Immutable Infrastructure\n",
    "    - Golden Image\n",
    "    - Immutable Components are reused for every deployment\n",
    "    - Replace instead Upgrade in-place\n",
    "- MVP: Minimal Viable Product"
   ]
  },
  {
   "cell_type": "markdown",
   "metadata": {},
   "source": [
    "## Pillars"
   ]
  },
  {
   "cell_type": "markdown",
   "metadata": {
    "heading_collapsed": true
   },
   "source": [
    "### Resilience"
   ]
  },
  {
   "cell_type": "markdown",
   "metadata": {
    "hidden": true
   },
   "source": [
    "- Site Reliability Engineering\n",
    "    - Blamelessness\n",
    "    - Root Cause Analysis\n",
    "    - Incident Management\n",
    "        - Detection\n",
    "        - Describle\n",
    "            - Metric\n",
    "                - TTD/MTTD: time to detect\n",
    "                - TTR/MTTR: time to restore\n",
    "                - TBF/MTBF: time between failure\n",
    "            - Timeline\n",
    "                - Pre-Incident\n",
    "                - Incident\n",
    "                - Post-Incident\n",
    "        - Workflow\n",
    "        - Resolve\n"
   ]
  },
  {
   "cell_type": "markdown",
   "metadata": {},
   "source": [
    "### Security"
   ]
  },
  {
   "cell_type": "markdown",
   "metadata": {},
   "source": [
    "### Performance"
   ]
  },
  {
   "cell_type": "markdown",
   "metadata": {
    "heading_collapsed": true
   },
   "source": [
    "### Operation"
   ]
  },
  {
   "cell_type": "markdown",
   "metadata": {
    "hidden": true
   },
   "source": [
    "- Configuration Management\n",
    "- Monitoring\n",
    "- Logging"
   ]
  },
  {
   "cell_type": "markdown",
   "metadata": {},
   "source": [
    "### Governance"
   ]
  },
  {
   "cell_type": "markdown",
   "metadata": {},
   "source": [
    "# Docker"
   ]
  },
  {
   "cell_type": "markdown",
   "metadata": {},
   "source": [
    "## Overview"
   ]
  },
  {
   "cell_type": "markdown",
   "metadata": {},
   "source": [
    "### Features"
   ]
  },
  {
   "cell_type": "markdown",
   "metadata": {},
   "source": [
    "- Solve Old Applciation Infras Challenges\n",
    "    - Config\n",
    "    - Compatiblity\n",
    "    - Dependency\n",
    "    - Inconsistency accross Dev/QA/Prod envrionments\n",
    "    - Operation\n",
    "        - Patching\n",
    "        - Upgrading\n",
    "        - Scaling\n",
    "- Featrues\n",
    "    - Flexible\n",
    "    - Lightweight\n",
    "    - Portable\n",
    "    - Decoupled\n",
    "    - Scalable\n",
    "    - Secury"
   ]
  },
  {
   "cell_type": "markdown",
   "metadata": {},
   "source": [
    "### Applicable Scenarios"
   ]
  },
  {
   "cell_type": "markdown",
   "metadata": {},
   "source": []
  },
  {
   "cell_type": "markdown",
   "metadata": {},
   "source": [
    "## Architecture\n",
    "\n"
   ]
  },
  {
   "cell_type": "markdown",
   "metadata": {},
   "source": [
    "### Building Blocks"
   ]
  },
  {
   "cell_type": "markdown",
   "metadata": {},
   "source": [
    "- Docker Cluster\n",
    "- Docker Host\n",
    "- Docker Daemon/Engine\n",
    "- Docker Client\n",
    "- Docker Image\n",
    "- Docker Registry\n",
    "- Docker Container"
   ]
  },
  {
   "cell_type": "markdown",
   "metadata": {},
   "source": [
    "### Structure"
   ]
  },
  {
   "cell_type": "markdown",
   "metadata": {},
   "source": [
    "- Docker Container Layers\n",
    "    - Docker Host\n",
    "        - Docker Engine/Daemon\n",
    "        - Docker Image\n",
    "        - Docker Container\n",
    "            - Libs/Depends\n",
    "            - Runtime\n",
    "            - Application Codes\n",
    "    - Docker Client\n"
   ]
  },
  {
   "cell_type": "markdown",
   "metadata": {},
   "source": [
    "#### Dockerfile"
   ]
  },
  {
   "cell_type": "markdown",
   "metadata": {},
   "source": [
    "- Dockerfile"
   ]
  },
  {
   "cell_type": "markdown",
   "metadata": {},
   "source": [
    "### Domain Tech"
   ]
  },
  {
   "cell_type": "markdown",
   "metadata": {},
   "source": [
    "## CLI"
   ]
  },
  {
   "cell_type": "markdown",
   "metadata": {},
   "source": [
    "- version\n",
    "    - `docker -v`\n",
    "    - `docker version`\n",
    "- stats\n",
    "    - `docker stats`\n",
    "- login/logout\n",
    "    - `docker login`\n",
    "    - `docker logout`\n",
    "    - `cat .docker/config.json`\n",
    "- pull/push\n",
    "    - `docker pull IMAGE:TAG`\n",
    "    - `docker push DOCKERHUB_ID/IMAGE:TAG`\n",
    "- tag\n",
    "    - `docker tag DOCKERHUB_ID/IMAGE:TAG DOCKERHUB_ID/IMAGE:NET_TAG`\n",
    "- image\n",
    "    - `docker images`\n",
    "    - `docker images -a`\n",
    "- run/stop\n",
    "    - `docker run IMAGE`\n",
    "    - `docker run --name C_NAME -p S_PORT:D_PORT -d IMAGE:TAG`\n",
    "    - `docker stop C_NAME`\n",
    "- rm/rmi\n",
    "    - `docker rm C_NAME`\n",
    "    - `docker rmi IMAGE`\n",
    "- ps\n",
    "    - `docker ps`\n",
    "    - `docker ps -a`\n",
    "    - `docker ps -a -q`: Container ID\n",
    "- exec\n",
    "    - `docker exec -it C_NAME /bin/bash`\n"
   ]
  },
  {
   "cell_type": "markdown",
   "metadata": {},
   "source": [
    "- build\n",
    "    - `docker build -t DOCKERHUB_ID/IMAGE:TAG .`"
   ]
  },
  {
   "cell_type": "markdown",
   "metadata": {},
   "source": [
    "## Best Practice"
   ]
  },
  {
   "cell_type": "markdown",
   "metadata": {},
   "source": [
    "### Install and Initialize"
   ]
  },
  {
   "cell_type": "markdown",
   "metadata": {},
   "source": [
    "#### Install on Ubuntu\n",
    "\n",
    "- [Ref for installation](https://docs.docker.com/install/linux/docker-ce/ubuntu/)\n",
    "- [Ref for install docker on WLS](https://medium.com/faun/docker-running-seamlessly-in-windows-subsystem-linux-6ef8412377aa)\n",
    "- Install Bash Scritp\n",
    "  - `$ curl -fsSL https://get.docker.com -o get-docker.sh`\n",
    "  - `$ sudo sh get-docker.sh`"
   ]
  },
  {
   "cell_type": "markdown",
   "metadata": {},
   "source": [
    "#### Initialize\n",
    "\n",
    "- `sudo groupadd docker`\n",
    "- `sudo usermod -aG docker $USER`\n",
    "- `$ docker run hello-world`"
   ]
  },
  {
   "cell_type": "markdown",
   "metadata": {},
   "source": [
    "### Docker Deamon Remote Connection via SSH"
   ]
  },
  {
   "cell_type": "markdown",
   "metadata": {},
   "source": [
    "- Docker Shell Access\n",
    "  - `eval $(ssh-agent -s)`\n",
    "  - `ssh-add ID_FILE`\n",
    "  - `export DOCKER_HOST=ssh://USER@REMOTE_HOST`\n",
    "  - `docker info`\n",
    "- One-off Docker CMD Acess\n",
    "  - `docker -H ssh://USER@REMOTE_HOST info`"
   ]
  },
  {
   "cell_type": "code",
   "execution_count": null,
   "metadata": {},
   "outputs": [],
   "source": []
  },
  {
   "cell_type": "code",
   "execution_count": null,
   "metadata": {},
   "outputs": [],
   "source": []
  },
  {
   "cell_type": "markdown",
   "metadata": {},
   "source": [
    "# Kubernetes"
   ]
  },
  {
   "cell_type": "markdown",
   "metadata": {},
   "source": [
    "# AWS DevOps"
   ]
  },
  {
   "cell_type": "markdown",
   "metadata": {},
   "source": [
    "# Azure DevOps"
   ]
  },
  {
   "cell_type": "code",
   "execution_count": null,
   "metadata": {},
   "outputs": [],
   "source": []
  }
 ],
 "metadata": {
  "kernelspec": {
   "display_name": "Python 3",
   "language": "python",
   "name": "python3"
  },
  "language_info": {
   "codemirror_mode": {
    "name": "ipython",
    "version": 3
   },
   "file_extension": ".py",
   "mimetype": "text/x-python",
   "name": "python",
   "nbconvert_exporter": "python",
   "pygments_lexer": "ipython3",
   "version": "3.7.7"
  },
  "toc": {
   "base_numbering": 1,
   "nav_menu": {},
   "number_sections": true,
   "sideBar": true,
   "skip_h1_title": false,
   "title_cell": "Table of Contents",
   "title_sidebar": "Contents",
   "toc_cell": false,
   "toc_position": {
    "height": "calc(100% - 180px)",
    "left": "10px",
    "top": "150px",
    "width": "216px"
   },
   "toc_section_display": true,
   "toc_window_display": true
  }
 },
 "nbformat": 4,
 "nbformat_minor": 2
}
