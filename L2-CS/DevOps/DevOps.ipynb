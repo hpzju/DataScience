{
 "cells": [
  {
   "cell_type": "markdown",
   "metadata": {},
   "source": [
    "# DevOps"
   ]
  },
  {
   "cell_type": "markdown",
   "metadata": {},
   "source": [
    "- Environment\n",
    "    - Dev\n",
    "    - Test/QA\n",
    "    - Production\n",
    "    - DR"
   ]
  },
  {
   "cell_type": "code",
   "execution_count": null,
   "metadata": {},
   "outputs": [],
   "source": []
  },
  {
   "cell_type": "markdown",
   "metadata": {},
   "source": [
    "# Docker"
   ]
  },
  {
   "cell_type": "markdown",
   "metadata": {},
   "source": [
    "## Overview\n",
    "\n",
    "---\n",
    "\n",
    "## Application\n",
    "\n",
    "### Features\n",
    "\n",
    "### Applicable Scenarios\n",
    "\n",
    "---\n",
    "\n",
    "## Architecture\n",
    "\n",
    "### Building Blocks\n",
    "\n",
    "### Structures\n",
    "\n",
    "### Domain Tech\n",
    "\n",
    "---\n",
    "\n",
    "## Best Practice\n",
    "\n",
    "### Install and Initialize\n",
    "\n",
    "#### Install on Ubuntu\n",
    "\n",
    "- [Ref for installation](https://docs.docker.com/install/linux/docker-ce/ubuntu/)\n",
    "- [Ref for install docker on WLS](https://medium.com/faun/docker-running-seamlessly-in-windows-subsystem-linux-6ef8412377aa)\n",
    "- Install Bash Scritp\n",
    "  - `$ curl -fsSL https://get.docker.com -o get-docker.sh`\n",
    "  - `$ sudo sh get-docker.sh`\n",
    "\n",
    "#### Initialize\n",
    "\n",
    "- `sudo groupadd docker`\n",
    "- `sudo usermod -aG docker $USER`\n",
    "- `$ docker run hello-world`\n",
    "\n",
    "### Docker Deamon Remote Connection via SSH\n",
    "\n",
    "- Docker Shell Access\n",
    "  - `eval $(ssh-agent -s)`\n",
    "  - `ssh-add ID_FILE`\n",
    "  - `export DOCKER_HOST=ssh://USER@REMOTE_HOST`\n",
    "  - `docker info`\n",
    "- One-off Docker CMD Acess\n",
    "  - `docker -H ssh://USER@REMOTE_HOST info`\n",
    "\n",
    "---\n",
    "\n",
    "## Misc\n",
    "\n",
    "### Online Resources\n",
    "\n",
    "- [Docker Docs](https://docs.docker.com/)\n",
    "- [1](https://docs.mongodb.com/)"
   ]
  },
  {
   "cell_type": "markdown",
   "metadata": {},
   "source": [
    "# Kubernetes"
   ]
  },
  {
   "cell_type": "markdown",
   "metadata": {},
   "source": [
    "# AWS DevOps"
   ]
  },
  {
   "cell_type": "markdown",
   "metadata": {},
   "source": [
    "# Azure DevOps"
   ]
  },
  {
   "cell_type": "code",
   "execution_count": null,
   "metadata": {},
   "outputs": [],
   "source": []
  }
 ],
 "metadata": {
  "kernelspec": {
   "display_name": "Python 3",
   "language": "python",
   "name": "python3"
  },
  "language_info": {
   "codemirror_mode": {
    "name": "ipython",
    "version": 3
   },
   "file_extension": ".py",
   "mimetype": "text/x-python",
   "name": "python",
   "nbconvert_exporter": "python",
   "pygments_lexer": "ipython3",
   "version": "3.7.6"
  },
  "toc": {
   "base_numbering": 1,
   "nav_menu": {},
   "number_sections": true,
   "sideBar": true,
   "skip_h1_title": false,
   "title_cell": "Table of Contents",
   "title_sidebar": "Contents",
   "toc_cell": false,
   "toc_position": {},
   "toc_section_display": true,
   "toc_window_display": true
  }
 },
 "nbformat": 4,
 "nbformat_minor": 2
}
