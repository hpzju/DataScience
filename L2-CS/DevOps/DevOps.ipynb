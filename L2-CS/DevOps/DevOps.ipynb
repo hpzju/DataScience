{
 "cells": [
  {
   "cell_type": "markdown",
   "metadata": {},
   "source": [
    "# DevOps"
   ]
  },
  {
   "cell_type": "markdown",
   "metadata": {},
   "source": [
    "## Overview"
   ]
  },
  {
   "cell_type": "markdown",
   "metadata": {},
   "source": [
    "- Environment\n",
    "    - Dev\n",
    "    - Stage(Test/QA)\n",
    "    - Prod\n",
    "    - DR\n",
    "- Pipeline\n",
    "    - Code Commit\n",
    "    - Build\n",
    "    - Test\n",
    "    - Dev Deploy\n",
    "    - Test\n",
    "    - Stage Deploy\n",
    "    - Test\n",
    "    - Prod Deploy\n",
    "    - Ongoing Test"
   ]
  },
  {
   "cell_type": "markdown",
   "metadata": {},
   "source": [
    "## Web Stack"
   ]
  },
  {
   "cell_type": "markdown",
   "metadata": {},
   "source": [
    "- WebStack\n",
    "    - <img style=\"-webkit-user-select: none;margin: auto;cursor: zoom-in;\" src=\"DevOps-WebStack.png\" width=\"550\" height=\"550\">"
   ]
  },
  {
   "cell_type": "markdown",
   "metadata": {},
   "source": [
    "## Tools"
   ]
  },
  {
   "cell_type": "markdown",
   "metadata": {},
   "source": [
    "### Git"
   ]
  },
  {
   "cell_type": "markdown",
   "metadata": {},
   "source": [
    "- config\n",
    "    - `git config --global user.name \"USER\"`\n",
    "    - `git config --global user.email \"USER@goole.com\"`\n",
    "- init\n",
    "    - `cd repository_dir; git init`\n",
    "    - `git init repository_dir`\n",
    "- clone\n",
    "    - `git clone local_repo_dir new_local_dir`\n",
    "- add\n",
    "    - `git add .`\n",
    "    - `git add *`\n",
    "    - `echo filename >> .gitignore`\n",
    "- status\n",
    "    - `git status`\n",
    "- commit\n",
    "    - `git commit -m 'message'`\n",
    "    - `git commit file -m 'message'`\n",
    "    - `git commit -a -m 'message'`: all changed files\n",
    "- log\n",
    "    - `git log`"
   ]
  },
  {
   "cell_type": "markdown",
   "metadata": {},
   "source": [
    "### Ansible"
   ]
  },
  {
   "cell_type": "markdown",
   "metadata": {},
   "source": [
    "### Chef"
   ]
  },
  {
   "cell_type": "markdown",
   "metadata": {},
   "source": [
    "### Puppet"
   ]
  },
  {
   "cell_type": "markdown",
   "metadata": {},
   "source": [
    "# Docker"
   ]
  },
  {
   "cell_type": "markdown",
   "metadata": {},
   "source": [
    "## Overview\n",
    "\n",
    "---\n",
    "\n",
    "## Application\n",
    "\n",
    "### Features\n",
    "\n",
    "### Applicable Scenarios\n",
    "\n",
    "---\n",
    "\n",
    "## Architecture\n",
    "\n",
    "### Building Blocks\n",
    "\n",
    "### Structures\n",
    "\n",
    "### Domain Tech\n",
    "\n",
    "---\n",
    "\n",
    "## Best Practice\n",
    "\n",
    "### Install and Initialize\n",
    "\n",
    "#### Install on Ubuntu\n",
    "\n",
    "- [Ref for installation](https://docs.docker.com/install/linux/docker-ce/ubuntu/)\n",
    "- [Ref for install docker on WLS](https://medium.com/faun/docker-running-seamlessly-in-windows-subsystem-linux-6ef8412377aa)\n",
    "- Install Bash Scritp\n",
    "  - `$ curl -fsSL https://get.docker.com -o get-docker.sh`\n",
    "  - `$ sudo sh get-docker.sh`\n",
    "\n",
    "#### Initialize\n",
    "\n",
    "- `sudo groupadd docker`\n",
    "- `sudo usermod -aG docker $USER`\n",
    "- `$ docker run hello-world`\n",
    "\n",
    "### Docker Deamon Remote Connection via SSH\n",
    "\n",
    "- Docker Shell Access\n",
    "  - `eval $(ssh-agent -s)`\n",
    "  - `ssh-add ID_FILE`\n",
    "  - `export DOCKER_HOST=ssh://USER@REMOTE_HOST`\n",
    "  - `docker info`\n",
    "- One-off Docker CMD Acess\n",
    "  - `docker -H ssh://USER@REMOTE_HOST info`\n",
    "\n",
    "---\n",
    "\n",
    "## Misc\n",
    "\n",
    "### Online Resources\n",
    "\n",
    "- [Docker Docs](https://docs.docker.com/)\n",
    "- [1](https://docs.mongodb.com/)"
   ]
  },
  {
   "cell_type": "markdown",
   "metadata": {},
   "source": [
    "# Kubernetes"
   ]
  },
  {
   "cell_type": "markdown",
   "metadata": {},
   "source": [
    "# AWS DevOps"
   ]
  },
  {
   "cell_type": "markdown",
   "metadata": {},
   "source": [
    "# Azure DevOps"
   ]
  },
  {
   "cell_type": "code",
   "execution_count": null,
   "metadata": {},
   "outputs": [],
   "source": []
  }
 ],
 "metadata": {
  "kernelspec": {
   "display_name": "Python 3",
   "language": "python",
   "name": "python3"
  },
  "language_info": {
   "codemirror_mode": {
    "name": "ipython",
    "version": 3
   },
   "file_extension": ".py",
   "mimetype": "text/x-python",
   "name": "python",
   "nbconvert_exporter": "python",
   "pygments_lexer": "ipython3",
   "version": "3.7.6"
  },
  "toc": {
   "base_numbering": 1,
   "nav_menu": {},
   "number_sections": true,
   "sideBar": true,
   "skip_h1_title": false,
   "title_cell": "Table of Contents",
   "title_sidebar": "Contents",
   "toc_cell": false,
   "toc_position": {},
   "toc_section_display": true,
   "toc_window_display": true
  }
 },
 "nbformat": 4,
 "nbformat_minor": 2
}
