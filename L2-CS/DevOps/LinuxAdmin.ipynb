{
 "cells": [
  {
   "cell_type": "markdown",
   "metadata": {},
   "source": [
    "# Linux Overveiw"
   ]
  },
  {
   "cell_type": "markdown",
   "metadata": {},
   "source": [
    "- Ring\n",
    "    - Hardware\n",
    "    - Linux Kernel\n",
    "    - Shell\n",
    "    - Application\n",
    "    - User\n",
    "    \n",
    "- Booting\n",
    "    - <img style=\"-webkit-user-select: none;margin: auto;cursor: zoom-in;\" src=\"LinuxAdmin-BootingProcess.png\" width=\"550\" height=\"550\">\n",
    "    - UEFI: Unified Extensible Firmware Interface\n",
    "        - GPT: GUID Partition Table\n",
    "        - ESP: EFI System Partition\n",
    "    - BIOS: Basic IO System\n",
    "        - MBR: Main Boot Record\n",
    "- PXE\n",
    "    - <img style=\"-webkit-user-select: none;margin: auto;cursor: zoom-in;\" src=\"LinuxAdmin-PXE.png\" width=\"550\" height=\"550\">"
   ]
  },
  {
   "cell_type": "markdown",
   "metadata": {},
   "source": [
    "# Ubuntu Admin"
   ]
  },
  {
   "cell_type": "markdown",
   "metadata": {},
   "source": [
    "## Install, Remove, Update, Upgrade"
   ]
  },
  {
   "cell_type": "markdown",
   "metadata": {},
   "source": [
    "- Commands\n",
    "  - `sudo apt update`\n",
    "  - `sudo apt upgrade -y`\n",
    "  - `sudo do-release-upgrade -d`\n",
    "  - `sudo apt autoremove -y`\n",
    "  - `sudo apt install PACKAGE`\n",
    "  - `sudo dpkg --configure -a`\n",
    "  - `sudo apt install --reinstall BROKEN_PACKAGE`\n",
    "- Config Files\n",
    "  - `/etc/apt/sources.list`"
   ]
  },
  {
   "cell_type": "markdown",
   "metadata": {},
   "source": [
    "## Identity and Privilege"
   ]
  },
  {
   "cell_type": "markdown",
   "metadata": {},
   "source": [
    "### sudo, su, id,"
   ]
  },
  {
   "cell_type": "markdown",
   "metadata": {},
   "source": [
    "- sudo\n",
    "    - `/etc/sudoers`\n",
    "    - run sudo command without a password\n",
    "        - `sudo visudo`\n",
    "        - `USER_NAME ALL=(ALL:ALL) NOPASSWD:ALL`\n",
    "        - The USER can execute from ALL terminals/hosts, acting as ALL (any) users, ALL(any) groups, and run ALL (any) command\n",
    "\n",
    "- su\n",
    "    - `sudo su`\n",
    "    \n",
    "- id\n",
    "    - `id USER`\n",
    "   "
   ]
  },
  {
   "cell_type": "markdown",
   "metadata": {},
   "source": [
    "### useradd, passwd, usermod, groupadd"
   ]
  },
  {
   "cell_type": "markdown",
   "metadata": {},
   "source": [
    "- useradd\n",
    "    - `useradd USER`\n",
    "- passwd\n",
    "    - `passwd <user>`\n",
    "    - `passwd -l root`\n",
    "    - `passwd -u root`\n",
    "\n",
    "- usermod\n",
    "    - `usermod -g PRIMGROUP USER`\n",
    "    - `usermod -a -G <groupnames> <username>`\n",
    "- groupadd\n",
    "    - `groupadd GROUP`\n",
    "    \n",
    "- lsatt\n",
    "\n",
    "- chattr"
   ]
  },
  {
   "cell_type": "markdown",
   "metadata": {},
   "source": [
    "### PAM: Pluggable Authentication Modules"
   ]
  },
  {
   "cell_type": "code",
   "execution_count": null,
   "metadata": {},
   "outputs": [],
   "source": []
  },
  {
   "cell_type": "markdown",
   "metadata": {},
   "source": [
    "## FIle and File System"
   ]
  },
  {
   "cell_type": "markdown",
   "metadata": {},
   "source": [
    "- Terms\n",
    "    - `~`: Home Dir\n",
    "    - `.`: Current Dir, pwd\n",
    "    - `..`: Parent Dir\n",
    "    - iNode\n",
    "    - Link\n",
    "        - Hard Link\n",
    "        - Symbolic Link\n",
    "    - FD: File Descriptor\n",
    "        - 0: stdin\n",
    "        - 1: stdout\n",
    "        - 2: stderr\n",
    "    - Files\n",
    "        - `-` – if it is a regular file\n",
    "        - `d` – if it is a directory\n",
    "        - `c` – for a character device\n",
    "        - `b` – for a block device\n",
    "        - `l` – if it is a symbolic link\n",
    "        - `s` – for a socket\n",
    "        - `p` – for a pipe\n",
    "        - /dev/null\n",
    "        - /dev/zero\n",
    "        - /dev/urandom"
   ]
  },
  {
   "cell_type": "markdown",
   "metadata": {},
   "source": [
    "### cd, pwd, dirs, pushd, popd, ls, tree, file"
   ]
  },
  {
   "cell_type": "markdown",
   "metadata": {},
   "source": [
    "- cd\n",
    "- pwd\n",
    "- dirs\n",
    "    - `dirs -l`\n",
    "- pushd\n",
    "    - `pushd /home/kburtch/invoices`\n",
    "- popd\n",
    "\n",
    "- ls\n",
    "- tree\n",
    "    - `tree PATH -h`\n",
    "    - `tree PATH -o out.html`\n",
    "    - `tree PATH -P PATTERN`\n",
    "- file\n",
    "    - `file <file|dir>`: Determine type of FILEs"
   ]
  },
  {
   "cell_type": "markdown",
   "metadata": {},
   "source": [
    "### chmod, chown, chgrp, lsattr, chattr, setfacl, getfacl"
   ]
  },
  {
   "cell_type": "markdown",
   "metadata": {},
   "source": [
    "- chmod\n",
    "    - `chmod a+x FILENAME`\n",
    "    - `chmod a+t directory_name`: set sticky bit\n",
    "    - `chmod +s executable_file`: setuid\n",
    "    - `chmod g-rwx FILENAME`\n",
    "    - `chmod ug=srx,o= <file>`\n",
    "    - `chmod -R ug=rwx <Dir>`: recursively\n",
    "    - `r`: 4\n",
    "    - `w`: 2\n",
    "    - `x`: 1\n",
    "- umask\n",
    "    - `umask 0006`\n",
    "    - default file permission: `0666 - umask`\n",
    "    - default dir permission: `0777 - umask`\n",
    "- chown\n",
    "    - `chown USER FILENAME`\n",
    "    - `chown USER.GROUP FILENAME`\n",
    "    - `chown -R <Dir>`: recursively\n",
    "- chgrp\n",
    "    - `chgrp GROUP FILENAME`\n",
    "    - `chgrp -R <Dir>`: recursively\n",
    "- lsattr\n",
    "- chattr\n",
    "    - `chattr +i file`: set file immutable\n",
    "    - Files \n",
    "        - SUID: 4\n",
    "            - Files are executed with the permissions of the owner\n",
    "        - SGID: 2\n",
    "            - Files are executed with the permissions of the group\n",
    "        - Sticky bit: 1    \n",
    "            - Does nothing\n",
    "    - Directories\n",
    "        - SUID: 4\n",
    "            - Does nothing\n",
    "        - SGID: 2\n",
    "            - Files that are created in this directory get the same group as the directory\n",
    "        - Sticky bit: 1  \n",
    "            - User can only delete their own files within this directory. \n",
    "- getfacl\n",
    "    - `getfacl <filename>`\n",
    "- setfacl"
   ]
  },
  {
   "cell_type": "markdown",
   "metadata": {},
   "source": [
    "- File Types\n",
    "    - `-` – if it is a regular file\n",
    "    - `d` – if it is a directory\n",
    "    - `c` – for a character device\n",
    "    - `b` – for a block device\n",
    "    - `l` – if it is a symbolic link\n",
    "    - `s` – for a socket\n",
    "    - `p` – for a pipe\n",
    "- Permission\n",
    "    - a: All\n",
    "    - u: User\n",
    "        - `r`: 4\n",
    "        - `w`: 2\n",
    "        - `x`: 0\n",
    "        - `S`: Setuid\n",
    "    - g: Group\n",
    "        - `r`: 4\n",
    "        - `w`: 2\n",
    "        - `x`: 0\n",
    "        - `S`: Setgid\n",
    "    - o: Others\n",
    "        - `r`: 4\n",
    "        - `w`: 2\n",
    "        - `x`: 0\n",
    "        - `t`: sticky bit for Directory\n",
    "        - `T`: sticky and execution "
   ]
  },
  {
   "cell_type": "markdown",
   "metadata": {},
   "source": [
    "### touch, mkdir, mktemp, ln"
   ]
  },
  {
   "cell_type": "markdown",
   "metadata": {},
   "source": [
    "- touch\n",
    "    - `touch -a FILE`\n",
    "    - `touch -m FILE`\n",
    "    - `touch pattern{1..100}.txt`\n",
    "\n",
    "- mkdir\n",
    "    - `mkdir DIRNAME`\n",
    "\n",
    "- ln\n",
    "    - `ln -s /var/www/ ~/web`\n",
    "    - `ln -s oldtarget newlink`\n",
    "    - `ln -s TARGET`\n",
    "    \n",
    "- mktemp\n",
    "    - filename=\\``mktemp`\\`\n",
    "    - dirname=\\``mktemp -d`\\`\n",
    "    - tmpfile=\\``mktemp -u`\\`\n",
    "    - `mktemp pattern.XXX`"
   ]
  },
  {
   "cell_type": "markdown",
   "metadata": {},
   "source": [
    "### cp, mv, rm, rmdir"
   ]
  },
  {
   "cell_type": "markdown",
   "metadata": {},
   "source": [
    "- cp\n",
    "    - `cp <source> <destiny>`\n",
    "    - `-r`: recursively\n",
    "    - `-b`: backup\n",
    "    - `-u`: update old file\n",
    "    - `-f`: force\n",
    "- mv\n",
    "    - `mv <Source> <Destiny>`\n",
    "    - `-b`: backup\n",
    "    - `-u`: update old file\n",
    "    - `-r`: recursively\n",
    "    - `-f`: force\n",
    "- rm\n",
    "    - `rm -f <FILEs>`\n",
    "    - `rm -rf <DIRs>`\n",
    "    - `-r`: recursively\n",
    "    - `-d`: dir\n",
    "    - `-i`: interactive\n",
    "    - `-f`: force\n",
    "- rmdir"
   ]
  },
  {
   "cell_type": "markdown",
   "metadata": {},
   "source": [
    "### find, locate"
   ]
  },
  {
   "cell_type": "markdown",
   "metadata": {},
   "source": [
    "- by location/multi-location\n",
    "    - `find /home/USER1 /home/USER2 -type f -iname NAME`\n",
    "    - `find / -maxdepth 3 -type f -name NAME`\n",
    "    - `find / -mindepth 2 -type f -name NAME`\n",
    "- by name\n",
    "    - `find / -name NAME`\n",
    "    - `find / -iname NAME`\n",
    "    - `find / -name \"*.txt\"`\n",
    "- by regex\n",
    "    - `find / -iregex '.*\\(\\.py\\|\\.sh\\)$'`\n",
    "    \n",
    "- by path\n",
    "    - `find / -type f -not -path '*/\\.*'`\n",
    "    \n",
    "- by type\n",
    "    - `find / -type f`\n",
    "    - `find / -type d`\n",
    "    - `find / -type d -empty`\n",
    "    - f: Regular file \n",
    "    - l: Symbolic link\n",
    "    - d: Directory\n",
    "    - c: Character special device\n",
    "    - b: Block device\n",
    "    - s: Socket\n",
    "    - p: FIFO \n",
    "    \n",
    "- by size\n",
    "    - `find / -type f -size +50k`\n",
    "    - `find / -type f -size -10k`\n",
    "    - `find / -type f -exec du -sh {} + | sort -n`\n",
    "    - `find / -type f -exec du -sh {} + | sort -nr`\n",
    "    - b: 512 byte blocks\n",
    "    - c: Bytes\n",
    "    - w: Two-byte words\n",
    "    - k: Kilobyte (1024 bytes)\n",
    "    - M: Megabyte (1024 kilobytes)\n",
    "    - G: Gigabyte (1024 megabytes)\n",
    "    \n",
    "- by permission\n",
    "    - `find / -type f -perm 777`\n",
    "    - `find / -type f -perm 777 -exec ls -al {} +`\n",
    "    \n",
    "- by time\n",
    "    - `find / -type f -mmin +2 -mmin -10`\n",
    "    - `find / -type f -mtime +1 -mtime -10`\n",
    "    - atime: Access Time\n",
    "    - mtime: Modification Time\n",
    "    - ctime: Change Time\n",
    "    \n",
    "- by user/group\n",
    "    - `find / -type f -user USER`\n",
    "    - `find / -type f -group GROUP`"
   ]
  },
  {
   "cell_type": "markdown",
   "metadata": {},
   "source": [
    "- action\n",
    "    - `find . -print`\n",
    "    - `find . -type f -empty`\n",
    "    - `find . -type d -empty`\n",
    "    - `find . -type d -not -empty`\n",
    "    - `find . -type d ! -empty`\n",
    "    - `find / -type f -mtime -1 -delete`\n",
    "    - `find / -type f -mtime -1 -exec rm -rf {} \\;`\n",
    "    - `find / -type f -mtime -1 -exec cat {} \\;`\n",
    "    - `find / -type f -name NAME -exec mv -t ~ {} +`\n",
    "    - `find / -type f -name NAME -exec cp -t ~ {} +`\n",
    "    - `find . -type f -name \"*.txt\" -print 0 | xargs -0 rm -f`"
   ]
  },
  {
   "cell_type": "markdown",
   "metadata": {},
   "source": [
    "### tar, gzip, bzip2"
   ]
  },
  {
   "cell_type": "markdown",
   "metadata": {},
   "source": [
    "- tar\n",
    "    - `tar -cf archive.tar file1 file2`: create tarball with files\n",
    "    - `tar -cf arch.tar * --exclude \"*.txt\"`: exclude files\n",
    "    - `tar -rvf original.tar new_file`: append to tarball with new file\n",
    "    - `tar -tvf archive.tar`: list tarball\n",
    "    - `tar -xf archive.tar`: extract tarball\n",
    "    - `tar -xf archive.tar -C /path/to/extraction_directory`\n",
    "    - `tar -xvf file.tar file1 file4`: extract file1 and file4\n",
    "    - `tar -f archive.tar --delete file1 file2`: delete fiel1 and file2\n",
    "    - `tar -Af file1.tar file2.tar`: concatenate two tallball\n",
    "    - `tar -uf archive.tar filea`: update timestamp filea\n",
    "- gzip\n",
    "    - `tar -czvvf archive.tar.gz [FILES]`: gzip compress\n",
    "    - `tar acvf archive.tar.gz filea fileb filec`: auto compress\n",
    "    - `tar -xavvf archive.tar.gz -C extract_directory`\n",
    "    - `zcat test.gz`\n",
    "- bzip2\n",
    "    - `tar -xjvf archive.tar.bz2`"
   ]
  },
  {
   "cell_type": "markdown",
   "metadata": {},
   "source": [
    "### df, dd, fdisk, mount, mkfs, fsck"
   ]
  },
  {
   "cell_type": "markdown",
   "metadata": {},
   "source": [
    "- df\n",
    "    - `df -h /dev/sda`\n",
    "- fdisk\n",
    "    - `fdisk -l /dev/xvda`\n",
    "    - `fdisk /dev/sdb`\n",
    "- fsck\n",
    "    - ``\n",
    "- mkfs\n",
    "    - `mkfs.ext4 /dev/sdb`\n",
    "    - `mkisofs -V \"Label\" -o image.iso source_dir/`\n",
    "- mount\n",
    "    - `mount -o loop loopbackfile.img /mnt/loopback`\n",
    "    - `mount -o loop linux.iso /mnt/iso`\n",
    "    \n",
    "- dd\n",
    "    - `dd if=/dev/cdrom of=image.iso`\n",
    "    - `dd if=/dev/sda1 of=mbr.data bs=512 count=1`\n",
    "    - `dd if=/dev/sda1 of=mbr.data bs=512 count=10 skip=10`\n",
    "    - `dd if=/dev/zero of=junk.data bs=1M count=1`\n",
    "    \n",
    "- block size in linux\n",
    "    - c: Byte (1 B)\n",
    "    - w: Word (2 B)\n",
    "    - b: Block (512 B)\n",
    "    - k: Kilobyte (1024 B)\n",
    "    - M: Megabyte (1024 KB)\n",
    "    - G: Gigabyte (1024 MB)    "
   ]
  },
  {
   "cell_type": "markdown",
   "metadata": {},
   "source": [
    "## Networking"
   ]
  },
  {
   "cell_type": "markdown",
   "metadata": {},
   "source": [
    "- ping, nslookup, host\n",
    "    - `ping google.com`\n",
    "    - `ping google.com -c 10`\n",
    "    - `nslookup google.com`\n",
    "    - `host google.com`\n",
    "- ifconfig\n",
    "    - `ifconfig`\n",
    "    - `ifconfig wlan0 192.168.0.80 netmask 255.255.252.0`\n",
    "    - `ifconfig eth0 hw ether 00:1c:bf:87:25:d5`\n",
    "- dns, host\n",
    "    - `echo nameserver IP_ADDRESS >> /etc/resolv.conf`\n",
    "    - `echo IP_ADDRESS symbolic_name >> /etc/hosts`\n",
    "- route\n",
    "    - `route`\n",
    "    - `route -n`\n",
    "    - `route add default gw IP_ADDRESS INTERFACE_NAME`\n",
    "- traceroute\n",
    "    - ` traceroute google.com`\n",
    "- netstat\n",
    "    - `netstat -tnp`\n",
    "- netcat\n",
    "    - `nc -l 1234`\n",
    "    - `nc -l 1234 > destination_filename`\n",
    "    - `nc DES_HOST 1234 < source_filename`\n",
    "- lsof\n",
    "    - `sudo lsof -i`\n",
    "- iptables\n",
    "    - ``"
   ]
  },
  {
   "cell_type": "markdown",
   "metadata": {},
   "source": [
    "## Process, Service and Application"
   ]
  },
  {
   "cell_type": "markdown",
   "metadata": {},
   "source": [
    "- Terms\n",
    "    - PID: process ID number\n",
    "    - PPID: parent PID\n",
    "    - UID: user ID\n",
    "    - EUID: effective user ID"
   ]
  },
  {
   "cell_type": "markdown",
   "metadata": {},
   "source": [
    "###  ps, strace, pidof, pgrep, pkill, fuser, lsof"
   ]
  },
  {
   "cell_type": "markdown",
   "metadata": {},
   "source": [
    "- ps\n",
    "    - `ps aux`\n",
    "    - `ps lax`\n",
    "- strace\n",
    "    - `strace -p PID`\n",
    "- pidof\n",
    "    - `pidof <process_name>`\n",
    "- pkill, pgrep    \n",
    "    - `pkill -u USER <process_keyword>`\n",
    "    - `pgrep -u USER <process_keyword>`\n",
    "    - ` pgrep -l <process_keyword>`\n",
    "- fuser: \n",
    "    - `fuser -c <mount_point>`: prints the PID of every process that’s using a file or directory on that filesystem"
   ]
  },
  {
   "cell_type": "markdown",
   "metadata": {},
   "source": [
    "### fork, clone, exec, wait, kill, killall"
   ]
  },
  {
   "cell_type": "markdown",
   "metadata": {},
   "source": [
    "- kill\n",
    "    - `kill -9 <PID>`\n",
    "    - `killall httpd`\n",
    "    - `kill -l`: list SIGNAL\n"
   ]
  },
  {
   "cell_type": "code",
   "execution_count": null,
   "metadata": {},
   "outputs": [],
   "source": []
  },
  {
   "cell_type": "markdown",
   "metadata": {},
   "source": [
    "## Package Admin"
   ]
  },
  {
   "cell_type": "markdown",
   "metadata": {},
   "source": [
    "### which"
   ]
  },
  {
   "cell_type": "markdown",
   "metadata": {},
   "source": [
    "- which\n",
    "    - `which <package_name>`"
   ]
  },
  {
   "cell_type": "markdown",
   "metadata": {},
   "source": [
    "### apt"
   ]
  },
  {
   "cell_type": "markdown",
   "metadata": {},
   "source": [
    "- apt\n",
    "    - `sudo apt update`\n",
    "    - `sudo apt upgrade`\n",
    "    - `sudo apt install <package_name>`"
   ]
  },
  {
   "cell_type": "code",
   "execution_count": null,
   "metadata": {},
   "outputs": [],
   "source": []
  },
  {
   "cell_type": "markdown",
   "metadata": {},
   "source": [
    "## SysOps"
   ]
  },
  {
   "cell_type": "markdown",
   "metadata": {},
   "source": [
    "### Information"
   ]
  },
  {
   "cell_type": "markdown",
   "metadata": {},
   "source": [
    "- proc\n",
    "    - `cat /proc/cpuinfo`\n",
    "    - `cat /proc/meminfo`\n",
    "- ls*\n",
    "    - `lshw`\n",
    "    - `lsusb`\n",
    "    - `lspci`\n",
    "    - `lsmem`\n",
    "    - `lsmod`"
   ]
  },
  {
   "cell_type": "markdown",
   "metadata": {},
   "source": [
    "### Monitor"
   ]
  },
  {
   "cell_type": "markdown",
   "metadata": {},
   "source": [
    "- who\n",
    "- whoami\n",
    "- users\n",
    "\n",
    "---\n",
    "- top\n",
    "- ps\n",
    "    - `ps aux`\n",
    "- trap\n",
    "- kill\n",
    "    - `kill -9 PID`\n",
    "    - `kill -s SIGNAL PID`\n",
    "        - 1: SIGHUP\n",
    "        - 2: SIGINT\n",
    "        - 9: SIGKILL\n",
    "        - 15: SIGTERM\n",
    "        - 20: SIGTSTP\n",
    "\n",
    "---\n",
    "\n",
    "- free\n",
    "    - `free -m`\n",
    "    \n",
    "---\n",
    "    \n",
    "- df\n",
    "    - `df -h`\n",
    "- du\n",
    "    - `du -h FILE/DIR`\n",
    "    - `du -a DIR`: all\n",
    "    - `du -s DIR`: summarize\n",
    "    - `du -k FILE/DIR`: kilobytes\n",
    "    - `du -m FILE/DIR`: megabytes\n",
    "    - `du -ak SOURCE_DIR | sort -nrk 1 | head`\n",
    "- fsck\n",
    "- io\n",
    "- iotop\n",
    "\n",
    "---\n",
    "\n"
   ]
  },
  {
   "cell_type": "markdown",
   "metadata": {},
   "source": [
    "### Control"
   ]
  },
  {
   "cell_type": "markdown",
   "metadata": {},
   "source": [
    "- systemctl: service\n",
    "    - `sudo systemctl get-default`\n",
    "    - `sudo systemctl set-default <multi-user.target|graphical.targe>`\n",
    "    - `sudo systemctl edit nginx.service`\n",
    "    - `sudo systemctl status -l nginx`\n",
    "    - `sudo systemctl list-units --type=service`\n",
    "        - `list-unit-files`\n",
    "        - `status`\n",
    "        - `enable`\n",
    "        - `disable`\n",
    "        - `start`\n",
    "        - `stop`\n",
    "        - `reboot`\n",
    "        - `isolate`: change running mode\n",
    "        - `kill`\n",
    "- systemctl: SAR(System Activity Report)\n",
    "    - `systemctl enable sysstat`\n",
    "    - `systemctl start sysstat`\n",
    "    - `systemctl stop sysstat`\n",
    "    - `systemctl disable sysstat`\n",
    "    - `/var/log/sa`\n",
    "    - `sar`"
   ]
  },
  {
   "cell_type": "markdown",
   "metadata": {},
   "source": [
    "- cron/crontab\n",
    "    - `crontab -l`\n",
    "    - `crontab -e USER`\n",
    "    - `systemctl list-timers`"
   ]
  },
  {
   "cell_type": "markdown",
   "metadata": {},
   "source": [
    "- last\n",
    "    - `last reboot`\n",
    "- uptime\n",
    "- shutdown\n",
    "    - `shutdown -P`\n",
    "    - `shutdown +5`: shutdown 5min later\n",
    "    - `shutdown 14:00`: shutdown at 14:00\n",
    "    - `shutdown -r now`\n",
    "- halt\n",
    "    - `halt -p`"
   ]
  },
  {
   "cell_type": "markdown",
   "metadata": {},
   "source": [
    "### Log"
   ]
  },
  {
   "cell_type": "markdown",
   "metadata": {},
   "source": [
    "- logger\n",
    "    - `logger \"logging message\"`\n",
    "    \n",
    "- logwatch\n",
    "    - `less logwatch`"
   ]
  },
  {
   "cell_type": "markdown",
   "metadata": {},
   "source": [
    "- journalctl\n",
    "    - `journalctl`\n",
    "    - `journalctl --since 2017-12-20 --until 2017-12-24`\n",
    "    - `journalctl --since yesterday -u NetworkManage`\n",
    "    - `journalctl --list-boots`\n",
    "    - `journalctl -b <ID>`\n",
    "    - `journalctl -u <service-unit>`\n",
    "    - `journalctl -u ntp`\n",
    "- messages\n",
    "    - `/var/log/messages`\n",
    "- dmesg\n",
    "    - `dmesg`\n",
    "- secure\n",
    "    - `/var/log/secure`"
   ]
  },
  {
   "cell_type": "markdown",
   "metadata": {},
   "source": [
    "## Logging System"
   ]
  },
  {
   "cell_type": "code",
   "execution_count": null,
   "metadata": {},
   "outputs": [],
   "source": []
  },
  {
   "cell_type": "markdown",
   "metadata": {},
   "source": [
    "# Bash Scripting"
   ]
  },
  {
   "cell_type": "markdown",
   "metadata": {},
   "source": [
    "## Terms"
   ]
  },
  {
   "cell_type": "markdown",
   "metadata": {},
   "source": [
    "- Keywords\n",
    "    ```bash\n",
    "    !    {    }    [[    ]]\n",
    "    if   then elif else  fi\n",
    "    for  do  while until  done\n",
    "    select   in  case  esac\n",
    "    function time\n",
    "    ```"
   ]
  },
  {
   "cell_type": "markdown",
   "metadata": {},
   "source": [
    "## Environments"
   ]
  },
  {
   "cell_type": "markdown",
   "metadata": {},
   "source": [
    "### Config File"
   ]
  },
  {
   "cell_type": "markdown",
   "metadata": {},
   "source": [
    "- Location\n",
    "    - `/etc/shells`\n",
    "    - `/etc/bashrc`\n",
    "    - `/etc/profile.d`\n",
    "    - `~/.bashrc`\n",
    "    - `~/.bash_profile`\n",
    "        - `alias name='<commandlet>'`\n",
    "    - `~/.bash_history`"
   ]
  },
  {
   "cell_type": "markdown",
   "metadata": {},
   "source": [
    "## Shell Runtime"
   ]
  },
  {
   "cell_type": "markdown",
   "metadata": {},
   "source": [
    "- Envrionment Variables\n",
    "    - `$HOME`\n",
    "    - `$SHELLOPTS`\n",
    "    - `$$`: shell PID\n",
    "    - `$?`: Exit Code\n",
    "        - 0: no error\n",
    "        - 1: minor error\n",
    "        - 2: serious error\n",
    "        - 3-255: other error\n",
    "\n",
    "- shopt : shell options\n",
    "    - `shopt -u -o nounset`\n",
    "    - `-u`: unset\n",
    "    - `-s`: set\n",
    "    \n",
    "- getopt: get options\n",
    "\n",
    "- alias\n",
    "\n",
    "- export\n",
    "    - `export ENV_VAR='VALUE'`\n",
    "    \n",
    "- history\n",
    "    - `history`\n",
    "    - `history <num_offset>`\n",
    "    - `!4`"
   ]
  },
  {
   "cell_type": "markdown",
   "metadata": {},
   "source": [
    "- exit\n",
    "    - `exit CODE`\n",
    "    \n",
    "- `:` - Null command\n",
    "\n",
    "- `type CMD`: check cmd types\n"
   ]
  },
  {
   "cell_type": "markdown",
   "metadata": {},
   "source": [
    "## IOs, Redirection and Pipeline"
   ]
  },
  {
   "cell_type": "markdown",
   "metadata": {},
   "source": [
    "- read\n",
    "    - `read -p \"Enter name:\" name`\n",
    "    - `read -t 60 -p \"Enter name:\" name`: timeout seconds\n",
    "    - `read -n 10 -p \"Enter name:\" name`: number of characters\n",
    "- echo \n",
    "    - `echo 'hello world'`\n",
    "    - `echo -e 'hello\\n world'`\n",
    "        - escaping char interpret"
   ]
  },
  {
   "cell_type": "markdown",
   "metadata": {},
   "source": [
    "- FD 0: stdin\n",
    "- FD 1: stdout\n",
    "- FD 2: stderr\n",
    "- `>`: output overwrite\n",
    "    - `2> listorders_errors.txt`\n",
    "    - `bash listorders.sh &> listorders_errors.txt`\n",
    "    - `bash listorders.sh > listorders_errors.txt >&2`: \n",
    "        - redirection order: left to right        \n",
    "- `>>`: output append\n",
    "- `2>` : redirect stderr\n",
    "- `&>` : redirect both stderr and stdout\n",
    "- `1>&2`: redirect stdout to stderr\n",
    "- `2>&1`: redirect stderr to stdout\n",
    "- `<`: input redirect\n",
    "- `<<`\n",
    "- `<<EOF`: ending indicator"
   ]
  },
  {
   "cell_type": "markdown",
   "metadata": {},
   "source": [
    "## Parameters and Subshell"
   ]
  },
  {
   "cell_type": "markdown",
   "metadata": {},
   "source": [
    "### Parameters"
   ]
  },
  {
   "cell_type": "markdown",
   "metadata": {},
   "source": [
    "- Positional Parameters\n",
    "    - `$0`: \n",
    "        - script name\n",
    "        - `declare -rx SCRIPT=${0##*/}`\n",
    "    - `$#`\n",
    "        - parameter numbers exclude script \n",
    "    - `$1 ... $9`\n",
    "        - positional parameters\n",
    "    - `$@`\n",
    "        - all positional parameters\n",
    "        - always separates the parameters by spaces \n",
    "        - treats the parameters as individual items, even when they are enclosed in double quotes\n",
    "    - `$*`\n",
    "        - all positional parameters\n",
    "        - separated by the first character of the IFS variable\n",
    "        - by spaces if IFS is empty, \n",
    "        - without anything when IFS is unset.\n",
    "        - treats the set of parameters as a single group.\n",
    "\n",
    "- shift\n",
    "    - `shift`\n",
    "        - positional parameter number down by 1\n",
    "    - `shift N`\n",
    "        - positional parameter number down by N\n",
    "        \n",
    "- set\n",
    "    - `set pos1 pos2 ...`\n",
    "        - set positional parameters from 1 to ..."
   ]
  },
  {
   "cell_type": "markdown",
   "metadata": {},
   "source": [
    "### Arguments"
   ]
  },
  {
   "cell_type": "markdown",
   "metadata": {},
   "source": [
    "- xargs\n",
    "    - `cat file.txt | xargs`\n",
    "    - `echo 1 2 3 4 5 6 7 8 9 10 | xargs -n 3`\n",
    "    - `echo \"splitXsplitXsplitXsplit\" | xargs -d X`\n",
    "    - `cat args.txt | xargs -I {} ./cecho.sh -p {} -l`\n",
    "    ```bash\n",
    "    #!/bin/bash\n",
    "    #Filename: cecho.sh\n",
    "    echo $*\n",
    "    ```"
   ]
  },
  {
   "cell_type": "markdown",
   "metadata": {},
   "source": [
    "## Variable, Expression and Statement"
   ]
  },
  {
   "cell_type": "markdown",
   "metadata": {},
   "source": [
    "- shebang\n",
    "    - `#!/bin/bash`\n",
    "- comments\n",
    "    - `# comments line`"
   ]
  },
  {
   "cell_type": "markdown",
   "metadata": {},
   "source": [
    "- Script Structure\n",
    "    ```bash\n",
    "    #!/bin/bash\n",
    "    \n",
    "    # Global Declarations Section\n",
    "    \n",
    "    # Sanity Checks Section\n",
    "    \n",
    "    # Main Script Section\n",
    "    \n",
    "    # Cleanup Section  \n",
    "    ```"
   ]
  },
  {
   "cell_type": "markdown",
   "metadata": {},
   "source": [
    "### Shell Quoting"
   ]
  },
  {
   "cell_type": "markdown",
   "metadata": {},
   "source": [
    "Quoting\n",
    "Quoting is used to shield the shell's metacharacters from interpretation.\n",
    "Backslash\n",
    "The backslash will shield any single character it precedes.\n",
    "Single forward quote\n",
    "All characters enclosed between a pair of single forward quotes are shielded - apart from\n",
    "the ' character itself!\n",
    "Double quotes\n",
    "All the characters enclosed between a pair of double quotes are shielded except for $ ` \\\n",
    "and \""
   ]
  },
  {
   "cell_type": "markdown",
   "metadata": {},
   "source": [
    "### Command Substitution"
   ]
  },
  {
   "cell_type": "markdown",
   "metadata": {},
   "source": [
    "- ``` `command` ```\n",
    "    - Command enclosed by backquotes are run by the shell \n",
    "    - Command outputs replaced command text.\n",
    "    - Newlines in the output replaced by spaces.\n",
    "\n",
    "- ```  $(command) ``` in bash only\n",
    "    - `echo \"Today's date is $(date)\"`\n"
   ]
  },
  {
   "cell_type": "markdown",
   "metadata": {},
   "source": [
    "### Variable Expression"
   ]
  },
  {
   "cell_type": "markdown",
   "metadata": {},
   "source": [
    "- Variable Token\n",
    "    - `[:alphabetic:][a-zA-Z0-9_]*`\n",
    "- Variable\n",
    "    - `declare VAR`\n",
    "    - `declare VAR=0`\n",
    "    - `unset VAR`\n",
    "    ```bash\n",
    "    VAR='string'\n",
    "    \"${VAR}\"\n",
    "    ```\n",
    "    \n",
    "- Array\n",
    "    - `declare -a ARR`\n",
    "    ```bash\n",
    "    ARR=(1,2,3,4)\n",
    "    ARR=()\n",
    "    ARR[0]=32\n",
    "    \"${ARR[*]}\"    \n",
    "    \"${ARR[@]}\"\n",
    "    ```\n",
    "- Associative Array\n",
    "    - `declare -A AARR`\n",
    "    ```bash\n",
    "    ARR[key1]=\"value1\"\n",
    "    \"${ARR[key1]}\"  \n",
    "    \"${ARR[@]}\"\n",
    "    ```\n",
    " \n",
    " ---\n",
    "    \n",
    "- Default Values\n",
    "    - `${var}`  \n",
    "        - same as `$var`  \n",
    "    - `${var-default}`  \n",
    "        - If var not set produces default otherwise `$var`\n",
    "    - `${var=default}`\n",
    "        - Same as above only var also set to \"default\"\n",
    "    - `${var?message}`\n",
    "         - `$var` if var set else print \"message\" and exit"
   ]
  },
  {
   "cell_type": "markdown",
   "metadata": {},
   "source": [
    "### Arithmetic Expression"
   ]
  },
  {
   "cell_type": "markdown",
   "metadata": {},
   "source": [
    "- declare\n",
    "    - `declare -i SUM=0`\n",
    "    - `SUM=SUM+5`    \n",
    "\n",
    "- expr\n",
    "    - ``` `expr  $1 \\* $2` ```\n",
    "\n",
    "- let\n",
    "    - `let \"SUM=5 + 5\"`\n",
    "    - `let \"SUM=$SUM+5\"`\n",
    "    \n",
    "- embedded let: `$((  ...  ))`\n",
    "    - `res=$(( 3*4 ))`\n",
    "\n",
    "- test\n",
    "    - `test \"$RESULT\" -gt 20`\n",
    "        - `n1 -eq n2` \n",
    "        - `n1 -ne n2`\n",
    "        - `n1 -lt n2`\n",
    "        - `n1 -le n2`\n",
    "        - `n1 -gt n2`\n",
    "        - `n1 -ge n2`        \n",
    "- Operators\n",
    "    - `+, -`\n",
    "    - `+, -, *, /, %`\n",
    "    - `=, +=, -=, *=, /=, %=`"
   ]
  },
  {
   "cell_type": "markdown",
   "metadata": {},
   "source": [
    "### File Test Expressioin"
   ]
  },
  {
   "cell_type": "markdown",
   "metadata": {},
   "source": [
    "- test\n",
    "    - `if test <testing-condition>; then ...`\n",
    "    - `if [ <testing-condition> ]; then ...`\n",
    "    - `if [[ <testing-condition> ]]; then ...`"
   ]
  },
  {
   "cell_type": "markdown",
   "metadata": {},
   "source": [
    "- file test\n",
    "    - ` test -f FILE`\n",
    "        - `-b file`: True if the file is a block device file\n",
    "        - `-c file`: True if the file is a character device file\n",
    "        - `-d file`: True if the file is a directory\n",
    "        - `-e file`: True if the file exists\n",
    "        - `-f file`: True if the file exists and is a regular file\n",
    "        - `-g file`: True if the file has the set-group-id permission set\n",
    "        - `-h|-L file`: True if the file is a symbolic link\n",
    "        - `-k file`: True if the file has the sticky permission bit set\n",
    "        - `-p file`: True if the file is a pipe\n",
    "        - `-r file`: True if the file is readable (by your script)\n",
    "        - `-s file`: True if the file exists and is not empty\n",
    "        - `-S file`: True if the file is a socket\n",
    "        - `-t fd`: True if the file descriptor is opened on a terminal\n",
    "        - `-u file`: True if the file has the set-user-id permission set\n",
    "        - `-w file`: True if the file is writable (by your script)\n",
    "        - `-x file`: True if the file is executable (by your script)\n",
    "        - `-O file`: True if the file is (effectively) owned by you\n",
    "        - `-G file`: True if the file is (effectively) owned by your group\n",
    "        - `-N file`: True if the file has new content (since the last time it was read)\n",
    "        - `f1 -nt f2`: (newer than) True if file f1 is newer than f2\n",
    "        - `f1 -ot f2`: (older than) True if file f1 is older than f2\n",
    "        - `f1 -ef f2`: (equivalent file) True if file f1 is a hard link to f2\n",
    "    ```"
   ]
  },
  {
   "cell_type": "markdown",
   "metadata": {},
   "source": [
    "- string test\n",
    "    - `if [ -z \"$STR\" ]`\n",
    "        - `-z s`: (zero length) True if the string is empty\n",
    "        - `-n s`: (not null) True if the string is not empty\n",
    "        - `s1 = s2`: True if string s1 is equal to s2\n",
    "        - `s1 != s2`: True if string s1 is not equal to s2\n",
    "        - `s1 < s2`: True if string s1 is less than s2\n",
    "        - `s1 > s2`: True if string s1 is greater than s2"
   ]
  },
  {
   "cell_type": "markdown",
   "metadata": {},
   "source": [
    "### Logical Expression"
   ]
  },
  {
   "cell_type": "markdown",
   "metadata": {},
   "source": [
    "- not\n",
    "    - `!`\n",
    "- and\n",
    "    - `&&`\n",
    "- or\n",
    "    - `||`"
   ]
  },
  {
   "cell_type": "markdown",
   "metadata": {},
   "source": [
    "### Condition Expression"
   ]
  },
  {
   "cell_type": "markdown",
   "metadata": {},
   "source": [
    "- `let “RESULT=VALUE > 1 ? 1 : 0”`"
   ]
  },
  {
   "cell_type": "markdown",
   "metadata": {},
   "source": [
    "### Comparison Expression"
   ]
  },
  {
   "cell_type": "markdown",
   "metadata": {},
   "source": [
    "- Operator\n",
    "    - `[  ]`\n",
    "    - `[[  ]]`\n",
    "    - `test <testing-condition>`\n",
    "- String Comparison\n",
    "    - `>, >=, <, <=, ==, !=`\n",
    "    \n",
    "- Arithematic Comparison\n",
    "    - `n1 -eq n2` \n",
    "    - `n1 -ne n2`\n",
    "    - `n1 -lt n2`\n",
    "    - `n1 -le n2`\n",
    "    - `n1 -gt n2`\n",
    "    - `n1 -ge n2`     \n",
    "    \n",
    "- File Comparison\n",
    "    - `f1 -nt f2`: (newer than) True if file f1 is newer than f2\n",
    "    - `f1 -ot f2`: (older than) True if file f1 is older than f2\n",
    "    - `f1 -ef f2`: (equivalent file) True if file f1 is a hard link to f2"
   ]
  },
  {
   "cell_type": "markdown",
   "metadata": {},
   "source": [
    "### Bitwise Expression"
   ]
  },
  {
   "cell_type": "markdown",
   "metadata": {},
   "source": [
    "- Operators\n",
    "    - `~`\n",
    "    - `<<, >>`\n",
    "    - `&, |, ^`\n",
    "    - `&=, |=, ^=, <<=, >>=`"
   ]
  },
  {
   "cell_type": "markdown",
   "metadata": {},
   "source": [
    "### Commands Expression"
   ]
  },
  {
   "cell_type": "markdown",
   "metadata": {},
   "source": [
    "- test\n",
    "\n",
    "- let\n",
    "\n",
    "- Embedded let\n",
    "    - `for (( COUNTER=1; COUNTER<10; COUNTER++ ))`\n",
    "\n",
    "- Grouping Commands\n",
    "    - `{ ... }`\n",
    "   "
   ]
  },
  {
   "cell_type": "markdown",
   "metadata": {},
   "source": [
    "### Compound Commands"
   ]
  },
  {
   "cell_type": "markdown",
   "metadata": {},
   "source": [
    "-     ```bash\n",
    "    cmd1; cmd2; cmd3\n",
    "    cmd1 && cmd2 && cmd3\n",
    "    cmd1 || cmd2 || cmd3\n",
    "    ```"
   ]
  },
  {
   "cell_type": "markdown",
   "metadata": {},
   "source": [
    "### Substitution Expression"
   ]
  },
  {
   "cell_type": "markdown",
   "metadata": {},
   "source": []
  },
  {
   "cell_type": "markdown",
   "metadata": {},
   "source": [
    "### Expansion Expression"
   ]
  },
  {
   "cell_type": "markdown",
   "metadata": {},
   "source": [
    "- Brace Expansion\n",
    "    - `touch file.{1..100}.{.txt,.png}`\n",
    "    - `echo {a..Z}`\n",
    "- Pathname tilde expansion\n",
    "- Pathname expansion\n",
    "- Word splitting\n",
    "- Dollar expansion\n",
    "- Variable expansion\n",
    "    - in string: `\"${Var}\"`\n",
    "    - in Arithmetic: `$(( $(var) + 1 ))`\n",
    "- Arithmetic expressions\n",
    "- Command substitution"
   ]
  },
  {
   "cell_type": "markdown",
   "metadata": {},
   "source": [
    "### Pattern"
   ]
  },
  {
   "cell_type": "markdown",
   "metadata": {},
   "source": [
    "- Globbing Chars\n",
    "    - `?(pattern-list)`: Matches zero or one occurrence of the given patterns\n",
    "    - `*(pattern-list)`: Matches zero or more occurrences of the given patterns\n",
    "    - `+(pattern-list)`: Matches one or more occurrences of the given patterns\n",
    "    - `@(pattern-list)`: Matches exactly one of the given patterns\n",
    "    - `!(pattern-list)`: Matches anything except one of the given patterns\n",
    "\n",
    "---\n",
    "\n",
    "- Character classes\n",
    "    - `[:alnum:]`: Alphanumeric\n",
    "    - `[:alpha:]`: Alphabetic\n",
    "    - `[:ascii:]`: ASCII characters\n",
    "    - `[:blank:]`: Space or tab\n",
    "    - `[:cntrl:]`: Control characters\n",
    "    - `[:digit:]`: Decimal digits\n",
    "    - `[:graph:]`: Non-blank characters\n",
    "    - `[:lower:]`: Lowercase characters\n",
    "    - `[:print:]`: Non-control characters\n",
    "    - `[:punct:]`: Punctuation characters\n",
    "    - `[:space:]`: Whitespace\n",
    "    - `[:upper:]`: Uppercase characters\n",
    "    - `[:xdigit:]`: Hexadecimal digits"
   ]
  },
  {
   "cell_type": "markdown",
   "metadata": {},
   "source": []
  },
  {
   "cell_type": "markdown",
   "metadata": {},
   "source": [
    "- `${VAR%.*}` / `${VAR%%*.}`\n",
    "    - Remove the string match from the $VAR for the wildcard pattern that appears to the right-hand side of %.\n",
    "    - % is non-greedy match\n",
    "    - %% is greedy match\n",
    "\n",
    "- `${VAR#*.}` / `${VAR##*.}`\n",
    "    - Remove the string match from $VARIABLE for the wildcard pattern match appears to the right-hand side of the # .\n",
    "    - `#` is non-greedy match\n",
    "    - `##` is greedy match\n",
    "\n",
    "    ```\n",
    "      file_jpg=\"aaa.bbb.ccc.sample.jpg\"\n",
    "      name=${file_jpg%.*}\n",
    "      \n",
    "      extension=${file_jpg#*.}\n",
    "    ```"
   ]
  },
  {
   "cell_type": "markdown",
   "metadata": {},
   "source": [
    "## Flow Control"
   ]
  },
  {
   "cell_type": "markdown",
   "metadata": {},
   "source": [
    "### Branch"
   ]
  },
  {
   "cell_type": "markdown",
   "metadata": {},
   "source": [
    "- condition expressions\n",
    "    ```bash\n",
    "    ( expression )\n",
    "    Returns the value of expression. This may be used to override the normal precedence of operators.\n",
    "\n",
    "    ! expression\n",
    "    True if expression is false.\n",
    "\n",
    "    expression1 && expression2\n",
    "    True if both expression1 and expression2 are true.\n",
    "\n",
    "    expression1 || expression2\n",
    "    True if either expression1 or expression2 is true.\n",
    "    ```"
   ]
  },
  {
   "cell_type": "markdown",
   "metadata": {},
   "source": [
    "- if-then-elif-then-else-fi\n",
    "    ```bash\n",
    "    if test-commands; then\n",
    "        consequent-commands;\n",
    "    [elif more-test-commands; then\n",
    "        more-consequents;]\n",
    "    [else alternate-consequents;]\n",
    "    fi\n",
    "    ```"
   ]
  },
  {
   "cell_type": "markdown",
   "metadata": {},
   "source": [
    "- case-in-esac\n",
    "    ```bash\n",
    "    case word in\n",
    "        [ [(] pattern [| pattern]…) command-list ;;]…\n",
    "    esac\n",
    "    \n",
    "    case $ANIMAL in\n",
    "        horse | dog | cat) echo -n \"four\";;\n",
    "        man | kangaroo ) echo -n \"two\";;\n",
    "        *) echo -n \"an unknown number of\";;\n",
    "    esac\n",
    "    ```"
   ]
  },
  {
   "cell_type": "markdown",
   "metadata": {},
   "source": [
    "- select-do-done\n",
    "    - `select name [in words …]; do commands; done`\n",
    "    ```bash\n",
    "    select fname in *;\n",
    "    do\n",
    "        echo you picked $fname \\($REPLY\\)\n",
    "        break;\n",
    "    done\n",
    "    ```"
   ]
  },
  {
   "cell_type": "markdown",
   "metadata": {},
   "source": [
    "### Loop"
   ]
  },
  {
   "cell_type": "markdown",
   "metadata": {},
   "source": [
    "- until-do-done\n",
    "    - `until test-commands; do consequent-commands; done`\n",
    "- while-do-done\n",
    "    - `while test-commands; do consequent-commands; done`\n",
    "- for-do-done-string\n",
    "    - `for name [ [in [words …] ] ; ] do commands; done`\n",
    "- for-do-done-expr\n",
    "    - `for (( expr1 ; expr2 ; expr3 )) ; do commands ; done`\n",
    "    "
   ]
  },
  {
   "cell_type": "markdown",
   "metadata": {},
   "source": [
    "### Jump"
   ]
  },
  {
   "cell_type": "markdown",
   "metadata": {},
   "source": [
    "- exit\n",
    "    - `exit EXIT_CODE`\n",
    "- break\n",
    "- continue"
   ]
  },
  {
   "cell_type": "markdown",
   "metadata": {},
   "source": [
    "### Parallel"
   ]
  },
  {
   "cell_type": "markdown",
   "metadata": {},
   "source": [
    "- copro"
   ]
  },
  {
   "cell_type": "markdown",
   "metadata": {},
   "source": [
    "##  Function"
   ]
  },
  {
   "cell_type": "markdown",
   "metadata": {},
   "source": [
    "- Function Define\n",
    "    ```bash\n",
    "    cmd1; cmd2; cmd3\n",
    "    cmd1 && cmd2 && cmd3\n",
    "    cmd1 || cmd2 || cmd3\n",
    "    ```"
   ]
  },
  {
   "cell_type": "markdown",
   "metadata": {},
   "source": [
    "# Domains"
   ]
  },
  {
   "cell_type": "markdown",
   "metadata": {},
   "source": [
    "## Text Stream"
   ]
  },
  {
   "cell_type": "markdown",
   "metadata": {},
   "source": [
    "- cat\n",
    "    - `cat /dev/urandom`\n",
    "- head\n",
    "    - `head -n 5 file`\n",
    "- tail\n",
    "    - `tail -n 5 file`\n",
    "    - `tail -n +5 <file>`\n",
    "- yes\n",
    "    - `yes <string>`"
   ]
  },
  {
   "cell_type": "markdown",
   "metadata": {},
   "source": [
    "- grep: gloal regex print\n",
    "    - `grep KEYWORD <filename>`\n",
    "    - `grep -i KEYWORD <filename>`: case-insensitive\n",
    "    - `grep -v KEYWORD <filename>`: reverse result\n",
    "    \n",
    "- sed\n",
    "    - `sed 'ADDRESSs/REGEXP/REPLACEMENT/FLAGS' filename`\n",
    "    - `sed 'PATTERNs/REGEXP/REPLACEMENT/FLAGS' filename`\n",
    "        - g Replace all the instance of REGEXP with REPLACEMENT\n",
    "        - n Could be any number,replace nth instance of the REGEXP with REPLACEMENT.\n",
    "        - p If substitution was made, then prints the new pattern space.\n",
    "        - i match REGEXP in a case-insensitive manner.\n",
    "        - w file If substitution was made, write out the result to the given file.\n",
    "    - `sed '=' myfile`: pirnt line number\n",
    "    - `sed -i 's/foo/linux/g' file.txt`: edit inplace\n",
    "    - `echo \"Welcome to LikeGeeks page\" | sed 's/page/website/'`\n",
    "    - `sed -e 's/This/That/; s/test/another test/' myfile`\n",
    "    - `sed -f mycommands myfile`\n",
    "    - `sed 's/test/another test/2' myfile`\n",
    "    - `sed 's/test/another test/g' myfile`\n",
    "    - `sed -n 's/test/another test/p' myfile`\n",
    "    - `sed -n 's/test/another test/w output.txt' myfile`\n",
    "    - `sed '2,3s/test/another test/' myfile`\n",
    "    - `sed '2,$s/test/another test/' myfile` : end of lines\n",
    "    - `sed '/likegeeks/s/bash/csh/' /etc/passwd`: pattern\n",
    "    - `sed '/second/,/fourth/d' myfile`: delete a range lines\n",
    "    - `echo \"Another test\" | sed 'i\\First test '` : insert\n",
    "    - `echo \"Another test\" | sed 'a\\First test '` : append\n",
    "    - `sed '2i\\This is the inserted line.' myfile`: insert at 2ed line\n",
    "    - `sed '3c\\This is a modified line.' myfile`: change 3ed line\n",
    "    - `sed '/This is/c Line updated.' myfile`: update matched lines\n",
    "    - `sed 'y/123/567/' myfile`: transforming\n",
    "\n",
    "    \n",
    "- awk\n",
    "    - `awk '{print $1}'`\n",
    "\n",
    "- cut"
   ]
  },
  {
   "cell_type": "markdown",
   "metadata": {},
   "source": [
    "- sort\n",
    "    - `sort file1.txt file2.txt > sorted.txt`\n",
    "    - `sort -n file.txt`: by numeric\n",
    "    - `sort -r file.txt`: reverse\n",
    "    - `sort -M months.txt`: by Month\n",
    "    - `sort -m sorted1 sorted2`: merge sorted\n",
    "    - `sort -nk 1 data.txt`: by key position\n",
    "    - `sort -z data.txt | xargs -0`: zero terminator \n",
    "- uniq\n",
    "    - `sort file1.txt file2.txt | uniq`\n",
    "    - `uniq -u sorted.txt`: show only unique lines\n",
    "    - `uniq -d sorted.txt`: show only duplicated lines\n",
    "    - `uniq -c sorted.txt`: count unique lines\n",
    "    - `sort data.txt | uniq -s 2 -w 2`: unique by key position, skip 2 chars, width 2 chars"
   ]
  },
  {
   "cell_type": "markdown",
   "metadata": {},
   "source": [
    "- mktemp\n",
    "    - filename=\\``mktemp`\\`\n",
    "    - dirname=\\``mktemp -d`\\`\n",
    "    - tmpfile=\\``mktemp -u`\\`\n",
    "    - `mktemp pattern.XXX`\n",
    "- split\n",
    "    - `split -b 10k data.file`: alphabetic suffix\n",
    "    - `split -b 10k data.file -d -a 4`: digital suffix with length\n",
    "    - `split -b 10k data.file -d -a 4 PREFIX`: prefix\n",
    "    - `split -l 10 data.file`: splite with lines\n",
    "    - c: byte\n",
    "    - w: word\n",
    "    - k: kilobyte\n",
    "    - M: MB\n",
    "    - G: GB"
   ]
  },
  {
   "cell_type": "markdown",
   "metadata": {},
   "source": [
    "- comm\n",
    "    - `comm A.txt B.txt`: 3 columns, in A, in B, in Both\n",
    "    - `comm A.txt B.txt -1 -2`: 1 columns, remove column 1 and 2\n",
    "    - `comm A.txt B.txt -3`: 2 columns, remove column 3\n",
    "- diff\n",
    "    - `diff -Naur directory1 directory2`"
   ]
  },
  {
   "cell_type": "markdown",
   "metadata": {},
   "source": [
    "- translate\n",
    "    - `echo \"HELLO WHO IS THIS\" | tr 'A-Z' 'a-z'`\n",
    "    - `echo 12345 | tr '0-9' '9876543210'`\n",
    "    - `echo \"Hello 123 world 456\" | tr -d '0-9'`\n",
    "    - `echo \"Hello 123 world 456\" | tr -c '0-9' '#'`\n",
    "    - `echo \"Hello 123 world 456\" | tr -d -c '0-9'`\n",
    "    - `echo \"GNU is not UNIX. Recursive right ?\" | tr -s ' '`\n",
    "    - `cat multi_blanks.txt | tr -s '\\n'`\n",
    "    ```bash\n",
    "    tr [:class:] [:class:]\n",
    "    tr '[:lower:]' '[:upper:]'\n",
    "    \n",
    "    alnum: Alphanumeric characters\n",
    "    alpha: Alphabetic characters\n",
    "    cntrl: Control (nonprinting) characters\n",
    "    digit: Numeric characters\n",
    "    graph: Graphic characters\n",
    "    lower: Lowercase alphabetic characters\n",
    "    print: Printable characters\n",
    "    punct: Punctuation characters\n",
    "    space: Whitespace characters\n",
    "    upper: Uppercase characters\n",
    "    xdigit: Hexadecimal characters\n",
    "    ```"
   ]
  },
  {
   "cell_type": "markdown",
   "metadata": {},
   "source": [
    "## Regex"
   ]
  },
  {
   "cell_type": "markdown",
   "metadata": {},
   "source": [
    "### Overview"
   ]
  },
  {
   "cell_type": "markdown",
   "metadata": {},
   "source": [
    "- Char Classes\n",
    "    - Set\n",
    "    - Range\n",
    "    - Negated\n",
    "    - dot\n",
    "    - match any\n",
    "    - word\n",
    "    - digit\n",
    "    - whitespace\n",
    "    - unicode category\n",
    "    - unicode script\n",
    "- Anchor\n",
    "- Flags"
   ]
  },
  {
   "cell_type": "markdown",
   "metadata": {},
   "source": [
    "## SSH"
   ]
  },
  {
   "cell_type": "markdown",
   "metadata": {},
   "source": [
    "### SSH Client"
   ]
  },
  {
   "cell_type": "markdown",
   "metadata": {},
   "source": [
    "- Config\n",
    "  - /etc/ssh/ssh_config\n",
    "    - `ForwardAgent yes`\n",
    "    - `ForwardX11 yes`\n",
    "  - ~/.ssh/\n",
    "    - `mkdir -p ~/.ssh && chmod 700 ~/.ssh`\n",
    "  - ~/.ssh/config\n",
    "\n",
    "    - `touch ~/.ssh/config && chmod 600 ~/.ssh/config`\n",
    "    - config file template:\n",
    "\n",
    "      ```bash\n",
    "      #Server1 Config\n",
    "      Host SERVER\n",
    "          HostName SERVER_IP\n",
    "          User SERVER_USER\n",
    "          Port Server_PORT\n",
    "          IdentityFile ID_FILE\n",
    "      ```\n",
    "\n",
    "    - [Ref](https://www.cyberciti.biz/faq/create-ssh-config-file-on-linux-unix/)\n",
    "\n",
    "- ssh-keygen\n",
    "    - `ssh-keygen -t rsa -b 2048`\n",
    "    - `ssh-keygen -q -t rsa -b 4096 -f testkeygen -N \"\";`\n",
    "- ssh-agent and ssh-add\n",
    "    - ssh-agent is a background program that handles passwords for SSH private keys. \n",
    "    - The ssh-add command prompts the user for a private key password and adds it to the list maintained by ssh-agent. Once you add a password to ssh-agent, you will not be prompted for it when using SSH or scp to connect to hosts with your public key.\n",
    "    - `eval $(ssh-agent)`\n",
    "    - `ssh-add ID_FILE`\n",
    "    - `kill -9 $SSH_AGENT_PID`\n",
    "  \n",
    "- Private Key\n",
    "    - `cd ~/.ssh/; cp KEY_FILE .`\n",
    "    - `chmod 400 KEY_FILE`\n",
    "- Public Key\n",
    "    - `cat ~/.ssh/id_rsa.pub`"
   ]
  },
  {
   "cell_type": "markdown",
   "metadata": {},
   "source": [
    "- ssh\n",
    "    - `ssh user@host 'COMMANDS'`\n",
    "    - `ssh user@host \"command1 ; command2 ; command3\"`\n",
    "- port fowarding\n",
    "    - `ssh -L 8000:www.kernel.org:80 user@localhost`\n",
    "- scp\n",
    "    - `scp SOURCE DESTINATION`\n",
    "    - `scp -r /home/slynux user@remotehost:/home/backups`"
   ]
  },
  {
   "cell_type": "markdown",
   "metadata": {},
   "source": [
    "### SSH Server"
   ]
  },
  {
   "cell_type": "markdown",
   "metadata": {},
   "source": []
  },
  {
   "cell_type": "markdown",
   "metadata": {},
   "source": [
    "# End"
   ]
  },
  {
   "cell_type": "code",
   "execution_count": null,
   "metadata": {},
   "outputs": [],
   "source": []
  }
 ],
 "metadata": {
  "kernelspec": {
   "display_name": "Python 3",
   "language": "python",
   "name": "python3"
  },
  "language_info": {
   "codemirror_mode": {
    "name": "ipython",
    "version": 3
   },
   "file_extension": ".py",
   "mimetype": "text/x-python",
   "name": "python",
   "nbconvert_exporter": "python",
   "pygments_lexer": "ipython3",
   "version": "3.7.6"
  },
  "toc": {
   "base_numbering": 1,
   "nav_menu": {},
   "number_sections": true,
   "sideBar": true,
   "skip_h1_title": false,
   "title_cell": "Table of Contents",
   "title_sidebar": "Contents",
   "toc_cell": false,
   "toc_position": {
    "height": "calc(100% - 180px)",
    "left": "10px",
    "top": "150px",
    "width": "235.631px"
   },
   "toc_section_display": true,
   "toc_window_display": true
  }
 },
 "nbformat": 4,
 "nbformat_minor": 2
}
