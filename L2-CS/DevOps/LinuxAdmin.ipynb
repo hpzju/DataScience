{
 "cells": [
  {
   "cell_type": "markdown",
   "metadata": {},
   "source": [
    "# Ubuntu Admin"
   ]
  },
  {
   "cell_type": "markdown",
   "metadata": {},
   "source": [
    "## Install, Remove, Update, Upgrade"
   ]
  },
  {
   "cell_type": "markdown",
   "metadata": {},
   "source": [
    "- Commands\n",
    "  - `sudo apt update`\n",
    "  - `sudo apt upgrade -y`\n",
    "  - `sudo do-release-upgrade -d`\n",
    "  - `sudo apt autoremove -y`\n",
    "  - `sudo apt install PACKAGE`\n",
    "  - `sudo dpkg --configure -a`\n",
    "  - `sudo apt install --reinstall BROKEN_PACKAGE`\n",
    "- Config Files\n",
    "  - `/etc/apt/sources.list`"
   ]
  },
  {
   "cell_type": "markdown",
   "metadata": {},
   "source": [
    "## Identity and Privilege"
   ]
  },
  {
   "cell_type": "markdown",
   "metadata": {},
   "source": [
    "### run sudo command without a password\n",
    "\n",
    "- `sudo visudo`\n",
    "- `USER_NAME ALL=(ALL:ALL) NOPASSWD:ALL`\n",
    "  - The USER can execute from ALL terminals/hosts, acting as ALL (any) users, ALL(any) groups, and run ALL (any) command"
   ]
  },
  {
   "cell_type": "markdown",
   "metadata": {},
   "source": [
    "## File System"
   ]
  },
  {
   "cell_type": "markdown",
   "metadata": {},
   "source": [
    "### find, locate"
   ]
  },
  {
   "cell_type": "markdown",
   "metadata": {},
   "source": [
    "- by location/multi-location\n",
    "    - `find /home/USER1 /home/USER2 -type f -iname NAME`\n",
    "    - `find / -maxdepth 3 -type f -name NAME`\n",
    "- by name\n",
    "    - `find / -name NAME`\n",
    "    - `find / -iname NAME`\n",
    "    - `find / -name \"*.txt\"`\n",
    "- by path\n",
    "    - `find / -type f -not -path '*/\\.*'`\n",
    "- by type\n",
    "    - `find / -type f`\n",
    "    - `find / -type d`\n",
    "    - `find / -type d -empty`\n",
    "- by size\n",
    "    - `find / -type f -size +50k`\n",
    "    - `find / -type f -size -10k`\n",
    "    - `find / -type f -exec du -sh {} + | sort -n`\n",
    "    - `find / -type f -exec du -sh {} + | sort -nr`\n",
    "- by permission\n",
    "    - `find / -type f -perm 777`\n",
    "    - `find / -type f -perm 777 -exec ls -al {} +`\n",
    "- by time\n",
    "    - `find / -type f -mmin +2 -mmin -10`\n",
    "    - `find / -type f -mtime +1 -mtime -10`\n",
    "- by user/group\n",
    "    - `find / -type f -user USER`\n",
    "    - `find / -type f -group GROUP`"
   ]
  },
  {
   "cell_type": "markdown",
   "metadata": {},
   "source": [
    "- action\n",
    "    - `find . -print`\n",
    "    - `find . -type f -empty`\n",
    "    - `find . -type d -empty`\n",
    "    - `find . -type d -not -empty`\n",
    "    - `find / -type f -mtime -1 -delete`\n",
    "    - `find / -type f -mtime -1 -exec rm -rf {} +`\n",
    "    - `find / -type f -mtime -1 -exec cat {} +`\n",
    "    - `find / -type f -name NAME -exec mv -t ~ {} +`\n",
    "    - `find / -type f -name NAME -exec cp -t ~ {} +`"
   ]
  },
  {
   "cell_type": "markdown",
   "metadata": {},
   "source": []
  },
  {
   "cell_type": "markdown",
   "metadata": {},
   "source": [
    "## Logging System"
   ]
  },
  {
   "cell_type": "code",
   "execution_count": null,
   "metadata": {},
   "outputs": [],
   "source": []
  },
  {
   "cell_type": "markdown",
   "metadata": {},
   "source": [
    "# RE"
   ]
  },
  {
   "cell_type": "code",
   "execution_count": null,
   "metadata": {},
   "outputs": [],
   "source": []
  },
  {
   "cell_type": "code",
   "execution_count": null,
   "metadata": {},
   "outputs": [],
   "source": []
  },
  {
   "cell_type": "markdown",
   "metadata": {},
   "source": [
    "# Bash Scripting"
   ]
  },
  {
   "cell_type": "markdown",
   "metadata": {},
   "source": [
    "## Token and Variable"
   ]
  },
  {
   "cell_type": "markdown",
   "metadata": {},
   "source": [
    "## Streaming"
   ]
  },
  {
   "cell_type": "markdown",
   "metadata": {},
   "source": [
    "## Function"
   ]
  },
  {
   "cell_type": "markdown",
   "metadata": {},
   "source": [
    "# SSH"
   ]
  },
  {
   "cell_type": "markdown",
   "metadata": {},
   "source": [
    "## SSH Client"
   ]
  },
  {
   "cell_type": "markdown",
   "metadata": {},
   "source": [
    "- Config\n",
    "  - /etc/ssh/ssh_config\n",
    "    - `ForwardAgent yes`\n",
    "    - `ForwardX11 yes`\n",
    "  - ~/.ssh/\n",
    "    - `mkdir -p ~/.ssh && chmod 700 ~/.ssh`\n",
    "  - ~/.ssh/config\n",
    "\n",
    "    - `touch ~/.ssh/config && chmod 600 ~/.ssh/config`\n",
    "    - config file template:\n",
    "\n",
    "      ```bash\n",
    "      #Server1 Config\n",
    "      Host SERVER\n",
    "          HostName SERVER_IP\n",
    "          User SERVER_USER\n",
    "          Port Server_PORT\n",
    "          IdentityFile ID_FILE\n",
    "      ```\n",
    "\n",
    "    - [Ref](https://www.cyberciti.biz/faq/create-ssh-config-file-on-linux-unix/)\n",
    "\n",
    "- ssh-keygen\n",
    "    - `ssh-keygen -t rsa -b 2048`\n",
    "    - `ssh-keygen -q -t rsa -b 4096 -f testkeygen -N \"\";`\n",
    "- ssh-agent and ssh-add\n",
    "    - ssh-agent is a background program that handles passwords for SSH private keys. \n",
    "    - The ssh-add command prompts the user for a private key password and adds it to the list maintained by ssh-agent. Once you add a password to ssh-agent, you will not be prompted for it when using SSH or scp to connect to hosts with your public key.\n",
    "    - `eval $(ssh-agent)`\n",
    "    - `ssh-add ID_FILE`\n",
    "    - `kill -9 $SSH_AGENT_PID`\n",
    "  \n",
    "- Private Key\n",
    "    - `cd ~/.ssh/; cp KEY_FILE .`\n",
    "    - `chmod 400 KEY_FILE`\n",
    "- Public Key\n",
    "    - `cat ~/.ssh/id_rsa.pub`"
   ]
  },
  {
   "cell_type": "markdown",
   "metadata": {},
   "source": [
    "## SSH Server"
   ]
  },
  {
   "cell_type": "markdown",
   "metadata": {},
   "source": []
  },
  {
   "cell_type": "markdown",
   "metadata": {},
   "source": [
    "# End"
   ]
  },
  {
   "cell_type": "code",
   "execution_count": null,
   "metadata": {},
   "outputs": [],
   "source": []
  }
 ],
 "metadata": {
  "kernelspec": {
   "display_name": "Python 3",
   "language": "python",
   "name": "python3"
  },
  "language_info": {
   "codemirror_mode": {
    "name": "ipython",
    "version": 3
   },
   "file_extension": ".py",
   "mimetype": "text/x-python",
   "name": "python",
   "nbconvert_exporter": "python",
   "pygments_lexer": "ipython3",
   "version": "3.7.6"
  },
  "toc": {
   "base_numbering": 1,
   "nav_menu": {},
   "number_sections": true,
   "sideBar": true,
   "skip_h1_title": false,
   "title_cell": "Table of Contents",
   "title_sidebar": "Contents",
   "toc_cell": false,
   "toc_position": {
    "height": "calc(100% - 180px)",
    "left": "10px",
    "top": "150px",
    "width": "235.636px"
   },
   "toc_section_display": true,
   "toc_window_display": true
  }
 },
 "nbformat": 4,
 "nbformat_minor": 2
}
