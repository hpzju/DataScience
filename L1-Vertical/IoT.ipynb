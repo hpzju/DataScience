{
 "cells": [
  {
   "cell_type": "markdown",
   "metadata": {},
   "source": [
    "# Overveiw"
   ]
  },
  {
   "cell_type": "markdown",
   "metadata": {},
   "source": [
    "## MI"
   ]
  },
  {
   "cell_type": "markdown",
   "metadata": {},
   "source": [
    "- IVC\n",
    "    - <img style=\"-webkit-user-select: none;margin: auto;cursor: zoom-in;\" src=\"IoT-IVC.png\" width=\"550\" height=\"550\">"
   ]
  },
  {
   "cell_type": "markdown",
   "metadata": {},
   "source": [
    "- Market Segment\n",
    "    - <img style=\"-webkit-user-select: none;margin: auto;cursor: zoom-in;\" src=\"IoT-MKT-Segment.png\" width=\"550\" height=\"550\">"
   ]
  },
  {
   "cell_type": "markdown",
   "metadata": {},
   "source": [
    "- Vendor P&S\n",
    "    - Device hardware: Components used in machines and devices such as sensors and circuits to collect information\n",
    "    - Systems integration: Hardware and software to integrate different proprietary systems with each other and with open systems in order to increase interoperability\n",
    "    - Network connectivity: A host of established network technologies (such as Wi-Fi and Bluetooth) and emerging technologies (such as 5G and Low-Power, Wide-Area [LPWA]) for connectivity among different IoT devices12\n",
    "    - Platforms/applications/cloud solutions: Software solutions to facilitate integration of the other three elements in order to provide a secure user interface and drive on-ground applications; includes data aggregation, visualization, and security; analytics; and action management"
   ]
  },
  {
   "cell_type": "markdown",
   "metadata": {},
   "source": [
    "- Tech Domain\n",
    "    - <img style=\"-webkit-user-select: none;margin: auto;cursor: zoom-in;\" src=\"IoT-MI-TechDomain.png\" width=\"550\" height=\"550\">"
   ]
  },
  {
   "cell_type": "markdown",
   "metadata": {},
   "source": []
  },
  {
   "cell_type": "code",
   "execution_count": null,
   "metadata": {},
   "outputs": [],
   "source": []
  }
 ],
 "metadata": {
  "kernelspec": {
   "display_name": "Python 3",
   "language": "python",
   "name": "python3"
  },
  "language_info": {
   "codemirror_mode": {
    "name": "ipython",
    "version": 3
   },
   "file_extension": ".py",
   "mimetype": "text/x-python",
   "name": "python",
   "nbconvert_exporter": "python",
   "pygments_lexer": "ipython3",
   "version": "3.7.7"
  },
  "toc": {
   "base_numbering": 1,
   "nav_menu": {},
   "number_sections": true,
   "sideBar": true,
   "skip_h1_title": false,
   "title_cell": "Table of Contents",
   "title_sidebar": "Contents",
   "toc_cell": false,
   "toc_position": {},
   "toc_section_display": true,
   "toc_window_display": true
  }
 },
 "nbformat": 4,
 "nbformat_minor": 4
}
